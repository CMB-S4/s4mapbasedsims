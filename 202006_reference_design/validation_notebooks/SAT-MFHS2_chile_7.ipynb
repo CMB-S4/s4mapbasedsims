{
 "cells": [
  {
   "cell_type": "code",
   "execution_count": 1,
   "metadata": {
    "execution": {
     "iopub.execute_input": "2020-12-09T06:02:00.317961Z",
     "iopub.status.busy": "2020-12-09T06:02:00.317416Z",
     "iopub.status.idle": "2020-12-09T06:02:01.998100Z",
     "shell.execute_reply": "2020-12-09T06:02:01.998661Z"
    },
    "papermill": {
     "duration": 1.718416,
     "end_time": "2020-12-09T06:02:01.998958",
     "exception": false,
     "start_time": "2020-12-09T06:02:00.280542",
     "status": "completed"
    },
    "tags": []
   },
   "outputs": [],
   "source": [
    "import healpy as hp\n",
    "import numpy as np\n",
    "%matplotlib inline\n",
    "import matplotlib.pyplot as plt\n",
    "from pathlib import Path\n",
    "from astropy.tests.helper import assert_quantity_allclose\n",
    "import pickle\n",
    "import sys\n",
    "import os\n",
    "from astropy import units as u"
   ]
  },
  {
   "cell_type": "code",
   "execution_count": 2,
   "metadata": {
    "execution": {
     "iopub.execute_input": "2020-12-09T06:02:02.067713Z",
     "iopub.status.busy": "2020-12-09T06:02:02.067087Z",
     "iopub.status.idle": "2020-12-09T06:02:02.164576Z",
     "shell.execute_reply": "2020-12-09T06:02:02.163898Z"
    },
    "papermill": {
     "duration": 0.134279,
     "end_time": "2020-12-09T06:02:02.164726",
     "exception": false,
     "start_time": "2020-12-09T06:02:02.030447",
     "status": "completed"
    },
    "tags": []
   },
   "outputs": [],
   "source": [
    "import h5py\n",
    "s4 = h5py.File(\"cmbs4_tophat.h5\", mode=\"r\")"
   ]
  },
  {
   "cell_type": "code",
   "execution_count": 3,
   "metadata": {
    "execution": {
     "iopub.execute_input": "2020-12-09T06:02:02.232754Z",
     "iopub.status.busy": "2020-12-09T06:02:02.232066Z",
     "iopub.status.idle": "2020-12-09T06:02:02.234419Z",
     "shell.execute_reply": "2020-12-09T06:02:02.233705Z"
    },
    "papermill": {
     "duration": 0.037738,
     "end_time": "2020-12-09T06:02:02.234653",
     "exception": false,
     "start_time": "2020-12-09T06:02:02.196915",
     "status": "completed"
    },
    "tags": []
   },
   "outputs": [],
   "source": [
    "dataset = \"s4_reference_design_noise_atmo_7splits\""
   ]
  },
  {
   "cell_type": "code",
   "execution_count": 4,
   "metadata": {
    "execution": {
     "iopub.execute_input": "2020-12-09T06:02:02.298869Z",
     "iopub.status.busy": "2020-12-09T06:02:02.298305Z",
     "iopub.status.idle": "2020-12-09T06:02:02.301183Z",
     "shell.execute_reply": "2020-12-09T06:02:02.300589Z"
    },
    "papermill": {
     "duration": 0.036011,
     "end_time": "2020-12-09T06:02:02.301335",
     "exception": false,
     "start_time": "2020-12-09T06:02:02.265324",
     "status": "completed"
    },
    "tags": [
     "parameters"
    ]
   },
   "outputs": [],
   "source": [
    "ch = f\"SAT-HFS1_chile\"\n",
    "nsplits = 1"
   ]
  },
  {
   "cell_type": "code",
   "execution_count": 5,
   "metadata": {
    "execution": {
     "iopub.execute_input": "2020-12-09T06:02:02.362151Z",
     "iopub.status.busy": "2020-12-09T06:02:02.361593Z",
     "iopub.status.idle": "2020-12-09T06:02:02.364090Z",
     "shell.execute_reply": "2020-12-09T06:02:02.364549Z"
    },
    "papermill": {
     "duration": 0.034895,
     "end_time": "2020-12-09T06:02:02.364687",
     "exception": false,
     "start_time": "2020-12-09T06:02:02.329792",
     "status": "completed"
    },
    "tags": [
     "injected-parameters"
    ]
   },
   "outputs": [],
   "source": [
    "# Parameters\n",
    "ch = \"SAT-MFHS2_chile\"\n",
    "nsplits = 7\n"
   ]
  },
  {
   "cell_type": "code",
   "execution_count": 6,
   "metadata": {
    "execution": {
     "iopub.execute_input": "2020-12-09T06:02:02.423508Z",
     "iopub.status.busy": "2020-12-09T06:02:02.422981Z",
     "iopub.status.idle": "2020-12-09T06:02:02.425570Z",
     "shell.execute_reply": "2020-12-09T06:02:02.426300Z"
    },
    "papermill": {
     "duration": 0.033998,
     "end_time": "2020-12-09T06:02:02.426565",
     "exception": false,
     "start_time": "2020-12-09T06:02:02.392567",
     "status": "completed"
    },
    "tags": []
   },
   "outputs": [],
   "source": [
    "if os.path.exists(f\"plots/C_ell_{dataset}_{ch}_{nsplits}.png\"):\n",
    "    sys.exit(0)"
   ]
  },
  {
   "cell_type": "code",
   "execution_count": 7,
   "metadata": {
    "execution": {
     "iopub.execute_input": "2020-12-09T06:02:02.489004Z",
     "iopub.status.busy": "2020-12-09T06:02:02.488440Z",
     "iopub.status.idle": "2020-12-09T06:02:02.491507Z",
     "shell.execute_reply": "2020-12-09T06:02:02.490983Z"
    },
    "papermill": {
     "duration": 0.034455,
     "end_time": "2020-12-09T06:02:02.491651",
     "exception": false,
     "start_time": "2020-12-09T06:02:02.457196",
     "status": "completed"
    },
    "tags": []
   },
   "outputs": [],
   "source": [
    "sampling_frequency = dict(SAT=100*u.Hz, LAT=400*u.Hz)"
   ]
  },
  {
   "cell_type": "code",
   "execution_count": 8,
   "metadata": {
    "execution": {
     "iopub.execute_input": "2020-12-09T06:02:02.551626Z",
     "iopub.status.busy": "2020-12-09T06:02:02.551027Z",
     "iopub.status.idle": "2020-12-09T06:02:02.553932Z",
     "shell.execute_reply": "2020-12-09T06:02:02.553346Z"
    },
    "papermill": {
     "duration": 0.034096,
     "end_time": "2020-12-09T06:02:02.554035",
     "exception": false,
     "start_time": "2020-12-09T06:02:02.519939",
     "status": "completed"
    },
    "tags": []
   },
   "outputs": [],
   "source": [
    "#telescope = \"SAT\"\n",
    "#channel = \"LFS1\"\n",
    "#site = \"pole\""
   ]
  },
  {
   "cell_type": "code",
   "execution_count": 9,
   "metadata": {
    "execution": {
     "iopub.execute_input": "2020-12-09T06:02:02.609159Z",
     "iopub.status.busy": "2020-12-09T06:02:02.608615Z",
     "iopub.status.idle": "2020-12-09T06:02:02.611542Z",
     "shell.execute_reply": "2020-12-09T06:02:02.611054Z"
    },
    "papermill": {
     "duration": 0.031643,
     "end_time": "2020-12-09T06:02:02.611658",
     "exception": false,
     "start_time": "2020-12-09T06:02:02.580015",
     "status": "completed"
    },
    "tags": []
   },
   "outputs": [],
   "source": [
    "telescope = ch.split(\"-\")[0]\n",
    "channel, site= ch.split(\"-\")[1].split(\"_\")"
   ]
  },
  {
   "cell_type": "code",
   "execution_count": 10,
   "metadata": {
    "execution": {
     "iopub.execute_input": "2020-12-09T06:02:02.674040Z",
     "iopub.status.busy": "2020-12-09T06:02:02.673487Z",
     "iopub.status.idle": "2020-12-09T06:02:02.675558Z",
     "shell.execute_reply": "2020-12-09T06:02:02.675992Z"
    },
    "papermill": {
     "duration": 0.035275,
     "end_time": "2020-12-09T06:02:02.676144",
     "exception": false,
     "start_time": "2020-12-09T06:02:02.640869",
     "status": "completed"
    },
    "tags": []
   },
   "outputs": [],
   "source": [
    "local_path = Path(\"output\")\n",
    "project_path = Path(\"/global/project/projectdirs/cmbs4/dm/dstool/output/\")"
   ]
  },
  {
   "cell_type": "code",
   "execution_count": 11,
   "metadata": {
    "execution": {
     "iopub.execute_input": "2020-12-09T06:02:02.736901Z",
     "iopub.status.busy": "2020-12-09T06:02:02.736362Z",
     "iopub.status.idle": "2020-12-09T06:02:02.750913Z",
     "shell.execute_reply": "2020-12-09T06:02:02.750326Z"
    },
    "papermill": {
     "duration": 0.046404,
     "end_time": "2020-12-09T06:02:02.751029",
     "exception": false,
     "start_time": "2020-12-09T06:02:02.704625",
     "status": "completed"
    },
    "tags": []
   },
   "outputs": [],
   "source": [
    "C_ell = pickle.load(open(local_path / dataset / f\"C_ell_{telescope}_{nsplits}.pkl\", \"rb\"))"
   ]
  },
  {
   "cell_type": "code",
   "execution_count": 12,
   "metadata": {
    "execution": {
     "iopub.execute_input": "2020-12-09T06:02:02.812453Z",
     "iopub.status.busy": "2020-12-09T06:02:02.811924Z",
     "iopub.status.idle": "2020-12-09T06:02:02.815497Z",
     "shell.execute_reply": "2020-12-09T06:02:02.814958Z"
    },
    "papermill": {
     "duration": 0.037002,
     "end_time": "2020-12-09T06:02:02.815631",
     "exception": false,
     "start_time": "2020-12-09T06:02:02.778629",
     "status": "completed"
    },
    "tags": []
   },
   "outputs": [
    {
     "data": {
      "text/plain": [
       "('SAT', 'MFHS2', 'chile')"
      ]
     },
     "execution_count": 12,
     "metadata": {},
     "output_type": "execute_result"
    }
   ],
   "source": [
    "telescope, channel, site"
   ]
  },
  {
   "cell_type": "code",
   "execution_count": 13,
   "metadata": {
    "execution": {
     "iopub.execute_input": "2020-12-09T06:02:02.878651Z",
     "iopub.status.busy": "2020-12-09T06:02:02.878091Z",
     "iopub.status.idle": "2020-12-09T06:02:02.881411Z",
     "shell.execute_reply": "2020-12-09T06:02:02.881860Z"
    },
    "papermill": {
     "duration": 0.036366,
     "end_time": "2020-12-09T06:02:02.882002",
     "exception": false,
     "start_time": "2020-12-09T06:02:02.845636",
     "status": "completed"
    },
    "tags": []
   },
   "outputs": [
    {
     "data": {
      "text/plain": [
       "dict_keys(['SAT-HFS1_chile', 'SAT-HFS2_chile', 'SAT-LFS1_chile', 'SAT-LFS2_chile', 'SAT-MFHS1_chile', 'SAT-MFHS2_chile', 'SAT-MFLS1_chile', 'SAT-MFLS2_chile'])"
      ]
     },
     "execution_count": 13,
     "metadata": {},
     "output_type": "execute_result"
    }
   ],
   "source": [
    "C_ell.keys()"
   ]
  },
  {
   "cell_type": "code",
   "execution_count": 14,
   "metadata": {
    "execution": {
     "iopub.execute_input": "2020-12-09T06:02:02.942627Z",
     "iopub.status.busy": "2020-12-09T06:02:02.942033Z",
     "iopub.status.idle": "2020-12-09T06:02:02.944364Z",
     "shell.execute_reply": "2020-12-09T06:02:02.943901Z"
    },
    "papermill": {
     "duration": 0.033864,
     "end_time": "2020-12-09T06:02:02.944475",
     "exception": false,
     "start_time": "2020-12-09T06:02:02.910611",
     "status": "completed"
    },
    "tags": []
   },
   "outputs": [],
   "source": [
    "nside = 4096 if telescope == \"LAT\" else 512"
   ]
  },
  {
   "cell_type": "code",
   "execution_count": 15,
   "metadata": {
    "execution": {
     "iopub.execute_input": "2020-12-09T06:02:03.008919Z",
     "iopub.status.busy": "2020-12-09T06:02:03.008364Z",
     "iopub.status.idle": "2020-12-09T06:02:03.011577Z",
     "shell.execute_reply": "2020-12-09T06:02:03.012005Z"
    },
    "papermill": {
     "duration": 0.037939,
     "end_time": "2020-12-09T06:02:03.012154",
     "exception": false,
     "start_time": "2020-12-09T06:02:02.974215",
     "status": "completed"
    },
    "tags": []
   },
   "outputs": [],
   "source": [
    "from s4_design_sim_tool.core import base_folder"
   ]
  },
  {
   "cell_type": "code",
   "execution_count": 16,
   "metadata": {
    "execution": {
     "iopub.execute_input": "2020-12-09T06:02:03.075266Z",
     "iopub.status.busy": "2020-12-09T06:02:03.074694Z",
     "iopub.status.idle": "2020-12-09T06:02:03.087904Z",
     "shell.execute_reply": "2020-12-09T06:02:03.088359Z"
    },
    "papermill": {
     "duration": 0.046867,
     "end_time": "2020-12-09T06:02:03.088516",
     "exception": false,
     "start_time": "2020-12-09T06:02:03.041649",
     "status": "completed"
    },
    "tags": []
   },
   "outputs": [],
   "source": [
    "from s4_design_sim_tool.cli import parse_config\n",
    "if site == \"chile\" and telescope == \"SAT\":\n",
    "    config = parse_config(f\"{dataset}.toml\", \"chile_sat.toml\")\n",
    "else:\n",
    "    config = parse_config(f\"{dataset}.toml\")"
   ]
  },
  {
   "cell_type": "code",
   "execution_count": 17,
   "metadata": {
    "execution": {
     "iopub.execute_input": "2020-12-09T06:02:03.154557Z",
     "iopub.status.busy": "2020-12-09T06:02:03.153974Z",
     "iopub.status.idle": "2020-12-09T06:02:03.315885Z",
     "shell.execute_reply": "2020-12-09T06:02:03.315387Z"
    },
    "papermill": {
     "duration": 0.196366,
     "end_time": "2020-12-09T06:02:03.315998",
     "exception": false,
     "start_time": "2020-12-09T06:02:03.119632",
     "status": "completed"
    },
    "tags": []
   },
   "outputs": [
    {
     "name": "stderr",
     "output_type": "stream",
     "text": [
      "/global/homes/z/zonca/condajupynersc/lib/python3.7/site-packages/healpy/fitsfunc.py:369: UserWarning: If you are not specifying the input dtype and using the default np.float64 dtype of read_map(), please consider that it will change in a future version to None as to keep the same dtype of the input file: please explicitly set the dtype if it is important to you.\n",
      "  \"If you are not specifying the input dtype and using the default \"\n",
      "/global/homes/z/zonca/condajupynersc/lib/python3.7/site-packages/healpy/fitsfunc.py:391: UserWarning: NSIDE = 512\n",
      "  warnings.warn(\"NSIDE = {0:d}\".format(nside))\n",
      "/global/homes/z/zonca/condajupynersc/lib/python3.7/site-packages/healpy/fitsfunc.py:400: UserWarning: ORDERING = RING in fits file\n",
      "  warnings.warn(\"ORDERING = {0:s} in fits file\".format(ordering))\n",
      "/global/homes/z/zonca/condajupynersc/lib/python3.7/site-packages/healpy/fitsfunc.py:428: UserWarning: INDXSCHM = IMPLICIT\n",
      "  warnings.warn(\"INDXSCHM = {0:s}\".format(schm))\n"
     ]
    }
   ],
   "source": [
    "hitmap = hp.read_map(local_path / dataset / ch / f\"cmbs4_hitmap_{ch}_nside{nside}_1_of_{nsplits}.fits\")"
   ]
  },
  {
   "cell_type": "code",
   "execution_count": 18,
   "metadata": {
    "execution": {
     "iopub.execute_input": "2020-12-09T06:02:03.379066Z",
     "iopub.status.busy": "2020-12-09T06:02:03.378513Z",
     "iopub.status.idle": "2020-12-09T06:02:03.381553Z",
     "shell.execute_reply": "2020-12-09T06:02:03.381071Z"
    },
    "papermill": {
     "duration": 0.036461,
     "end_time": "2020-12-09T06:02:03.381683",
     "exception": false,
     "start_time": "2020-12-09T06:02:03.345222",
     "status": "completed"
    },
    "tags": []
   },
   "outputs": [
    {
     "data": {
      "text/plain": [
       "'MFHS2'"
      ]
     },
     "execution_count": 18,
     "metadata": {},
     "output_type": "execute_result"
    }
   ],
   "source": [
    "channel"
   ]
  },
  {
   "cell_type": "code",
   "execution_count": 19,
   "metadata": {
    "execution": {
     "iopub.execute_input": "2020-12-09T06:02:03.446102Z",
     "iopub.status.busy": "2020-12-09T06:02:03.445196Z",
     "iopub.status.idle": "2020-12-09T06:02:03.448115Z",
     "shell.execute_reply": "2020-12-09T06:02:03.448831Z"
    },
    "papermill": {
     "duration": 0.03705,
     "end_time": "2020-12-09T06:02:03.449044",
     "exception": false,
     "start_time": "2020-12-09T06:02:03.411994",
     "status": "completed"
    },
    "tags": []
   },
   "outputs": [
    {
     "data": {
      "text/plain": [
       "21"
      ]
     },
     "execution_count": 19,
     "metadata": {},
     "output_type": "execute_result"
    }
   ],
   "source": [
    "from s4_design_sim_tool.noise import get_tube_years\n",
    "tube_years = get_tube_years(config, site, channel)\n",
    "tube_years"
   ]
  },
  {
   "cell_type": "code",
   "execution_count": 20,
   "metadata": {
    "execution": {
     "iopub.execute_input": "2020-12-09T06:02:03.557575Z",
     "iopub.status.busy": "2020-12-09T06:02:03.557017Z",
     "iopub.status.idle": "2020-12-09T06:02:03.566102Z",
     "shell.execute_reply": "2020-12-09T06:02:03.565655Z"
    },
    "papermill": {
     "duration": 0.05136,
     "end_time": "2020-12-09T06:02:03.566227",
     "exception": false,
     "start_time": "2020-12-09T06:02:03.514867",
     "status": "completed"
    },
    "tags": []
   },
   "outputs": [
    {
     "data": {
      "text/plain": [
       "100.11248600166542"
      ]
     },
     "execution_count": 20,
     "metadata": {},
     "output_type": "execute_result"
    }
   ],
   "source": [
    "sampling_rate = hitmap.sum()\n",
    "sampling_rate /= 365.25 * 24 * 3600\n",
    "sampling_rate /= tube_years * config[\"experiment\"][\"observing_efficiency\"]\n",
    "sampling_rate /= s4[channel].attrs[\"detectors_per_tube\"]\n",
    "sampling_rate *= nsplits\n",
    "sampling_rate"
   ]
  },
  {
   "cell_type": "code",
   "execution_count": 21,
   "metadata": {
    "execution": {
     "iopub.execute_input": "2020-12-09T06:02:03.639550Z",
     "iopub.status.busy": "2020-12-09T06:02:03.638980Z",
     "iopub.status.idle": "2020-12-09T06:02:03.641453Z",
     "shell.execute_reply": "2020-12-09T06:02:03.640988Z"
    },
    "papermill": {
     "duration": 0.0431,
     "end_time": "2020-12-09T06:02:03.641563",
     "exception": false,
     "start_time": "2020-12-09T06:02:03.598463",
     "status": "completed"
    },
    "tags": []
   },
   "outputs": [],
   "source": [
    "np.testing.assert_allclose(sampling_rate, sampling_frequency[telescope].value, rtol=1/100)"
   ]
  },
  {
   "cell_type": "code",
   "execution_count": 22,
   "metadata": {
    "execution": {
     "iopub.execute_input": "2020-12-09T06:02:03.710102Z",
     "iopub.status.busy": "2020-12-09T06:02:03.709569Z",
     "iopub.status.idle": "2020-12-09T06:02:04.180250Z",
     "shell.execute_reply": "2020-12-09T06:02:04.180703Z"
    },
    "papermill": {
     "duration": 0.507354,
     "end_time": "2020-12-09T06:02:04.180850",
     "exception": false,
     "start_time": "2020-12-09T06:02:03.673496",
     "status": "completed"
    },
    "tags": []
   },
   "outputs": [
    {
     "name": "stderr",
     "output_type": "stream",
     "text": [
      "/global/homes/z/zonca/condajupynersc/lib/python3.7/site-packages/ipykernel_launcher.py:1: RuntimeWarning: divide by zero encountered in log10\n",
      "  \"\"\"Entry point for launching an IPython kernel.\n",
      "/global/homes/z/zonca/condajupynersc/lib/python3.7/site-packages/healpy/projaxes.py:920: MatplotlibDeprecationWarning: You are modifying the state of a globally registered colormap. In future versions, you will not be able to modify a registered colormap in-place. To remove this warning, you can make a copy of the colormap first. cmap = copy.copy(mpl.cm.get_cmap(\"viridis\"))\n",
      "  newcm.set_over(newcm(1.0))\n",
      "/global/homes/z/zonca/condajupynersc/lib/python3.7/site-packages/healpy/projaxes.py:921: MatplotlibDeprecationWarning: You are modifying the state of a globally registered colormap. In future versions, you will not be able to modify a registered colormap in-place. To remove this warning, you can make a copy of the colormap first. cmap = copy.copy(mpl.cm.get_cmap(\"viridis\"))\n",
      "  newcm.set_under(bgcolor)\n",
      "/global/homes/z/zonca/condajupynersc/lib/python3.7/site-packages/healpy/projaxes.py:922: MatplotlibDeprecationWarning: You are modifying the state of a globally registered colormap. In future versions, you will not be able to modify a registered colormap in-place. To remove this warning, you can make a copy of the colormap first. cmap = copy.copy(mpl.cm.get_cmap(\"viridis\"))\n",
      "  newcm.set_bad(badcolor)\n",
      "/global/homes/z/zonca/condajupynersc/lib/python3.7/site-packages/healpy/projaxes.py:211: MatplotlibDeprecationWarning: Passing parameters norm and vmin/vmax simultaneously is deprecated since 3.3 and will become an error two minor releases later. Please pass vmin/vmax directly to the norm when creating it.\n",
      "  **kwds\n"
     ]
    },
    {
     "data": {
      "image/png": "[encoded data removed]",
      "text/plain": [
       "<Figure size 612x388.8 with 2 Axes>"
      ]
     },
     "metadata": {
      "needs_background": "light"
     },
     "output_type": "display_data"
    }
   ],
   "source": [
    "log_hitmap = np.log10(hitmap)\n",
    "log_hitmap[np.isinf(log_hitmap)] = hp.UNSEEN\n",
    "hp.mollview(log_hitmap, unit=\"log10(samples)\", title=f\"Hitmap {ch}\")\n",
    "plt.savefig(f\"plots/hitmap_{channel}_{site}_1_of_{nsplits}.png\")"
   ]
  },
  {
   "cell_type": "code",
   "execution_count": 23,
   "metadata": {
    "execution": {
     "iopub.execute_input": "2020-12-09T06:02:04.253768Z",
     "iopub.status.busy": "2020-12-09T06:02:04.252824Z",
     "iopub.status.idle": "2020-12-09T06:02:04.381879Z",
     "shell.execute_reply": "2020-12-09T06:02:04.382275Z"
    },
    "papermill": {
     "duration": 0.168896,
     "end_time": "2020-12-09T06:02:04.382433",
     "exception": false,
     "start_time": "2020-12-09T06:02:04.213537",
     "status": "completed"
    },
    "tags": []
   },
   "outputs": [],
   "source": [
    "wcov = hp.read_map(local_path / dataset / ch / f\"cmbs4_wcov_{ch}_nside{nside}_1_of_{nsplits}.fits\", (3))"
   ]
  },
  {
   "cell_type": "code",
   "execution_count": 24,
   "metadata": {
    "execution": {
     "iopub.execute_input": "2020-12-09T06:02:04.455708Z",
     "iopub.status.busy": "2020-12-09T06:02:04.454675Z",
     "iopub.status.idle": "2020-12-09T06:02:04.461002Z",
     "shell.execute_reply": "2020-12-09T06:02:04.461764Z"
    },
    "papermill": {
     "duration": 0.045537,
     "end_time": "2020-12-09T06:02:04.462002",
     "exception": false,
     "start_time": "2020-12-09T06:02:04.416465",
     "status": "completed"
    },
    "tags": []
   },
   "outputs": [
    {
     "data": {
      "text/plain": [
       "(3145728,)"
      ]
     },
     "execution_count": 24,
     "metadata": {},
     "output_type": "execute_result"
    }
   ],
   "source": [
    "wcov.shape"
   ]
  },
  {
   "cell_type": "code",
   "execution_count": 25,
   "metadata": {
    "execution": {
     "iopub.execute_input": "2020-12-09T06:02:04.574478Z",
     "iopub.status.busy": "2020-12-09T06:02:04.573910Z",
     "iopub.status.idle": "2020-12-09T06:02:04.576677Z",
     "shell.execute_reply": "2020-12-09T06:02:04.576212Z"
    },
    "papermill": {
     "duration": 0.042716,
     "end_time": "2020-12-09T06:02:04.576798",
     "exception": false,
     "start_time": "2020-12-09T06:02:04.534082",
     "status": "completed"
    },
    "tags": []
   },
   "outputs": [],
   "source": [
    "import astropy.units as u"
   ]
  },
  {
   "cell_type": "code",
   "execution_count": 26,
   "metadata": {
    "execution": {
     "iopub.execute_input": "2020-12-09T06:02:04.696734Z",
     "iopub.status.busy": "2020-12-09T06:02:04.696109Z",
     "iopub.status.idle": "2020-12-09T06:02:04.697979Z",
     "shell.execute_reply": "2020-12-09T06:02:04.698394Z"
    },
    "papermill": {
     "duration": 0.084993,
     "end_time": "2020-12-09T06:02:04.698572",
     "exception": false,
     "start_time": "2020-12-09T06:02:04.613579",
     "status": "completed"
    },
    "tags": []
   },
   "outputs": [],
   "source": [
    "channel_NET = s4[channel].attrs[\"NET_uKsqrts\"] * u.uK * u.s ** .5"
   ]
  },
  {
   "cell_type": "code",
   "execution_count": 27,
   "metadata": {
    "execution": {
     "iopub.execute_input": "2020-12-09T06:02:04.773593Z",
     "iopub.status.busy": "2020-12-09T06:02:04.772966Z",
     "iopub.status.idle": "2020-12-09T06:02:04.775414Z",
     "shell.execute_reply": "2020-12-09T06:02:04.774886Z"
    },
    "papermill": {
     "duration": 0.040927,
     "end_time": "2020-12-09T06:02:04.775554",
     "exception": false,
     "start_time": "2020-12-09T06:02:04.734627",
     "status": "completed"
    },
    "tags": []
   },
   "outputs": [],
   "source": [
    "if telescope == \"LAT\" and site==\"pole\":\n",
    "    channel_NET = s4[channel].attrs[\"pole_NET_uKsqrts\"] * u.uK * u.s ** .5"
   ]
  },
  {
   "cell_type": "code",
   "execution_count": 28,
   "metadata": {
    "execution": {
     "iopub.execute_input": "2020-12-09T06:02:04.848953Z",
     "iopub.status.busy": "2020-12-09T06:02:04.848412Z",
     "iopub.status.idle": "2020-12-09T06:02:04.963936Z",
     "shell.execute_reply": "2020-12-09T06:02:04.964371Z"
    },
    "papermill": {
     "duration": 0.154964,
     "end_time": "2020-12-09T06:02:04.964529",
     "exception": false,
     "start_time": "2020-12-09T06:02:04.809565",
     "status": "completed"
    },
    "tags": []
   },
   "outputs": [],
   "source": [
    "variance_QQ = wcov * u.K ** 2 * (hitmap / sampling_frequency[telescope]) "
   ]
  },
  {
   "cell_type": "code",
   "execution_count": 29,
   "metadata": {
    "execution": {
     "iopub.execute_input": "2020-12-09T06:02:05.092797Z",
     "iopub.status.busy": "2020-12-09T06:02:05.092207Z",
     "iopub.status.idle": "2020-12-09T06:02:05.102457Z",
     "shell.execute_reply": "2020-12-09T06:02:05.102890Z"
    },
    "papermill": {
     "duration": 0.103331,
     "end_time": "2020-12-09T06:02:05.103046",
     "exception": false,
     "start_time": "2020-12-09T06:02:04.999715",
     "status": "completed"
    },
    "tags": []
   },
   "outputs": [],
   "source": [
    "assert (variance_QQ.value == hp.UNSEEN).sum() == 0"
   ]
  },
  {
   "cell_type": "code",
   "execution_count": 30,
   "metadata": {
    "execution": {
     "iopub.execute_input": "2020-12-09T06:02:05.176940Z",
     "iopub.status.busy": "2020-12-09T06:02:05.176455Z",
     "iopub.status.idle": "2020-12-09T06:02:05.223575Z",
     "shell.execute_reply": "2020-12-09T06:02:05.223058Z"
    },
    "papermill": {
     "duration": 0.08553,
     "end_time": "2020-12-09T06:02:05.223705",
     "exception": false,
     "start_time": "2020-12-09T06:02:05.138175",
     "status": "completed"
    },
    "tags": []
   },
   "outputs": [],
   "source": [
    "full_mission_NET = np.sqrt(np.median(variance_QQ[hitmap != 0]))"
   ]
  },
  {
   "cell_type": "code",
   "execution_count": 31,
   "metadata": {
    "execution": {
     "iopub.execute_input": "2020-12-09T06:02:05.301774Z",
     "iopub.status.busy": "2020-12-09T06:02:05.301195Z",
     "iopub.status.idle": "2020-12-09T06:02:05.303816Z",
     "shell.execute_reply": "2020-12-09T06:02:05.304301Z"
    },
    "papermill": {
     "duration": 0.045088,
     "end_time": "2020-12-09T06:02:05.304436",
     "exception": false,
     "start_time": "2020-12-09T06:02:05.259348",
     "status": "completed"
    },
    "tags": []
   },
   "outputs": [
    {
     "data": {
      "text/latex": [
       "$458.66 \\; \\mathrm{\\mu K\\,s^{1/2}}$"
      ],
      "text/plain": [
       "<Quantity 458.65999926 s(1/2) uK>"
      ]
     },
     "execution_count": 31,
     "metadata": {},
     "output_type": "execute_result"
    }
   ],
   "source": [
    "full_mission_NET.to(channel_NET.unit)"
   ]
  },
  {
   "cell_type": "code",
   "execution_count": 32,
   "metadata": {
    "execution": {
     "iopub.execute_input": "2020-12-09T06:02:05.391030Z",
     "iopub.status.busy": "2020-12-09T06:02:05.390383Z",
     "iopub.status.idle": "2020-12-09T06:02:05.392755Z",
     "shell.execute_reply": "2020-12-09T06:02:05.393300Z"
    },
    "papermill": {
     "duration": 0.048264,
     "end_time": "2020-12-09T06:02:05.393703",
     "exception": false,
     "start_time": "2020-12-09T06:02:05.345439",
     "status": "completed"
    },
    "tags": []
   },
   "outputs": [
    {
     "data": {
      "text/latex": [
       "$331 \\; \\mathrm{\\mu K\\,s^{1/2}}$"
      ],
      "text/plain": [
       "<Quantity 331. s(1/2) uK>"
      ]
     },
     "execution_count": 32,
     "metadata": {},
     "output_type": "execute_result"
    }
   ],
   "source": [
    "channel_NET"
   ]
  },
  {
   "cell_type": "code",
   "execution_count": 33,
   "metadata": {
    "execution": {
     "iopub.execute_input": "2020-12-09T06:02:05.472483Z",
     "iopub.status.busy": "2020-12-09T06:02:05.471908Z",
     "iopub.status.idle": "2020-12-09T06:02:05.474529Z",
     "shell.execute_reply": "2020-12-09T06:02:05.475089Z"
    },
    "papermill": {
     "duration": 0.0441,
     "end_time": "2020-12-09T06:02:05.475224",
     "exception": false,
     "start_time": "2020-12-09T06:02:05.431124",
     "status": "completed"
    },
    "tags": []
   },
   "outputs": [
    {
     "data": {
      "text/latex": [
       "$324.3216 \\; \\mathrm{\\mu K\\,s^{1/2}}$"
      ],
      "text/plain": [
       "<Quantity 324.32159573 s(1/2) uK>"
      ]
     },
     "execution_count": 33,
     "metadata": {},
     "output_type": "execute_result"
    }
   ],
   "source": [
    "(full_mission_NET/np.sqrt(2)).to(channel_NET.unit)"
   ]
  },
  {
   "cell_type": "code",
   "execution_count": 34,
   "metadata": {
    "execution": {
     "iopub.execute_input": "2020-12-09T06:02:05.549158Z",
     "iopub.status.busy": "2020-12-09T06:02:05.548616Z",
     "iopub.status.idle": "2020-12-09T06:02:05.551108Z",
     "shell.execute_reply": "2020-12-09T06:02:05.550650Z"
    },
    "papermill": {
     "duration": 0.040799,
     "end_time": "2020-12-09T06:02:05.551216",
     "exception": false,
     "start_time": "2020-12-09T06:02:05.510417",
     "status": "completed"
    },
    "tags": []
   },
   "outputs": [],
   "source": [
    "assert_quantity_allclose(full_mission_NET, channel_NET*np.sqrt(2), rtol=10/100) "
   ]
  },
  {
   "cell_type": "code",
   "execution_count": 35,
   "metadata": {
    "execution": {
     "iopub.execute_input": "2020-12-09T06:02:05.626257Z",
     "iopub.status.busy": "2020-12-09T06:02:05.625679Z",
     "iopub.status.idle": "2020-12-09T06:02:05.634656Z",
     "shell.execute_reply": "2020-12-09T06:02:05.634185Z"
    },
    "papermill": {
     "duration": 0.048496,
     "end_time": "2020-12-09T06:02:05.634770",
     "exception": false,
     "start_time": "2020-12-09T06:02:05.586274",
     "status": "completed"
    },
    "tags": []
   },
   "outputs": [],
   "source": [
    "sky_fraction = (hitmap > 0).sum() / len(hitmap)"
   ]
  },
  {
   "cell_type": "code",
   "execution_count": 36,
   "metadata": {
    "execution": {
     "iopub.execute_input": "2020-12-09T06:02:05.712535Z",
     "iopub.status.busy": "2020-12-09T06:02:05.712000Z",
     "iopub.status.idle": "2020-12-09T06:02:05.715810Z",
     "shell.execute_reply": "2020-12-09T06:02:05.715345Z"
    },
    "papermill": {
     "duration": 0.044278,
     "end_time": "2020-12-09T06:02:05.715923",
     "exception": false,
     "start_time": "2020-12-09T06:02:05.671645",
     "status": "completed"
    },
    "tags": []
   },
   "outputs": [
    {
     "data": {
      "text/plain": [
       "0.44712352752685547"
      ]
     },
     "execution_count": 36,
     "metadata": {},
     "output_type": "execute_result"
    }
   ],
   "source": [
    "sky_fraction"
   ]
  },
  {
   "cell_type": "code",
   "execution_count": 37,
   "metadata": {
    "execution": {
     "iopub.execute_input": "2020-12-09T06:02:05.791595Z",
     "iopub.status.busy": "2020-12-09T06:02:05.791015Z",
     "iopub.status.idle": "2020-12-09T06:02:05.792872Z",
     "shell.execute_reply": "2020-12-09T06:02:05.793304Z"
    },
    "papermill": {
     "duration": 0.041149,
     "end_time": "2020-12-09T06:02:05.793434",
     "exception": false,
     "start_time": "2020-12-09T06:02:05.752285",
     "status": "completed"
    },
    "tags": []
   },
   "outputs": [],
   "source": [
    "pixarea = hp.nside2pixarea(nside)"
   ]
  },
  {
   "cell_type": "code",
   "execution_count": 38,
   "metadata": {
    "execution": {
     "iopub.execute_input": "2020-12-09T06:02:05.873669Z",
     "iopub.status.busy": "2020-12-09T06:02:05.873138Z",
     "iopub.status.idle": "2020-12-09T06:02:05.906605Z",
     "shell.execute_reply": "2020-12-09T06:02:05.906173Z"
    },
    "papermill": {
     "duration": 0.076137,
     "end_time": "2020-12-09T06:02:05.906710",
     "exception": false,
     "start_time": "2020-12-09T06:02:05.830573",
     "status": "completed"
    },
    "tags": []
   },
   "outputs": [
    {
     "data": {
      "text/plain": [
       "1.0459997456558768e-15"
      ]
     },
     "execution_count": 38,
     "metadata": {},
     "output_type": "execute_result"
    }
   ],
   "source": [
    "np.mean(wcov[hitmap > 0])* pixarea"
   ]
  },
  {
   "cell_type": "code",
   "execution_count": 39,
   "metadata": {
    "execution": {
     "iopub.execute_input": "2020-12-09T06:02:05.985190Z",
     "iopub.status.busy": "2020-12-09T06:02:05.984625Z",
     "iopub.status.idle": "2020-12-09T06:02:06.002129Z",
     "shell.execute_reply": "2020-12-09T06:02:06.002551Z"
    },
    "papermill": {
     "duration": 0.058296,
     "end_time": "2020-12-09T06:02:06.002699",
     "exception": false,
     "start_time": "2020-12-09T06:02:05.944403",
     "status": "completed"
    },
    "tags": []
   },
   "outputs": [],
   "source": [
    "wcov [ wcov == hp.UNSEEN] = 0"
   ]
  },
  {
   "cell_type": "markdown",
   "metadata": {
    "papermill": {
     "duration": 0.039337,
     "end_time": "2020-12-09T06:02:06.079942",
     "exception": false,
     "start_time": "2020-12-09T06:02:06.040605",
     "status": "completed"
    },
    "tags": []
   },
   "source": [
    "## Atmosphere"
   ]
  },
  {
   "cell_type": "code",
   "execution_count": 40,
   "metadata": {
    "execution": {
     "iopub.execute_input": "2020-12-09T06:02:06.158655Z",
     "iopub.status.busy": "2020-12-09T06:02:06.158083Z",
     "iopub.status.idle": "2020-12-09T06:02:06.160631Z",
     "shell.execute_reply": "2020-12-09T06:02:06.161078Z"
    },
    "papermill": {
     "duration": 0.04436,
     "end_time": "2020-12-09T06:02:06.161216",
     "exception": false,
     "start_time": "2020-12-09T06:02:06.116856",
     "status": "completed"
    },
    "tags": []
   },
   "outputs": [],
   "source": [
    "atmosphere_filename = Path(base_folder) / \"00000000\" / f\"{site}_atmosphere_{telescope}_{channel}_filtered_telescope_all_time_all_bmap.fits\""
   ]
  },
  {
   "cell_type": "code",
   "execution_count": 41,
   "metadata": {
    "execution": {
     "iopub.execute_input": "2020-12-09T06:02:06.241233Z",
     "iopub.status.busy": "2020-12-09T06:02:06.240708Z",
     "iopub.status.idle": "2020-12-09T06:02:06.908663Z",
     "shell.execute_reply": "2020-12-09T06:02:06.908154Z"
    },
    "papermill": {
     "duration": 0.711055,
     "end_time": "2020-12-09T06:02:06.908771",
     "exception": false,
     "start_time": "2020-12-09T06:02:06.197716",
     "status": "completed"
    },
    "tags": []
   },
   "outputs": [
    {
     "name": "stderr",
     "output_type": "stream",
     "text": [
      "/global/homes/z/zonca/condajupynersc/lib/python3.7/site-packages/healpy/fitsfunc.py:400: UserWarning: ORDERING = NESTED in fits file\n",
      "  warnings.warn(\"ORDERING = {0:s} in fits file\".format(ordering))\n",
      "/global/homes/z/zonca/condajupynersc/lib/python3.7/site-packages/healpy/fitsfunc.py:486: UserWarning: Ordering converted to RING\n",
      "  warnings.warn(\"Ordering converted to RING\")\n"
     ]
    }
   ],
   "source": [
    "input_atmophere = hp.ma(hp.read_map(atmosphere_filename, (0,1,2)))"
   ]
  },
  {
   "cell_type": "code",
   "execution_count": 42,
   "metadata": {
    "execution": {
     "iopub.execute_input": "2020-12-09T06:02:06.988549Z",
     "iopub.status.busy": "2020-12-09T06:02:06.988017Z",
     "iopub.status.idle": "2020-12-09T06:02:07.018899Z",
     "shell.execute_reply": "2020-12-09T06:02:07.019305Z"
    },
    "papermill": {
     "duration": 0.073573,
     "end_time": "2020-12-09T06:02:07.019453",
     "exception": false,
     "start_time": "2020-12-09T06:02:06.945880",
     "status": "completed"
    },
    "tags": []
   },
   "outputs": [],
   "source": [
    "sqrt_hitmap = hitmap.copy()\n",
    "sqrt_hitmap[hitmap>0] = np.sqrt(hitmap[hitmap>0])"
   ]
  },
  {
   "cell_type": "code",
   "execution_count": 43,
   "metadata": {
    "execution": {
     "iopub.execute_input": "2020-12-09T06:02:07.101394Z",
     "iopub.status.busy": "2020-12-09T06:02:07.100818Z",
     "iopub.status.idle": "2020-12-09T06:02:09.519340Z",
     "shell.execute_reply": "2020-12-09T06:02:09.519871Z"
    },
    "papermill": {
     "duration": 2.462307,
     "end_time": "2020-12-09T06:02:09.520032",
     "exception": false,
     "start_time": "2020-12-09T06:02:07.057725",
     "status": "completed"
    },
    "tags": []
   },
   "outputs": [],
   "source": [
    "atmo_cl = \\\n",
    "hp.anafast(input_atmophere * sqrt_hitmap, use_pixel_weights=True) / np.mean(hitmap) # / sky_fraction"
   ]
  },
  {
   "cell_type": "code",
   "execution_count": 44,
   "metadata": {
    "execution": {
     "iopub.execute_input": "2020-12-09T06:02:09.649486Z",
     "iopub.status.busy": "2020-12-09T06:02:09.648936Z",
     "iopub.status.idle": "2020-12-09T06:02:09.652457Z",
     "shell.execute_reply": "2020-12-09T06:02:09.652000Z"
    },
    "papermill": {
     "duration": 0.073819,
     "end_time": "2020-12-09T06:02:09.652571",
     "exception": false,
     "start_time": "2020-12-09T06:02:09.578752",
     "status": "completed"
    },
    "tags": []
   },
   "outputs": [],
   "source": [
    "from s4_design_sim_tool.atmosphere import get_telecope_years"
   ]
  },
  {
   "cell_type": "code",
   "execution_count": 45,
   "metadata": {
    "execution": {
     "iopub.execute_input": "2020-12-09T06:02:09.778982Z",
     "iopub.status.busy": "2020-12-09T06:02:09.778006Z",
     "iopub.status.idle": "2020-12-09T06:02:09.780234Z",
     "shell.execute_reply": "2020-12-09T06:02:09.781033Z"
    },
    "papermill": {
     "duration": 0.090306,
     "end_time": "2020-12-09T06:02:09.781254",
     "exception": false,
     "start_time": "2020-12-09T06:02:09.690948",
     "status": "completed"
    },
    "tags": []
   },
   "outputs": [],
   "source": [
    "telescope_years = get_telecope_years(config, site, channel)"
   ]
  },
  {
   "cell_type": "code",
   "execution_count": 46,
   "metadata": {
    "execution": {
     "iopub.execute_input": "2020-12-09T06:02:09.867780Z",
     "iopub.status.busy": "2020-12-09T06:02:09.867207Z",
     "iopub.status.idle": "2020-12-09T06:02:09.870963Z",
     "shell.execute_reply": "2020-12-09T06:02:09.870470Z"
    },
    "papermill": {
     "duration": 0.046752,
     "end_time": "2020-12-09T06:02:09.871069",
     "exception": false,
     "start_time": "2020-12-09T06:02:09.824317",
     "status": "completed"
    },
    "tags": []
   },
   "outputs": [
    {
     "data": {
      "text/plain": [
       "7"
      ]
     },
     "execution_count": 46,
     "metadata": {},
     "output_type": "execute_result"
    }
   ],
   "source": [
    "telescope_years"
   ]
  },
  {
   "cell_type": "code",
   "execution_count": 47,
   "metadata": {
    "execution": {
     "iopub.execute_input": "2020-12-09T06:02:09.950974Z",
     "iopub.status.busy": "2020-12-09T06:02:09.950426Z",
     "iopub.status.idle": "2020-12-09T06:02:09.952838Z",
     "shell.execute_reply": "2020-12-09T06:02:09.953253Z"
    },
    "papermill": {
     "duration": 0.044471,
     "end_time": "2020-12-09T06:02:09.953415",
     "exception": false,
     "start_time": "2020-12-09T06:02:09.908944",
     "status": "completed"
    },
    "tags": []
   },
   "outputs": [],
   "source": [
    "from s4_design_sim_tool.core import simulations_observing_efficiency"
   ]
  },
  {
   "cell_type": "code",
   "execution_count": 48,
   "metadata": {
    "execution": {
     "iopub.execute_input": "2020-12-09T06:02:10.032022Z",
     "iopub.status.busy": "2020-12-09T06:02:10.031453Z",
     "iopub.status.idle": "2020-12-09T06:02:10.035363Z",
     "shell.execute_reply": "2020-12-09T06:02:10.034919Z"
    },
    "papermill": {
     "duration": 0.04426,
     "end_time": "2020-12-09T06:02:10.035469",
     "exception": false,
     "start_time": "2020-12-09T06:02:09.991209",
     "status": "completed"
    },
    "tags": []
   },
   "outputs": [
    {
     "data": {
      "text/plain": [
       "{'pole': {'SAT': 0.3931149305555555, 'LAT': 0.321544537037037},\n",
       " 'chile': {'SAT': 0.8656164351851852, 'LAT': 0.917306712962963}}"
      ]
     },
     "execution_count": 48,
     "metadata": {},
     "output_type": "execute_result"
    }
   ],
   "source": [
    "simulations_observing_efficiency"
   ]
  },
  {
   "cell_type": "code",
   "execution_count": 49,
   "metadata": {
    "execution": {
     "iopub.execute_input": "2020-12-09T06:02:10.143431Z",
     "iopub.status.busy": "2020-12-09T06:02:10.142413Z",
     "iopub.status.idle": "2020-12-09T06:02:10.144520Z",
     "shell.execute_reply": "2020-12-09T06:02:10.145275Z"
    },
    "papermill": {
     "duration": 0.073358,
     "end_time": "2020-12-09T06:02:10.145496",
     "exception": false,
     "start_time": "2020-12-09T06:02:10.072138",
     "status": "completed"
    },
    "tags": []
   },
   "outputs": [],
   "source": [
    "atmo_cl *= 10 / 365.25\n",
    "atmo_cl *= simulations_observing_efficiency[site.lower()].get(telescope, 1) / config[\"experiment\"][\"observing_efficiency\"]                                                                    \n",
    "atmo_cl /= telescope_years"
   ]
  },
  {
   "cell_type": "markdown",
   "metadata": {
    "papermill": {
     "duration": 0.038194,
     "end_time": "2020-12-09T06:02:10.227639",
     "exception": false,
     "start_time": "2020-12-09T06:02:10.189445",
     "status": "completed"
    },
    "tags": []
   },
   "source": [
    "## Noise"
   ]
  },
  {
   "cell_type": "code",
   "execution_count": 50,
   "metadata": {
    "execution": {
     "iopub.execute_input": "2020-12-09T06:02:10.308372Z",
     "iopub.status.busy": "2020-12-09T06:02:10.307767Z",
     "iopub.status.idle": "2020-12-09T06:02:10.309661Z",
     "shell.execute_reply": "2020-12-09T06:02:10.310097Z"
    },
    "papermill": {
     "duration": 0.044222,
     "end_time": "2020-12-09T06:02:10.310248",
     "exception": false,
     "start_time": "2020-12-09T06:02:10.266026",
     "status": "completed"
    },
    "tags": []
   },
   "outputs": [],
   "source": [
    "noise_filename = Path(base_folder) / \"00000000\" / f\"{site}_noise_{telescope}_{channel}_filtered_telescope_all_time_all_bmap.fits\""
   ]
  },
  {
   "cell_type": "code",
   "execution_count": 51,
   "metadata": {
    "execution": {
     "iopub.execute_input": "2020-12-09T06:02:10.389382Z",
     "iopub.status.busy": "2020-12-09T06:02:10.388808Z",
     "iopub.status.idle": "2020-12-09T06:02:10.391186Z",
     "shell.execute_reply": "2020-12-09T06:02:10.390678Z"
    },
    "papermill": {
     "duration": 0.044306,
     "end_time": "2020-12-09T06:02:10.391297",
     "exception": false,
     "start_time": "2020-12-09T06:02:10.346991",
     "status": "completed"
    },
    "tags": []
   },
   "outputs": [],
   "source": [
    "#input_noise = hp.ma(hp.read_map(noise_filename, (0,1,2)))"
   ]
  },
  {
   "cell_type": "code",
   "execution_count": 52,
   "metadata": {
    "execution": {
     "iopub.execute_input": "2020-12-09T06:02:10.470482Z",
     "iopub.status.busy": "2020-12-09T06:02:10.469901Z",
     "iopub.status.idle": "2020-12-09T06:02:10.471989Z",
     "shell.execute_reply": "2020-12-09T06:02:10.472388Z"
    },
    "papermill": {
     "duration": 0.04417,
     "end_time": "2020-12-09T06:02:10.472552",
     "exception": false,
     "start_time": "2020-12-09T06:02:10.428382",
     "status": "completed"
    },
    "tags": []
   },
   "outputs": [],
   "source": [
    "#noise_cl = hp.anafast(input_noise * sqrt_hitmap, use_pixel_weights=True) / np.mean(hitmap) / sky_fraction"
   ]
  },
  {
   "cell_type": "code",
   "execution_count": 53,
   "metadata": {
    "execution": {
     "iopub.execute_input": "2020-12-09T06:02:10.551254Z",
     "iopub.status.busy": "2020-12-09T06:02:10.550721Z",
     "iopub.status.idle": "2020-12-09T06:02:10.552879Z",
     "shell.execute_reply": "2020-12-09T06:02:10.553278Z"
    },
    "papermill": {
     "duration": 0.043174,
     "end_time": "2020-12-09T06:02:10.553422",
     "exception": false,
     "start_time": "2020-12-09T06:02:10.510248",
     "status": "completed"
    },
    "tags": []
   },
   "outputs": [],
   "source": [
    "del sqrt_hitmap"
   ]
  },
  {
   "cell_type": "code",
   "execution_count": 54,
   "metadata": {
    "execution": {
     "iopub.execute_input": "2020-12-09T06:02:10.635762Z",
     "iopub.status.busy": "2020-12-09T06:02:10.635168Z",
     "iopub.status.idle": "2020-12-09T06:02:10.637444Z",
     "shell.execute_reply": "2020-12-09T06:02:10.637826Z"
    },
    "papermill": {
     "duration": 0.04719,
     "end_time": "2020-12-09T06:02:10.637969",
     "exception": false,
     "start_time": "2020-12-09T06:02:10.590779",
     "status": "completed"
    },
    "tags": []
   },
   "outputs": [],
   "source": [
    "from s4_design_sim_tool.noise import get_thinfp\n",
    "thinfp = get_thinfp(channel)"
   ]
  },
  {
   "cell_type": "code",
   "execution_count": 55,
   "metadata": {
    "execution": {
     "iopub.execute_input": "2020-12-09T06:02:10.717820Z",
     "iopub.status.busy": "2020-12-09T06:02:10.717221Z",
     "iopub.status.idle": "2020-12-09T06:02:10.720583Z",
     "shell.execute_reply": "2020-12-09T06:02:10.720106Z"
    },
    "papermill": {
     "duration": 0.044524,
     "end_time": "2020-12-09T06:02:10.720683",
     "exception": false,
     "start_time": "2020-12-09T06:02:10.676159",
     "status": "completed"
    },
    "tags": []
   },
   "outputs": [
    {
     "data": {
      "text/html": [
       "&lt;Column name=&apos;thinfp&apos; dtype=&apos;int64&apos; length=1&gt;\n",
       "<table>\n",
       "<tr><td>4</td></tr>\n",
       "</table>"
      ],
      "text/plain": [
       "<Column name='thinfp' dtype='int64' length=1>\n",
       "4"
      ]
     },
     "execution_count": 55,
     "metadata": {},
     "output_type": "execute_result"
    }
   ],
   "source": [
    "thinfp"
   ]
  },
  {
   "cell_type": "code",
   "execution_count": 56,
   "metadata": {
    "execution": {
     "iopub.execute_input": "2020-12-09T06:02:10.797530Z",
     "iopub.status.busy": "2020-12-09T06:02:10.796858Z",
     "iopub.status.idle": "2020-12-09T06:02:10.799330Z",
     "shell.execute_reply": "2020-12-09T06:02:10.798850Z"
    },
    "papermill": {
     "duration": 0.042628,
     "end_time": "2020-12-09T06:02:10.799443",
     "exception": false,
     "start_time": "2020-12-09T06:02:10.756815",
     "status": "completed"
    },
    "tags": []
   },
   "outputs": [],
   "source": [
    "#noise_cl *= 10 / 365.25\n",
    "#noise_cl *= simulations_observing_efficiency[site.lower()].get(telescope, 1) / config[\"experiment\"][\"observing_efficiency\"]                                                                    \n",
    "#noise_cl /= tube_years\n",
    "#noise_cl /= thinfp"
   ]
  },
  {
   "cell_type": "code",
   "execution_count": 57,
   "metadata": {
    "execution": {
     "iopub.execute_input": "2020-12-09T06:02:10.883952Z",
     "iopub.status.busy": "2020-12-09T06:02:10.883330Z",
     "iopub.status.idle": "2020-12-09T06:02:10.895462Z",
     "shell.execute_reply": "2020-12-09T06:02:10.895931Z"
    },
    "papermill": {
     "duration": 0.055884,
     "end_time": "2020-12-09T06:02:10.896076",
     "exception": false,
     "start_time": "2020-12-09T06:02:10.840192",
     "status": "completed"
    },
    "tags": []
   },
   "outputs": [],
   "source": [
    "white_noise_Cl = channel_NET**2 \\\n",
    "/ (hitmap.sum() / sampling_frequency[telescope] / (hitmap>0).sum()) * pixarea # / sky_fraction"
   ]
  },
  {
   "cell_type": "code",
   "execution_count": 58,
   "metadata": {
    "execution": {
     "iopub.execute_input": "2020-12-09T06:02:10.978899Z",
     "iopub.status.busy": "2020-12-09T06:02:10.978358Z",
     "iopub.status.idle": "2020-12-09T06:02:10.981811Z",
     "shell.execute_reply": "2020-12-09T06:02:10.981369Z"
    },
    "papermill": {
     "duration": 0.047991,
     "end_time": "2020-12-09T06:02:10.981917",
     "exception": false,
     "start_time": "2020-12-09T06:02:10.933926",
     "status": "completed"
    },
    "tags": []
   },
   "outputs": [
    {
     "data": {
      "text/latex": [
       "$9.132468 \\times 10^{-18} \\; \\mathrm{K^{2}}$"
      ],
      "text/plain": [
       "<Quantity 9.13246799e-18 K2>"
      ]
     },
     "execution_count": 58,
     "metadata": {},
     "output_type": "execute_result"
    }
   ],
   "source": [
    "white_noise_Cl.decompose()"
   ]
  },
  {
   "cell_type": "code",
   "execution_count": 59,
   "metadata": {
    "execution": {
     "iopub.execute_input": "2020-12-09T06:02:11.071076Z",
     "iopub.status.busy": "2020-12-09T06:02:11.070525Z",
     "iopub.status.idle": "2020-12-09T06:02:11.588641Z",
     "shell.execute_reply": "2020-12-09T06:02:11.589032Z"
    },
    "papermill": {
     "duration": 0.563635,
     "end_time": "2020-12-09T06:02:11.589177",
     "exception": false,
     "start_time": "2020-12-09T06:02:11.025542",
     "status": "completed"
    },
    "tags": []
   },
   "outputs": [],
   "source": [
    "import seaborn as sns"
   ]
  },
  {
   "cell_type": "code",
   "execution_count": 60,
   "metadata": {
    "execution": {
     "iopub.execute_input": "2020-12-09T06:02:11.675782Z",
     "iopub.status.busy": "2020-12-09T06:02:11.675198Z",
     "iopub.status.idle": "2020-12-09T06:02:11.677859Z",
     "shell.execute_reply": "2020-12-09T06:02:11.678337Z"
    },
    "papermill": {
     "duration": 0.048694,
     "end_time": "2020-12-09T06:02:11.678475",
     "exception": false,
     "start_time": "2020-12-09T06:02:11.629781",
     "status": "completed"
    },
    "tags": []
   },
   "outputs": [],
   "source": [
    "sns.set_style(\"whitegrid\")"
   ]
  },
  {
   "cell_type": "code",
   "execution_count": 61,
   "metadata": {
    "execution": {
     "iopub.execute_input": "2020-12-09T06:02:11.781668Z",
     "iopub.status.busy": "2020-12-09T06:02:11.774629Z",
     "iopub.status.idle": "2020-12-09T06:02:14.133668Z",
     "shell.execute_reply": "2020-12-09T06:02:14.134088Z"
    },
    "papermill": {
     "duration": 2.41515,
     "end_time": "2020-12-09T06:02:14.134226",
     "exception": false,
     "start_time": "2020-12-09T06:02:11.719076",
     "status": "completed"
    },
    "tags": []
   },
   "outputs": [
    {
     "data": {
      "image/png": "[encoded data removed]",
      "text/plain": [
       "<Figure size 576x360 with 1 Axes>"
      ]
     },
     "metadata": {},
     "output_type": "display_data"
    }
   ],
   "source": [
    "plt.figure(figsize=(8,5))\n",
    "\n",
    "pols = [\"TT\", \"EE\", \"BB\"]\n",
    "\n",
    "for i, pol in enumerate(pols):\n",
    "    for split in range(1, nsplits+1):\n",
    "        plt.loglog(C_ell[ch][split][i], alpha=.8, label=pol)\n",
    "\n",
    "for i, pol in enumerate(pols):\n",
    "    plt.loglog(atmo_cl[i]*nsplits, alpha=.8, ls=\"--\", label=f\"atmo {pol}\")\n",
    "\n",
    "#for i, pol in enumerate(pols):\n",
    "#    plt.loglog(noise_cl[i], alpha=.8, ls=\"-.\", label=f\"noise {pol}\")\n",
    "\n",
    "plt.axhline(white_noise_Cl.to_value(u.K**2), ls=\":\",\n",
    "           label=\"white noise T\", color=\"black\")\n",
    "plt.axhline(white_noise_Cl.to_value(u.K**2)*2, ls=\":\",\n",
    "           label=\"white noise P\", color=\"grey\")\n",
    "plt.legend()\n",
    "plt.title(f\"Noise + Atmosphere simulations spectra for {ch}\")\n",
    "plt.ylabel(\"$C_\\ell [K^2]$\")\n",
    "plt.xlabel(\"$\\ell$\")\n",
    "plt.xlim((10, 3*nside))\n",
    "plt.grid(True)\n",
    "plt.savefig(f\"plots/C_ell_{dataset}_{ch}_{nsplits}.png\");"
   ]
  },
  {
   "cell_type": "code",
   "execution_count": null,
   "metadata": {
    "papermill": {
     "duration": 0.040771,
     "end_time": "2020-12-09T06:02:14.218485",
     "exception": false,
     "start_time": "2020-12-09T06:02:14.177714",
     "status": "completed"
    },
    "tags": []
   },
   "outputs": [],
   "source": []
  }
 ],
 "metadata": {
  "kernelspec": {
   "display_name": "condajupynersc",
   "language": "python",
   "name": "condajupynersc"
  },
  "language_info": {
   "codemirror_mode": {
    "name": "ipython",
    "version": 3
   },
   "file_extension": ".py",
   "mimetype": "text/x-python",
   "name": "python",
   "nbconvert_exporter": "python",
   "pygments_lexer": "ipython3",
   "version": "3.7.0"
  },
  "papermill": {
   "duration": 16.451394,
   "end_time": "2020-12-09T06:02:15.566892",
   "environment_variables": {},
   "exception": null,
   "input_path": "validation_atmo_noise_dec_2020.ipynb",
   "output_path": "validation_notebooks/SAT-MFHS2_chile_7.ipynb",
   "parameters": {
    "ch": "SAT-MFHS2_chile",
    "nsplits": 7
   },
   "start_time": "2020-12-09T06:01:59.115498",
   "version": "2.1.2"
  }
 },
 "nbformat": 4,
 "nbformat_minor": 4
}