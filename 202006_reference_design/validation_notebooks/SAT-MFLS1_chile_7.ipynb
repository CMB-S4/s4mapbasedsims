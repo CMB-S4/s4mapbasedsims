{
 "cells": [
  {
   "cell_type": "code",
   "execution_count": 1,
   "metadata": {
    "execution": {
     "iopub.execute_input": "2020-12-09T06:02:18.341212Z",
     "iopub.status.busy": "2020-12-09T06:02:18.340621Z",
     "iopub.status.idle": "2020-12-09T06:02:20.566949Z",
     "shell.execute_reply": "2020-12-09T06:02:20.566256Z"
    },
    "papermill": {
     "duration": 2.262498,
     "end_time": "2020-12-09T06:02:20.567150",
     "exception": false,
     "start_time": "2020-12-09T06:02:18.304652",
     "status": "completed"
    },
    "tags": []
   },
   "outputs": [],
   "source": [
    "import healpy as hp\n",
    "import numpy as np\n",
    "%matplotlib inline\n",
    "import matplotlib.pyplot as plt\n",
    "from pathlib import Path\n",
    "from astropy.tests.helper import assert_quantity_allclose\n",
    "import pickle\n",
    "import sys\n",
    "import os\n",
    "from astropy import units as u"
   ]
  },
  {
   "cell_type": "code",
   "execution_count": 2,
   "metadata": {
    "execution": {
     "iopub.execute_input": "2020-12-09T06:02:20.667187Z",
     "iopub.status.busy": "2020-12-09T06:02:20.666256Z",
     "iopub.status.idle": "2020-12-09T06:02:20.732369Z",
     "shell.execute_reply": "2020-12-09T06:02:20.731851Z"
    },
    "papermill": {
     "duration": 0.131501,
     "end_time": "2020-12-09T06:02:20.732476",
     "exception": false,
     "start_time": "2020-12-09T06:02:20.600975",
     "status": "completed"
    },
    "tags": []
   },
   "outputs": [],
   "source": [
    "import h5py\n",
    "s4 = h5py.File(\"cmbs4_tophat.h5\", mode=\"r\")"
   ]
  },
  {
   "cell_type": "code",
   "execution_count": 3,
   "metadata": {
    "execution": {
     "iopub.execute_input": "2020-12-09T06:02:20.789255Z",
     "iopub.status.busy": "2020-12-09T06:02:20.788763Z",
     "iopub.status.idle": "2020-12-09T06:02:20.791565Z",
     "shell.execute_reply": "2020-12-09T06:02:20.791063Z"
    },
    "papermill": {
     "duration": 0.033196,
     "end_time": "2020-12-09T06:02:20.791671",
     "exception": false,
     "start_time": "2020-12-09T06:02:20.758475",
     "status": "completed"
    },
    "tags": []
   },
   "outputs": [],
   "source": [
    "dataset = \"s4_reference_design_noise_atmo_7splits\""
   ]
  },
  {
   "cell_type": "code",
   "execution_count": 4,
   "metadata": {
    "execution": {
     "iopub.execute_input": "2020-12-09T06:02:20.851455Z",
     "iopub.status.busy": "2020-12-09T06:02:20.850956Z",
     "iopub.status.idle": "2020-12-09T06:02:20.853215Z",
     "shell.execute_reply": "2020-12-09T06:02:20.853621Z"
    },
    "papermill": {
     "duration": 0.033726,
     "end_time": "2020-12-09T06:02:20.853782",
     "exception": false,
     "start_time": "2020-12-09T06:02:20.820056",
     "status": "completed"
    },
    "tags": [
     "parameters"
    ]
   },
   "outputs": [],
   "source": [
    "ch = f\"SAT-HFS1_chile\"\n",
    "nsplits = 1"
   ]
  },
  {
   "cell_type": "code",
   "execution_count": 5,
   "metadata": {
    "execution": {
     "iopub.execute_input": "2020-12-09T06:02:20.907870Z",
     "iopub.status.busy": "2020-12-09T06:02:20.907251Z",
     "iopub.status.idle": "2020-12-09T06:02:20.909659Z",
     "shell.execute_reply": "2020-12-09T06:02:20.909192Z"
    },
    "papermill": {
     "duration": 0.030143,
     "end_time": "2020-12-09T06:02:20.909748",
     "exception": false,
     "start_time": "2020-12-09T06:02:20.879605",
     "status": "completed"
    },
    "tags": [
     "injected-parameters"
    ]
   },
   "outputs": [],
   "source": [
    "# Parameters\n",
    "ch = \"SAT-MFLS1_chile\"\n",
    "nsplits = 7\n"
   ]
  },
  {
   "cell_type": "code",
   "execution_count": 6,
   "metadata": {
    "execution": {
     "iopub.execute_input": "2020-12-09T06:02:21.009400Z",
     "iopub.status.busy": "2020-12-09T06:02:21.008876Z",
     "iopub.status.idle": "2020-12-09T06:02:21.011755Z",
     "shell.execute_reply": "2020-12-09T06:02:21.011219Z"
    },
    "papermill": {
     "duration": 0.049522,
     "end_time": "2020-12-09T06:02:21.011885",
     "exception": false,
     "start_time": "2020-12-09T06:02:20.962363",
     "status": "completed"
    },
    "tags": []
   },
   "outputs": [],
   "source": [
    "if os.path.exists(f\"plots/C_ell_{dataset}_{ch}_{nsplits}.png\"):\n",
    "    sys.exit(0)"
   ]
  },
  {
   "cell_type": "code",
   "execution_count": 7,
   "metadata": {
    "execution": {
     "iopub.execute_input": "2020-12-09T06:02:21.068438Z",
     "iopub.status.busy": "2020-12-09T06:02:21.067898Z",
     "iopub.status.idle": "2020-12-09T06:02:21.069788Z",
     "shell.execute_reply": "2020-12-09T06:02:21.070225Z"
    },
    "papermill": {
     "duration": 0.033197,
     "end_time": "2020-12-09T06:02:21.070352",
     "exception": false,
     "start_time": "2020-12-09T06:02:21.037155",
     "status": "completed"
    },
    "tags": []
   },
   "outputs": [],
   "source": [
    "sampling_frequency = dict(SAT=100*u.Hz, LAT=400*u.Hz)"
   ]
  },
  {
   "cell_type": "code",
   "execution_count": 8,
   "metadata": {
    "execution": {
     "iopub.execute_input": "2020-12-09T06:02:21.130847Z",
     "iopub.status.busy": "2020-12-09T06:02:21.130316Z",
     "iopub.status.idle": "2020-12-09T06:02:21.132733Z",
     "shell.execute_reply": "2020-12-09T06:02:21.133157Z"
    },
    "papermill": {
     "duration": 0.03477,
     "end_time": "2020-12-09T06:02:21.133295",
     "exception": false,
     "start_time": "2020-12-09T06:02:21.098525",
     "status": "completed"
    },
    "tags": []
   },
   "outputs": [],
   "source": [
    "#telescope = \"SAT\"\n",
    "#channel = \"LFS1\"\n",
    "#site = \"pole\""
   ]
  },
  {
   "cell_type": "code",
   "execution_count": 9,
   "metadata": {
    "execution": {
     "iopub.execute_input": "2020-12-09T06:02:21.193851Z",
     "iopub.status.busy": "2020-12-09T06:02:21.193302Z",
     "iopub.status.idle": "2020-12-09T06:02:21.195399Z",
     "shell.execute_reply": "2020-12-09T06:02:21.195818Z"
    },
    "papermill": {
     "duration": 0.034347,
     "end_time": "2020-12-09T06:02:21.195952",
     "exception": false,
     "start_time": "2020-12-09T06:02:21.161605",
     "status": "completed"
    },
    "tags": []
   },
   "outputs": [],
   "source": [
    "telescope = ch.split(\"-\")[0]\n",
    "channel, site= ch.split(\"-\")[1].split(\"_\")"
   ]
  },
  {
   "cell_type": "code",
   "execution_count": 10,
   "metadata": {
    "execution": {
     "iopub.execute_input": "2020-12-09T06:02:21.258719Z",
     "iopub.status.busy": "2020-12-09T06:02:21.258201Z",
     "iopub.status.idle": "2020-12-09T06:02:21.260008Z",
     "shell.execute_reply": "2020-12-09T06:02:21.260428Z"
    },
    "papermill": {
     "duration": 0.034062,
     "end_time": "2020-12-09T06:02:21.260548",
     "exception": false,
     "start_time": "2020-12-09T06:02:21.226486",
     "status": "completed"
    },
    "tags": []
   },
   "outputs": [],
   "source": [
    "local_path = Path(\"output\")\n",
    "project_path = Path(\"/global/project/projectdirs/cmbs4/dm/dstool/output/\")"
   ]
  },
  {
   "cell_type": "code",
   "execution_count": 11,
   "metadata": {
    "execution": {
     "iopub.execute_input": "2020-12-09T06:02:21.320026Z",
     "iopub.status.busy": "2020-12-09T06:02:21.319441Z",
     "iopub.status.idle": "2020-12-09T06:02:21.334532Z",
     "shell.execute_reply": "2020-12-09T06:02:21.334137Z"
    },
    "papermill": {
     "duration": 0.046153,
     "end_time": "2020-12-09T06:02:21.334628",
     "exception": false,
     "start_time": "2020-12-09T06:02:21.288475",
     "status": "completed"
    },
    "tags": []
   },
   "outputs": [],
   "source": [
    "C_ell = pickle.load(open(local_path / dataset / f\"C_ell_{telescope}_{nsplits}.pkl\", \"rb\"))"
   ]
  },
  {
   "cell_type": "code",
   "execution_count": 12,
   "metadata": {
    "execution": {
     "iopub.execute_input": "2020-12-09T06:02:21.396573Z",
     "iopub.status.busy": "2020-12-09T06:02:21.396009Z",
     "iopub.status.idle": "2020-12-09T06:02:21.398495Z",
     "shell.execute_reply": "2020-12-09T06:02:21.398901Z"
    },
    "papermill": {
     "duration": 0.036888,
     "end_time": "2020-12-09T06:02:21.399035",
     "exception": false,
     "start_time": "2020-12-09T06:02:21.362147",
     "status": "completed"
    },
    "tags": []
   },
   "outputs": [
    {
     "data": {
      "text/plain": [
       "('SAT', 'MFLS1', 'chile')"
      ]
     },
     "execution_count": 12,
     "metadata": {},
     "output_type": "execute_result"
    }
   ],
   "source": [
    "telescope, channel, site"
   ]
  },
  {
   "cell_type": "code",
   "execution_count": 13,
   "metadata": {
    "execution": {
     "iopub.execute_input": "2020-12-09T06:02:21.458658Z",
     "iopub.status.busy": "2020-12-09T06:02:21.458105Z",
     "iopub.status.idle": "2020-12-09T06:02:21.460790Z",
     "shell.execute_reply": "2020-12-09T06:02:21.461171Z"
    },
    "papermill": {
     "duration": 0.034756,
     "end_time": "2020-12-09T06:02:21.461294",
     "exception": false,
     "start_time": "2020-12-09T06:02:21.426538",
     "status": "completed"
    },
    "tags": []
   },
   "outputs": [
    {
     "data": {
      "text/plain": [
       "dict_keys(['SAT-HFS1_chile', 'SAT-HFS2_chile', 'SAT-LFS1_chile', 'SAT-LFS2_chile', 'SAT-MFHS1_chile', 'SAT-MFHS2_chile', 'SAT-MFLS1_chile', 'SAT-MFLS2_chile'])"
      ]
     },
     "execution_count": 13,
     "metadata": {},
     "output_type": "execute_result"
    }
   ],
   "source": [
    "C_ell.keys()"
   ]
  },
  {
   "cell_type": "code",
   "execution_count": 14,
   "metadata": {
    "execution": {
     "iopub.execute_input": "2020-12-09T06:02:21.522797Z",
     "iopub.status.busy": "2020-12-09T06:02:21.522282Z",
     "iopub.status.idle": "2020-12-09T06:02:21.524421Z",
     "shell.execute_reply": "2020-12-09T06:02:21.524799Z"
    },
    "papermill": {
     "duration": 0.035326,
     "end_time": "2020-12-09T06:02:21.524919",
     "exception": false,
     "start_time": "2020-12-09T06:02:21.489593",
     "status": "completed"
    },
    "tags": []
   },
   "outputs": [],
   "source": [
    "nside = 4096 if telescope == \"LAT\" else 512"
   ]
  },
  {
   "cell_type": "code",
   "execution_count": 15,
   "metadata": {
    "execution": {
     "iopub.execute_input": "2020-12-09T06:02:21.581750Z",
     "iopub.status.busy": "2020-12-09T06:02:21.581247Z",
     "iopub.status.idle": "2020-12-09T06:02:21.584418Z",
     "shell.execute_reply": "2020-12-09T06:02:21.584782Z"
    },
    "papermill": {
     "duration": 0.033865,
     "end_time": "2020-12-09T06:02:21.584905",
     "exception": false,
     "start_time": "2020-12-09T06:02:21.551040",
     "status": "completed"
    },
    "tags": []
   },
   "outputs": [],
   "source": [
    "from s4_design_sim_tool.core import base_folder"
   ]
  },
  {
   "cell_type": "code",
   "execution_count": 16,
   "metadata": {
    "execution": {
     "iopub.execute_input": "2020-12-09T06:02:21.650171Z",
     "iopub.status.busy": "2020-12-09T06:02:21.649626Z",
     "iopub.status.idle": "2020-12-09T06:02:21.662008Z",
     "shell.execute_reply": "2020-12-09T06:02:21.661548Z"
    },
    "papermill": {
     "duration": 0.04553,
     "end_time": "2020-12-09T06:02:21.662128",
     "exception": false,
     "start_time": "2020-12-09T06:02:21.616598",
     "status": "completed"
    },
    "tags": []
   },
   "outputs": [],
   "source": [
    "from s4_design_sim_tool.cli import parse_config\n",
    "if site == \"chile\" and telescope == \"SAT\":\n",
    "    config = parse_config(f\"{dataset}.toml\", \"chile_sat.toml\")\n",
    "else:\n",
    "    config = parse_config(f\"{dataset}.toml\")"
   ]
  },
  {
   "cell_type": "code",
   "execution_count": 17,
   "metadata": {
    "execution": {
     "iopub.execute_input": "2020-12-09T06:02:21.724800Z",
     "iopub.status.busy": "2020-12-09T06:02:21.724235Z",
     "iopub.status.idle": "2020-12-09T06:02:21.835014Z",
     "shell.execute_reply": "2020-12-09T06:02:21.835503Z"
    },
    "papermill": {
     "duration": 0.144341,
     "end_time": "2020-12-09T06:02:21.835686",
     "exception": false,
     "start_time": "2020-12-09T06:02:21.691345",
     "status": "completed"
    },
    "tags": []
   },
   "outputs": [
    {
     "name": "stderr",
     "output_type": "stream",
     "text": [
      "/global/homes/z/zonca/condajupynersc/lib/python3.7/site-packages/healpy/fitsfunc.py:369: UserWarning: If you are not specifying the input dtype and using the default np.float64 dtype of read_map(), please consider that it will change in a future version to None as to keep the same dtype of the input file: please explicitly set the dtype if it is important to you.\n",
      "  \"If you are not specifying the input dtype and using the default \"\n",
      "/global/homes/z/zonca/condajupynersc/lib/python3.7/site-packages/healpy/fitsfunc.py:391: UserWarning: NSIDE = 512\n",
      "  warnings.warn(\"NSIDE = {0:d}\".format(nside))\n",
      "/global/homes/z/zonca/condajupynersc/lib/python3.7/site-packages/healpy/fitsfunc.py:400: UserWarning: ORDERING = RING in fits file\n",
      "  warnings.warn(\"ORDERING = {0:s} in fits file\".format(ordering))\n",
      "/global/homes/z/zonca/condajupynersc/lib/python3.7/site-packages/healpy/fitsfunc.py:428: UserWarning: INDXSCHM = IMPLICIT\n",
      "  warnings.warn(\"INDXSCHM = {0:s}\".format(schm))\n"
     ]
    }
   ],
   "source": [
    "hitmap = hp.read_map(local_path / dataset / ch / f\"cmbs4_hitmap_{ch}_nside{nside}_1_of_{nsplits}.fits\")"
   ]
  },
  {
   "cell_type": "code",
   "execution_count": 18,
   "metadata": {
    "execution": {
     "iopub.execute_input": "2020-12-09T06:02:21.898952Z",
     "iopub.status.busy": "2020-12-09T06:02:21.898417Z",
     "iopub.status.idle": "2020-12-09T06:02:21.900770Z",
     "shell.execute_reply": "2020-12-09T06:02:21.901206Z"
    },
    "papermill": {
     "duration": 0.036526,
     "end_time": "2020-12-09T06:02:21.901341",
     "exception": false,
     "start_time": "2020-12-09T06:02:21.864815",
     "status": "completed"
    },
    "tags": []
   },
   "outputs": [
    {
     "data": {
      "text/plain": [
       "'MFLS1'"
      ]
     },
     "execution_count": 18,
     "metadata": {},
     "output_type": "execute_result"
    }
   ],
   "source": [
    "channel"
   ]
  },
  {
   "cell_type": "code",
   "execution_count": 19,
   "metadata": {
    "execution": {
     "iopub.execute_input": "2020-12-09T06:02:21.966706Z",
     "iopub.status.busy": "2020-12-09T06:02:21.966156Z",
     "iopub.status.idle": "2020-12-09T06:02:21.968670Z",
     "shell.execute_reply": "2020-12-09T06:02:21.969080Z"
    },
    "papermill": {
     "duration": 0.03753,
     "end_time": "2020-12-09T06:02:21.969213",
     "exception": false,
     "start_time": "2020-12-09T06:02:21.931683",
     "status": "completed"
    },
    "tags": []
   },
   "outputs": [
    {
     "data": {
      "text/plain": [
       "21"
      ]
     },
     "execution_count": 19,
     "metadata": {},
     "output_type": "execute_result"
    }
   ],
   "source": [
    "from s4_design_sim_tool.noise import get_tube_years\n",
    "tube_years = get_tube_years(config, site, channel)\n",
    "tube_years"
   ]
  },
  {
   "cell_type": "code",
   "execution_count": 20,
   "metadata": {
    "execution": {
     "iopub.execute_input": "2020-12-09T06:02:22.035639Z",
     "iopub.status.busy": "2020-12-09T06:02:22.035043Z",
     "iopub.status.idle": "2020-12-09T06:02:22.041537Z",
     "shell.execute_reply": "2020-12-09T06:02:22.041947Z"
    },
    "papermill": {
     "duration": 0.042324,
     "end_time": "2020-12-09T06:02:22.042105",
     "exception": false,
     "start_time": "2020-12-09T06:02:21.999781",
     "status": "completed"
    },
    "tags": []
   },
   "outputs": [
    {
     "data": {
      "text/plain": [
       "100.11248600166542"
      ]
     },
     "execution_count": 20,
     "metadata": {},
     "output_type": "execute_result"
    }
   ],
   "source": [
    "sampling_rate = hitmap.sum()\n",
    "sampling_rate /= 365.25 * 24 * 3600\n",
    "sampling_rate /= tube_years * config[\"experiment\"][\"observing_efficiency\"]\n",
    "sampling_rate /= s4[channel].attrs[\"detectors_per_tube\"]\n",
    "sampling_rate *= nsplits\n",
    "sampling_rate"
   ]
  },
  {
   "cell_type": "code",
   "execution_count": 21,
   "metadata": {
    "execution": {
     "iopub.execute_input": "2020-12-09T06:02:22.107998Z",
     "iopub.status.busy": "2020-12-09T06:02:22.107418Z",
     "iopub.status.idle": "2020-12-09T06:02:22.109198Z",
     "shell.execute_reply": "2020-12-09T06:02:22.109581Z"
    },
    "papermill": {
     "duration": 0.03707,
     "end_time": "2020-12-09T06:02:22.109714",
     "exception": false,
     "start_time": "2020-12-09T06:02:22.072644",
     "status": "completed"
    },
    "tags": []
   },
   "outputs": [],
   "source": [
    "np.testing.assert_allclose(sampling_rate, sampling_frequency[telescope].value, rtol=1/100)"
   ]
  },
  {
   "cell_type": "code",
   "execution_count": 22,
   "metadata": {
    "execution": {
     "iopub.execute_input": "2020-12-09T06:02:22.174242Z",
     "iopub.status.busy": "2020-12-09T06:02:22.173771Z",
     "iopub.status.idle": "2020-12-09T06:02:22.678237Z",
     "shell.execute_reply": "2020-12-09T06:02:22.678670Z"
    },
    "papermill": {
     "duration": 0.539149,
     "end_time": "2020-12-09T06:02:22.678810",
     "exception": false,
     "start_time": "2020-12-09T06:02:22.139661",
     "status": "completed"
    },
    "tags": []
   },
   "outputs": [
    {
     "name": "stderr",
     "output_type": "stream",
     "text": [
      "/global/homes/z/zonca/condajupynersc/lib/python3.7/site-packages/ipykernel_launcher.py:1: RuntimeWarning: divide by zero encountered in log10\n",
      "  \"\"\"Entry point for launching an IPython kernel.\n",
      "/global/homes/z/zonca/condajupynersc/lib/python3.7/site-packages/healpy/projaxes.py:920: MatplotlibDeprecationWarning: You are modifying the state of a globally registered colormap. In future versions, you will not be able to modify a registered colormap in-place. To remove this warning, you can make a copy of the colormap first. cmap = copy.copy(mpl.cm.get_cmap(\"viridis\"))\n",
      "  newcm.set_over(newcm(1.0))\n",
      "/global/homes/z/zonca/condajupynersc/lib/python3.7/site-packages/healpy/projaxes.py:921: MatplotlibDeprecationWarning: You are modifying the state of a globally registered colormap. In future versions, you will not be able to modify a registered colormap in-place. To remove this warning, you can make a copy of the colormap first. cmap = copy.copy(mpl.cm.get_cmap(\"viridis\"))\n",
      "  newcm.set_under(bgcolor)\n",
      "/global/homes/z/zonca/condajupynersc/lib/python3.7/site-packages/healpy/projaxes.py:922: MatplotlibDeprecationWarning: You are modifying the state of a globally registered colormap. In future versions, you will not be able to modify a registered colormap in-place. To remove this warning, you can make a copy of the colormap first. cmap = copy.copy(mpl.cm.get_cmap(\"viridis\"))\n",
      "  newcm.set_bad(badcolor)\n",
      "/global/homes/z/zonca/condajupynersc/lib/python3.7/site-packages/healpy/projaxes.py:211: MatplotlibDeprecationWarning: Passing parameters norm and vmin/vmax simultaneously is deprecated since 3.3 and will become an error two minor releases later. Please pass vmin/vmax directly to the norm when creating it.\n",
      "  **kwds\n"
     ]
    },
    {
     "data": {
      "image/png": "[encoded data removed]",
      "text/plain": [
       "<Figure size 612x388.8 with 2 Axes>"
      ]
     },
     "metadata": {
      "needs_background": "light"
     },
     "output_type": "display_data"
    }
   ],
   "source": [
    "log_hitmap = np.log10(hitmap)\n",
    "log_hitmap[np.isinf(log_hitmap)] = hp.UNSEEN\n",
    "hp.mollview(log_hitmap, unit=\"log10(samples)\", title=f\"Hitmap {ch}\")\n",
    "plt.savefig(f\"plots/hitmap_{channel}_{site}_1_of_{nsplits}.png\")"
   ]
  },
  {
   "cell_type": "code",
   "execution_count": 23,
   "metadata": {
    "execution": {
     "iopub.execute_input": "2020-12-09T06:02:22.752800Z",
     "iopub.status.busy": "2020-12-09T06:02:22.752250Z",
     "iopub.status.idle": "2020-12-09T06:02:22.908520Z",
     "shell.execute_reply": "2020-12-09T06:02:22.908903Z"
    },
    "papermill": {
     "duration": 0.196698,
     "end_time": "2020-12-09T06:02:22.909042",
     "exception": false,
     "start_time": "2020-12-09T06:02:22.712344",
     "status": "completed"
    },
    "tags": []
   },
   "outputs": [],
   "source": [
    "wcov = hp.read_map(local_path / dataset / ch / f\"cmbs4_wcov_{ch}_nside{nside}_1_of_{nsplits}.fits\", (3))"
   ]
  },
  {
   "cell_type": "code",
   "execution_count": 24,
   "metadata": {
    "execution": {
     "iopub.execute_input": "2020-12-09T06:02:22.980654Z",
     "iopub.status.busy": "2020-12-09T06:02:22.980090Z",
     "iopub.status.idle": "2020-12-09T06:02:22.982716Z",
     "shell.execute_reply": "2020-12-09T06:02:22.983127Z"
    },
    "papermill": {
     "duration": 0.040769,
     "end_time": "2020-12-09T06:02:22.983257",
     "exception": false,
     "start_time": "2020-12-09T06:02:22.942488",
     "status": "completed"
    },
    "tags": []
   },
   "outputs": [
    {
     "data": {
      "text/plain": [
       "(3145728,)"
      ]
     },
     "execution_count": 24,
     "metadata": {},
     "output_type": "execute_result"
    }
   ],
   "source": [
    "wcov.shape"
   ]
  },
  {
   "cell_type": "code",
   "execution_count": 25,
   "metadata": {
    "execution": {
     "iopub.execute_input": "2020-12-09T06:02:23.105733Z",
     "iopub.status.busy": "2020-12-09T06:02:23.105223Z",
     "iopub.status.idle": "2020-12-09T06:02:23.107032Z",
     "shell.execute_reply": "2020-12-09T06:02:23.107422Z"
    },
    "papermill": {
     "duration": 0.056774,
     "end_time": "2020-12-09T06:02:23.107581",
     "exception": false,
     "start_time": "2020-12-09T06:02:23.050807",
     "status": "completed"
    },
    "tags": []
   },
   "outputs": [],
   "source": [
    "import astropy.units as u"
   ]
  },
  {
   "cell_type": "code",
   "execution_count": 26,
   "metadata": {
    "execution": {
     "iopub.execute_input": "2020-12-09T06:02:23.180016Z",
     "iopub.status.busy": "2020-12-09T06:02:23.179425Z",
     "iopub.status.idle": "2020-12-09T06:02:23.181793Z",
     "shell.execute_reply": "2020-12-09T06:02:23.182257Z"
    },
    "papermill": {
     "duration": 0.041187,
     "end_time": "2020-12-09T06:02:23.182410",
     "exception": false,
     "start_time": "2020-12-09T06:02:23.141223",
     "status": "completed"
    },
    "tags": []
   },
   "outputs": [],
   "source": [
    "channel_NET = s4[channel].attrs[\"NET_uKsqrts\"] * u.uK * u.s ** .5"
   ]
  },
  {
   "cell_type": "code",
   "execution_count": 27,
   "metadata": {
    "execution": {
     "iopub.execute_input": "2020-12-09T06:02:23.255080Z",
     "iopub.status.busy": "2020-12-09T06:02:23.254539Z",
     "iopub.status.idle": "2020-12-09T06:02:23.256273Z",
     "shell.execute_reply": "2020-12-09T06:02:23.256711Z"
    },
    "papermill": {
     "duration": 0.040313,
     "end_time": "2020-12-09T06:02:23.256841",
     "exception": false,
     "start_time": "2020-12-09T06:02:23.216528",
     "status": "completed"
    },
    "tags": []
   },
   "outputs": [],
   "source": [
    "if telescope == \"LAT\" and site==\"pole\":\n",
    "    channel_NET = s4[channel].attrs[\"pole_NET_uKsqrts\"] * u.uK * u.s ** .5"
   ]
  },
  {
   "cell_type": "code",
   "execution_count": 28,
   "metadata": {
    "execution": {
     "iopub.execute_input": "2020-12-09T06:02:23.334331Z",
     "iopub.status.busy": "2020-12-09T06:02:23.333782Z",
     "iopub.status.idle": "2020-12-09T06:02:23.447859Z",
     "shell.execute_reply": "2020-12-09T06:02:23.448603Z"
    },
    "papermill": {
     "duration": 0.156141,
     "end_time": "2020-12-09T06:02:23.448832",
     "exception": false,
     "start_time": "2020-12-09T06:02:23.292691",
     "status": "completed"
    },
    "tags": []
   },
   "outputs": [],
   "source": [
    "variance_QQ = wcov * u.K ** 2 * (hitmap / sampling_frequency[telescope]) "
   ]
  },
  {
   "cell_type": "code",
   "execution_count": 29,
   "metadata": {
    "execution": {
     "iopub.execute_input": "2020-12-09T06:02:23.526287Z",
     "iopub.status.busy": "2020-12-09T06:02:23.525703Z",
     "iopub.status.idle": "2020-12-09T06:02:23.536411Z",
     "shell.execute_reply": "2020-12-09T06:02:23.535924Z"
    },
    "papermill": {
     "duration": 0.052842,
     "end_time": "2020-12-09T06:02:23.536511",
     "exception": false,
     "start_time": "2020-12-09T06:02:23.483669",
     "status": "completed"
    },
    "tags": []
   },
   "outputs": [],
   "source": [
    "assert (variance_QQ.value == hp.UNSEEN).sum() == 0"
   ]
  },
  {
   "cell_type": "code",
   "execution_count": 30,
   "metadata": {
    "execution": {
     "iopub.execute_input": "2020-12-09T06:02:23.676764Z",
     "iopub.status.busy": "2020-12-09T06:02:23.676235Z",
     "iopub.status.idle": "2020-12-09T06:02:23.710273Z",
     "shell.execute_reply": "2020-12-09T06:02:23.710632Z"
    },
    "papermill": {
     "duration": 0.076989,
     "end_time": "2020-12-09T06:02:23.710762",
     "exception": false,
     "start_time": "2020-12-09T06:02:23.633773",
     "status": "completed"
    },
    "tags": []
   },
   "outputs": [],
   "source": [
    "full_mission_NET = np.sqrt(np.median(variance_QQ[hitmap != 0]))"
   ]
  },
  {
   "cell_type": "code",
   "execution_count": 31,
   "metadata": {
    "execution": {
     "iopub.execute_input": "2020-12-09T06:02:23.786744Z",
     "iopub.status.busy": "2020-12-09T06:02:23.786193Z",
     "iopub.status.idle": "2020-12-09T06:02:23.788886Z",
     "shell.execute_reply": "2020-12-09T06:02:23.789296Z"
    },
    "papermill": {
     "duration": 0.044735,
     "end_time": "2020-12-09T06:02:23.789424",
     "exception": false,
     "start_time": "2020-12-09T06:02:23.744689",
     "status": "completed"
    },
    "tags": []
   },
   "outputs": [
    {
     "data": {
      "text/latex": [
       "$374.82874 \\; \\mathrm{\\mu K\\,s^{1/2}}$"
      ],
      "text/plain": [
       "<Quantity 374.82874001 s(1/2) uK>"
      ]
     },
     "execution_count": 31,
     "metadata": {},
     "output_type": "execute_result"
    }
   ],
   "source": [
    "full_mission_NET.to(channel_NET.unit)"
   ]
  },
  {
   "cell_type": "code",
   "execution_count": 32,
   "metadata": {
    "execution": {
     "iopub.execute_input": "2020-12-09T06:02:23.863216Z",
     "iopub.status.busy": "2020-12-09T06:02:23.862645Z",
     "iopub.status.idle": "2020-12-09T06:02:23.865336Z",
     "shell.execute_reply": "2020-12-09T06:02:23.865752Z"
    },
    "papermill": {
     "duration": 0.042709,
     "end_time": "2020-12-09T06:02:23.865898",
     "exception": false,
     "start_time": "2020-12-09T06:02:23.823189",
     "status": "completed"
    },
    "tags": []
   },
   "outputs": [
    {
     "data": {
      "text/latex": [
       "$270 \\; \\mathrm{\\mu K\\,s^{1/2}}$"
      ],
      "text/plain": [
       "<Quantity 270. s(1/2) uK>"
      ]
     },
     "execution_count": 32,
     "metadata": {},
     "output_type": "execute_result"
    }
   ],
   "source": [
    "channel_NET"
   ]
  },
  {
   "cell_type": "code",
   "execution_count": 33,
   "metadata": {
    "execution": {
     "iopub.execute_input": "2020-12-09T06:02:23.943875Z",
     "iopub.status.busy": "2020-12-09T06:02:23.943283Z",
     "iopub.status.idle": "2020-12-09T06:02:23.946014Z",
     "shell.execute_reply": "2020-12-09T06:02:23.946437Z"
    },
    "papermill": {
     "duration": 0.046393,
     "end_time": "2020-12-09T06:02:23.946615",
     "exception": false,
     "start_time": "2020-12-09T06:02:23.900222",
     "status": "completed"
    },
    "tags": []
   },
   "outputs": [
    {
     "data": {
      "text/latex": [
       "$265.04394 \\; \\mathrm{\\mu K\\,s^{1/2}}$"
      ],
      "text/plain": [
       "<Quantity 265.04394384 s(1/2) uK>"
      ]
     },
     "execution_count": 33,
     "metadata": {},
     "output_type": "execute_result"
    }
   ],
   "source": [
    "(full_mission_NET/np.sqrt(2)).to(channel_NET.unit)"
   ]
  },
  {
   "cell_type": "code",
   "execution_count": 34,
   "metadata": {
    "execution": {
     "iopub.execute_input": "2020-12-09T06:02:24.021966Z",
     "iopub.status.busy": "2020-12-09T06:02:24.021408Z",
     "iopub.status.idle": "2020-12-09T06:02:24.023577Z",
     "shell.execute_reply": "2020-12-09T06:02:24.024028Z"
    },
    "papermill": {
     "duration": 0.042165,
     "end_time": "2020-12-09T06:02:24.024156",
     "exception": false,
     "start_time": "2020-12-09T06:02:23.981991",
     "status": "completed"
    },
    "tags": []
   },
   "outputs": [],
   "source": [
    "assert_quantity_allclose(full_mission_NET, channel_NET*np.sqrt(2), rtol=10/100) "
   ]
  },
  {
   "cell_type": "code",
   "execution_count": 35,
   "metadata": {
    "execution": {
     "iopub.execute_input": "2020-12-09T06:02:24.098690Z",
     "iopub.status.busy": "2020-12-09T06:02:24.098142Z",
     "iopub.status.idle": "2020-12-09T06:02:24.107378Z",
     "shell.execute_reply": "2020-12-09T06:02:24.107826Z"
    },
    "papermill": {
     "duration": 0.048715,
     "end_time": "2020-12-09T06:02:24.107970",
     "exception": false,
     "start_time": "2020-12-09T06:02:24.059255",
     "status": "completed"
    },
    "tags": []
   },
   "outputs": [],
   "source": [
    "sky_fraction = (hitmap > 0).sum() / len(hitmap)"
   ]
  },
  {
   "cell_type": "code",
   "execution_count": 36,
   "metadata": {
    "execution": {
     "iopub.execute_input": "2020-12-09T06:02:24.181944Z",
     "iopub.status.busy": "2020-12-09T06:02:24.181392Z",
     "iopub.status.idle": "2020-12-09T06:02:24.183849Z",
     "shell.execute_reply": "2020-12-09T06:02:24.184325Z"
    },
    "papermill": {
     "duration": 0.041023,
     "end_time": "2020-12-09T06:02:24.184480",
     "exception": false,
     "start_time": "2020-12-09T06:02:24.143457",
     "status": "completed"
    },
    "tags": []
   },
   "outputs": [
    {
     "data": {
      "text/plain": [
       "0.44712352752685547"
      ]
     },
     "execution_count": 36,
     "metadata": {},
     "output_type": "execute_result"
    }
   ],
   "source": [
    "sky_fraction"
   ]
  },
  {
   "cell_type": "code",
   "execution_count": 37,
   "metadata": {
    "execution": {
     "iopub.execute_input": "2020-12-09T06:02:24.260348Z",
     "iopub.status.busy": "2020-12-09T06:02:24.259810Z",
     "iopub.status.idle": "2020-12-09T06:02:24.261749Z",
     "shell.execute_reply": "2020-12-09T06:02:24.262174Z"
    },
    "papermill": {
     "duration": 0.041765,
     "end_time": "2020-12-09T06:02:24.262306",
     "exception": false,
     "start_time": "2020-12-09T06:02:24.220541",
     "status": "completed"
    },
    "tags": []
   },
   "outputs": [],
   "source": [
    "pixarea = hp.nside2pixarea(nside)"
   ]
  },
  {
   "cell_type": "code",
   "execution_count": 38,
   "metadata": {
    "execution": {
     "iopub.execute_input": "2020-12-09T06:02:24.338452Z",
     "iopub.status.busy": "2020-12-09T06:02:24.337914Z",
     "iopub.status.idle": "2020-12-09T06:02:24.349354Z",
     "shell.execute_reply": "2020-12-09T06:02:24.349791Z"
    },
    "papermill": {
     "duration": 0.052436,
     "end_time": "2020-12-09T06:02:24.349932",
     "exception": false,
     "start_time": "2020-12-09T06:02:24.297496",
     "status": "completed"
    },
    "tags": []
   },
   "outputs": [
    {
     "data": {
      "text/plain": [
       "6.929399114114748e-16"
      ]
     },
     "execution_count": 38,
     "metadata": {},
     "output_type": "execute_result"
    }
   ],
   "source": [
    "np.mean(wcov[hitmap > 0])* pixarea"
   ]
  },
  {
   "cell_type": "code",
   "execution_count": 39,
   "metadata": {
    "execution": {
     "iopub.execute_input": "2020-12-09T06:02:24.465814Z",
     "iopub.status.busy": "2020-12-09T06:02:24.464821Z",
     "iopub.status.idle": "2020-12-09T06:02:24.478426Z",
     "shell.execute_reply": "2020-12-09T06:02:24.477933Z"
    },
    "papermill": {
     "duration": 0.091303,
     "end_time": "2020-12-09T06:02:24.478542",
     "exception": false,
     "start_time": "2020-12-09T06:02:24.387239",
     "status": "completed"
    },
    "tags": []
   },
   "outputs": [],
   "source": [
    "wcov [ wcov == hp.UNSEEN] = 0"
   ]
  },
  {
   "cell_type": "markdown",
   "metadata": {
    "papermill": {
     "duration": 0.034525,
     "end_time": "2020-12-09T06:02:24.549433",
     "exception": false,
     "start_time": "2020-12-09T06:02:24.514908",
     "status": "completed"
    },
    "tags": []
   },
   "source": [
    "## Atmosphere"
   ]
  },
  {
   "cell_type": "code",
   "execution_count": 40,
   "metadata": {
    "execution": {
     "iopub.execute_input": "2020-12-09T06:02:24.626365Z",
     "iopub.status.busy": "2020-12-09T06:02:24.625805Z",
     "iopub.status.idle": "2020-12-09T06:02:24.627621Z",
     "shell.execute_reply": "2020-12-09T06:02:24.628046Z"
    },
    "papermill": {
     "duration": 0.043776,
     "end_time": "2020-12-09T06:02:24.628188",
     "exception": false,
     "start_time": "2020-12-09T06:02:24.584412",
     "status": "completed"
    },
    "tags": []
   },
   "outputs": [],
   "source": [
    "atmosphere_filename = Path(base_folder) / \"00000000\" / f\"{site}_atmosphere_{telescope}_{channel}_filtered_telescope_all_time_all_bmap.fits\""
   ]
  },
  {
   "cell_type": "code",
   "execution_count": 41,
   "metadata": {
    "execution": {
     "iopub.execute_input": "2020-12-09T06:02:24.704897Z",
     "iopub.status.busy": "2020-12-09T06:02:24.704366Z",
     "iopub.status.idle": "2020-12-09T06:02:25.495896Z",
     "shell.execute_reply": "2020-12-09T06:02:25.496770Z"
    },
    "papermill": {
     "duration": 0.831814,
     "end_time": "2020-12-09T06:02:25.497045",
     "exception": false,
     "start_time": "2020-12-09T06:02:24.665231",
     "status": "completed"
    },
    "tags": []
   },
   "outputs": [
    {
     "name": "stderr",
     "output_type": "stream",
     "text": [
      "/global/homes/z/zonca/condajupynersc/lib/python3.7/site-packages/healpy/fitsfunc.py:400: UserWarning: ORDERING = NESTED in fits file\n",
      "  warnings.warn(\"ORDERING = {0:s} in fits file\".format(ordering))\n",
      "/global/homes/z/zonca/condajupynersc/lib/python3.7/site-packages/healpy/fitsfunc.py:486: UserWarning: Ordering converted to RING\n",
      "  warnings.warn(\"Ordering converted to RING\")\n"
     ]
    }
   ],
   "source": [
    "input_atmophere = hp.ma(hp.read_map(atmosphere_filename, (0,1,2)))"
   ]
  },
  {
   "cell_type": "code",
   "execution_count": 42,
   "metadata": {
    "execution": {
     "iopub.execute_input": "2020-12-09T06:02:25.583052Z",
     "iopub.status.busy": "2020-12-09T06:02:25.582536Z",
     "iopub.status.idle": "2020-12-09T06:02:25.645695Z",
     "shell.execute_reply": "2020-12-09T06:02:25.646106Z"
    },
    "papermill": {
     "duration": 0.109314,
     "end_time": "2020-12-09T06:02:25.646253",
     "exception": false,
     "start_time": "2020-12-09T06:02:25.536939",
     "status": "completed"
    },
    "tags": []
   },
   "outputs": [],
   "source": [
    "sqrt_hitmap = hitmap.copy()\n",
    "sqrt_hitmap[hitmap>0] = np.sqrt(hitmap[hitmap>0])"
   ]
  },
  {
   "cell_type": "code",
   "execution_count": 43,
   "metadata": {
    "execution": {
     "iopub.execute_input": "2020-12-09T06:02:25.724406Z",
     "iopub.status.busy": "2020-12-09T06:02:25.723915Z",
     "iopub.status.idle": "2020-12-09T06:02:27.994456Z",
     "shell.execute_reply": "2020-12-09T06:02:27.995121Z"
    },
    "papermill": {
     "duration": 2.311214,
     "end_time": "2020-12-09T06:02:27.995318",
     "exception": false,
     "start_time": "2020-12-09T06:02:25.684104",
     "status": "completed"
    },
    "tags": []
   },
   "outputs": [],
   "source": [
    "atmo_cl = \\\n",
    "hp.anafast(input_atmophere * sqrt_hitmap, use_pixel_weights=True) / np.mean(hitmap) # / sky_fraction"
   ]
  },
  {
   "cell_type": "code",
   "execution_count": 44,
   "metadata": {
    "execution": {
     "iopub.execute_input": "2020-12-09T06:02:28.138523Z",
     "iopub.status.busy": "2020-12-09T06:02:28.137998Z",
     "iopub.status.idle": "2020-12-09T06:02:28.140422Z",
     "shell.execute_reply": "2020-12-09T06:02:28.140017Z"
    },
    "papermill": {
     "duration": 0.065465,
     "end_time": "2020-12-09T06:02:28.140526",
     "exception": false,
     "start_time": "2020-12-09T06:02:28.075061",
     "status": "completed"
    },
    "tags": []
   },
   "outputs": [],
   "source": [
    "from s4_design_sim_tool.atmosphere import get_telecope_years"
   ]
  },
  {
   "cell_type": "code",
   "execution_count": 45,
   "metadata": {
    "execution": {
     "iopub.execute_input": "2020-12-09T06:02:28.219639Z",
     "iopub.status.busy": "2020-12-09T06:02:28.219060Z",
     "iopub.status.idle": "2020-12-09T06:02:28.221088Z",
     "shell.execute_reply": "2020-12-09T06:02:28.221614Z"
    },
    "papermill": {
     "duration": 0.044619,
     "end_time": "2020-12-09T06:02:28.221759",
     "exception": false,
     "start_time": "2020-12-09T06:02:28.177140",
     "status": "completed"
    },
    "tags": []
   },
   "outputs": [],
   "source": [
    "telescope_years = get_telecope_years(config, site, channel)"
   ]
  },
  {
   "cell_type": "code",
   "execution_count": 46,
   "metadata": {
    "execution": {
     "iopub.execute_input": "2020-12-09T06:02:28.301118Z",
     "iopub.status.busy": "2020-12-09T06:02:28.300584Z",
     "iopub.status.idle": "2020-12-09T06:02:28.303414Z",
     "shell.execute_reply": "2020-12-09T06:02:28.303900Z"
    },
    "papermill": {
     "duration": 0.043929,
     "end_time": "2020-12-09T06:02:28.304022",
     "exception": false,
     "start_time": "2020-12-09T06:02:28.260093",
     "status": "completed"
    },
    "tags": []
   },
   "outputs": [
    {
     "data": {
      "text/plain": [
       "7"
      ]
     },
     "execution_count": 46,
     "metadata": {},
     "output_type": "execute_result"
    }
   ],
   "source": [
    "telescope_years"
   ]
  },
  {
   "cell_type": "code",
   "execution_count": 47,
   "metadata": {
    "execution": {
     "iopub.execute_input": "2020-12-09T06:02:28.379577Z",
     "iopub.status.busy": "2020-12-09T06:02:28.379039Z",
     "iopub.status.idle": "2020-12-09T06:02:28.381016Z",
     "shell.execute_reply": "2020-12-09T06:02:28.381432Z"
    },
    "papermill": {
     "duration": 0.041883,
     "end_time": "2020-12-09T06:02:28.381571",
     "exception": false,
     "start_time": "2020-12-09T06:02:28.339688",
     "status": "completed"
    },
    "tags": []
   },
   "outputs": [],
   "source": [
    "from s4_design_sim_tool.core import simulations_observing_efficiency"
   ]
  },
  {
   "cell_type": "code",
   "execution_count": 48,
   "metadata": {
    "execution": {
     "iopub.execute_input": "2020-12-09T06:02:28.465251Z",
     "iopub.status.busy": "2020-12-09T06:02:28.464654Z",
     "iopub.status.idle": "2020-12-09T06:02:28.467620Z",
     "shell.execute_reply": "2020-12-09T06:02:28.467113Z"
    },
    "papermill": {
     "duration": 0.044992,
     "end_time": "2020-12-09T06:02:28.467727",
     "exception": false,
     "start_time": "2020-12-09T06:02:28.422735",
     "status": "completed"
    },
    "tags": []
   },
   "outputs": [
    {
     "data": {
      "text/plain": [
       "{'pole': {'SAT': 0.3931149305555555, 'LAT': 0.321544537037037},\n",
       " 'chile': {'SAT': 0.8656164351851852, 'LAT': 0.917306712962963}}"
      ]
     },
     "execution_count": 48,
     "metadata": {},
     "output_type": "execute_result"
    }
   ],
   "source": [
    "simulations_observing_efficiency"
   ]
  },
  {
   "cell_type": "code",
   "execution_count": 49,
   "metadata": {
    "execution": {
     "iopub.execute_input": "2020-12-09T06:02:28.543911Z",
     "iopub.status.busy": "2020-12-09T06:02:28.543297Z",
     "iopub.status.idle": "2020-12-09T06:02:28.545204Z",
     "shell.execute_reply": "2020-12-09T06:02:28.545601Z"
    },
    "papermill": {
     "duration": 0.040161,
     "end_time": "2020-12-09T06:02:28.545737",
     "exception": false,
     "start_time": "2020-12-09T06:02:28.505576",
     "status": "completed"
    },
    "tags": []
   },
   "outputs": [],
   "source": [
    "atmo_cl *= 10 / 365.25\n",
    "atmo_cl *= simulations_observing_efficiency[site.lower()].get(telescope, 1) / config[\"experiment\"][\"observing_efficiency\"]                                                                    \n",
    "atmo_cl /= telescope_years"
   ]
  },
  {
   "cell_type": "markdown",
   "metadata": {
    "papermill": {
     "duration": 0.036812,
     "end_time": "2020-12-09T06:02:28.618067",
     "exception": false,
     "start_time": "2020-12-09T06:02:28.581255",
     "status": "completed"
    },
    "tags": []
   },
   "source": [
    "## Noise"
   ]
  },
  {
   "cell_type": "code",
   "execution_count": 50,
   "metadata": {
    "execution": {
     "iopub.execute_input": "2020-12-09T06:02:28.696231Z",
     "iopub.status.busy": "2020-12-09T06:02:28.695632Z",
     "iopub.status.idle": "2020-12-09T06:02:28.697410Z",
     "shell.execute_reply": "2020-12-09T06:02:28.697817Z"
    },
    "papermill": {
     "duration": 0.042894,
     "end_time": "2020-12-09T06:02:28.697943",
     "exception": false,
     "start_time": "2020-12-09T06:02:28.655049",
     "status": "completed"
    },
    "tags": []
   },
   "outputs": [],
   "source": [
    "noise_filename = Path(base_folder) / \"00000000\" / f\"{site}_noise_{telescope}_{channel}_filtered_telescope_all_time_all_bmap.fits\""
   ]
  },
  {
   "cell_type": "code",
   "execution_count": 51,
   "metadata": {
    "execution": {
     "iopub.execute_input": "2020-12-09T06:02:28.769538Z",
     "iopub.status.busy": "2020-12-09T06:02:28.768984Z",
     "iopub.status.idle": "2020-12-09T06:02:28.771261Z",
     "shell.execute_reply": "2020-12-09T06:02:28.770791Z"
    },
    "papermill": {
     "duration": 0.039671,
     "end_time": "2020-12-09T06:02:28.771363",
     "exception": false,
     "start_time": "2020-12-09T06:02:28.731692",
     "status": "completed"
    },
    "tags": []
   },
   "outputs": [],
   "source": [
    "#input_noise = hp.ma(hp.read_map(noise_filename, (0,1,2)))"
   ]
  },
  {
   "cell_type": "code",
   "execution_count": 52,
   "metadata": {
    "execution": {
     "iopub.execute_input": "2020-12-09T06:02:28.848834Z",
     "iopub.status.busy": "2020-12-09T06:02:28.848297Z",
     "iopub.status.idle": "2020-12-09T06:02:28.850283Z",
     "shell.execute_reply": "2020-12-09T06:02:28.850714Z"
    },
    "papermill": {
     "duration": 0.043731,
     "end_time": "2020-12-09T06:02:28.850843",
     "exception": false,
     "start_time": "2020-12-09T06:02:28.807112",
     "status": "completed"
    },
    "tags": []
   },
   "outputs": [],
   "source": [
    "#noise_cl = hp.anafast(input_noise * sqrt_hitmap, use_pixel_weights=True) / np.mean(hitmap) / sky_fraction"
   ]
  },
  {
   "cell_type": "code",
   "execution_count": 53,
   "metadata": {
    "execution": {
     "iopub.execute_input": "2020-12-09T06:02:28.933929Z",
     "iopub.status.busy": "2020-12-09T06:02:28.933358Z",
     "iopub.status.idle": "2020-12-09T06:02:28.935127Z",
     "shell.execute_reply": "2020-12-09T06:02:28.935547Z"
    },
    "papermill": {
     "duration": 0.045638,
     "end_time": "2020-12-09T06:02:28.935677",
     "exception": false,
     "start_time": "2020-12-09T06:02:28.890039",
     "status": "completed"
    },
    "tags": []
   },
   "outputs": [],
   "source": [
    "del sqrt_hitmap"
   ]
  },
  {
   "cell_type": "code",
   "execution_count": 54,
   "metadata": {
    "execution": {
     "iopub.execute_input": "2020-12-09T06:02:29.022771Z",
     "iopub.status.busy": "2020-12-09T06:02:29.022230Z",
     "iopub.status.idle": "2020-12-09T06:02:29.024087Z",
     "shell.execute_reply": "2020-12-09T06:02:29.024519Z"
    },
    "papermill": {
     "duration": 0.048456,
     "end_time": "2020-12-09T06:02:29.024645",
     "exception": false,
     "start_time": "2020-12-09T06:02:28.976189",
     "status": "completed"
    },
    "tags": []
   },
   "outputs": [],
   "source": [
    "from s4_design_sim_tool.noise import get_thinfp\n",
    "thinfp = get_thinfp(channel)"
   ]
  },
  {
   "cell_type": "code",
   "execution_count": 55,
   "metadata": {
    "execution": {
     "iopub.execute_input": "2020-12-09T06:02:29.109974Z",
     "iopub.status.busy": "2020-12-09T06:02:29.109435Z",
     "iopub.status.idle": "2020-12-09T06:02:29.111776Z",
     "shell.execute_reply": "2020-12-09T06:02:29.112205Z"
    },
    "papermill": {
     "duration": 0.048892,
     "end_time": "2020-12-09T06:02:29.112355",
     "exception": false,
     "start_time": "2020-12-09T06:02:29.063463",
     "status": "completed"
    },
    "tags": []
   },
   "outputs": [
    {
     "data": {
      "text/html": [
       "&lt;Column name=&apos;thinfp&apos; dtype=&apos;int64&apos; length=1&gt;\n",
       "<table>\n",
       "<tr><td>4</td></tr>\n",
       "</table>"
      ],
      "text/plain": [
       "<Column name='thinfp' dtype='int64' length=1>\n",
       "4"
      ]
     },
     "execution_count": 55,
     "metadata": {},
     "output_type": "execute_result"
    }
   ],
   "source": [
    "thinfp"
   ]
  },
  {
   "cell_type": "code",
   "execution_count": 56,
   "metadata": {
    "execution": {
     "iopub.execute_input": "2020-12-09T06:02:29.200959Z",
     "iopub.status.busy": "2020-12-09T06:02:29.200398Z",
     "iopub.status.idle": "2020-12-09T06:02:29.202399Z",
     "shell.execute_reply": "2020-12-09T06:02:29.202823Z"
    },
    "papermill": {
     "duration": 0.049802,
     "end_time": "2020-12-09T06:02:29.202963",
     "exception": false,
     "start_time": "2020-12-09T06:02:29.153161",
     "status": "completed"
    },
    "tags": []
   },
   "outputs": [],
   "source": [
    "#noise_cl *= 10 / 365.25\n",
    "#noise_cl *= simulations_observing_efficiency[site.lower()].get(telescope, 1) / config[\"experiment\"][\"observing_efficiency\"]                                                                    \n",
    "#noise_cl /= tube_years\n",
    "#noise_cl /= thinfp"
   ]
  },
  {
   "cell_type": "code",
   "execution_count": 57,
   "metadata": {
    "execution": {
     "iopub.execute_input": "2020-12-09T06:02:29.289021Z",
     "iopub.status.busy": "2020-12-09T06:02:29.288460Z",
     "iopub.status.idle": "2020-12-09T06:02:29.300412Z",
     "shell.execute_reply": "2020-12-09T06:02:29.300845Z"
    },
    "papermill": {
     "duration": 0.056207,
     "end_time": "2020-12-09T06:02:29.301001",
     "exception": false,
     "start_time": "2020-12-09T06:02:29.244794",
     "status": "completed"
    },
    "tags": []
   },
   "outputs": [],
   "source": [
    "white_noise_Cl = channel_NET**2 \\\n",
    "/ (hitmap.sum() / sampling_frequency[telescope] / (hitmap>0).sum()) * pixarea # / sky_fraction"
   ]
  },
  {
   "cell_type": "code",
   "execution_count": 58,
   "metadata": {
    "execution": {
     "iopub.execute_input": "2020-12-09T06:02:29.381853Z",
     "iopub.status.busy": "2020-12-09T06:02:29.381312Z",
     "iopub.status.idle": "2020-12-09T06:02:29.384683Z",
     "shell.execute_reply": "2020-12-09T06:02:29.384232Z"
    },
    "papermill": {
     "duration": 0.045189,
     "end_time": "2020-12-09T06:02:29.384787",
     "exception": false,
     "start_time": "2020-12-09T06:02:29.339598",
     "status": "completed"
    },
    "tags": []
   },
   "outputs": [
    {
     "data": {
      "text/latex": [
       "$6.0765867 \\times 10^{-18} \\; \\mathrm{K^{2}}$"
      ],
      "text/plain": [
       "<Quantity 6.07658671e-18 K2>"
      ]
     },
     "execution_count": 58,
     "metadata": {},
     "output_type": "execute_result"
    }
   ],
   "source": [
    "white_noise_Cl.decompose()"
   ]
  },
  {
   "cell_type": "code",
   "execution_count": 59,
   "metadata": {
    "execution": {
     "iopub.execute_input": "2020-12-09T06:02:29.465655Z",
     "iopub.status.busy": "2020-12-09T06:02:29.465155Z",
     "iopub.status.idle": "2020-12-09T06:02:29.927906Z",
     "shell.execute_reply": "2020-12-09T06:02:29.928335Z"
    },
    "papermill": {
     "duration": 0.506497,
     "end_time": "2020-12-09T06:02:29.928476",
     "exception": false,
     "start_time": "2020-12-09T06:02:29.421979",
     "status": "completed"
    },
    "tags": []
   },
   "outputs": [],
   "source": [
    "import seaborn as sns"
   ]
  },
  {
   "cell_type": "code",
   "execution_count": 60,
   "metadata": {
    "execution": {
     "iopub.execute_input": "2020-12-09T06:02:30.006306Z",
     "iopub.status.busy": "2020-12-09T06:02:30.005763Z",
     "iopub.status.idle": "2020-12-09T06:02:30.007496Z",
     "shell.execute_reply": "2020-12-09T06:02:30.007948Z"
    },
    "papermill": {
     "duration": 0.042998,
     "end_time": "2020-12-09T06:02:30.008074",
     "exception": false,
     "start_time": "2020-12-09T06:02:29.965076",
     "status": "completed"
    },
    "tags": []
   },
   "outputs": [],
   "source": [
    "sns.set_style(\"whitegrid\")"
   ]
  },
  {
   "cell_type": "code",
   "execution_count": 61,
   "metadata": {
    "execution": {
     "iopub.execute_input": "2020-12-09T06:02:30.098834Z",
     "iopub.status.busy": "2020-12-09T06:02:30.098224Z",
     "iopub.status.idle": "2020-12-09T06:02:32.552606Z",
     "shell.execute_reply": "2020-12-09T06:02:32.553011Z"
    },
    "papermill": {
     "duration": 2.507245,
     "end_time": "2020-12-09T06:02:32.553147",
     "exception": false,
     "start_time": "2020-12-09T06:02:30.045902",
     "status": "completed"
    },
    "tags": []
   },
   "outputs": [
    {
     "data": {
      "image/png": "[encoded data removed]",
      "text/plain": [
       "<Figure size 576x360 with 1 Axes>"
      ]
     },
     "metadata": {},
     "output_type": "display_data"
    }
   ],
   "source": [
    "plt.figure(figsize=(8,5))\n",
    "\n",
    "pols = [\"TT\", \"EE\", \"BB\"]\n",
    "\n",
    "for i, pol in enumerate(pols):\n",
    "    for split in range(1, nsplits+1):\n",
    "        plt.loglog(C_ell[ch][split][i], alpha=.8, label=pol)\n",
    "\n",
    "for i, pol in enumerate(pols):\n",
    "    plt.loglog(atmo_cl[i]*nsplits, alpha=.8, ls=\"--\", label=f\"atmo {pol}\")\n",
    "\n",
    "#for i, pol in enumerate(pols):\n",
    "#    plt.loglog(noise_cl[i], alpha=.8, ls=\"-.\", label=f\"noise {pol}\")\n",
    "\n",
    "plt.axhline(white_noise_Cl.to_value(u.K**2), ls=\":\",\n",
    "           label=\"white noise T\", color=\"black\")\n",
    "plt.axhline(white_noise_Cl.to_value(u.K**2)*2, ls=\":\",\n",
    "           label=\"white noise P\", color=\"grey\")\n",
    "plt.legend()\n",
    "plt.title(f\"Noise + Atmosphere simulations spectra for {ch}\")\n",
    "plt.ylabel(\"$C_\\ell [K^2]$\")\n",
    "plt.xlabel(\"$\\ell$\")\n",
    "plt.xlim((10, 3*nside))\n",
    "plt.grid(True)\n",
    "plt.savefig(f\"plots/C_ell_{dataset}_{ch}_{nsplits}.png\");"
   ]
  },
  {
   "cell_type": "code",
   "execution_count": null,
   "metadata": {
    "papermill": {
     "duration": 0.039411,
     "end_time": "2020-12-09T06:02:32.632768",
     "exception": false,
     "start_time": "2020-12-09T06:02:32.593357",
     "status": "completed"
    },
    "tags": []
   },
   "outputs": [],
   "source": []
  }
 ],
 "metadata": {
  "kernelspec": {
   "display_name": "condajupynersc",
   "language": "python",
   "name": "condajupynersc"
  },
  "language_info": {
   "codemirror_mode": {
    "name": "ipython",
    "version": 3
   },
   "file_extension": ".py",
   "mimetype": "text/x-python",
   "name": "python",
   "nbconvert_exporter": "python",
   "pygments_lexer": "ipython3",
   "version": "3.7.0"
  },
  "papermill": {
   "duration": 16.087537,
   "end_time": "2020-12-09T06:02:33.214882",
   "environment_variables": {},
   "exception": null,
   "input_path": "validation_atmo_noise_dec_2020.ipynb",
   "output_path": "validation_notebooks/SAT-MFLS1_chile_7.ipynb",
   "parameters": {
    "ch": "SAT-MFLS1_chile",
    "nsplits": 7
   },
   "start_time": "2020-12-09T06:02:17.127345",
   "version": "2.1.2"
  }
 },
 "nbformat": 4,
 "nbformat_minor": 4
}