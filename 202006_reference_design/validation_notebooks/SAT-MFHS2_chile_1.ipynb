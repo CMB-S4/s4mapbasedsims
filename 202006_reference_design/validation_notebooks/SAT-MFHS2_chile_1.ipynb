{
 "cells": [
  {
   "cell_type": "code",
   "execution_count": 1,
   "metadata": {
    "execution": {
     "iopub.execute_input": "2020-12-09T05:35:03.822076Z",
     "iopub.status.busy": "2020-12-09T05:35:03.821167Z",
     "iopub.status.idle": "2020-12-09T05:35:06.378353Z",
     "shell.execute_reply": "2020-12-09T05:35:06.378841Z"
    },
    "papermill": {
     "duration": 2.607479,
     "end_time": "2020-12-09T05:35:06.379135",
     "exception": false,
     "start_time": "2020-12-09T05:35:03.771656",
     "status": "completed"
    },
    "tags": []
   },
   "outputs": [],
   "source": [
    "import healpy as hp\n",
    "import numpy as np\n",
    "%matplotlib inline\n",
    "import matplotlib.pyplot as plt\n",
    "from pathlib import Path\n",
    "from astropy.tests.helper import assert_quantity_allclose\n",
    "import pickle\n",
    "import sys\n",
    "import os\n",
    "from astropy import units as u"
   ]
  },
  {
   "cell_type": "code",
   "execution_count": 2,
   "metadata": {
    "execution": {
     "iopub.execute_input": "2020-12-09T05:35:06.456285Z",
     "iopub.status.busy": "2020-12-09T05:35:06.455680Z",
     "iopub.status.idle": "2020-12-09T05:35:06.518828Z",
     "shell.execute_reply": "2020-12-09T05:35:06.519334Z"
    },
    "papermill": {
     "duration": 0.100332,
     "end_time": "2020-12-09T05:35:06.519523",
     "exception": false,
     "start_time": "2020-12-09T05:35:06.419191",
     "status": "completed"
    },
    "tags": []
   },
   "outputs": [],
   "source": [
    "import h5py\n",
    "s4 = h5py.File(\"cmbs4_tophat.h5\", mode=\"r\")"
   ]
  },
  {
   "cell_type": "code",
   "execution_count": 3,
   "metadata": {
    "execution": {
     "iopub.execute_input": "2020-12-09T05:35:06.591596Z",
     "iopub.status.busy": "2020-12-09T05:35:06.590927Z",
     "iopub.status.idle": "2020-12-09T05:35:06.593057Z",
     "shell.execute_reply": "2020-12-09T05:35:06.593547Z"
    },
    "papermill": {
     "duration": 0.037112,
     "end_time": "2020-12-09T05:35:06.593747",
     "exception": false,
     "start_time": "2020-12-09T05:35:06.556635",
     "status": "completed"
    },
    "tags": []
   },
   "outputs": [],
   "source": [
    "dataset = \"s4_reference_design_noise_atmo_7splits\""
   ]
  },
  {
   "cell_type": "code",
   "execution_count": 4,
   "metadata": {
    "execution": {
     "iopub.execute_input": "2020-12-09T05:35:06.665985Z",
     "iopub.status.busy": "2020-12-09T05:35:06.665432Z",
     "iopub.status.idle": "2020-12-09T05:35:06.667230Z",
     "shell.execute_reply": "2020-12-09T05:35:06.667750Z"
    },
    "papermill": {
     "duration": 0.036251,
     "end_time": "2020-12-09T05:35:06.667909",
     "exception": false,
     "start_time": "2020-12-09T05:35:06.631658",
     "status": "completed"
    },
    "tags": [
     "parameters"
    ]
   },
   "outputs": [],
   "source": [
    "ch = f\"SAT-HFS1_chile\"\n",
    "nsplits = 1"
   ]
  },
  {
   "cell_type": "code",
   "execution_count": 5,
   "metadata": {
    "execution": {
     "iopub.execute_input": "2020-12-09T05:35:06.737289Z",
     "iopub.status.busy": "2020-12-09T05:35:06.736503Z",
     "iopub.status.idle": "2020-12-09T05:35:06.738556Z",
     "shell.execute_reply": "2020-12-09T05:35:06.739033Z"
    },
    "papermill": {
     "duration": 0.039547,
     "end_time": "2020-12-09T05:35:06.739202",
     "exception": false,
     "start_time": "2020-12-09T05:35:06.699655",
     "status": "completed"
    },
    "tags": [
     "injected-parameters"
    ]
   },
   "outputs": [],
   "source": [
    "# Parameters\n",
    "ch = \"SAT-MFHS2_chile\"\n",
    "nsplits = 1\n"
   ]
  },
  {
   "cell_type": "code",
   "execution_count": 6,
   "metadata": {
    "execution": {
     "iopub.execute_input": "2020-12-09T05:35:06.807617Z",
     "iopub.status.busy": "2020-12-09T05:35:06.806955Z",
     "iopub.status.idle": "2020-12-09T05:35:06.814713Z",
     "shell.execute_reply": "2020-12-09T05:35:06.815264Z"
    },
    "papermill": {
     "duration": 0.046373,
     "end_time": "2020-12-09T05:35:06.815531",
     "exception": false,
     "start_time": "2020-12-09T05:35:06.769158",
     "status": "completed"
    },
    "tags": []
   },
   "outputs": [],
   "source": [
    "if os.path.exists(f\"plots/C_ell_{dataset}_{ch}_{nsplits}.png\"):\n",
    "    sys.exit(0)"
   ]
  },
  {
   "cell_type": "code",
   "execution_count": 7,
   "metadata": {
    "execution": {
     "iopub.execute_input": "2020-12-09T05:35:06.883109Z",
     "iopub.status.busy": "2020-12-09T05:35:06.882282Z",
     "iopub.status.idle": "2020-12-09T05:35:06.885127Z",
     "shell.execute_reply": "2020-12-09T05:35:06.884569Z"
    },
    "papermill": {
     "duration": 0.036014,
     "end_time": "2020-12-09T05:35:06.885277",
     "exception": false,
     "start_time": "2020-12-09T05:35:06.849263",
     "status": "completed"
    },
    "tags": []
   },
   "outputs": [],
   "source": [
    "sampling_frequency = dict(SAT=100*u.Hz, LAT=400*u.Hz)"
   ]
  },
  {
   "cell_type": "code",
   "execution_count": 8,
   "metadata": {
    "execution": {
     "iopub.execute_input": "2020-12-09T05:35:06.957973Z",
     "iopub.status.busy": "2020-12-09T05:35:06.957290Z",
     "iopub.status.idle": "2020-12-09T05:35:06.959271Z",
     "shell.execute_reply": "2020-12-09T05:35:06.959700Z"
    },
    "papermill": {
     "duration": 0.03617,
     "end_time": "2020-12-09T05:35:06.959849",
     "exception": false,
     "start_time": "2020-12-09T05:35:06.923679",
     "status": "completed"
    },
    "tags": []
   },
   "outputs": [],
   "source": [
    "#telescope = \"SAT\"\n",
    "#channel = \"LFS1\"\n",
    "#site = \"pole\""
   ]
  },
  {
   "cell_type": "code",
   "execution_count": 9,
   "metadata": {
    "execution": {
     "iopub.execute_input": "2020-12-09T05:35:07.041317Z",
     "iopub.status.busy": "2020-12-09T05:35:07.040373Z",
     "iopub.status.idle": "2020-12-09T05:35:07.042332Z",
     "shell.execute_reply": "2020-12-09T05:35:07.043112Z"
    },
    "papermill": {
     "duration": 0.051571,
     "end_time": "2020-12-09T05:35:07.043359",
     "exception": false,
     "start_time": "2020-12-09T05:35:06.991788",
     "status": "completed"
    },
    "tags": []
   },
   "outputs": [],
   "source": [
    "telescope = ch.split(\"-\")[0]\n",
    "channel, site= ch.split(\"-\")[1].split(\"_\")"
   ]
  },
  {
   "cell_type": "code",
   "execution_count": 10,
   "metadata": {
    "execution": {
     "iopub.execute_input": "2020-12-09T05:35:07.118341Z",
     "iopub.status.busy": "2020-12-09T05:35:07.117684Z",
     "iopub.status.idle": "2020-12-09T05:35:07.120373Z",
     "shell.execute_reply": "2020-12-09T05:35:07.120870Z"
    },
    "papermill": {
     "duration": 0.042878,
     "end_time": "2020-12-09T05:35:07.121102",
     "exception": false,
     "start_time": "2020-12-09T05:35:07.078224",
     "status": "completed"
    },
    "tags": []
   },
   "outputs": [],
   "source": [
    "local_path = Path(\"output\")\n",
    "project_path = Path(\"/global/project/projectdirs/cmbs4/dm/dstool/output/\")"
   ]
  },
  {
   "cell_type": "code",
   "execution_count": 11,
   "metadata": {
    "execution": {
     "iopub.execute_input": "2020-12-09T05:35:07.188833Z",
     "iopub.status.busy": "2020-12-09T05:35:07.188123Z",
     "iopub.status.idle": "2020-12-09T05:35:07.216185Z",
     "shell.execute_reply": "2020-12-09T05:35:07.216701Z"
    },
    "papermill": {
     "duration": 0.064227,
     "end_time": "2020-12-09T05:35:07.216895",
     "exception": false,
     "start_time": "2020-12-09T05:35:07.152668",
     "status": "completed"
    },
    "tags": []
   },
   "outputs": [],
   "source": [
    "C_ell = pickle.load(open(local_path / dataset / f\"C_ell_{telescope}_{nsplits}.pkl\", \"rb\"))"
   ]
  },
  {
   "cell_type": "code",
   "execution_count": 12,
   "metadata": {
    "execution": {
     "iopub.execute_input": "2020-12-09T05:35:07.294747Z",
     "iopub.status.busy": "2020-12-09T05:35:07.293986Z",
     "iopub.status.idle": "2020-12-09T05:35:07.298167Z",
     "shell.execute_reply": "2020-12-09T05:35:07.298704Z"
    },
    "papermill": {
     "duration": 0.04544,
     "end_time": "2020-12-09T05:35:07.298936",
     "exception": false,
     "start_time": "2020-12-09T05:35:07.253496",
     "status": "completed"
    },
    "tags": []
   },
   "outputs": [
    {
     "data": {
      "text/plain": [
       "('SAT', 'MFHS2', 'chile')"
      ]
     },
     "execution_count": 12,
     "metadata": {},
     "output_type": "execute_result"
    }
   ],
   "source": [
    "telescope, channel, site"
   ]
  },
  {
   "cell_type": "code",
   "execution_count": 13,
   "metadata": {
    "execution": {
     "iopub.execute_input": "2020-12-09T05:35:07.379618Z",
     "iopub.status.busy": "2020-12-09T05:35:07.379005Z",
     "iopub.status.idle": "2020-12-09T05:35:07.381232Z",
     "shell.execute_reply": "2020-12-09T05:35:07.381764Z"
    },
    "papermill": {
     "duration": 0.040683,
     "end_time": "2020-12-09T05:35:07.382091",
     "exception": false,
     "start_time": "2020-12-09T05:35:07.341408",
     "status": "completed"
    },
    "tags": []
   },
   "outputs": [
    {
     "data": {
      "text/plain": [
       "dict_keys(['SAT-HFS1_chile', 'SAT-HFS2_chile', 'SAT-LFS1_chile', 'SAT-LFS2_chile', 'SAT-MFHS1_chile', 'SAT-MFHS2_chile', 'SAT-MFLS1_chile', 'SAT-MFLS2_chile'])"
      ]
     },
     "execution_count": 13,
     "metadata": {},
     "output_type": "execute_result"
    }
   ],
   "source": [
    "C_ell.keys()"
   ]
  },
  {
   "cell_type": "code",
   "execution_count": 14,
   "metadata": {
    "execution": {
     "iopub.execute_input": "2020-12-09T05:35:07.457634Z",
     "iopub.status.busy": "2020-12-09T05:35:07.456868Z",
     "iopub.status.idle": "2020-12-09T05:35:07.458395Z",
     "shell.execute_reply": "2020-12-09T05:35:07.458839Z"
    },
    "papermill": {
     "duration": 0.039559,
     "end_time": "2020-12-09T05:35:07.458984",
     "exception": false,
     "start_time": "2020-12-09T05:35:07.419425",
     "status": "completed"
    },
    "tags": []
   },
   "outputs": [],
   "source": [
    "nside = 4096 if telescope == \"LAT\" else 512"
   ]
  },
  {
   "cell_type": "code",
   "execution_count": 15,
   "metadata": {
    "execution": {
     "iopub.execute_input": "2020-12-09T05:35:07.565773Z",
     "iopub.status.busy": "2020-12-09T05:35:07.565226Z",
     "iopub.status.idle": "2020-12-09T05:35:07.568798Z",
     "shell.execute_reply": "2020-12-09T05:35:07.569223Z"
    },
    "papermill": {
     "duration": 0.050376,
     "end_time": "2020-12-09T05:35:07.569379",
     "exception": false,
     "start_time": "2020-12-09T05:35:07.519003",
     "status": "completed"
    },
    "tags": []
   },
   "outputs": [],
   "source": [
    "from s4_design_sim_tool.core import base_folder"
   ]
  },
  {
   "cell_type": "code",
   "execution_count": 16,
   "metadata": {
    "execution": {
     "iopub.execute_input": "2020-12-09T05:35:07.677223Z",
     "iopub.status.busy": "2020-12-09T05:35:07.676678Z",
     "iopub.status.idle": "2020-12-09T05:35:07.697422Z",
     "shell.execute_reply": "2020-12-09T05:35:07.696243Z"
    },
    "papermill": {
     "duration": 0.058488,
     "end_time": "2020-12-09T05:35:07.697721",
     "exception": false,
     "start_time": "2020-12-09T05:35:07.639233",
     "status": "completed"
    },
    "tags": []
   },
   "outputs": [],
   "source": [
    "from s4_design_sim_tool.cli import parse_config\n",
    "if site == \"chile\" and telescope == \"SAT\":\n",
    "    config = parse_config(f\"{dataset}.toml\", \"chile_sat.toml\")\n",
    "else:\n",
    "    config = parse_config(f\"{dataset}.toml\")"
   ]
  },
  {
   "cell_type": "code",
   "execution_count": 17,
   "metadata": {
    "execution": {
     "iopub.execute_input": "2020-12-09T05:35:07.798157Z",
     "iopub.status.busy": "2020-12-09T05:35:07.796595Z",
     "iopub.status.idle": "2020-12-09T05:35:07.961982Z",
     "shell.execute_reply": "2020-12-09T05:35:07.961502Z"
    },
    "papermill": {
     "duration": 0.206981,
     "end_time": "2020-12-09T05:35:07.962101",
     "exception": false,
     "start_time": "2020-12-09T05:35:07.755120",
     "status": "completed"
    },
    "tags": []
   },
   "outputs": [
    {
     "name": "stderr",
     "output_type": "stream",
     "text": [
      "/global/homes/z/zonca/condajupynersc/lib/python3.7/site-packages/healpy/fitsfunc.py:369: UserWarning: If you are not specifying the input dtype and using the default np.float64 dtype of read_map(), please consider that it will change in a future version to None as to keep the same dtype of the input file: please explicitly set the dtype if it is important to you.\n",
      "  \"If you are not specifying the input dtype and using the default \"\n",
      "/global/homes/z/zonca/condajupynersc/lib/python3.7/site-packages/healpy/fitsfunc.py:391: UserWarning: NSIDE = 512\n",
      "  warnings.warn(\"NSIDE = {0:d}\".format(nside))\n",
      "/global/homes/z/zonca/condajupynersc/lib/python3.7/site-packages/healpy/fitsfunc.py:400: UserWarning: ORDERING = RING in fits file\n",
      "  warnings.warn(\"ORDERING = {0:s} in fits file\".format(ordering))\n",
      "/global/homes/z/zonca/condajupynersc/lib/python3.7/site-packages/healpy/fitsfunc.py:428: UserWarning: INDXSCHM = IMPLICIT\n",
      "  warnings.warn(\"INDXSCHM = {0:s}\".format(schm))\n"
     ]
    }
   ],
   "source": [
    "hitmap = hp.read_map(local_path / dataset / ch / f\"cmbs4_hitmap_{ch}_nside{nside}_1_of_{nsplits}.fits\")"
   ]
  },
  {
   "cell_type": "code",
   "execution_count": 18,
   "metadata": {
    "execution": {
     "iopub.execute_input": "2020-12-09T05:35:08.037698Z",
     "iopub.status.busy": "2020-12-09T05:35:08.036996Z",
     "iopub.status.idle": "2020-12-09T05:35:08.039535Z",
     "shell.execute_reply": "2020-12-09T05:35:08.040050Z"
    },
    "papermill": {
     "duration": 0.044571,
     "end_time": "2020-12-09T05:35:08.040213",
     "exception": false,
     "start_time": "2020-12-09T05:35:07.995642",
     "status": "completed"
    },
    "tags": []
   },
   "outputs": [
    {
     "data": {
      "text/plain": [
       "'MFHS2'"
      ]
     },
     "execution_count": 18,
     "metadata": {},
     "output_type": "execute_result"
    }
   ],
   "source": [
    "channel"
   ]
  },
  {
   "cell_type": "code",
   "execution_count": 19,
   "metadata": {
    "execution": {
     "iopub.execute_input": "2020-12-09T05:35:08.112376Z",
     "iopub.status.busy": "2020-12-09T05:35:08.111607Z",
     "iopub.status.idle": "2020-12-09T05:35:08.114246Z",
     "shell.execute_reply": "2020-12-09T05:35:08.114750Z"
    },
    "papermill": {
     "duration": 0.042203,
     "end_time": "2020-12-09T05:35:08.114915",
     "exception": false,
     "start_time": "2020-12-09T05:35:08.072712",
     "status": "completed"
    },
    "tags": []
   },
   "outputs": [
    {
     "data": {
      "text/plain": [
       "21"
      ]
     },
     "execution_count": 19,
     "metadata": {},
     "output_type": "execute_result"
    }
   ],
   "source": [
    "from s4_design_sim_tool.noise import get_tube_years\n",
    "tube_years = get_tube_years(config, site, channel)\n",
    "tube_years"
   ]
  },
  {
   "cell_type": "code",
   "execution_count": 20,
   "metadata": {
    "execution": {
     "iopub.execute_input": "2020-12-09T05:35:08.188137Z",
     "iopub.status.busy": "2020-12-09T05:35:08.187377Z",
     "iopub.status.idle": "2020-12-09T05:35:08.196948Z",
     "shell.execute_reply": "2020-12-09T05:35:08.196419Z"
    },
    "papermill": {
     "duration": 0.047136,
     "end_time": "2020-12-09T05:35:08.197080",
     "exception": false,
     "start_time": "2020-12-09T05:35:08.149944",
     "status": "completed"
    },
    "tags": []
   },
   "outputs": [
    {
     "data": {
      "text/plain": [
       "100.11248596396483"
      ]
     },
     "execution_count": 20,
     "metadata": {},
     "output_type": "execute_result"
    }
   ],
   "source": [
    "sampling_rate = hitmap.sum()\n",
    "sampling_rate /= 365.25 * 24 * 3600\n",
    "sampling_rate /= tube_years * config[\"experiment\"][\"observing_efficiency\"]\n",
    "sampling_rate /= s4[channel].attrs[\"detectors_per_tube\"]\n",
    "sampling_rate *= nsplits\n",
    "sampling_rate"
   ]
  },
  {
   "cell_type": "code",
   "execution_count": 21,
   "metadata": {
    "execution": {
     "iopub.execute_input": "2020-12-09T05:35:08.282018Z",
     "iopub.status.busy": "2020-12-09T05:35:08.281478Z",
     "iopub.status.idle": "2020-12-09T05:35:08.284189Z",
     "shell.execute_reply": "2020-12-09T05:35:08.283679Z"
    },
    "papermill": {
     "duration": 0.045623,
     "end_time": "2020-12-09T05:35:08.284312",
     "exception": false,
     "start_time": "2020-12-09T05:35:08.238689",
     "status": "completed"
    },
    "tags": []
   },
   "outputs": [],
   "source": [
    "np.testing.assert_allclose(sampling_rate, sampling_frequency[telescope].value, rtol=1/100)"
   ]
  },
  {
   "cell_type": "code",
   "execution_count": 22,
   "metadata": {
    "execution": {
     "iopub.execute_input": "2020-12-09T05:35:08.358565Z",
     "iopub.status.busy": "2020-12-09T05:35:08.357990Z",
     "iopub.status.idle": "2020-12-09T05:35:08.977855Z",
     "shell.execute_reply": "2020-12-09T05:35:08.978292Z"
    },
    "papermill": {
     "duration": 0.658389,
     "end_time": "2020-12-09T05:35:08.978485",
     "exception": false,
     "start_time": "2020-12-09T05:35:08.320096",
     "status": "completed"
    },
    "tags": []
   },
   "outputs": [
    {
     "name": "stderr",
     "output_type": "stream",
     "text": [
      "/global/homes/z/zonca/condajupynersc/lib/python3.7/site-packages/ipykernel_launcher.py:1: RuntimeWarning: divide by zero encountered in log10\n",
      "  \"\"\"Entry point for launching an IPython kernel.\n",
      "/global/homes/z/zonca/condajupynersc/lib/python3.7/site-packages/healpy/projaxes.py:920: MatplotlibDeprecationWarning: You are modifying the state of a globally registered colormap. In future versions, you will not be able to modify a registered colormap in-place. To remove this warning, you can make a copy of the colormap first. cmap = copy.copy(mpl.cm.get_cmap(\"viridis\"))\n",
      "  newcm.set_over(newcm(1.0))\n",
      "/global/homes/z/zonca/condajupynersc/lib/python3.7/site-packages/healpy/projaxes.py:921: MatplotlibDeprecationWarning: You are modifying the state of a globally registered colormap. In future versions, you will not be able to modify a registered colormap in-place. To remove this warning, you can make a copy of the colormap first. cmap = copy.copy(mpl.cm.get_cmap(\"viridis\"))\n",
      "  newcm.set_under(bgcolor)\n",
      "/global/homes/z/zonca/condajupynersc/lib/python3.7/site-packages/healpy/projaxes.py:922: MatplotlibDeprecationWarning: You are modifying the state of a globally registered colormap. In future versions, you will not be able to modify a registered colormap in-place. To remove this warning, you can make a copy of the colormap first. cmap = copy.copy(mpl.cm.get_cmap(\"viridis\"))\n",
      "  newcm.set_bad(badcolor)\n",
      "/global/homes/z/zonca/condajupynersc/lib/python3.7/site-packages/healpy/projaxes.py:211: MatplotlibDeprecationWarning: Passing parameters norm and vmin/vmax simultaneously is deprecated since 3.3 and will become an error two minor releases later. Please pass vmin/vmax directly to the norm when creating it.\n",
      "  **kwds\n"
     ]
    },
    {
     "data": {
      "image/png": "[encoded data removed]",
      "text/plain": [
       "<Figure size 612x388.8 with 2 Axes>"
      ]
     },
     "metadata": {
      "needs_background": "light"
     },
     "output_type": "display_data"
    }
   ],
   "source": [
    "log_hitmap = np.log10(hitmap)\n",
    "log_hitmap[np.isinf(log_hitmap)] = hp.UNSEEN\n",
    "hp.mollview(log_hitmap, unit=\"log10(samples)\", title=f\"Hitmap {ch}\")\n",
    "plt.savefig(f\"plots/hitmap_{channel}_{site}_1_of_{nsplits}.png\")"
   ]
  },
  {
   "cell_type": "code",
   "execution_count": 23,
   "metadata": {
    "execution": {
     "iopub.execute_input": "2020-12-09T05:35:09.071052Z",
     "iopub.status.busy": "2020-12-09T05:35:09.070508Z",
     "iopub.status.idle": "2020-12-09T05:35:09.358333Z",
     "shell.execute_reply": "2020-12-09T05:35:09.358781Z"
    },
    "papermill": {
     "duration": 0.332328,
     "end_time": "2020-12-09T05:35:09.358932",
     "exception": false,
     "start_time": "2020-12-09T05:35:09.026604",
     "status": "completed"
    },
    "tags": []
   },
   "outputs": [],
   "source": [
    "wcov = hp.read_map(local_path / dataset / ch / f\"cmbs4_wcov_{ch}_nside{nside}_1_of_{nsplits}.fits\", (3))"
   ]
  },
  {
   "cell_type": "code",
   "execution_count": 24,
   "metadata": {
    "execution": {
     "iopub.execute_input": "2020-12-09T05:35:09.467784Z",
     "iopub.status.busy": "2020-12-09T05:35:09.467249Z",
     "iopub.status.idle": "2020-12-09T05:35:09.470246Z",
     "shell.execute_reply": "2020-12-09T05:35:09.469813Z"
    },
    "papermill": {
     "duration": 0.059772,
     "end_time": "2020-12-09T05:35:09.470355",
     "exception": false,
     "start_time": "2020-12-09T05:35:09.410583",
     "status": "completed"
    },
    "tags": []
   },
   "outputs": [
    {
     "data": {
      "text/plain": [
       "(3145728,)"
      ]
     },
     "execution_count": 24,
     "metadata": {},
     "output_type": "execute_result"
    }
   ],
   "source": [
    "wcov.shape"
   ]
  },
  {
   "cell_type": "code",
   "execution_count": 25,
   "metadata": {
    "execution": {
     "iopub.execute_input": "2020-12-09T05:35:09.581121Z",
     "iopub.status.busy": "2020-12-09T05:35:09.580567Z",
     "iopub.status.idle": "2020-12-09T05:35:09.582101Z",
     "shell.execute_reply": "2020-12-09T05:35:09.582650Z"
    },
    "papermill": {
     "duration": 0.042248,
     "end_time": "2020-12-09T05:35:09.583123",
     "exception": false,
     "start_time": "2020-12-09T05:35:09.540875",
     "status": "completed"
    },
    "tags": []
   },
   "outputs": [],
   "source": [
    "import astropy.units as u"
   ]
  },
  {
   "cell_type": "code",
   "execution_count": 26,
   "metadata": {
    "execution": {
     "iopub.execute_input": "2020-12-09T05:35:09.696035Z",
     "iopub.status.busy": "2020-12-09T05:35:09.694892Z",
     "iopub.status.idle": "2020-12-09T05:35:09.697237Z",
     "shell.execute_reply": "2020-12-09T05:35:09.698124Z"
    },
    "papermill": {
     "duration": 0.047709,
     "end_time": "2020-12-09T05:35:09.698377",
     "exception": false,
     "start_time": "2020-12-09T05:35:09.650668",
     "status": "completed"
    },
    "tags": []
   },
   "outputs": [],
   "source": [
    "channel_NET = s4[channel].attrs[\"NET_uKsqrts\"] * u.uK * u.s ** .5"
   ]
  },
  {
   "cell_type": "code",
   "execution_count": 27,
   "metadata": {
    "execution": {
     "iopub.execute_input": "2020-12-09T05:35:09.829485Z",
     "iopub.status.busy": "2020-12-09T05:35:09.828250Z",
     "iopub.status.idle": "2020-12-09T05:35:09.830770Z",
     "shell.execute_reply": "2020-12-09T05:35:09.831677Z"
    },
    "papermill": {
     "duration": 0.074753,
     "end_time": "2020-12-09T05:35:09.831947",
     "exception": false,
     "start_time": "2020-12-09T05:35:09.757194",
     "status": "completed"
    },
    "tags": []
   },
   "outputs": [],
   "source": [
    "if telescope == \"LAT\" and site==\"pole\":\n",
    "    channel_NET = s4[channel].attrs[\"pole_NET_uKsqrts\"] * u.uK * u.s ** .5"
   ]
  },
  {
   "cell_type": "code",
   "execution_count": 28,
   "metadata": {
    "execution": {
     "iopub.execute_input": "2020-12-09T05:35:09.945259Z",
     "iopub.status.busy": "2020-12-09T05:35:09.944686Z",
     "iopub.status.idle": "2020-12-09T05:35:10.037534Z",
     "shell.execute_reply": "2020-12-09T05:35:10.038043Z"
    },
    "papermill": {
     "duration": 0.167017,
     "end_time": "2020-12-09T05:35:10.038209",
     "exception": false,
     "start_time": "2020-12-09T05:35:09.871192",
     "status": "completed"
    },
    "tags": []
   },
   "outputs": [],
   "source": [
    "variance_QQ = wcov * u.K ** 2 * (hitmap / sampling_frequency[telescope]) "
   ]
  },
  {
   "cell_type": "code",
   "execution_count": 29,
   "metadata": {
    "execution": {
     "iopub.execute_input": "2020-12-09T05:35:10.145816Z",
     "iopub.status.busy": "2020-12-09T05:35:10.145235Z",
     "iopub.status.idle": "2020-12-09T05:35:10.153780Z",
     "shell.execute_reply": "2020-12-09T05:35:10.154231Z"
    },
    "papermill": {
     "duration": 0.07818,
     "end_time": "2020-12-09T05:35:10.154398",
     "exception": false,
     "start_time": "2020-12-09T05:35:10.076218",
     "status": "completed"
    },
    "tags": []
   },
   "outputs": [],
   "source": [
    "assert (variance_QQ.value == hp.UNSEEN).sum() == 0"
   ]
  },
  {
   "cell_type": "code",
   "execution_count": 30,
   "metadata": {
    "execution": {
     "iopub.execute_input": "2020-12-09T05:35:10.298953Z",
     "iopub.status.busy": "2020-12-09T05:35:10.298156Z",
     "iopub.status.idle": "2020-12-09T05:35:10.341821Z",
     "shell.execute_reply": "2020-12-09T05:35:10.341300Z"
    },
    "papermill": {
     "duration": 0.087755,
     "end_time": "2020-12-09T05:35:10.341954",
     "exception": false,
     "start_time": "2020-12-09T05:35:10.254199",
     "status": "completed"
    },
    "tags": []
   },
   "outputs": [],
   "source": [
    "full_mission_NET = np.sqrt(np.median(variance_QQ[hitmap != 0]))"
   ]
  },
  {
   "cell_type": "code",
   "execution_count": 31,
   "metadata": {
    "execution": {
     "iopub.execute_input": "2020-12-09T05:35:10.435769Z",
     "iopub.status.busy": "2020-12-09T05:35:10.435152Z",
     "iopub.status.idle": "2020-12-09T05:35:10.438062Z",
     "shell.execute_reply": "2020-12-09T05:35:10.438540Z"
    },
    "papermill": {
     "duration": 0.058135,
     "end_time": "2020-12-09T05:35:10.438710",
     "exception": false,
     "start_time": "2020-12-09T05:35:10.380575",
     "status": "completed"
    },
    "tags": []
   },
   "outputs": [
    {
     "data": {
      "text/latex": [
       "$458.66001 \\; \\mathrm{\\mu K\\,s^{1/2}}$"
      ],
      "text/plain": [
       "<Quantity 458.66000885 s(1/2) uK>"
      ]
     },
     "execution_count": 31,
     "metadata": {},
     "output_type": "execute_result"
    }
   ],
   "source": [
    "full_mission_NET.to(channel_NET.unit)"
   ]
  },
  {
   "cell_type": "code",
   "execution_count": 32,
   "metadata": {
    "execution": {
     "iopub.execute_input": "2020-12-09T05:35:10.532673Z",
     "iopub.status.busy": "2020-12-09T05:35:10.530281Z",
     "iopub.status.idle": "2020-12-09T05:35:10.534307Z",
     "shell.execute_reply": "2020-12-09T05:35:10.534771Z"
    },
    "papermill": {
     "duration": 0.058334,
     "end_time": "2020-12-09T05:35:10.534932",
     "exception": false,
     "start_time": "2020-12-09T05:35:10.476598",
     "status": "completed"
    },
    "tags": []
   },
   "outputs": [
    {
     "data": {
      "text/latex": [
       "$331 \\; \\mathrm{\\mu K\\,s^{1/2}}$"
      ],
      "text/plain": [
       "<Quantity 331. s(1/2) uK>"
      ]
     },
     "execution_count": 32,
     "metadata": {},
     "output_type": "execute_result"
    }
   ],
   "source": [
    "channel_NET"
   ]
  },
  {
   "cell_type": "code",
   "execution_count": 33,
   "metadata": {
    "execution": {
     "iopub.execute_input": "2020-12-09T05:35:10.619812Z",
     "iopub.status.busy": "2020-12-09T05:35:10.619127Z",
     "iopub.status.idle": "2020-12-09T05:35:10.622165Z",
     "shell.execute_reply": "2020-12-09T05:35:10.622670Z"
    },
    "papermill": {
     "duration": 0.049198,
     "end_time": "2020-12-09T05:35:10.622828",
     "exception": false,
     "start_time": "2020-12-09T05:35:10.573630",
     "status": "completed"
    },
    "tags": []
   },
   "outputs": [
    {
     "data": {
      "text/latex": [
       "$324.3216 \\; \\mathrm{\\mu K\\,s^{1/2}}$"
      ],
      "text/plain": [
       "<Quantity 324.32160251 s(1/2) uK>"
      ]
     },
     "execution_count": 33,
     "metadata": {},
     "output_type": "execute_result"
    }
   ],
   "source": [
    "(full_mission_NET/np.sqrt(2)).to(channel_NET.unit)"
   ]
  },
  {
   "cell_type": "code",
   "execution_count": 34,
   "metadata": {
    "execution": {
     "iopub.execute_input": "2020-12-09T05:35:10.714589Z",
     "iopub.status.busy": "2020-12-09T05:35:10.713970Z",
     "iopub.status.idle": "2020-12-09T05:35:10.715926Z",
     "shell.execute_reply": "2020-12-09T05:35:10.716370Z"
    },
    "papermill": {
     "duration": 0.047589,
     "end_time": "2020-12-09T05:35:10.716526",
     "exception": false,
     "start_time": "2020-12-09T05:35:10.668937",
     "status": "completed"
    },
    "tags": []
   },
   "outputs": [],
   "source": [
    "assert_quantity_allclose(full_mission_NET, channel_NET*np.sqrt(2), rtol=10/100) "
   ]
  },
  {
   "cell_type": "code",
   "execution_count": 35,
   "metadata": {
    "execution": {
     "iopub.execute_input": "2020-12-09T05:35:10.797523Z",
     "iopub.status.busy": "2020-12-09T05:35:10.796927Z",
     "iopub.status.idle": "2020-12-09T05:35:10.805471Z",
     "shell.execute_reply": "2020-12-09T05:35:10.805932Z"
    },
    "papermill": {
     "duration": 0.050964,
     "end_time": "2020-12-09T05:35:10.806085",
     "exception": false,
     "start_time": "2020-12-09T05:35:10.755121",
     "status": "completed"
    },
    "tags": []
   },
   "outputs": [],
   "source": [
    "sky_fraction = (hitmap > 0).sum() / len(hitmap)"
   ]
  },
  {
   "cell_type": "code",
   "execution_count": 36,
   "metadata": {
    "execution": {
     "iopub.execute_input": "2020-12-09T05:35:10.886553Z",
     "iopub.status.busy": "2020-12-09T05:35:10.885701Z",
     "iopub.status.idle": "2020-12-09T05:35:10.888447Z",
     "shell.execute_reply": "2020-12-09T05:35:10.888895Z"
    },
    "papermill": {
     "duration": 0.045283,
     "end_time": "2020-12-09T05:35:10.889041",
     "exception": false,
     "start_time": "2020-12-09T05:35:10.843758",
     "status": "completed"
    },
    "tags": []
   },
   "outputs": [
    {
     "data": {
      "text/plain": [
       "0.44712352752685547"
      ]
     },
     "execution_count": 36,
     "metadata": {},
     "output_type": "execute_result"
    }
   ],
   "source": [
    "sky_fraction"
   ]
  },
  {
   "cell_type": "code",
   "execution_count": 37,
   "metadata": {
    "execution": {
     "iopub.execute_input": "2020-12-09T05:35:10.974238Z",
     "iopub.status.busy": "2020-12-09T05:35:10.973663Z",
     "iopub.status.idle": "2020-12-09T05:35:10.975299Z",
     "shell.execute_reply": "2020-12-09T05:35:10.975736Z"
    },
    "papermill": {
     "duration": 0.04883,
     "end_time": "2020-12-09T05:35:10.975877",
     "exception": false,
     "start_time": "2020-12-09T05:35:10.927047",
     "status": "completed"
    },
    "tags": []
   },
   "outputs": [],
   "source": [
    "pixarea = hp.nside2pixarea(nside)"
   ]
  },
  {
   "cell_type": "code",
   "execution_count": 38,
   "metadata": {
    "execution": {
     "iopub.execute_input": "2020-12-09T05:35:11.083544Z",
     "iopub.status.busy": "2020-12-09T05:35:11.082965Z",
     "iopub.status.idle": "2020-12-09T05:35:11.099438Z",
     "shell.execute_reply": "2020-12-09T05:35:11.098899Z"
    },
    "papermill": {
     "duration": 0.071705,
     "end_time": "2020-12-09T05:35:11.099582",
     "exception": false,
     "start_time": "2020-12-09T05:35:11.027877",
     "status": "completed"
    },
    "tags": []
   },
   "outputs": [
    {
     "data": {
      "text/plain": [
       "1.4942853503047677e-16"
      ]
     },
     "execution_count": 38,
     "metadata": {},
     "output_type": "execute_result"
    }
   ],
   "source": [
    "np.mean(wcov[hitmap > 0])* pixarea"
   ]
  },
  {
   "cell_type": "code",
   "execution_count": 39,
   "metadata": {
    "execution": {
     "iopub.execute_input": "2020-12-09T05:35:11.188496Z",
     "iopub.status.busy": "2020-12-09T05:35:11.187919Z",
     "iopub.status.idle": "2020-12-09T05:35:11.199542Z",
     "shell.execute_reply": "2020-12-09T05:35:11.199048Z"
    },
    "papermill": {
     "duration": 0.053545,
     "end_time": "2020-12-09T05:35:11.199672",
     "exception": false,
     "start_time": "2020-12-09T05:35:11.146127",
     "status": "completed"
    },
    "tags": []
   },
   "outputs": [],
   "source": [
    "wcov [ wcov == hp.UNSEEN] = 0"
   ]
  },
  {
   "cell_type": "markdown",
   "metadata": {
    "papermill": {
     "duration": 0.039348,
     "end_time": "2020-12-09T05:35:11.283027",
     "exception": false,
     "start_time": "2020-12-09T05:35:11.243679",
     "status": "completed"
    },
    "tags": []
   },
   "source": [
    "## Atmosphere"
   ]
  },
  {
   "cell_type": "code",
   "execution_count": 40,
   "metadata": {
    "execution": {
     "iopub.execute_input": "2020-12-09T05:35:11.365829Z",
     "iopub.status.busy": "2020-12-09T05:35:11.365282Z",
     "iopub.status.idle": "2020-12-09T05:35:11.367004Z",
     "shell.execute_reply": "2020-12-09T05:35:11.367454Z"
    },
    "papermill": {
     "duration": 0.045312,
     "end_time": "2020-12-09T05:35:11.367606",
     "exception": false,
     "start_time": "2020-12-09T05:35:11.322294",
     "status": "completed"
    },
    "tags": []
   },
   "outputs": [],
   "source": [
    "atmosphere_filename = Path(base_folder) / \"00000000\" / f\"{site}_atmosphere_{telescope}_{channel}_filtered_telescope_all_time_all_bmap.fits\""
   ]
  },
  {
   "cell_type": "code",
   "execution_count": 41,
   "metadata": {
    "execution": {
     "iopub.execute_input": "2020-12-09T05:35:11.456374Z",
     "iopub.status.busy": "2020-12-09T05:35:11.455785Z",
     "iopub.status.idle": "2020-12-09T05:35:12.360395Z",
     "shell.execute_reply": "2020-12-09T05:35:12.359906Z"
    },
    "papermill": {
     "duration": 0.951134,
     "end_time": "2020-12-09T05:35:12.360518",
     "exception": false,
     "start_time": "2020-12-09T05:35:11.409384",
     "status": "completed"
    },
    "tags": []
   },
   "outputs": [
    {
     "name": "stderr",
     "output_type": "stream",
     "text": [
      "/global/homes/z/zonca/condajupynersc/lib/python3.7/site-packages/healpy/fitsfunc.py:400: UserWarning: ORDERING = NESTED in fits file\n",
      "  warnings.warn(\"ORDERING = {0:s} in fits file\".format(ordering))\n",
      "/global/homes/z/zonca/condajupynersc/lib/python3.7/site-packages/healpy/fitsfunc.py:486: UserWarning: Ordering converted to RING\n",
      "  warnings.warn(\"Ordering converted to RING\")\n"
     ]
    }
   ],
   "source": [
    "input_atmophere = hp.ma(hp.read_map(atmosphere_filename, (0,1,2)))"
   ]
  },
  {
   "cell_type": "code",
   "execution_count": 42,
   "metadata": {
    "execution": {
     "iopub.execute_input": "2020-12-09T05:35:12.476768Z",
     "iopub.status.busy": "2020-12-09T05:35:12.476212Z",
     "iopub.status.idle": "2020-12-09T05:35:12.509175Z",
     "shell.execute_reply": "2020-12-09T05:35:12.510070Z"
    },
    "papermill": {
     "duration": 0.082044,
     "end_time": "2020-12-09T05:35:12.510332",
     "exception": false,
     "start_time": "2020-12-09T05:35:12.428288",
     "status": "completed"
    },
    "tags": []
   },
   "outputs": [],
   "source": [
    "sqrt_hitmap = hitmap.copy()\n",
    "sqrt_hitmap[hitmap>0] = np.sqrt(hitmap[hitmap>0])"
   ]
  },
  {
   "cell_type": "code",
   "execution_count": 43,
   "metadata": {
    "execution": {
     "iopub.execute_input": "2020-12-09T05:35:12.612273Z",
     "iopub.status.busy": "2020-12-09T05:35:12.611715Z",
     "iopub.status.idle": "2020-12-09T05:35:15.093560Z",
     "shell.execute_reply": "2020-12-09T05:35:15.093984Z"
    },
    "papermill": {
     "duration": 2.528955,
     "end_time": "2020-12-09T05:35:15.094139",
     "exception": false,
     "start_time": "2020-12-09T05:35:12.565184",
     "status": "completed"
    },
    "tags": []
   },
   "outputs": [],
   "source": [
    "atmo_cl = \\\n",
    "hp.anafast(input_atmophere * sqrt_hitmap, use_pixel_weights=True) / np.mean(hitmap) # / sky_fraction"
   ]
  },
  {
   "cell_type": "code",
   "execution_count": 44,
   "metadata": {
    "execution": {
     "iopub.execute_input": "2020-12-09T05:35:15.180312Z",
     "iopub.status.busy": "2020-12-09T05:35:15.179731Z",
     "iopub.status.idle": "2020-12-09T05:35:15.181893Z",
     "shell.execute_reply": "2020-12-09T05:35:15.182316Z"
    },
    "papermill": {
     "duration": 0.048059,
     "end_time": "2020-12-09T05:35:15.182511",
     "exception": false,
     "start_time": "2020-12-09T05:35:15.134452",
     "status": "completed"
    },
    "tags": []
   },
   "outputs": [],
   "source": [
    "from s4_design_sim_tool.atmosphere import get_telecope_years"
   ]
  },
  {
   "cell_type": "code",
   "execution_count": 45,
   "metadata": {
    "execution": {
     "iopub.execute_input": "2020-12-09T05:35:15.274741Z",
     "iopub.status.busy": "2020-12-09T05:35:15.274014Z",
     "iopub.status.idle": "2020-12-09T05:35:15.276156Z",
     "shell.execute_reply": "2020-12-09T05:35:15.275682Z"
    },
    "papermill": {
     "duration": 0.048359,
     "end_time": "2020-12-09T05:35:15.276264",
     "exception": false,
     "start_time": "2020-12-09T05:35:15.227905",
     "status": "completed"
    },
    "tags": []
   },
   "outputs": [],
   "source": [
    "telescope_years = get_telecope_years(config, site, channel)"
   ]
  },
  {
   "cell_type": "code",
   "execution_count": 46,
   "metadata": {
    "execution": {
     "iopub.execute_input": "2020-12-09T05:35:15.365334Z",
     "iopub.status.busy": "2020-12-09T05:35:15.364495Z",
     "iopub.status.idle": "2020-12-09T05:35:15.367252Z",
     "shell.execute_reply": "2020-12-09T05:35:15.367698Z"
    },
    "papermill": {
     "duration": 0.048441,
     "end_time": "2020-12-09T05:35:15.367840",
     "exception": false,
     "start_time": "2020-12-09T05:35:15.319399",
     "status": "completed"
    },
    "tags": []
   },
   "outputs": [
    {
     "data": {
      "text/plain": [
       "7"
      ]
     },
     "execution_count": 46,
     "metadata": {},
     "output_type": "execute_result"
    }
   ],
   "source": [
    "telescope_years"
   ]
  },
  {
   "cell_type": "code",
   "execution_count": 47,
   "metadata": {
    "execution": {
     "iopub.execute_input": "2020-12-09T05:35:15.454177Z",
     "iopub.status.busy": "2020-12-09T05:35:15.453481Z",
     "iopub.status.idle": "2020-12-09T05:35:15.455136Z",
     "shell.execute_reply": "2020-12-09T05:35:15.455590Z"
    },
    "papermill": {
     "duration": 0.045589,
     "end_time": "2020-12-09T05:35:15.455732",
     "exception": false,
     "start_time": "2020-12-09T05:35:15.410143",
     "status": "completed"
    },
    "tags": []
   },
   "outputs": [],
   "source": [
    "from s4_design_sim_tool.core import simulations_observing_efficiency"
   ]
  },
  {
   "cell_type": "code",
   "execution_count": 48,
   "metadata": {
    "execution": {
     "iopub.execute_input": "2020-12-09T05:35:15.544215Z",
     "iopub.status.busy": "2020-12-09T05:35:15.543624Z",
     "iopub.status.idle": "2020-12-09T05:35:15.546419Z",
     "shell.execute_reply": "2020-12-09T05:35:15.546922Z"
    },
    "papermill": {
     "duration": 0.050975,
     "end_time": "2020-12-09T05:35:15.547087",
     "exception": false,
     "start_time": "2020-12-09T05:35:15.496112",
     "status": "completed"
    },
    "tags": []
   },
   "outputs": [
    {
     "data": {
      "text/plain": [
       "{'pole': {'SAT': 0.3931149305555555, 'LAT': 0.321544537037037},\n",
       " 'chile': {'SAT': 0.8656164351851852, 'LAT': 0.917306712962963}}"
      ]
     },
     "execution_count": 48,
     "metadata": {},
     "output_type": "execute_result"
    }
   ],
   "source": [
    "simulations_observing_efficiency"
   ]
  },
  {
   "cell_type": "code",
   "execution_count": 49,
   "metadata": {
    "execution": {
     "iopub.execute_input": "2020-12-09T05:35:15.631405Z",
     "iopub.status.busy": "2020-12-09T05:35:15.630860Z",
     "iopub.status.idle": "2020-12-09T05:35:15.632799Z",
     "shell.execute_reply": "2020-12-09T05:35:15.633242Z"
    },
    "papermill": {
     "duration": 0.046234,
     "end_time": "2020-12-09T05:35:15.633377",
     "exception": false,
     "start_time": "2020-12-09T05:35:15.587143",
     "status": "completed"
    },
    "tags": []
   },
   "outputs": [],
   "source": [
    "atmo_cl *= 10 / 365.25\n",
    "atmo_cl *= simulations_observing_efficiency[site.lower()].get(telescope, 1) / config[\"experiment\"][\"observing_efficiency\"]                                                                    \n",
    "atmo_cl /= telescope_years"
   ]
  },
  {
   "cell_type": "markdown",
   "metadata": {
    "papermill": {
     "duration": 0.041062,
     "end_time": "2020-12-09T05:35:15.715277",
     "exception": false,
     "start_time": "2020-12-09T05:35:15.674215",
     "status": "completed"
    },
    "tags": []
   },
   "source": [
    "## Noise"
   ]
  },
  {
   "cell_type": "code",
   "execution_count": 50,
   "metadata": {
    "execution": {
     "iopub.execute_input": "2020-12-09T05:35:15.801206Z",
     "iopub.status.busy": "2020-12-09T05:35:15.800661Z",
     "iopub.status.idle": "2020-12-09T05:35:15.802939Z",
     "shell.execute_reply": "2020-12-09T05:35:15.802442Z"
    },
    "papermill": {
     "duration": 0.046577,
     "end_time": "2020-12-09T05:35:15.803052",
     "exception": false,
     "start_time": "2020-12-09T05:35:15.756475",
     "status": "completed"
    },
    "tags": []
   },
   "outputs": [],
   "source": [
    "noise_filename = Path(base_folder) / \"00000000\" / f\"{site}_noise_{telescope}_{channel}_filtered_telescope_all_time_all_bmap.fits\""
   ]
  },
  {
   "cell_type": "code",
   "execution_count": 51,
   "metadata": {
    "execution": {
     "iopub.execute_input": "2020-12-09T05:35:15.890455Z",
     "iopub.status.busy": "2020-12-09T05:35:15.889883Z",
     "iopub.status.idle": "2020-12-09T05:35:15.892341Z",
     "shell.execute_reply": "2020-12-09T05:35:15.891888Z"
    },
    "papermill": {
     "duration": 0.047314,
     "end_time": "2020-12-09T05:35:15.892451",
     "exception": false,
     "start_time": "2020-12-09T05:35:15.845137",
     "status": "completed"
    },
    "tags": []
   },
   "outputs": [],
   "source": [
    "#input_noise = hp.ma(hp.read_map(noise_filename, (0,1,2)))"
   ]
  },
  {
   "cell_type": "code",
   "execution_count": 52,
   "metadata": {
    "execution": {
     "iopub.execute_input": "2020-12-09T05:35:15.979942Z",
     "iopub.status.busy": "2020-12-09T05:35:15.979405Z",
     "iopub.status.idle": "2020-12-09T05:35:15.981188Z",
     "shell.execute_reply": "2020-12-09T05:35:15.981595Z"
    },
    "papermill": {
     "duration": 0.047394,
     "end_time": "2020-12-09T05:35:15.981738",
     "exception": false,
     "start_time": "2020-12-09T05:35:15.934344",
     "status": "completed"
    },
    "tags": []
   },
   "outputs": [],
   "source": [
    "#noise_cl = hp.anafast(input_noise * sqrt_hitmap, use_pixel_weights=True) / np.mean(hitmap) / sky_fraction"
   ]
  },
  {
   "cell_type": "code",
   "execution_count": 53,
   "metadata": {
    "execution": {
     "iopub.execute_input": "2020-12-09T05:35:16.067794Z",
     "iopub.status.busy": "2020-12-09T05:35:16.067257Z",
     "iopub.status.idle": "2020-12-09T05:35:16.068991Z",
     "shell.execute_reply": "2020-12-09T05:35:16.069425Z"
    },
    "papermill": {
     "duration": 0.046831,
     "end_time": "2020-12-09T05:35:16.069575",
     "exception": false,
     "start_time": "2020-12-09T05:35:16.022744",
     "status": "completed"
    },
    "tags": []
   },
   "outputs": [],
   "source": [
    "del sqrt_hitmap"
   ]
  },
  {
   "cell_type": "code",
   "execution_count": 54,
   "metadata": {
    "execution": {
     "iopub.execute_input": "2020-12-09T05:35:16.160627Z",
     "iopub.status.busy": "2020-12-09T05:35:16.160055Z",
     "iopub.status.idle": "2020-12-09T05:35:16.161937Z",
     "shell.execute_reply": "2020-12-09T05:35:16.162341Z"
    },
    "papermill": {
     "duration": 0.050832,
     "end_time": "2020-12-09T05:35:16.162489",
     "exception": false,
     "start_time": "2020-12-09T05:35:16.111657",
     "status": "completed"
    },
    "tags": []
   },
   "outputs": [],
   "source": [
    "from s4_design_sim_tool.noise import get_thinfp\n",
    "thinfp = get_thinfp(channel)"
   ]
  },
  {
   "cell_type": "code",
   "execution_count": 55,
   "metadata": {
    "execution": {
     "iopub.execute_input": "2020-12-09T05:35:16.252145Z",
     "iopub.status.busy": "2020-12-09T05:35:16.251601Z",
     "iopub.status.idle": "2020-12-09T05:35:16.254233Z",
     "shell.execute_reply": "2020-12-09T05:35:16.253767Z"
    },
    "papermill": {
     "duration": 0.049743,
     "end_time": "2020-12-09T05:35:16.254342",
     "exception": false,
     "start_time": "2020-12-09T05:35:16.204599",
     "status": "completed"
    },
    "tags": []
   },
   "outputs": [
    {
     "data": {
      "text/html": [
       "&lt;Column name=&apos;thinfp&apos; dtype=&apos;int64&apos; length=1&gt;\n",
       "<table>\n",
       "<tr><td>4</td></tr>\n",
       "</table>"
      ],
      "text/plain": [
       "<Column name='thinfp' dtype='int64' length=1>\n",
       "4"
      ]
     },
     "execution_count": 55,
     "metadata": {},
     "output_type": "execute_result"
    }
   ],
   "source": [
    "thinfp"
   ]
  },
  {
   "cell_type": "code",
   "execution_count": 56,
   "metadata": {
    "execution": {
     "iopub.execute_input": "2020-12-09T05:35:16.347572Z",
     "iopub.status.busy": "2020-12-09T05:35:16.347024Z",
     "iopub.status.idle": "2020-12-09T05:35:16.349078Z",
     "shell.execute_reply": "2020-12-09T05:35:16.349492Z"
    },
    "papermill": {
     "duration": 0.048639,
     "end_time": "2020-12-09T05:35:16.349631",
     "exception": false,
     "start_time": "2020-12-09T05:35:16.300992",
     "status": "completed"
    },
    "tags": []
   },
   "outputs": [],
   "source": [
    "#noise_cl *= 10 / 365.25\n",
    "#noise_cl *= simulations_observing_efficiency[site.lower()].get(telescope, 1) / config[\"experiment\"][\"observing_efficiency\"]                                                                    \n",
    "#noise_cl /= tube_years\n",
    "#noise_cl /= thinfp"
   ]
  },
  {
   "cell_type": "code",
   "execution_count": 57,
   "metadata": {
    "execution": {
     "iopub.execute_input": "2020-12-09T05:35:16.439434Z",
     "iopub.status.busy": "2020-12-09T05:35:16.438887Z",
     "iopub.status.idle": "2020-12-09T05:35:16.449768Z",
     "shell.execute_reply": "2020-12-09T05:35:16.450188Z"
    },
    "papermill": {
     "duration": 0.057856,
     "end_time": "2020-12-09T05:35:16.450342",
     "exception": false,
     "start_time": "2020-12-09T05:35:16.392486",
     "status": "completed"
    },
    "tags": []
   },
   "outputs": [],
   "source": [
    "white_noise_Cl = channel_NET**2 \\\n",
    "/ (hitmap.sum() / sampling_frequency[telescope] / (hitmap>0).sum()) * pixarea # / sky_fraction"
   ]
  },
  {
   "cell_type": "code",
   "execution_count": 58,
   "metadata": {
    "execution": {
     "iopub.execute_input": "2020-12-09T05:35:16.543228Z",
     "iopub.status.busy": "2020-12-09T05:35:16.542671Z",
     "iopub.status.idle": "2020-12-09T05:35:16.545725Z",
     "shell.execute_reply": "2020-12-09T05:35:16.545233Z"
    },
    "papermill": {
     "duration": 0.053744,
     "end_time": "2020-12-09T05:35:16.545845",
     "exception": false,
     "start_time": "2020-12-09T05:35:16.492101",
     "status": "completed"
    },
    "tags": []
   },
   "outputs": [
    {
     "data": {
      "text/latex": [
       "$1.3046383 \\times 10^{-18} \\; \\mathrm{K^{2}}$"
      ],
      "text/plain": [
       "<Quantity 1.30463829e-18 K2>"
      ]
     },
     "execution_count": 58,
     "metadata": {},
     "output_type": "execute_result"
    }
   ],
   "source": [
    "white_noise_Cl.decompose()"
   ]
  },
  {
   "cell_type": "code",
   "execution_count": 59,
   "metadata": {
    "execution": {
     "iopub.execute_input": "2020-12-09T05:35:16.640562Z",
     "iopub.status.busy": "2020-12-09T05:35:16.639969Z",
     "iopub.status.idle": "2020-12-09T05:35:17.300720Z",
     "shell.execute_reply": "2020-12-09T05:35:17.301171Z"
    },
    "papermill": {
     "duration": 0.711471,
     "end_time": "2020-12-09T05:35:17.301321",
     "exception": false,
     "start_time": "2020-12-09T05:35:16.589850",
     "status": "completed"
    },
    "tags": []
   },
   "outputs": [],
   "source": [
    "import seaborn as sns"
   ]
  },
  {
   "cell_type": "code",
   "execution_count": 60,
   "metadata": {
    "execution": {
     "iopub.execute_input": "2020-12-09T05:35:17.423837Z",
     "iopub.status.busy": "2020-12-09T05:35:17.423103Z",
     "iopub.status.idle": "2020-12-09T05:35:17.424764Z",
     "shell.execute_reply": "2020-12-09T05:35:17.425218Z"
    },
    "papermill": {
     "duration": 0.07797,
     "end_time": "2020-12-09T05:35:17.425357",
     "exception": false,
     "start_time": "2020-12-09T05:35:17.347387",
     "status": "completed"
    },
    "tags": []
   },
   "outputs": [],
   "source": [
    "sns.set_style(\"whitegrid\")"
   ]
  },
  {
   "cell_type": "code",
   "execution_count": 61,
   "metadata": {
    "execution": {
     "iopub.execute_input": "2020-12-09T05:35:17.529034Z",
     "iopub.status.busy": "2020-12-09T05:35:17.527528Z",
     "iopub.status.idle": "2020-12-09T05:35:19.703719Z",
     "shell.execute_reply": "2020-12-09T05:35:19.704435Z"
    },
    "papermill": {
     "duration": 2.23388,
     "end_time": "2020-12-09T05:35:19.704659",
     "exception": false,
     "start_time": "2020-12-09T05:35:17.470779",
     "status": "completed"
    },
    "tags": []
   },
   "outputs": [
    {
     "data": {
      "image/png": "[encoded data removed]",
      "text/plain": [
       "<Figure size 576x360 with 1 Axes>"
      ]
     },
     "metadata": {},
     "output_type": "display_data"
    }
   ],
   "source": [
    "plt.figure(figsize=(8,5))\n",
    "\n",
    "pols = [\"TT\", \"EE\", \"BB\"]\n",
    "\n",
    "for i, pol in enumerate(pols):\n",
    "    for split in range(1, nsplits+1):\n",
    "        plt.loglog(C_ell[ch][split][i], alpha=.8, label=pol)\n",
    "\n",
    "for i, pol in enumerate(pols):\n",
    "    plt.loglog(atmo_cl[i]*nsplits, alpha=.8, ls=\"--\", label=f\"atmo {pol}\")\n",
    "\n",
    "#for i, pol in enumerate(pols):\n",
    "#    plt.loglog(noise_cl[i], alpha=.8, ls=\"-.\", label=f\"noise {pol}\")\n",
    "\n",
    "plt.axhline(white_noise_Cl.to_value(u.K**2), ls=\":\",\n",
    "           label=\"white noise T\", color=\"black\")\n",
    "plt.axhline(white_noise_Cl.to_value(u.K**2)*2, ls=\":\",\n",
    "           label=\"white noise P\", color=\"grey\")\n",
    "plt.legend()\n",
    "plt.title(f\"Noise + Atmosphere simulations spectra for {ch}\")\n",
    "plt.ylabel(\"$C_\\ell [K^2]$\")\n",
    "plt.xlabel(\"$\\ell$\")\n",
    "plt.xlim((10, 3*nside))\n",
    "plt.grid(True)\n",
    "plt.savefig(f\"plots/C_ell_{dataset}_{ch}_{nsplits}.png\");"
   ]
  },
  {
   "cell_type": "code",
   "execution_count": null,
   "metadata": {
    "papermill": {
     "duration": 0.044233,
     "end_time": "2020-12-09T05:35:19.797715",
     "exception": false,
     "start_time": "2020-12-09T05:35:19.753482",
     "status": "completed"
    },
    "tags": []
   },
   "outputs": [],
   "source": []
  }
 ],
 "metadata": {
  "kernelspec": {
   "display_name": "condajupynersc",
   "language": "python",
   "name": "condajupynersc"
  },
  "language_info": {
   "codemirror_mode": {
    "name": "ipython",
    "version": 3
   },
   "file_extension": ".py",
   "mimetype": "text/x-python",
   "name": "python",
   "nbconvert_exporter": "python",
   "pygments_lexer": "ipython3",
   "version": "3.7.0"
  },
  "papermill": {
   "duration": 18.589203,
   "end_time": "2020-12-09T05:35:20.459964",
   "environment_variables": {},
   "exception": null,
   "input_path": "validation_atmo_noise_dec_2020.ipynb",
   "output_path": "validation_notebooks/SAT-MFHS2_chile_1.ipynb",
   "parameters": {
    "ch": "SAT-MFHS2_chile",
    "nsplits": 1
   },
   "start_time": "2020-12-09T05:35:01.870761",
   "version": "2.1.2"
  }
 },
 "nbformat": 4,
 "nbformat_minor": 4
}