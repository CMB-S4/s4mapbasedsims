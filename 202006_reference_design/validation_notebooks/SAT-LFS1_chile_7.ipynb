{
 "cells": [
  {
   "cell_type": "code",
   "execution_count": 1,
   "metadata": {
    "execution": {
     "iopub.execute_input": "2020-12-09T06:01:09.279882Z",
     "iopub.status.busy": "2020-12-09T06:01:09.279281Z",
     "iopub.status.idle": "2020-12-09T06:01:10.900227Z",
     "shell.execute_reply": "2020-12-09T06:01:10.900598Z"
    },
    "papermill": {
     "duration": 1.661239,
     "end_time": "2020-12-09T06:01:10.900831",
     "exception": false,
     "start_time": "2020-12-09T06:01:09.239592",
     "status": "completed"
    },
    "tags": []
   },
   "outputs": [],
   "source": [
    "import healpy as hp\n",
    "import numpy as np\n",
    "%matplotlib inline\n",
    "import matplotlib.pyplot as plt\n",
    "from pathlib import Path\n",
    "from astropy.tests.helper import assert_quantity_allclose\n",
    "import pickle\n",
    "import sys\n",
    "import os\n",
    "from astropy import units as u"
   ]
  },
  {
   "cell_type": "code",
   "execution_count": 2,
   "metadata": {
    "execution": {
     "iopub.execute_input": "2020-12-09T06:01:10.960523Z",
     "iopub.status.busy": "2020-12-09T06:01:10.959991Z",
     "iopub.status.idle": "2020-12-09T06:01:11.028958Z",
     "shell.execute_reply": "2020-12-09T06:01:11.028554Z"
    },
    "papermill": {
     "duration": 0.100525,
     "end_time": "2020-12-09T06:01:11.029063",
     "exception": false,
     "start_time": "2020-12-09T06:01:10.928538",
     "status": "completed"
    },
    "tags": []
   },
   "outputs": [],
   "source": [
    "import h5py\n",
    "s4 = h5py.File(\"cmbs4_tophat.h5\", mode=\"r\")"
   ]
  },
  {
   "cell_type": "code",
   "execution_count": 3,
   "metadata": {
    "execution": {
     "iopub.execute_input": "2020-12-09T06:01:11.123212Z",
     "iopub.status.busy": "2020-12-09T06:01:11.122352Z",
     "iopub.status.idle": "2020-12-09T06:01:11.124481Z",
     "shell.execute_reply": "2020-12-09T06:01:11.125200Z"
    },
    "papermill": {
     "duration": 0.070273,
     "end_time": "2020-12-09T06:01:11.125466",
     "exception": false,
     "start_time": "2020-12-09T06:01:11.055193",
     "status": "completed"
    },
    "tags": []
   },
   "outputs": [],
   "source": [
    "dataset = \"s4_reference_design_noise_atmo_7splits\""
   ]
  },
  {
   "cell_type": "code",
   "execution_count": 4,
   "metadata": {
    "execution": {
     "iopub.execute_input": "2020-12-09T06:01:11.189164Z",
     "iopub.status.busy": "2020-12-09T06:01:11.188646Z",
     "iopub.status.idle": "2020-12-09T06:01:11.190991Z",
     "shell.execute_reply": "2020-12-09T06:01:11.191474Z"
    },
    "papermill": {
     "duration": 0.032279,
     "end_time": "2020-12-09T06:01:11.191651",
     "exception": false,
     "start_time": "2020-12-09T06:01:11.159372",
     "status": "completed"
    },
    "tags": [
     "parameters"
    ]
   },
   "outputs": [],
   "source": [
    "ch = f\"SAT-HFS1_chile\"\n",
    "nsplits = 1"
   ]
  },
  {
   "cell_type": "code",
   "execution_count": 5,
   "metadata": {
    "execution": {
     "iopub.execute_input": "2020-12-09T06:01:11.249060Z",
     "iopub.status.busy": "2020-12-09T06:01:11.248551Z",
     "iopub.status.idle": "2020-12-09T06:01:11.250804Z",
     "shell.execute_reply": "2020-12-09T06:01:11.251191Z"
    },
    "papermill": {
     "duration": 0.033478,
     "end_time": "2020-12-09T06:01:11.251310",
     "exception": false,
     "start_time": "2020-12-09T06:01:11.217832",
     "status": "completed"
    },
    "tags": [
     "injected-parameters"
    ]
   },
   "outputs": [],
   "source": [
    "# Parameters\n",
    "ch = \"SAT-LFS1_chile\"\n",
    "nsplits = 7\n"
   ]
  },
  {
   "cell_type": "code",
   "execution_count": 6,
   "metadata": {
    "execution": {
     "iopub.execute_input": "2020-12-09T06:01:11.308273Z",
     "iopub.status.busy": "2020-12-09T06:01:11.307748Z",
     "iopub.status.idle": "2020-12-09T06:01:11.310108Z",
     "shell.execute_reply": "2020-12-09T06:01:11.310498Z"
    },
    "papermill": {
     "duration": 0.033343,
     "end_time": "2020-12-09T06:01:11.310623",
     "exception": false,
     "start_time": "2020-12-09T06:01:11.277280",
     "status": "completed"
    },
    "tags": []
   },
   "outputs": [],
   "source": [
    "if os.path.exists(f\"plots/C_ell_{dataset}_{ch}_{nsplits}.png\"):\n",
    "    sys.exit(0)"
   ]
  },
  {
   "cell_type": "code",
   "execution_count": 7,
   "metadata": {
    "execution": {
     "iopub.execute_input": "2020-12-09T06:01:11.366160Z",
     "iopub.status.busy": "2020-12-09T06:01:11.365694Z",
     "iopub.status.idle": "2020-12-09T06:01:11.367777Z",
     "shell.execute_reply": "2020-12-09T06:01:11.368190Z"
    },
    "papermill": {
     "duration": 0.032184,
     "end_time": "2020-12-09T06:01:11.368319",
     "exception": false,
     "start_time": "2020-12-09T06:01:11.336135",
     "status": "completed"
    },
    "tags": []
   },
   "outputs": [],
   "source": [
    "sampling_frequency = dict(SAT=100*u.Hz, LAT=400*u.Hz)"
   ]
  },
  {
   "cell_type": "code",
   "execution_count": 8,
   "metadata": {
    "execution": {
     "iopub.execute_input": "2020-12-09T06:01:11.424765Z",
     "iopub.status.busy": "2020-12-09T06:01:11.424196Z",
     "iopub.status.idle": "2020-12-09T06:01:11.426071Z",
     "shell.execute_reply": "2020-12-09T06:01:11.426466Z"
    },
    "papermill": {
     "duration": 0.032478,
     "end_time": "2020-12-09T06:01:11.426605",
     "exception": false,
     "start_time": "2020-12-09T06:01:11.394127",
     "status": "completed"
    },
    "tags": []
   },
   "outputs": [],
   "source": [
    "#telescope = \"SAT\"\n",
    "#channel = \"LFS1\"\n",
    "#site = \"pole\""
   ]
  },
  {
   "cell_type": "code",
   "execution_count": 9,
   "metadata": {
    "execution": {
     "iopub.execute_input": "2020-12-09T06:01:11.485424Z",
     "iopub.status.busy": "2020-12-09T06:01:11.484954Z",
     "iopub.status.idle": "2020-12-09T06:01:11.488200Z",
     "shell.execute_reply": "2020-12-09T06:01:11.487733Z"
    },
    "papermill": {
     "duration": 0.035006,
     "end_time": "2020-12-09T06:01:11.488308",
     "exception": false,
     "start_time": "2020-12-09T06:01:11.453302",
     "status": "completed"
    },
    "tags": []
   },
   "outputs": [],
   "source": [
    "telescope = ch.split(\"-\")[0]\n",
    "channel, site= ch.split(\"-\")[1].split(\"_\")"
   ]
  },
  {
   "cell_type": "code",
   "execution_count": 10,
   "metadata": {
    "execution": {
     "iopub.execute_input": "2020-12-09T06:01:11.546935Z",
     "iopub.status.busy": "2020-12-09T06:01:11.546367Z",
     "iopub.status.idle": "2020-12-09T06:01:11.548648Z",
     "shell.execute_reply": "2020-12-09T06:01:11.549062Z"
    },
    "papermill": {
     "duration": 0.033226,
     "end_time": "2020-12-09T06:01:11.549202",
     "exception": false,
     "start_time": "2020-12-09T06:01:11.515976",
     "status": "completed"
    },
    "tags": []
   },
   "outputs": [],
   "source": [
    "local_path = Path(\"output\")\n",
    "project_path = Path(\"/global/project/projectdirs/cmbs4/dm/dstool/output/\")"
   ]
  },
  {
   "cell_type": "code",
   "execution_count": 11,
   "metadata": {
    "execution": {
     "iopub.execute_input": "2020-12-09T06:01:11.606892Z",
     "iopub.status.busy": "2020-12-09T06:01:11.606376Z",
     "iopub.status.idle": "2020-12-09T06:01:12.077863Z",
     "shell.execute_reply": "2020-12-09T06:01:12.078578Z"
    },
    "papermill": {
     "duration": 0.503893,
     "end_time": "2020-12-09T06:01:12.078803",
     "exception": false,
     "start_time": "2020-12-09T06:01:11.574910",
     "status": "completed"
    },
    "tags": []
   },
   "outputs": [],
   "source": [
    "C_ell = pickle.load(open(local_path / dataset / f\"C_ell_{telescope}_{nsplits}.pkl\", \"rb\"))"
   ]
  },
  {
   "cell_type": "code",
   "execution_count": 12,
   "metadata": {
    "execution": {
     "iopub.execute_input": "2020-12-09T06:01:12.145511Z",
     "iopub.status.busy": "2020-12-09T06:01:12.145005Z",
     "iopub.status.idle": "2020-12-09T06:01:12.148091Z",
     "shell.execute_reply": "2020-12-09T06:01:12.148510Z"
    },
    "papermill": {
     "duration": 0.037301,
     "end_time": "2020-12-09T06:01:12.148639",
     "exception": false,
     "start_time": "2020-12-09T06:01:12.111338",
     "status": "completed"
    },
    "tags": []
   },
   "outputs": [
    {
     "data": {
      "text/plain": [
       "('SAT', 'LFS1', 'chile')"
      ]
     },
     "execution_count": 12,
     "metadata": {},
     "output_type": "execute_result"
    }
   ],
   "source": [
    "telescope, channel, site"
   ]
  },
  {
   "cell_type": "code",
   "execution_count": 13,
   "metadata": {
    "execution": {
     "iopub.execute_input": "2020-12-09T06:01:12.210092Z",
     "iopub.status.busy": "2020-12-09T06:01:12.209559Z",
     "iopub.status.idle": "2020-12-09T06:01:12.212646Z",
     "shell.execute_reply": "2020-12-09T06:01:12.213042Z"
    },
    "papermill": {
     "duration": 0.036563,
     "end_time": "2020-12-09T06:01:12.213200",
     "exception": false,
     "start_time": "2020-12-09T06:01:12.176637",
     "status": "completed"
    },
    "tags": []
   },
   "outputs": [
    {
     "data": {
      "text/plain": [
       "dict_keys(['SAT-HFS1_chile', 'SAT-HFS2_chile', 'SAT-LFS1_chile', 'SAT-LFS2_chile', 'SAT-MFHS1_chile', 'SAT-MFHS2_chile', 'SAT-MFLS1_chile', 'SAT-MFLS2_chile'])"
      ]
     },
     "execution_count": 13,
     "metadata": {},
     "output_type": "execute_result"
    }
   ],
   "source": [
    "C_ell.keys()"
   ]
  },
  {
   "cell_type": "code",
   "execution_count": 14,
   "metadata": {
    "execution": {
     "iopub.execute_input": "2020-12-09T06:01:12.274822Z",
     "iopub.status.busy": "2020-12-09T06:01:12.274327Z",
     "iopub.status.idle": "2020-12-09T06:01:12.276779Z",
     "shell.execute_reply": "2020-12-09T06:01:12.276369Z"
    },
    "papermill": {
     "duration": 0.03432,
     "end_time": "2020-12-09T06:01:12.276893",
     "exception": false,
     "start_time": "2020-12-09T06:01:12.242573",
     "status": "completed"
    },
    "tags": []
   },
   "outputs": [],
   "source": [
    "nside = 4096 if telescope == \"LAT\" else 512"
   ]
  },
  {
   "cell_type": "code",
   "execution_count": 15,
   "metadata": {
    "execution": {
     "iopub.execute_input": "2020-12-09T06:01:12.336363Z",
     "iopub.status.busy": "2020-12-09T06:01:12.335786Z",
     "iopub.status.idle": "2020-12-09T06:01:12.339470Z",
     "shell.execute_reply": "2020-12-09T06:01:12.339959Z"
    },
    "papermill": {
     "duration": 0.035678,
     "end_time": "2020-12-09T06:01:12.340089",
     "exception": false,
     "start_time": "2020-12-09T06:01:12.304411",
     "status": "completed"
    },
    "tags": []
   },
   "outputs": [],
   "source": [
    "from s4_design_sim_tool.core import base_folder"
   ]
  },
  {
   "cell_type": "code",
   "execution_count": 16,
   "metadata": {
    "execution": {
     "iopub.execute_input": "2020-12-09T06:01:12.398813Z",
     "iopub.status.busy": "2020-12-09T06:01:12.398296Z",
     "iopub.status.idle": "2020-12-09T06:01:12.411035Z",
     "shell.execute_reply": "2020-12-09T06:01:12.411407Z"
    },
    "papermill": {
     "duration": 0.043991,
     "end_time": "2020-12-09T06:01:12.411564",
     "exception": false,
     "start_time": "2020-12-09T06:01:12.367573",
     "status": "completed"
    },
    "tags": []
   },
   "outputs": [],
   "source": [
    "from s4_design_sim_tool.cli import parse_config\n",
    "if site == \"chile\" and telescope == \"SAT\":\n",
    "    config = parse_config(f\"{dataset}.toml\", \"chile_sat.toml\")\n",
    "else:\n",
    "    config = parse_config(f\"{dataset}.toml\")"
   ]
  },
  {
   "cell_type": "code",
   "execution_count": 17,
   "metadata": {
    "execution": {
     "iopub.execute_input": "2020-12-09T06:01:12.472791Z",
     "iopub.status.busy": "2020-12-09T06:01:12.472275Z",
     "iopub.status.idle": "2020-12-09T06:01:12.626990Z",
     "shell.execute_reply": "2020-12-09T06:01:12.626549Z"
    },
    "papermill": {
     "duration": 0.187717,
     "end_time": "2020-12-09T06:01:12.627112",
     "exception": false,
     "start_time": "2020-12-09T06:01:12.439395",
     "status": "completed"
    },
    "tags": []
   },
   "outputs": [
    {
     "name": "stderr",
     "output_type": "stream",
     "text": [
      "/global/homes/z/zonca/condajupynersc/lib/python3.7/site-packages/healpy/fitsfunc.py:369: UserWarning: If you are not specifying the input dtype and using the default np.float64 dtype of read_map(), please consider that it will change in a future version to None as to keep the same dtype of the input file: please explicitly set the dtype if it is important to you.\n",
      "  \"If you are not specifying the input dtype and using the default \"\n",
      "/global/homes/z/zonca/condajupynersc/lib/python3.7/site-packages/healpy/fitsfunc.py:391: UserWarning: NSIDE = 512\n",
      "  warnings.warn(\"NSIDE = {0:d}\".format(nside))\n",
      "/global/homes/z/zonca/condajupynersc/lib/python3.7/site-packages/healpy/fitsfunc.py:400: UserWarning: ORDERING = RING in fits file\n",
      "  warnings.warn(\"ORDERING = {0:s} in fits file\".format(ordering))\n",
      "/global/homes/z/zonca/condajupynersc/lib/python3.7/site-packages/healpy/fitsfunc.py:428: UserWarning: INDXSCHM = IMPLICIT\n",
      "  warnings.warn(\"INDXSCHM = {0:s}\".format(schm))\n"
     ]
    }
   ],
   "source": [
    "hitmap = hp.read_map(local_path / dataset / ch / f\"cmbs4_hitmap_{ch}_nside{nside}_1_of_{nsplits}.fits\")"
   ]
  },
  {
   "cell_type": "code",
   "execution_count": 18,
   "metadata": {
    "execution": {
     "iopub.execute_input": "2020-12-09T06:01:12.743419Z",
     "iopub.status.busy": "2020-12-09T06:01:12.742797Z",
     "iopub.status.idle": "2020-12-09T06:01:12.745020Z",
     "shell.execute_reply": "2020-12-09T06:01:12.745479Z"
    },
    "papermill": {
     "duration": 0.048775,
     "end_time": "2020-12-09T06:01:12.745634",
     "exception": false,
     "start_time": "2020-12-09T06:01:12.696859",
     "status": "completed"
    },
    "tags": []
   },
   "outputs": [
    {
     "data": {
      "text/plain": [
       "'LFS1'"
      ]
     },
     "execution_count": 18,
     "metadata": {},
     "output_type": "execute_result"
    }
   ],
   "source": [
    "channel"
   ]
  },
  {
   "cell_type": "code",
   "execution_count": 19,
   "metadata": {
    "execution": {
     "iopub.execute_input": "2020-12-09T06:01:12.843192Z",
     "iopub.status.busy": "2020-12-09T06:01:12.842147Z",
     "iopub.status.idle": "2020-12-09T06:01:12.845771Z",
     "shell.execute_reply": "2020-12-09T06:01:12.846621Z"
    },
    "papermill": {
     "duration": 0.070399,
     "end_time": "2020-12-09T06:01:12.846863",
     "exception": false,
     "start_time": "2020-12-09T06:01:12.776464",
     "status": "completed"
    },
    "tags": []
   },
   "outputs": [
    {
     "data": {
      "text/plain": [
       "7"
      ]
     },
     "execution_count": 19,
     "metadata": {},
     "output_type": "execute_result"
    }
   ],
   "source": [
    "from s4_design_sim_tool.noise import get_tube_years\n",
    "tube_years = get_tube_years(config, site, channel)\n",
    "tube_years"
   ]
  },
  {
   "cell_type": "code",
   "execution_count": 20,
   "metadata": {
    "execution": {
     "iopub.execute_input": "2020-12-09T06:01:12.929156Z",
     "iopub.status.busy": "2020-12-09T06:01:12.928562Z",
     "iopub.status.idle": "2020-12-09T06:01:12.935730Z",
     "shell.execute_reply": "2020-12-09T06:01:12.936151Z"
    },
    "papermill": {
     "duration": 0.04105,
     "end_time": "2020-12-09T06:01:12.936343",
     "exception": false,
     "start_time": "2020-12-09T06:01:12.895293",
     "status": "completed"
    },
    "tags": []
   },
   "outputs": [
    {
     "data": {
      "text/plain": [
       "99.99999938176113"
      ]
     },
     "execution_count": 20,
     "metadata": {},
     "output_type": "execute_result"
    }
   ],
   "source": [
    "sampling_rate = hitmap.sum()\n",
    "sampling_rate /= 365.25 * 24 * 3600\n",
    "sampling_rate /= tube_years * config[\"experiment\"][\"observing_efficiency\"]\n",
    "sampling_rate /= s4[channel].attrs[\"detectors_per_tube\"]\n",
    "sampling_rate *= nsplits\n",
    "sampling_rate"
   ]
  },
  {
   "cell_type": "code",
   "execution_count": 21,
   "metadata": {
    "execution": {
     "iopub.execute_input": "2020-12-09T06:01:13.004037Z",
     "iopub.status.busy": "2020-12-09T06:01:13.003433Z",
     "iopub.status.idle": "2020-12-09T06:01:13.005502Z",
     "shell.execute_reply": "2020-12-09T06:01:13.005922Z"
    },
    "papermill": {
     "duration": 0.04087,
     "end_time": "2020-12-09T06:01:13.006069",
     "exception": false,
     "start_time": "2020-12-09T06:01:12.965199",
     "status": "completed"
    },
    "tags": []
   },
   "outputs": [],
   "source": [
    "np.testing.assert_allclose(sampling_rate, sampling_frequency[telescope].value, rtol=1/100)"
   ]
  },
  {
   "cell_type": "code",
   "execution_count": 22,
   "metadata": {
    "execution": {
     "iopub.execute_input": "2020-12-09T06:01:13.073433Z",
     "iopub.status.busy": "2020-12-09T06:01:13.072832Z",
     "iopub.status.idle": "2020-12-09T06:01:13.602260Z",
     "shell.execute_reply": "2020-12-09T06:01:13.602739Z"
    },
    "papermill": {
     "duration": 0.566023,
     "end_time": "2020-12-09T06:01:13.602922",
     "exception": false,
     "start_time": "2020-12-09T06:01:13.036899",
     "status": "completed"
    },
    "tags": []
   },
   "outputs": [
    {
     "name": "stderr",
     "output_type": "stream",
     "text": [
      "/global/homes/z/zonca/condajupynersc/lib/python3.7/site-packages/ipykernel_launcher.py:1: RuntimeWarning: divide by zero encountered in log10\n",
      "  \"\"\"Entry point for launching an IPython kernel.\n",
      "/global/homes/z/zonca/condajupynersc/lib/python3.7/site-packages/healpy/projaxes.py:920: MatplotlibDeprecationWarning: You are modifying the state of a globally registered colormap. In future versions, you will not be able to modify a registered colormap in-place. To remove this warning, you can make a copy of the colormap first. cmap = copy.copy(mpl.cm.get_cmap(\"viridis\"))\n",
      "  newcm.set_over(newcm(1.0))\n",
      "/global/homes/z/zonca/condajupynersc/lib/python3.7/site-packages/healpy/projaxes.py:921: MatplotlibDeprecationWarning: You are modifying the state of a globally registered colormap. In future versions, you will not be able to modify a registered colormap in-place. To remove this warning, you can make a copy of the colormap first. cmap = copy.copy(mpl.cm.get_cmap(\"viridis\"))\n",
      "  newcm.set_under(bgcolor)\n",
      "/global/homes/z/zonca/condajupynersc/lib/python3.7/site-packages/healpy/projaxes.py:922: MatplotlibDeprecationWarning: You are modifying the state of a globally registered colormap. In future versions, you will not be able to modify a registered colormap in-place. To remove this warning, you can make a copy of the colormap first. cmap = copy.copy(mpl.cm.get_cmap(\"viridis\"))\n",
      "  newcm.set_bad(badcolor)\n",
      "/global/homes/z/zonca/condajupynersc/lib/python3.7/site-packages/healpy/projaxes.py:211: MatplotlibDeprecationWarning: Passing parameters norm and vmin/vmax simultaneously is deprecated since 3.3 and will become an error two minor releases later. Please pass vmin/vmax directly to the norm when creating it.\n",
      "  **kwds\n"
     ]
    },
    {
     "data": {
      "image/png": "[encoded data removed]",
      "text/plain": [
       "<Figure size 612x388.8 with 2 Axes>"
      ]
     },
     "metadata": {
      "needs_background": "light"
     },
     "output_type": "display_data"
    }
   ],
   "source": [
    "log_hitmap = np.log10(hitmap)\n",
    "log_hitmap[np.isinf(log_hitmap)] = hp.UNSEEN\n",
    "hp.mollview(log_hitmap, unit=\"log10(samples)\", title=f\"Hitmap {ch}\")\n",
    "plt.savefig(f\"plots/hitmap_{channel}_{site}_1_of_{nsplits}.png\")"
   ]
  },
  {
   "cell_type": "code",
   "execution_count": 23,
   "metadata": {
    "execution": {
     "iopub.execute_input": "2020-12-09T06:01:13.710329Z",
     "iopub.status.busy": "2020-12-09T06:01:13.709235Z",
     "iopub.status.idle": "2020-12-09T06:01:13.820770Z",
     "shell.execute_reply": "2020-12-09T06:01:13.820121Z"
    },
    "papermill": {
     "duration": 0.181555,
     "end_time": "2020-12-09T06:01:13.820938",
     "exception": false,
     "start_time": "2020-12-09T06:01:13.639383",
     "status": "completed"
    },
    "tags": []
   },
   "outputs": [],
   "source": [
    "wcov = hp.read_map(local_path / dataset / ch / f\"cmbs4_wcov_{ch}_nside{nside}_1_of_{nsplits}.fits\", (3))"
   ]
  },
  {
   "cell_type": "code",
   "execution_count": 24,
   "metadata": {
    "execution": {
     "iopub.execute_input": "2020-12-09T06:01:13.899079Z",
     "iopub.status.busy": "2020-12-09T06:01:13.898487Z",
     "iopub.status.idle": "2020-12-09T06:01:13.901006Z",
     "shell.execute_reply": "2020-12-09T06:01:13.901455Z"
    },
    "papermill": {
     "duration": 0.041804,
     "end_time": "2020-12-09T06:01:13.901650",
     "exception": false,
     "start_time": "2020-12-09T06:01:13.859846",
     "status": "completed"
    },
    "tags": []
   },
   "outputs": [
    {
     "data": {
      "text/plain": [
       "(3145728,)"
      ]
     },
     "execution_count": 24,
     "metadata": {},
     "output_type": "execute_result"
    }
   ],
   "source": [
    "wcov.shape"
   ]
  },
  {
   "cell_type": "code",
   "execution_count": 25,
   "metadata": {
    "execution": {
     "iopub.execute_input": "2020-12-09T06:01:13.976289Z",
     "iopub.status.busy": "2020-12-09T06:01:13.975744Z",
     "iopub.status.idle": "2020-12-09T06:01:13.977657Z",
     "shell.execute_reply": "2020-12-09T06:01:13.978060Z"
    },
    "papermill": {
     "duration": 0.042126,
     "end_time": "2020-12-09T06:01:13.978191",
     "exception": false,
     "start_time": "2020-12-09T06:01:13.936065",
     "status": "completed"
    },
    "tags": []
   },
   "outputs": [],
   "source": [
    "import astropy.units as u"
   ]
  },
  {
   "cell_type": "code",
   "execution_count": 26,
   "metadata": {
    "execution": {
     "iopub.execute_input": "2020-12-09T06:01:14.051414Z",
     "iopub.status.busy": "2020-12-09T06:01:14.050904Z",
     "iopub.status.idle": "2020-12-09T06:01:14.052642Z",
     "shell.execute_reply": "2020-12-09T06:01:14.053076Z"
    },
    "papermill": {
     "duration": 0.040105,
     "end_time": "2020-12-09T06:01:14.053198",
     "exception": false,
     "start_time": "2020-12-09T06:01:14.013093",
     "status": "completed"
    },
    "tags": []
   },
   "outputs": [],
   "source": [
    "channel_NET = s4[channel].attrs[\"NET_uKsqrts\"] * u.uK * u.s ** .5"
   ]
  },
  {
   "cell_type": "code",
   "execution_count": 27,
   "metadata": {
    "execution": {
     "iopub.execute_input": "2020-12-09T06:01:14.127083Z",
     "iopub.status.busy": "2020-12-09T06:01:14.126580Z",
     "iopub.status.idle": "2020-12-09T06:01:14.128730Z",
     "shell.execute_reply": "2020-12-09T06:01:14.128308Z"
    },
    "papermill": {
     "duration": 0.041093,
     "end_time": "2020-12-09T06:01:14.128827",
     "exception": false,
     "start_time": "2020-12-09T06:01:14.087734",
     "status": "completed"
    },
    "tags": []
   },
   "outputs": [],
   "source": [
    "if telescope == \"LAT\" and site==\"pole\":\n",
    "    channel_NET = s4[channel].attrs[\"pole_NET_uKsqrts\"] * u.uK * u.s ** .5"
   ]
  },
  {
   "cell_type": "code",
   "execution_count": 28,
   "metadata": {
    "execution": {
     "iopub.execute_input": "2020-12-09T06:01:14.204299Z",
     "iopub.status.busy": "2020-12-09T06:01:14.203742Z",
     "iopub.status.idle": "2020-12-09T06:01:14.269489Z",
     "shell.execute_reply": "2020-12-09T06:01:14.268832Z"
    },
    "papermill": {
     "duration": 0.103842,
     "end_time": "2020-12-09T06:01:14.269643",
     "exception": false,
     "start_time": "2020-12-09T06:01:14.165801",
     "status": "completed"
    },
    "tags": []
   },
   "outputs": [],
   "source": [
    "variance_QQ = wcov * u.K ** 2 * (hitmap / sampling_frequency[telescope]) "
   ]
  },
  {
   "cell_type": "code",
   "execution_count": 29,
   "metadata": {
    "execution": {
     "iopub.execute_input": "2020-12-09T06:01:14.342870Z",
     "iopub.status.busy": "2020-12-09T06:01:14.342380Z",
     "iopub.status.idle": "2020-12-09T06:01:14.360072Z",
     "shell.execute_reply": "2020-12-09T06:01:14.360451Z"
    },
    "papermill": {
     "duration": 0.054531,
     "end_time": "2020-12-09T06:01:14.360589",
     "exception": false,
     "start_time": "2020-12-09T06:01:14.306058",
     "status": "completed"
    },
    "tags": []
   },
   "outputs": [],
   "source": [
    "assert (variance_QQ.value == hp.UNSEEN).sum() == 0"
   ]
  },
  {
   "cell_type": "code",
   "execution_count": 30,
   "metadata": {
    "execution": {
     "iopub.execute_input": "2020-12-09T06:01:14.461264Z",
     "iopub.status.busy": "2020-12-09T06:01:14.460715Z",
     "iopub.status.idle": "2020-12-09T06:01:14.499930Z",
     "shell.execute_reply": "2020-12-09T06:01:14.500510Z"
    },
    "papermill": {
     "duration": 0.082811,
     "end_time": "2020-12-09T06:01:14.500700",
     "exception": false,
     "start_time": "2020-12-09T06:01:14.417889",
     "status": "completed"
    },
    "tags": []
   },
   "outputs": [],
   "source": [
    "full_mission_NET = np.sqrt(np.median(variance_QQ[hitmap != 0]))"
   ]
  },
  {
   "cell_type": "code",
   "execution_count": 31,
   "metadata": {
    "execution": {
     "iopub.execute_input": "2020-12-09T06:01:14.582056Z",
     "iopub.status.busy": "2020-12-09T06:01:14.581526Z",
     "iopub.status.idle": "2020-12-09T06:01:14.584491Z",
     "shell.execute_reply": "2020-12-09T06:01:14.584936Z"
    },
    "papermill": {
     "duration": 0.047159,
     "end_time": "2020-12-09T06:01:14.585077",
     "exception": false,
     "start_time": "2020-12-09T06:01:14.537918",
     "status": "completed"
    },
    "tags": []
   },
   "outputs": [
    {
     "data": {
      "text/latex": [
       "$247.40934 \\; \\mathrm{\\mu K\\,s^{1/2}}$"
      ],
      "text/plain": [
       "<Quantity 247.4093431 s(1/2) uK>"
      ]
     },
     "execution_count": 31,
     "metadata": {},
     "output_type": "execute_result"
    }
   ],
   "source": [
    "full_mission_NET.to(channel_NET.unit)"
   ]
  },
  {
   "cell_type": "code",
   "execution_count": 32,
   "metadata": {
    "execution": {
     "iopub.execute_input": "2020-12-09T06:01:14.665033Z",
     "iopub.status.busy": "2020-12-09T06:01:14.664466Z",
     "iopub.status.idle": "2020-12-09T06:01:14.666739Z",
     "shell.execute_reply": "2020-12-09T06:01:14.667167Z"
    },
    "papermill": {
     "duration": 0.045737,
     "end_time": "2020-12-09T06:01:14.667353",
     "exception": false,
     "start_time": "2020-12-09T06:01:14.621616",
     "status": "completed"
    },
    "tags": []
   },
   "outputs": [
    {
     "data": {
      "text/latex": [
       "$177 \\; \\mathrm{\\mu K\\,s^{1/2}}$"
      ],
      "text/plain": [
       "<Quantity 177. s(1/2) uK>"
      ]
     },
     "execution_count": 32,
     "metadata": {},
     "output_type": "execute_result"
    }
   ],
   "source": [
    "channel_NET"
   ]
  },
  {
   "cell_type": "code",
   "execution_count": 33,
   "metadata": {
    "execution": {
     "iopub.execute_input": "2020-12-09T06:01:14.742468Z",
     "iopub.status.busy": "2020-12-09T06:01:14.741922Z",
     "iopub.status.idle": "2020-12-09T06:01:14.745400Z",
     "shell.execute_reply": "2020-12-09T06:01:14.744982Z"
    },
    "papermill": {
     "duration": 0.043379,
     "end_time": "2020-12-09T06:01:14.745494",
     "exception": false,
     "start_time": "2020-12-09T06:01:14.702115",
     "status": "completed"
    },
    "tags": []
   },
   "outputs": [
    {
     "data": {
      "text/latex": [
       "$174.94482 \\; \\mathrm{\\mu K\\,s^{1/2}}$"
      ],
      "text/plain": [
       "<Quantity 174.94482423 s(1/2) uK>"
      ]
     },
     "execution_count": 33,
     "metadata": {},
     "output_type": "execute_result"
    }
   ],
   "source": [
    "(full_mission_NET/np.sqrt(2)).to(channel_NET.unit)"
   ]
  },
  {
   "cell_type": "code",
   "execution_count": 34,
   "metadata": {
    "execution": {
     "iopub.execute_input": "2020-12-09T06:01:14.819738Z",
     "iopub.status.busy": "2020-12-09T06:01:14.819192Z",
     "iopub.status.idle": "2020-12-09T06:01:14.821013Z",
     "shell.execute_reply": "2020-12-09T06:01:14.821460Z"
    },
    "papermill": {
     "duration": 0.041787,
     "end_time": "2020-12-09T06:01:14.821614",
     "exception": false,
     "start_time": "2020-12-09T06:01:14.779827",
     "status": "completed"
    },
    "tags": []
   },
   "outputs": [],
   "source": [
    "assert_quantity_allclose(full_mission_NET, channel_NET*np.sqrt(2), rtol=10/100) "
   ]
  },
  {
   "cell_type": "code",
   "execution_count": 35,
   "metadata": {
    "execution": {
     "iopub.execute_input": "2020-12-09T06:01:14.897142Z",
     "iopub.status.busy": "2020-12-09T06:01:14.896615Z",
     "iopub.status.idle": "2020-12-09T06:01:14.905313Z",
     "shell.execute_reply": "2020-12-09T06:01:14.904869Z"
    },
    "papermill": {
     "duration": 0.047628,
     "end_time": "2020-12-09T06:01:14.905420",
     "exception": false,
     "start_time": "2020-12-09T06:01:14.857792",
     "status": "completed"
    },
    "tags": []
   },
   "outputs": [],
   "source": [
    "sky_fraction = (hitmap > 0).sum() / len(hitmap)"
   ]
  },
  {
   "cell_type": "code",
   "execution_count": 36,
   "metadata": {
    "execution": {
     "iopub.execute_input": "2020-12-09T06:01:14.982373Z",
     "iopub.status.busy": "2020-12-09T06:01:14.981799Z",
     "iopub.status.idle": "2020-12-09T06:01:14.984234Z",
     "shell.execute_reply": "2020-12-09T06:01:14.984673Z"
    },
    "papermill": {
     "duration": 0.043781,
     "end_time": "2020-12-09T06:01:14.984802",
     "exception": false,
     "start_time": "2020-12-09T06:01:14.941021",
     "status": "completed"
    },
    "tags": []
   },
   "outputs": [
    {
     "data": {
      "text/plain": [
       "0.43964417775472003"
      ]
     },
     "execution_count": 36,
     "metadata": {},
     "output_type": "execute_result"
    }
   ],
   "source": [
    "sky_fraction"
   ]
  },
  {
   "cell_type": "code",
   "execution_count": 37,
   "metadata": {
    "execution": {
     "iopub.execute_input": "2020-12-09T06:01:15.061108Z",
     "iopub.status.busy": "2020-12-09T06:01:15.060561Z",
     "iopub.status.idle": "2020-12-09T06:01:15.062185Z",
     "shell.execute_reply": "2020-12-09T06:01:15.062697Z"
    },
    "papermill": {
     "duration": 0.040863,
     "end_time": "2020-12-09T06:01:15.062835",
     "exception": false,
     "start_time": "2020-12-09T06:01:15.021972",
     "status": "completed"
    },
    "tags": []
   },
   "outputs": [],
   "source": [
    "pixarea = hp.nside2pixarea(nside)"
   ]
  },
  {
   "cell_type": "code",
   "execution_count": 38,
   "metadata": {
    "execution": {
     "iopub.execute_input": "2020-12-09T06:01:15.141532Z",
     "iopub.status.busy": "2020-12-09T06:01:15.141034Z",
     "iopub.status.idle": "2020-12-09T06:01:15.158568Z",
     "shell.execute_reply": "2020-12-09T06:01:15.158964Z"
    },
    "papermill": {
     "duration": 0.05859,
     "end_time": "2020-12-09T06:01:15.159103",
     "exception": false,
     "start_time": "2020-12-09T06:01:15.100513",
     "status": "completed"
    },
    "tags": []
   },
   "outputs": [
    {
     "data": {
      "text/plain": [
       "5.808917722281922e-15"
      ]
     },
     "execution_count": 38,
     "metadata": {},
     "output_type": "execute_result"
    }
   ],
   "source": [
    "np.mean(wcov[hitmap > 0])* pixarea"
   ]
  },
  {
   "cell_type": "code",
   "execution_count": 39,
   "metadata": {
    "execution": {
     "iopub.execute_input": "2020-12-09T06:01:15.238510Z",
     "iopub.status.busy": "2020-12-09T06:01:15.237976Z",
     "iopub.status.idle": "2020-12-09T06:01:15.249094Z",
     "shell.execute_reply": "2020-12-09T06:01:15.248611Z"
    },
    "papermill": {
     "duration": 0.053057,
     "end_time": "2020-12-09T06:01:15.249221",
     "exception": false,
     "start_time": "2020-12-09T06:01:15.196164",
     "status": "completed"
    },
    "tags": []
   },
   "outputs": [],
   "source": [
    "wcov [ wcov == hp.UNSEEN] = 0"
   ]
  },
  {
   "cell_type": "markdown",
   "metadata": {
    "papermill": {
     "duration": 0.036687,
     "end_time": "2020-12-09T06:01:15.323082",
     "exception": false,
     "start_time": "2020-12-09T06:01:15.286395",
     "status": "completed"
    },
    "tags": []
   },
   "source": [
    "## Atmosphere"
   ]
  },
  {
   "cell_type": "code",
   "execution_count": 40,
   "metadata": {
    "execution": {
     "iopub.execute_input": "2020-12-09T06:01:15.400976Z",
     "iopub.status.busy": "2020-12-09T06:01:15.400415Z",
     "iopub.status.idle": "2020-12-09T06:01:15.402596Z",
     "shell.execute_reply": "2020-12-09T06:01:15.402153Z"
    },
    "papermill": {
     "duration": 0.043661,
     "end_time": "2020-12-09T06:01:15.402714",
     "exception": false,
     "start_time": "2020-12-09T06:01:15.359053",
     "status": "completed"
    },
    "tags": []
   },
   "outputs": [],
   "source": [
    "atmosphere_filename = Path(base_folder) / \"00000000\" / f\"{site}_atmosphere_{telescope}_{channel}_filtered_telescope_all_time_all_bmap.fits\""
   ]
  },
  {
   "cell_type": "code",
   "execution_count": 41,
   "metadata": {
    "execution": {
     "iopub.execute_input": "2020-12-09T06:01:15.483277Z",
     "iopub.status.busy": "2020-12-09T06:01:15.482750Z",
     "iopub.status.idle": "2020-12-09T06:01:16.197673Z",
     "shell.execute_reply": "2020-12-09T06:01:16.197217Z"
    },
    "papermill": {
     "duration": 0.757606,
     "end_time": "2020-12-09T06:01:16.197789",
     "exception": false,
     "start_time": "2020-12-09T06:01:15.440183",
     "status": "completed"
    },
    "tags": []
   },
   "outputs": [
    {
     "name": "stderr",
     "output_type": "stream",
     "text": [
      "/global/homes/z/zonca/condajupynersc/lib/python3.7/site-packages/healpy/fitsfunc.py:400: UserWarning: ORDERING = NESTED in fits file\n",
      "  warnings.warn(\"ORDERING = {0:s} in fits file\".format(ordering))\n",
      "/global/homes/z/zonca/condajupynersc/lib/python3.7/site-packages/healpy/fitsfunc.py:486: UserWarning: Ordering converted to RING\n",
      "  warnings.warn(\"Ordering converted to RING\")\n"
     ]
    }
   ],
   "source": [
    "input_atmophere = hp.ma(hp.read_map(atmosphere_filename, (0,1,2)))"
   ]
  },
  {
   "cell_type": "code",
   "execution_count": 42,
   "metadata": {
    "execution": {
     "iopub.execute_input": "2020-12-09T06:01:16.276629Z",
     "iopub.status.busy": "2020-12-09T06:01:16.276108Z",
     "iopub.status.idle": "2020-12-09T06:01:16.305861Z",
     "shell.execute_reply": "2020-12-09T06:01:16.306479Z"
    },
    "papermill": {
     "duration": 0.070605,
     "end_time": "2020-12-09T06:01:16.306667",
     "exception": false,
     "start_time": "2020-12-09T06:01:16.236062",
     "status": "completed"
    },
    "tags": []
   },
   "outputs": [],
   "source": [
    "sqrt_hitmap = hitmap.copy()\n",
    "sqrt_hitmap[hitmap>0] = np.sqrt(hitmap[hitmap>0])"
   ]
  },
  {
   "cell_type": "code",
   "execution_count": 43,
   "metadata": {
    "execution": {
     "iopub.execute_input": "2020-12-09T06:01:16.431109Z",
     "iopub.status.busy": "2020-12-09T06:01:16.430549Z",
     "iopub.status.idle": "2020-12-09T06:01:18.701089Z",
     "shell.execute_reply": "2020-12-09T06:01:18.701468Z"
    },
    "papermill": {
     "duration": 2.352213,
     "end_time": "2020-12-09T06:01:18.701611",
     "exception": false,
     "start_time": "2020-12-09T06:01:16.349398",
     "status": "completed"
    },
    "tags": []
   },
   "outputs": [],
   "source": [
    "atmo_cl = \\\n",
    "hp.anafast(input_atmophere * sqrt_hitmap, use_pixel_weights=True) / np.mean(hitmap) # / sky_fraction"
   ]
  },
  {
   "cell_type": "code",
   "execution_count": 44,
   "metadata": {
    "execution": {
     "iopub.execute_input": "2020-12-09T06:01:18.776078Z",
     "iopub.status.busy": "2020-12-09T06:01:18.775474Z",
     "iopub.status.idle": "2020-12-09T06:01:18.777574Z",
     "shell.execute_reply": "2020-12-09T06:01:18.777993Z"
    },
    "papermill": {
     "duration": 0.040787,
     "end_time": "2020-12-09T06:01:18.778142",
     "exception": false,
     "start_time": "2020-12-09T06:01:18.737355",
     "status": "completed"
    },
    "tags": []
   },
   "outputs": [],
   "source": [
    "from s4_design_sim_tool.atmosphere import get_telecope_years"
   ]
  },
  {
   "cell_type": "code",
   "execution_count": 45,
   "metadata": {
    "execution": {
     "iopub.execute_input": "2020-12-09T06:01:18.857886Z",
     "iopub.status.busy": "2020-12-09T06:01:18.857338Z",
     "iopub.status.idle": "2020-12-09T06:01:18.858911Z",
     "shell.execute_reply": "2020-12-09T06:01:18.859332Z"
    },
    "papermill": {
     "duration": 0.04521,
     "end_time": "2020-12-09T06:01:18.859475",
     "exception": false,
     "start_time": "2020-12-09T06:01:18.814265",
     "status": "completed"
    },
    "tags": []
   },
   "outputs": [],
   "source": [
    "telescope_years = get_telecope_years(config, site, channel)"
   ]
  },
  {
   "cell_type": "code",
   "execution_count": 46,
   "metadata": {
    "execution": {
     "iopub.execute_input": "2020-12-09T06:01:18.941988Z",
     "iopub.status.busy": "2020-12-09T06:01:18.941440Z",
     "iopub.status.idle": "2020-12-09T06:01:18.944015Z",
     "shell.execute_reply": "2020-12-09T06:01:18.944462Z"
    },
    "papermill": {
     "duration": 0.045081,
     "end_time": "2020-12-09T06:01:18.944600",
     "exception": false,
     "start_time": "2020-12-09T06:01:18.899519",
     "status": "completed"
    },
    "tags": []
   },
   "outputs": [
    {
     "data": {
      "text/plain": [
       "7"
      ]
     },
     "execution_count": 46,
     "metadata": {},
     "output_type": "execute_result"
    }
   ],
   "source": [
    "telescope_years"
   ]
  },
  {
   "cell_type": "code",
   "execution_count": 47,
   "metadata": {
    "execution": {
     "iopub.execute_input": "2020-12-09T06:01:19.031250Z",
     "iopub.status.busy": "2020-12-09T06:01:19.030674Z",
     "iopub.status.idle": "2020-12-09T06:01:19.032434Z",
     "shell.execute_reply": "2020-12-09T06:01:19.032931Z"
    },
    "papermill": {
     "duration": 0.047254,
     "end_time": "2020-12-09T06:01:19.033089",
     "exception": false,
     "start_time": "2020-12-09T06:01:18.985835",
     "status": "completed"
    },
    "tags": []
   },
   "outputs": [],
   "source": [
    "from s4_design_sim_tool.core import simulations_observing_efficiency"
   ]
  },
  {
   "cell_type": "code",
   "execution_count": 48,
   "metadata": {
    "execution": {
     "iopub.execute_input": "2020-12-09T06:01:19.123131Z",
     "iopub.status.busy": "2020-12-09T06:01:19.122581Z",
     "iopub.status.idle": "2020-12-09T06:01:19.126063Z",
     "shell.execute_reply": "2020-12-09T06:01:19.125572Z"
    },
    "papermill": {
     "duration": 0.052228,
     "end_time": "2020-12-09T06:01:19.126185",
     "exception": false,
     "start_time": "2020-12-09T06:01:19.073957",
     "status": "completed"
    },
    "tags": []
   },
   "outputs": [
    {
     "data": {
      "text/plain": [
       "{'pole': {'SAT': 0.3931149305555555, 'LAT': 0.321544537037037},\n",
       " 'chile': {'SAT': 0.8656164351851852, 'LAT': 0.917306712962963}}"
      ]
     },
     "execution_count": 48,
     "metadata": {},
     "output_type": "execute_result"
    }
   ],
   "source": [
    "simulations_observing_efficiency"
   ]
  },
  {
   "cell_type": "code",
   "execution_count": 49,
   "metadata": {
    "execution": {
     "iopub.execute_input": "2020-12-09T06:01:19.213652Z",
     "iopub.status.busy": "2020-12-09T06:01:19.213083Z",
     "iopub.status.idle": "2020-12-09T06:01:19.216084Z",
     "shell.execute_reply": "2020-12-09T06:01:19.215579Z"
    },
    "papermill": {
     "duration": 0.048713,
     "end_time": "2020-12-09T06:01:19.216214",
     "exception": false,
     "start_time": "2020-12-09T06:01:19.167501",
     "status": "completed"
    },
    "tags": []
   },
   "outputs": [],
   "source": [
    "atmo_cl *= 10 / 365.25\n",
    "atmo_cl *= simulations_observing_efficiency[site.lower()].get(telescope, 1) / config[\"experiment\"][\"observing_efficiency\"]                                                                    \n",
    "atmo_cl /= telescope_years"
   ]
  },
  {
   "cell_type": "markdown",
   "metadata": {
    "papermill": {
     "duration": 0.039875,
     "end_time": "2020-12-09T06:01:19.296829",
     "exception": false,
     "start_time": "2020-12-09T06:01:19.256954",
     "status": "completed"
    },
    "tags": []
   },
   "source": [
    "## Noise"
   ]
  },
  {
   "cell_type": "code",
   "execution_count": 50,
   "metadata": {
    "execution": {
     "iopub.execute_input": "2020-12-09T06:01:19.379823Z",
     "iopub.status.busy": "2020-12-09T06:01:19.379228Z",
     "iopub.status.idle": "2020-12-09T06:01:19.381253Z",
     "shell.execute_reply": "2020-12-09T06:01:19.381648Z"
    },
    "papermill": {
     "duration": 0.046203,
     "end_time": "2020-12-09T06:01:19.381799",
     "exception": false,
     "start_time": "2020-12-09T06:01:19.335596",
     "status": "completed"
    },
    "tags": []
   },
   "outputs": [],
   "source": [
    "noise_filename = Path(base_folder) / \"00000000\" / f\"{site}_noise_{telescope}_{channel}_filtered_telescope_all_time_all_bmap.fits\""
   ]
  },
  {
   "cell_type": "code",
   "execution_count": 51,
   "metadata": {
    "execution": {
     "iopub.execute_input": "2020-12-09T06:01:19.465144Z",
     "iopub.status.busy": "2020-12-09T06:01:19.464629Z",
     "iopub.status.idle": "2020-12-09T06:01:19.466636Z",
     "shell.execute_reply": "2020-12-09T06:01:19.467036Z"
    },
    "papermill": {
     "duration": 0.045237,
     "end_time": "2020-12-09T06:01:19.467185",
     "exception": false,
     "start_time": "2020-12-09T06:01:19.421948",
     "status": "completed"
    },
    "tags": []
   },
   "outputs": [],
   "source": [
    "#input_noise = hp.ma(hp.read_map(noise_filename, (0,1,2)))"
   ]
  },
  {
   "cell_type": "code",
   "execution_count": 52,
   "metadata": {
    "execution": {
     "iopub.execute_input": "2020-12-09T06:01:19.552177Z",
     "iopub.status.busy": "2020-12-09T06:01:19.551577Z",
     "iopub.status.idle": "2020-12-09T06:01:19.553506Z",
     "shell.execute_reply": "2020-12-09T06:01:19.553897Z"
    },
    "papermill": {
     "duration": 0.047006,
     "end_time": "2020-12-09T06:01:19.554038",
     "exception": false,
     "start_time": "2020-12-09T06:01:19.507032",
     "status": "completed"
    },
    "tags": []
   },
   "outputs": [],
   "source": [
    "#noise_cl = hp.anafast(input_noise * sqrt_hitmap, use_pixel_weights=True) / np.mean(hitmap) / sky_fraction"
   ]
  },
  {
   "cell_type": "code",
   "execution_count": 53,
   "metadata": {
    "execution": {
     "iopub.execute_input": "2020-12-09T06:01:19.692500Z",
     "iopub.status.busy": "2020-12-09T06:01:19.691937Z",
     "iopub.status.idle": "2020-12-09T06:01:19.694337Z",
     "shell.execute_reply": "2020-12-09T06:01:19.693858Z"
    },
    "papermill": {
     "duration": 0.091536,
     "end_time": "2020-12-09T06:01:19.694444",
     "exception": false,
     "start_time": "2020-12-09T06:01:19.602908",
     "status": "completed"
    },
    "tags": []
   },
   "outputs": [],
   "source": [
    "del sqrt_hitmap"
   ]
  },
  {
   "cell_type": "code",
   "execution_count": 54,
   "metadata": {
    "execution": {
     "iopub.execute_input": "2020-12-09T06:01:19.776793Z",
     "iopub.status.busy": "2020-12-09T06:01:19.776266Z",
     "iopub.status.idle": "2020-12-09T06:01:19.778103Z",
     "shell.execute_reply": "2020-12-09T06:01:19.778506Z"
    },
    "papermill": {
     "duration": 0.044416,
     "end_time": "2020-12-09T06:01:19.778645",
     "exception": false,
     "start_time": "2020-12-09T06:01:19.734229",
     "status": "completed"
    },
    "tags": []
   },
   "outputs": [],
   "source": [
    "from s4_design_sim_tool.noise import get_thinfp\n",
    "thinfp = get_thinfp(channel)"
   ]
  },
  {
   "cell_type": "code",
   "execution_count": 55,
   "metadata": {
    "execution": {
     "iopub.execute_input": "2020-12-09T06:01:19.861372Z",
     "iopub.status.busy": "2020-12-09T06:01:19.860605Z",
     "iopub.status.idle": "2020-12-09T06:01:19.862976Z",
     "shell.execute_reply": "2020-12-09T06:01:19.863383Z"
    },
    "papermill": {
     "duration": 0.04575,
     "end_time": "2020-12-09T06:01:19.863503",
     "exception": false,
     "start_time": "2020-12-09T06:01:19.817753",
     "status": "completed"
    },
    "tags": []
   },
   "outputs": [
    {
     "data": {
      "text/html": [
       "&lt;Column name=&apos;thinfp&apos; dtype=&apos;int64&apos; length=1&gt;\n",
       "<table>\n",
       "<tr><td>1</td></tr>\n",
       "</table>"
      ],
      "text/plain": [
       "<Column name='thinfp' dtype='int64' length=1>\n",
       "1"
      ]
     },
     "execution_count": 55,
     "metadata": {},
     "output_type": "execute_result"
    }
   ],
   "source": [
    "thinfp"
   ]
  },
  {
   "cell_type": "code",
   "execution_count": 56,
   "metadata": {
    "execution": {
     "iopub.execute_input": "2020-12-09T06:01:19.972594Z",
     "iopub.status.busy": "2020-12-09T06:01:19.971646Z",
     "iopub.status.idle": "2020-12-09T06:01:19.974551Z",
     "shell.execute_reply": "2020-12-09T06:01:19.973774Z"
    },
    "papermill": {
     "duration": 0.072889,
     "end_time": "2020-12-09T06:01:19.974714",
     "exception": false,
     "start_time": "2020-12-09T06:01:19.901825",
     "status": "completed"
    },
    "tags": []
   },
   "outputs": [],
   "source": [
    "#noise_cl *= 10 / 365.25\n",
    "#noise_cl *= simulations_observing_efficiency[site.lower()].get(telescope, 1) / config[\"experiment\"][\"observing_efficiency\"]                                                                    \n",
    "#noise_cl /= tube_years\n",
    "#noise_cl /= thinfp"
   ]
  },
  {
   "cell_type": "code",
   "execution_count": 57,
   "metadata": {
    "execution": {
     "iopub.execute_input": "2020-12-09T06:01:20.073610Z",
     "iopub.status.busy": "2020-12-09T06:01:20.073106Z",
     "iopub.status.idle": "2020-12-09T06:01:20.091044Z",
     "shell.execute_reply": "2020-12-09T06:01:20.091487Z"
    },
    "papermill": {
     "duration": 0.06671,
     "end_time": "2020-12-09T06:01:20.091671",
     "exception": false,
     "start_time": "2020-12-09T06:01:20.024961",
     "status": "completed"
    },
    "tags": []
   },
   "outputs": [],
   "source": [
    "white_noise_Cl = channel_NET**2 \\\n",
    "/ (hitmap.sum() / sampling_frequency[telescope] / (hitmap>0).sum()) * pixarea # / sky_fraction"
   ]
  },
  {
   "cell_type": "code",
   "execution_count": 58,
   "metadata": {
    "execution": {
     "iopub.execute_input": "2020-12-09T06:01:20.175919Z",
     "iopub.status.busy": "2020-12-09T06:01:20.175044Z",
     "iopub.status.idle": "2020-12-09T06:01:20.177640Z",
     "shell.execute_reply": "2020-12-09T06:01:20.178080Z"
    },
    "papermill": {
     "duration": 0.047793,
     "end_time": "2020-12-09T06:01:20.178205",
     "exception": false,
     "start_time": "2020-12-09T06:01:20.130412",
     "status": "completed"
    },
    "tags": []
   },
   "outputs": [
    {
     "data": {
      "text/latex": [
       "$9.2647147 \\times 10^{-17} \\; \\mathrm{K^{2}}$"
      ],
      "text/plain": [
       "<Quantity 9.26471474e-17 K2>"
      ]
     },
     "execution_count": 58,
     "metadata": {},
     "output_type": "execute_result"
    }
   ],
   "source": [
    "white_noise_Cl.decompose()"
   ]
  },
  {
   "cell_type": "code",
   "execution_count": 59,
   "metadata": {
    "execution": {
     "iopub.execute_input": "2020-12-09T06:01:20.283573Z",
     "iopub.status.busy": "2020-12-09T06:01:20.282779Z",
     "iopub.status.idle": "2020-12-09T06:01:20.724233Z",
     "shell.execute_reply": "2020-12-09T06:01:20.724887Z"
    },
    "papermill": {
     "duration": 0.485656,
     "end_time": "2020-12-09T06:01:20.725098",
     "exception": false,
     "start_time": "2020-12-09T06:01:20.239442",
     "status": "completed"
    },
    "tags": []
   },
   "outputs": [],
   "source": [
    "import seaborn as sns"
   ]
  },
  {
   "cell_type": "code",
   "execution_count": 60,
   "metadata": {
    "execution": {
     "iopub.execute_input": "2020-12-09T06:01:20.810480Z",
     "iopub.status.busy": "2020-12-09T06:01:20.809526Z",
     "iopub.status.idle": "2020-12-09T06:01:20.811615Z",
     "shell.execute_reply": "2020-12-09T06:01:20.812429Z"
    },
    "papermill": {
     "duration": 0.04903,
     "end_time": "2020-12-09T06:01:20.812655",
     "exception": false,
     "start_time": "2020-12-09T06:01:20.763625",
     "status": "completed"
    },
    "tags": []
   },
   "outputs": [],
   "source": [
    "sns.set_style(\"whitegrid\")"
   ]
  },
  {
   "cell_type": "code",
   "execution_count": 61,
   "metadata": {
    "execution": {
     "iopub.execute_input": "2020-12-09T06:01:20.944209Z",
     "iopub.status.busy": "2020-12-09T06:01:20.943142Z",
     "iopub.status.idle": "2020-12-09T06:01:23.285863Z",
     "shell.execute_reply": "2020-12-09T06:01:23.286365Z"
    },
    "papermill": {
     "duration": 2.39085,
     "end_time": "2020-12-09T06:01:23.286636",
     "exception": false,
     "start_time": "2020-12-09T06:01:20.895786",
     "status": "completed"
    },
    "tags": []
   },
   "outputs": [
    {
     "data": {
      "image/png": "[encoded data removed]",
      "text/plain": [
       "<Figure size 576x360 with 1 Axes>"
      ]
     },
     "metadata": {},
     "output_type": "display_data"
    }
   ],
   "source": [
    "plt.figure(figsize=(8,5))\n",
    "\n",
    "pols = [\"TT\", \"EE\", \"BB\"]\n",
    "\n",
    "for i, pol in enumerate(pols):\n",
    "    for split in range(1, nsplits+1):\n",
    "        plt.loglog(C_ell[ch][split][i], alpha=.8, label=pol)\n",
    "\n",
    "for i, pol in enumerate(pols):\n",
    "    plt.loglog(atmo_cl[i]*nsplits, alpha=.8, ls=\"--\", label=f\"atmo {pol}\")\n",
    "\n",
    "#for i, pol in enumerate(pols):\n",
    "#    plt.loglog(noise_cl[i], alpha=.8, ls=\"-.\", label=f\"noise {pol}\")\n",
    "\n",
    "plt.axhline(white_noise_Cl.to_value(u.K**2), ls=\":\",\n",
    "           label=\"white noise T\", color=\"black\")\n",
    "plt.axhline(white_noise_Cl.to_value(u.K**2)*2, ls=\":\",\n",
    "           label=\"white noise P\", color=\"grey\")\n",
    "plt.legend()\n",
    "plt.title(f\"Noise + Atmosphere simulations spectra for {ch}\")\n",
    "plt.ylabel(\"$C_\\ell [K^2]$\")\n",
    "plt.xlabel(\"$\\ell$\")\n",
    "plt.xlim((10, 3*nside))\n",
    "plt.grid(True)\n",
    "plt.savefig(f\"plots/C_ell_{dataset}_{ch}_{nsplits}.png\");"
   ]
  },
  {
   "cell_type": "code",
   "execution_count": null,
   "metadata": {
    "papermill": {
     "duration": 0.038086,
     "end_time": "2020-12-09T06:01:23.367127",
     "exception": false,
     "start_time": "2020-12-09T06:01:23.329041",
     "status": "completed"
    },
    "tags": []
   },
   "outputs": [],
   "source": []
  }
 ],
 "metadata": {
  "kernelspec": {
   "display_name": "condajupynersc",
   "language": "python",
   "name": "condajupynersc"
  },
  "language_info": {
   "codemirror_mode": {
    "name": "ipython",
    "version": 3
   },
   "file_extension": ".py",
   "mimetype": "text/x-python",
   "name": "python",
   "nbconvert_exporter": "python",
   "pygments_lexer": "ipython3",
   "version": "3.7.0"
  },
  "papermill": {
   "duration": 15.874849,
   "end_time": "2020-12-09T06:01:23.917765",
   "environment_variables": {},
   "exception": null,
   "input_path": "validation_atmo_noise_dec_2020.ipynb",
   "output_path": "validation_notebooks/SAT-LFS1_chile_7.ipynb",
   "parameters": {
    "ch": "SAT-LFS1_chile",
    "nsplits": 7
   },
   "start_time": "2020-12-09T06:01:08.042916",
   "version": "2.1.2"
  }
 },
 "nbformat": 4,
 "nbformat_minor": 4
}