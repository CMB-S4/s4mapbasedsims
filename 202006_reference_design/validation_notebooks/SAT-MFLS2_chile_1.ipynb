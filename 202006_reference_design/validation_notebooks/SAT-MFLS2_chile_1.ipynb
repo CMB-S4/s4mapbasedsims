{
 "cells": [
  {
   "cell_type": "code",
   "execution_count": 1,
   "metadata": {
    "execution": {
     "iopub.execute_input": "2020-12-09T05:35:42.797349Z",
     "iopub.status.busy": "2020-12-09T05:35:42.796325Z",
     "iopub.status.idle": "2020-12-09T05:35:44.620164Z",
     "shell.execute_reply": "2020-12-09T05:35:44.620684Z"
    },
    "papermill": {
     "duration": 1.866691,
     "end_time": "2020-12-09T05:35:44.620962",
     "exception": false,
     "start_time": "2020-12-09T05:35:42.754271",
     "status": "completed"
    },
    "tags": []
   },
   "outputs": [],
   "source": [
    "import healpy as hp\n",
    "import numpy as np\n",
    "%matplotlib inline\n",
    "import matplotlib.pyplot as plt\n",
    "from pathlib import Path\n",
    "from astropy.tests.helper import assert_quantity_allclose\n",
    "import pickle\n",
    "import sys\n",
    "import os\n",
    "from astropy import units as u"
   ]
  },
  {
   "cell_type": "code",
   "execution_count": 2,
   "metadata": {
    "execution": {
     "iopub.execute_input": "2020-12-09T05:35:44.695602Z",
     "iopub.status.busy": "2020-12-09T05:35:44.694528Z",
     "iopub.status.idle": "2020-12-09T05:35:44.760284Z",
     "shell.execute_reply": "2020-12-09T05:35:44.760774Z"
    },
    "papermill": {
     "duration": 0.100526,
     "end_time": "2020-12-09T05:35:44.760981",
     "exception": false,
     "start_time": "2020-12-09T05:35:44.660455",
     "status": "completed"
    },
    "tags": []
   },
   "outputs": [],
   "source": [
    "import h5py\n",
    "s4 = h5py.File(\"cmbs4_tophat.h5\", mode=\"r\")"
   ]
  },
  {
   "cell_type": "code",
   "execution_count": 3,
   "metadata": {
    "execution": {
     "iopub.execute_input": "2020-12-09T05:35:44.826740Z",
     "iopub.status.busy": "2020-12-09T05:35:44.825897Z",
     "iopub.status.idle": "2020-12-09T05:35:44.828569Z",
     "shell.execute_reply": "2020-12-09T05:35:44.829082Z"
    },
    "papermill": {
     "duration": 0.039055,
     "end_time": "2020-12-09T05:35:44.829239",
     "exception": false,
     "start_time": "2020-12-09T05:35:44.790184",
     "status": "completed"
    },
    "tags": []
   },
   "outputs": [],
   "source": [
    "dataset = \"s4_reference_design_noise_atmo_7splits\""
   ]
  },
  {
   "cell_type": "code",
   "execution_count": 4,
   "metadata": {
    "execution": {
     "iopub.execute_input": "2020-12-09T05:35:44.891532Z",
     "iopub.status.busy": "2020-12-09T05:35:44.890778Z",
     "iopub.status.idle": "2020-12-09T05:35:44.893337Z",
     "shell.execute_reply": "2020-12-09T05:35:44.893842Z"
    },
    "papermill": {
     "duration": 0.036068,
     "end_time": "2020-12-09T05:35:44.894002",
     "exception": false,
     "start_time": "2020-12-09T05:35:44.857934",
     "status": "completed"
    },
    "tags": [
     "parameters"
    ]
   },
   "outputs": [],
   "source": [
    "ch = f\"SAT-HFS1_chile\"\n",
    "nsplits = 1"
   ]
  },
  {
   "cell_type": "code",
   "execution_count": 5,
   "metadata": {
    "execution": {
     "iopub.execute_input": "2020-12-09T05:35:44.959406Z",
     "iopub.status.busy": "2020-12-09T05:35:44.958581Z",
     "iopub.status.idle": "2020-12-09T05:35:44.960840Z",
     "shell.execute_reply": "2020-12-09T05:35:44.961295Z"
    },
    "papermill": {
     "duration": 0.034387,
     "end_time": "2020-12-09T05:35:44.961432",
     "exception": false,
     "start_time": "2020-12-09T05:35:44.927045",
     "status": "completed"
    },
    "tags": [
     "injected-parameters"
    ]
   },
   "outputs": [],
   "source": [
    "# Parameters\n",
    "ch = \"SAT-MFLS2_chile\"\n",
    "nsplits = 1\n"
   ]
  },
  {
   "cell_type": "code",
   "execution_count": 6,
   "metadata": {
    "execution": {
     "iopub.execute_input": "2020-12-09T05:35:45.022510Z",
     "iopub.status.busy": "2020-12-09T05:35:45.021893Z",
     "iopub.status.idle": "2020-12-09T05:35:45.060207Z",
     "shell.execute_reply": "2020-12-09T05:35:45.060655Z"
    },
    "papermill": {
     "duration": 0.071102,
     "end_time": "2020-12-09T05:35:45.060805",
     "exception": false,
     "start_time": "2020-12-09T05:35:44.989703",
     "status": "completed"
    },
    "tags": []
   },
   "outputs": [],
   "source": [
    "if os.path.exists(f\"plots/C_ell_{dataset}_{ch}_{nsplits}.png\"):\n",
    "    sys.exit(0)"
   ]
  },
  {
   "cell_type": "code",
   "execution_count": 7,
   "metadata": {
    "execution": {
     "iopub.execute_input": "2020-12-09T05:35:45.122433Z",
     "iopub.status.busy": "2020-12-09T05:35:45.121885Z",
     "iopub.status.idle": "2020-12-09T05:35:45.124243Z",
     "shell.execute_reply": "2020-12-09T05:35:45.123800Z"
    },
    "papermill": {
     "duration": 0.03465,
     "end_time": "2020-12-09T05:35:45.124356",
     "exception": false,
     "start_time": "2020-12-09T05:35:45.089706",
     "status": "completed"
    },
    "tags": []
   },
   "outputs": [],
   "source": [
    "sampling_frequency = dict(SAT=100*u.Hz, LAT=400*u.Hz)"
   ]
  },
  {
   "cell_type": "code",
   "execution_count": 8,
   "metadata": {
    "execution": {
     "iopub.execute_input": "2020-12-09T05:35:45.197533Z",
     "iopub.status.busy": "2020-12-09T05:35:45.197003Z",
     "iopub.status.idle": "2020-12-09T05:35:45.198908Z",
     "shell.execute_reply": "2020-12-09T05:35:45.199309Z"
    },
    "papermill": {
     "duration": 0.041726,
     "end_time": "2020-12-09T05:35:45.199442",
     "exception": false,
     "start_time": "2020-12-09T05:35:45.157716",
     "status": "completed"
    },
    "tags": []
   },
   "outputs": [],
   "source": [
    "#telescope = \"SAT\"\n",
    "#channel = \"LFS1\"\n",
    "#site = \"pole\""
   ]
  },
  {
   "cell_type": "code",
   "execution_count": 9,
   "metadata": {
    "execution": {
     "iopub.execute_input": "2020-12-09T05:35:45.259623Z",
     "iopub.status.busy": "2020-12-09T05:35:45.259092Z",
     "iopub.status.idle": "2020-12-09T05:35:45.261349Z",
     "shell.execute_reply": "2020-12-09T05:35:45.260844Z"
    },
    "papermill": {
     "duration": 0.033838,
     "end_time": "2020-12-09T05:35:45.261454",
     "exception": false,
     "start_time": "2020-12-09T05:35:45.227616",
     "status": "completed"
    },
    "tags": []
   },
   "outputs": [],
   "source": [
    "telescope = ch.split(\"-\")[0]\n",
    "channel, site= ch.split(\"-\")[1].split(\"_\")"
   ]
  },
  {
   "cell_type": "code",
   "execution_count": 10,
   "metadata": {
    "execution": {
     "iopub.execute_input": "2020-12-09T05:35:45.328280Z",
     "iopub.status.busy": "2020-12-09T05:35:45.327746Z",
     "iopub.status.idle": "2020-12-09T05:35:45.329598Z",
     "shell.execute_reply": "2020-12-09T05:35:45.330004Z"
    },
    "papermill": {
     "duration": 0.038886,
     "end_time": "2020-12-09T05:35:45.330137",
     "exception": false,
     "start_time": "2020-12-09T05:35:45.291251",
     "status": "completed"
    },
    "tags": []
   },
   "outputs": [],
   "source": [
    "local_path = Path(\"output\")\n",
    "project_path = Path(\"/global/project/projectdirs/cmbs4/dm/dstool/output/\")"
   ]
  },
  {
   "cell_type": "code",
   "execution_count": 11,
   "metadata": {
    "execution": {
     "iopub.execute_input": "2020-12-09T05:35:45.398006Z",
     "iopub.status.busy": "2020-12-09T05:35:45.397460Z",
     "iopub.status.idle": "2020-12-09T05:35:45.401851Z",
     "shell.execute_reply": "2020-12-09T05:35:45.401400Z"
    },
    "papermill": {
     "duration": 0.043745,
     "end_time": "2020-12-09T05:35:45.401969",
     "exception": false,
     "start_time": "2020-12-09T05:35:45.358224",
     "status": "completed"
    },
    "tags": []
   },
   "outputs": [],
   "source": [
    "C_ell = pickle.load(open(local_path / dataset / f\"C_ell_{telescope}_{nsplits}.pkl\", \"rb\"))"
   ]
  },
  {
   "cell_type": "code",
   "execution_count": 12,
   "metadata": {
    "execution": {
     "iopub.execute_input": "2020-12-09T05:35:45.468267Z",
     "iopub.status.busy": "2020-12-09T05:35:45.467701Z",
     "iopub.status.idle": "2020-12-09T05:35:45.470481Z",
     "shell.execute_reply": "2020-12-09T05:35:45.469959Z"
    },
    "papermill": {
     "duration": 0.039324,
     "end_time": "2020-12-09T05:35:45.470594",
     "exception": false,
     "start_time": "2020-12-09T05:35:45.431270",
     "status": "completed"
    },
    "tags": []
   },
   "outputs": [
    {
     "data": {
      "text/plain": [
       "('SAT', 'MFLS2', 'chile')"
      ]
     },
     "execution_count": 12,
     "metadata": {},
     "output_type": "execute_result"
    }
   ],
   "source": [
    "telescope, channel, site"
   ]
  },
  {
   "cell_type": "code",
   "execution_count": 13,
   "metadata": {
    "execution": {
     "iopub.execute_input": "2020-12-09T05:35:45.535070Z",
     "iopub.status.busy": "2020-12-09T05:35:45.534472Z",
     "iopub.status.idle": "2020-12-09T05:35:45.537782Z",
     "shell.execute_reply": "2020-12-09T05:35:45.537287Z"
    },
    "papermill": {
     "duration": 0.037463,
     "end_time": "2020-12-09T05:35:45.537906",
     "exception": false,
     "start_time": "2020-12-09T05:35:45.500443",
     "status": "completed"
    },
    "tags": []
   },
   "outputs": [
    {
     "data": {
      "text/plain": [
       "dict_keys(['SAT-HFS1_chile', 'SAT-HFS2_chile', 'SAT-LFS1_chile', 'SAT-LFS2_chile', 'SAT-MFHS1_chile', 'SAT-MFHS2_chile', 'SAT-MFLS1_chile', 'SAT-MFLS2_chile'])"
      ]
     },
     "execution_count": 13,
     "metadata": {},
     "output_type": "execute_result"
    }
   ],
   "source": [
    "C_ell.keys()"
   ]
  },
  {
   "cell_type": "code",
   "execution_count": 14,
   "metadata": {
    "execution": {
     "iopub.execute_input": "2020-12-09T05:35:45.607451Z",
     "iopub.status.busy": "2020-12-09T05:35:45.606906Z",
     "iopub.status.idle": "2020-12-09T05:35:45.608854Z",
     "shell.execute_reply": "2020-12-09T05:35:45.609293Z"
    },
    "papermill": {
     "duration": 0.037959,
     "end_time": "2020-12-09T05:35:45.609427",
     "exception": false,
     "start_time": "2020-12-09T05:35:45.571468",
     "status": "completed"
    },
    "tags": []
   },
   "outputs": [],
   "source": [
    "nside = 4096 if telescope == \"LAT\" else 512"
   ]
  },
  {
   "cell_type": "code",
   "execution_count": 15,
   "metadata": {
    "execution": {
     "iopub.execute_input": "2020-12-09T05:35:45.673455Z",
     "iopub.status.busy": "2020-12-09T05:35:45.672869Z",
     "iopub.status.idle": "2020-12-09T05:35:45.676890Z",
     "shell.execute_reply": "2020-12-09T05:35:45.676437Z"
    },
    "papermill": {
     "duration": 0.037316,
     "end_time": "2020-12-09T05:35:45.677006",
     "exception": false,
     "start_time": "2020-12-09T05:35:45.639690",
     "status": "completed"
    },
    "tags": []
   },
   "outputs": [],
   "source": [
    "from s4_design_sim_tool.core import base_folder"
   ]
  },
  {
   "cell_type": "code",
   "execution_count": 16,
   "metadata": {
    "execution": {
     "iopub.execute_input": "2020-12-09T05:35:45.741578Z",
     "iopub.status.busy": "2020-12-09T05:35:45.741005Z",
     "iopub.status.idle": "2020-12-09T05:35:45.753160Z",
     "shell.execute_reply": "2020-12-09T05:35:45.753590Z"
    },
    "papermill": {
     "duration": 0.046626,
     "end_time": "2020-12-09T05:35:45.753761",
     "exception": false,
     "start_time": "2020-12-09T05:35:45.707135",
     "status": "completed"
    },
    "tags": []
   },
   "outputs": [],
   "source": [
    "from s4_design_sim_tool.cli import parse_config\n",
    "if site == \"chile\" and telescope == \"SAT\":\n",
    "    config = parse_config(f\"{dataset}.toml\", \"chile_sat.toml\")\n",
    "else:\n",
    "    config = parse_config(f\"{dataset}.toml\")"
   ]
  },
  {
   "cell_type": "code",
   "execution_count": 17,
   "metadata": {
    "execution": {
     "iopub.execute_input": "2020-12-09T05:35:45.821957Z",
     "iopub.status.busy": "2020-12-09T05:35:45.821208Z",
     "iopub.status.idle": "2020-12-09T05:35:45.951171Z",
     "shell.execute_reply": "2020-12-09T05:35:45.950685Z"
    },
    "papermill": {
     "duration": 0.167298,
     "end_time": "2020-12-09T05:35:45.951284",
     "exception": false,
     "start_time": "2020-12-09T05:35:45.783986",
     "status": "completed"
    },
    "tags": []
   },
   "outputs": [
    {
     "name": "stderr",
     "output_type": "stream",
     "text": [
      "/global/homes/z/zonca/condajupynersc/lib/python3.7/site-packages/healpy/fitsfunc.py:369: UserWarning: If you are not specifying the input dtype and using the default np.float64 dtype of read_map(), please consider that it will change in a future version to None as to keep the same dtype of the input file: please explicitly set the dtype if it is important to you.\n",
      "  \"If you are not specifying the input dtype and using the default \"\n",
      "/global/homes/z/zonca/condajupynersc/lib/python3.7/site-packages/healpy/fitsfunc.py:391: UserWarning: NSIDE = 512\n",
      "  warnings.warn(\"NSIDE = {0:d}\".format(nside))\n",
      "/global/homes/z/zonca/condajupynersc/lib/python3.7/site-packages/healpy/fitsfunc.py:400: UserWarning: ORDERING = RING in fits file\n",
      "  warnings.warn(\"ORDERING = {0:s} in fits file\".format(ordering))\n",
      "/global/homes/z/zonca/condajupynersc/lib/python3.7/site-packages/healpy/fitsfunc.py:428: UserWarning: INDXSCHM = IMPLICIT\n",
      "  warnings.warn(\"INDXSCHM = {0:s}\".format(schm))\n"
     ]
    }
   ],
   "source": [
    "hitmap = hp.read_map(local_path / dataset / ch / f\"cmbs4_hitmap_{ch}_nside{nside}_1_of_{nsplits}.fits\")"
   ]
  },
  {
   "cell_type": "code",
   "execution_count": 18,
   "metadata": {
    "execution": {
     "iopub.execute_input": "2020-12-09T05:35:46.019958Z",
     "iopub.status.busy": "2020-12-09T05:35:46.019092Z",
     "iopub.status.idle": "2020-12-09T05:35:46.021886Z",
     "shell.execute_reply": "2020-12-09T05:35:46.022374Z"
    },
    "papermill": {
     "duration": 0.040921,
     "end_time": "2020-12-09T05:35:46.022568",
     "exception": false,
     "start_time": "2020-12-09T05:35:45.981647",
     "status": "completed"
    },
    "tags": []
   },
   "outputs": [
    {
     "data": {
      "text/plain": [
       "'MFLS2'"
      ]
     },
     "execution_count": 18,
     "metadata": {},
     "output_type": "execute_result"
    }
   ],
   "source": [
    "channel"
   ]
  },
  {
   "cell_type": "code",
   "execution_count": 19,
   "metadata": {
    "execution": {
     "iopub.execute_input": "2020-12-09T05:35:46.091813Z",
     "iopub.status.busy": "2020-12-09T05:35:46.090886Z",
     "iopub.status.idle": "2020-12-09T05:35:46.093785Z",
     "shell.execute_reply": "2020-12-09T05:35:46.094268Z"
    },
    "papermill": {
     "duration": 0.038672,
     "end_time": "2020-12-09T05:35:46.094444",
     "exception": false,
     "start_time": "2020-12-09T05:35:46.055772",
     "status": "completed"
    },
    "tags": []
   },
   "outputs": [
    {
     "data": {
      "text/plain": [
       "21"
      ]
     },
     "execution_count": 19,
     "metadata": {},
     "output_type": "execute_result"
    }
   ],
   "source": [
    "from s4_design_sim_tool.noise import get_tube_years\n",
    "tube_years = get_tube_years(config, site, channel)\n",
    "tube_years"
   ]
  },
  {
   "cell_type": "code",
   "execution_count": 20,
   "metadata": {
    "execution": {
     "iopub.execute_input": "2020-12-09T05:35:46.163670Z",
     "iopub.status.busy": "2020-12-09T05:35:46.163115Z",
     "iopub.status.idle": "2020-12-09T05:35:46.169772Z",
     "shell.execute_reply": "2020-12-09T05:35:46.170207Z"
    },
    "papermill": {
     "duration": 0.042188,
     "end_time": "2020-12-09T05:35:46.170355",
     "exception": false,
     "start_time": "2020-12-09T05:35:46.128167",
     "status": "completed"
    },
    "tags": []
   },
   "outputs": [
    {
     "data": {
      "text/plain": [
       "100.11248596396483"
      ]
     },
     "execution_count": 20,
     "metadata": {},
     "output_type": "execute_result"
    }
   ],
   "source": [
    "sampling_rate = hitmap.sum()\n",
    "sampling_rate /= 365.25 * 24 * 3600\n",
    "sampling_rate /= tube_years * config[\"experiment\"][\"observing_efficiency\"]\n",
    "sampling_rate /= s4[channel].attrs[\"detectors_per_tube\"]\n",
    "sampling_rate *= nsplits\n",
    "sampling_rate"
   ]
  },
  {
   "cell_type": "code",
   "execution_count": 21,
   "metadata": {
    "execution": {
     "iopub.execute_input": "2020-12-09T05:35:46.238717Z",
     "iopub.status.busy": "2020-12-09T05:35:46.238140Z",
     "iopub.status.idle": "2020-12-09T05:35:46.240043Z",
     "shell.execute_reply": "2020-12-09T05:35:46.240488Z"
    },
    "papermill": {
     "duration": 0.038077,
     "end_time": "2020-12-09T05:35:46.240626",
     "exception": false,
     "start_time": "2020-12-09T05:35:46.202549",
     "status": "completed"
    },
    "tags": []
   },
   "outputs": [],
   "source": [
    "np.testing.assert_allclose(sampling_rate, sampling_frequency[telescope].value, rtol=1/100)"
   ]
  },
  {
   "cell_type": "code",
   "execution_count": 22,
   "metadata": {
    "execution": {
     "iopub.execute_input": "2020-12-09T05:35:46.309649Z",
     "iopub.status.busy": "2020-12-09T05:35:46.309099Z",
     "iopub.status.idle": "2020-12-09T05:35:46.834025Z",
     "shell.execute_reply": "2020-12-09T05:35:46.834510Z"
    },
    "papermill": {
     "duration": 0.562278,
     "end_time": "2020-12-09T05:35:46.834655",
     "exception": false,
     "start_time": "2020-12-09T05:35:46.272377",
     "status": "completed"
    },
    "tags": []
   },
   "outputs": [
    {
     "name": "stderr",
     "output_type": "stream",
     "text": [
      "/global/homes/z/zonca/condajupynersc/lib/python3.7/site-packages/ipykernel_launcher.py:1: RuntimeWarning: divide by zero encountered in log10\n",
      "  \"\"\"Entry point for launching an IPython kernel.\n",
      "/global/homes/z/zonca/condajupynersc/lib/python3.7/site-packages/healpy/projaxes.py:920: MatplotlibDeprecationWarning: You are modifying the state of a globally registered colormap. In future versions, you will not be able to modify a registered colormap in-place. To remove this warning, you can make a copy of the colormap first. cmap = copy.copy(mpl.cm.get_cmap(\"viridis\"))\n",
      "  newcm.set_over(newcm(1.0))\n",
      "/global/homes/z/zonca/condajupynersc/lib/python3.7/site-packages/healpy/projaxes.py:921: MatplotlibDeprecationWarning: You are modifying the state of a globally registered colormap. In future versions, you will not be able to modify a registered colormap in-place. To remove this warning, you can make a copy of the colormap first. cmap = copy.copy(mpl.cm.get_cmap(\"viridis\"))\n",
      "  newcm.set_under(bgcolor)\n",
      "/global/homes/z/zonca/condajupynersc/lib/python3.7/site-packages/healpy/projaxes.py:922: MatplotlibDeprecationWarning: You are modifying the state of a globally registered colormap. In future versions, you will not be able to modify a registered colormap in-place. To remove this warning, you can make a copy of the colormap first. cmap = copy.copy(mpl.cm.get_cmap(\"viridis\"))\n",
      "  newcm.set_bad(badcolor)\n",
      "/global/homes/z/zonca/condajupynersc/lib/python3.7/site-packages/healpy/projaxes.py:211: MatplotlibDeprecationWarning: Passing parameters norm and vmin/vmax simultaneously is deprecated since 3.3 and will become an error two minor releases later. Please pass vmin/vmax directly to the norm when creating it.\n",
      "  **kwds\n"
     ]
    },
    {
     "data": {
      "image/png": "[encoded data removed]",
      "text/plain": [
       "<Figure size 612x388.8 with 2 Axes>"
      ]
     },
     "metadata": {
      "needs_background": "light"
     },
     "output_type": "display_data"
    }
   ],
   "source": [
    "log_hitmap = np.log10(hitmap)\n",
    "log_hitmap[np.isinf(log_hitmap)] = hp.UNSEEN\n",
    "hp.mollview(log_hitmap, unit=\"log10(samples)\", title=f\"Hitmap {ch}\")\n",
    "plt.savefig(f\"plots/hitmap_{channel}_{site}_1_of_{nsplits}.png\")"
   ]
  },
  {
   "cell_type": "code",
   "execution_count": 23,
   "metadata": {
    "execution": {
     "iopub.execute_input": "2020-12-09T05:35:46.908073Z",
     "iopub.status.busy": "2020-12-09T05:35:46.907533Z",
     "iopub.status.idle": "2020-12-09T05:35:47.219186Z",
     "shell.execute_reply": "2020-12-09T05:35:47.218684Z"
    },
    "papermill": {
     "duration": 0.349494,
     "end_time": "2020-12-09T05:35:47.219303",
     "exception": false,
     "start_time": "2020-12-09T05:35:46.869809",
     "status": "completed"
    },
    "tags": []
   },
   "outputs": [],
   "source": [
    "wcov = hp.read_map(local_path / dataset / ch / f\"cmbs4_wcov_{ch}_nside{nside}_1_of_{nsplits}.fits\", (3))"
   ]
  },
  {
   "cell_type": "code",
   "execution_count": 24,
   "metadata": {
    "execution": {
     "iopub.execute_input": "2020-12-09T05:35:47.295057Z",
     "iopub.status.busy": "2020-12-09T05:35:47.294367Z",
     "iopub.status.idle": "2020-12-09T05:35:47.296965Z",
     "shell.execute_reply": "2020-12-09T05:35:47.297450Z"
    },
    "papermill": {
     "duration": 0.043655,
     "end_time": "2020-12-09T05:35:47.297605",
     "exception": false,
     "start_time": "2020-12-09T05:35:47.253950",
     "status": "completed"
    },
    "tags": []
   },
   "outputs": [
    {
     "data": {
      "text/plain": [
       "(3145728,)"
      ]
     },
     "execution_count": 24,
     "metadata": {},
     "output_type": "execute_result"
    }
   ],
   "source": [
    "wcov.shape"
   ]
  },
  {
   "cell_type": "code",
   "execution_count": 25,
   "metadata": {
    "execution": {
     "iopub.execute_input": "2020-12-09T05:35:47.377268Z",
     "iopub.status.busy": "2020-12-09T05:35:47.376729Z",
     "iopub.status.idle": "2020-12-09T05:35:47.378608Z",
     "shell.execute_reply": "2020-12-09T05:35:47.379037Z"
    },
    "papermill": {
     "duration": 0.041655,
     "end_time": "2020-12-09T05:35:47.379180",
     "exception": false,
     "start_time": "2020-12-09T05:35:47.337525",
     "status": "completed"
    },
    "tags": []
   },
   "outputs": [],
   "source": [
    "import astropy.units as u"
   ]
  },
  {
   "cell_type": "code",
   "execution_count": 26,
   "metadata": {
    "execution": {
     "iopub.execute_input": "2020-12-09T05:35:47.467018Z",
     "iopub.status.busy": "2020-12-09T05:35:47.466448Z",
     "iopub.status.idle": "2020-12-09T05:35:47.468207Z",
     "shell.execute_reply": "2020-12-09T05:35:47.468656Z"
    },
    "papermill": {
     "duration": 0.048872,
     "end_time": "2020-12-09T05:35:47.468807",
     "exception": false,
     "start_time": "2020-12-09T05:35:47.419935",
     "status": "completed"
    },
    "tags": []
   },
   "outputs": [],
   "source": [
    "channel_NET = s4[channel].attrs[\"NET_uKsqrts\"] * u.uK * u.s ** .5"
   ]
  },
  {
   "cell_type": "code",
   "execution_count": 27,
   "metadata": {
    "execution": {
     "iopub.execute_input": "2020-12-09T05:35:47.607266Z",
     "iopub.status.busy": "2020-12-09T05:35:47.606164Z",
     "iopub.status.idle": "2020-12-09T05:35:47.608421Z",
     "shell.execute_reply": "2020-12-09T05:35:47.609286Z"
    },
    "papermill": {
     "duration": 0.082379,
     "end_time": "2020-12-09T05:35:47.609564",
     "exception": false,
     "start_time": "2020-12-09T05:35:47.527185",
     "status": "completed"
    },
    "tags": []
   },
   "outputs": [],
   "source": [
    "if telescope == \"LAT\" and site==\"pole\":\n",
    "    channel_NET = s4[channel].attrs[\"pole_NET_uKsqrts\"] * u.uK * u.s ** .5"
   ]
  },
  {
   "cell_type": "code",
   "execution_count": 28,
   "metadata": {
    "execution": {
     "iopub.execute_input": "2020-12-09T05:35:47.766606Z",
     "iopub.status.busy": "2020-12-09T05:35:47.765732Z",
     "iopub.status.idle": "2020-12-09T05:35:47.849679Z",
     "shell.execute_reply": "2020-12-09T05:35:47.848580Z"
    },
    "papermill": {
     "duration": 0.166105,
     "end_time": "2020-12-09T05:35:47.849958",
     "exception": false,
     "start_time": "2020-12-09T05:35:47.683853",
     "status": "completed"
    },
    "tags": []
   },
   "outputs": [],
   "source": [
    "variance_QQ = wcov * u.K ** 2 * (hitmap / sampling_frequency[telescope]) "
   ]
  },
  {
   "cell_type": "code",
   "execution_count": 29,
   "metadata": {
    "execution": {
     "iopub.execute_input": "2020-12-09T05:35:48.035313Z",
     "iopub.status.busy": "2020-12-09T05:35:48.034441Z",
     "iopub.status.idle": "2020-12-09T05:35:48.037904Z",
     "shell.execute_reply": "2020-12-09T05:35:48.038770Z"
    },
    "papermill": {
     "duration": 0.106528,
     "end_time": "2020-12-09T05:35:48.039030",
     "exception": false,
     "start_time": "2020-12-09T05:35:47.932502",
     "status": "completed"
    },
    "tags": []
   },
   "outputs": [],
   "source": [
    "assert (variance_QQ.value == hp.UNSEEN).sum() == 0"
   ]
  },
  {
   "cell_type": "code",
   "execution_count": 30,
   "metadata": {
    "execution": {
     "iopub.execute_input": "2020-12-09T05:35:48.214908Z",
     "iopub.status.busy": "2020-12-09T05:35:48.214271Z",
     "iopub.status.idle": "2020-12-09T05:35:48.245568Z",
     "shell.execute_reply": "2020-12-09T05:35:48.245025Z"
    },
    "papermill": {
     "duration": 0.110143,
     "end_time": "2020-12-09T05:35:48.245694",
     "exception": false,
     "start_time": "2020-12-09T05:35:48.135551",
     "status": "completed"
    },
    "tags": []
   },
   "outputs": [],
   "source": [
    "full_mission_NET = np.sqrt(np.median(variance_QQ[hitmap != 0]))"
   ]
  },
  {
   "cell_type": "code",
   "execution_count": 31,
   "metadata": {
    "execution": {
     "iopub.execute_input": "2020-12-09T05:35:48.327037Z",
     "iopub.status.busy": "2020-12-09T05:35:48.326415Z",
     "iopub.status.idle": "2020-12-09T05:35:48.329087Z",
     "shell.execute_reply": "2020-12-09T05:35:48.329656Z"
    },
    "papermill": {
     "duration": 0.048023,
     "end_time": "2020-12-09T05:35:48.329804",
     "exception": false,
     "start_time": "2020-12-09T05:35:48.281781",
     "status": "completed"
    },
    "tags": []
   },
   "outputs": [
    {
     "data": {
      "text/latex": [
       "$428.17506 \\; \\mathrm{\\mu K\\,s^{1/2}}$"
      ],
      "text/plain": [
       "<Quantity 428.17505942 s(1/2) uK>"
      ]
     },
     "execution_count": 31,
     "metadata": {},
     "output_type": "execute_result"
    }
   ],
   "source": [
    "full_mission_NET.to(channel_NET.unit)"
   ]
  },
  {
   "cell_type": "code",
   "execution_count": 32,
   "metadata": {
    "execution": {
     "iopub.execute_input": "2020-12-09T05:35:48.411934Z",
     "iopub.status.busy": "2020-12-09T05:35:48.411267Z",
     "iopub.status.idle": "2020-12-09T05:35:48.415038Z",
     "shell.execute_reply": "2020-12-09T05:35:48.415579Z"
    },
    "papermill": {
     "duration": 0.047834,
     "end_time": "2020-12-09T05:35:48.415738",
     "exception": false,
     "start_time": "2020-12-09T05:35:48.367904",
     "status": "completed"
    },
    "tags": []
   },
   "outputs": [
    {
     "data": {
      "text/latex": [
       "$309 \\; \\mathrm{\\mu K\\,s^{1/2}}$"
      ],
      "text/plain": [
       "<Quantity 309. s(1/2) uK>"
      ]
     },
     "execution_count": 32,
     "metadata": {},
     "output_type": "execute_result"
    }
   ],
   "source": [
    "channel_NET"
   ]
  },
  {
   "cell_type": "code",
   "execution_count": 33,
   "metadata": {
    "execution": {
     "iopub.execute_input": "2020-12-09T05:35:48.508893Z",
     "iopub.status.busy": "2020-12-09T05:35:48.508356Z",
     "iopub.status.idle": "2020-12-09T05:35:48.510820Z",
     "shell.execute_reply": "2020-12-09T05:35:48.511256Z"
    },
    "papermill": {
     "duration": 0.04817,
     "end_time": "2020-12-09T05:35:48.511393",
     "exception": false,
     "start_time": "2020-12-09T05:35:48.463223",
     "status": "completed"
    },
    "tags": []
   },
   "outputs": [
    {
     "data": {
      "text/latex": [
       "$302.76549 \\; \\mathrm{\\mu K\\,s^{1/2}}$"
      ],
      "text/plain": [
       "<Quantity 302.76548805 s(1/2) uK>"
      ]
     },
     "execution_count": 33,
     "metadata": {},
     "output_type": "execute_result"
    }
   ],
   "source": [
    "(full_mission_NET/np.sqrt(2)).to(channel_NET.unit)"
   ]
  },
  {
   "cell_type": "code",
   "execution_count": 34,
   "metadata": {
    "execution": {
     "iopub.execute_input": "2020-12-09T05:35:48.601799Z",
     "iopub.status.busy": "2020-12-09T05:35:48.601265Z",
     "iopub.status.idle": "2020-12-09T05:35:48.603038Z",
     "shell.execute_reply": "2020-12-09T05:35:48.603469Z"
    },
    "papermill": {
     "duration": 0.050306,
     "end_time": "2020-12-09T05:35:48.603640",
     "exception": false,
     "start_time": "2020-12-09T05:35:48.553334",
     "status": "completed"
    },
    "tags": []
   },
   "outputs": [],
   "source": [
    "assert_quantity_allclose(full_mission_NET, channel_NET*np.sqrt(2), rtol=10/100) "
   ]
  },
  {
   "cell_type": "code",
   "execution_count": 35,
   "metadata": {
    "execution": {
     "iopub.execute_input": "2020-12-09T05:35:48.683404Z",
     "iopub.status.busy": "2020-12-09T05:35:48.682854Z",
     "iopub.status.idle": "2020-12-09T05:35:48.690735Z",
     "shell.execute_reply": "2020-12-09T05:35:48.691175Z"
    },
    "papermill": {
     "duration": 0.049831,
     "end_time": "2020-12-09T05:35:48.691317",
     "exception": false,
     "start_time": "2020-12-09T05:35:48.641486",
     "status": "completed"
    },
    "tags": []
   },
   "outputs": [],
   "source": [
    "sky_fraction = (hitmap > 0).sum() / len(hitmap)"
   ]
  },
  {
   "cell_type": "code",
   "execution_count": 36,
   "metadata": {
    "execution": {
     "iopub.execute_input": "2020-12-09T05:35:48.771519Z",
     "iopub.status.busy": "2020-12-09T05:35:48.770989Z",
     "iopub.status.idle": "2020-12-09T05:35:48.773469Z",
     "shell.execute_reply": "2020-12-09T05:35:48.773926Z"
    },
    "papermill": {
     "duration": 0.044535,
     "end_time": "2020-12-09T05:35:48.774075",
     "exception": false,
     "start_time": "2020-12-09T05:35:48.729540",
     "status": "completed"
    },
    "tags": []
   },
   "outputs": [
    {
     "data": {
      "text/plain": [
       "0.44712352752685547"
      ]
     },
     "execution_count": 36,
     "metadata": {},
     "output_type": "execute_result"
    }
   ],
   "source": [
    "sky_fraction"
   ]
  },
  {
   "cell_type": "code",
   "execution_count": 37,
   "metadata": {
    "execution": {
     "iopub.execute_input": "2020-12-09T05:35:48.874439Z",
     "iopub.status.busy": "2020-12-09T05:35:48.873888Z",
     "iopub.status.idle": "2020-12-09T05:35:48.875788Z",
     "shell.execute_reply": "2020-12-09T05:35:48.876221Z"
    },
    "papermill": {
     "duration": 0.045445,
     "end_time": "2020-12-09T05:35:48.876351",
     "exception": false,
     "start_time": "2020-12-09T05:35:48.830906",
     "status": "completed"
    },
    "tags": []
   },
   "outputs": [],
   "source": [
    "pixarea = hp.nside2pixarea(nside)"
   ]
  },
  {
   "cell_type": "code",
   "execution_count": 38,
   "metadata": {
    "execution": {
     "iopub.execute_input": "2020-12-09T05:35:48.964621Z",
     "iopub.status.busy": "2020-12-09T05:35:48.964085Z",
     "iopub.status.idle": "2020-12-09T05:35:48.974834Z",
     "shell.execute_reply": "2020-12-09T05:35:48.975241Z"
    },
    "papermill": {
     "duration": 0.056616,
     "end_time": "2020-12-09T05:35:48.975407",
     "exception": false,
     "start_time": "2020-12-09T05:35:48.918791",
     "status": "completed"
    },
    "tags": []
   },
   "outputs": [
    {
     "data": {
      "text/plain": [
       "1.3022504315049296e-16"
      ]
     },
     "execution_count": 38,
     "metadata": {},
     "output_type": "execute_result"
    }
   ],
   "source": [
    "np.mean(wcov[hitmap > 0])* pixarea"
   ]
  },
  {
   "cell_type": "code",
   "execution_count": 39,
   "metadata": {
    "execution": {
     "iopub.execute_input": "2020-12-09T05:35:49.063323Z",
     "iopub.status.busy": "2020-12-09T05:35:49.062783Z",
     "iopub.status.idle": "2020-12-09T05:35:49.070926Z",
     "shell.execute_reply": "2020-12-09T05:35:49.071396Z"
    },
    "papermill": {
     "duration": 0.052931,
     "end_time": "2020-12-09T05:35:49.071541",
     "exception": false,
     "start_time": "2020-12-09T05:35:49.018610",
     "status": "completed"
    },
    "tags": []
   },
   "outputs": [],
   "source": [
    "wcov [ wcov == hp.UNSEEN] = 0"
   ]
  },
  {
   "cell_type": "markdown",
   "metadata": {
    "papermill": {
     "duration": 0.039005,
     "end_time": "2020-12-09T05:35:49.152674",
     "exception": false,
     "start_time": "2020-12-09T05:35:49.113669",
     "status": "completed"
    },
    "tags": []
   },
   "source": [
    "## Atmosphere"
   ]
  },
  {
   "cell_type": "code",
   "execution_count": 40,
   "metadata": {
    "execution": {
     "iopub.execute_input": "2020-12-09T05:35:49.237710Z",
     "iopub.status.busy": "2020-12-09T05:35:49.237168Z",
     "iopub.status.idle": "2020-12-09T05:35:49.238819Z",
     "shell.execute_reply": "2020-12-09T05:35:49.239222Z"
    },
    "papermill": {
     "duration": 0.047282,
     "end_time": "2020-12-09T05:35:49.239354",
     "exception": false,
     "start_time": "2020-12-09T05:35:49.192072",
     "status": "completed"
    },
    "tags": []
   },
   "outputs": [],
   "source": [
    "atmosphere_filename = Path(base_folder) / \"00000000\" / f\"{site}_atmosphere_{telescope}_{channel}_filtered_telescope_all_time_all_bmap.fits\""
   ]
  },
  {
   "cell_type": "code",
   "execution_count": 41,
   "metadata": {
    "execution": {
     "iopub.execute_input": "2020-12-09T05:35:49.320644Z",
     "iopub.status.busy": "2020-12-09T05:35:49.320112Z",
     "iopub.status.idle": "2020-12-09T05:35:50.298922Z",
     "shell.execute_reply": "2020-12-09T05:35:50.299386Z"
    },
    "papermill": {
     "duration": 1.021273,
     "end_time": "2020-12-09T05:35:50.299537",
     "exception": false,
     "start_time": "2020-12-09T05:35:49.278264",
     "status": "completed"
    },
    "tags": []
   },
   "outputs": [
    {
     "name": "stderr",
     "output_type": "stream",
     "text": [
      "/global/homes/z/zonca/condajupynersc/lib/python3.7/site-packages/healpy/fitsfunc.py:400: UserWarning: ORDERING = NESTED in fits file\n",
      "  warnings.warn(\"ORDERING = {0:s} in fits file\".format(ordering))\n"
     ]
    },
    {
     "name": "stderr",
     "output_type": "stream",
     "text": [
      "/global/homes/z/zonca/condajupynersc/lib/python3.7/site-packages/healpy/fitsfunc.py:486: UserWarning: Ordering converted to RING\n",
      "  warnings.warn(\"Ordering converted to RING\")\n"
     ]
    }
   ],
   "source": [
    "input_atmophere = hp.ma(hp.read_map(atmosphere_filename, (0,1,2)))"
   ]
  },
  {
   "cell_type": "code",
   "execution_count": 42,
   "metadata": {
    "execution": {
     "iopub.execute_input": "2020-12-09T05:35:50.384198Z",
     "iopub.status.busy": "2020-12-09T05:35:50.383635Z",
     "iopub.status.idle": "2020-12-09T05:35:50.425288Z",
     "shell.execute_reply": "2020-12-09T05:35:50.424778Z"
    },
    "papermill": {
     "duration": 0.086505,
     "end_time": "2020-12-09T05:35:50.425406",
     "exception": false,
     "start_time": "2020-12-09T05:35:50.338901",
     "status": "completed"
    },
    "tags": []
   },
   "outputs": [],
   "source": [
    "sqrt_hitmap = hitmap.copy()\n",
    "sqrt_hitmap[hitmap>0] = np.sqrt(hitmap[hitmap>0])"
   ]
  },
  {
   "cell_type": "code",
   "execution_count": 43,
   "metadata": {
    "execution": {
     "iopub.execute_input": "2020-12-09T05:35:50.510710Z",
     "iopub.status.busy": "2020-12-09T05:35:50.510137Z",
     "iopub.status.idle": "2020-12-09T05:35:53.909747Z",
     "shell.execute_reply": "2020-12-09T05:35:53.910256Z"
    },
    "papermill": {
     "duration": 3.44444,
     "end_time": "2020-12-09T05:35:53.910449",
     "exception": false,
     "start_time": "2020-12-09T05:35:50.466009",
     "status": "completed"
    },
    "tags": []
   },
   "outputs": [],
   "source": [
    "atmo_cl = \\\n",
    "hp.anafast(input_atmophere * sqrt_hitmap, use_pixel_weights=True) / np.mean(hitmap) # / sky_fraction"
   ]
  },
  {
   "cell_type": "code",
   "execution_count": 44,
   "metadata": {
    "execution": {
     "iopub.execute_input": "2020-12-09T05:35:54.002368Z",
     "iopub.status.busy": "2020-12-09T05:35:54.001593Z",
     "iopub.status.idle": "2020-12-09T05:35:54.003738Z",
     "shell.execute_reply": "2020-12-09T05:35:54.004237Z"
    },
    "papermill": {
     "duration": 0.047062,
     "end_time": "2020-12-09T05:35:54.004396",
     "exception": false,
     "start_time": "2020-12-09T05:35:53.957334",
     "status": "completed"
    },
    "tags": []
   },
   "outputs": [],
   "source": [
    "from s4_design_sim_tool.atmosphere import get_telecope_years"
   ]
  },
  {
   "cell_type": "code",
   "execution_count": 45,
   "metadata": {
    "execution": {
     "iopub.execute_input": "2020-12-09T05:35:54.090573Z",
     "iopub.status.busy": "2020-12-09T05:35:54.089782Z",
     "iopub.status.idle": "2020-12-09T05:35:54.092248Z",
     "shell.execute_reply": "2020-12-09T05:35:54.091719Z"
    },
    "papermill": {
     "duration": 0.045632,
     "end_time": "2020-12-09T05:35:54.092370",
     "exception": false,
     "start_time": "2020-12-09T05:35:54.046738",
     "status": "completed"
    },
    "tags": []
   },
   "outputs": [],
   "source": [
    "telescope_years = get_telecope_years(config, site, channel)"
   ]
  },
  {
   "cell_type": "code",
   "execution_count": 46,
   "metadata": {
    "execution": {
     "iopub.execute_input": "2020-12-09T05:35:54.180425Z",
     "iopub.status.busy": "2020-12-09T05:35:54.179562Z",
     "iopub.status.idle": "2020-12-09T05:35:54.182206Z",
     "shell.execute_reply": "2020-12-09T05:35:54.182687Z"
    },
    "papermill": {
     "duration": 0.046679,
     "end_time": "2020-12-09T05:35:54.182839",
     "exception": false,
     "start_time": "2020-12-09T05:35:54.136160",
     "status": "completed"
    },
    "tags": []
   },
   "outputs": [
    {
     "data": {
      "text/plain": [
       "7"
      ]
     },
     "execution_count": 46,
     "metadata": {},
     "output_type": "execute_result"
    }
   ],
   "source": [
    "telescope_years"
   ]
  },
  {
   "cell_type": "code",
   "execution_count": 47,
   "metadata": {
    "execution": {
     "iopub.execute_input": "2020-12-09T05:35:54.269595Z",
     "iopub.status.busy": "2020-12-09T05:35:54.268955Z",
     "iopub.status.idle": "2020-12-09T05:35:54.271238Z",
     "shell.execute_reply": "2020-12-09T05:35:54.270757Z"
    },
    "papermill": {
     "duration": 0.048757,
     "end_time": "2020-12-09T05:35:54.271350",
     "exception": false,
     "start_time": "2020-12-09T05:35:54.222593",
     "status": "completed"
    },
    "tags": []
   },
   "outputs": [],
   "source": [
    "from s4_design_sim_tool.core import simulations_observing_efficiency"
   ]
  },
  {
   "cell_type": "code",
   "execution_count": 48,
   "metadata": {
    "execution": {
     "iopub.execute_input": "2020-12-09T05:35:54.358236Z",
     "iopub.status.busy": "2020-12-09T05:35:54.357382Z",
     "iopub.status.idle": "2020-12-09T05:35:54.360042Z",
     "shell.execute_reply": "2020-12-09T05:35:54.360513Z"
    },
    "papermill": {
     "duration": 0.049493,
     "end_time": "2020-12-09T05:35:54.360652",
     "exception": false,
     "start_time": "2020-12-09T05:35:54.311159",
     "status": "completed"
    },
    "tags": []
   },
   "outputs": [
    {
     "data": {
      "text/plain": [
       "{'pole': {'SAT': 0.3931149305555555, 'LAT': 0.321544537037037},\n",
       " 'chile': {'SAT': 0.8656164351851852, 'LAT': 0.917306712962963}}"
      ]
     },
     "execution_count": 48,
     "metadata": {},
     "output_type": "execute_result"
    }
   ],
   "source": [
    "simulations_observing_efficiency"
   ]
  },
  {
   "cell_type": "code",
   "execution_count": 49,
   "metadata": {
    "execution": {
     "iopub.execute_input": "2020-12-09T05:35:54.445165Z",
     "iopub.status.busy": "2020-12-09T05:35:54.444435Z",
     "iopub.status.idle": "2020-12-09T05:35:54.446056Z",
     "shell.execute_reply": "2020-12-09T05:35:54.446604Z"
    },
    "papermill": {
     "duration": 0.046301,
     "end_time": "2020-12-09T05:35:54.446743",
     "exception": false,
     "start_time": "2020-12-09T05:35:54.400442",
     "status": "completed"
    },
    "tags": []
   },
   "outputs": [],
   "source": [
    "atmo_cl *= 10 / 365.25\n",
    "atmo_cl *= simulations_observing_efficiency[site.lower()].get(telescope, 1) / config[\"experiment\"][\"observing_efficiency\"]                                                                    \n",
    "atmo_cl /= telescope_years"
   ]
  },
  {
   "cell_type": "markdown",
   "metadata": {
    "papermill": {
     "duration": 0.039781,
     "end_time": "2020-12-09T05:35:54.526577",
     "exception": false,
     "start_time": "2020-12-09T05:35:54.486796",
     "status": "completed"
    },
    "tags": []
   },
   "source": [
    "## Noise"
   ]
  },
  {
   "cell_type": "code",
   "execution_count": 50,
   "metadata": {
    "execution": {
     "iopub.execute_input": "2020-12-09T05:35:54.614465Z",
     "iopub.status.busy": "2020-12-09T05:35:54.613835Z",
     "iopub.status.idle": "2020-12-09T05:35:54.616160Z",
     "shell.execute_reply": "2020-12-09T05:35:54.615635Z"
    },
    "papermill": {
     "duration": 0.048702,
     "end_time": "2020-12-09T05:35:54.616280",
     "exception": false,
     "start_time": "2020-12-09T05:35:54.567578",
     "status": "completed"
    },
    "tags": []
   },
   "outputs": [],
   "source": [
    "noise_filename = Path(base_folder) / \"00000000\" / f\"{site}_noise_{telescope}_{channel}_filtered_telescope_all_time_all_bmap.fits\""
   ]
  },
  {
   "cell_type": "code",
   "execution_count": 51,
   "metadata": {
    "execution": {
     "iopub.execute_input": "2020-12-09T05:35:54.707423Z",
     "iopub.status.busy": "2020-12-09T05:35:54.706808Z",
     "iopub.status.idle": "2020-12-09T05:35:54.708748Z",
     "shell.execute_reply": "2020-12-09T05:35:54.709213Z"
    },
    "papermill": {
     "duration": 0.048807,
     "end_time": "2020-12-09T05:35:54.709426",
     "exception": false,
     "start_time": "2020-12-09T05:35:54.660619",
     "status": "completed"
    },
    "tags": []
   },
   "outputs": [],
   "source": [
    "#input_noise = hp.ma(hp.read_map(noise_filename, (0,1,2)))"
   ]
  },
  {
   "cell_type": "code",
   "execution_count": 52,
   "metadata": {
    "execution": {
     "iopub.execute_input": "2020-12-09T05:35:54.797077Z",
     "iopub.status.busy": "2020-12-09T05:35:54.796155Z",
     "iopub.status.idle": "2020-12-09T05:35:54.798089Z",
     "shell.execute_reply": "2020-12-09T05:35:54.798903Z"
    },
    "papermill": {
     "duration": 0.047658,
     "end_time": "2020-12-09T05:35:54.799122",
     "exception": false,
     "start_time": "2020-12-09T05:35:54.751464",
     "status": "completed"
    },
    "tags": []
   },
   "outputs": [],
   "source": [
    "#noise_cl = hp.anafast(input_noise * sqrt_hitmap, use_pixel_weights=True) / np.mean(hitmap) / sky_fraction"
   ]
  },
  {
   "cell_type": "code",
   "execution_count": 53,
   "metadata": {
    "execution": {
     "iopub.execute_input": "2020-12-09T05:35:54.923424Z",
     "iopub.status.busy": "2020-12-09T05:35:54.922820Z",
     "iopub.status.idle": "2020-12-09T05:35:54.924835Z",
     "shell.execute_reply": "2020-12-09T05:35:54.925316Z"
    },
    "papermill": {
     "duration": 0.049733,
     "end_time": "2020-12-09T05:35:54.925467",
     "exception": false,
     "start_time": "2020-12-09T05:35:54.875734",
     "status": "completed"
    },
    "tags": []
   },
   "outputs": [],
   "source": [
    "del sqrt_hitmap"
   ]
  },
  {
   "cell_type": "code",
   "execution_count": 54,
   "metadata": {
    "execution": {
     "iopub.execute_input": "2020-12-09T05:35:55.015942Z",
     "iopub.status.busy": "2020-12-09T05:35:55.015164Z",
     "iopub.status.idle": "2020-12-09T05:35:55.017771Z",
     "shell.execute_reply": "2020-12-09T05:35:55.017063Z"
    },
    "papermill": {
     "duration": 0.051303,
     "end_time": "2020-12-09T05:35:55.017924",
     "exception": false,
     "start_time": "2020-12-09T05:35:54.966621",
     "status": "completed"
    },
    "tags": []
   },
   "outputs": [],
   "source": [
    "from s4_design_sim_tool.noise import get_thinfp\n",
    "thinfp = get_thinfp(channel)"
   ]
  },
  {
   "cell_type": "code",
   "execution_count": 55,
   "metadata": {
    "execution": {
     "iopub.execute_input": "2020-12-09T05:35:55.153219Z",
     "iopub.status.busy": "2020-12-09T05:35:55.152671Z",
     "iopub.status.idle": "2020-12-09T05:35:55.155390Z",
     "shell.execute_reply": "2020-12-09T05:35:55.155801Z"
    },
    "papermill": {
     "duration": 0.063577,
     "end_time": "2020-12-09T05:35:55.155939",
     "exception": false,
     "start_time": "2020-12-09T05:35:55.092362",
     "status": "completed"
    },
    "tags": []
   },
   "outputs": [
    {
     "data": {
      "text/html": [
       "&lt;Column name=&apos;thinfp&apos; dtype=&apos;int64&apos; length=1&gt;\n",
       "<table>\n",
       "<tr><td>4</td></tr>\n",
       "</table>"
      ],
      "text/plain": [
       "<Column name='thinfp' dtype='int64' length=1>\n",
       "4"
      ]
     },
     "execution_count": 55,
     "metadata": {},
     "output_type": "execute_result"
    }
   ],
   "source": [
    "thinfp"
   ]
  },
  {
   "cell_type": "code",
   "execution_count": 56,
   "metadata": {
    "execution": {
     "iopub.execute_input": "2020-12-09T05:35:55.248797Z",
     "iopub.status.busy": "2020-12-09T05:35:55.248237Z",
     "iopub.status.idle": "2020-12-09T05:35:55.249786Z",
     "shell.execute_reply": "2020-12-09T05:35:55.250319Z"
    },
    "papermill": {
     "duration": 0.050833,
     "end_time": "2020-12-09T05:35:55.250475",
     "exception": false,
     "start_time": "2020-12-09T05:35:55.199642",
     "status": "completed"
    },
    "tags": []
   },
   "outputs": [],
   "source": [
    "#noise_cl *= 10 / 365.25\n",
    "#noise_cl *= simulations_observing_efficiency[site.lower()].get(telescope, 1) / config[\"experiment\"][\"observing_efficiency\"]                                                                    \n",
    "#noise_cl /= tube_years\n",
    "#noise_cl /= thinfp"
   ]
  },
  {
   "cell_type": "code",
   "execution_count": 57,
   "metadata": {
    "execution": {
     "iopub.execute_input": "2020-12-09T05:35:55.341047Z",
     "iopub.status.busy": "2020-12-09T05:35:55.340471Z",
     "iopub.status.idle": "2020-12-09T05:35:55.352798Z",
     "shell.execute_reply": "2020-12-09T05:35:55.352317Z"
    },
    "papermill": {
     "duration": 0.059639,
     "end_time": "2020-12-09T05:35:55.352926",
     "exception": false,
     "start_time": "2020-12-09T05:35:55.293287",
     "status": "completed"
    },
    "tags": []
   },
   "outputs": [],
   "source": [
    "white_noise_Cl = channel_NET**2 \\\n",
    "/ (hitmap.sum() / sampling_frequency[telescope] / (hitmap>0).sum()) * pixarea # / sky_fraction"
   ]
  },
  {
   "cell_type": "code",
   "execution_count": 58,
   "metadata": {
    "execution": {
     "iopub.execute_input": "2020-12-09T05:35:55.443490Z",
     "iopub.status.busy": "2020-12-09T05:35:55.442924Z",
     "iopub.status.idle": "2020-12-09T05:35:55.445468Z",
     "shell.execute_reply": "2020-12-09T05:35:55.446020Z"
    },
    "papermill": {
     "duration": 0.050546,
     "end_time": "2020-12-09T05:35:55.446162",
     "exception": false,
     "start_time": "2020-12-09T05:35:55.395616",
     "status": "completed"
    },
    "tags": []
   },
   "outputs": [
    {
     "data": {
      "text/latex": [
       "$1.1369755 \\times 10^{-18} \\; \\mathrm{K^{2}}$"
      ],
      "text/plain": [
       "<Quantity 1.13697546e-18 K2>"
      ]
     },
     "execution_count": 58,
     "metadata": {},
     "output_type": "execute_result"
    }
   ],
   "source": [
    "white_noise_Cl.decompose()"
   ]
  },
  {
   "cell_type": "code",
   "execution_count": 59,
   "metadata": {
    "execution": {
     "iopub.execute_input": "2020-12-09T05:35:55.538617Z",
     "iopub.status.busy": "2020-12-09T05:35:55.538031Z",
     "iopub.status.idle": "2020-12-09T05:35:56.065283Z",
     "shell.execute_reply": "2020-12-09T05:35:56.065747Z"
    },
    "papermill": {
     "duration": 0.576602,
     "end_time": "2020-12-09T05:35:56.065898",
     "exception": false,
     "start_time": "2020-12-09T05:35:55.489296",
     "status": "completed"
    },
    "tags": []
   },
   "outputs": [],
   "source": [
    "import seaborn as sns"
   ]
  },
  {
   "cell_type": "code",
   "execution_count": 60,
   "metadata": {
    "execution": {
     "iopub.execute_input": "2020-12-09T05:35:56.166305Z",
     "iopub.status.busy": "2020-12-09T05:35:56.165731Z",
     "iopub.status.idle": "2020-12-09T05:35:56.167590Z",
     "shell.execute_reply": "2020-12-09T05:35:56.168056Z"
    },
    "papermill": {
     "duration": 0.050969,
     "end_time": "2020-12-09T05:35:56.168193",
     "exception": false,
     "start_time": "2020-12-09T05:35:56.117224",
     "status": "completed"
    },
    "tags": []
   },
   "outputs": [],
   "source": [
    "sns.set_style(\"whitegrid\")"
   ]
  },
  {
   "cell_type": "code",
   "execution_count": 61,
   "metadata": {
    "execution": {
     "iopub.execute_input": "2020-12-09T05:35:56.274210Z",
     "iopub.status.busy": "2020-12-09T05:35:56.273605Z",
     "iopub.status.idle": "2020-12-09T05:35:58.133689Z",
     "shell.execute_reply": "2020-12-09T05:35:58.134439Z"
    },
    "papermill": {
     "duration": 1.91922,
     "end_time": "2020-12-09T05:35:58.134650",
     "exception": false,
     "start_time": "2020-12-09T05:35:56.215430",
     "status": "completed"
    },
    "tags": []
   },
   "outputs": [
    {
     "data": {
      "image/png": "[encoded data removed]",
      "text/plain": [
       "<Figure size 576x360 with 1 Axes>"
      ]
     },
     "metadata": {},
     "output_type": "display_data"
    }
   ],
   "source": [
    "plt.figure(figsize=(8,5))\n",
    "\n",
    "pols = [\"TT\", \"EE\", \"BB\"]\n",
    "\n",
    "for i, pol in enumerate(pols):\n",
    "    for split in range(1, nsplits+1):\n",
    "        plt.loglog(C_ell[ch][split][i], alpha=.8, label=pol)\n",
    "\n",
    "for i, pol in enumerate(pols):\n",
    "    plt.loglog(atmo_cl[i]*nsplits, alpha=.8, ls=\"--\", label=f\"atmo {pol}\")\n",
    "\n",
    "#for i, pol in enumerate(pols):\n",
    "#    plt.loglog(noise_cl[i], alpha=.8, ls=\"-.\", label=f\"noise {pol}\")\n",
    "\n",
    "plt.axhline(white_noise_Cl.to_value(u.K**2), ls=\":\",\n",
    "           label=\"white noise T\", color=\"black\")\n",
    "plt.axhline(white_noise_Cl.to_value(u.K**2)*2, ls=\":\",\n",
    "           label=\"white noise P\", color=\"grey\")\n",
    "plt.legend()\n",
    "plt.title(f\"Noise + Atmosphere simulations spectra for {ch}\")\n",
    "plt.ylabel(\"$C_\\ell [K^2]$\")\n",
    "plt.xlabel(\"$\\ell$\")\n",
    "plt.xlim((10, 3*nside))\n",
    "plt.grid(True)\n",
    "plt.savefig(f\"plots/C_ell_{dataset}_{ch}_{nsplits}.png\");"
   ]
  },
  {
   "cell_type": "code",
   "execution_count": null,
   "metadata": {
    "papermill": {
     "duration": 0.043275,
     "end_time": "2020-12-09T05:35:58.220840",
     "exception": false,
     "start_time": "2020-12-09T05:35:58.177565",
     "status": "completed"
    },
    "tags": []
   },
   "outputs": [],
   "source": []
  }
 ],
 "metadata": {
  "kernelspec": {
   "display_name": "condajupynersc",
   "language": "python",
   "name": "condajupynersc"
  },
  "language_info": {
   "codemirror_mode": {
    "name": "ipython",
    "version": 3
   },
   "file_extension": ".py",
   "mimetype": "text/x-python",
   "name": "python",
   "nbconvert_exporter": "python",
   "pygments_lexer": "ipython3",
   "version": "3.7.0"
  },
  "papermill": {
   "duration": 17.315733,
   "end_time": "2020-12-09T05:35:58.773575",
   "environment_variables": {},
   "exception": null,
   "input_path": "validation_atmo_noise_dec_2020.ipynb",
   "output_path": "validation_notebooks/SAT-MFLS2_chile_1.ipynb",
   "parameters": {
    "ch": "SAT-MFLS2_chile",
    "nsplits": 1
   },
   "start_time": "2020-12-09T05:35:41.457842",
   "version": "2.1.2"
  }
 },
 "nbformat": 4,
 "nbformat_minor": 4
}