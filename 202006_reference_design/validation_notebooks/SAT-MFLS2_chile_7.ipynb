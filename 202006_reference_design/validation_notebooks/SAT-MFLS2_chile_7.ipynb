{
 "cells": [
  {
   "cell_type": "code",
   "execution_count": 1,
   "metadata": {
    "execution": {
     "iopub.execute_input": "2020-12-09T06:02:35.256255Z",
     "iopub.status.busy": "2020-12-09T06:02:35.255678Z",
     "iopub.status.idle": "2020-12-09T06:02:36.950546Z",
     "shell.execute_reply": "2020-12-09T06:02:36.950024Z"
    },
    "papermill": {
     "duration": 1.728927,
     "end_time": "2020-12-09T06:02:36.950693",
     "exception": false,
     "start_time": "2020-12-09T06:02:35.221766",
     "status": "completed"
    },
    "tags": []
   },
   "outputs": [],
   "source": [
    "import healpy as hp\n",
    "import numpy as np\n",
    "%matplotlib inline\n",
    "import matplotlib.pyplot as plt\n",
    "from pathlib import Path\n",
    "from astropy.tests.helper import assert_quantity_allclose\n",
    "import pickle\n",
    "import sys\n",
    "import os\n",
    "from astropy import units as u"
   ]
  },
  {
   "cell_type": "code",
   "execution_count": 2,
   "metadata": {
    "execution": {
     "iopub.execute_input": "2020-12-09T06:02:37.008887Z",
     "iopub.status.busy": "2020-12-09T06:02:37.008283Z",
     "iopub.status.idle": "2020-12-09T06:02:37.068756Z",
     "shell.execute_reply": "2020-12-09T06:02:37.068261Z"
    },
    "papermill": {
     "duration": 0.091306,
     "end_time": "2020-12-09T06:02:37.068901",
     "exception": false,
     "start_time": "2020-12-09T06:02:36.977595",
     "status": "completed"
    },
    "tags": []
   },
   "outputs": [],
   "source": [
    "import h5py\n",
    "s4 = h5py.File(\"cmbs4_tophat.h5\", mode=\"r\")"
   ]
  },
  {
   "cell_type": "code",
   "execution_count": 3,
   "metadata": {
    "execution": {
     "iopub.execute_input": "2020-12-09T06:02:37.127450Z",
     "iopub.status.busy": "2020-12-09T06:02:37.126926Z",
     "iopub.status.idle": "2020-12-09T06:02:37.128960Z",
     "shell.execute_reply": "2020-12-09T06:02:37.129391Z"
    },
    "papermill": {
     "duration": 0.032765,
     "end_time": "2020-12-09T06:02:37.129538",
     "exception": false,
     "start_time": "2020-12-09T06:02:37.096773",
     "status": "completed"
    },
    "tags": []
   },
   "outputs": [],
   "source": [
    "dataset = \"s4_reference_design_noise_atmo_7splits\""
   ]
  },
  {
   "cell_type": "code",
   "execution_count": 4,
   "metadata": {
    "execution": {
     "iopub.execute_input": "2020-12-09T06:02:37.185760Z",
     "iopub.status.busy": "2020-12-09T06:02:37.185010Z",
     "iopub.status.idle": "2020-12-09T06:02:37.186988Z",
     "shell.execute_reply": "2020-12-09T06:02:37.187417Z"
    },
    "papermill": {
     "duration": 0.032233,
     "end_time": "2020-12-09T06:02:37.187591",
     "exception": false,
     "start_time": "2020-12-09T06:02:37.155358",
     "status": "completed"
    },
    "tags": [
     "parameters"
    ]
   },
   "outputs": [],
   "source": [
    "ch = f\"SAT-HFS1_chile\"\n",
    "nsplits = 1"
   ]
  },
  {
   "cell_type": "code",
   "execution_count": 5,
   "metadata": {
    "execution": {
     "iopub.execute_input": "2020-12-09T06:02:37.248235Z",
     "iopub.status.busy": "2020-12-09T06:02:37.247703Z",
     "iopub.status.idle": "2020-12-09T06:02:37.249601Z",
     "shell.execute_reply": "2020-12-09T06:02:37.250024Z"
    },
    "papermill": {
     "duration": 0.034159,
     "end_time": "2020-12-09T06:02:37.250157",
     "exception": false,
     "start_time": "2020-12-09T06:02:37.215998",
     "status": "completed"
    },
    "tags": [
     "injected-parameters"
    ]
   },
   "outputs": [],
   "source": [
    "# Parameters\n",
    "ch = \"SAT-MFLS2_chile\"\n",
    "nsplits = 7\n"
   ]
  },
  {
   "cell_type": "code",
   "execution_count": 6,
   "metadata": {
    "execution": {
     "iopub.execute_input": "2020-12-09T06:02:37.307446Z",
     "iopub.status.busy": "2020-12-09T06:02:37.306929Z",
     "iopub.status.idle": "2020-12-09T06:02:37.309333Z",
     "shell.execute_reply": "2020-12-09T06:02:37.308910Z"
    },
    "papermill": {
     "duration": 0.032443,
     "end_time": "2020-12-09T06:02:37.309434",
     "exception": false,
     "start_time": "2020-12-09T06:02:37.276991",
     "status": "completed"
    },
    "tags": []
   },
   "outputs": [],
   "source": [
    "if os.path.exists(f\"plots/C_ell_{dataset}_{ch}_{nsplits}.png\"):\n",
    "    sys.exit(0)"
   ]
  },
  {
   "cell_type": "code",
   "execution_count": 7,
   "metadata": {
    "execution": {
     "iopub.execute_input": "2020-12-09T06:02:37.366078Z",
     "iopub.status.busy": "2020-12-09T06:02:37.365537Z",
     "iopub.status.idle": "2020-12-09T06:02:37.367914Z",
     "shell.execute_reply": "2020-12-09T06:02:37.368352Z"
    },
    "papermill": {
     "duration": 0.032593,
     "end_time": "2020-12-09T06:02:37.368498",
     "exception": false,
     "start_time": "2020-12-09T06:02:37.335905",
     "status": "completed"
    },
    "tags": []
   },
   "outputs": [],
   "source": [
    "sampling_frequency = dict(SAT=100*u.Hz, LAT=400*u.Hz)"
   ]
  },
  {
   "cell_type": "code",
   "execution_count": 8,
   "metadata": {
    "execution": {
     "iopub.execute_input": "2020-12-09T06:02:37.427777Z",
     "iopub.status.busy": "2020-12-09T06:02:37.426981Z",
     "iopub.status.idle": "2020-12-09T06:02:37.429796Z",
     "shell.execute_reply": "2020-12-09T06:02:37.429313Z"
    },
    "papermill": {
     "duration": 0.03403,
     "end_time": "2020-12-09T06:02:37.429914",
     "exception": false,
     "start_time": "2020-12-09T06:02:37.395884",
     "status": "completed"
    },
    "tags": []
   },
   "outputs": [],
   "source": [
    "#telescope = \"SAT\"\n",
    "#channel = \"LFS1\"\n",
    "#site = \"pole\""
   ]
  },
  {
   "cell_type": "code",
   "execution_count": 9,
   "metadata": {
    "execution": {
     "iopub.execute_input": "2020-12-09T06:02:37.488839Z",
     "iopub.status.busy": "2020-12-09T06:02:37.488326Z",
     "iopub.status.idle": "2020-12-09T06:02:37.490711Z",
     "shell.execute_reply": "2020-12-09T06:02:37.490238Z"
    },
    "papermill": {
     "duration": 0.032312,
     "end_time": "2020-12-09T06:02:37.490837",
     "exception": false,
     "start_time": "2020-12-09T06:02:37.458525",
     "status": "completed"
    },
    "tags": []
   },
   "outputs": [],
   "source": [
    "telescope = ch.split(\"-\")[0]\n",
    "channel, site= ch.split(\"-\")[1].split(\"_\")"
   ]
  },
  {
   "cell_type": "code",
   "execution_count": 10,
   "metadata": {
    "execution": {
     "iopub.execute_input": "2020-12-09T06:02:37.549065Z",
     "iopub.status.busy": "2020-12-09T06:02:37.548564Z",
     "iopub.status.idle": "2020-12-09T06:02:37.550513Z",
     "shell.execute_reply": "2020-12-09T06:02:37.551021Z"
    },
    "papermill": {
     "duration": 0.033147,
     "end_time": "2020-12-09T06:02:37.551178",
     "exception": false,
     "start_time": "2020-12-09T06:02:37.518031",
     "status": "completed"
    },
    "tags": []
   },
   "outputs": [],
   "source": [
    "local_path = Path(\"output\")\n",
    "project_path = Path(\"/global/project/projectdirs/cmbs4/dm/dstool/output/\")"
   ]
  },
  {
   "cell_type": "code",
   "execution_count": 11,
   "metadata": {
    "execution": {
     "iopub.execute_input": "2020-12-09T06:02:37.608877Z",
     "iopub.status.busy": "2020-12-09T06:02:37.608334Z",
     "iopub.status.idle": "2020-12-09T06:02:37.622476Z",
     "shell.execute_reply": "2020-12-09T06:02:37.622018Z"
    },
    "papermill": {
     "duration": 0.044628,
     "end_time": "2020-12-09T06:02:37.622592",
     "exception": false,
     "start_time": "2020-12-09T06:02:37.577964",
     "status": "completed"
    },
    "tags": []
   },
   "outputs": [],
   "source": [
    "C_ell = pickle.load(open(local_path / dataset / f\"C_ell_{telescope}_{nsplits}.pkl\", \"rb\"))"
   ]
  },
  {
   "cell_type": "code",
   "execution_count": 12,
   "metadata": {
    "execution": {
     "iopub.execute_input": "2020-12-09T06:02:37.683638Z",
     "iopub.status.busy": "2020-12-09T06:02:37.683035Z",
     "iopub.status.idle": "2020-12-09T06:02:37.685683Z",
     "shell.execute_reply": "2020-12-09T06:02:37.686154Z"
    },
    "papermill": {
     "duration": 0.035898,
     "end_time": "2020-12-09T06:02:37.686292",
     "exception": false,
     "start_time": "2020-12-09T06:02:37.650394",
     "status": "completed"
    },
    "tags": []
   },
   "outputs": [
    {
     "data": {
      "text/plain": [
       "('SAT', 'MFLS2', 'chile')"
      ]
     },
     "execution_count": 12,
     "metadata": {},
     "output_type": "execute_result"
    }
   ],
   "source": [
    "telescope, channel, site"
   ]
  },
  {
   "cell_type": "code",
   "execution_count": 13,
   "metadata": {
    "execution": {
     "iopub.execute_input": "2020-12-09T06:02:37.741454Z",
     "iopub.status.busy": "2020-12-09T06:02:37.740909Z",
     "iopub.status.idle": "2020-12-09T06:02:37.743281Z",
     "shell.execute_reply": "2020-12-09T06:02:37.743700Z"
    },
    "papermill": {
     "duration": 0.031743,
     "end_time": "2020-12-09T06:02:37.743847",
     "exception": false,
     "start_time": "2020-12-09T06:02:37.712104",
     "status": "completed"
    },
    "tags": []
   },
   "outputs": [
    {
     "data": {
      "text/plain": [
       "dict_keys(['SAT-HFS1_chile', 'SAT-HFS2_chile', 'SAT-LFS1_chile', 'SAT-LFS2_chile', 'SAT-MFHS1_chile', 'SAT-MFHS2_chile', 'SAT-MFLS1_chile', 'SAT-MFLS2_chile'])"
      ]
     },
     "execution_count": 13,
     "metadata": {},
     "output_type": "execute_result"
    }
   ],
   "source": [
    "C_ell.keys()"
   ]
  },
  {
   "cell_type": "code",
   "execution_count": 14,
   "metadata": {
    "execution": {
     "iopub.execute_input": "2020-12-09T06:02:37.801573Z",
     "iopub.status.busy": "2020-12-09T06:02:37.801047Z",
     "iopub.status.idle": "2020-12-09T06:02:37.803224Z",
     "shell.execute_reply": "2020-12-09T06:02:37.803705Z"
    },
    "papermill": {
     "duration": 0.034423,
     "end_time": "2020-12-09T06:02:37.803836",
     "exception": false,
     "start_time": "2020-12-09T06:02:37.769413",
     "status": "completed"
    },
    "tags": []
   },
   "outputs": [],
   "source": [
    "nside = 4096 if telescope == \"LAT\" else 512"
   ]
  },
  {
   "cell_type": "code",
   "execution_count": 15,
   "metadata": {
    "execution": {
     "iopub.execute_input": "2020-12-09T06:02:37.863237Z",
     "iopub.status.busy": "2020-12-09T06:02:37.862704Z",
     "iopub.status.idle": "2020-12-09T06:02:37.867418Z",
     "shell.execute_reply": "2020-12-09T06:02:37.867909Z"
    },
    "papermill": {
     "duration": 0.036738,
     "end_time": "2020-12-09T06:02:37.868061",
     "exception": false,
     "start_time": "2020-12-09T06:02:37.831323",
     "status": "completed"
    },
    "tags": []
   },
   "outputs": [],
   "source": [
    "from s4_design_sim_tool.core import base_folder"
   ]
  },
  {
   "cell_type": "code",
   "execution_count": 16,
   "metadata": {
    "execution": {
     "iopub.execute_input": "2020-12-09T06:02:37.927352Z",
     "iopub.status.busy": "2020-12-09T06:02:37.926805Z",
     "iopub.status.idle": "2020-12-09T06:02:37.943744Z",
     "shell.execute_reply": "2020-12-09T06:02:37.943245Z"
    },
    "papermill": {
     "duration": 0.047554,
     "end_time": "2020-12-09T06:02:37.943872",
     "exception": false,
     "start_time": "2020-12-09T06:02:37.896318",
     "status": "completed"
    },
    "tags": []
   },
   "outputs": [],
   "source": [
    "from s4_design_sim_tool.cli import parse_config\n",
    "if site == \"chile\" and telescope == \"SAT\":\n",
    "    config = parse_config(f\"{dataset}.toml\", \"chile_sat.toml\")\n",
    "else:\n",
    "    config = parse_config(f\"{dataset}.toml\")"
   ]
  },
  {
   "cell_type": "code",
   "execution_count": 17,
   "metadata": {
    "execution": {
     "iopub.execute_input": "2020-12-09T06:02:38.003572Z",
     "iopub.status.busy": "2020-12-09T06:02:38.002958Z",
     "iopub.status.idle": "2020-12-09T06:02:38.115196Z",
     "shell.execute_reply": "2020-12-09T06:02:38.114708Z"
    },
    "papermill": {
     "duration": 0.143554,
     "end_time": "2020-12-09T06:02:38.115319",
     "exception": false,
     "start_time": "2020-12-09T06:02:37.971765",
     "status": "completed"
    },
    "tags": []
   },
   "outputs": [
    {
     "name": "stderr",
     "output_type": "stream",
     "text": [
      "/global/homes/z/zonca/condajupynersc/lib/python3.7/site-packages/healpy/fitsfunc.py:369: UserWarning: If you are not specifying the input dtype and using the default np.float64 dtype of read_map(), please consider that it will change in a future version to None as to keep the same dtype of the input file: please explicitly set the dtype if it is important to you.\n",
      "  \"If you are not specifying the input dtype and using the default \"\n",
      "/global/homes/z/zonca/condajupynersc/lib/python3.7/site-packages/healpy/fitsfunc.py:391: UserWarning: NSIDE = 512\n",
      "  warnings.warn(\"NSIDE = {0:d}\".format(nside))\n",
      "/global/homes/z/zonca/condajupynersc/lib/python3.7/site-packages/healpy/fitsfunc.py:400: UserWarning: ORDERING = RING in fits file\n",
      "  warnings.warn(\"ORDERING = {0:s} in fits file\".format(ordering))\n",
      "/global/homes/z/zonca/condajupynersc/lib/python3.7/site-packages/healpy/fitsfunc.py:428: UserWarning: INDXSCHM = IMPLICIT\n",
      "  warnings.warn(\"INDXSCHM = {0:s}\".format(schm))\n"
     ]
    }
   ],
   "source": [
    "hitmap = hp.read_map(local_path / dataset / ch / f\"cmbs4_hitmap_{ch}_nside{nside}_1_of_{nsplits}.fits\")"
   ]
  },
  {
   "cell_type": "code",
   "execution_count": 18,
   "metadata": {
    "execution": {
     "iopub.execute_input": "2020-12-09T06:02:38.188891Z",
     "iopub.status.busy": "2020-12-09T06:02:38.188304Z",
     "iopub.status.idle": "2020-12-09T06:02:38.190838Z",
     "shell.execute_reply": "2020-12-09T06:02:38.191311Z"
    },
    "papermill": {
     "duration": 0.039912,
     "end_time": "2020-12-09T06:02:38.191463",
     "exception": false,
     "start_time": "2020-12-09T06:02:38.151551",
     "status": "completed"
    },
    "tags": []
   },
   "outputs": [
    {
     "data": {
      "text/plain": [
       "'MFLS2'"
      ]
     },
     "execution_count": 18,
     "metadata": {},
     "output_type": "execute_result"
    }
   ],
   "source": [
    "channel"
   ]
  },
  {
   "cell_type": "code",
   "execution_count": 19,
   "metadata": {
    "execution": {
     "iopub.execute_input": "2020-12-09T06:02:38.263699Z",
     "iopub.status.busy": "2020-12-09T06:02:38.263080Z",
     "iopub.status.idle": "2020-12-09T06:02:38.266265Z",
     "shell.execute_reply": "2020-12-09T06:02:38.265767Z"
    },
    "papermill": {
     "duration": 0.04115,
     "end_time": "2020-12-09T06:02:38.266412",
     "exception": false,
     "start_time": "2020-12-09T06:02:38.225262",
     "status": "completed"
    },
    "tags": []
   },
   "outputs": [
    {
     "data": {
      "text/plain": [
       "21"
      ]
     },
     "execution_count": 19,
     "metadata": {},
     "output_type": "execute_result"
    }
   ],
   "source": [
    "from s4_design_sim_tool.noise import get_tube_years\n",
    "tube_years = get_tube_years(config, site, channel)\n",
    "tube_years"
   ]
  },
  {
   "cell_type": "code",
   "execution_count": 20,
   "metadata": {
    "execution": {
     "iopub.execute_input": "2020-12-09T06:02:38.336960Z",
     "iopub.status.busy": "2020-12-09T06:02:38.336364Z",
     "iopub.status.idle": "2020-12-09T06:02:38.343632Z",
     "shell.execute_reply": "2020-12-09T06:02:38.343076Z"
    },
    "papermill": {
     "duration": 0.044094,
     "end_time": "2020-12-09T06:02:38.343754",
     "exception": false,
     "start_time": "2020-12-09T06:02:38.299660",
     "status": "completed"
    },
    "tags": []
   },
   "outputs": [
    {
     "data": {
      "text/plain": [
       "100.11248600166542"
      ]
     },
     "execution_count": 20,
     "metadata": {},
     "output_type": "execute_result"
    }
   ],
   "source": [
    "sampling_rate = hitmap.sum()\n",
    "sampling_rate /= 365.25 * 24 * 3600\n",
    "sampling_rate /= tube_years * config[\"experiment\"][\"observing_efficiency\"]\n",
    "sampling_rate /= s4[channel].attrs[\"detectors_per_tube\"]\n",
    "sampling_rate *= nsplits\n",
    "sampling_rate"
   ]
  },
  {
   "cell_type": "code",
   "execution_count": 21,
   "metadata": {
    "execution": {
     "iopub.execute_input": "2020-12-09T06:02:38.411936Z",
     "iopub.status.busy": "2020-12-09T06:02:38.411351Z",
     "iopub.status.idle": "2020-12-09T06:02:38.413630Z",
     "shell.execute_reply": "2020-12-09T06:02:38.413175Z"
    },
    "papermill": {
     "duration": 0.03658,
     "end_time": "2020-12-09T06:02:38.413746",
     "exception": false,
     "start_time": "2020-12-09T06:02:38.377166",
     "status": "completed"
    },
    "tags": []
   },
   "outputs": [],
   "source": [
    "np.testing.assert_allclose(sampling_rate, sampling_frequency[telescope].value, rtol=1/100)"
   ]
  },
  {
   "cell_type": "code",
   "execution_count": 22,
   "metadata": {
    "execution": {
     "iopub.execute_input": "2020-12-09T06:02:38.479393Z",
     "iopub.status.busy": "2020-12-09T06:02:38.478869Z",
     "iopub.status.idle": "2020-12-09T06:02:38.995322Z",
     "shell.execute_reply": "2020-12-09T06:02:38.995791Z"
    },
    "papermill": {
     "duration": 0.551311,
     "end_time": "2020-12-09T06:02:38.995938",
     "exception": false,
     "start_time": "2020-12-09T06:02:38.444627",
     "status": "completed"
    },
    "tags": []
   },
   "outputs": [
    {
     "name": "stderr",
     "output_type": "stream",
     "text": [
      "/global/homes/z/zonca/condajupynersc/lib/python3.7/site-packages/ipykernel_launcher.py:1: RuntimeWarning: divide by zero encountered in log10\n",
      "  \"\"\"Entry point for launching an IPython kernel.\n",
      "/global/homes/z/zonca/condajupynersc/lib/python3.7/site-packages/healpy/projaxes.py:920: MatplotlibDeprecationWarning: You are modifying the state of a globally registered colormap. In future versions, you will not be able to modify a registered colormap in-place. To remove this warning, you can make a copy of the colormap first. cmap = copy.copy(mpl.cm.get_cmap(\"viridis\"))\n",
      "  newcm.set_over(newcm(1.0))\n",
      "/global/homes/z/zonca/condajupynersc/lib/python3.7/site-packages/healpy/projaxes.py:921: MatplotlibDeprecationWarning: You are modifying the state of a globally registered colormap. In future versions, you will not be able to modify a registered colormap in-place. To remove this warning, you can make a copy of the colormap first. cmap = copy.copy(mpl.cm.get_cmap(\"viridis\"))\n",
      "  newcm.set_under(bgcolor)\n",
      "/global/homes/z/zonca/condajupynersc/lib/python3.7/site-packages/healpy/projaxes.py:922: MatplotlibDeprecationWarning: You are modifying the state of a globally registered colormap. In future versions, you will not be able to modify a registered colormap in-place. To remove this warning, you can make a copy of the colormap first. cmap = copy.copy(mpl.cm.get_cmap(\"viridis\"))\n",
      "  newcm.set_bad(badcolor)\n",
      "/global/homes/z/zonca/condajupynersc/lib/python3.7/site-packages/healpy/projaxes.py:211: MatplotlibDeprecationWarning: Passing parameters norm and vmin/vmax simultaneously is deprecated since 3.3 and will become an error two minor releases later. Please pass vmin/vmax directly to the norm when creating it.\n",
      "  **kwds\n"
     ]
    },
    {
     "data": {
      "image/png": "[encoded data removed]",
      "text/plain": [
       "<Figure size 612x388.8 with 2 Axes>"
      ]
     },
     "metadata": {
      "needs_background": "light"
     },
     "output_type": "display_data"
    }
   ],
   "source": [
    "log_hitmap = np.log10(hitmap)\n",
    "log_hitmap[np.isinf(log_hitmap)] = hp.UNSEEN\n",
    "hp.mollview(log_hitmap, unit=\"log10(samples)\", title=f\"Hitmap {ch}\")\n",
    "plt.savefig(f\"plots/hitmap_{channel}_{site}_1_of_{nsplits}.png\")"
   ]
  },
  {
   "cell_type": "code",
   "execution_count": 23,
   "metadata": {
    "execution": {
     "iopub.execute_input": "2020-12-09T06:02:39.068771Z",
     "iopub.status.busy": "2020-12-09T06:02:39.068204Z",
     "iopub.status.idle": "2020-12-09T06:02:39.172183Z",
     "shell.execute_reply": "2020-12-09T06:02:39.172626Z"
    },
    "papermill": {
     "duration": 0.142728,
     "end_time": "2020-12-09T06:02:39.172778",
     "exception": false,
     "start_time": "2020-12-09T06:02:39.030050",
     "status": "completed"
    },
    "tags": []
   },
   "outputs": [],
   "source": [
    "wcov = hp.read_map(local_path / dataset / ch / f\"cmbs4_wcov_{ch}_nside{nside}_1_of_{nsplits}.fits\", (3))"
   ]
  },
  {
   "cell_type": "code",
   "execution_count": 24,
   "metadata": {
    "execution": {
     "iopub.execute_input": "2020-12-09T06:02:39.247690Z",
     "iopub.status.busy": "2020-12-09T06:02:39.247120Z",
     "iopub.status.idle": "2020-12-09T06:02:39.249946Z",
     "shell.execute_reply": "2020-12-09T06:02:39.250437Z"
    },
    "papermill": {
     "duration": 0.042864,
     "end_time": "2020-12-09T06:02:39.250595",
     "exception": false,
     "start_time": "2020-12-09T06:02:39.207731",
     "status": "completed"
    },
    "tags": []
   },
   "outputs": [
    {
     "data": {
      "text/plain": [
       "(3145728,)"
      ]
     },
     "execution_count": 24,
     "metadata": {},
     "output_type": "execute_result"
    }
   ],
   "source": [
    "wcov.shape"
   ]
  },
  {
   "cell_type": "code",
   "execution_count": 25,
   "metadata": {
    "execution": {
     "iopub.execute_input": "2020-12-09T06:02:39.320918Z",
     "iopub.status.busy": "2020-12-09T06:02:39.320354Z",
     "iopub.status.idle": "2020-12-09T06:02:39.322331Z",
     "shell.execute_reply": "2020-12-09T06:02:39.322747Z"
    },
    "papermill": {
     "duration": 0.038591,
     "end_time": "2020-12-09T06:02:39.322895",
     "exception": false,
     "start_time": "2020-12-09T06:02:39.284304",
     "status": "completed"
    },
    "tags": []
   },
   "outputs": [],
   "source": [
    "import astropy.units as u"
   ]
  },
  {
   "cell_type": "code",
   "execution_count": 26,
   "metadata": {
    "execution": {
     "iopub.execute_input": "2020-12-09T06:02:39.393824Z",
     "iopub.status.busy": "2020-12-09T06:02:39.393308Z",
     "iopub.status.idle": "2020-12-09T06:02:39.395933Z",
     "shell.execute_reply": "2020-12-09T06:02:39.395398Z"
    },
    "papermill": {
     "duration": 0.041183,
     "end_time": "2020-12-09T06:02:39.396040",
     "exception": false,
     "start_time": "2020-12-09T06:02:39.354857",
     "status": "completed"
    },
    "tags": []
   },
   "outputs": [],
   "source": [
    "channel_NET = s4[channel].attrs[\"NET_uKsqrts\"] * u.uK * u.s ** .5"
   ]
  },
  {
   "cell_type": "code",
   "execution_count": 27,
   "metadata": {
    "execution": {
     "iopub.execute_input": "2020-12-09T06:02:39.465873Z",
     "iopub.status.busy": "2020-12-09T06:02:39.465363Z",
     "iopub.status.idle": "2020-12-09T06:02:39.467621Z",
     "shell.execute_reply": "2020-12-09T06:02:39.467063Z"
    },
    "papermill": {
     "duration": 0.039555,
     "end_time": "2020-12-09T06:02:39.467724",
     "exception": false,
     "start_time": "2020-12-09T06:02:39.428169",
     "status": "completed"
    },
    "tags": []
   },
   "outputs": [],
   "source": [
    "if telescope == \"LAT\" and site==\"pole\":\n",
    "    channel_NET = s4[channel].attrs[\"pole_NET_uKsqrts\"] * u.uK * u.s ** .5"
   ]
  },
  {
   "cell_type": "code",
   "execution_count": 28,
   "metadata": {
    "execution": {
     "iopub.execute_input": "2020-12-09T06:02:39.537025Z",
     "iopub.status.busy": "2020-12-09T06:02:39.536529Z",
     "iopub.status.idle": "2020-12-09T06:02:39.587384Z",
     "shell.execute_reply": "2020-12-09T06:02:39.586773Z"
    },
    "papermill": {
     "duration": 0.087181,
     "end_time": "2020-12-09T06:02:39.587554",
     "exception": false,
     "start_time": "2020-12-09T06:02:39.500373",
     "status": "completed"
    },
    "tags": []
   },
   "outputs": [],
   "source": [
    "variance_QQ = wcov * u.K ** 2 * (hitmap / sampling_frequency[telescope]) "
   ]
  },
  {
   "cell_type": "code",
   "execution_count": 29,
   "metadata": {
    "execution": {
     "iopub.execute_input": "2020-12-09T06:02:39.659295Z",
     "iopub.status.busy": "2020-12-09T06:02:39.658721Z",
     "iopub.status.idle": "2020-12-09T06:02:39.667571Z",
     "shell.execute_reply": "2020-12-09T06:02:39.668047Z"
    },
    "papermill": {
     "duration": 0.046189,
     "end_time": "2020-12-09T06:02:39.668182",
     "exception": false,
     "start_time": "2020-12-09T06:02:39.621993",
     "status": "completed"
    },
    "tags": []
   },
   "outputs": [],
   "source": [
    "assert (variance_QQ.value == hp.UNSEEN).sum() == 0"
   ]
  },
  {
   "cell_type": "code",
   "execution_count": 30,
   "metadata": {
    "execution": {
     "iopub.execute_input": "2020-12-09T06:02:39.758831Z",
     "iopub.status.busy": "2020-12-09T06:02:39.758339Z",
     "iopub.status.idle": "2020-12-09T06:02:39.787135Z",
     "shell.execute_reply": "2020-12-09T06:02:39.787768Z"
    },
    "papermill": {
     "duration": 0.063269,
     "end_time": "2020-12-09T06:02:39.787984",
     "exception": false,
     "start_time": "2020-12-09T06:02:39.724715",
     "status": "completed"
    },
    "tags": []
   },
   "outputs": [],
   "source": [
    "full_mission_NET = np.sqrt(np.median(variance_QQ[hitmap != 0]))"
   ]
  },
  {
   "cell_type": "code",
   "execution_count": 31,
   "metadata": {
    "execution": {
     "iopub.execute_input": "2020-12-09T06:02:39.858104Z",
     "iopub.status.busy": "2020-12-09T06:02:39.857535Z",
     "iopub.status.idle": "2020-12-09T06:02:39.860255Z",
     "shell.execute_reply": "2020-12-09T06:02:39.864196Z"
    },
    "papermill": {
     "duration": 0.042956,
     "end_time": "2020-12-09T06:02:39.864340",
     "exception": false,
     "start_time": "2020-12-09T06:02:39.821384",
     "status": "completed"
    },
    "tags": []
   },
   "outputs": [
    {
     "data": {
      "text/latex": [
       "$428.17505 \\; \\mathrm{\\mu K\\,s^{1/2}}$"
      ],
      "text/plain": [
       "<Quantity 428.17504529 s(1/2) uK>"
      ]
     },
     "execution_count": 31,
     "metadata": {},
     "output_type": "execute_result"
    }
   ],
   "source": [
    "full_mission_NET.to(channel_NET.unit)"
   ]
  },
  {
   "cell_type": "code",
   "execution_count": 32,
   "metadata": {
    "execution": {
     "iopub.execute_input": "2020-12-09T06:02:39.932895Z",
     "iopub.status.busy": "2020-12-09T06:02:39.932362Z",
     "iopub.status.idle": "2020-12-09T06:02:39.935295Z",
     "shell.execute_reply": "2020-12-09T06:02:39.935740Z"
    },
    "papermill": {
     "duration": 0.039377,
     "end_time": "2020-12-09T06:02:39.935891",
     "exception": false,
     "start_time": "2020-12-09T06:02:39.896514",
     "status": "completed"
    },
    "tags": []
   },
   "outputs": [
    {
     "data": {
      "text/latex": [
       "$309 \\; \\mathrm{\\mu K\\,s^{1/2}}$"
      ],
      "text/plain": [
       "<Quantity 309. s(1/2) uK>"
      ]
     },
     "execution_count": 32,
     "metadata": {},
     "output_type": "execute_result"
    }
   ],
   "source": [
    "channel_NET"
   ]
  },
  {
   "cell_type": "code",
   "execution_count": 33,
   "metadata": {
    "execution": {
     "iopub.execute_input": "2020-12-09T06:02:40.008003Z",
     "iopub.status.busy": "2020-12-09T06:02:40.007442Z",
     "iopub.status.idle": "2020-12-09T06:02:40.009823Z",
     "shell.execute_reply": "2020-12-09T06:02:40.010219Z"
    },
    "papermill": {
     "duration": 0.042186,
     "end_time": "2020-12-09T06:02:40.010350",
     "exception": false,
     "start_time": "2020-12-09T06:02:39.968164",
     "status": "completed"
    },
    "tags": []
   },
   "outputs": [
    {
     "data": {
      "text/latex": [
       "$302.76548 \\; \\mathrm{\\mu K\\,s^{1/2}}$"
      ],
      "text/plain": [
       "<Quantity 302.76547806 s(1/2) uK>"
      ]
     },
     "execution_count": 33,
     "metadata": {},
     "output_type": "execute_result"
    }
   ],
   "source": [
    "(full_mission_NET/np.sqrt(2)).to(channel_NET.unit)"
   ]
  },
  {
   "cell_type": "code",
   "execution_count": 34,
   "metadata": {
    "execution": {
     "iopub.execute_input": "2020-12-09T06:02:40.089149Z",
     "iopub.status.busy": "2020-12-09T06:02:40.088503Z",
     "iopub.status.idle": "2020-12-09T06:02:40.089977Z",
     "shell.execute_reply": "2020-12-09T06:02:40.090432Z"
    },
    "papermill": {
     "duration": 0.047356,
     "end_time": "2020-12-09T06:02:40.090644",
     "exception": false,
     "start_time": "2020-12-09T06:02:40.043288",
     "status": "completed"
    },
    "tags": []
   },
   "outputs": [],
   "source": [
    "assert_quantity_allclose(full_mission_NET, channel_NET*np.sqrt(2), rtol=10/100) "
   ]
  },
  {
   "cell_type": "code",
   "execution_count": 35,
   "metadata": {
    "execution": {
     "iopub.execute_input": "2020-12-09T06:02:40.164646Z",
     "iopub.status.busy": "2020-12-09T06:02:40.164074Z",
     "iopub.status.idle": "2020-12-09T06:02:40.176183Z",
     "shell.execute_reply": "2020-12-09T06:02:40.176589Z"
    },
    "papermill": {
     "duration": 0.051577,
     "end_time": "2020-12-09T06:02:40.176726",
     "exception": false,
     "start_time": "2020-12-09T06:02:40.125149",
     "status": "completed"
    },
    "tags": []
   },
   "outputs": [],
   "source": [
    "sky_fraction = (hitmap > 0).sum() / len(hitmap)"
   ]
  },
  {
   "cell_type": "code",
   "execution_count": 36,
   "metadata": {
    "execution": {
     "iopub.execute_input": "2020-12-09T06:02:40.251649Z",
     "iopub.status.busy": "2020-12-09T06:02:40.251055Z",
     "iopub.status.idle": "2020-12-09T06:02:40.253722Z",
     "shell.execute_reply": "2020-12-09T06:02:40.254177Z"
    },
    "papermill": {
     "duration": 0.041962,
     "end_time": "2020-12-09T06:02:40.254321",
     "exception": false,
     "start_time": "2020-12-09T06:02:40.212359",
     "status": "completed"
    },
    "tags": []
   },
   "outputs": [
    {
     "data": {
      "text/plain": [
       "0.44712352752685547"
      ]
     },
     "execution_count": 36,
     "metadata": {},
     "output_type": "execute_result"
    }
   ],
   "source": [
    "sky_fraction"
   ]
  },
  {
   "cell_type": "code",
   "execution_count": 37,
   "metadata": {
    "execution": {
     "iopub.execute_input": "2020-12-09T06:02:40.326513Z",
     "iopub.status.busy": "2020-12-09T06:02:40.325949Z",
     "iopub.status.idle": "2020-12-09T06:02:40.328505Z",
     "shell.execute_reply": "2020-12-09T06:02:40.328006Z"
    },
    "papermill": {
     "duration": 0.039564,
     "end_time": "2020-12-09T06:02:40.328612",
     "exception": false,
     "start_time": "2020-12-09T06:02:40.289048",
     "status": "completed"
    },
    "tags": []
   },
   "outputs": [],
   "source": [
    "pixarea = hp.nside2pixarea(nside)"
   ]
  },
  {
   "cell_type": "code",
   "execution_count": 38,
   "metadata": {
    "execution": {
     "iopub.execute_input": "2020-12-09T06:02:40.400299Z",
     "iopub.status.busy": "2020-12-09T06:02:40.399756Z",
     "iopub.status.idle": "2020-12-09T06:02:40.410774Z",
     "shell.execute_reply": "2020-12-09T06:02:40.411233Z"
    },
    "papermill": {
     "duration": 0.048732,
     "end_time": "2020-12-09T06:02:40.411378",
     "exception": false,
     "start_time": "2020-12-09T06:02:40.362646",
     "status": "completed"
    },
    "tags": []
   },
   "outputs": [
    {
     "data": {
      "text/plain": [
       "9.1157530192264e-16"
      ]
     },
     "execution_count": 38,
     "metadata": {},
     "output_type": "execute_result"
    }
   ],
   "source": [
    "np.mean(wcov[hitmap > 0])* pixarea"
   ]
  },
  {
   "cell_type": "code",
   "execution_count": 39,
   "metadata": {
    "execution": {
     "iopub.execute_input": "2020-12-09T06:02:40.488829Z",
     "iopub.status.busy": "2020-12-09T06:02:40.488313Z",
     "iopub.status.idle": "2020-12-09T06:02:40.499354Z",
     "shell.execute_reply": "2020-12-09T06:02:40.498900Z"
    },
    "papermill": {
     "duration": 0.050885,
     "end_time": "2020-12-09T06:02:40.499461",
     "exception": false,
     "start_time": "2020-12-09T06:02:40.448576",
     "status": "completed"
    },
    "tags": []
   },
   "outputs": [],
   "source": [
    "wcov [ wcov == hp.UNSEEN] = 0"
   ]
  },
  {
   "cell_type": "markdown",
   "metadata": {
    "papermill": {
     "duration": 0.03556,
     "end_time": "2020-12-09T06:02:40.571057",
     "exception": false,
     "start_time": "2020-12-09T06:02:40.535497",
     "status": "completed"
    },
    "tags": []
   },
   "source": [
    "## Atmosphere"
   ]
  },
  {
   "cell_type": "code",
   "execution_count": 40,
   "metadata": {
    "execution": {
     "iopub.execute_input": "2020-12-09T06:02:40.648713Z",
     "iopub.status.busy": "2020-12-09T06:02:40.648179Z",
     "iopub.status.idle": "2020-12-09T06:02:40.649945Z",
     "shell.execute_reply": "2020-12-09T06:02:40.650368Z"
    },
    "papermill": {
     "duration": 0.042882,
     "end_time": "2020-12-09T06:02:40.650501",
     "exception": false,
     "start_time": "2020-12-09T06:02:40.607619",
     "status": "completed"
    },
    "tags": []
   },
   "outputs": [],
   "source": [
    "atmosphere_filename = Path(base_folder) / \"00000000\" / f\"{site}_atmosphere_{telescope}_{channel}_filtered_telescope_all_time_all_bmap.fits\""
   ]
  },
  {
   "cell_type": "code",
   "execution_count": 41,
   "metadata": {
    "execution": {
     "iopub.execute_input": "2020-12-09T06:02:40.727017Z",
     "iopub.status.busy": "2020-12-09T06:02:40.726535Z",
     "iopub.status.idle": "2020-12-09T06:02:41.402932Z",
     "shell.execute_reply": "2020-12-09T06:02:41.403327Z"
    },
    "papermill": {
     "duration": 0.71533,
     "end_time": "2020-12-09T06:02:41.403470",
     "exception": false,
     "start_time": "2020-12-09T06:02:40.688140",
     "status": "completed"
    },
    "tags": []
   },
   "outputs": [
    {
     "name": "stderr",
     "output_type": "stream",
     "text": [
      "/global/homes/z/zonca/condajupynersc/lib/python3.7/site-packages/healpy/fitsfunc.py:400: UserWarning: ORDERING = NESTED in fits file\n",
      "  warnings.warn(\"ORDERING = {0:s} in fits file\".format(ordering))\n",
      "/global/homes/z/zonca/condajupynersc/lib/python3.7/site-packages/healpy/fitsfunc.py:486: UserWarning: Ordering converted to RING\n",
      "  warnings.warn(\"Ordering converted to RING\")\n"
     ]
    }
   ],
   "source": [
    "input_atmophere = hp.ma(hp.read_map(atmosphere_filename, (0,1,2)))"
   ]
  },
  {
   "cell_type": "code",
   "execution_count": 42,
   "metadata": {
    "execution": {
     "iopub.execute_input": "2020-12-09T06:02:41.484546Z",
     "iopub.status.busy": "2020-12-09T06:02:41.483975Z",
     "iopub.status.idle": "2020-12-09T06:02:41.519684Z",
     "shell.execute_reply": "2020-12-09T06:02:41.520151Z"
    },
    "papermill": {
     "duration": 0.07698,
     "end_time": "2020-12-09T06:02:41.520306",
     "exception": false,
     "start_time": "2020-12-09T06:02:41.443326",
     "status": "completed"
    },
    "tags": []
   },
   "outputs": [],
   "source": [
    "sqrt_hitmap = hitmap.copy()\n",
    "sqrt_hitmap[hitmap>0] = np.sqrt(hitmap[hitmap>0])"
   ]
  },
  {
   "cell_type": "code",
   "execution_count": 43,
   "metadata": {
    "execution": {
     "iopub.execute_input": "2020-12-09T06:02:41.599284Z",
     "iopub.status.busy": "2020-12-09T06:02:41.598741Z",
     "iopub.status.idle": "2020-12-09T06:02:43.912900Z",
     "shell.execute_reply": "2020-12-09T06:02:43.913485Z"
    },
    "papermill": {
     "duration": 2.355895,
     "end_time": "2020-12-09T06:02:43.913678",
     "exception": false,
     "start_time": "2020-12-09T06:02:41.557783",
     "status": "completed"
    },
    "tags": []
   },
   "outputs": [],
   "source": [
    "atmo_cl = \\\n",
    "hp.anafast(input_atmophere * sqrt_hitmap, use_pixel_weights=True) / np.mean(hitmap) # / sky_fraction"
   ]
  },
  {
   "cell_type": "code",
   "execution_count": 44,
   "metadata": {
    "execution": {
     "iopub.execute_input": "2020-12-09T06:02:43.995627Z",
     "iopub.status.busy": "2020-12-09T06:02:43.995033Z",
     "iopub.status.idle": "2020-12-09T06:02:43.997444Z",
     "shell.execute_reply": "2020-12-09T06:02:43.996950Z"
    },
    "papermill": {
     "duration": 0.044013,
     "end_time": "2020-12-09T06:02:43.997567",
     "exception": false,
     "start_time": "2020-12-09T06:02:43.953554",
     "status": "completed"
    },
    "tags": []
   },
   "outputs": [],
   "source": [
    "from s4_design_sim_tool.atmosphere import get_telecope_years"
   ]
  },
  {
   "cell_type": "code",
   "execution_count": 45,
   "metadata": {
    "execution": {
     "iopub.execute_input": "2020-12-09T06:02:44.082522Z",
     "iopub.status.busy": "2020-12-09T06:02:44.081887Z",
     "iopub.status.idle": "2020-12-09T06:02:44.083648Z",
     "shell.execute_reply": "2020-12-09T06:02:44.084378Z"
    },
    "papermill": {
     "duration": 0.047257,
     "end_time": "2020-12-09T06:02:44.084587",
     "exception": false,
     "start_time": "2020-12-09T06:02:44.037330",
     "status": "completed"
    },
    "tags": []
   },
   "outputs": [],
   "source": [
    "telescope_years = get_telecope_years(config, site, channel)"
   ]
  },
  {
   "cell_type": "code",
   "execution_count": 46,
   "metadata": {
    "execution": {
     "iopub.execute_input": "2020-12-09T06:02:44.172964Z",
     "iopub.status.busy": "2020-12-09T06:02:44.172347Z",
     "iopub.status.idle": "2020-12-09T06:02:44.174938Z",
     "shell.execute_reply": "2020-12-09T06:02:44.175467Z"
    },
    "papermill": {
     "duration": 0.048061,
     "end_time": "2020-12-09T06:02:44.175653",
     "exception": false,
     "start_time": "2020-12-09T06:02:44.127592",
     "status": "completed"
    },
    "tags": []
   },
   "outputs": [
    {
     "data": {
      "text/plain": [
       "7"
      ]
     },
     "execution_count": 46,
     "metadata": {},
     "output_type": "execute_result"
    }
   ],
   "source": [
    "telescope_years"
   ]
  },
  {
   "cell_type": "code",
   "execution_count": 47,
   "metadata": {
    "execution": {
     "iopub.execute_input": "2020-12-09T06:02:44.266766Z",
     "iopub.status.busy": "2020-12-09T06:02:44.266160Z",
     "iopub.status.idle": "2020-12-09T06:02:44.268259Z",
     "shell.execute_reply": "2020-12-09T06:02:44.268802Z"
    },
    "papermill": {
     "duration": 0.049387,
     "end_time": "2020-12-09T06:02:44.268971",
     "exception": false,
     "start_time": "2020-12-09T06:02:44.219584",
     "status": "completed"
    },
    "tags": []
   },
   "outputs": [],
   "source": [
    "from s4_design_sim_tool.core import simulations_observing_efficiency"
   ]
  },
  {
   "cell_type": "code",
   "execution_count": 48,
   "metadata": {
    "execution": {
     "iopub.execute_input": "2020-12-09T06:02:44.358753Z",
     "iopub.status.busy": "2020-12-09T06:02:44.358132Z",
     "iopub.status.idle": "2020-12-09T06:02:44.361652Z",
     "shell.execute_reply": "2020-12-09T06:02:44.362132Z"
    },
    "papermill": {
     "duration": 0.049588,
     "end_time": "2020-12-09T06:02:44.362286",
     "exception": false,
     "start_time": "2020-12-09T06:02:44.312698",
     "status": "completed"
    },
    "tags": []
   },
   "outputs": [
    {
     "data": {
      "text/plain": [
       "{'pole': {'SAT': 0.3931149305555555, 'LAT': 0.321544537037037},\n",
       " 'chile': {'SAT': 0.8656164351851852, 'LAT': 0.917306712962963}}"
      ]
     },
     "execution_count": 48,
     "metadata": {},
     "output_type": "execute_result"
    }
   ],
   "source": [
    "simulations_observing_efficiency"
   ]
  },
  {
   "cell_type": "code",
   "execution_count": 49,
   "metadata": {
    "execution": {
     "iopub.execute_input": "2020-12-09T06:02:44.447401Z",
     "iopub.status.busy": "2020-12-09T06:02:44.446846Z",
     "iopub.status.idle": "2020-12-09T06:02:44.449142Z",
     "shell.execute_reply": "2020-12-09T06:02:44.449579Z"
    },
    "papermill": {
     "duration": 0.047345,
     "end_time": "2020-12-09T06:02:44.449717",
     "exception": false,
     "start_time": "2020-12-09T06:02:44.402372",
     "status": "completed"
    },
    "tags": []
   },
   "outputs": [],
   "source": [
    "atmo_cl *= 10 / 365.25\n",
    "atmo_cl *= simulations_observing_efficiency[site.lower()].get(telescope, 1) / config[\"experiment\"][\"observing_efficiency\"]                                                                    \n",
    "atmo_cl /= telescope_years"
   ]
  },
  {
   "cell_type": "markdown",
   "metadata": {
    "papermill": {
     "duration": 0.038205,
     "end_time": "2020-12-09T06:02:44.527084",
     "exception": false,
     "start_time": "2020-12-09T06:02:44.488879",
     "status": "completed"
    },
    "tags": []
   },
   "source": [
    "## Noise"
   ]
  },
  {
   "cell_type": "code",
   "execution_count": 50,
   "metadata": {
    "execution": {
     "iopub.execute_input": "2020-12-09T06:02:44.612225Z",
     "iopub.status.busy": "2020-12-09T06:02:44.611669Z",
     "iopub.status.idle": "2020-12-09T06:02:44.614416Z",
     "shell.execute_reply": "2020-12-09T06:02:44.613941Z"
    },
    "papermill": {
     "duration": 0.048185,
     "end_time": "2020-12-09T06:02:44.614524",
     "exception": false,
     "start_time": "2020-12-09T06:02:44.566339",
     "status": "completed"
    },
    "tags": []
   },
   "outputs": [],
   "source": [
    "noise_filename = Path(base_folder) / \"00000000\" / f\"{site}_noise_{telescope}_{channel}_filtered_telescope_all_time_all_bmap.fits\""
   ]
  },
  {
   "cell_type": "code",
   "execution_count": 51,
   "metadata": {
    "execution": {
     "iopub.execute_input": "2020-12-09T06:02:44.700064Z",
     "iopub.status.busy": "2020-12-09T06:02:44.699498Z",
     "iopub.status.idle": "2020-12-09T06:02:44.701481Z",
     "shell.execute_reply": "2020-12-09T06:02:44.701892Z"
    },
    "papermill": {
     "duration": 0.045605,
     "end_time": "2020-12-09T06:02:44.702018",
     "exception": false,
     "start_time": "2020-12-09T06:02:44.656413",
     "status": "completed"
    },
    "tags": []
   },
   "outputs": [],
   "source": [
    "#input_noise = hp.ma(hp.read_map(noise_filename, (0,1,2)))"
   ]
  },
  {
   "cell_type": "code",
   "execution_count": 52,
   "metadata": {
    "execution": {
     "iopub.execute_input": "2020-12-09T06:02:44.778363Z",
     "iopub.status.busy": "2020-12-09T06:02:44.777842Z",
     "iopub.status.idle": "2020-12-09T06:02:44.779930Z",
     "shell.execute_reply": "2020-12-09T06:02:44.780355Z"
    },
    "papermill": {
     "duration": 0.042164,
     "end_time": "2020-12-09T06:02:44.780481",
     "exception": false,
     "start_time": "2020-12-09T06:02:44.738317",
     "status": "completed"
    },
    "tags": []
   },
   "outputs": [],
   "source": [
    "#noise_cl = hp.anafast(input_noise * sqrt_hitmap, use_pixel_weights=True) / np.mean(hitmap) / sky_fraction"
   ]
  },
  {
   "cell_type": "code",
   "execution_count": 53,
   "metadata": {
    "execution": {
     "iopub.execute_input": "2020-12-09T06:02:44.860522Z",
     "iopub.status.busy": "2020-12-09T06:02:44.859991Z",
     "iopub.status.idle": "2020-12-09T06:02:44.862169Z",
     "shell.execute_reply": "2020-12-09T06:02:44.862598Z"
    },
    "papermill": {
     "duration": 0.043712,
     "end_time": "2020-12-09T06:02:44.862749",
     "exception": false,
     "start_time": "2020-12-09T06:02:44.819037",
     "status": "completed"
    },
    "tags": []
   },
   "outputs": [],
   "source": [
    "del sqrt_hitmap"
   ]
  },
  {
   "cell_type": "code",
   "execution_count": 54,
   "metadata": {
    "execution": {
     "iopub.execute_input": "2020-12-09T06:02:44.940671Z",
     "iopub.status.busy": "2020-12-09T06:02:44.940138Z",
     "iopub.status.idle": "2020-12-09T06:02:44.942087Z",
     "shell.execute_reply": "2020-12-09T06:02:44.942666Z"
    },
    "papermill": {
     "duration": 0.042209,
     "end_time": "2020-12-09T06:02:44.942796",
     "exception": false,
     "start_time": "2020-12-09T06:02:44.900587",
     "status": "completed"
    },
    "tags": []
   },
   "outputs": [],
   "source": [
    "from s4_design_sim_tool.noise import get_thinfp\n",
    "thinfp = get_thinfp(channel)"
   ]
  },
  {
   "cell_type": "code",
   "execution_count": 55,
   "metadata": {
    "execution": {
     "iopub.execute_input": "2020-12-09T06:02:45.022268Z",
     "iopub.status.busy": "2020-12-09T06:02:45.021679Z",
     "iopub.status.idle": "2020-12-09T06:02:45.024115Z",
     "shell.execute_reply": "2020-12-09T06:02:45.024666Z"
    },
    "papermill": {
     "duration": 0.044477,
     "end_time": "2020-12-09T06:02:45.024804",
     "exception": false,
     "start_time": "2020-12-09T06:02:44.980327",
     "status": "completed"
    },
    "tags": []
   },
   "outputs": [
    {
     "data": {
      "text/html": [
       "&lt;Column name=&apos;thinfp&apos; dtype=&apos;int64&apos; length=1&gt;\n",
       "<table>\n",
       "<tr><td>4</td></tr>\n",
       "</table>"
      ],
      "text/plain": [
       "<Column name='thinfp' dtype='int64' length=1>\n",
       "4"
      ]
     },
     "execution_count": 55,
     "metadata": {},
     "output_type": "execute_result"
    }
   ],
   "source": [
    "thinfp"
   ]
  },
  {
   "cell_type": "code",
   "execution_count": 56,
   "metadata": {
    "execution": {
     "iopub.execute_input": "2020-12-09T06:02:45.105910Z",
     "iopub.status.busy": "2020-12-09T06:02:45.105346Z",
     "iopub.status.idle": "2020-12-09T06:02:45.107367Z",
     "shell.execute_reply": "2020-12-09T06:02:45.107795Z"
    },
    "papermill": {
     "duration": 0.044426,
     "end_time": "2020-12-09T06:02:45.107929",
     "exception": false,
     "start_time": "2020-12-09T06:02:45.063503",
     "status": "completed"
    },
    "tags": []
   },
   "outputs": [],
   "source": [
    "#noise_cl *= 10 / 365.25\n",
    "#noise_cl *= simulations_observing_efficiency[site.lower()].get(telescope, 1) / config[\"experiment\"][\"observing_efficiency\"]                                                                    \n",
    "#noise_cl /= tube_years\n",
    "#noise_cl /= thinfp"
   ]
  },
  {
   "cell_type": "code",
   "execution_count": 57,
   "metadata": {
    "execution": {
     "iopub.execute_input": "2020-12-09T06:02:45.191718Z",
     "iopub.status.busy": "2020-12-09T06:02:45.191077Z",
     "iopub.status.idle": "2020-12-09T06:02:45.203910Z",
     "shell.execute_reply": "2020-12-09T06:02:45.203410Z"
    },
    "papermill": {
     "duration": 0.056803,
     "end_time": "2020-12-09T06:02:45.204030",
     "exception": false,
     "start_time": "2020-12-09T06:02:45.147227",
     "status": "completed"
    },
    "tags": []
   },
   "outputs": [],
   "source": [
    "white_noise_Cl = channel_NET**2 \\\n",
    "/ (hitmap.sum() / sampling_frequency[telescope] / (hitmap>0).sum()) * pixarea # / sky_fraction"
   ]
  },
  {
   "cell_type": "code",
   "execution_count": 58,
   "metadata": {
    "execution": {
     "iopub.execute_input": "2020-12-09T06:02:45.290514Z",
     "iopub.status.busy": "2020-12-09T06:02:45.289954Z",
     "iopub.status.idle": "2020-12-09T06:02:45.292529Z",
     "shell.execute_reply": "2020-12-09T06:02:45.293008Z"
    },
    "papermill": {
     "duration": 0.047959,
     "end_time": "2020-12-09T06:02:45.293152",
     "exception": false,
     "start_time": "2020-12-09T06:02:45.245193",
     "status": "completed"
    },
    "tags": []
   },
   "outputs": [
    {
     "data": {
      "text/latex": [
       "$7.9588282 \\times 10^{-18} \\; \\mathrm{K^{2}}$"
      ],
      "text/plain": [
       "<Quantity 7.9588282e-18 K2>"
      ]
     },
     "execution_count": 58,
     "metadata": {},
     "output_type": "execute_result"
    }
   ],
   "source": [
    "white_noise_Cl.decompose()"
   ]
  },
  {
   "cell_type": "code",
   "execution_count": 59,
   "metadata": {
    "execution": {
     "iopub.execute_input": "2020-12-09T06:02:45.377081Z",
     "iopub.status.busy": "2020-12-09T06:02:45.376480Z",
     "iopub.status.idle": "2020-12-09T06:02:45.817361Z",
     "shell.execute_reply": "2020-12-09T06:02:45.817931Z"
    },
    "papermill": {
     "duration": 0.48491,
     "end_time": "2020-12-09T06:02:45.818131",
     "exception": false,
     "start_time": "2020-12-09T06:02:45.333221",
     "status": "completed"
    },
    "tags": []
   },
   "outputs": [],
   "source": [
    "import seaborn as sns"
   ]
  },
  {
   "cell_type": "code",
   "execution_count": 60,
   "metadata": {
    "execution": {
     "iopub.execute_input": "2020-12-09T06:02:45.902384Z",
     "iopub.status.busy": "2020-12-09T06:02:45.901870Z",
     "iopub.status.idle": "2020-12-09T06:02:45.903966Z",
     "shell.execute_reply": "2020-12-09T06:02:45.904390Z"
    },
    "papermill": {
     "duration": 0.044237,
     "end_time": "2020-12-09T06:02:45.904516",
     "exception": false,
     "start_time": "2020-12-09T06:02:45.860279",
     "status": "completed"
    },
    "tags": []
   },
   "outputs": [],
   "source": [
    "sns.set_style(\"whitegrid\")"
   ]
  },
  {
   "cell_type": "code",
   "execution_count": 61,
   "metadata": {
    "execution": {
     "iopub.execute_input": "2020-12-09T06:02:45.990091Z",
     "iopub.status.busy": "2020-12-09T06:02:45.989499Z",
     "iopub.status.idle": "2020-12-09T06:02:48.306856Z",
     "shell.execute_reply": "2020-12-09T06:02:48.307476Z"
    },
    "papermill": {
     "duration": 2.364869,
     "end_time": "2020-12-09T06:02:48.307686",
     "exception": false,
     "start_time": "2020-12-09T06:02:45.942817",
     "status": "completed"
    },
    "tags": []
   },
   "outputs": [
    {
     "data": {
      "image/png": "[encoded data removed]",
      "text/plain": [
       "<Figure size 576x360 with 1 Axes>"
      ]
     },
     "metadata": {},
     "output_type": "display_data"
    }
   ],
   "source": [
    "plt.figure(figsize=(8,5))\n",
    "\n",
    "pols = [\"TT\", \"EE\", \"BB\"]\n",
    "\n",
    "for i, pol in enumerate(pols):\n",
    "    for split in range(1, nsplits+1):\n",
    "        plt.loglog(C_ell[ch][split][i], alpha=.8, label=pol)\n",
    "\n",
    "for i, pol in enumerate(pols):\n",
    "    plt.loglog(atmo_cl[i]*nsplits, alpha=.8, ls=\"--\", label=f\"atmo {pol}\")\n",
    "\n",
    "#for i, pol in enumerate(pols):\n",
    "#    plt.loglog(noise_cl[i], alpha=.8, ls=\"-.\", label=f\"noise {pol}\")\n",
    "\n",
    "plt.axhline(white_noise_Cl.to_value(u.K**2), ls=\":\",\n",
    "           label=\"white noise T\", color=\"black\")\n",
    "plt.axhline(white_noise_Cl.to_value(u.K**2)*2, ls=\":\",\n",
    "           label=\"white noise P\", color=\"grey\")\n",
    "plt.legend()\n",
    "plt.title(f\"Noise + Atmosphere simulations spectra for {ch}\")\n",
    "plt.ylabel(\"$C_\\ell [K^2]$\")\n",
    "plt.xlabel(\"$\\ell$\")\n",
    "plt.xlim((10, 3*nside))\n",
    "plt.grid(True)\n",
    "plt.savefig(f\"plots/C_ell_{dataset}_{ch}_{nsplits}.png\");"
   ]
  },
  {
   "cell_type": "code",
   "execution_count": null,
   "metadata": {
    "papermill": {
     "duration": 0.03965,
     "end_time": "2020-12-09T06:02:48.387156",
     "exception": false,
     "start_time": "2020-12-09T06:02:48.347506",
     "status": "completed"
    },
    "tags": []
   },
   "outputs": [],
   "source": []
  }
 ],
 "metadata": {
  "kernelspec": {
   "display_name": "condajupynersc",
   "language": "python",
   "name": "condajupynersc"
  },
  "language_info": {
   "codemirror_mode": {
    "name": "ipython",
    "version": 3
   },
   "file_extension": ".py",
   "mimetype": "text/x-python",
   "name": "python",
   "nbconvert_exporter": "python",
   "pygments_lexer": "ipython3",
   "version": "3.7.0"
  },
  "papermill": {
   "duration": 14.954666,
   "end_time": "2020-12-09T06:02:48.936319",
   "environment_variables": {},
   "exception": null,
   "input_path": "validation_atmo_noise_dec_2020.ipynb",
   "output_path": "validation_notebooks/SAT-MFLS2_chile_7.ipynb",
   "parameters": {
    "ch": "SAT-MFLS2_chile",
    "nsplits": 7
   },
   "start_time": "2020-12-09T06:02:33.981653",
   "version": "2.1.2"
  }
 },
 "nbformat": 4,
 "nbformat_minor": 4
}