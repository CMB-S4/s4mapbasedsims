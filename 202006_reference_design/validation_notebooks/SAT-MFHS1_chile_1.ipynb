{
 "cells": [
  {
   "cell_type": "code",
   "execution_count": 1,
   "metadata": {
    "execution": {
     "iopub.execute_input": "2020-12-09T05:34:44.038738Z",
     "iopub.status.busy": "2020-12-09T05:34:44.038032Z",
     "iopub.status.idle": "2020-12-09T05:34:45.786422Z",
     "shell.execute_reply": "2020-12-09T05:34:45.786915Z"
    },
    "papermill": {
     "duration": 1.788302,
     "end_time": "2020-12-09T05:34:45.787244",
     "exception": false,
     "start_time": "2020-12-09T05:34:43.998942",
     "status": "completed"
    },
    "tags": []
   },
   "outputs": [],
   "source": [
    "import healpy as hp\n",
    "import numpy as np\n",
    "%matplotlib inline\n",
    "import matplotlib.pyplot as plt\n",
    "from pathlib import Path\n",
    "from astropy.tests.helper import assert_quantity_allclose\n",
    "import pickle\n",
    "import sys\n",
    "import os\n",
    "from astropy import units as u"
   ]
  },
  {
   "cell_type": "code",
   "execution_count": 2,
   "metadata": {
    "execution": {
     "iopub.execute_input": "2020-12-09T05:34:45.864627Z",
     "iopub.status.busy": "2020-12-09T05:34:45.864057Z",
     "iopub.status.idle": "2020-12-09T05:34:45.926469Z",
     "shell.execute_reply": "2020-12-09T05:34:45.925929Z"
    },
    "papermill": {
     "duration": 0.09842,
     "end_time": "2020-12-09T05:34:45.926591",
     "exception": false,
     "start_time": "2020-12-09T05:34:45.828171",
     "status": "completed"
    },
    "tags": []
   },
   "outputs": [],
   "source": [
    "import h5py\n",
    "s4 = h5py.File(\"cmbs4_tophat.h5\", mode=\"r\")"
   ]
  },
  {
   "cell_type": "code",
   "execution_count": 3,
   "metadata": {
    "execution": {
     "iopub.execute_input": "2020-12-09T05:34:45.995954Z",
     "iopub.status.busy": "2020-12-09T05:34:45.995389Z",
     "iopub.status.idle": "2020-12-09T05:34:45.997648Z",
     "shell.execute_reply": "2020-12-09T05:34:45.997153Z"
    },
    "papermill": {
     "duration": 0.042427,
     "end_time": "2020-12-09T05:34:45.997762",
     "exception": false,
     "start_time": "2020-12-09T05:34:45.955335",
     "status": "completed"
    },
    "tags": []
   },
   "outputs": [],
   "source": [
    "dataset = \"s4_reference_design_noise_atmo_7splits\""
   ]
  },
  {
   "cell_type": "code",
   "execution_count": 4,
   "metadata": {
    "execution": {
     "iopub.execute_input": "2020-12-09T05:34:46.067283Z",
     "iopub.status.busy": "2020-12-09T05:34:46.066455Z",
     "iopub.status.idle": "2020-12-09T05:34:46.068700Z",
     "shell.execute_reply": "2020-12-09T05:34:46.068183Z"
    },
    "papermill": {
     "duration": 0.04047,
     "end_time": "2020-12-09T05:34:46.068823",
     "exception": false,
     "start_time": "2020-12-09T05:34:46.028353",
     "status": "completed"
    },
    "tags": [
     "parameters"
    ]
   },
   "outputs": [],
   "source": [
    "ch = f\"SAT-HFS1_chile\"\n",
    "nsplits = 1"
   ]
  },
  {
   "cell_type": "code",
   "execution_count": 5,
   "metadata": {
    "execution": {
     "iopub.execute_input": "2020-12-09T05:34:46.134851Z",
     "iopub.status.busy": "2020-12-09T05:34:46.134123Z",
     "iopub.status.idle": "2020-12-09T05:34:46.135840Z",
     "shell.execute_reply": "2020-12-09T05:34:46.136296Z"
    },
    "papermill": {
     "duration": 0.0364,
     "end_time": "2020-12-09T05:34:46.136448",
     "exception": false,
     "start_time": "2020-12-09T05:34:46.100048",
     "status": "completed"
    },
    "tags": [
     "injected-parameters"
    ]
   },
   "outputs": [],
   "source": [
    "# Parameters\n",
    "ch = \"SAT-MFHS1_chile\"\n",
    "nsplits = 1\n"
   ]
  },
  {
   "cell_type": "code",
   "execution_count": 6,
   "metadata": {
    "execution": {
     "iopub.execute_input": "2020-12-09T05:34:46.205649Z",
     "iopub.status.busy": "2020-12-09T05:34:46.205088Z",
     "iopub.status.idle": "2020-12-09T05:34:46.207167Z",
     "shell.execute_reply": "2020-12-09T05:34:46.207825Z"
    },
    "papermill": {
     "duration": 0.035808,
     "end_time": "2020-12-09T05:34:46.207979",
     "exception": false,
     "start_time": "2020-12-09T05:34:46.172171",
     "status": "completed"
    },
    "tags": []
   },
   "outputs": [],
   "source": [
    "if os.path.exists(f\"plots/C_ell_{dataset}_{ch}_{nsplits}.png\"):\n",
    "    sys.exit(0)"
   ]
  },
  {
   "cell_type": "code",
   "execution_count": 7,
   "metadata": {
    "execution": {
     "iopub.execute_input": "2020-12-09T05:34:46.278198Z",
     "iopub.status.busy": "2020-12-09T05:34:46.277630Z",
     "iopub.status.idle": "2020-12-09T05:34:46.279441Z",
     "shell.execute_reply": "2020-12-09T05:34:46.279876Z"
    },
    "papermill": {
     "duration": 0.036059,
     "end_time": "2020-12-09T05:34:46.280023",
     "exception": false,
     "start_time": "2020-12-09T05:34:46.243964",
     "status": "completed"
    },
    "tags": []
   },
   "outputs": [],
   "source": [
    "sampling_frequency = dict(SAT=100*u.Hz, LAT=400*u.Hz)"
   ]
  },
  {
   "cell_type": "code",
   "execution_count": 8,
   "metadata": {
    "execution": {
     "iopub.execute_input": "2020-12-09T05:34:46.350206Z",
     "iopub.status.busy": "2020-12-09T05:34:46.349635Z",
     "iopub.status.idle": "2020-12-09T05:34:46.351566Z",
     "shell.execute_reply": "2020-12-09T05:34:46.352017Z"
    },
    "papermill": {
     "duration": 0.037357,
     "end_time": "2020-12-09T05:34:46.352160",
     "exception": false,
     "start_time": "2020-12-09T05:34:46.314803",
     "status": "completed"
    },
    "tags": []
   },
   "outputs": [],
   "source": [
    "#telescope = \"SAT\"\n",
    "#channel = \"LFS1\"\n",
    "#site = \"pole\""
   ]
  },
  {
   "cell_type": "code",
   "execution_count": 9,
   "metadata": {
    "execution": {
     "iopub.execute_input": "2020-12-09T05:34:46.423610Z",
     "iopub.status.busy": "2020-12-09T05:34:46.423044Z",
     "iopub.status.idle": "2020-12-09T05:34:46.425313Z",
     "shell.execute_reply": "2020-12-09T05:34:46.424845Z"
    },
    "papermill": {
     "duration": 0.043265,
     "end_time": "2020-12-09T05:34:46.425433",
     "exception": false,
     "start_time": "2020-12-09T05:34:46.382168",
     "status": "completed"
    },
    "tags": []
   },
   "outputs": [],
   "source": [
    "telescope = ch.split(\"-\")[0]\n",
    "channel, site= ch.split(\"-\")[1].split(\"_\")"
   ]
  },
  {
   "cell_type": "code",
   "execution_count": 10,
   "metadata": {
    "execution": {
     "iopub.execute_input": "2020-12-09T05:34:46.495683Z",
     "iopub.status.busy": "2020-12-09T05:34:46.494915Z",
     "iopub.status.idle": "2020-12-09T05:34:46.497867Z",
     "shell.execute_reply": "2020-12-09T05:34:46.497385Z"
    },
    "papermill": {
     "duration": 0.043213,
     "end_time": "2020-12-09T05:34:46.497984",
     "exception": false,
     "start_time": "2020-12-09T05:34:46.454771",
     "status": "completed"
    },
    "tags": []
   },
   "outputs": [],
   "source": [
    "local_path = Path(\"output\")\n",
    "project_path = Path(\"/global/project/projectdirs/cmbs4/dm/dstool/output/\")"
   ]
  },
  {
   "cell_type": "code",
   "execution_count": 11,
   "metadata": {
    "execution": {
     "iopub.execute_input": "2020-12-09T05:34:46.566692Z",
     "iopub.status.busy": "2020-12-09T05:34:46.566111Z",
     "iopub.status.idle": "2020-12-09T05:34:46.575363Z",
     "shell.execute_reply": "2020-12-09T05:34:46.574877Z"
    },
    "papermill": {
     "duration": 0.047901,
     "end_time": "2020-12-09T05:34:46.575493",
     "exception": false,
     "start_time": "2020-12-09T05:34:46.527592",
     "status": "completed"
    },
    "tags": []
   },
   "outputs": [],
   "source": [
    "C_ell = pickle.load(open(local_path / dataset / f\"C_ell_{telescope}_{nsplits}.pkl\", \"rb\"))"
   ]
  },
  {
   "cell_type": "code",
   "execution_count": 12,
   "metadata": {
    "execution": {
     "iopub.execute_input": "2020-12-09T05:34:46.644504Z",
     "iopub.status.busy": "2020-12-09T05:34:46.643922Z",
     "iopub.status.idle": "2020-12-09T05:34:46.647012Z",
     "shell.execute_reply": "2020-12-09T05:34:46.647473Z"
    },
    "papermill": {
     "duration": 0.041553,
     "end_time": "2020-12-09T05:34:46.647626",
     "exception": false,
     "start_time": "2020-12-09T05:34:46.606073",
     "status": "completed"
    },
    "tags": []
   },
   "outputs": [
    {
     "data": {
      "text/plain": [
       "('SAT', 'MFHS1', 'chile')"
      ]
     },
     "execution_count": 12,
     "metadata": {},
     "output_type": "execute_result"
    }
   ],
   "source": [
    "telescope, channel, site"
   ]
  },
  {
   "cell_type": "code",
   "execution_count": 13,
   "metadata": {
    "execution": {
     "iopub.execute_input": "2020-12-09T05:34:46.712999Z",
     "iopub.status.busy": "2020-12-09T05:34:46.712442Z",
     "iopub.status.idle": "2020-12-09T05:34:46.715460Z",
     "shell.execute_reply": "2020-12-09T05:34:46.715909Z"
    },
    "papermill": {
     "duration": 0.038341,
     "end_time": "2020-12-09T05:34:46.716066",
     "exception": false,
     "start_time": "2020-12-09T05:34:46.677725",
     "status": "completed"
    },
    "tags": []
   },
   "outputs": [
    {
     "data": {
      "text/plain": [
       "dict_keys(['SAT-HFS1_chile', 'SAT-HFS2_chile', 'SAT-LFS1_chile', 'SAT-LFS2_chile', 'SAT-MFHS1_chile', 'SAT-MFHS2_chile', 'SAT-MFLS1_chile', 'SAT-MFLS2_chile'])"
      ]
     },
     "execution_count": 13,
     "metadata": {},
     "output_type": "execute_result"
    }
   ],
   "source": [
    "C_ell.keys()"
   ]
  },
  {
   "cell_type": "code",
   "execution_count": 14,
   "metadata": {
    "execution": {
     "iopub.execute_input": "2020-12-09T05:34:46.780854Z",
     "iopub.status.busy": "2020-12-09T05:34:46.780295Z",
     "iopub.status.idle": "2020-12-09T05:34:46.782094Z",
     "shell.execute_reply": "2020-12-09T05:34:46.782532Z"
    },
    "papermill": {
     "duration": 0.036335,
     "end_time": "2020-12-09T05:34:46.782683",
     "exception": false,
     "start_time": "2020-12-09T05:34:46.746348",
     "status": "completed"
    },
    "tags": []
   },
   "outputs": [],
   "source": [
    "nside = 4096 if telescope == \"LAT\" else 512"
   ]
  },
  {
   "cell_type": "code",
   "execution_count": 15,
   "metadata": {
    "execution": {
     "iopub.execute_input": "2020-12-09T05:34:46.848177Z",
     "iopub.status.busy": "2020-12-09T05:34:46.847596Z",
     "iopub.status.idle": "2020-12-09T05:34:46.852351Z",
     "shell.execute_reply": "2020-12-09T05:34:46.852776Z"
    },
    "papermill": {
     "duration": 0.039526,
     "end_time": "2020-12-09T05:34:46.852934",
     "exception": false,
     "start_time": "2020-12-09T05:34:46.813408",
     "status": "completed"
    },
    "tags": []
   },
   "outputs": [],
   "source": [
    "from s4_design_sim_tool.core import base_folder"
   ]
  },
  {
   "cell_type": "code",
   "execution_count": 16,
   "metadata": {
    "execution": {
     "iopub.execute_input": "2020-12-09T05:34:46.917623Z",
     "iopub.status.busy": "2020-12-09T05:34:46.917067Z",
     "iopub.status.idle": "2020-12-09T05:34:46.934420Z",
     "shell.execute_reply": "2020-12-09T05:34:46.934858Z"
    },
    "papermill": {
     "duration": 0.051822,
     "end_time": "2020-12-09T05:34:46.935017",
     "exception": false,
     "start_time": "2020-12-09T05:34:46.883195",
     "status": "completed"
    },
    "tags": []
   },
   "outputs": [],
   "source": [
    "from s4_design_sim_tool.cli import parse_config\n",
    "if site == \"chile\" and telescope == \"SAT\":\n",
    "    config = parse_config(f\"{dataset}.toml\", \"chile_sat.toml\")\n",
    "else:\n",
    "    config = parse_config(f\"{dataset}.toml\")"
   ]
  },
  {
   "cell_type": "code",
   "execution_count": 17,
   "metadata": {
    "execution": {
     "iopub.execute_input": "2020-12-09T05:34:47.004027Z",
     "iopub.status.busy": "2020-12-09T05:34:47.003320Z",
     "iopub.status.idle": "2020-12-09T05:34:47.143222Z",
     "shell.execute_reply": "2020-12-09T05:34:47.142688Z"
    },
    "papermill": {
     "duration": 0.176406,
     "end_time": "2020-12-09T05:34:47.143341",
     "exception": false,
     "start_time": "2020-12-09T05:34:46.966935",
     "status": "completed"
    },
    "tags": []
   },
   "outputs": [
    {
     "name": "stderr",
     "output_type": "stream",
     "text": [
      "/global/homes/z/zonca/condajupynersc/lib/python3.7/site-packages/healpy/fitsfunc.py:369: UserWarning: If you are not specifying the input dtype and using the default np.float64 dtype of read_map(), please consider that it will change in a future version to None as to keep the same dtype of the input file: please explicitly set the dtype if it is important to you.\n",
      "  \"If you are not specifying the input dtype and using the default \"\n",
      "/global/homes/z/zonca/condajupynersc/lib/python3.7/site-packages/healpy/fitsfunc.py:391: UserWarning: NSIDE = 512\n",
      "  warnings.warn(\"NSIDE = {0:d}\".format(nside))\n",
      "/global/homes/z/zonca/condajupynersc/lib/python3.7/site-packages/healpy/fitsfunc.py:400: UserWarning: ORDERING = RING in fits file\n",
      "  warnings.warn(\"ORDERING = {0:s} in fits file\".format(ordering))\n",
      "/global/homes/z/zonca/condajupynersc/lib/python3.7/site-packages/healpy/fitsfunc.py:428: UserWarning: INDXSCHM = IMPLICIT\n",
      "  warnings.warn(\"INDXSCHM = {0:s}\".format(schm))\n"
     ]
    }
   ],
   "source": [
    "hitmap = hp.read_map(local_path / dataset / ch / f\"cmbs4_hitmap_{ch}_nside{nside}_1_of_{nsplits}.fits\")"
   ]
  },
  {
   "cell_type": "code",
   "execution_count": 18,
   "metadata": {
    "execution": {
     "iopub.execute_input": "2020-12-09T05:34:47.215918Z",
     "iopub.status.busy": "2020-12-09T05:34:47.215198Z",
     "iopub.status.idle": "2020-12-09T05:34:47.219191Z",
     "shell.execute_reply": "2020-12-09T05:34:47.218709Z"
    },
    "papermill": {
     "duration": 0.042405,
     "end_time": "2020-12-09T05:34:47.219316",
     "exception": false,
     "start_time": "2020-12-09T05:34:47.176911",
     "status": "completed"
    },
    "tags": []
   },
   "outputs": [
    {
     "data": {
      "text/plain": [
       "'MFHS1'"
      ]
     },
     "execution_count": 18,
     "metadata": {},
     "output_type": "execute_result"
    }
   ],
   "source": [
    "channel"
   ]
  },
  {
   "cell_type": "code",
   "execution_count": 19,
   "metadata": {
    "execution": {
     "iopub.execute_input": "2020-12-09T05:34:47.288397Z",
     "iopub.status.busy": "2020-12-09T05:34:47.287742Z",
     "iopub.status.idle": "2020-12-09T05:34:47.291203Z",
     "shell.execute_reply": "2020-12-09T05:34:47.290697Z"
    },
    "papermill": {
     "duration": 0.040511,
     "end_time": "2020-12-09T05:34:47.291320",
     "exception": false,
     "start_time": "2020-12-09T05:34:47.250809",
     "status": "completed"
    },
    "tags": []
   },
   "outputs": [
    {
     "data": {
      "text/plain": [
       "21"
      ]
     },
     "execution_count": 19,
     "metadata": {},
     "output_type": "execute_result"
    }
   ],
   "source": [
    "from s4_design_sim_tool.noise import get_tube_years\n",
    "tube_years = get_tube_years(config, site, channel)\n",
    "tube_years"
   ]
  },
  {
   "cell_type": "code",
   "execution_count": 20,
   "metadata": {
    "execution": {
     "iopub.execute_input": "2020-12-09T05:34:47.361751Z",
     "iopub.status.busy": "2020-12-09T05:34:47.360643Z",
     "iopub.status.idle": "2020-12-09T05:34:47.367186Z",
     "shell.execute_reply": "2020-12-09T05:34:47.367616Z"
    },
    "papermill": {
     "duration": 0.044131,
     "end_time": "2020-12-09T05:34:47.367762",
     "exception": false,
     "start_time": "2020-12-09T05:34:47.323631",
     "status": "completed"
    },
    "tags": []
   },
   "outputs": [
    {
     "data": {
      "text/plain": [
       "100.11248596396483"
      ]
     },
     "execution_count": 20,
     "metadata": {},
     "output_type": "execute_result"
    }
   ],
   "source": [
    "sampling_rate = hitmap.sum()\n",
    "sampling_rate /= 365.25 * 24 * 3600\n",
    "sampling_rate /= tube_years * config[\"experiment\"][\"observing_efficiency\"]\n",
    "sampling_rate /= s4[channel].attrs[\"detectors_per_tube\"]\n",
    "sampling_rate *= nsplits\n",
    "sampling_rate"
   ]
  },
  {
   "cell_type": "code",
   "execution_count": 21,
   "metadata": {
    "execution": {
     "iopub.execute_input": "2020-12-09T05:34:47.439494Z",
     "iopub.status.busy": "2020-12-09T05:34:47.438842Z",
     "iopub.status.idle": "2020-12-09T05:34:47.441164Z",
     "shell.execute_reply": "2020-12-09T05:34:47.441687Z"
    },
    "papermill": {
     "duration": 0.041191,
     "end_time": "2020-12-09T05:34:47.441833",
     "exception": false,
     "start_time": "2020-12-09T05:34:47.400642",
     "status": "completed"
    },
    "tags": []
   },
   "outputs": [],
   "source": [
    "np.testing.assert_allclose(sampling_rate, sampling_frequency[telescope].value, rtol=1/100)"
   ]
  },
  {
   "cell_type": "code",
   "execution_count": 22,
   "metadata": {
    "execution": {
     "iopub.execute_input": "2020-12-09T05:34:47.511922Z",
     "iopub.status.busy": "2020-12-09T05:34:47.511093Z",
     "iopub.status.idle": "2020-12-09T05:34:48.046806Z",
     "shell.execute_reply": "2020-12-09T05:34:48.047251Z"
    },
    "papermill": {
     "duration": 0.572768,
     "end_time": "2020-12-09T05:34:48.047400",
     "exception": false,
     "start_time": "2020-12-09T05:34:47.474632",
     "status": "completed"
    },
    "tags": []
   },
   "outputs": [
    {
     "name": "stderr",
     "output_type": "stream",
     "text": [
      "/global/homes/z/zonca/condajupynersc/lib/python3.7/site-packages/ipykernel_launcher.py:1: RuntimeWarning: divide by zero encountered in log10\n",
      "  \"\"\"Entry point for launching an IPython kernel.\n",
      "/global/homes/z/zonca/condajupynersc/lib/python3.7/site-packages/healpy/projaxes.py:920: MatplotlibDeprecationWarning: You are modifying the state of a globally registered colormap. In future versions, you will not be able to modify a registered colormap in-place. To remove this warning, you can make a copy of the colormap first. cmap = copy.copy(mpl.cm.get_cmap(\"viridis\"))\n",
      "  newcm.set_over(newcm(1.0))\n",
      "/global/homes/z/zonca/condajupynersc/lib/python3.7/site-packages/healpy/projaxes.py:921: MatplotlibDeprecationWarning: You are modifying the state of a globally registered colormap. In future versions, you will not be able to modify a registered colormap in-place. To remove this warning, you can make a copy of the colormap first. cmap = copy.copy(mpl.cm.get_cmap(\"viridis\"))\n",
      "  newcm.set_under(bgcolor)\n",
      "/global/homes/z/zonca/condajupynersc/lib/python3.7/site-packages/healpy/projaxes.py:922: MatplotlibDeprecationWarning: You are modifying the state of a globally registered colormap. In future versions, you will not be able to modify a registered colormap in-place. To remove this warning, you can make a copy of the colormap first. cmap = copy.copy(mpl.cm.get_cmap(\"viridis\"))\n",
      "  newcm.set_bad(badcolor)\n",
      "/global/homes/z/zonca/condajupynersc/lib/python3.7/site-packages/healpy/projaxes.py:211: MatplotlibDeprecationWarning: Passing parameters norm and vmin/vmax simultaneously is deprecated since 3.3 and will become an error two minor releases later. Please pass vmin/vmax directly to the norm when creating it.\n",
      "  **kwds\n"
     ]
    },
    {
     "data": {
      "image/png": "[encoded data removed]",
      "text/plain": [
       "<Figure size 612x388.8 with 2 Axes>"
      ]
     },
     "metadata": {
      "needs_background": "light"
     },
     "output_type": "display_data"
    }
   ],
   "source": [
    "log_hitmap = np.log10(hitmap)\n",
    "log_hitmap[np.isinf(log_hitmap)] = hp.UNSEEN\n",
    "hp.mollview(log_hitmap, unit=\"log10(samples)\", title=f\"Hitmap {ch}\")\n",
    "plt.savefig(f\"plots/hitmap_{channel}_{site}_1_of_{nsplits}.png\")"
   ]
  },
  {
   "cell_type": "code",
   "execution_count": 23,
   "metadata": {
    "execution": {
     "iopub.execute_input": "2020-12-09T05:34:48.124369Z",
     "iopub.status.busy": "2020-12-09T05:34:48.123785Z",
     "iopub.status.idle": "2020-12-09T05:34:48.385897Z",
     "shell.execute_reply": "2020-12-09T05:34:48.385428Z"
    },
    "papermill": {
     "duration": 0.302968,
     "end_time": "2020-12-09T05:34:48.386017",
     "exception": false,
     "start_time": "2020-12-09T05:34:48.083049",
     "status": "completed"
    },
    "tags": []
   },
   "outputs": [],
   "source": [
    "wcov = hp.read_map(local_path / dataset / ch / f\"cmbs4_wcov_{ch}_nside{nside}_1_of_{nsplits}.fits\", (3))"
   ]
  },
  {
   "cell_type": "code",
   "execution_count": 24,
   "metadata": {
    "execution": {
     "iopub.execute_input": "2020-12-09T05:34:48.460687Z",
     "iopub.status.busy": "2020-12-09T05:34:48.460147Z",
     "iopub.status.idle": "2020-12-09T05:34:48.464391Z",
     "shell.execute_reply": "2020-12-09T05:34:48.463808Z"
    },
    "papermill": {
     "duration": 0.044254,
     "end_time": "2020-12-09T05:34:48.464517",
     "exception": false,
     "start_time": "2020-12-09T05:34:48.420263",
     "status": "completed"
    },
    "tags": []
   },
   "outputs": [
    {
     "data": {
      "text/plain": [
       "(3145728,)"
      ]
     },
     "execution_count": 24,
     "metadata": {},
     "output_type": "execute_result"
    }
   ],
   "source": [
    "wcov.shape"
   ]
  },
  {
   "cell_type": "code",
   "execution_count": 25,
   "metadata": {
    "execution": {
     "iopub.execute_input": "2020-12-09T05:34:48.539077Z",
     "iopub.status.busy": "2020-12-09T05:34:48.538522Z",
     "iopub.status.idle": "2020-12-09T05:34:48.540378Z",
     "shell.execute_reply": "2020-12-09T05:34:48.540782Z"
    },
    "papermill": {
     "duration": 0.041071,
     "end_time": "2020-12-09T05:34:48.540931",
     "exception": false,
     "start_time": "2020-12-09T05:34:48.499860",
     "status": "completed"
    },
    "tags": []
   },
   "outputs": [],
   "source": [
    "import astropy.units as u"
   ]
  },
  {
   "cell_type": "code",
   "execution_count": 26,
   "metadata": {
    "execution": {
     "iopub.execute_input": "2020-12-09T05:34:48.616284Z",
     "iopub.status.busy": "2020-12-09T05:34:48.615749Z",
     "iopub.status.idle": "2020-12-09T05:34:48.618109Z",
     "shell.execute_reply": "2020-12-09T05:34:48.617671Z"
    },
    "papermill": {
     "duration": 0.042294,
     "end_time": "2020-12-09T05:34:48.618223",
     "exception": false,
     "start_time": "2020-12-09T05:34:48.575929",
     "status": "completed"
    },
    "tags": []
   },
   "outputs": [],
   "source": [
    "channel_NET = s4[channel].attrs[\"NET_uKsqrts\"] * u.uK * u.s ** .5"
   ]
  },
  {
   "cell_type": "code",
   "execution_count": 27,
   "metadata": {
    "execution": {
     "iopub.execute_input": "2020-12-09T05:34:48.692899Z",
     "iopub.status.busy": "2020-12-09T05:34:48.692353Z",
     "iopub.status.idle": "2020-12-09T05:34:48.694964Z",
     "shell.execute_reply": "2020-12-09T05:34:48.694493Z"
    },
    "papermill": {
     "duration": 0.04195,
     "end_time": "2020-12-09T05:34:48.695080",
     "exception": false,
     "start_time": "2020-12-09T05:34:48.653130",
     "status": "completed"
    },
    "tags": []
   },
   "outputs": [],
   "source": [
    "if telescope == \"LAT\" and site==\"pole\":\n",
    "    channel_NET = s4[channel].attrs[\"pole_NET_uKsqrts\"] * u.uK * u.s ** .5"
   ]
  },
  {
   "cell_type": "code",
   "execution_count": 28,
   "metadata": {
    "execution": {
     "iopub.execute_input": "2020-12-09T05:34:48.771989Z",
     "iopub.status.busy": "2020-12-09T05:34:48.771458Z",
     "iopub.status.idle": "2020-12-09T05:34:48.833876Z",
     "shell.execute_reply": "2020-12-09T05:34:48.834523Z"
    },
    "papermill": {
     "duration": 0.103417,
     "end_time": "2020-12-09T05:34:48.834718",
     "exception": false,
     "start_time": "2020-12-09T05:34:48.731301",
     "status": "completed"
    },
    "tags": []
   },
   "outputs": [],
   "source": [
    "variance_QQ = wcov * u.K ** 2 * (hitmap / sampling_frequency[telescope]) "
   ]
  },
  {
   "cell_type": "code",
   "execution_count": 29,
   "metadata": {
    "execution": {
     "iopub.execute_input": "2020-12-09T05:34:48.911264Z",
     "iopub.status.busy": "2020-12-09T05:34:48.910698Z",
     "iopub.status.idle": "2020-12-09T05:34:48.920121Z",
     "shell.execute_reply": "2020-12-09T05:34:48.919629Z"
    },
    "papermill": {
     "duration": 0.048709,
     "end_time": "2020-12-09T05:34:48.920240",
     "exception": false,
     "start_time": "2020-12-09T05:34:48.871531",
     "status": "completed"
    },
    "tags": []
   },
   "outputs": [],
   "source": [
    "assert (variance_QQ.value == hp.UNSEEN).sum() == 0"
   ]
  },
  {
   "cell_type": "code",
   "execution_count": 30,
   "metadata": {
    "execution": {
     "iopub.execute_input": "2020-12-09T05:34:49.084849Z",
     "iopub.status.busy": "2020-12-09T05:34:49.084032Z",
     "iopub.status.idle": "2020-12-09T05:34:49.111540Z",
     "shell.execute_reply": "2020-12-09T05:34:49.112144Z"
    },
    "papermill": {
     "duration": 0.094677,
     "end_time": "2020-12-09T05:34:49.112353",
     "exception": false,
     "start_time": "2020-12-09T05:34:49.017676",
     "status": "completed"
    },
    "tags": []
   },
   "outputs": [],
   "source": [
    "full_mission_NET = np.sqrt(np.median(variance_QQ[hitmap != 0]))"
   ]
  },
  {
   "cell_type": "code",
   "execution_count": 31,
   "metadata": {
    "execution": {
     "iopub.execute_input": "2020-12-09T05:34:49.212157Z",
     "iopub.status.busy": "2020-12-09T05:34:49.211597Z",
     "iopub.status.idle": "2020-12-09T05:34:49.214479Z",
     "shell.execute_reply": "2020-12-09T05:34:49.214896Z"
    },
    "papermill": {
     "duration": 0.051276,
     "end_time": "2020-12-09T05:34:49.215046",
     "exception": false,
     "start_time": "2020-12-09T05:34:49.163770",
     "status": "completed"
    },
    "tags": []
   },
   "outputs": [
    {
     "data": {
      "text/latex": [
       "$330.40458 \\; \\mathrm{\\mu K\\,s^{1/2}}$"
      ],
      "text/plain": [
       "<Quantity 330.40458398 s(1/2) uK>"
      ]
     },
     "execution_count": 31,
     "metadata": {},
     "output_type": "execute_result"
    }
   ],
   "source": [
    "full_mission_NET.to(channel_NET.unit)"
   ]
  },
  {
   "cell_type": "code",
   "execution_count": 32,
   "metadata": {
    "execution": {
     "iopub.execute_input": "2020-12-09T05:34:49.297283Z",
     "iopub.status.busy": "2020-12-09T05:34:49.296741Z",
     "iopub.status.idle": "2020-12-09T05:34:49.300270Z",
     "shell.execute_reply": "2020-12-09T05:34:49.299825Z"
    },
    "papermill": {
     "duration": 0.046942,
     "end_time": "2020-12-09T05:34:49.300386",
     "exception": false,
     "start_time": "2020-12-09T05:34:49.253444",
     "status": "completed"
    },
    "tags": []
   },
   "outputs": [
    {
     "data": {
      "text/latex": [
       "$238 \\; \\mathrm{\\mu K\\,s^{1/2}}$"
      ],
      "text/plain": [
       "<Quantity 238. s(1/2) uK>"
      ]
     },
     "execution_count": 32,
     "metadata": {},
     "output_type": "execute_result"
    }
   ],
   "source": [
    "channel_NET"
   ]
  },
  {
   "cell_type": "code",
   "execution_count": 33,
   "metadata": {
    "execution": {
     "iopub.execute_input": "2020-12-09T05:34:49.402371Z",
     "iopub.status.busy": "2020-12-09T05:34:49.401473Z",
     "iopub.status.idle": "2020-12-09T05:34:49.404594Z",
     "shell.execute_reply": "2020-12-09T05:34:49.405087Z"
    },
    "papermill": {
     "duration": 0.065892,
     "end_time": "2020-12-09T05:34:49.405252",
     "exception": false,
     "start_time": "2020-12-09T05:34:49.339360",
     "status": "completed"
    },
    "tags": []
   },
   "outputs": [
    {
     "data": {
      "text/latex": [
       "$233.63132 \\; \\mathrm{\\mu K\\,s^{1/2}}$"
      ],
      "text/plain": [
       "<Quantity 233.63132187 s(1/2) uK>"
      ]
     },
     "execution_count": 33,
     "metadata": {},
     "output_type": "execute_result"
    }
   ],
   "source": [
    "(full_mission_NET/np.sqrt(2)).to(channel_NET.unit)"
   ]
  },
  {
   "cell_type": "code",
   "execution_count": 34,
   "metadata": {
    "execution": {
     "iopub.execute_input": "2020-12-09T05:34:49.487266Z",
     "iopub.status.busy": "2020-12-09T05:34:49.486718Z",
     "iopub.status.idle": "2020-12-09T05:34:49.488552Z",
     "shell.execute_reply": "2020-12-09T05:34:49.489052Z"
    },
    "papermill": {
     "duration": 0.044752,
     "end_time": "2020-12-09T05:34:49.489196",
     "exception": false,
     "start_time": "2020-12-09T05:34:49.444444",
     "status": "completed"
    },
    "tags": []
   },
   "outputs": [],
   "source": [
    "assert_quantity_allclose(full_mission_NET, channel_NET*np.sqrt(2), rtol=10/100) "
   ]
  },
  {
   "cell_type": "code",
   "execution_count": 35,
   "metadata": {
    "execution": {
     "iopub.execute_input": "2020-12-09T05:34:49.579509Z",
     "iopub.status.busy": "2020-12-09T05:34:49.578840Z",
     "iopub.status.idle": "2020-12-09T05:34:49.589945Z",
     "shell.execute_reply": "2020-12-09T05:34:49.589375Z"
    },
    "papermill": {
     "duration": 0.057788,
     "end_time": "2020-12-09T05:34:49.590074",
     "exception": false,
     "start_time": "2020-12-09T05:34:49.532286",
     "status": "completed"
    },
    "tags": []
   },
   "outputs": [],
   "source": [
    "sky_fraction = (hitmap > 0).sum() / len(hitmap)"
   ]
  },
  {
   "cell_type": "code",
   "execution_count": 36,
   "metadata": {
    "execution": {
     "iopub.execute_input": "2020-12-09T05:34:49.678887Z",
     "iopub.status.busy": "2020-12-09T05:34:49.678316Z",
     "iopub.status.idle": "2020-12-09T05:34:49.681359Z",
     "shell.execute_reply": "2020-12-09T05:34:49.680910Z"
    },
    "papermill": {
     "duration": 0.047272,
     "end_time": "2020-12-09T05:34:49.681475",
     "exception": false,
     "start_time": "2020-12-09T05:34:49.634203",
     "status": "completed"
    },
    "tags": []
   },
   "outputs": [
    {
     "data": {
      "text/plain": [
       "0.44712352752685547"
      ]
     },
     "execution_count": 36,
     "metadata": {},
     "output_type": "execute_result"
    }
   ],
   "source": [
    "sky_fraction"
   ]
  },
  {
   "cell_type": "code",
   "execution_count": 37,
   "metadata": {
    "execution": {
     "iopub.execute_input": "2020-12-09T05:34:49.779827Z",
     "iopub.status.busy": "2020-12-09T05:34:49.779164Z",
     "iopub.status.idle": "2020-12-09T05:34:49.781456Z",
     "shell.execute_reply": "2020-12-09T05:34:49.780920Z"
    },
    "papermill": {
     "duration": 0.056141,
     "end_time": "2020-12-09T05:34:49.781591",
     "exception": false,
     "start_time": "2020-12-09T05:34:49.725450",
     "status": "completed"
    },
    "tags": []
   },
   "outputs": [],
   "source": [
    "pixarea = hp.nside2pixarea(nside)"
   ]
  },
  {
   "cell_type": "code",
   "execution_count": 38,
   "metadata": {
    "execution": {
     "iopub.execute_input": "2020-12-09T05:34:49.876679Z",
     "iopub.status.busy": "2020-12-09T05:34:49.876023Z",
     "iopub.status.idle": "2020-12-09T05:34:49.888225Z",
     "shell.execute_reply": "2020-12-09T05:34:49.887764Z"
    },
    "papermill": {
     "duration": 0.063961,
     "end_time": "2020-12-09T05:34:49.888348",
     "exception": false,
     "start_time": "2020-12-09T05:34:49.824387",
     "status": "completed"
    },
    "tags": []
   },
   "outputs": [
    {
     "data": {
      "text/plain": [
       "7.691728068925443e-17"
      ]
     },
     "execution_count": 38,
     "metadata": {},
     "output_type": "execute_result"
    }
   ],
   "source": [
    "np.mean(wcov[hitmap > 0])* pixarea"
   ]
  },
  {
   "cell_type": "code",
   "execution_count": 39,
   "metadata": {
    "execution": {
     "iopub.execute_input": "2020-12-09T05:34:49.982731Z",
     "iopub.status.busy": "2020-12-09T05:34:49.982119Z",
     "iopub.status.idle": "2020-12-09T05:34:49.992288Z",
     "shell.execute_reply": "2020-12-09T05:34:49.991728Z"
    },
    "papermill": {
     "duration": 0.061032,
     "end_time": "2020-12-09T05:34:49.992421",
     "exception": false,
     "start_time": "2020-12-09T05:34:49.931389",
     "status": "completed"
    },
    "tags": []
   },
   "outputs": [],
   "source": [
    "wcov [ wcov == hp.UNSEEN] = 0"
   ]
  },
  {
   "cell_type": "markdown",
   "metadata": {
    "papermill": {
     "duration": 0.04943,
     "end_time": "2020-12-09T05:34:50.089779",
     "exception": false,
     "start_time": "2020-12-09T05:34:50.040349",
     "status": "completed"
    },
    "tags": []
   },
   "source": [
    "## Atmosphere"
   ]
  },
  {
   "cell_type": "code",
   "execution_count": 40,
   "metadata": {
    "execution": {
     "iopub.execute_input": "2020-12-09T05:34:50.209178Z",
     "iopub.status.busy": "2020-12-09T05:34:50.207967Z",
     "iopub.status.idle": "2020-12-09T05:34:50.209802Z",
     "shell.execute_reply": "2020-12-09T05:34:50.208552Z"
    },
    "papermill": {
     "duration": 0.066359,
     "end_time": "2020-12-09T05:34:50.209933",
     "exception": false,
     "start_time": "2020-12-09T05:34:50.143574",
     "status": "completed"
    },
    "tags": []
   },
   "outputs": [],
   "source": [
    "atmosphere_filename = Path(base_folder) / \"00000000\" / f\"{site}_atmosphere_{telescope}_{channel}_filtered_telescope_all_time_all_bmap.fits\""
   ]
  },
  {
   "cell_type": "code",
   "execution_count": 41,
   "metadata": {
    "execution": {
     "iopub.execute_input": "2020-12-09T05:34:50.308295Z",
     "iopub.status.busy": "2020-12-09T05:34:50.307564Z",
     "iopub.status.idle": "2020-12-09T05:34:51.337686Z",
     "shell.execute_reply": "2020-12-09T05:34:51.338331Z"
    },
    "papermill": {
     "duration": 1.084386,
     "end_time": "2020-12-09T05:34:51.338547",
     "exception": false,
     "start_time": "2020-12-09T05:34:50.254161",
     "status": "completed"
    },
    "tags": []
   },
   "outputs": [
    {
     "name": "stderr",
     "output_type": "stream",
     "text": [
      "/global/homes/z/zonca/condajupynersc/lib/python3.7/site-packages/healpy/fitsfunc.py:400: UserWarning: ORDERING = NESTED in fits file\n",
      "  warnings.warn(\"ORDERING = {0:s} in fits file\".format(ordering))\n",
      "/global/homes/z/zonca/condajupynersc/lib/python3.7/site-packages/healpy/fitsfunc.py:486: UserWarning: Ordering converted to RING\n",
      "  warnings.warn(\"Ordering converted to RING\")\n"
     ]
    }
   ],
   "source": [
    "input_atmophere = hp.ma(hp.read_map(atmosphere_filename, (0,1,2)))"
   ]
  },
  {
   "cell_type": "code",
   "execution_count": 42,
   "metadata": {
    "execution": {
     "iopub.execute_input": "2020-12-09T05:34:51.442138Z",
     "iopub.status.busy": "2020-12-09T05:34:51.441543Z",
     "iopub.status.idle": "2020-12-09T05:34:51.528826Z",
     "shell.execute_reply": "2020-12-09T05:34:51.529279Z"
    },
    "papermill": {
     "duration": 0.13471,
     "end_time": "2020-12-09T05:34:51.529436",
     "exception": false,
     "start_time": "2020-12-09T05:34:51.394726",
     "status": "completed"
    },
    "tags": []
   },
   "outputs": [],
   "source": [
    "sqrt_hitmap = hitmap.copy()\n",
    "sqrt_hitmap[hitmap>0] = np.sqrt(hitmap[hitmap>0])"
   ]
  },
  {
   "cell_type": "code",
   "execution_count": 43,
   "metadata": {
    "execution": {
     "iopub.execute_input": "2020-12-09T05:34:51.615642Z",
     "iopub.status.busy": "2020-12-09T05:34:51.615064Z",
     "iopub.status.idle": "2020-12-09T05:34:54.787294Z",
     "shell.execute_reply": "2020-12-09T05:34:54.787791Z"
    },
    "papermill": {
     "duration": 3.217117,
     "end_time": "2020-12-09T05:34:54.787951",
     "exception": false,
     "start_time": "2020-12-09T05:34:51.570834",
     "status": "completed"
    },
    "tags": []
   },
   "outputs": [],
   "source": [
    "atmo_cl = \\\n",
    "hp.anafast(input_atmophere * sqrt_hitmap, use_pixel_weights=True) / np.mean(hitmap) # / sky_fraction"
   ]
  },
  {
   "cell_type": "code",
   "execution_count": 44,
   "metadata": {
    "execution": {
     "iopub.execute_input": "2020-12-09T05:34:54.889126Z",
     "iopub.status.busy": "2020-12-09T05:34:54.888523Z",
     "iopub.status.idle": "2020-12-09T05:34:54.891301Z",
     "shell.execute_reply": "2020-12-09T05:34:54.891984Z"
    },
    "papermill": {
     "duration": 0.054377,
     "end_time": "2020-12-09T05:34:54.892206",
     "exception": false,
     "start_time": "2020-12-09T05:34:54.837829",
     "status": "completed"
    },
    "tags": []
   },
   "outputs": [],
   "source": [
    "from s4_design_sim_tool.atmosphere import get_telecope_years"
   ]
  },
  {
   "cell_type": "code",
   "execution_count": 45,
   "metadata": {
    "execution": {
     "iopub.execute_input": "2020-12-09T05:34:54.981362Z",
     "iopub.status.busy": "2020-12-09T05:34:54.980834Z",
     "iopub.status.idle": "2020-12-09T05:34:54.982931Z",
     "shell.execute_reply": "2020-12-09T05:34:54.983402Z"
    },
    "papermill": {
     "duration": 0.045532,
     "end_time": "2020-12-09T05:34:54.983551",
     "exception": false,
     "start_time": "2020-12-09T05:34:54.938019",
     "status": "completed"
    },
    "tags": []
   },
   "outputs": [],
   "source": [
    "telescope_years = get_telecope_years(config, site, channel)"
   ]
  },
  {
   "cell_type": "code",
   "execution_count": 46,
   "metadata": {
    "execution": {
     "iopub.execute_input": "2020-12-09T05:34:55.073910Z",
     "iopub.status.busy": "2020-12-09T05:34:55.073052Z",
     "iopub.status.idle": "2020-12-09T05:34:55.076047Z",
     "shell.execute_reply": "2020-12-09T05:34:55.076509Z"
    },
    "papermill": {
     "duration": 0.048833,
     "end_time": "2020-12-09T05:34:55.076667",
     "exception": false,
     "start_time": "2020-12-09T05:34:55.027834",
     "status": "completed"
    },
    "tags": []
   },
   "outputs": [
    {
     "data": {
      "text/plain": [
       "7"
      ]
     },
     "execution_count": 46,
     "metadata": {},
     "output_type": "execute_result"
    }
   ],
   "source": [
    "telescope_years"
   ]
  },
  {
   "cell_type": "code",
   "execution_count": 47,
   "metadata": {
    "execution": {
     "iopub.execute_input": "2020-12-09T05:34:55.173768Z",
     "iopub.status.busy": "2020-12-09T05:34:55.173172Z",
     "iopub.status.idle": "2020-12-09T05:34:55.175542Z",
     "shell.execute_reply": "2020-12-09T05:34:55.174997Z"
    },
    "papermill": {
     "duration": 0.051789,
     "end_time": "2020-12-09T05:34:55.175654",
     "exception": false,
     "start_time": "2020-12-09T05:34:55.123865",
     "status": "completed"
    },
    "tags": []
   },
   "outputs": [],
   "source": [
    "from s4_design_sim_tool.core import simulations_observing_efficiency"
   ]
  },
  {
   "cell_type": "code",
   "execution_count": 48,
   "metadata": {
    "execution": {
     "iopub.execute_input": "2020-12-09T05:34:55.271775Z",
     "iopub.status.busy": "2020-12-09T05:34:55.271212Z",
     "iopub.status.idle": "2020-12-09T05:34:55.275060Z",
     "shell.execute_reply": "2020-12-09T05:34:55.274536Z"
    },
    "papermill": {
     "duration": 0.054179,
     "end_time": "2020-12-09T05:34:55.275173",
     "exception": false,
     "start_time": "2020-12-09T05:34:55.220994",
     "status": "completed"
    },
    "tags": []
   },
   "outputs": [
    {
     "data": {
      "text/plain": [
       "{'pole': {'SAT': 0.3931149305555555, 'LAT': 0.321544537037037},\n",
       " 'chile': {'SAT': 0.8656164351851852, 'LAT': 0.917306712962963}}"
      ]
     },
     "execution_count": 48,
     "metadata": {},
     "output_type": "execute_result"
    }
   ],
   "source": [
    "simulations_observing_efficiency"
   ]
  },
  {
   "cell_type": "code",
   "execution_count": 49,
   "metadata": {
    "execution": {
     "iopub.execute_input": "2020-12-09T05:34:55.367250Z",
     "iopub.status.busy": "2020-12-09T05:34:55.366671Z",
     "iopub.status.idle": "2020-12-09T05:34:55.369502Z",
     "shell.execute_reply": "2020-12-09T05:34:55.368934Z"
    },
    "papermill": {
     "duration": 0.049888,
     "end_time": "2020-12-09T05:34:55.369619",
     "exception": false,
     "start_time": "2020-12-09T05:34:55.319731",
     "status": "completed"
    },
    "tags": []
   },
   "outputs": [],
   "source": [
    "atmo_cl *= 10 / 365.25\n",
    "atmo_cl *= simulations_observing_efficiency[site.lower()].get(telescope, 1) / config[\"experiment\"][\"observing_efficiency\"]                                                                    \n",
    "atmo_cl /= telescope_years"
   ]
  },
  {
   "cell_type": "markdown",
   "metadata": {
    "papermill": {
     "duration": 0.042974,
     "end_time": "2020-12-09T05:34:55.456797",
     "exception": false,
     "start_time": "2020-12-09T05:34:55.413823",
     "status": "completed"
    },
    "tags": []
   },
   "source": [
    "## Noise"
   ]
  },
  {
   "cell_type": "code",
   "execution_count": 50,
   "metadata": {
    "execution": {
     "iopub.execute_input": "2020-12-09T05:34:55.548257Z",
     "iopub.status.busy": "2020-12-09T05:34:55.547696Z",
     "iopub.status.idle": "2020-12-09T05:34:55.549722Z",
     "shell.execute_reply": "2020-12-09T05:34:55.550171Z"
    },
    "papermill": {
     "duration": 0.051235,
     "end_time": "2020-12-09T05:34:55.550315",
     "exception": false,
     "start_time": "2020-12-09T05:34:55.499080",
     "status": "completed"
    },
    "tags": []
   },
   "outputs": [],
   "source": [
    "noise_filename = Path(base_folder) / \"00000000\" / f\"{site}_noise_{telescope}_{channel}_filtered_telescope_all_time_all_bmap.fits\""
   ]
  },
  {
   "cell_type": "code",
   "execution_count": 51,
   "metadata": {
    "execution": {
     "iopub.execute_input": "2020-12-09T05:34:55.635562Z",
     "iopub.status.busy": "2020-12-09T05:34:55.635016Z",
     "iopub.status.idle": "2020-12-09T05:34:55.636677Z",
     "shell.execute_reply": "2020-12-09T05:34:55.637201Z"
    },
    "papermill": {
     "duration": 0.046184,
     "end_time": "2020-12-09T05:34:55.637361",
     "exception": false,
     "start_time": "2020-12-09T05:34:55.591177",
     "status": "completed"
    },
    "tags": []
   },
   "outputs": [],
   "source": [
    "#input_noise = hp.ma(hp.read_map(noise_filename, (0,1,2)))"
   ]
  },
  {
   "cell_type": "code",
   "execution_count": 52,
   "metadata": {
    "execution": {
     "iopub.execute_input": "2020-12-09T05:34:55.727419Z",
     "iopub.status.busy": "2020-12-09T05:34:55.726855Z",
     "iopub.status.idle": "2020-12-09T05:34:55.729544Z",
     "shell.execute_reply": "2020-12-09T05:34:55.729036Z"
    },
    "papermill": {
     "duration": 0.051603,
     "end_time": "2020-12-09T05:34:55.729661",
     "exception": false,
     "start_time": "2020-12-09T05:34:55.678058",
     "status": "completed"
    },
    "tags": []
   },
   "outputs": [],
   "source": [
    "#noise_cl = hp.anafast(input_noise * sqrt_hitmap, use_pixel_weights=True) / np.mean(hitmap) / sky_fraction"
   ]
  },
  {
   "cell_type": "code",
   "execution_count": 53,
   "metadata": {
    "execution": {
     "iopub.execute_input": "2020-12-09T05:34:55.818011Z",
     "iopub.status.busy": "2020-12-09T05:34:55.817408Z",
     "iopub.status.idle": "2020-12-09T05:34:55.820180Z",
     "shell.execute_reply": "2020-12-09T05:34:55.819716Z"
    },
    "papermill": {
     "duration": 0.049956,
     "end_time": "2020-12-09T05:34:55.820304",
     "exception": false,
     "start_time": "2020-12-09T05:34:55.770348",
     "status": "completed"
    },
    "tags": []
   },
   "outputs": [],
   "source": [
    "del sqrt_hitmap"
   ]
  },
  {
   "cell_type": "code",
   "execution_count": 54,
   "metadata": {
    "execution": {
     "iopub.execute_input": "2020-12-09T05:34:55.915742Z",
     "iopub.status.busy": "2020-12-09T05:34:55.915118Z",
     "iopub.status.idle": "2020-12-09T05:34:55.917143Z",
     "shell.execute_reply": "2020-12-09T05:34:55.917603Z"
    },
    "papermill": {
     "duration": 0.055198,
     "end_time": "2020-12-09T05:34:55.917770",
     "exception": false,
     "start_time": "2020-12-09T05:34:55.862572",
     "status": "completed"
    },
    "tags": []
   },
   "outputs": [],
   "source": [
    "from s4_design_sim_tool.noise import get_thinfp\n",
    "thinfp = get_thinfp(channel)"
   ]
  },
  {
   "cell_type": "code",
   "execution_count": 55,
   "metadata": {
    "execution": {
     "iopub.execute_input": "2020-12-09T05:34:56.013258Z",
     "iopub.status.busy": "2020-12-09T05:34:56.012635Z",
     "iopub.status.idle": "2020-12-09T05:34:56.016173Z",
     "shell.execute_reply": "2020-12-09T05:34:56.015642Z"
    },
    "papermill": {
     "duration": 0.055078,
     "end_time": "2020-12-09T05:34:56.016299",
     "exception": false,
     "start_time": "2020-12-09T05:34:55.961221",
     "status": "completed"
    },
    "tags": []
   },
   "outputs": [
    {
     "data": {
      "text/html": [
       "&lt;Column name=&apos;thinfp&apos; dtype=&apos;int64&apos; length=1&gt;\n",
       "<table>\n",
       "<tr><td>4</td></tr>\n",
       "</table>"
      ],
      "text/plain": [
       "<Column name='thinfp' dtype='int64' length=1>\n",
       "4"
      ]
     },
     "execution_count": 55,
     "metadata": {},
     "output_type": "execute_result"
    }
   ],
   "source": [
    "thinfp"
   ]
  },
  {
   "cell_type": "code",
   "execution_count": 56,
   "metadata": {
    "execution": {
     "iopub.execute_input": "2020-12-09T05:34:56.110084Z",
     "iopub.status.busy": "2020-12-09T05:34:56.109253Z",
     "iopub.status.idle": "2020-12-09T05:34:56.111486Z",
     "shell.execute_reply": "2020-12-09T05:34:56.112015Z"
    },
    "papermill": {
     "duration": 0.051527,
     "end_time": "2020-12-09T05:34:56.112175",
     "exception": false,
     "start_time": "2020-12-09T05:34:56.060648",
     "status": "completed"
    },
    "tags": []
   },
   "outputs": [],
   "source": [
    "#noise_cl *= 10 / 365.25\n",
    "#noise_cl *= simulations_observing_efficiency[site.lower()].get(telescope, 1) / config[\"experiment\"][\"observing_efficiency\"]                                                                    \n",
    "#noise_cl /= tube_years\n",
    "#noise_cl /= thinfp"
   ]
  },
  {
   "cell_type": "code",
   "execution_count": 57,
   "metadata": {
    "execution": {
     "iopub.execute_input": "2020-12-09T05:34:56.207614Z",
     "iopub.status.busy": "2020-12-09T05:34:56.207013Z",
     "iopub.status.idle": "2020-12-09T05:34:56.230108Z",
     "shell.execute_reply": "2020-12-09T05:34:56.229565Z"
    },
    "papermill": {
     "duration": 0.072632,
     "end_time": "2020-12-09T05:34:56.230234",
     "exception": false,
     "start_time": "2020-12-09T05:34:56.157602",
     "status": "completed"
    },
    "tags": []
   },
   "outputs": [],
   "source": [
    "white_noise_Cl = channel_NET**2 \\\n",
    "/ (hitmap.sum() / sampling_frequency[telescope] / (hitmap>0).sum()) * pixarea # / sky_fraction"
   ]
  },
  {
   "cell_type": "code",
   "execution_count": 58,
   "metadata": {
    "execution": {
     "iopub.execute_input": "2020-12-09T05:34:56.327978Z",
     "iopub.status.busy": "2020-12-09T05:34:56.327359Z",
     "iopub.status.idle": "2020-12-09T05:34:56.330935Z",
     "shell.execute_reply": "2020-12-09T05:34:56.330439Z"
    },
    "papermill": {
     "duration": 0.058612,
     "end_time": "2020-12-09T05:34:56.331063",
     "exception": false,
     "start_time": "2020-12-09T05:34:56.272451",
     "status": "completed"
    },
    "tags": []
   },
   "outputs": [
    {
     "data": {
      "text/latex": [
       "$6.7450946 \\times 10^{-19} \\; \\mathrm{K^{2}}$"
      ],
      "text/plain": [
       "<Quantity 6.74509461e-19 K2>"
      ]
     },
     "execution_count": 58,
     "metadata": {},
     "output_type": "execute_result"
    }
   ],
   "source": [
    "white_noise_Cl.decompose()"
   ]
  },
  {
   "cell_type": "code",
   "execution_count": 59,
   "metadata": {
    "execution": {
     "iopub.execute_input": "2020-12-09T05:34:56.425489Z",
     "iopub.status.busy": "2020-12-09T05:34:56.424882Z",
     "iopub.status.idle": "2020-12-09T05:34:57.223533Z",
     "shell.execute_reply": "2020-12-09T05:34:57.223982Z"
    },
    "papermill": {
     "duration": 0.850178,
     "end_time": "2020-12-09T05:34:57.224131",
     "exception": false,
     "start_time": "2020-12-09T05:34:56.373953",
     "status": "completed"
    },
    "tags": []
   },
   "outputs": [],
   "source": [
    "import seaborn as sns"
   ]
  },
  {
   "cell_type": "code",
   "execution_count": 60,
   "metadata": {
    "execution": {
     "iopub.execute_input": "2020-12-09T05:34:57.335889Z",
     "iopub.status.busy": "2020-12-09T05:34:57.335327Z",
     "iopub.status.idle": "2020-12-09T05:34:57.337238Z",
     "shell.execute_reply": "2020-12-09T05:34:57.337676Z"
    },
    "papermill": {
     "duration": 0.058441,
     "end_time": "2020-12-09T05:34:57.337839",
     "exception": false,
     "start_time": "2020-12-09T05:34:57.279398",
     "status": "completed"
    },
    "tags": []
   },
   "outputs": [],
   "source": [
    "sns.set_style(\"whitegrid\")"
   ]
  },
  {
   "cell_type": "code",
   "execution_count": 61,
   "metadata": {
    "execution": {
     "iopub.execute_input": "2020-12-09T05:34:57.447401Z",
     "iopub.status.busy": "2020-12-09T05:34:57.446760Z",
     "iopub.status.idle": "2020-12-09T05:34:59.999747Z",
     "shell.execute_reply": "2020-12-09T05:35:00.000319Z"
    },
    "papermill": {
     "duration": 2.618356,
     "end_time": "2020-12-09T05:35:00.000484",
     "exception": false,
     "start_time": "2020-12-09T05:34:57.382128",
     "status": "completed"
    },
    "tags": []
   },
   "outputs": [
    {
     "data": {
      "image/png": "[encoded data removed]",
      "text/plain": [
       "<Figure size 576x360 with 1 Axes>"
      ]
     },
     "metadata": {},
     "output_type": "display_data"
    }
   ],
   "source": [
    "plt.figure(figsize=(8,5))\n",
    "\n",
    "pols = [\"TT\", \"EE\", \"BB\"]\n",
    "\n",
    "for i, pol in enumerate(pols):\n",
    "    for split in range(1, nsplits+1):\n",
    "        plt.loglog(C_ell[ch][split][i], alpha=.8, label=pol)\n",
    "\n",
    "for i, pol in enumerate(pols):\n",
    "    plt.loglog(atmo_cl[i]*nsplits, alpha=.8, ls=\"--\", label=f\"atmo {pol}\")\n",
    "\n",
    "#for i, pol in enumerate(pols):\n",
    "#    plt.loglog(noise_cl[i], alpha=.8, ls=\"-.\", label=f\"noise {pol}\")\n",
    "\n",
    "plt.axhline(white_noise_Cl.to_value(u.K**2), ls=\":\",\n",
    "           label=\"white noise T\", color=\"black\")\n",
    "plt.axhline(white_noise_Cl.to_value(u.K**2)*2, ls=\":\",\n",
    "           label=\"white noise P\", color=\"grey\")\n",
    "plt.legend()\n",
    "plt.title(f\"Noise + Atmosphere simulations spectra for {ch}\")\n",
    "plt.ylabel(\"$C_\\ell [K^2]$\")\n",
    "plt.xlabel(\"$\\ell$\")\n",
    "plt.xlim((10, 3*nside))\n",
    "plt.grid(True)\n",
    "plt.savefig(f\"plots/C_ell_{dataset}_{ch}_{nsplits}.png\");"
   ]
  },
  {
   "cell_type": "code",
   "execution_count": null,
   "metadata": {
    "papermill": {
     "duration": 0.045999,
     "end_time": "2020-12-09T05:35:00.095381",
     "exception": false,
     "start_time": "2020-12-09T05:35:00.049382",
     "status": "completed"
    },
    "tags": []
   },
   "outputs": [],
   "source": []
  }
 ],
 "metadata": {
  "kernelspec": {
   "display_name": "condajupynersc",
   "language": "python",
   "name": "condajupynersc"
  },
  "language_info": {
   "codemirror_mode": {
    "name": "ipython",
    "version": 3
   },
   "file_extension": ".py",
   "mimetype": "text/x-python",
   "name": "python",
   "nbconvert_exporter": "python",
   "pygments_lexer": "ipython3",
   "version": "3.7.0"
  },
  "papermill": {
   "duration": 18.348108,
   "end_time": "2020-12-09T05:35:00.854620",
   "environment_variables": {},
   "exception": null,
   "input_path": "validation_atmo_noise_dec_2020.ipynb",
   "output_path": "validation_notebooks/SAT-MFHS1_chile_1.ipynb",
   "parameters": {
    "ch": "SAT-MFHS1_chile",
    "nsplits": 1
   },
   "start_time": "2020-12-09T05:34:42.506512",
   "version": "2.1.2"
  }
 },
 "nbformat": 4,
 "nbformat_minor": 4
}