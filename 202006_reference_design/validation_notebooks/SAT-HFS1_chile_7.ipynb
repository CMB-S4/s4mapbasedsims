{
 "cells": [
  {
   "cell_type": "code",
   "execution_count": 1,
   "metadata": {
    "execution": {
     "iopub.execute_input": "2020-12-09T06:00:34.504131Z",
     "iopub.status.busy": "2020-12-09T06:00:34.503523Z",
     "iopub.status.idle": "2020-12-09T06:00:36.127831Z",
     "shell.execute_reply": "2020-12-09T06:00:36.128258Z"
    },
    "papermill": {
     "duration": 1.657602,
     "end_time": "2020-12-09T06:00:36.128499",
     "exception": false,
     "start_time": "2020-12-09T06:00:34.470897",
     "status": "completed"
    },
    "tags": []
   },
   "outputs": [],
   "source": [
    "import healpy as hp\n",
    "import numpy as np\n",
    "%matplotlib inline\n",
    "import matplotlib.pyplot as plt\n",
    "from pathlib import Path\n",
    "from astropy.tests.helper import assert_quantity_allclose\n",
    "import pickle\n",
    "import sys\n",
    "import os\n",
    "from astropy import units as u"
   ]
  },
  {
   "cell_type": "code",
   "execution_count": 2,
   "metadata": {
    "execution": {
     "iopub.execute_input": "2020-12-09T06:00:36.192636Z",
     "iopub.status.busy": "2020-12-09T06:00:36.191612Z",
     "iopub.status.idle": "2020-12-09T06:00:36.259966Z",
     "shell.execute_reply": "2020-12-09T06:00:36.259331Z"
    },
    "papermill": {
     "duration": 0.104805,
     "end_time": "2020-12-09T06:00:36.260103",
     "exception": false,
     "start_time": "2020-12-09T06:00:36.155298",
     "status": "completed"
    },
    "tags": []
   },
   "outputs": [],
   "source": [
    "import h5py\n",
    "s4 = h5py.File(\"cmbs4_tophat.h5\", mode=\"r\")"
   ]
  },
  {
   "cell_type": "code",
   "execution_count": 3,
   "metadata": {
    "execution": {
     "iopub.execute_input": "2020-12-09T06:00:36.316055Z",
     "iopub.status.busy": "2020-12-09T06:00:36.315439Z",
     "iopub.status.idle": "2020-12-09T06:00:36.317875Z",
     "shell.execute_reply": "2020-12-09T06:00:36.317433Z"
    },
    "papermill": {
     "duration": 0.031424,
     "end_time": "2020-12-09T06:00:36.317967",
     "exception": false,
     "start_time": "2020-12-09T06:00:36.286543",
     "status": "completed"
    },
    "tags": []
   },
   "outputs": [],
   "source": [
    "dataset = \"s4_reference_design_noise_atmo_7splits\""
   ]
  },
  {
   "cell_type": "code",
   "execution_count": 4,
   "metadata": {
    "execution": {
     "iopub.execute_input": "2020-12-09T06:00:36.374118Z",
     "iopub.status.busy": "2020-12-09T06:00:36.373575Z",
     "iopub.status.idle": "2020-12-09T06:00:36.376010Z",
     "shell.execute_reply": "2020-12-09T06:00:36.375514Z"
    },
    "papermill": {
     "duration": 0.032885,
     "end_time": "2020-12-09T06:00:36.376130",
     "exception": false,
     "start_time": "2020-12-09T06:00:36.343245",
     "status": "completed"
    },
    "tags": [
     "parameters"
    ]
   },
   "outputs": [],
   "source": [
    "ch = f\"SAT-HFS1_chile\"\n",
    "nsplits = 1"
   ]
  },
  {
   "cell_type": "code",
   "execution_count": 5,
   "metadata": {
    "execution": {
     "iopub.execute_input": "2020-12-09T06:00:36.467597Z",
     "iopub.status.busy": "2020-12-09T06:00:36.467006Z",
     "iopub.status.idle": "2020-12-09T06:00:36.469176Z",
     "shell.execute_reply": "2020-12-09T06:00:36.468756Z"
    },
    "papermill": {
     "duration": 0.061495,
     "end_time": "2020-12-09T06:00:36.469277",
     "exception": false,
     "start_time": "2020-12-09T06:00:36.407782",
     "status": "completed"
    },
    "tags": [
     "injected-parameters"
    ]
   },
   "outputs": [],
   "source": [
    "# Parameters\n",
    "ch = \"SAT-HFS1_chile\"\n",
    "nsplits = 7\n"
   ]
  },
  {
   "cell_type": "code",
   "execution_count": 6,
   "metadata": {
    "execution": {
     "iopub.execute_input": "2020-12-09T06:00:36.530804Z",
     "iopub.status.busy": "2020-12-09T06:00:36.530195Z",
     "iopub.status.idle": "2020-12-09T06:00:36.533463Z",
     "shell.execute_reply": "2020-12-09T06:00:36.533039Z"
    },
    "papermill": {
     "duration": 0.037176,
     "end_time": "2020-12-09T06:00:36.533568",
     "exception": false,
     "start_time": "2020-12-09T06:00:36.496392",
     "status": "completed"
    },
    "tags": []
   },
   "outputs": [],
   "source": [
    "if os.path.exists(f\"plots/C_ell_{dataset}_{ch}_{nsplits}.png\"):\n",
    "    sys.exit(0)"
   ]
  },
  {
   "cell_type": "code",
   "execution_count": 7,
   "metadata": {
    "execution": {
     "iopub.execute_input": "2020-12-09T06:00:36.590443Z",
     "iopub.status.busy": "2020-12-09T06:00:36.589863Z",
     "iopub.status.idle": "2020-12-09T06:00:36.592139Z",
     "shell.execute_reply": "2020-12-09T06:00:36.591689Z"
    },
    "papermill": {
     "duration": 0.032145,
     "end_time": "2020-12-09T06:00:36.592248",
     "exception": false,
     "start_time": "2020-12-09T06:00:36.560103",
     "status": "completed"
    },
    "tags": []
   },
   "outputs": [],
   "source": [
    "sampling_frequency = dict(SAT=100*u.Hz, LAT=400*u.Hz)"
   ]
  },
  {
   "cell_type": "code",
   "execution_count": 8,
   "metadata": {
    "execution": {
     "iopub.execute_input": "2020-12-09T06:00:36.650928Z",
     "iopub.status.busy": "2020-12-09T06:00:36.650287Z",
     "iopub.status.idle": "2020-12-09T06:00:36.652042Z",
     "shell.execute_reply": "2020-12-09T06:00:36.652455Z"
    },
    "papermill": {
     "duration": 0.033143,
     "end_time": "2020-12-09T06:00:36.652583",
     "exception": false,
     "start_time": "2020-12-09T06:00:36.619440",
     "status": "completed"
    },
    "tags": []
   },
   "outputs": [],
   "source": [
    "#telescope = \"SAT\"\n",
    "#channel = \"LFS1\"\n",
    "#site = \"pole\""
   ]
  },
  {
   "cell_type": "code",
   "execution_count": 9,
   "metadata": {
    "execution": {
     "iopub.execute_input": "2020-12-09T06:00:36.711665Z",
     "iopub.status.busy": "2020-12-09T06:00:36.710970Z",
     "iopub.status.idle": "2020-12-09T06:00:36.713036Z",
     "shell.execute_reply": "2020-12-09T06:00:36.712608Z"
    },
    "papermill": {
     "duration": 0.032122,
     "end_time": "2020-12-09T06:00:36.713129",
     "exception": false,
     "start_time": "2020-12-09T06:00:36.681007",
     "status": "completed"
    },
    "tags": []
   },
   "outputs": [],
   "source": [
    "telescope = ch.split(\"-\")[0]\n",
    "channel, site= ch.split(\"-\")[1].split(\"_\")"
   ]
  },
  {
   "cell_type": "code",
   "execution_count": 10,
   "metadata": {
    "execution": {
     "iopub.execute_input": "2020-12-09T06:00:36.767792Z",
     "iopub.status.busy": "2020-12-09T06:00:36.767027Z",
     "iopub.status.idle": "2020-12-09T06:00:36.769312Z",
     "shell.execute_reply": "2020-12-09T06:00:36.768876Z"
    },
    "papermill": {
     "duration": 0.031158,
     "end_time": "2020-12-09T06:00:36.769420",
     "exception": false,
     "start_time": "2020-12-09T06:00:36.738262",
     "status": "completed"
    },
    "tags": []
   },
   "outputs": [],
   "source": [
    "local_path = Path(\"output\")\n",
    "project_path = Path(\"/global/project/projectdirs/cmbs4/dm/dstool/output/\")"
   ]
  },
  {
   "cell_type": "code",
   "execution_count": 11,
   "metadata": {
    "execution": {
     "iopub.execute_input": "2020-12-09T06:00:36.825726Z",
     "iopub.status.busy": "2020-12-09T06:00:36.825220Z",
     "iopub.status.idle": "2020-12-09T06:00:36.940315Z",
     "shell.execute_reply": "2020-12-09T06:00:36.940718Z"
    },
    "papermill": {
     "duration": 0.14508,
     "end_time": "2020-12-09T06:00:36.940855",
     "exception": false,
     "start_time": "2020-12-09T06:00:36.795775",
     "status": "completed"
    },
    "tags": []
   },
   "outputs": [],
   "source": [
    "C_ell = pickle.load(open(local_path / dataset / f\"C_ell_{telescope}_{nsplits}.pkl\", \"rb\"))"
   ]
  },
  {
   "cell_type": "code",
   "execution_count": 12,
   "metadata": {
    "execution": {
     "iopub.execute_input": "2020-12-09T06:00:37.002762Z",
     "iopub.status.busy": "2020-12-09T06:00:37.002047Z",
     "iopub.status.idle": "2020-12-09T06:00:37.005171Z",
     "shell.execute_reply": "2020-12-09T06:00:37.005665Z"
    },
    "papermill": {
     "duration": 0.036946,
     "end_time": "2020-12-09T06:00:37.005812",
     "exception": false,
     "start_time": "2020-12-09T06:00:36.968866",
     "status": "completed"
    },
    "tags": []
   },
   "outputs": [
    {
     "data": {
      "text/plain": [
       "('SAT', 'HFS1', 'chile')"
      ]
     },
     "execution_count": 12,
     "metadata": {},
     "output_type": "execute_result"
    }
   ],
   "source": [
    "telescope, channel, site"
   ]
  },
  {
   "cell_type": "code",
   "execution_count": 13,
   "metadata": {
    "execution": {
     "iopub.execute_input": "2020-12-09T06:00:37.078738Z",
     "iopub.status.busy": "2020-12-09T06:00:37.078190Z",
     "iopub.status.idle": "2020-12-09T06:00:37.081070Z",
     "shell.execute_reply": "2020-12-09T06:00:37.080592Z"
    },
    "papermill": {
     "duration": 0.046529,
     "end_time": "2020-12-09T06:00:37.081180",
     "exception": false,
     "start_time": "2020-12-09T06:00:37.034651",
     "status": "completed"
    },
    "tags": []
   },
   "outputs": [
    {
     "data": {
      "text/plain": [
       "dict_keys(['SAT-HFS1_chile', 'SAT-HFS2_chile', 'SAT-LFS1_chile', 'SAT-LFS2_chile', 'SAT-MFHS1_chile', 'SAT-MFHS2_chile', 'SAT-MFLS1_chile', 'SAT-MFLS2_chile'])"
      ]
     },
     "execution_count": 13,
     "metadata": {},
     "output_type": "execute_result"
    }
   ],
   "source": [
    "C_ell.keys()"
   ]
  },
  {
   "cell_type": "code",
   "execution_count": 14,
   "metadata": {
    "execution": {
     "iopub.execute_input": "2020-12-09T06:00:37.145494Z",
     "iopub.status.busy": "2020-12-09T06:00:37.144900Z",
     "iopub.status.idle": "2020-12-09T06:00:37.147023Z",
     "shell.execute_reply": "2020-12-09T06:00:37.147453Z"
    },
    "papermill": {
     "duration": 0.035766,
     "end_time": "2020-12-09T06:00:37.147631",
     "exception": false,
     "start_time": "2020-12-09T06:00:37.111865",
     "status": "completed"
    },
    "tags": []
   },
   "outputs": [],
   "source": [
    "nside = 4096 if telescope == \"LAT\" else 512"
   ]
  },
  {
   "cell_type": "code",
   "execution_count": 15,
   "metadata": {
    "execution": {
     "iopub.execute_input": "2020-12-09T06:00:37.228342Z",
     "iopub.status.busy": "2020-12-09T06:00:37.227788Z",
     "iopub.status.idle": "2020-12-09T06:00:37.231413Z",
     "shell.execute_reply": "2020-12-09T06:00:37.230968Z"
    },
    "papermill": {
     "duration": 0.055828,
     "end_time": "2020-12-09T06:00:37.231521",
     "exception": false,
     "start_time": "2020-12-09T06:00:37.175693",
     "status": "completed"
    },
    "tags": []
   },
   "outputs": [],
   "source": [
    "from s4_design_sim_tool.core import base_folder"
   ]
  },
  {
   "cell_type": "code",
   "execution_count": 16,
   "metadata": {
    "execution": {
     "iopub.execute_input": "2020-12-09T06:00:37.296483Z",
     "iopub.status.busy": "2020-12-09T06:00:37.295960Z",
     "iopub.status.idle": "2020-12-09T06:00:37.309602Z",
     "shell.execute_reply": "2020-12-09T06:00:37.309147Z"
    },
    "papermill": {
     "duration": 0.047797,
     "end_time": "2020-12-09T06:00:37.309709",
     "exception": false,
     "start_time": "2020-12-09T06:00:37.261912",
     "status": "completed"
    },
    "tags": []
   },
   "outputs": [],
   "source": [
    "from s4_design_sim_tool.cli import parse_config\n",
    "if site == \"chile\" and telescope == \"SAT\":\n",
    "    config = parse_config(f\"{dataset}.toml\", \"chile_sat.toml\")\n",
    "else:\n",
    "    config = parse_config(f\"{dataset}.toml\")"
   ]
  },
  {
   "cell_type": "code",
   "execution_count": 17,
   "metadata": {
    "execution": {
     "iopub.execute_input": "2020-12-09T06:00:37.374972Z",
     "iopub.status.busy": "2020-12-09T06:00:37.374313Z",
     "iopub.status.idle": "2020-12-09T06:00:37.512061Z",
     "shell.execute_reply": "2020-12-09T06:00:37.512650Z"
    },
    "papermill": {
     "duration": 0.173008,
     "end_time": "2020-12-09T06:00:37.512854",
     "exception": false,
     "start_time": "2020-12-09T06:00:37.339846",
     "status": "completed"
    },
    "tags": []
   },
   "outputs": [
    {
     "name": "stderr",
     "output_type": "stream",
     "text": [
      "/global/homes/z/zonca/condajupynersc/lib/python3.7/site-packages/healpy/fitsfunc.py:369: UserWarning: If you are not specifying the input dtype and using the default np.float64 dtype of read_map(), please consider that it will change in a future version to None as to keep the same dtype of the input file: please explicitly set the dtype if it is important to you.\n",
      "  \"If you are not specifying the input dtype and using the default \"\n",
      "/global/homes/z/zonca/condajupynersc/lib/python3.7/site-packages/healpy/fitsfunc.py:391: UserWarning: NSIDE = 512\n",
      "  warnings.warn(\"NSIDE = {0:d}\".format(nside))\n",
      "/global/homes/z/zonca/condajupynersc/lib/python3.7/site-packages/healpy/fitsfunc.py:400: UserWarning: ORDERING = RING in fits file\n",
      "  warnings.warn(\"ORDERING = {0:s} in fits file\".format(ordering))\n",
      "/global/homes/z/zonca/condajupynersc/lib/python3.7/site-packages/healpy/fitsfunc.py:428: UserWarning: INDXSCHM = IMPLICIT\n",
      "  warnings.warn(\"INDXSCHM = {0:s}\".format(schm))\n"
     ]
    }
   ],
   "source": [
    "hitmap = hp.read_map(local_path / dataset / ch / f\"cmbs4_hitmap_{ch}_nside{nside}_1_of_{nsplits}.fits\")"
   ]
  },
  {
   "cell_type": "code",
   "execution_count": 18,
   "metadata": {
    "execution": {
     "iopub.execute_input": "2020-12-09T06:00:37.581537Z",
     "iopub.status.busy": "2020-12-09T06:00:37.580998Z",
     "iopub.status.idle": "2020-12-09T06:00:37.584566Z",
     "shell.execute_reply": "2020-12-09T06:00:37.584070Z"
    },
    "papermill": {
     "duration": 0.038492,
     "end_time": "2020-12-09T06:00:37.584671",
     "exception": false,
     "start_time": "2020-12-09T06:00:37.546179",
     "status": "completed"
    },
    "tags": []
   },
   "outputs": [
    {
     "data": {
      "text/plain": [
       "'HFS1'"
      ]
     },
     "execution_count": 18,
     "metadata": {},
     "output_type": "execute_result"
    }
   ],
   "source": [
    "channel"
   ]
  },
  {
   "cell_type": "code",
   "execution_count": 19,
   "metadata": {
    "execution": {
     "iopub.execute_input": "2020-12-09T06:00:37.651262Z",
     "iopub.status.busy": "2020-12-09T06:00:37.650724Z",
     "iopub.status.idle": "2020-12-09T06:00:37.653402Z",
     "shell.execute_reply": "2020-12-09T06:00:37.653832Z"
    },
    "papermill": {
     "duration": 0.038827,
     "end_time": "2020-12-09T06:00:37.653975",
     "exception": false,
     "start_time": "2020-12-09T06:00:37.615148",
     "status": "completed"
    },
    "tags": []
   },
   "outputs": [
    {
     "data": {
      "text/plain": [
       "14"
      ]
     },
     "execution_count": 19,
     "metadata": {},
     "output_type": "execute_result"
    }
   ],
   "source": [
    "from s4_design_sim_tool.noise import get_tube_years\n",
    "tube_years = get_tube_years(config, site, channel)\n",
    "tube_years"
   ]
  },
  {
   "cell_type": "code",
   "execution_count": 20,
   "metadata": {
    "execution": {
     "iopub.execute_input": "2020-12-09T06:00:37.720003Z",
     "iopub.status.busy": "2020-12-09T06:00:37.719354Z",
     "iopub.status.idle": "2020-12-09T06:00:37.726422Z",
     "shell.execute_reply": "2020-12-09T06:00:37.725948Z"
    },
    "papermill": {
     "duration": 0.04116,
     "end_time": "2020-12-09T06:00:37.726534",
     "exception": false,
     "start_time": "2020-12-09T06:00:37.685374",
     "status": "completed"
    },
    "tags": []
   },
   "outputs": [
    {
     "data": {
      "text/plain": [
       "100.16290436782067"
      ]
     },
     "execution_count": 20,
     "metadata": {},
     "output_type": "execute_result"
    }
   ],
   "source": [
    "sampling_rate = hitmap.sum()\n",
    "sampling_rate /= 365.25 * 24 * 3600\n",
    "sampling_rate /= tube_years * config[\"experiment\"][\"observing_efficiency\"]\n",
    "sampling_rate /= s4[channel].attrs[\"detectors_per_tube\"]\n",
    "sampling_rate *= nsplits\n",
    "sampling_rate"
   ]
  },
  {
   "cell_type": "code",
   "execution_count": 21,
   "metadata": {
    "execution": {
     "iopub.execute_input": "2020-12-09T06:00:37.794018Z",
     "iopub.status.busy": "2020-12-09T06:00:37.793472Z",
     "iopub.status.idle": "2020-12-09T06:00:37.795602Z",
     "shell.execute_reply": "2020-12-09T06:00:37.795118Z"
    },
    "papermill": {
     "duration": 0.037934,
     "end_time": "2020-12-09T06:00:37.795714",
     "exception": false,
     "start_time": "2020-12-09T06:00:37.757780",
     "status": "completed"
    },
    "tags": []
   },
   "outputs": [],
   "source": [
    "np.testing.assert_allclose(sampling_rate, sampling_frequency[telescope].value, rtol=1/100)"
   ]
  },
  {
   "cell_type": "code",
   "execution_count": 22,
   "metadata": {
    "execution": {
     "iopub.execute_input": "2020-12-09T06:00:37.909546Z",
     "iopub.status.busy": "2020-12-09T06:00:37.908939Z",
     "iopub.status.idle": "2020-12-09T06:00:38.424191Z",
     "shell.execute_reply": "2020-12-09T06:00:38.424698Z"
    },
    "papermill": {
     "duration": 0.564821,
     "end_time": "2020-12-09T06:00:38.424876",
     "exception": false,
     "start_time": "2020-12-09T06:00:37.860055",
     "status": "completed"
    },
    "tags": []
   },
   "outputs": [
    {
     "name": "stderr",
     "output_type": "stream",
     "text": [
      "/global/homes/z/zonca/condajupynersc/lib/python3.7/site-packages/ipykernel_launcher.py:1: RuntimeWarning: divide by zero encountered in log10\n",
      "  \"\"\"Entry point for launching an IPython kernel.\n",
      "/global/homes/z/zonca/condajupynersc/lib/python3.7/site-packages/healpy/projaxes.py:920: MatplotlibDeprecationWarning: You are modifying the state of a globally registered colormap. In future versions, you will not be able to modify a registered colormap in-place. To remove this warning, you can make a copy of the colormap first. cmap = copy.copy(mpl.cm.get_cmap(\"viridis\"))\n",
      "  newcm.set_over(newcm(1.0))\n",
      "/global/homes/z/zonca/condajupynersc/lib/python3.7/site-packages/healpy/projaxes.py:921: MatplotlibDeprecationWarning: You are modifying the state of a globally registered colormap. In future versions, you will not be able to modify a registered colormap in-place. To remove this warning, you can make a copy of the colormap first. cmap = copy.copy(mpl.cm.get_cmap(\"viridis\"))\n",
      "  newcm.set_under(bgcolor)\n",
      "/global/homes/z/zonca/condajupynersc/lib/python3.7/site-packages/healpy/projaxes.py:922: MatplotlibDeprecationWarning: You are modifying the state of a globally registered colormap. In future versions, you will not be able to modify a registered colormap in-place. To remove this warning, you can make a copy of the colormap first. cmap = copy.copy(mpl.cm.get_cmap(\"viridis\"))\n",
      "  newcm.set_bad(badcolor)\n",
      "/global/homes/z/zonca/condajupynersc/lib/python3.7/site-packages/healpy/projaxes.py:211: MatplotlibDeprecationWarning: Passing parameters norm and vmin/vmax simultaneously is deprecated since 3.3 and will become an error two minor releases later. Please pass vmin/vmax directly to the norm when creating it.\n",
      "  **kwds\n"
     ]
    },
    {
     "data": {
      "image/png": "[encoded data removed]",
      "text/plain": [
       "<Figure size 612x388.8 with 2 Axes>"
      ]
     },
     "metadata": {
      "needs_background": "light"
     },
     "output_type": "display_data"
    }
   ],
   "source": [
    "log_hitmap = np.log10(hitmap)\n",
    "log_hitmap[np.isinf(log_hitmap)] = hp.UNSEEN\n",
    "hp.mollview(log_hitmap, unit=\"log10(samples)\", title=f\"Hitmap {ch}\")\n",
    "plt.savefig(f\"plots/hitmap_{channel}_{site}_1_of_{nsplits}.png\")"
   ]
  },
  {
   "cell_type": "code",
   "execution_count": 23,
   "metadata": {
    "execution": {
     "iopub.execute_input": "2020-12-09T06:00:38.501598Z",
     "iopub.status.busy": "2020-12-09T06:00:38.501049Z",
     "iopub.status.idle": "2020-12-09T06:00:38.791480Z",
     "shell.execute_reply": "2020-12-09T06:00:38.792118Z"
    },
    "papermill": {
     "duration": 0.331126,
     "end_time": "2020-12-09T06:00:38.792354",
     "exception": false,
     "start_time": "2020-12-09T06:00:38.461228",
     "status": "completed"
    },
    "tags": []
   },
   "outputs": [],
   "source": [
    "wcov = hp.read_map(local_path / dataset / ch / f\"cmbs4_wcov_{ch}_nside{nside}_1_of_{nsplits}.fits\", (3))"
   ]
  },
  {
   "cell_type": "code",
   "execution_count": 24,
   "metadata": {
    "execution": {
     "iopub.execute_input": "2020-12-09T06:00:38.872422Z",
     "iopub.status.busy": "2020-12-09T06:00:38.871876Z",
     "iopub.status.idle": "2020-12-09T06:00:38.874486Z",
     "shell.execute_reply": "2020-12-09T06:00:38.874894Z"
    },
    "papermill": {
     "duration": 0.045837,
     "end_time": "2020-12-09T06:00:38.875039",
     "exception": false,
     "start_time": "2020-12-09T06:00:38.829202",
     "status": "completed"
    },
    "tags": []
   },
   "outputs": [
    {
     "data": {
      "text/plain": [
       "(3145728,)"
      ]
     },
     "execution_count": 24,
     "metadata": {},
     "output_type": "execute_result"
    }
   ],
   "source": [
    "wcov.shape"
   ]
  },
  {
   "cell_type": "code",
   "execution_count": 25,
   "metadata": {
    "execution": {
     "iopub.execute_input": "2020-12-09T06:00:38.951316Z",
     "iopub.status.busy": "2020-12-09T06:00:38.950745Z",
     "iopub.status.idle": "2020-12-09T06:00:38.953088Z",
     "shell.execute_reply": "2020-12-09T06:00:38.953523Z"
    },
    "papermill": {
     "duration": 0.044152,
     "end_time": "2020-12-09T06:00:38.953690",
     "exception": false,
     "start_time": "2020-12-09T06:00:38.909538",
     "status": "completed"
    },
    "tags": []
   },
   "outputs": [],
   "source": [
    "import astropy.units as u"
   ]
  },
  {
   "cell_type": "code",
   "execution_count": 26,
   "metadata": {
    "execution": {
     "iopub.execute_input": "2020-12-09T06:00:39.031339Z",
     "iopub.status.busy": "2020-12-09T06:00:39.030751Z",
     "iopub.status.idle": "2020-12-09T06:00:39.032562Z",
     "shell.execute_reply": "2020-12-09T06:00:39.032994Z"
    },
    "papermill": {
     "duration": 0.044072,
     "end_time": "2020-12-09T06:00:39.033153",
     "exception": false,
     "start_time": "2020-12-09T06:00:38.989081",
     "status": "completed"
    },
    "tags": []
   },
   "outputs": [],
   "source": [
    "channel_NET = s4[channel].attrs[\"NET_uKsqrts\"] * u.uK * u.s ** .5"
   ]
  },
  {
   "cell_type": "code",
   "execution_count": 27,
   "metadata": {
    "execution": {
     "iopub.execute_input": "2020-12-09T06:00:39.109461Z",
     "iopub.status.busy": "2020-12-09T06:00:39.108914Z",
     "iopub.status.idle": "2020-12-09T06:00:39.110871Z",
     "shell.execute_reply": "2020-12-09T06:00:39.111287Z"
    },
    "papermill": {
     "duration": 0.042203,
     "end_time": "2020-12-09T06:00:39.111440",
     "exception": false,
     "start_time": "2020-12-09T06:00:39.069237",
     "status": "completed"
    },
    "tags": []
   },
   "outputs": [],
   "source": [
    "if telescope == \"LAT\" and site==\"pole\":\n",
    "    channel_NET = s4[channel].attrs[\"pole_NET_uKsqrts\"] * u.uK * u.s ** .5"
   ]
  },
  {
   "cell_type": "code",
   "execution_count": 28,
   "metadata": {
    "execution": {
     "iopub.execute_input": "2020-12-09T06:00:39.190892Z",
     "iopub.status.busy": "2020-12-09T06:00:39.190347Z",
     "iopub.status.idle": "2020-12-09T06:00:39.261986Z",
     "shell.execute_reply": "2020-12-09T06:00:39.261076Z"
    },
    "papermill": {
     "duration": 0.114505,
     "end_time": "2020-12-09T06:00:39.262209",
     "exception": false,
     "start_time": "2020-12-09T06:00:39.147704",
     "status": "completed"
    },
    "tags": []
   },
   "outputs": [],
   "source": [
    "variance_QQ = wcov * u.K ** 2 * (hitmap / sampling_frequency[telescope]) "
   ]
  },
  {
   "cell_type": "code",
   "execution_count": 29,
   "metadata": {
    "execution": {
     "iopub.execute_input": "2020-12-09T06:00:39.353357Z",
     "iopub.status.busy": "2020-12-09T06:00:39.352822Z",
     "iopub.status.idle": "2020-12-09T06:00:39.362935Z",
     "shell.execute_reply": "2020-12-09T06:00:39.362476Z"
    },
    "papermill": {
     "duration": 0.05071,
     "end_time": "2020-12-09T06:00:39.363053",
     "exception": false,
     "start_time": "2020-12-09T06:00:39.312343",
     "status": "completed"
    },
    "tags": []
   },
   "outputs": [],
   "source": [
    "assert (variance_QQ.value == hp.UNSEEN).sum() == 0"
   ]
  },
  {
   "cell_type": "code",
   "execution_count": 30,
   "metadata": {
    "execution": {
     "iopub.execute_input": "2020-12-09T06:00:39.492776Z",
     "iopub.status.busy": "2020-12-09T06:00:39.492214Z",
     "iopub.status.idle": "2020-12-09T06:00:39.521241Z",
     "shell.execute_reply": "2020-12-09T06:00:39.521818Z"
    },
    "papermill": {
     "duration": 0.070417,
     "end_time": "2020-12-09T06:00:39.522030",
     "exception": false,
     "start_time": "2020-12-09T06:00:39.451613",
     "status": "completed"
    },
    "tags": []
   },
   "outputs": [],
   "source": [
    "full_mission_NET = np.sqrt(np.median(variance_QQ[hitmap != 0]))"
   ]
  },
  {
   "cell_type": "code",
   "execution_count": 31,
   "metadata": {
    "execution": {
     "iopub.execute_input": "2020-12-09T06:00:39.613734Z",
     "iopub.status.busy": "2020-12-09T06:00:39.613086Z",
     "iopub.status.idle": "2020-12-09T06:00:39.615370Z",
     "shell.execute_reply": "2020-12-09T06:00:39.615875Z"
    },
    "papermill": {
     "duration": 0.046785,
     "end_time": "2020-12-09T06:00:39.616188",
     "exception": false,
     "start_time": "2020-12-09T06:00:39.569403",
     "status": "completed"
    },
    "tags": []
   },
   "outputs": [
    {
     "data": {
      "text/latex": [
       "$1027.071 \\; \\mathrm{\\mu K\\,s^{1/2}}$"
      ],
      "text/plain": [
       "<Quantity 1027.071047 s(1/2) uK>"
      ]
     },
     "execution_count": 31,
     "metadata": {},
     "output_type": "execute_result"
    }
   ],
   "source": [
    "full_mission_NET.to(channel_NET.unit)"
   ]
  },
  {
   "cell_type": "code",
   "execution_count": 32,
   "metadata": {
    "execution": {
     "iopub.execute_input": "2020-12-09T06:00:39.691822Z",
     "iopub.status.busy": "2020-12-09T06:00:39.691220Z",
     "iopub.status.idle": "2020-12-09T06:00:39.695253Z",
     "shell.execute_reply": "2020-12-09T06:00:39.694339Z"
    },
    "papermill": {
     "duration": 0.043031,
     "end_time": "2020-12-09T06:00:39.695435",
     "exception": false,
     "start_time": "2020-12-09T06:00:39.652404",
     "status": "completed"
    },
    "tags": []
   },
   "outputs": [
    {
     "data": {
      "text/latex": [
       "$747 \\; \\mathrm{\\mu K\\,s^{1/2}}$"
      ],
      "text/plain": [
       "<Quantity 747. s(1/2) uK>"
      ]
     },
     "execution_count": 32,
     "metadata": {},
     "output_type": "execute_result"
    }
   ],
   "source": [
    "channel_NET"
   ]
  },
  {
   "cell_type": "code",
   "execution_count": 33,
   "metadata": {
    "execution": {
     "iopub.execute_input": "2020-12-09T06:00:39.792324Z",
     "iopub.status.busy": "2020-12-09T06:00:39.791746Z",
     "iopub.status.idle": "2020-12-09T06:00:39.794279Z",
     "shell.execute_reply": "2020-12-09T06:00:39.794800Z"
    },
    "papermill": {
     "duration": 0.040352,
     "end_time": "2020-12-09T06:00:39.794942",
     "exception": false,
     "start_time": "2020-12-09T06:00:39.754590",
     "status": "completed"
    },
    "tags": []
   },
   "outputs": [
    {
     "data": {
      "text/latex": [
       "$726.2489 \\; \\mathrm{\\mu K\\,s^{1/2}}$"
      ],
      "text/plain": [
       "<Quantity 726.24890209 s(1/2) uK>"
      ]
     },
     "execution_count": 33,
     "metadata": {},
     "output_type": "execute_result"
    }
   ],
   "source": [
    "(full_mission_NET/np.sqrt(2)).to(channel_NET.unit)"
   ]
  },
  {
   "cell_type": "code",
   "execution_count": 34,
   "metadata": {
    "execution": {
     "iopub.execute_input": "2020-12-09T06:00:39.873841Z",
     "iopub.status.busy": "2020-12-09T06:00:39.873243Z",
     "iopub.status.idle": "2020-12-09T06:00:39.875068Z",
     "shell.execute_reply": "2020-12-09T06:00:39.875511Z"
    },
    "papermill": {
     "duration": 0.043666,
     "end_time": "2020-12-09T06:00:39.875669",
     "exception": false,
     "start_time": "2020-12-09T06:00:39.832003",
     "status": "completed"
    },
    "tags": []
   },
   "outputs": [],
   "source": [
    "assert_quantity_allclose(full_mission_NET, channel_NET*np.sqrt(2), rtol=10/100) "
   ]
  },
  {
   "cell_type": "code",
   "execution_count": 35,
   "metadata": {
    "execution": {
     "iopub.execute_input": "2020-12-09T06:00:39.948817Z",
     "iopub.status.busy": "2020-12-09T06:00:39.948220Z",
     "iopub.status.idle": "2020-12-09T06:00:39.956397Z",
     "shell.execute_reply": "2020-12-09T06:00:39.956874Z"
    },
    "papermill": {
     "duration": 0.045976,
     "end_time": "2020-12-09T06:00:39.957014",
     "exception": false,
     "start_time": "2020-12-09T06:00:39.911038",
     "status": "completed"
    },
    "tags": []
   },
   "outputs": [],
   "source": [
    "sky_fraction = (hitmap > 0).sum() / len(hitmap)"
   ]
  },
  {
   "cell_type": "code",
   "execution_count": 36,
   "metadata": {
    "execution": {
     "iopub.execute_input": "2020-12-09T06:00:40.033802Z",
     "iopub.status.busy": "2020-12-09T06:00:40.033267Z",
     "iopub.status.idle": "2020-12-09T06:00:40.035628Z",
     "shell.execute_reply": "2020-12-09T06:00:40.036090Z"
    },
    "papermill": {
     "duration": 0.042708,
     "end_time": "2020-12-09T06:00:40.036247",
     "exception": false,
     "start_time": "2020-12-09T06:00:39.993539",
     "status": "completed"
    },
    "tags": []
   },
   "outputs": [
    {
     "data": {
      "text/plain": [
       "0.5469678243001302"
      ]
     },
     "execution_count": 36,
     "metadata": {},
     "output_type": "execute_result"
    }
   ],
   "source": [
    "sky_fraction"
   ]
  },
  {
   "cell_type": "code",
   "execution_count": 37,
   "metadata": {
    "execution": {
     "iopub.execute_input": "2020-12-09T06:00:40.120045Z",
     "iopub.status.busy": "2020-12-09T06:00:40.119489Z",
     "iopub.status.idle": "2020-12-09T06:00:40.121240Z",
     "shell.execute_reply": "2020-12-09T06:00:40.121648Z"
    },
    "papermill": {
     "duration": 0.044843,
     "end_time": "2020-12-09T06:00:40.121782",
     "exception": false,
     "start_time": "2020-12-09T06:00:40.076939",
     "status": "completed"
    },
    "tags": []
   },
   "outputs": [],
   "source": [
    "pixarea = hp.nside2pixarea(nside)"
   ]
  },
  {
   "cell_type": "code",
   "execution_count": 38,
   "metadata": {
    "execution": {
     "iopub.execute_input": "2020-12-09T06:00:40.202263Z",
     "iopub.status.busy": "2020-12-09T06:00:40.201723Z",
     "iopub.status.idle": "2020-12-09T06:00:40.215131Z",
     "shell.execute_reply": "2020-12-09T06:00:40.215591Z"
    },
    "papermill": {
     "duration": 0.055949,
     "end_time": "2020-12-09T06:00:40.215721",
     "exception": false,
     "start_time": "2020-12-09T06:00:40.159772",
     "status": "completed"
    },
    "tags": []
   },
   "outputs": [
    {
     "data": {
      "text/plain": [
       "5.3036441396576134e-15"
      ]
     },
     "execution_count": 38,
     "metadata": {},
     "output_type": "execute_result"
    }
   ],
   "source": [
    "np.mean(wcov[hitmap > 0])* pixarea"
   ]
  },
  {
   "cell_type": "code",
   "execution_count": 39,
   "metadata": {
    "execution": {
     "iopub.execute_input": "2020-12-09T06:00:40.329681Z",
     "iopub.status.busy": "2020-12-09T06:00:40.329110Z",
     "iopub.status.idle": "2020-12-09T06:00:40.336307Z",
     "shell.execute_reply": "2020-12-09T06:00:40.336755Z"
    },
    "papermill": {
     "duration": 0.050574,
     "end_time": "2020-12-09T06:00:40.336892",
     "exception": false,
     "start_time": "2020-12-09T06:00:40.286318",
     "status": "completed"
    },
    "tags": []
   },
   "outputs": [],
   "source": [
    "wcov [ wcov == hp.UNSEEN] = 0"
   ]
  },
  {
   "cell_type": "markdown",
   "metadata": {
    "papermill": {
     "duration": 0.03847,
     "end_time": "2020-12-09T06:00:40.412812",
     "exception": false,
     "start_time": "2020-12-09T06:00:40.374342",
     "status": "completed"
    },
    "tags": []
   },
   "source": [
    "## Atmosphere"
   ]
  },
  {
   "cell_type": "code",
   "execution_count": 40,
   "metadata": {
    "execution": {
     "iopub.execute_input": "2020-12-09T06:00:40.494155Z",
     "iopub.status.busy": "2020-12-09T06:00:40.493540Z",
     "iopub.status.idle": "2020-12-09T06:00:40.495365Z",
     "shell.execute_reply": "2020-12-09T06:00:40.495849Z"
    },
    "papermill": {
     "duration": 0.044058,
     "end_time": "2020-12-09T06:00:40.495976",
     "exception": false,
     "start_time": "2020-12-09T06:00:40.451918",
     "status": "completed"
    },
    "tags": []
   },
   "outputs": [],
   "source": [
    "atmosphere_filename = Path(base_folder) / \"00000000\" / f\"{site}_atmosphere_{telescope}_{channel}_filtered_telescope_all_time_all_bmap.fits\""
   ]
  },
  {
   "cell_type": "code",
   "execution_count": 41,
   "metadata": {
    "execution": {
     "iopub.execute_input": "2020-12-09T06:00:40.573646Z",
     "iopub.status.busy": "2020-12-09T06:00:40.573105Z",
     "iopub.status.idle": "2020-12-09T06:00:41.226616Z",
     "shell.execute_reply": "2020-12-09T06:00:41.227250Z"
    },
    "papermill": {
     "duration": 0.694689,
     "end_time": "2020-12-09T06:00:41.227456",
     "exception": false,
     "start_time": "2020-12-09T06:00:40.532767",
     "status": "completed"
    },
    "tags": []
   },
   "outputs": [
    {
     "name": "stderr",
     "output_type": "stream",
     "text": [
      "/global/homes/z/zonca/condajupynersc/lib/python3.7/site-packages/healpy/fitsfunc.py:400: UserWarning: ORDERING = NESTED in fits file\n",
      "  warnings.warn(\"ORDERING = {0:s} in fits file\".format(ordering))\n",
      "/global/homes/z/zonca/condajupynersc/lib/python3.7/site-packages/healpy/fitsfunc.py:486: UserWarning: Ordering converted to RING\n",
      "  warnings.warn(\"Ordering converted to RING\")\n"
     ]
    }
   ],
   "source": [
    "input_atmophere = hp.ma(hp.read_map(atmosphere_filename, (0,1,2)))"
   ]
  },
  {
   "cell_type": "code",
   "execution_count": 42,
   "metadata": {
    "execution": {
     "iopub.execute_input": "2020-12-09T06:00:41.318586Z",
     "iopub.status.busy": "2020-12-09T06:00:41.318011Z",
     "iopub.status.idle": "2020-12-09T06:00:41.348298Z",
     "shell.execute_reply": "2020-12-09T06:00:41.348688Z"
    },
    "papermill": {
     "duration": 0.07269,
     "end_time": "2020-12-09T06:00:41.348819",
     "exception": false,
     "start_time": "2020-12-09T06:00:41.276129",
     "status": "completed"
    },
    "tags": []
   },
   "outputs": [],
   "source": [
    "sqrt_hitmap = hitmap.copy()\n",
    "sqrt_hitmap[hitmap>0] = np.sqrt(hitmap[hitmap>0])"
   ]
  },
  {
   "cell_type": "code",
   "execution_count": 43,
   "metadata": {
    "execution": {
     "iopub.execute_input": "2020-12-09T06:00:41.432888Z",
     "iopub.status.busy": "2020-12-09T06:00:41.432274Z",
     "iopub.status.idle": "2020-12-09T06:00:43.748471Z",
     "shell.execute_reply": "2020-12-09T06:00:43.748943Z"
    },
    "papermill": {
     "duration": 2.36265,
     "end_time": "2020-12-09T06:00:43.749126",
     "exception": false,
     "start_time": "2020-12-09T06:00:41.386476",
     "status": "completed"
    },
    "tags": []
   },
   "outputs": [],
   "source": [
    "atmo_cl = \\\n",
    "hp.anafast(input_atmophere * sqrt_hitmap, use_pixel_weights=True) / np.mean(hitmap) # / sky_fraction"
   ]
  },
  {
   "cell_type": "code",
   "execution_count": 44,
   "metadata": {
    "execution": {
     "iopub.execute_input": "2020-12-09T06:00:43.836965Z",
     "iopub.status.busy": "2020-12-09T06:00:43.836389Z",
     "iopub.status.idle": "2020-12-09T06:00:43.838633Z",
     "shell.execute_reply": "2020-12-09T06:00:43.839065Z"
    },
    "papermill": {
     "duration": 0.047271,
     "end_time": "2020-12-09T06:00:43.839234",
     "exception": false,
     "start_time": "2020-12-09T06:00:43.791963",
     "status": "completed"
    },
    "tags": []
   },
   "outputs": [],
   "source": [
    "from s4_design_sim_tool.atmosphere import get_telecope_years"
   ]
  },
  {
   "cell_type": "code",
   "execution_count": 45,
   "metadata": {
    "execution": {
     "iopub.execute_input": "2020-12-09T06:00:43.922059Z",
     "iopub.status.busy": "2020-12-09T06:00:43.921528Z",
     "iopub.status.idle": "2020-12-09T06:00:43.923111Z",
     "shell.execute_reply": "2020-12-09T06:00:43.923505Z"
    },
    "papermill": {
     "duration": 0.043292,
     "end_time": "2020-12-09T06:00:43.923698",
     "exception": false,
     "start_time": "2020-12-09T06:00:43.880406",
     "status": "completed"
    },
    "tags": []
   },
   "outputs": [],
   "source": [
    "telescope_years = get_telecope_years(config, site, channel)"
   ]
  },
  {
   "cell_type": "code",
   "execution_count": 46,
   "metadata": {
    "execution": {
     "iopub.execute_input": "2020-12-09T06:00:44.002959Z",
     "iopub.status.busy": "2020-12-09T06:00:44.002413Z",
     "iopub.status.idle": "2020-12-09T06:00:44.004872Z",
     "shell.execute_reply": "2020-12-09T06:00:44.005285Z"
    },
    "papermill": {
     "duration": 0.043947,
     "end_time": "2020-12-09T06:00:44.005420",
     "exception": false,
     "start_time": "2020-12-09T06:00:43.961473",
     "status": "completed"
    },
    "tags": []
   },
   "outputs": [
    {
     "data": {
      "text/plain": [
       "7"
      ]
     },
     "execution_count": 46,
     "metadata": {},
     "output_type": "execute_result"
    }
   ],
   "source": [
    "telescope_years"
   ]
  },
  {
   "cell_type": "code",
   "execution_count": 47,
   "metadata": {
    "execution": {
     "iopub.execute_input": "2020-12-09T06:00:44.084994Z",
     "iopub.status.busy": "2020-12-09T06:00:44.084390Z",
     "iopub.status.idle": "2020-12-09T06:00:44.086244Z",
     "shell.execute_reply": "2020-12-09T06:00:44.086697Z"
    },
    "papermill": {
     "duration": 0.04468,
     "end_time": "2020-12-09T06:00:44.086852",
     "exception": false,
     "start_time": "2020-12-09T06:00:44.042172",
     "status": "completed"
    },
    "tags": []
   },
   "outputs": [],
   "source": [
    "from s4_design_sim_tool.core import simulations_observing_efficiency"
   ]
  },
  {
   "cell_type": "code",
   "execution_count": 48,
   "metadata": {
    "execution": {
     "iopub.execute_input": "2020-12-09T06:00:44.532986Z",
     "iopub.status.busy": "2020-12-09T06:00:44.532418Z",
     "iopub.status.idle": "2020-12-09T06:00:44.534808Z",
     "shell.execute_reply": "2020-12-09T06:00:44.535343Z"
    },
    "papermill": {
     "duration": 0.391492,
     "end_time": "2020-12-09T06:00:44.535512",
     "exception": false,
     "start_time": "2020-12-09T06:00:44.144020",
     "status": "completed"
    },
    "tags": []
   },
   "outputs": [
    {
     "data": {
      "text/plain": [
       "{'pole': {'SAT': 0.3931149305555555, 'LAT': 0.321544537037037},\n",
       " 'chile': {'SAT': 0.8656164351851852, 'LAT': 0.917306712962963}}"
      ]
     },
     "execution_count": 48,
     "metadata": {},
     "output_type": "execute_result"
    }
   ],
   "source": [
    "simulations_observing_efficiency"
   ]
  },
  {
   "cell_type": "code",
   "execution_count": 49,
   "metadata": {
    "execution": {
     "iopub.execute_input": "2020-12-09T06:00:44.620565Z",
     "iopub.status.busy": "2020-12-09T06:00:44.619984Z",
     "iopub.status.idle": "2020-12-09T06:00:44.621682Z",
     "shell.execute_reply": "2020-12-09T06:00:44.622162Z"
    },
    "papermill": {
     "duration": 0.046533,
     "end_time": "2020-12-09T06:00:44.622296",
     "exception": false,
     "start_time": "2020-12-09T06:00:44.575763",
     "status": "completed"
    },
    "tags": []
   },
   "outputs": [],
   "source": [
    "atmo_cl *= 10 / 365.25\n",
    "atmo_cl *= simulations_observing_efficiency[site.lower()].get(telescope, 1) / config[\"experiment\"][\"observing_efficiency\"]                                                                    \n",
    "atmo_cl /= telescope_years"
   ]
  },
  {
   "cell_type": "markdown",
   "metadata": {
    "papermill": {
     "duration": 0.040565,
     "end_time": "2020-12-09T06:00:44.704960",
     "exception": false,
     "start_time": "2020-12-09T06:00:44.664395",
     "status": "completed"
    },
    "tags": []
   },
   "source": [
    "## Noise"
   ]
  },
  {
   "cell_type": "code",
   "execution_count": 50,
   "metadata": {
    "execution": {
     "iopub.execute_input": "2020-12-09T06:00:44.787228Z",
     "iopub.status.busy": "2020-12-09T06:00:44.786672Z",
     "iopub.status.idle": "2020-12-09T06:00:44.788613Z",
     "shell.execute_reply": "2020-12-09T06:00:44.789134Z"
    },
    "papermill": {
     "duration": 0.046282,
     "end_time": "2020-12-09T06:00:44.789314",
     "exception": false,
     "start_time": "2020-12-09T06:00:44.743032",
     "status": "completed"
    },
    "tags": []
   },
   "outputs": [],
   "source": [
    "noise_filename = Path(base_folder) / \"00000000\" / f\"{site}_noise_{telescope}_{channel}_filtered_telescope_all_time_all_bmap.fits\""
   ]
  },
  {
   "cell_type": "code",
   "execution_count": 51,
   "metadata": {
    "execution": {
     "iopub.execute_input": "2020-12-09T06:00:44.875201Z",
     "iopub.status.busy": "2020-12-09T06:00:44.874601Z",
     "iopub.status.idle": "2020-12-09T06:00:44.877051Z",
     "shell.execute_reply": "2020-12-09T06:00:44.877548Z"
    },
    "papermill": {
     "duration": 0.048726,
     "end_time": "2020-12-09T06:00:44.877697",
     "exception": false,
     "start_time": "2020-12-09T06:00:44.828971",
     "status": "completed"
    },
    "tags": []
   },
   "outputs": [],
   "source": [
    "#input_noise = hp.ma(hp.read_map(noise_filename, (0,1,2)))"
   ]
  },
  {
   "cell_type": "code",
   "execution_count": 52,
   "metadata": {
    "execution": {
     "iopub.execute_input": "2020-12-09T06:00:44.961477Z",
     "iopub.status.busy": "2020-12-09T06:00:44.960897Z",
     "iopub.status.idle": "2020-12-09T06:00:44.963647Z",
     "shell.execute_reply": "2020-12-09T06:00:44.963111Z"
    },
    "papermill": {
     "duration": 0.047102,
     "end_time": "2020-12-09T06:00:44.963769",
     "exception": false,
     "start_time": "2020-12-09T06:00:44.916667",
     "status": "completed"
    },
    "tags": []
   },
   "outputs": [],
   "source": [
    "#noise_cl = hp.anafast(input_noise * sqrt_hitmap, use_pixel_weights=True) / np.mean(hitmap) / sky_fraction"
   ]
  },
  {
   "cell_type": "code",
   "execution_count": 53,
   "metadata": {
    "execution": {
     "iopub.execute_input": "2020-12-09T06:00:45.055322Z",
     "iopub.status.busy": "2020-12-09T06:00:45.054744Z",
     "iopub.status.idle": "2020-12-09T06:00:45.056497Z",
     "shell.execute_reply": "2020-12-09T06:00:45.056955Z"
    },
    "papermill": {
     "duration": 0.048212,
     "end_time": "2020-12-09T06:00:45.057093",
     "exception": false,
     "start_time": "2020-12-09T06:00:45.008881",
     "status": "completed"
    },
    "tags": []
   },
   "outputs": [],
   "source": [
    "del sqrt_hitmap"
   ]
  },
  {
   "cell_type": "code",
   "execution_count": 54,
   "metadata": {
    "execution": {
     "iopub.execute_input": "2020-12-09T06:00:45.144771Z",
     "iopub.status.busy": "2020-12-09T06:00:45.144190Z",
     "iopub.status.idle": "2020-12-09T06:00:45.146059Z",
     "shell.execute_reply": "2020-12-09T06:00:45.146476Z"
    },
    "papermill": {
     "duration": 0.047883,
     "end_time": "2020-12-09T06:00:45.146623",
     "exception": false,
     "start_time": "2020-12-09T06:00:45.098740",
     "status": "completed"
    },
    "tags": []
   },
   "outputs": [],
   "source": [
    "from s4_design_sim_tool.noise import get_thinfp\n",
    "thinfp = get_thinfp(channel)"
   ]
  },
  {
   "cell_type": "code",
   "execution_count": 55,
   "metadata": {
    "execution": {
     "iopub.execute_input": "2020-12-09T06:00:45.233721Z",
     "iopub.status.busy": "2020-12-09T06:00:45.233126Z",
     "iopub.status.idle": "2020-12-09T06:00:45.235900Z",
     "shell.execute_reply": "2020-12-09T06:00:45.235390Z"
    },
    "papermill": {
     "duration": 0.048643,
     "end_time": "2020-12-09T06:00:45.236031",
     "exception": false,
     "start_time": "2020-12-09T06:00:45.187388",
     "status": "completed"
    },
    "tags": []
   },
   "outputs": [
    {
     "data": {
      "text/html": [
       "&lt;Column name=&apos;thinfp&apos; dtype=&apos;int64&apos; length=1&gt;\n",
       "<table>\n",
       "<tr><td>8</td></tr>\n",
       "</table>"
      ],
      "text/plain": [
       "<Column name='thinfp' dtype='int64' length=1>\n",
       "8"
      ]
     },
     "execution_count": 55,
     "metadata": {},
     "output_type": "execute_result"
    }
   ],
   "source": [
    "thinfp"
   ]
  },
  {
   "cell_type": "code",
   "execution_count": 56,
   "metadata": {
    "execution": {
     "iopub.execute_input": "2020-12-09T06:00:45.320761Z",
     "iopub.status.busy": "2020-12-09T06:00:45.320165Z",
     "iopub.status.idle": "2020-12-09T06:00:45.322401Z",
     "shell.execute_reply": "2020-12-09T06:00:45.321923Z"
    },
    "papermill": {
     "duration": 0.045172,
     "end_time": "2020-12-09T06:00:45.322503",
     "exception": false,
     "start_time": "2020-12-09T06:00:45.277331",
     "status": "completed"
    },
    "tags": []
   },
   "outputs": [],
   "source": [
    "#noise_cl *= 10 / 365.25\n",
    "#noise_cl *= simulations_observing_efficiency[site.lower()].get(telescope, 1) / config[\"experiment\"][\"observing_efficiency\"]                                                                    \n",
    "#noise_cl /= tube_years\n",
    "#noise_cl /= thinfp"
   ]
  },
  {
   "cell_type": "code",
   "execution_count": 57,
   "metadata": {
    "execution": {
     "iopub.execute_input": "2020-12-09T06:00:45.418776Z",
     "iopub.status.busy": "2020-12-09T06:00:45.418160Z",
     "iopub.status.idle": "2020-12-09T06:00:45.429168Z",
     "shell.execute_reply": "2020-12-09T06:00:45.429591Z"
    },
    "papermill": {
     "duration": 0.05653,
     "end_time": "2020-12-09T06:00:45.429731",
     "exception": false,
     "start_time": "2020-12-09T06:00:45.373201",
     "status": "completed"
    },
    "tags": []
   },
   "outputs": [],
   "source": [
    "white_noise_Cl = channel_NET**2 \\\n",
    "/ (hitmap.sum() / sampling_frequency[telescope] / (hitmap>0).sum()) * pixarea # / sky_fraction"
   ]
  },
  {
   "cell_type": "code",
   "execution_count": 58,
   "metadata": {
    "execution": {
     "iopub.execute_input": "2020-12-09T06:00:45.515053Z",
     "iopub.status.busy": "2020-12-09T06:00:45.514458Z",
     "iopub.status.idle": "2020-12-09T06:00:45.516913Z",
     "shell.execute_reply": "2020-12-09T06:00:45.517358Z"
    },
    "papermill": {
     "duration": 0.046824,
     "end_time": "2020-12-09T06:00:45.517484",
     "exception": false,
     "start_time": "2020-12-09T06:00:45.470660",
     "status": "completed"
    },
    "tags": []
   },
   "outputs": [
    {
     "data": {
      "text/latex": [
       "$3.5297718 \\times 10^{-17} \\; \\mathrm{K^{2}}$"
      ],
      "text/plain": [
       "<Quantity 3.52977181e-17 K2>"
      ]
     },
     "execution_count": 58,
     "metadata": {},
     "output_type": "execute_result"
    }
   ],
   "source": [
    "white_noise_Cl.decompose()"
   ]
  },
  {
   "cell_type": "code",
   "execution_count": 59,
   "metadata": {
    "execution": {
     "iopub.execute_input": "2020-12-09T06:00:45.604235Z",
     "iopub.status.busy": "2020-12-09T06:00:45.603692Z",
     "iopub.status.idle": "2020-12-09T06:00:46.142414Z",
     "shell.execute_reply": "2020-12-09T06:00:46.142843Z"
    },
    "papermill": {
     "duration": 0.584206,
     "end_time": "2020-12-09T06:00:46.142987",
     "exception": false,
     "start_time": "2020-12-09T06:00:45.558781",
     "status": "completed"
    },
    "tags": []
   },
   "outputs": [],
   "source": [
    "import seaborn as sns"
   ]
  },
  {
   "cell_type": "code",
   "execution_count": 60,
   "metadata": {
    "execution": {
     "iopub.execute_input": "2020-12-09T06:00:46.228839Z",
     "iopub.status.busy": "2020-12-09T06:00:46.228254Z",
     "iopub.status.idle": "2020-12-09T06:00:46.230206Z",
     "shell.execute_reply": "2020-12-09T06:00:46.230652Z"
    },
    "papermill": {
     "duration": 0.047495,
     "end_time": "2020-12-09T06:00:46.230802",
     "exception": false,
     "start_time": "2020-12-09T06:00:46.183307",
     "status": "completed"
    },
    "tags": []
   },
   "outputs": [],
   "source": [
    "sns.set_style(\"whitegrid\")"
   ]
  },
  {
   "cell_type": "code",
   "execution_count": 61,
   "metadata": {
    "execution": {
     "iopub.execute_input": "2020-12-09T06:00:46.327664Z",
     "iopub.status.busy": "2020-12-09T06:00:46.326423Z",
     "iopub.status.idle": "2020-12-09T06:00:48.697493Z",
     "shell.execute_reply": "2020-12-09T06:00:48.698259Z"
    },
    "papermill": {
     "duration": 2.424831,
     "end_time": "2020-12-09T06:00:48.698496",
     "exception": false,
     "start_time": "2020-12-09T06:00:46.273665",
     "status": "completed"
    },
    "tags": []
   },
   "outputs": [
    {
     "data": {
      "image/png": "[encoded data removed]",
      "text/plain": [
       "<Figure size 576x360 with 1 Axes>"
      ]
     },
     "metadata": {},
     "output_type": "display_data"
    }
   ],
   "source": [
    "plt.figure(figsize=(8,5))\n",
    "\n",
    "pols = [\"TT\", \"EE\", \"BB\"]\n",
    "\n",
    "for i, pol in enumerate(pols):\n",
    "    for split in range(1, nsplits+1):\n",
    "        plt.loglog(C_ell[ch][split][i], alpha=.8, label=pol)\n",
    "\n",
    "for i, pol in enumerate(pols):\n",
    "    plt.loglog(atmo_cl[i]*nsplits, alpha=.8, ls=\"--\", label=f\"atmo {pol}\")\n",
    "\n",
    "#for i, pol in enumerate(pols):\n",
    "#    plt.loglog(noise_cl[i], alpha=.8, ls=\"-.\", label=f\"noise {pol}\")\n",
    "\n",
    "plt.axhline(white_noise_Cl.to_value(u.K**2), ls=\":\",\n",
    "           label=\"white noise T\", color=\"black\")\n",
    "plt.axhline(white_noise_Cl.to_value(u.K**2)*2, ls=\":\",\n",
    "           label=\"white noise P\", color=\"grey\")\n",
    "plt.legend()\n",
    "plt.title(f\"Noise + Atmosphere simulations spectra for {ch}\")\n",
    "plt.ylabel(\"$C_\\ell [K^2]$\")\n",
    "plt.xlabel(\"$\\ell$\")\n",
    "plt.xlim((10, 3*nside))\n",
    "plt.grid(True)\n",
    "plt.savefig(f\"plots/C_ell_{dataset}_{ch}_{nsplits}.png\");"
   ]
  },
  {
   "cell_type": "code",
   "execution_count": null,
   "metadata": {
    "papermill": {
     "duration": 0.04367,
     "end_time": "2020-12-09T06:00:48.786984",
     "exception": false,
     "start_time": "2020-12-09T06:00:48.743314",
     "status": "completed"
    },
    "tags": []
   },
   "outputs": [],
   "source": []
  }
 ],
 "metadata": {
  "kernelspec": {
   "display_name": "condajupynersc",
   "language": "python",
   "name": "condajupynersc"
  },
  "language_info": {
   "codemirror_mode": {
    "name": "ipython",
    "version": 3
   },
   "file_extension": ".py",
   "mimetype": "text/x-python",
   "name": "python",
   "nbconvert_exporter": "python",
   "pygments_lexer": "ipython3",
   "version": "3.7.0"
  },
  "papermill": {
   "duration": 16.134039,
   "end_time": "2020-12-09T06:00:49.354666",
   "environment_variables": {},
   "exception": null,
   "input_path": "validation_atmo_noise_dec_2020.ipynb",
   "output_path": "validation_notebooks/SAT-HFS1_chile_7.ipynb",
   "parameters": {
    "ch": "SAT-HFS1_chile",
    "nsplits": 7
   },
   "start_time": "2020-12-09T06:00:33.220627",
   "version": "2.1.2"
  }
 },
 "nbformat": 4,
 "nbformat_minor": 4
}