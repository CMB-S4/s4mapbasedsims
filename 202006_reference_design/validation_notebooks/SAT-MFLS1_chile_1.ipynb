{
 "cells": [
  {
   "cell_type": "code",
   "execution_count": 1,
   "metadata": {
    "execution": {
     "iopub.execute_input": "2020-12-09T05:35:22.570579Z",
     "iopub.status.busy": "2020-12-09T05:35:22.569997Z",
     "iopub.status.idle": "2020-12-09T05:35:24.246550Z",
     "shell.execute_reply": "2020-12-09T05:35:24.245968Z"
    },
    "papermill": {
     "duration": 1.712431,
     "end_time": "2020-12-09T05:35:24.246714",
     "exception": false,
     "start_time": "2020-12-09T05:35:22.534283",
     "status": "completed"
    },
    "tags": []
   },
   "outputs": [],
   "source": [
    "import healpy as hp\n",
    "import numpy as np\n",
    "%matplotlib inline\n",
    "import matplotlib.pyplot as plt\n",
    "from pathlib import Path\n",
    "from astropy.tests.helper import assert_quantity_allclose\n",
    "import pickle\n",
    "import sys\n",
    "import os\n",
    "from astropy import units as u"
   ]
  },
  {
   "cell_type": "code",
   "execution_count": 2,
   "metadata": {
    "execution": {
     "iopub.execute_input": "2020-12-09T05:35:24.312466Z",
     "iopub.status.busy": "2020-12-09T05:35:24.311929Z",
     "iopub.status.idle": "2020-12-09T05:35:24.377759Z",
     "shell.execute_reply": "2020-12-09T05:35:24.377231Z"
    },
    "papermill": {
     "duration": 0.100211,
     "end_time": "2020-12-09T05:35:24.377874",
     "exception": false,
     "start_time": "2020-12-09T05:35:24.277663",
     "status": "completed"
    },
    "tags": []
   },
   "outputs": [],
   "source": [
    "import h5py\n",
    "s4 = h5py.File(\"cmbs4_tophat.h5\", mode=\"r\")"
   ]
  },
  {
   "cell_type": "code",
   "execution_count": 3,
   "metadata": {
    "execution": {
     "iopub.execute_input": "2020-12-09T05:35:24.441755Z",
     "iopub.status.busy": "2020-12-09T05:35:24.441199Z",
     "iopub.status.idle": "2020-12-09T05:35:24.443750Z",
     "shell.execute_reply": "2020-12-09T05:35:24.443276Z"
    },
    "papermill": {
     "duration": 0.035358,
     "end_time": "2020-12-09T05:35:24.443885",
     "exception": false,
     "start_time": "2020-12-09T05:35:24.408527",
     "status": "completed"
    },
    "tags": []
   },
   "outputs": [],
   "source": [
    "dataset = \"s4_reference_design_noise_atmo_7splits\""
   ]
  },
  {
   "cell_type": "code",
   "execution_count": 4,
   "metadata": {
    "execution": {
     "iopub.execute_input": "2020-12-09T05:35:24.503199Z",
     "iopub.status.busy": "2020-12-09T05:35:24.502658Z",
     "iopub.status.idle": "2020-12-09T05:35:24.505350Z",
     "shell.execute_reply": "2020-12-09T05:35:24.504806Z"
    },
    "papermill": {
     "duration": 0.033913,
     "end_time": "2020-12-09T05:35:24.505457",
     "exception": false,
     "start_time": "2020-12-09T05:35:24.471544",
     "status": "completed"
    },
    "tags": [
     "parameters"
    ]
   },
   "outputs": [],
   "source": [
    "ch = f\"SAT-HFS1_chile\"\n",
    "nsplits = 1"
   ]
  },
  {
   "cell_type": "code",
   "execution_count": 5,
   "metadata": {
    "execution": {
     "iopub.execute_input": "2020-12-09T05:35:24.565125Z",
     "iopub.status.busy": "2020-12-09T05:35:24.564569Z",
     "iopub.status.idle": "2020-12-09T05:35:24.566698Z",
     "shell.execute_reply": "2020-12-09T05:35:24.567115Z"
    },
    "papermill": {
     "duration": 0.033645,
     "end_time": "2020-12-09T05:35:24.567255",
     "exception": false,
     "start_time": "2020-12-09T05:35:24.533610",
     "status": "completed"
    },
    "tags": [
     "injected-parameters"
    ]
   },
   "outputs": [],
   "source": [
    "# Parameters\n",
    "ch = \"SAT-MFLS1_chile\"\n",
    "nsplits = 1\n"
   ]
  },
  {
   "cell_type": "code",
   "execution_count": 6,
   "metadata": {
    "execution": {
     "iopub.execute_input": "2020-12-09T05:35:24.627188Z",
     "iopub.status.busy": "2020-12-09T05:35:24.626632Z",
     "iopub.status.idle": "2020-12-09T05:35:24.629676Z",
     "shell.execute_reply": "2020-12-09T05:35:24.629038Z"
    },
    "papermill": {
     "duration": 0.034679,
     "end_time": "2020-12-09T05:35:24.629843",
     "exception": false,
     "start_time": "2020-12-09T05:35:24.595164",
     "status": "completed"
    },
    "tags": []
   },
   "outputs": [],
   "source": [
    "if os.path.exists(f\"plots/C_ell_{dataset}_{ch}_{nsplits}.png\"):\n",
    "    sys.exit(0)"
   ]
  },
  {
   "cell_type": "code",
   "execution_count": 7,
   "metadata": {
    "execution": {
     "iopub.execute_input": "2020-12-09T05:35:24.692380Z",
     "iopub.status.busy": "2020-12-09T05:35:24.691848Z",
     "iopub.status.idle": "2020-12-09T05:35:24.693745Z",
     "shell.execute_reply": "2020-12-09T05:35:24.694178Z"
    },
    "papermill": {
     "duration": 0.035625,
     "end_time": "2020-12-09T05:35:24.694314",
     "exception": false,
     "start_time": "2020-12-09T05:35:24.658689",
     "status": "completed"
    },
    "tags": []
   },
   "outputs": [],
   "source": [
    "sampling_frequency = dict(SAT=100*u.Hz, LAT=400*u.Hz)"
   ]
  },
  {
   "cell_type": "code",
   "execution_count": 8,
   "metadata": {
    "execution": {
     "iopub.execute_input": "2020-12-09T05:35:24.755650Z",
     "iopub.status.busy": "2020-12-09T05:35:24.755120Z",
     "iopub.status.idle": "2020-12-09T05:35:24.757784Z",
     "shell.execute_reply": "2020-12-09T05:35:24.757239Z"
    },
    "papermill": {
     "duration": 0.034453,
     "end_time": "2020-12-09T05:35:24.757894",
     "exception": false,
     "start_time": "2020-12-09T05:35:24.723441",
     "status": "completed"
    },
    "tags": []
   },
   "outputs": [],
   "source": [
    "#telescope = \"SAT\"\n",
    "#channel = \"LFS1\"\n",
    "#site = \"pole\""
   ]
  },
  {
   "cell_type": "code",
   "execution_count": 9,
   "metadata": {
    "execution": {
     "iopub.execute_input": "2020-12-09T05:35:24.830394Z",
     "iopub.status.busy": "2020-12-09T05:35:24.829564Z",
     "iopub.status.idle": "2020-12-09T05:35:24.832338Z",
     "shell.execute_reply": "2020-12-09T05:35:24.831668Z"
    },
    "papermill": {
     "duration": 0.046584,
     "end_time": "2020-12-09T05:35:24.832488",
     "exception": false,
     "start_time": "2020-12-09T05:35:24.785904",
     "status": "completed"
    },
    "tags": []
   },
   "outputs": [],
   "source": [
    "telescope = ch.split(\"-\")[0]\n",
    "channel, site= ch.split(\"-\")[1].split(\"_\")"
   ]
  },
  {
   "cell_type": "code",
   "execution_count": 10,
   "metadata": {
    "execution": {
     "iopub.execute_input": "2020-12-09T05:35:24.924021Z",
     "iopub.status.busy": "2020-12-09T05:35:24.923204Z",
     "iopub.status.idle": "2020-12-09T05:35:24.925067Z",
     "shell.execute_reply": "2020-12-09T05:35:24.925977Z"
    },
    "papermill": {
     "duration": 0.053124,
     "end_time": "2020-12-09T05:35:24.926190",
     "exception": false,
     "start_time": "2020-12-09T05:35:24.873066",
     "status": "completed"
    },
    "tags": []
   },
   "outputs": [],
   "source": [
    "local_path = Path(\"output\")\n",
    "project_path = Path(\"/global/project/projectdirs/cmbs4/dm/dstool/output/\")"
   ]
  },
  {
   "cell_type": "code",
   "execution_count": 11,
   "metadata": {
    "execution": {
     "iopub.execute_input": "2020-12-09T05:35:25.004887Z",
     "iopub.status.busy": "2020-12-09T05:35:25.004325Z",
     "iopub.status.idle": "2020-12-09T05:35:25.008465Z",
     "shell.execute_reply": "2020-12-09T05:35:25.008898Z"
    },
    "papermill": {
     "duration": 0.045348,
     "end_time": "2020-12-09T05:35:25.009059",
     "exception": false,
     "start_time": "2020-12-09T05:35:24.963711",
     "status": "completed"
    },
    "tags": []
   },
   "outputs": [],
   "source": [
    "C_ell = pickle.load(open(local_path / dataset / f\"C_ell_{telescope}_{nsplits}.pkl\", \"rb\"))"
   ]
  },
  {
   "cell_type": "code",
   "execution_count": 12,
   "metadata": {
    "execution": {
     "iopub.execute_input": "2020-12-09T05:35:25.073862Z",
     "iopub.status.busy": "2020-12-09T05:35:25.073332Z",
     "iopub.status.idle": "2020-12-09T05:35:25.076324Z",
     "shell.execute_reply": "2020-12-09T05:35:25.076729Z"
    },
    "papermill": {
     "duration": 0.038956,
     "end_time": "2020-12-09T05:35:25.076882",
     "exception": false,
     "start_time": "2020-12-09T05:35:25.037926",
     "status": "completed"
    },
    "tags": []
   },
   "outputs": [
    {
     "data": {
      "text/plain": [
       "('SAT', 'MFLS1', 'chile')"
      ]
     },
     "execution_count": 12,
     "metadata": {},
     "output_type": "execute_result"
    }
   ],
   "source": [
    "telescope, channel, site"
   ]
  },
  {
   "cell_type": "code",
   "execution_count": 13,
   "metadata": {
    "execution": {
     "iopub.execute_input": "2020-12-09T05:35:25.141521Z",
     "iopub.status.busy": "2020-12-09T05:35:25.140979Z",
     "iopub.status.idle": "2020-12-09T05:35:25.143716Z",
     "shell.execute_reply": "2020-12-09T05:35:25.144118Z"
    },
    "papermill": {
     "duration": 0.037426,
     "end_time": "2020-12-09T05:35:25.144267",
     "exception": false,
     "start_time": "2020-12-09T05:35:25.106841",
     "status": "completed"
    },
    "tags": []
   },
   "outputs": [
    {
     "data": {
      "text/plain": [
       "dict_keys(['SAT-HFS1_chile', 'SAT-HFS2_chile', 'SAT-LFS1_chile', 'SAT-LFS2_chile', 'SAT-MFHS1_chile', 'SAT-MFHS2_chile', 'SAT-MFLS1_chile', 'SAT-MFLS2_chile'])"
      ]
     },
     "execution_count": 13,
     "metadata": {},
     "output_type": "execute_result"
    }
   ],
   "source": [
    "C_ell.keys()"
   ]
  },
  {
   "cell_type": "code",
   "execution_count": 14,
   "metadata": {
    "execution": {
     "iopub.execute_input": "2020-12-09T05:35:25.208543Z",
     "iopub.status.busy": "2020-12-09T05:35:25.208009Z",
     "iopub.status.idle": "2020-12-09T05:35:25.210198Z",
     "shell.execute_reply": "2020-12-09T05:35:25.210635Z"
    },
    "papermill": {
     "duration": 0.036955,
     "end_time": "2020-12-09T05:35:25.210778",
     "exception": false,
     "start_time": "2020-12-09T05:35:25.173823",
     "status": "completed"
    },
    "tags": []
   },
   "outputs": [],
   "source": [
    "nside = 4096 if telescope == \"LAT\" else 512"
   ]
  },
  {
   "cell_type": "code",
   "execution_count": 15,
   "metadata": {
    "execution": {
     "iopub.execute_input": "2020-12-09T05:35:25.274027Z",
     "iopub.status.busy": "2020-12-09T05:35:25.273484Z",
     "iopub.status.idle": "2020-12-09T05:35:25.276756Z",
     "shell.execute_reply": "2020-12-09T05:35:25.277205Z"
    },
    "papermill": {
     "duration": 0.036645,
     "end_time": "2020-12-09T05:35:25.277356",
     "exception": false,
     "start_time": "2020-12-09T05:35:25.240711",
     "status": "completed"
    },
    "tags": []
   },
   "outputs": [],
   "source": [
    "from s4_design_sim_tool.core import base_folder"
   ]
  },
  {
   "cell_type": "code",
   "execution_count": 16,
   "metadata": {
    "execution": {
     "iopub.execute_input": "2020-12-09T05:35:25.355722Z",
     "iopub.status.busy": "2020-12-09T05:35:25.354849Z",
     "iopub.status.idle": "2020-12-09T05:35:25.369673Z",
     "shell.execute_reply": "2020-12-09T05:35:25.370451Z"
    },
    "papermill": {
     "duration": 0.06312,
     "end_time": "2020-12-09T05:35:25.370710",
     "exception": false,
     "start_time": "2020-12-09T05:35:25.307590",
     "status": "completed"
    },
    "tags": []
   },
   "outputs": [],
   "source": [
    "from s4_design_sim_tool.cli import parse_config\n",
    "if site == \"chile\" and telescope == \"SAT\":\n",
    "    config = parse_config(f\"{dataset}.toml\", \"chile_sat.toml\")\n",
    "else:\n",
    "    config = parse_config(f\"{dataset}.toml\")"
   ]
  },
  {
   "cell_type": "code",
   "execution_count": 17,
   "metadata": {
    "execution": {
     "iopub.execute_input": "2020-12-09T05:35:25.443626Z",
     "iopub.status.busy": "2020-12-09T05:35:25.443052Z",
     "iopub.status.idle": "2020-12-09T05:35:27.260051Z",
     "shell.execute_reply": "2020-12-09T05:35:27.260705Z"
    },
    "papermill": {
     "duration": 1.854121,
     "end_time": "2020-12-09T05:35:27.260925",
     "exception": false,
     "start_time": "2020-12-09T05:35:25.406804",
     "status": "completed"
    },
    "tags": []
   },
   "outputs": [
    {
     "name": "stderr",
     "output_type": "stream",
     "text": [
      "/global/homes/z/zonca/condajupynersc/lib/python3.7/site-packages/healpy/fitsfunc.py:369: UserWarning: If you are not specifying the input dtype and using the default np.float64 dtype of read_map(), please consider that it will change in a future version to None as to keep the same dtype of the input file: please explicitly set the dtype if it is important to you.\n",
      "  \"If you are not specifying the input dtype and using the default \"\n"
     ]
    },
    {
     "name": "stderr",
     "output_type": "stream",
     "text": [
      "/global/homes/z/zonca/condajupynersc/lib/python3.7/site-packages/healpy/fitsfunc.py:391: UserWarning: NSIDE = 512\n",
      "  warnings.warn(\"NSIDE = {0:d}\".format(nside))\n",
      "/global/homes/z/zonca/condajupynersc/lib/python3.7/site-packages/healpy/fitsfunc.py:400: UserWarning: ORDERING = RING in fits file\n",
      "  warnings.warn(\"ORDERING = {0:s} in fits file\".format(ordering))\n",
      "/global/homes/z/zonca/condajupynersc/lib/python3.7/site-packages/healpy/fitsfunc.py:428: UserWarning: INDXSCHM = IMPLICIT\n",
      "  warnings.warn(\"INDXSCHM = {0:s}\".format(schm))\n"
     ]
    }
   ],
   "source": [
    "hitmap = hp.read_map(local_path / dataset / ch / f\"cmbs4_hitmap_{ch}_nside{nside}_1_of_{nsplits}.fits\")"
   ]
  },
  {
   "cell_type": "code",
   "execution_count": 18,
   "metadata": {
    "execution": {
     "iopub.execute_input": "2020-12-09T05:35:27.336823Z",
     "iopub.status.busy": "2020-12-09T05:35:27.336242Z",
     "iopub.status.idle": "2020-12-09T05:35:27.338534Z",
     "shell.execute_reply": "2020-12-09T05:35:27.338996Z"
    },
    "papermill": {
     "duration": 0.042189,
     "end_time": "2020-12-09T05:35:27.339224",
     "exception": false,
     "start_time": "2020-12-09T05:35:27.297035",
     "status": "completed"
    },
    "tags": []
   },
   "outputs": [
    {
     "data": {
      "text/plain": [
       "'MFLS1'"
      ]
     },
     "execution_count": 18,
     "metadata": {},
     "output_type": "execute_result"
    }
   ],
   "source": [
    "channel"
   ]
  },
  {
   "cell_type": "code",
   "execution_count": 19,
   "metadata": {
    "execution": {
     "iopub.execute_input": "2020-12-09T05:35:27.407882Z",
     "iopub.status.busy": "2020-12-09T05:35:27.407244Z",
     "iopub.status.idle": "2020-12-09T05:35:27.410160Z",
     "shell.execute_reply": "2020-12-09T05:35:27.409680Z"
    },
    "papermill": {
     "duration": 0.039422,
     "end_time": "2020-12-09T05:35:27.410292",
     "exception": false,
     "start_time": "2020-12-09T05:35:27.370870",
     "status": "completed"
    },
    "tags": []
   },
   "outputs": [
    {
     "data": {
      "text/plain": [
       "21"
      ]
     },
     "execution_count": 19,
     "metadata": {},
     "output_type": "execute_result"
    }
   ],
   "source": [
    "from s4_design_sim_tool.noise import get_tube_years\n",
    "tube_years = get_tube_years(config, site, channel)\n",
    "tube_years"
   ]
  },
  {
   "cell_type": "code",
   "execution_count": 20,
   "metadata": {
    "execution": {
     "iopub.execute_input": "2020-12-09T05:35:27.480850Z",
     "iopub.status.busy": "2020-12-09T05:35:27.480116Z",
     "iopub.status.idle": "2020-12-09T05:35:27.487564Z",
     "shell.execute_reply": "2020-12-09T05:35:27.488068Z"
    },
    "papermill": {
     "duration": 0.045952,
     "end_time": "2020-12-09T05:35:27.488224",
     "exception": false,
     "start_time": "2020-12-09T05:35:27.442272",
     "status": "completed"
    },
    "tags": []
   },
   "outputs": [
    {
     "data": {
      "text/plain": [
       "100.11248596396483"
      ]
     },
     "execution_count": 20,
     "metadata": {},
     "output_type": "execute_result"
    }
   ],
   "source": [
    "sampling_rate = hitmap.sum()\n",
    "sampling_rate /= 365.25 * 24 * 3600\n",
    "sampling_rate /= tube_years * config[\"experiment\"][\"observing_efficiency\"]\n",
    "sampling_rate /= s4[channel].attrs[\"detectors_per_tube\"]\n",
    "sampling_rate *= nsplits\n",
    "sampling_rate"
   ]
  },
  {
   "cell_type": "code",
   "execution_count": 21,
   "metadata": {
    "execution": {
     "iopub.execute_input": "2020-12-09T05:35:27.559403Z",
     "iopub.status.busy": "2020-12-09T05:35:27.558823Z",
     "iopub.status.idle": "2020-12-09T05:35:27.561098Z",
     "shell.execute_reply": "2020-12-09T05:35:27.560620Z"
    },
    "papermill": {
     "duration": 0.040445,
     "end_time": "2020-12-09T05:35:27.561218",
     "exception": false,
     "start_time": "2020-12-09T05:35:27.520773",
     "status": "completed"
    },
    "tags": []
   },
   "outputs": [],
   "source": [
    "np.testing.assert_allclose(sampling_rate, sampling_frequency[telescope].value, rtol=1/100)"
   ]
  },
  {
   "cell_type": "code",
   "execution_count": 22,
   "metadata": {
    "execution": {
     "iopub.execute_input": "2020-12-09T05:35:27.631356Z",
     "iopub.status.busy": "2020-12-09T05:35:27.630769Z",
     "iopub.status.idle": "2020-12-09T05:35:28.140317Z",
     "shell.execute_reply": "2020-12-09T05:35:28.140754Z"
    },
    "papermill": {
     "duration": 0.547258,
     "end_time": "2020-12-09T05:35:28.140897",
     "exception": false,
     "start_time": "2020-12-09T05:35:27.593639",
     "status": "completed"
    },
    "tags": []
   },
   "outputs": [
    {
     "name": "stderr",
     "output_type": "stream",
     "text": [
      "/global/homes/z/zonca/condajupynersc/lib/python3.7/site-packages/ipykernel_launcher.py:1: RuntimeWarning: divide by zero encountered in log10\n",
      "  \"\"\"Entry point for launching an IPython kernel.\n",
      "/global/homes/z/zonca/condajupynersc/lib/python3.7/site-packages/healpy/projaxes.py:920: MatplotlibDeprecationWarning: You are modifying the state of a globally registered colormap. In future versions, you will not be able to modify a registered colormap in-place. To remove this warning, you can make a copy of the colormap first. cmap = copy.copy(mpl.cm.get_cmap(\"viridis\"))\n",
      "  newcm.set_over(newcm(1.0))\n",
      "/global/homes/z/zonca/condajupynersc/lib/python3.7/site-packages/healpy/projaxes.py:921: MatplotlibDeprecationWarning: You are modifying the state of a globally registered colormap. In future versions, you will not be able to modify a registered colormap in-place. To remove this warning, you can make a copy of the colormap first. cmap = copy.copy(mpl.cm.get_cmap(\"viridis\"))\n",
      "  newcm.set_under(bgcolor)\n",
      "/global/homes/z/zonca/condajupynersc/lib/python3.7/site-packages/healpy/projaxes.py:922: MatplotlibDeprecationWarning: You are modifying the state of a globally registered colormap. In future versions, you will not be able to modify a registered colormap in-place. To remove this warning, you can make a copy of the colormap first. cmap = copy.copy(mpl.cm.get_cmap(\"viridis\"))\n",
      "  newcm.set_bad(badcolor)\n",
      "/global/homes/z/zonca/condajupynersc/lib/python3.7/site-packages/healpy/projaxes.py:211: MatplotlibDeprecationWarning: Passing parameters norm and vmin/vmax simultaneously is deprecated since 3.3 and will become an error two minor releases later. Please pass vmin/vmax directly to the norm when creating it.\n",
      "  **kwds\n"
     ]
    },
    {
     "data": {
      "image/png": "[encoded data removed]",
      "text/plain": [
       "<Figure size 612x388.8 with 2 Axes>"
      ]
     },
     "metadata": {
      "needs_background": "light"
     },
     "output_type": "display_data"
    }
   ],
   "source": [
    "log_hitmap = np.log10(hitmap)\n",
    "log_hitmap[np.isinf(log_hitmap)] = hp.UNSEEN\n",
    "hp.mollview(log_hitmap, unit=\"log10(samples)\", title=f\"Hitmap {ch}\")\n",
    "plt.savefig(f\"plots/hitmap_{channel}_{site}_1_of_{nsplits}.png\")"
   ]
  },
  {
   "cell_type": "code",
   "execution_count": 23,
   "metadata": {
    "execution": {
     "iopub.execute_input": "2020-12-09T05:35:28.219652Z",
     "iopub.status.busy": "2020-12-09T05:35:28.219105Z",
     "iopub.status.idle": "2020-12-09T05:35:28.488923Z",
     "shell.execute_reply": "2020-12-09T05:35:28.488426Z"
    },
    "papermill": {
     "duration": 0.309554,
     "end_time": "2020-12-09T05:35:28.489039",
     "exception": false,
     "start_time": "2020-12-09T05:35:28.179485",
     "status": "completed"
    },
    "tags": []
   },
   "outputs": [],
   "source": [
    "wcov = hp.read_map(local_path / dataset / ch / f\"cmbs4_wcov_{ch}_nside{nside}_1_of_{nsplits}.fits\", (3))"
   ]
  },
  {
   "cell_type": "code",
   "execution_count": 24,
   "metadata": {
    "execution": {
     "iopub.execute_input": "2020-12-09T05:35:28.564203Z",
     "iopub.status.busy": "2020-12-09T05:35:28.563556Z",
     "iopub.status.idle": "2020-12-09T05:35:28.566459Z",
     "shell.execute_reply": "2020-12-09T05:35:28.566900Z"
    },
    "papermill": {
     "duration": 0.04243,
     "end_time": "2020-12-09T05:35:28.567036",
     "exception": false,
     "start_time": "2020-12-09T05:35:28.524606",
     "status": "completed"
    },
    "tags": []
   },
   "outputs": [
    {
     "data": {
      "text/plain": [
       "(3145728,)"
      ]
     },
     "execution_count": 24,
     "metadata": {},
     "output_type": "execute_result"
    }
   ],
   "source": [
    "wcov.shape"
   ]
  },
  {
   "cell_type": "code",
   "execution_count": 25,
   "metadata": {
    "execution": {
     "iopub.execute_input": "2020-12-09T05:35:28.640905Z",
     "iopub.status.busy": "2020-12-09T05:35:28.640207Z",
     "iopub.status.idle": "2020-12-09T05:35:28.642664Z",
     "shell.execute_reply": "2020-12-09T05:35:28.643109Z"
    },
    "papermill": {
     "duration": 0.041564,
     "end_time": "2020-12-09T05:35:28.643273",
     "exception": false,
     "start_time": "2020-12-09T05:35:28.601709",
     "status": "completed"
    },
    "tags": []
   },
   "outputs": [],
   "source": [
    "import astropy.units as u"
   ]
  },
  {
   "cell_type": "code",
   "execution_count": 26,
   "metadata": {
    "execution": {
     "iopub.execute_input": "2020-12-09T05:35:28.719305Z",
     "iopub.status.busy": "2020-12-09T05:35:28.718500Z",
     "iopub.status.idle": "2020-12-09T05:35:28.720589Z",
     "shell.execute_reply": "2020-12-09T05:35:28.721026Z"
    },
    "papermill": {
     "duration": 0.042818,
     "end_time": "2020-12-09T05:35:28.721188",
     "exception": false,
     "start_time": "2020-12-09T05:35:28.678370",
     "status": "completed"
    },
    "tags": []
   },
   "outputs": [],
   "source": [
    "channel_NET = s4[channel].attrs[\"NET_uKsqrts\"] * u.uK * u.s ** .5"
   ]
  },
  {
   "cell_type": "code",
   "execution_count": 27,
   "metadata": {
    "execution": {
     "iopub.execute_input": "2020-12-09T05:35:28.795741Z",
     "iopub.status.busy": "2020-12-09T05:35:28.795047Z",
     "iopub.status.idle": "2020-12-09T05:35:28.797840Z",
     "shell.execute_reply": "2020-12-09T05:35:28.797348Z"
    },
    "papermill": {
     "duration": 0.041989,
     "end_time": "2020-12-09T05:35:28.797946",
     "exception": false,
     "start_time": "2020-12-09T05:35:28.755957",
     "status": "completed"
    },
    "tags": []
   },
   "outputs": [],
   "source": [
    "if telescope == \"LAT\" and site==\"pole\":\n",
    "    channel_NET = s4[channel].attrs[\"pole_NET_uKsqrts\"] * u.uK * u.s ** .5"
   ]
  },
  {
   "cell_type": "code",
   "execution_count": 28,
   "metadata": {
    "execution": {
     "iopub.execute_input": "2020-12-09T05:35:28.873545Z",
     "iopub.status.busy": "2020-12-09T05:35:28.872561Z",
     "iopub.status.idle": "2020-12-09T05:35:28.949580Z",
     "shell.execute_reply": "2020-12-09T05:35:28.950037Z"
    },
    "papermill": {
     "duration": 0.116633,
     "end_time": "2020-12-09T05:35:28.950185",
     "exception": false,
     "start_time": "2020-12-09T05:35:28.833552",
     "status": "completed"
    },
    "tags": []
   },
   "outputs": [],
   "source": [
    "variance_QQ = wcov * u.K ** 2 * (hitmap / sampling_frequency[telescope]) "
   ]
  },
  {
   "cell_type": "code",
   "execution_count": 29,
   "metadata": {
    "execution": {
     "iopub.execute_input": "2020-12-09T05:35:29.025080Z",
     "iopub.status.busy": "2020-12-09T05:35:29.024039Z",
     "iopub.status.idle": "2020-12-09T05:35:29.032480Z",
     "shell.execute_reply": "2020-12-09T05:35:29.032921Z"
    },
    "papermill": {
     "duration": 0.047511,
     "end_time": "2020-12-09T05:35:29.033064",
     "exception": false,
     "start_time": "2020-12-09T05:35:28.985553",
     "status": "completed"
    },
    "tags": []
   },
   "outputs": [],
   "source": [
    "assert (variance_QQ.value == hp.UNSEEN).sum() == 0"
   ]
  },
  {
   "cell_type": "code",
   "execution_count": 30,
   "metadata": {
    "execution": {
     "iopub.execute_input": "2020-12-09T05:35:29.138660Z",
     "iopub.status.busy": "2020-12-09T05:35:29.137640Z",
     "iopub.status.idle": "2020-12-09T05:35:29.164353Z",
     "shell.execute_reply": "2020-12-09T05:35:29.163859Z"
    },
    "papermill": {
     "duration": 0.066006,
     "end_time": "2020-12-09T05:35:29.164478",
     "exception": false,
     "start_time": "2020-12-09T05:35:29.098472",
     "status": "completed"
    },
    "tags": []
   },
   "outputs": [],
   "source": [
    "full_mission_NET = np.sqrt(np.median(variance_QQ[hitmap != 0]))"
   ]
  },
  {
   "cell_type": "code",
   "execution_count": 31,
   "metadata": {
    "execution": {
     "iopub.execute_input": "2020-12-09T05:35:29.241161Z",
     "iopub.status.busy": "2020-12-09T05:35:29.240429Z",
     "iopub.status.idle": "2020-12-09T05:35:29.243732Z",
     "shell.execute_reply": "2020-12-09T05:35:29.244166Z"
    },
    "papermill": {
     "duration": 0.044452,
     "end_time": "2020-12-09T05:35:29.244302",
     "exception": false,
     "start_time": "2020-12-09T05:35:29.199850",
     "status": "completed"
    },
    "tags": []
   },
   "outputs": [
    {
     "data": {
      "text/latex": [
       "$374.82873 \\; \\mathrm{\\mu K\\,s^{1/2}}$"
      ],
      "text/plain": [
       "<Quantity 374.82872907 s(1/2) uK>"
      ]
     },
     "execution_count": 31,
     "metadata": {},
     "output_type": "execute_result"
    }
   ],
   "source": [
    "full_mission_NET.to(channel_NET.unit)"
   ]
  },
  {
   "cell_type": "code",
   "execution_count": 32,
   "metadata": {
    "execution": {
     "iopub.execute_input": "2020-12-09T05:35:29.320804Z",
     "iopub.status.busy": "2020-12-09T05:35:29.320148Z",
     "iopub.status.idle": "2020-12-09T05:35:29.323153Z",
     "shell.execute_reply": "2020-12-09T05:35:29.323616Z"
    },
    "papermill": {
     "duration": 0.044381,
     "end_time": "2020-12-09T05:35:29.323753",
     "exception": false,
     "start_time": "2020-12-09T05:35:29.279372",
     "status": "completed"
    },
    "tags": []
   },
   "outputs": [
    {
     "data": {
      "text/latex": [
       "$270 \\; \\mathrm{\\mu K\\,s^{1/2}}$"
      ],
      "text/plain": [
       "<Quantity 270. s(1/2) uK>"
      ]
     },
     "execution_count": 32,
     "metadata": {},
     "output_type": "execute_result"
    }
   ],
   "source": [
    "channel_NET"
   ]
  },
  {
   "cell_type": "code",
   "execution_count": 33,
   "metadata": {
    "execution": {
     "iopub.execute_input": "2020-12-09T05:35:29.401174Z",
     "iopub.status.busy": "2020-12-09T05:35:29.400539Z",
     "iopub.status.idle": "2020-12-09T05:35:29.403940Z",
     "shell.execute_reply": "2020-12-09T05:35:29.403455Z"
    },
    "papermill": {
     "duration": 0.044378,
     "end_time": "2020-12-09T05:35:29.404057",
     "exception": false,
     "start_time": "2020-12-09T05:35:29.359679",
     "status": "completed"
    },
    "tags": []
   },
   "outputs": [
    {
     "data": {
      "text/latex": [
       "$265.04394 \\; \\mathrm{\\mu K\\,s^{1/2}}$"
      ],
      "text/plain": [
       "<Quantity 265.04393611 s(1/2) uK>"
      ]
     },
     "execution_count": 33,
     "metadata": {},
     "output_type": "execute_result"
    }
   ],
   "source": [
    "(full_mission_NET/np.sqrt(2)).to(channel_NET.unit)"
   ]
  },
  {
   "cell_type": "code",
   "execution_count": 34,
   "metadata": {
    "execution": {
     "iopub.execute_input": "2020-12-09T05:35:29.481883Z",
     "iopub.status.busy": "2020-12-09T05:35:29.481117Z",
     "iopub.status.idle": "2020-12-09T05:35:29.483728Z",
     "shell.execute_reply": "2020-12-09T05:35:29.483235Z"
    },
    "papermill": {
     "duration": 0.043517,
     "end_time": "2020-12-09T05:35:29.483841",
     "exception": false,
     "start_time": "2020-12-09T05:35:29.440324",
     "status": "completed"
    },
    "tags": []
   },
   "outputs": [],
   "source": [
    "assert_quantity_allclose(full_mission_NET, channel_NET*np.sqrt(2), rtol=10/100) "
   ]
  },
  {
   "cell_type": "code",
   "execution_count": 35,
   "metadata": {
    "execution": {
     "iopub.execute_input": "2020-12-09T05:35:29.562902Z",
     "iopub.status.busy": "2020-12-09T05:35:29.561901Z",
     "iopub.status.idle": "2020-12-09T05:35:29.570474Z",
     "shell.execute_reply": "2020-12-09T05:35:29.570924Z"
    },
    "papermill": {
     "duration": 0.050719,
     "end_time": "2020-12-09T05:35:29.571077",
     "exception": false,
     "start_time": "2020-12-09T05:35:29.520358",
     "status": "completed"
    },
    "tags": []
   },
   "outputs": [],
   "source": [
    "sky_fraction = (hitmap > 0).sum() / len(hitmap)"
   ]
  },
  {
   "cell_type": "code",
   "execution_count": 36,
   "metadata": {
    "execution": {
     "iopub.execute_input": "2020-12-09T05:35:29.655544Z",
     "iopub.status.busy": "2020-12-09T05:35:29.654903Z",
     "iopub.status.idle": "2020-12-09T05:35:29.658225Z",
     "shell.execute_reply": "2020-12-09T05:35:29.657708Z"
    },
    "papermill": {
     "duration": 0.046967,
     "end_time": "2020-12-09T05:35:29.658357",
     "exception": false,
     "start_time": "2020-12-09T05:35:29.611390",
     "status": "completed"
    },
    "tags": []
   },
   "outputs": [
    {
     "data": {
      "text/plain": [
       "0.44712352752685547"
      ]
     },
     "execution_count": 36,
     "metadata": {},
     "output_type": "execute_result"
    }
   ],
   "source": [
    "sky_fraction"
   ]
  },
  {
   "cell_type": "code",
   "execution_count": 37,
   "metadata": {
    "execution": {
     "iopub.execute_input": "2020-12-09T05:35:29.739987Z",
     "iopub.status.busy": "2020-12-09T05:35:29.739211Z",
     "iopub.status.idle": "2020-12-09T05:35:29.741288Z",
     "shell.execute_reply": "2020-12-09T05:35:29.741731Z"
    },
    "papermill": {
     "duration": 0.044184,
     "end_time": "2020-12-09T05:35:29.741866",
     "exception": false,
     "start_time": "2020-12-09T05:35:29.697682",
     "status": "completed"
    },
    "tags": []
   },
   "outputs": [],
   "source": [
    "pixarea = hp.nside2pixarea(nside)"
   ]
  },
  {
   "cell_type": "code",
   "execution_count": 38,
   "metadata": {
    "execution": {
     "iopub.execute_input": "2020-12-09T05:35:29.824022Z",
     "iopub.status.busy": "2020-12-09T05:35:29.823040Z",
     "iopub.status.idle": "2020-12-09T05:35:29.833895Z",
     "shell.execute_reply": "2020-12-09T05:35:29.834341Z"
    },
    "papermill": {
     "duration": 0.054311,
     "end_time": "2020-12-09T05:35:29.834509",
     "exception": false,
     "start_time": "2020-12-09T05:35:29.780198",
     "status": "completed"
    },
    "tags": []
   },
   "outputs": [
    {
     "data": {
      "text/plain": [
       "9.899141593917828e-17"
      ]
     },
     "execution_count": 38,
     "metadata": {},
     "output_type": "execute_result"
    }
   ],
   "source": [
    "np.mean(wcov[hitmap > 0])* pixarea"
   ]
  },
  {
   "cell_type": "code",
   "execution_count": 39,
   "metadata": {
    "execution": {
     "iopub.execute_input": "2020-12-09T05:35:29.917118Z",
     "iopub.status.busy": "2020-12-09T05:35:29.916439Z",
     "iopub.status.idle": "2020-12-09T05:35:29.924790Z",
     "shell.execute_reply": "2020-12-09T05:35:29.924216Z"
    },
    "papermill": {
     "duration": 0.050901,
     "end_time": "2020-12-09T05:35:29.924912",
     "exception": false,
     "start_time": "2020-12-09T05:35:29.874011",
     "status": "completed"
    },
    "tags": []
   },
   "outputs": [],
   "source": [
    "wcov [ wcov == hp.UNSEEN] = 0"
   ]
  },
  {
   "cell_type": "markdown",
   "metadata": {
    "papermill": {
     "duration": 0.038528,
     "end_time": "2020-12-09T05:35:30.002682",
     "exception": false,
     "start_time": "2020-12-09T05:35:29.964154",
     "status": "completed"
    },
    "tags": []
   },
   "source": [
    "## Atmosphere"
   ]
  },
  {
   "cell_type": "code",
   "execution_count": 40,
   "metadata": {
    "execution": {
     "iopub.execute_input": "2020-12-09T05:35:30.085034Z",
     "iopub.status.busy": "2020-12-09T05:35:30.084370Z",
     "iopub.status.idle": "2020-12-09T05:35:30.086148Z",
     "shell.execute_reply": "2020-12-09T05:35:30.086619Z"
    },
    "papermill": {
     "duration": 0.04525,
     "end_time": "2020-12-09T05:35:30.086760",
     "exception": false,
     "start_time": "2020-12-09T05:35:30.041510",
     "status": "completed"
    },
    "tags": []
   },
   "outputs": [],
   "source": [
    "atmosphere_filename = Path(base_folder) / \"00000000\" / f\"{site}_atmosphere_{telescope}_{channel}_filtered_telescope_all_time_all_bmap.fits\""
   ]
  },
  {
   "cell_type": "code",
   "execution_count": 41,
   "metadata": {
    "execution": {
     "iopub.execute_input": "2020-12-09T05:35:30.170538Z",
     "iopub.status.busy": "2020-12-09T05:35:30.169862Z",
     "iopub.status.idle": "2020-12-09T05:35:30.898659Z",
     "shell.execute_reply": "2020-12-09T05:35:30.898070Z"
    },
    "papermill": {
     "duration": 0.772559,
     "end_time": "2020-12-09T05:35:30.898796",
     "exception": false,
     "start_time": "2020-12-09T05:35:30.126237",
     "status": "completed"
    },
    "tags": []
   },
   "outputs": [
    {
     "name": "stderr",
     "output_type": "stream",
     "text": [
      "/global/homes/z/zonca/condajupynersc/lib/python3.7/site-packages/healpy/fitsfunc.py:400: UserWarning: ORDERING = NESTED in fits file\n",
      "  warnings.warn(\"ORDERING = {0:s} in fits file\".format(ordering))\n",
      "/global/homes/z/zonca/condajupynersc/lib/python3.7/site-packages/healpy/fitsfunc.py:486: UserWarning: Ordering converted to RING\n",
      "  warnings.warn(\"Ordering converted to RING\")\n"
     ]
    }
   ],
   "source": [
    "input_atmophere = hp.ma(hp.read_map(atmosphere_filename, (0,1,2)))"
   ]
  },
  {
   "cell_type": "code",
   "execution_count": 42,
   "metadata": {
    "execution": {
     "iopub.execute_input": "2020-12-09T05:35:30.983000Z",
     "iopub.status.busy": "2020-12-09T05:35:30.982359Z",
     "iopub.status.idle": "2020-12-09T05:35:31.013896Z",
     "shell.execute_reply": "2020-12-09T05:35:31.014340Z"
    },
    "papermill": {
     "duration": 0.07505,
     "end_time": "2020-12-09T05:35:31.014566",
     "exception": false,
     "start_time": "2020-12-09T05:35:30.939516",
     "status": "completed"
    },
    "tags": []
   },
   "outputs": [],
   "source": [
    "sqrt_hitmap = hitmap.copy()\n",
    "sqrt_hitmap[hitmap>0] = np.sqrt(hitmap[hitmap>0])"
   ]
  },
  {
   "cell_type": "code",
   "execution_count": 43,
   "metadata": {
    "execution": {
     "iopub.execute_input": "2020-12-09T05:35:31.099783Z",
     "iopub.status.busy": "2020-12-09T05:35:31.099218Z",
     "iopub.status.idle": "2020-12-09T05:35:34.202252Z",
     "shell.execute_reply": "2020-12-09T05:35:34.202763Z"
    },
    "papermill": {
     "duration": 3.148062,
     "end_time": "2020-12-09T05:35:34.202916",
     "exception": false,
     "start_time": "2020-12-09T05:35:31.054854",
     "status": "completed"
    },
    "tags": []
   },
   "outputs": [],
   "source": [
    "atmo_cl = \\\n",
    "hp.anafast(input_atmophere * sqrt_hitmap, use_pixel_weights=True) / np.mean(hitmap) # / sky_fraction"
   ]
  },
  {
   "cell_type": "code",
   "execution_count": 44,
   "metadata": {
    "execution": {
     "iopub.execute_input": "2020-12-09T05:35:34.287739Z",
     "iopub.status.busy": "2020-12-09T05:35:34.286985Z",
     "iopub.status.idle": "2020-12-09T05:35:34.289287Z",
     "shell.execute_reply": "2020-12-09T05:35:34.289735Z"
    },
    "papermill": {
     "duration": 0.046572,
     "end_time": "2020-12-09T05:35:34.289869",
     "exception": false,
     "start_time": "2020-12-09T05:35:34.243297",
     "status": "completed"
    },
    "tags": []
   },
   "outputs": [],
   "source": [
    "from s4_design_sim_tool.atmosphere import get_telecope_years"
   ]
  },
  {
   "cell_type": "code",
   "execution_count": 45,
   "metadata": {
    "execution": {
     "iopub.execute_input": "2020-12-09T05:35:34.376870Z",
     "iopub.status.busy": "2020-12-09T05:35:34.376077Z",
     "iopub.status.idle": "2020-12-09T05:35:34.378762Z",
     "shell.execute_reply": "2020-12-09T05:35:34.378256Z"
    },
    "papermill": {
     "duration": 0.046959,
     "end_time": "2020-12-09T05:35:34.378876",
     "exception": false,
     "start_time": "2020-12-09T05:35:34.331917",
     "status": "completed"
    },
    "tags": []
   },
   "outputs": [],
   "source": [
    "telescope_years = get_telecope_years(config, site, channel)"
   ]
  },
  {
   "cell_type": "code",
   "execution_count": 46,
   "metadata": {
    "execution": {
     "iopub.execute_input": "2020-12-09T05:35:34.468663Z",
     "iopub.status.busy": "2020-12-09T05:35:34.467910Z",
     "iopub.status.idle": "2020-12-09T05:35:34.471085Z",
     "shell.execute_reply": "2020-12-09T05:35:34.471572Z"
    },
    "papermill": {
     "duration": 0.049124,
     "end_time": "2020-12-09T05:35:34.471722",
     "exception": false,
     "start_time": "2020-12-09T05:35:34.422598",
     "status": "completed"
    },
    "tags": []
   },
   "outputs": [
    {
     "data": {
      "text/plain": [
       "7"
      ]
     },
     "execution_count": 46,
     "metadata": {},
     "output_type": "execute_result"
    }
   ],
   "source": [
    "telescope_years"
   ]
  },
  {
   "cell_type": "code",
   "execution_count": 47,
   "metadata": {
    "execution": {
     "iopub.execute_input": "2020-12-09T05:35:34.562886Z",
     "iopub.status.busy": "2020-12-09T05:35:34.562309Z",
     "iopub.status.idle": "2020-12-09T05:35:34.564777Z",
     "shell.execute_reply": "2020-12-09T05:35:34.564314Z"
    },
    "papermill": {
     "duration": 0.047398,
     "end_time": "2020-12-09T05:35:34.564895",
     "exception": false,
     "start_time": "2020-12-09T05:35:34.517497",
     "status": "completed"
    },
    "tags": []
   },
   "outputs": [],
   "source": [
    "from s4_design_sim_tool.core import simulations_observing_efficiency"
   ]
  },
  {
   "cell_type": "code",
   "execution_count": 48,
   "metadata": {
    "execution": {
     "iopub.execute_input": "2020-12-09T05:35:34.650379Z",
     "iopub.status.busy": "2020-12-09T05:35:34.649845Z",
     "iopub.status.idle": "2020-12-09T05:35:34.653104Z",
     "shell.execute_reply": "2020-12-09T05:35:34.652591Z"
    },
    "papermill": {
     "duration": 0.046809,
     "end_time": "2020-12-09T05:35:34.653213",
     "exception": false,
     "start_time": "2020-12-09T05:35:34.606404",
     "status": "completed"
    },
    "tags": []
   },
   "outputs": [
    {
     "data": {
      "text/plain": [
       "{'pole': {'SAT': 0.3931149305555555, 'LAT': 0.321544537037037},\n",
       " 'chile': {'SAT': 0.8656164351851852, 'LAT': 0.917306712962963}}"
      ]
     },
     "execution_count": 48,
     "metadata": {},
     "output_type": "execute_result"
    }
   ],
   "source": [
    "simulations_observing_efficiency"
   ]
  },
  {
   "cell_type": "code",
   "execution_count": 49,
   "metadata": {
    "execution": {
     "iopub.execute_input": "2020-12-09T05:35:34.752833Z",
     "iopub.status.busy": "2020-12-09T05:35:34.752284Z",
     "iopub.status.idle": "2020-12-09T05:35:34.755170Z",
     "shell.execute_reply": "2020-12-09T05:35:34.754686Z"
    },
    "papermill": {
     "duration": 0.062444,
     "end_time": "2020-12-09T05:35:34.755282",
     "exception": false,
     "start_time": "2020-12-09T05:35:34.692838",
     "status": "completed"
    },
    "tags": []
   },
   "outputs": [],
   "source": [
    "atmo_cl *= 10 / 365.25\n",
    "atmo_cl *= simulations_observing_efficiency[site.lower()].get(telescope, 1) / config[\"experiment\"][\"observing_efficiency\"]                                                                    \n",
    "atmo_cl /= telescope_years"
   ]
  },
  {
   "cell_type": "markdown",
   "metadata": {
    "papermill": {
     "duration": 0.039357,
     "end_time": "2020-12-09T05:35:34.833994",
     "exception": false,
     "start_time": "2020-12-09T05:35:34.794637",
     "status": "completed"
    },
    "tags": []
   },
   "source": [
    "## Noise"
   ]
  },
  {
   "cell_type": "code",
   "execution_count": 50,
   "metadata": {
    "execution": {
     "iopub.execute_input": "2020-12-09T05:35:34.916994Z",
     "iopub.status.busy": "2020-12-09T05:35:34.916451Z",
     "iopub.status.idle": "2020-12-09T05:35:34.918669Z",
     "shell.execute_reply": "2020-12-09T05:35:34.918160Z"
    },
    "papermill": {
     "duration": 0.045693,
     "end_time": "2020-12-09T05:35:34.918780",
     "exception": false,
     "start_time": "2020-12-09T05:35:34.873087",
     "status": "completed"
    },
    "tags": []
   },
   "outputs": [],
   "source": [
    "noise_filename = Path(base_folder) / \"00000000\" / f\"{site}_noise_{telescope}_{channel}_filtered_telescope_all_time_all_bmap.fits\""
   ]
  },
  {
   "cell_type": "code",
   "execution_count": 51,
   "metadata": {
    "execution": {
     "iopub.execute_input": "2020-12-09T05:35:35.002551Z",
     "iopub.status.busy": "2020-12-09T05:35:35.001953Z",
     "iopub.status.idle": "2020-12-09T05:35:35.004657Z",
     "shell.execute_reply": "2020-12-09T05:35:35.004075Z"
    },
    "papermill": {
     "duration": 0.046925,
     "end_time": "2020-12-09T05:35:35.004778",
     "exception": false,
     "start_time": "2020-12-09T05:35:34.957853",
     "status": "completed"
    },
    "tags": []
   },
   "outputs": [],
   "source": [
    "#input_noise = hp.ma(hp.read_map(noise_filename, (0,1,2)))"
   ]
  },
  {
   "cell_type": "code",
   "execution_count": 52,
   "metadata": {
    "execution": {
     "iopub.execute_input": "2020-12-09T05:35:35.097718Z",
     "iopub.status.busy": "2020-12-09T05:35:35.097155Z",
     "iopub.status.idle": "2020-12-09T05:35:35.099723Z",
     "shell.execute_reply": "2020-12-09T05:35:35.099239Z"
    },
    "papermill": {
     "duration": 0.051056,
     "end_time": "2020-12-09T05:35:35.099838",
     "exception": false,
     "start_time": "2020-12-09T05:35:35.048782",
     "status": "completed"
    },
    "tags": []
   },
   "outputs": [],
   "source": [
    "#noise_cl = hp.anafast(input_noise * sqrt_hitmap, use_pixel_weights=True) / np.mean(hitmap) / sky_fraction"
   ]
  },
  {
   "cell_type": "code",
   "execution_count": 53,
   "metadata": {
    "execution": {
     "iopub.execute_input": "2020-12-09T05:35:35.194015Z",
     "iopub.status.busy": "2020-12-09T05:35:35.193447Z",
     "iopub.status.idle": "2020-12-09T05:35:35.195190Z",
     "shell.execute_reply": "2020-12-09T05:35:35.195638Z"
    },
    "papermill": {
     "duration": 0.054811,
     "end_time": "2020-12-09T05:35:35.195786",
     "exception": false,
     "start_time": "2020-12-09T05:35:35.140975",
     "status": "completed"
    },
    "tags": []
   },
   "outputs": [],
   "source": [
    "del sqrt_hitmap"
   ]
  },
  {
   "cell_type": "code",
   "execution_count": 54,
   "metadata": {
    "execution": {
     "iopub.execute_input": "2020-12-09T05:35:35.290772Z",
     "iopub.status.busy": "2020-12-09T05:35:35.290113Z",
     "iopub.status.idle": "2020-12-09T05:35:35.292984Z",
     "shell.execute_reply": "2020-12-09T05:35:35.292356Z"
    },
    "papermill": {
     "duration": 0.052144,
     "end_time": "2020-12-09T05:35:35.293125",
     "exception": false,
     "start_time": "2020-12-09T05:35:35.240981",
     "status": "completed"
    },
    "tags": []
   },
   "outputs": [],
   "source": [
    "from s4_design_sim_tool.noise import get_thinfp\n",
    "thinfp = get_thinfp(channel)"
   ]
  },
  {
   "cell_type": "code",
   "execution_count": 55,
   "metadata": {
    "execution": {
     "iopub.execute_input": "2020-12-09T05:35:35.395827Z",
     "iopub.status.busy": "2020-12-09T05:35:35.395208Z",
     "iopub.status.idle": "2020-12-09T05:35:35.397611Z",
     "shell.execute_reply": "2020-12-09T05:35:35.398100Z"
    },
    "papermill": {
     "duration": 0.052466,
     "end_time": "2020-12-09T05:35:35.398252",
     "exception": false,
     "start_time": "2020-12-09T05:35:35.345786",
     "status": "completed"
    },
    "tags": []
   },
   "outputs": [
    {
     "data": {
      "text/html": [
       "&lt;Column name=&apos;thinfp&apos; dtype=&apos;int64&apos; length=1&gt;\n",
       "<table>\n",
       "<tr><td>4</td></tr>\n",
       "</table>"
      ],
      "text/plain": [
       "<Column name='thinfp' dtype='int64' length=1>\n",
       "4"
      ]
     },
     "execution_count": 55,
     "metadata": {},
     "output_type": "execute_result"
    }
   ],
   "source": [
    "thinfp"
   ]
  },
  {
   "cell_type": "code",
   "execution_count": 56,
   "metadata": {
    "execution": {
     "iopub.execute_input": "2020-12-09T05:35:35.511300Z",
     "iopub.status.busy": "2020-12-09T05:35:35.510673Z",
     "iopub.status.idle": "2020-12-09T05:35:35.512738Z",
     "shell.execute_reply": "2020-12-09T05:35:35.513196Z"
    },
    "papermill": {
     "duration": 0.066873,
     "end_time": "2020-12-09T05:35:35.513354",
     "exception": false,
     "start_time": "2020-12-09T05:35:35.446481",
     "status": "completed"
    },
    "tags": []
   },
   "outputs": [],
   "source": [
    "#noise_cl *= 10 / 365.25\n",
    "#noise_cl *= simulations_observing_efficiency[site.lower()].get(telescope, 1) / config[\"experiment\"][\"observing_efficiency\"]                                                                    \n",
    "#noise_cl /= tube_years\n",
    "#noise_cl /= thinfp"
   ]
  },
  {
   "cell_type": "code",
   "execution_count": 57,
   "metadata": {
    "execution": {
     "iopub.execute_input": "2020-12-09T05:35:35.613381Z",
     "iopub.status.busy": "2020-12-09T05:35:35.612760Z",
     "iopub.status.idle": "2020-12-09T05:35:35.626403Z",
     "shell.execute_reply": "2020-12-09T05:35:35.625880Z"
    },
    "papermill": {
     "duration": 0.067933,
     "end_time": "2020-12-09T05:35:35.626534",
     "exception": false,
     "start_time": "2020-12-09T05:35:35.558601",
     "status": "completed"
    },
    "tags": []
   },
   "outputs": [],
   "source": [
    "white_noise_Cl = channel_NET**2 \\\n",
    "/ (hitmap.sum() / sampling_frequency[telescope] / (hitmap>0).sum()) * pixarea # / sky_fraction"
   ]
  },
  {
   "cell_type": "code",
   "execution_count": 58,
   "metadata": {
    "execution": {
     "iopub.execute_input": "2020-12-09T05:35:35.721757Z",
     "iopub.status.busy": "2020-12-09T05:35:35.721035Z",
     "iopub.status.idle": "2020-12-09T05:35:35.724378Z",
     "shell.execute_reply": "2020-12-09T05:35:35.724880Z"
    },
    "papermill": {
     "duration": 0.054722,
     "end_time": "2020-12-09T05:35:35.725043",
     "exception": false,
     "start_time": "2020-12-09T05:35:35.670321",
     "status": "completed"
    },
    "tags": []
   },
   "outputs": [
    {
     "data": {
      "text/latex": [
       "$8.6808382 \\times 10^{-19} \\; \\mathrm{K^{2}}$"
      ],
      "text/plain": [
       "<Quantity 8.68083816e-19 K2>"
      ]
     },
     "execution_count": 58,
     "metadata": {},
     "output_type": "execute_result"
    }
   ],
   "source": [
    "white_noise_Cl.decompose()"
   ]
  },
  {
   "cell_type": "code",
   "execution_count": 59,
   "metadata": {
    "execution": {
     "iopub.execute_input": "2020-12-09T05:35:35.820357Z",
     "iopub.status.busy": "2020-12-09T05:35:35.814927Z",
     "iopub.status.idle": "2020-12-09T05:35:36.341204Z",
     "shell.execute_reply": "2020-12-09T05:35:36.341622Z"
    },
    "papermill": {
     "duration": 0.572419,
     "end_time": "2020-12-09T05:35:36.341773",
     "exception": false,
     "start_time": "2020-12-09T05:35:35.769354",
     "status": "completed"
    },
    "tags": []
   },
   "outputs": [],
   "source": [
    "import seaborn as sns"
   ]
  },
  {
   "cell_type": "code",
   "execution_count": 60,
   "metadata": {
    "execution": {
     "iopub.execute_input": "2020-12-09T05:35:36.436357Z",
     "iopub.status.busy": "2020-12-09T05:35:36.435754Z",
     "iopub.status.idle": "2020-12-09T05:35:36.438302Z",
     "shell.execute_reply": "2020-12-09T05:35:36.437759Z"
    },
    "papermill": {
     "duration": 0.054062,
     "end_time": "2020-12-09T05:35:36.438435",
     "exception": false,
     "start_time": "2020-12-09T05:35:36.384373",
     "status": "completed"
    },
    "tags": []
   },
   "outputs": [],
   "source": [
    "sns.set_style(\"whitegrid\")"
   ]
  },
  {
   "cell_type": "code",
   "execution_count": 61,
   "metadata": {
    "execution": {
     "iopub.execute_input": "2020-12-09T05:35:36.547820Z",
     "iopub.status.busy": "2020-12-09T05:35:36.545645Z",
     "iopub.status.idle": "2020-12-09T05:35:38.297170Z",
     "shell.execute_reply": "2020-12-09T05:35:38.296669Z"
    },
    "papermill": {
     "duration": 1.815544,
     "end_time": "2020-12-09T05:35:38.297289",
     "exception": false,
     "start_time": "2020-12-09T05:35:36.481745",
     "status": "completed"
    },
    "tags": []
   },
   "outputs": [
    {
     "data": {
      "image/png": "[encoded data removed]",
      "text/plain": [
       "<Figure size 576x360 with 1 Axes>"
      ]
     },
     "metadata": {},
     "output_type": "display_data"
    }
   ],
   "source": [
    "plt.figure(figsize=(8,5))\n",
    "\n",
    "pols = [\"TT\", \"EE\", \"BB\"]\n",
    "\n",
    "for i, pol in enumerate(pols):\n",
    "    for split in range(1, nsplits+1):\n",
    "        plt.loglog(C_ell[ch][split][i], alpha=.8, label=pol)\n",
    "\n",
    "for i, pol in enumerate(pols):\n",
    "    plt.loglog(atmo_cl[i]*nsplits, alpha=.8, ls=\"--\", label=f\"atmo {pol}\")\n",
    "\n",
    "#for i, pol in enumerate(pols):\n",
    "#    plt.loglog(noise_cl[i], alpha=.8, ls=\"-.\", label=f\"noise {pol}\")\n",
    "\n",
    "plt.axhline(white_noise_Cl.to_value(u.K**2), ls=\":\",\n",
    "           label=\"white noise T\", color=\"black\")\n",
    "plt.axhline(white_noise_Cl.to_value(u.K**2)*2, ls=\":\",\n",
    "           label=\"white noise P\", color=\"grey\")\n",
    "plt.legend()\n",
    "plt.title(f\"Noise + Atmosphere simulations spectra for {ch}\")\n",
    "plt.ylabel(\"$C_\\ell [K^2]$\")\n",
    "plt.xlabel(\"$\\ell$\")\n",
    "plt.xlim((10, 3*nside))\n",
    "plt.grid(True)\n",
    "plt.savefig(f\"plots/C_ell_{dataset}_{ch}_{nsplits}.png\");"
   ]
  },
  {
   "cell_type": "code",
   "execution_count": null,
   "metadata": {
    "papermill": {
     "duration": 0.044273,
     "end_time": "2020-12-09T05:35:38.384790",
     "exception": false,
     "start_time": "2020-12-09T05:35:38.340517",
     "status": "completed"
    },
    "tags": []
   },
   "outputs": [],
   "source": []
  }
 ],
 "metadata": {
  "kernelspec": {
   "display_name": "condajupynersc",
   "language": "python",
   "name": "condajupynersc"
  },
  "language_info": {
   "codemirror_mode": {
    "name": "ipython",
    "version": 3
   },
   "file_extension": ".py",
   "mimetype": "text/x-python",
   "name": "python",
   "nbconvert_exporter": "python",
   "pygments_lexer": "ipython3",
   "version": "3.7.0"
  },
  "papermill": {
   "duration": 18.531426,
   "end_time": "2020-12-09T05:35:39.747166",
   "environment_variables": {},
   "exception": null,
   "input_path": "validation_atmo_noise_dec_2020.ipynb",
   "output_path": "validation_notebooks/SAT-MFLS1_chile_1.ipynb",
   "parameters": {
    "ch": "SAT-MFLS1_chile",
    "nsplits": 1
   },
   "start_time": "2020-12-09T05:35:21.215740",
   "version": "2.1.2"
  }
 },
 "nbformat": 4,
 "nbformat_minor": 4
}