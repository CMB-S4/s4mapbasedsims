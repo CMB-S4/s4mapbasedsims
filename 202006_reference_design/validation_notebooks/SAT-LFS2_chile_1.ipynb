{
 "cells": [
  {
   "cell_type": "code",
   "execution_count": 1,
   "metadata": {
    "execution": {
     "iopub.execute_input": "2020-12-09T05:34:22.692395Z",
     "iopub.status.busy": "2020-12-09T05:34:22.691738Z",
     "iopub.status.idle": "2020-12-09T05:34:24.945865Z",
     "shell.execute_reply": "2020-12-09T05:34:24.946378Z"
    },
    "papermill": {
     "duration": 2.291166,
     "end_time": "2020-12-09T05:34:24.946728",
     "exception": false,
     "start_time": "2020-12-09T05:34:22.655562",
     "status": "completed"
    },
    "tags": []
   },
   "outputs": [],
   "source": [
    "import healpy as hp\n",
    "import numpy as np\n",
    "%matplotlib inline\n",
    "import matplotlib.pyplot as plt\n",
    "from pathlib import Path\n",
    "from astropy.tests.helper import assert_quantity_allclose\n",
    "import pickle\n",
    "import sys\n",
    "import os\n",
    "from astropy import units as u"
   ]
  },
  {
   "cell_type": "code",
   "execution_count": 2,
   "metadata": {
    "execution": {
     "iopub.execute_input": "2020-12-09T05:34:25.029327Z",
     "iopub.status.busy": "2020-12-09T05:34:25.028674Z",
     "iopub.status.idle": "2020-12-09T05:34:25.089631Z",
     "shell.execute_reply": "2020-12-09T05:34:25.088983Z"
    },
    "papermill": {
     "duration": 0.111665,
     "end_time": "2020-12-09T05:34:25.089847",
     "exception": false,
     "start_time": "2020-12-09T05:34:24.978182",
     "status": "completed"
    },
    "tags": []
   },
   "outputs": [],
   "source": [
    "import h5py\n",
    "s4 = h5py.File(\"cmbs4_tophat.h5\", mode=\"r\")"
   ]
  },
  {
   "cell_type": "code",
   "execution_count": 3,
   "metadata": {
    "execution": {
     "iopub.execute_input": "2020-12-09T05:34:25.152992Z",
     "iopub.status.busy": "2020-12-09T05:34:25.152411Z",
     "iopub.status.idle": "2020-12-09T05:34:25.154272Z",
     "shell.execute_reply": "2020-12-09T05:34:25.154852Z"
    },
    "papermill": {
     "duration": 0.035646,
     "end_time": "2020-12-09T05:34:25.154996",
     "exception": false,
     "start_time": "2020-12-09T05:34:25.119350",
     "status": "completed"
    },
    "tags": []
   },
   "outputs": [],
   "source": [
    "dataset = \"s4_reference_design_noise_atmo_7splits\""
   ]
  },
  {
   "cell_type": "code",
   "execution_count": 4,
   "metadata": {
    "execution": {
     "iopub.execute_input": "2020-12-09T05:34:25.217093Z",
     "iopub.status.busy": "2020-12-09T05:34:25.216507Z",
     "iopub.status.idle": "2020-12-09T05:34:25.218472Z",
     "shell.execute_reply": "2020-12-09T05:34:25.218918Z"
    },
    "papermill": {
     "duration": 0.035577,
     "end_time": "2020-12-09T05:34:25.219067",
     "exception": false,
     "start_time": "2020-12-09T05:34:25.183490",
     "status": "completed"
    },
    "tags": [
     "parameters"
    ]
   },
   "outputs": [],
   "source": [
    "ch = f\"SAT-HFS1_chile\"\n",
    "nsplits = 1"
   ]
  },
  {
   "cell_type": "code",
   "execution_count": 5,
   "metadata": {
    "execution": {
     "iopub.execute_input": "2020-12-09T05:34:25.280926Z",
     "iopub.status.busy": "2020-12-09T05:34:25.280357Z",
     "iopub.status.idle": "2020-12-09T05:34:25.282081Z",
     "shell.execute_reply": "2020-12-09T05:34:25.282545Z"
    },
    "papermill": {
     "duration": 0.034998,
     "end_time": "2020-12-09T05:34:25.282692",
     "exception": false,
     "start_time": "2020-12-09T05:34:25.247694",
     "status": "completed"
    },
    "tags": [
     "injected-parameters"
    ]
   },
   "outputs": [],
   "source": [
    "# Parameters\n",
    "ch = \"SAT-LFS2_chile\"\n",
    "nsplits = 1\n"
   ]
  },
  {
   "cell_type": "code",
   "execution_count": 6,
   "metadata": {
    "execution": {
     "iopub.execute_input": "2020-12-09T05:34:25.343802Z",
     "iopub.status.busy": "2020-12-09T05:34:25.343240Z",
     "iopub.status.idle": "2020-12-09T05:34:25.345157Z",
     "shell.execute_reply": "2020-12-09T05:34:25.345609Z"
    },
    "papermill": {
     "duration": 0.034626,
     "end_time": "2020-12-09T05:34:25.345751",
     "exception": false,
     "start_time": "2020-12-09T05:34:25.311125",
     "status": "completed"
    },
    "tags": []
   },
   "outputs": [],
   "source": [
    "if os.path.exists(f\"plots/C_ell_{dataset}_{ch}_{nsplits}.png\"):\n",
    "    sys.exit(0)"
   ]
  },
  {
   "cell_type": "code",
   "execution_count": 7,
   "metadata": {
    "execution": {
     "iopub.execute_input": "2020-12-09T05:34:25.408918Z",
     "iopub.status.busy": "2020-12-09T05:34:25.408374Z",
     "iopub.status.idle": "2020-12-09T05:34:25.410192Z",
     "shell.execute_reply": "2020-12-09T05:34:25.410625Z"
    },
    "papermill": {
     "duration": 0.035528,
     "end_time": "2020-12-09T05:34:25.410763",
     "exception": false,
     "start_time": "2020-12-09T05:34:25.375235",
     "status": "completed"
    },
    "tags": []
   },
   "outputs": [],
   "source": [
    "sampling_frequency = dict(SAT=100*u.Hz, LAT=400*u.Hz)"
   ]
  },
  {
   "cell_type": "code",
   "execution_count": 8,
   "metadata": {
    "execution": {
     "iopub.execute_input": "2020-12-09T05:34:25.471415Z",
     "iopub.status.busy": "2020-12-09T05:34:25.470870Z",
     "iopub.status.idle": "2020-12-09T05:34:25.472710Z",
     "shell.execute_reply": "2020-12-09T05:34:25.473171Z"
    },
    "papermill": {
     "duration": 0.033671,
     "end_time": "2020-12-09T05:34:25.473320",
     "exception": false,
     "start_time": "2020-12-09T05:34:25.439649",
     "status": "completed"
    },
    "tags": []
   },
   "outputs": [],
   "source": [
    "#telescope = \"SAT\"\n",
    "#channel = \"LFS1\"\n",
    "#site = \"pole\""
   ]
  },
  {
   "cell_type": "code",
   "execution_count": 9,
   "metadata": {
    "execution": {
     "iopub.execute_input": "2020-12-09T05:34:25.536044Z",
     "iopub.status.busy": "2020-12-09T05:34:25.535477Z",
     "iopub.status.idle": "2020-12-09T05:34:25.537479Z",
     "shell.execute_reply": "2020-12-09T05:34:25.538007Z"
    },
    "papermill": {
     "duration": 0.035742,
     "end_time": "2020-12-09T05:34:25.538155",
     "exception": false,
     "start_time": "2020-12-09T05:34:25.502413",
     "status": "completed"
    },
    "tags": []
   },
   "outputs": [],
   "source": [
    "telescope = ch.split(\"-\")[0]\n",
    "channel, site= ch.split(\"-\")[1].split(\"_\")"
   ]
  },
  {
   "cell_type": "code",
   "execution_count": 10,
   "metadata": {
    "execution": {
     "iopub.execute_input": "2020-12-09T05:34:25.600489Z",
     "iopub.status.busy": "2020-12-09T05:34:25.599895Z",
     "iopub.status.idle": "2020-12-09T05:34:25.601873Z",
     "shell.execute_reply": "2020-12-09T05:34:25.602355Z"
    },
    "papermill": {
     "duration": 0.034755,
     "end_time": "2020-12-09T05:34:25.602522",
     "exception": false,
     "start_time": "2020-12-09T05:34:25.567767",
     "status": "completed"
    },
    "tags": []
   },
   "outputs": [],
   "source": [
    "local_path = Path(\"output\")\n",
    "project_path = Path(\"/global/project/projectdirs/cmbs4/dm/dstool/output/\")"
   ]
  },
  {
   "cell_type": "code",
   "execution_count": 11,
   "metadata": {
    "execution": {
     "iopub.execute_input": "2020-12-09T05:34:25.667119Z",
     "iopub.status.busy": "2020-12-09T05:34:25.666581Z",
     "iopub.status.idle": "2020-12-09T05:34:25.686338Z",
     "shell.execute_reply": "2020-12-09T05:34:25.686837Z"
    },
    "papermill": {
     "duration": 0.054766,
     "end_time": "2020-12-09T05:34:25.686997",
     "exception": false,
     "start_time": "2020-12-09T05:34:25.632231",
     "status": "completed"
    },
    "tags": []
   },
   "outputs": [],
   "source": [
    "C_ell = pickle.load(open(local_path / dataset / f\"C_ell_{telescope}_{nsplits}.pkl\", \"rb\"))"
   ]
  },
  {
   "cell_type": "code",
   "execution_count": 12,
   "metadata": {
    "execution": {
     "iopub.execute_input": "2020-12-09T05:34:25.751273Z",
     "iopub.status.busy": "2020-12-09T05:34:25.750697Z",
     "iopub.status.idle": "2020-12-09T05:34:25.753111Z",
     "shell.execute_reply": "2020-12-09T05:34:25.753616Z"
    },
    "papermill": {
     "duration": 0.038007,
     "end_time": "2020-12-09T05:34:25.753753",
     "exception": false,
     "start_time": "2020-12-09T05:34:25.715746",
     "status": "completed"
    },
    "tags": []
   },
   "outputs": [
    {
     "data": {
      "text/plain": [
       "('SAT', 'LFS2', 'chile')"
      ]
     },
     "execution_count": 12,
     "metadata": {},
     "output_type": "execute_result"
    }
   ],
   "source": [
    "telescope, channel, site"
   ]
  },
  {
   "cell_type": "code",
   "execution_count": 13,
   "metadata": {
    "execution": {
     "iopub.execute_input": "2020-12-09T05:34:25.821067Z",
     "iopub.status.busy": "2020-12-09T05:34:25.820535Z",
     "iopub.status.idle": "2020-12-09T05:34:25.823137Z",
     "shell.execute_reply": "2020-12-09T05:34:25.823650Z"
    },
    "papermill": {
     "duration": 0.04031,
     "end_time": "2020-12-09T05:34:25.823794",
     "exception": false,
     "start_time": "2020-12-09T05:34:25.783484",
     "status": "completed"
    },
    "tags": []
   },
   "outputs": [
    {
     "data": {
      "text/plain": [
       "dict_keys(['SAT-HFS1_chile', 'SAT-HFS2_chile', 'SAT-LFS1_chile', 'SAT-LFS2_chile', 'SAT-MFHS1_chile', 'SAT-MFHS2_chile', 'SAT-MFLS1_chile', 'SAT-MFLS2_chile'])"
      ]
     },
     "execution_count": 13,
     "metadata": {},
     "output_type": "execute_result"
    }
   ],
   "source": [
    "C_ell.keys()"
   ]
  },
  {
   "cell_type": "code",
   "execution_count": 14,
   "metadata": {
    "execution": {
     "iopub.execute_input": "2020-12-09T05:34:25.890522Z",
     "iopub.status.busy": "2020-12-09T05:34:25.889894Z",
     "iopub.status.idle": "2020-12-09T05:34:25.892157Z",
     "shell.execute_reply": "2020-12-09T05:34:25.892728Z"
    },
    "papermill": {
     "duration": 0.03863,
     "end_time": "2020-12-09T05:34:25.892883",
     "exception": false,
     "start_time": "2020-12-09T05:34:25.854253",
     "status": "completed"
    },
    "tags": []
   },
   "outputs": [],
   "source": [
    "nside = 4096 if telescope == \"LAT\" else 512"
   ]
  },
  {
   "cell_type": "code",
   "execution_count": 15,
   "metadata": {
    "execution": {
     "iopub.execute_input": "2020-12-09T05:34:25.962250Z",
     "iopub.status.busy": "2020-12-09T05:34:25.961693Z",
     "iopub.status.idle": "2020-12-09T05:34:25.965467Z",
     "shell.execute_reply": "2020-12-09T05:34:25.964967Z"
    },
    "papermill": {
     "duration": 0.039571,
     "end_time": "2020-12-09T05:34:25.965580",
     "exception": false,
     "start_time": "2020-12-09T05:34:25.926009",
     "status": "completed"
    },
    "tags": []
   },
   "outputs": [],
   "source": [
    "from s4_design_sim_tool.core import base_folder"
   ]
  },
  {
   "cell_type": "code",
   "execution_count": 16,
   "metadata": {
    "execution": {
     "iopub.execute_input": "2020-12-09T05:34:26.035519Z",
     "iopub.status.busy": "2020-12-09T05:34:26.034911Z",
     "iopub.status.idle": "2020-12-09T05:34:26.047627Z",
     "shell.execute_reply": "2020-12-09T05:34:26.047154Z"
    },
    "papermill": {
     "duration": 0.050668,
     "end_time": "2020-12-09T05:34:26.047742",
     "exception": false,
     "start_time": "2020-12-09T05:34:25.997074",
     "status": "completed"
    },
    "tags": []
   },
   "outputs": [],
   "source": [
    "from s4_design_sim_tool.cli import parse_config\n",
    "if site == \"chile\" and telescope == \"SAT\":\n",
    "    config = parse_config(f\"{dataset}.toml\", \"chile_sat.toml\")\n",
    "else:\n",
    "    config = parse_config(f\"{dataset}.toml\")"
   ]
  },
  {
   "cell_type": "code",
   "execution_count": 17,
   "metadata": {
    "execution": {
     "iopub.execute_input": "2020-12-09T05:34:26.116154Z",
     "iopub.status.busy": "2020-12-09T05:34:26.115608Z",
     "iopub.status.idle": "2020-12-09T05:34:26.321742Z",
     "shell.execute_reply": "2020-12-09T05:34:26.322199Z"
    },
    "papermill": {
     "duration": 0.244515,
     "end_time": "2020-12-09T05:34:26.322354",
     "exception": false,
     "start_time": "2020-12-09T05:34:26.077839",
     "status": "completed"
    },
    "tags": []
   },
   "outputs": [
    {
     "name": "stderr",
     "output_type": "stream",
     "text": [
      "/global/homes/z/zonca/condajupynersc/lib/python3.7/site-packages/healpy/fitsfunc.py:369: UserWarning: If you are not specifying the input dtype and using the default np.float64 dtype of read_map(), please consider that it will change in a future version to None as to keep the same dtype of the input file: please explicitly set the dtype if it is important to you.\n",
      "  \"If you are not specifying the input dtype and using the default \"\n",
      "/global/homes/z/zonca/condajupynersc/lib/python3.7/site-packages/healpy/fitsfunc.py:391: UserWarning: NSIDE = 512\n",
      "  warnings.warn(\"NSIDE = {0:d}\".format(nside))\n",
      "/global/homes/z/zonca/condajupynersc/lib/python3.7/site-packages/healpy/fitsfunc.py:400: UserWarning: ORDERING = RING in fits file\n",
      "  warnings.warn(\"ORDERING = {0:s} in fits file\".format(ordering))\n",
      "/global/homes/z/zonca/condajupynersc/lib/python3.7/site-packages/healpy/fitsfunc.py:428: UserWarning: INDXSCHM = IMPLICIT\n",
      "  warnings.warn(\"INDXSCHM = {0:s}\".format(schm))\n"
     ]
    }
   ],
   "source": [
    "hitmap = hp.read_map(local_path / dataset / ch / f\"cmbs4_hitmap_{ch}_nside{nside}_1_of_{nsplits}.fits\")"
   ]
  },
  {
   "cell_type": "code",
   "execution_count": 18,
   "metadata": {
    "execution": {
     "iopub.execute_input": "2020-12-09T05:34:26.391147Z",
     "iopub.status.busy": "2020-12-09T05:34:26.390586Z",
     "iopub.status.idle": "2020-12-09T05:34:26.393420Z",
     "shell.execute_reply": "2020-12-09T05:34:26.393863Z"
    },
    "papermill": {
     "duration": 0.039557,
     "end_time": "2020-12-09T05:34:26.394000",
     "exception": false,
     "start_time": "2020-12-09T05:34:26.354443",
     "status": "completed"
    },
    "tags": []
   },
   "outputs": [
    {
     "data": {
      "text/plain": [
       "'LFS2'"
      ]
     },
     "execution_count": 18,
     "metadata": {},
     "output_type": "execute_result"
    }
   ],
   "source": [
    "channel"
   ]
  },
  {
   "cell_type": "code",
   "execution_count": 19,
   "metadata": {
    "execution": {
     "iopub.execute_input": "2020-12-09T05:34:26.462567Z",
     "iopub.status.busy": "2020-12-09T05:34:26.461902Z",
     "iopub.status.idle": "2020-12-09T05:34:26.464305Z",
     "shell.execute_reply": "2020-12-09T05:34:26.464741Z"
    },
    "papermill": {
     "duration": 0.038796,
     "end_time": "2020-12-09T05:34:26.464873",
     "exception": false,
     "start_time": "2020-12-09T05:34:26.426077",
     "status": "completed"
    },
    "tags": []
   },
   "outputs": [
    {
     "data": {
      "text/plain": [
       "7"
      ]
     },
     "execution_count": 19,
     "metadata": {},
     "output_type": "execute_result"
    }
   ],
   "source": [
    "from s4_design_sim_tool.noise import get_tube_years\n",
    "tube_years = get_tube_years(config, site, channel)\n",
    "tube_years"
   ]
  },
  {
   "cell_type": "code",
   "execution_count": 20,
   "metadata": {
    "execution": {
     "iopub.execute_input": "2020-12-09T05:34:26.540545Z",
     "iopub.status.busy": "2020-12-09T05:34:26.539898Z",
     "iopub.status.idle": "2020-12-09T05:34:26.546736Z",
     "shell.execute_reply": "2020-12-09T05:34:26.546231Z"
    },
    "papermill": {
     "duration": 0.043995,
     "end_time": "2020-12-09T05:34:26.546853",
     "exception": false,
     "start_time": "2020-12-09T05:34:26.502858",
     "status": "completed"
    },
    "tags": []
   },
   "outputs": [
    {
     "data": {
      "text/plain": [
       "99.99999833301082"
      ]
     },
     "execution_count": 20,
     "metadata": {},
     "output_type": "execute_result"
    }
   ],
   "source": [
    "sampling_rate = hitmap.sum()\n",
    "sampling_rate /= 365.25 * 24 * 3600\n",
    "sampling_rate /= tube_years * config[\"experiment\"][\"observing_efficiency\"]\n",
    "sampling_rate /= s4[channel].attrs[\"detectors_per_tube\"]\n",
    "sampling_rate *= nsplits\n",
    "sampling_rate"
   ]
  },
  {
   "cell_type": "code",
   "execution_count": 21,
   "metadata": {
    "execution": {
     "iopub.execute_input": "2020-12-09T05:34:26.619272Z",
     "iopub.status.busy": "2020-12-09T05:34:26.618669Z",
     "iopub.status.idle": "2020-12-09T05:34:26.620468Z",
     "shell.execute_reply": "2020-12-09T05:34:26.621042Z"
    },
    "papermill": {
     "duration": 0.042223,
     "end_time": "2020-12-09T05:34:26.621192",
     "exception": false,
     "start_time": "2020-12-09T05:34:26.578969",
     "status": "completed"
    },
    "tags": []
   },
   "outputs": [],
   "source": [
    "np.testing.assert_allclose(sampling_rate, sampling_frequency[telescope].value, rtol=1/100)"
   ]
  },
  {
   "cell_type": "code",
   "execution_count": 22,
   "metadata": {
    "execution": {
     "iopub.execute_input": "2020-12-09T05:34:26.695039Z",
     "iopub.status.busy": "2020-12-09T05:34:26.694353Z",
     "iopub.status.idle": "2020-12-09T05:34:27.363334Z",
     "shell.execute_reply": "2020-12-09T05:34:27.363780Z"
    },
    "papermill": {
     "duration": 0.708349,
     "end_time": "2020-12-09T05:34:27.363927",
     "exception": false,
     "start_time": "2020-12-09T05:34:26.655578",
     "status": "completed"
    },
    "tags": []
   },
   "outputs": [
    {
     "name": "stderr",
     "output_type": "stream",
     "text": [
      "/global/homes/z/zonca/condajupynersc/lib/python3.7/site-packages/ipykernel_launcher.py:1: RuntimeWarning: divide by zero encountered in log10\n",
      "  \"\"\"Entry point for launching an IPython kernel.\n",
      "/global/homes/z/zonca/condajupynersc/lib/python3.7/site-packages/healpy/projaxes.py:920: MatplotlibDeprecationWarning: You are modifying the state of a globally registered colormap. In future versions, you will not be able to modify a registered colormap in-place. To remove this warning, you can make a copy of the colormap first. cmap = copy.copy(mpl.cm.get_cmap(\"viridis\"))\n",
      "  newcm.set_over(newcm(1.0))\n",
      "/global/homes/z/zonca/condajupynersc/lib/python3.7/site-packages/healpy/projaxes.py:921: MatplotlibDeprecationWarning: You are modifying the state of a globally registered colormap. In future versions, you will not be able to modify a registered colormap in-place. To remove this warning, you can make a copy of the colormap first. cmap = copy.copy(mpl.cm.get_cmap(\"viridis\"))\n",
      "  newcm.set_under(bgcolor)\n",
      "/global/homes/z/zonca/condajupynersc/lib/python3.7/site-packages/healpy/projaxes.py:922: MatplotlibDeprecationWarning: You are modifying the state of a globally registered colormap. In future versions, you will not be able to modify a registered colormap in-place. To remove this warning, you can make a copy of the colormap first. cmap = copy.copy(mpl.cm.get_cmap(\"viridis\"))\n",
      "  newcm.set_bad(badcolor)\n",
      "/global/homes/z/zonca/condajupynersc/lib/python3.7/site-packages/healpy/projaxes.py:211: MatplotlibDeprecationWarning: Passing parameters norm and vmin/vmax simultaneously is deprecated since 3.3 and will become an error two minor releases later. Please pass vmin/vmax directly to the norm when creating it.\n",
      "  **kwds\n"
     ]
    },
    {
     "data": {
      "image/png": "[encoded data removed]",
      "text/plain": [
       "<Figure size 612x388.8 with 2 Axes>"
      ]
     },
     "metadata": {
      "needs_background": "light"
     },
     "output_type": "display_data"
    }
   ],
   "source": [
    "log_hitmap = np.log10(hitmap)\n",
    "log_hitmap[np.isinf(log_hitmap)] = hp.UNSEEN\n",
    "hp.mollview(log_hitmap, unit=\"log10(samples)\", title=f\"Hitmap {ch}\")\n",
    "plt.savefig(f\"plots/hitmap_{channel}_{site}_1_of_{nsplits}.png\")"
   ]
  },
  {
   "cell_type": "code",
   "execution_count": 23,
   "metadata": {
    "execution": {
     "iopub.execute_input": "2020-12-09T05:34:27.446399Z",
     "iopub.status.busy": "2020-12-09T05:34:27.445689Z",
     "iopub.status.idle": "2020-12-09T05:34:27.786828Z",
     "shell.execute_reply": "2020-12-09T05:34:27.787299Z"
    },
    "papermill": {
     "duration": 0.386473,
     "end_time": "2020-12-09T05:34:27.787467",
     "exception": false,
     "start_time": "2020-12-09T05:34:27.400994",
     "status": "completed"
    },
    "tags": []
   },
   "outputs": [],
   "source": [
    "wcov = hp.read_map(local_path / dataset / ch / f\"cmbs4_wcov_{ch}_nside{nside}_1_of_{nsplits}.fits\", (3))"
   ]
  },
  {
   "cell_type": "code",
   "execution_count": 24,
   "metadata": {
    "execution": {
     "iopub.execute_input": "2020-12-09T05:34:27.878542Z",
     "iopub.status.busy": "2020-12-09T05:34:27.877873Z",
     "iopub.status.idle": "2020-12-09T05:34:27.881054Z",
     "shell.execute_reply": "2020-12-09T05:34:27.881548Z"
    },
    "papermill": {
     "duration": 0.046446,
     "end_time": "2020-12-09T05:34:27.881706",
     "exception": false,
     "start_time": "2020-12-09T05:34:27.835260",
     "status": "completed"
    },
    "tags": []
   },
   "outputs": [
    {
     "data": {
      "text/plain": [
       "(3145728,)"
      ]
     },
     "execution_count": 24,
     "metadata": {},
     "output_type": "execute_result"
    }
   ],
   "source": [
    "wcov.shape"
   ]
  },
  {
   "cell_type": "code",
   "execution_count": 25,
   "metadata": {
    "execution": {
     "iopub.execute_input": "2020-12-09T05:34:27.975926Z",
     "iopub.status.busy": "2020-12-09T05:34:27.975318Z",
     "iopub.status.idle": "2020-12-09T05:34:27.977597Z",
     "shell.execute_reply": "2020-12-09T05:34:27.978091Z"
    },
    "papermill": {
     "duration": 0.04336,
     "end_time": "2020-12-09T05:34:27.978254",
     "exception": false,
     "start_time": "2020-12-09T05:34:27.934894",
     "status": "completed"
    },
    "tags": []
   },
   "outputs": [],
   "source": [
    "import astropy.units as u"
   ]
  },
  {
   "cell_type": "code",
   "execution_count": 26,
   "metadata": {
    "execution": {
     "iopub.execute_input": "2020-12-09T05:34:28.071472Z",
     "iopub.status.busy": "2020-12-09T05:34:28.070876Z",
     "iopub.status.idle": "2020-12-09T05:34:28.073145Z",
     "shell.execute_reply": "2020-12-09T05:34:28.072554Z"
    },
    "papermill": {
     "duration": 0.046139,
     "end_time": "2020-12-09T05:34:28.073264",
     "exception": false,
     "start_time": "2020-12-09T05:34:28.027125",
     "status": "completed"
    },
    "tags": []
   },
   "outputs": [],
   "source": [
    "channel_NET = s4[channel].attrs[\"NET_uKsqrts\"] * u.uK * u.s ** .5"
   ]
  },
  {
   "cell_type": "code",
   "execution_count": 27,
   "metadata": {
    "execution": {
     "iopub.execute_input": "2020-12-09T05:34:28.157458Z",
     "iopub.status.busy": "2020-12-09T05:34:28.156911Z",
     "iopub.status.idle": "2020-12-09T05:34:28.159147Z",
     "shell.execute_reply": "2020-12-09T05:34:28.158691Z"
    },
    "papermill": {
     "duration": 0.046363,
     "end_time": "2020-12-09T05:34:28.159259",
     "exception": false,
     "start_time": "2020-12-09T05:34:28.112896",
     "status": "completed"
    },
    "tags": []
   },
   "outputs": [],
   "source": [
    "if telescope == \"LAT\" and site==\"pole\":\n",
    "    channel_NET = s4[channel].attrs[\"pole_NET_uKsqrts\"] * u.uK * u.s ** .5"
   ]
  },
  {
   "cell_type": "code",
   "execution_count": 28,
   "metadata": {
    "execution": {
     "iopub.execute_input": "2020-12-09T05:34:28.252256Z",
     "iopub.status.busy": "2020-12-09T05:34:28.251676Z",
     "iopub.status.idle": "2020-12-09T05:34:28.338791Z",
     "shell.execute_reply": "2020-12-09T05:34:28.338239Z"
    },
    "papermill": {
     "duration": 0.131939,
     "end_time": "2020-12-09T05:34:28.338934",
     "exception": false,
     "start_time": "2020-12-09T05:34:28.206995",
     "status": "completed"
    },
    "tags": []
   },
   "outputs": [],
   "source": [
    "variance_QQ = wcov * u.K ** 2 * (hitmap / sampling_frequency[telescope]) "
   ]
  },
  {
   "cell_type": "code",
   "execution_count": 29,
   "metadata": {
    "execution": {
     "iopub.execute_input": "2020-12-09T05:34:28.424696Z",
     "iopub.status.busy": "2020-12-09T05:34:28.424092Z",
     "iopub.status.idle": "2020-12-09T05:34:28.443330Z",
     "shell.execute_reply": "2020-12-09T05:34:28.443825Z"
    },
    "papermill": {
     "duration": 0.066933,
     "end_time": "2020-12-09T05:34:28.443978",
     "exception": false,
     "start_time": "2020-12-09T05:34:28.377045",
     "status": "completed"
    },
    "tags": []
   },
   "outputs": [],
   "source": [
    "assert (variance_QQ.value == hp.UNSEEN).sum() == 0"
   ]
  },
  {
   "cell_type": "code",
   "execution_count": 30,
   "metadata": {
    "execution": {
     "iopub.execute_input": "2020-12-09T05:34:28.581986Z",
     "iopub.status.busy": "2020-12-09T05:34:28.581420Z",
     "iopub.status.idle": "2020-12-09T05:34:28.633545Z",
     "shell.execute_reply": "2020-12-09T05:34:28.633976Z"
    },
    "papermill": {
     "duration": 0.094382,
     "end_time": "2020-12-09T05:34:28.634134",
     "exception": false,
     "start_time": "2020-12-09T05:34:28.539752",
     "status": "completed"
    },
    "tags": []
   },
   "outputs": [],
   "source": [
    "full_mission_NET = np.sqrt(np.median(variance_QQ[hitmap != 0]))"
   ]
  },
  {
   "cell_type": "code",
   "execution_count": 31,
   "metadata": {
    "execution": {
     "iopub.execute_input": "2020-12-09T05:34:28.727898Z",
     "iopub.status.busy": "2020-12-09T05:34:28.727263Z",
     "iopub.status.idle": "2020-12-09T05:34:28.729632Z",
     "shell.execute_reply": "2020-12-09T05:34:28.730131Z"
    },
    "papermill": {
     "duration": 0.053617,
     "end_time": "2020-12-09T05:34:28.730345",
     "exception": false,
     "start_time": "2020-12-09T05:34:28.676728",
     "status": "completed"
    },
    "tags": []
   },
   "outputs": [
    {
     "data": {
      "text/latex": [
       "$304.7447 \\; \\mathrm{\\mu K\\,s^{1/2}}$"
      ],
      "text/plain": [
       "<Quantity 304.74469783 s(1/2) uK>"
      ]
     },
     "execution_count": 31,
     "metadata": {},
     "output_type": "execute_result"
    }
   ],
   "source": [
    "full_mission_NET.to(channel_NET.unit)"
   ]
  },
  {
   "cell_type": "code",
   "execution_count": 32,
   "metadata": {
    "execution": {
     "iopub.execute_input": "2020-12-09T05:34:28.820451Z",
     "iopub.status.busy": "2020-12-09T05:34:28.819841Z",
     "iopub.status.idle": "2020-12-09T05:34:28.822366Z",
     "shell.execute_reply": "2020-12-09T05:34:28.822934Z"
    },
    "papermill": {
     "duration": 0.054367,
     "end_time": "2020-12-09T05:34:28.823090",
     "exception": false,
     "start_time": "2020-12-09T05:34:28.768723",
     "status": "completed"
    },
    "tags": []
   },
   "outputs": [
    {
     "data": {
      "text/latex": [
       "$224 \\; \\mathrm{\\mu K\\,s^{1/2}}$"
      ],
      "text/plain": [
       "<Quantity 224. s(1/2) uK>"
      ]
     },
     "execution_count": 32,
     "metadata": {},
     "output_type": "execute_result"
    }
   ],
   "source": [
    "channel_NET"
   ]
  },
  {
   "cell_type": "code",
   "execution_count": 33,
   "metadata": {
    "execution": {
     "iopub.execute_input": "2020-12-09T05:34:28.914039Z",
     "iopub.status.busy": "2020-12-09T05:34:28.913435Z",
     "iopub.status.idle": "2020-12-09T05:34:28.916644Z",
     "shell.execute_reply": "2020-12-09T05:34:28.916145Z"
    },
    "papermill": {
     "duration": 0.050824,
     "end_time": "2020-12-09T05:34:28.916769",
     "exception": false,
     "start_time": "2020-12-09T05:34:28.865945",
     "status": "completed"
    },
    "tags": []
   },
   "outputs": [
    {
     "data": {
      "text/latex": [
       "$215.48704 \\; \\mathrm{\\mu K\\,s^{1/2}}$"
      ],
      "text/plain": [
       "<Quantity 215.48704237 s(1/2) uK>"
      ]
     },
     "execution_count": 33,
     "metadata": {},
     "output_type": "execute_result"
    }
   ],
   "source": [
    "(full_mission_NET/np.sqrt(2)).to(channel_NET.unit)"
   ]
  },
  {
   "cell_type": "code",
   "execution_count": 34,
   "metadata": {
    "execution": {
     "iopub.execute_input": "2020-12-09T05:34:29.005992Z",
     "iopub.status.busy": "2020-12-09T05:34:29.005418Z",
     "iopub.status.idle": "2020-12-09T05:34:29.007827Z",
     "shell.execute_reply": "2020-12-09T05:34:29.007305Z"
    },
    "papermill": {
     "duration": 0.047828,
     "end_time": "2020-12-09T05:34:29.007983",
     "exception": false,
     "start_time": "2020-12-09T05:34:28.960155",
     "status": "completed"
    },
    "tags": []
   },
   "outputs": [],
   "source": [
    "assert_quantity_allclose(full_mission_NET, channel_NET*np.sqrt(2), rtol=10/100) "
   ]
  },
  {
   "cell_type": "code",
   "execution_count": 35,
   "metadata": {
    "execution": {
     "iopub.execute_input": "2020-12-09T05:34:29.105935Z",
     "iopub.status.busy": "2020-12-09T05:34:29.105315Z",
     "iopub.status.idle": "2020-12-09T05:34:29.133343Z",
     "shell.execute_reply": "2020-12-09T05:34:29.133859Z"
    },
    "papermill": {
     "duration": 0.073992,
     "end_time": "2020-12-09T05:34:29.134022",
     "exception": false,
     "start_time": "2020-12-09T05:34:29.060030",
     "status": "completed"
    },
    "tags": []
   },
   "outputs": [],
   "source": [
    "sky_fraction = (hitmap > 0).sum() / len(hitmap)"
   ]
  },
  {
   "cell_type": "code",
   "execution_count": 36,
   "metadata": {
    "execution": {
     "iopub.execute_input": "2020-12-09T05:34:29.217224Z",
     "iopub.status.busy": "2020-12-09T05:34:29.216664Z",
     "iopub.status.idle": "2020-12-09T05:34:29.219301Z",
     "shell.execute_reply": "2020-12-09T05:34:29.219755Z"
    },
    "papermill": {
     "duration": 0.046254,
     "end_time": "2020-12-09T05:34:29.219894",
     "exception": false,
     "start_time": "2020-12-09T05:34:29.173640",
     "status": "completed"
    },
    "tags": []
   },
   "outputs": [
    {
     "data": {
      "text/plain": [
       "0.43964417775472003"
      ]
     },
     "execution_count": 36,
     "metadata": {},
     "output_type": "execute_result"
    }
   ],
   "source": [
    "sky_fraction"
   ]
  },
  {
   "cell_type": "code",
   "execution_count": 37,
   "metadata": {
    "execution": {
     "iopub.execute_input": "2020-12-09T05:34:29.306086Z",
     "iopub.status.busy": "2020-12-09T05:34:29.305485Z",
     "iopub.status.idle": "2020-12-09T05:34:29.307435Z",
     "shell.execute_reply": "2020-12-09T05:34:29.307883Z"
    },
    "papermill": {
     "duration": 0.046676,
     "end_time": "2020-12-09T05:34:29.308036",
     "exception": false,
     "start_time": "2020-12-09T05:34:29.261360",
     "status": "completed"
    },
    "tags": []
   },
   "outputs": [],
   "source": [
    "pixarea = hp.nside2pixarea(nside)"
   ]
  },
  {
   "cell_type": "code",
   "execution_count": 38,
   "metadata": {
    "execution": {
     "iopub.execute_input": "2020-12-09T05:34:29.395176Z",
     "iopub.status.busy": "2020-12-09T05:34:29.394564Z",
     "iopub.status.idle": "2020-12-09T05:34:29.423174Z",
     "shell.execute_reply": "2020-12-09T05:34:29.422687Z"
    },
    "papermill": {
     "duration": 0.072436,
     "end_time": "2020-12-09T05:34:29.423294",
     "exception": false,
     "start_time": "2020-12-09T05:34:29.350858",
     "status": "completed"
    },
    "tags": []
   },
   "outputs": [
    {
     "data": {
      "text/plain": [
       "1.3236516116486684e-15"
      ]
     },
     "execution_count": 38,
     "metadata": {},
     "output_type": "execute_result"
    }
   ],
   "source": [
    "np.mean(wcov[hitmap > 0])* pixarea"
   ]
  },
  {
   "cell_type": "code",
   "execution_count": 39,
   "metadata": {
    "execution": {
     "iopub.execute_input": "2020-12-09T05:34:29.512618Z",
     "iopub.status.busy": "2020-12-09T05:34:29.512082Z",
     "iopub.status.idle": "2020-12-09T05:34:29.524323Z",
     "shell.execute_reply": "2020-12-09T05:34:29.524783Z"
    },
    "papermill": {
     "duration": 0.058904,
     "end_time": "2020-12-09T05:34:29.524944",
     "exception": false,
     "start_time": "2020-12-09T05:34:29.466040",
     "status": "completed"
    },
    "tags": []
   },
   "outputs": [],
   "source": [
    "wcov [ wcov == hp.UNSEEN] = 0"
   ]
  },
  {
   "cell_type": "markdown",
   "metadata": {
    "papermill": {
     "duration": 0.043279,
     "end_time": "2020-12-09T05:34:29.610322",
     "exception": false,
     "start_time": "2020-12-09T05:34:29.567043",
     "status": "completed"
    },
    "tags": []
   },
   "source": [
    "## Atmosphere"
   ]
  },
  {
   "cell_type": "code",
   "execution_count": 40,
   "metadata": {
    "execution": {
     "iopub.execute_input": "2020-12-09T05:34:29.698658Z",
     "iopub.status.busy": "2020-12-09T05:34:29.698020Z",
     "iopub.status.idle": "2020-12-09T05:34:29.700386Z",
     "shell.execute_reply": "2020-12-09T05:34:29.699861Z"
    },
    "papermill": {
     "duration": 0.047577,
     "end_time": "2020-12-09T05:34:29.700509",
     "exception": false,
     "start_time": "2020-12-09T05:34:29.652932",
     "status": "completed"
    },
    "tags": []
   },
   "outputs": [],
   "source": [
    "atmosphere_filename = Path(base_folder) / \"00000000\" / f\"{site}_atmosphere_{telescope}_{channel}_filtered_telescope_all_time_all_bmap.fits\""
   ]
  },
  {
   "cell_type": "code",
   "execution_count": 41,
   "metadata": {
    "execution": {
     "iopub.execute_input": "2020-12-09T05:34:29.818435Z",
     "iopub.status.busy": "2020-12-09T05:34:29.817814Z",
     "iopub.status.idle": "2020-12-09T05:34:30.617215Z",
     "shell.execute_reply": "2020-12-09T05:34:30.617657Z"
    },
    "papermill": {
     "duration": 0.864887,
     "end_time": "2020-12-09T05:34:30.617816",
     "exception": false,
     "start_time": "2020-12-09T05:34:29.752929",
     "status": "completed"
    },
    "tags": []
   },
   "outputs": [
    {
     "name": "stderr",
     "output_type": "stream",
     "text": [
      "/global/homes/z/zonca/condajupynersc/lib/python3.7/site-packages/healpy/fitsfunc.py:400: UserWarning: ORDERING = NESTED in fits file\n",
      "  warnings.warn(\"ORDERING = {0:s} in fits file\".format(ordering))\n",
      "/global/homes/z/zonca/condajupynersc/lib/python3.7/site-packages/healpy/fitsfunc.py:486: UserWarning: Ordering converted to RING\n",
      "  warnings.warn(\"Ordering converted to RING\")\n"
     ]
    }
   ],
   "source": [
    "input_atmophere = hp.ma(hp.read_map(atmosphere_filename, (0,1,2)))"
   ]
  },
  {
   "cell_type": "code",
   "execution_count": 42,
   "metadata": {
    "execution": {
     "iopub.execute_input": "2020-12-09T05:34:30.704765Z",
     "iopub.status.busy": "2020-12-09T05:34:30.704140Z",
     "iopub.status.idle": "2020-12-09T05:34:30.734886Z",
     "shell.execute_reply": "2020-12-09T05:34:30.735329Z"
    },
    "papermill": {
     "duration": 0.075315,
     "end_time": "2020-12-09T05:34:30.735490",
     "exception": false,
     "start_time": "2020-12-09T05:34:30.660175",
     "status": "completed"
    },
    "tags": []
   },
   "outputs": [],
   "source": [
    "sqrt_hitmap = hitmap.copy()\n",
    "sqrt_hitmap[hitmap>0] = np.sqrt(hitmap[hitmap>0])"
   ]
  },
  {
   "cell_type": "code",
   "execution_count": 43,
   "metadata": {
    "execution": {
     "iopub.execute_input": "2020-12-09T05:34:30.871223Z",
     "iopub.status.busy": "2020-12-09T05:34:30.870658Z",
     "iopub.status.idle": "2020-12-09T05:34:34.168859Z",
     "shell.execute_reply": "2020-12-09T05:34:34.169655Z"
    },
    "papermill": {
     "duration": 3.383473,
     "end_time": "2020-12-09T05:34:34.169868",
     "exception": false,
     "start_time": "2020-12-09T05:34:30.786395",
     "status": "completed"
    },
    "tags": []
   },
   "outputs": [],
   "source": [
    "atmo_cl = \\\n",
    "hp.anafast(input_atmophere * sqrt_hitmap, use_pixel_weights=True) / np.mean(hitmap) # / sky_fraction"
   ]
  },
  {
   "cell_type": "code",
   "execution_count": 44,
   "metadata": {
    "execution": {
     "iopub.execute_input": "2020-12-09T05:34:34.280851Z",
     "iopub.status.busy": "2020-12-09T05:34:34.279922Z",
     "iopub.status.idle": "2020-12-09T05:34:34.281964Z",
     "shell.execute_reply": "2020-12-09T05:34:34.282534Z"
    },
    "papermill": {
     "duration": 0.047232,
     "end_time": "2020-12-09T05:34:34.282689",
     "exception": false,
     "start_time": "2020-12-09T05:34:34.235457",
     "status": "completed"
    },
    "tags": []
   },
   "outputs": [],
   "source": [
    "from s4_design_sim_tool.atmosphere import get_telecope_years"
   ]
  },
  {
   "cell_type": "code",
   "execution_count": 45,
   "metadata": {
    "execution": {
     "iopub.execute_input": "2020-12-09T05:34:34.390109Z",
     "iopub.status.busy": "2020-12-09T05:34:34.389556Z",
     "iopub.status.idle": "2020-12-09T05:34:34.391164Z",
     "shell.execute_reply": "2020-12-09T05:34:34.391704Z"
    },
    "papermill": {
     "duration": 0.059802,
     "end_time": "2020-12-09T05:34:34.391847",
     "exception": false,
     "start_time": "2020-12-09T05:34:34.332045",
     "status": "completed"
    },
    "tags": []
   },
   "outputs": [],
   "source": [
    "telescope_years = get_telecope_years(config, site, channel)"
   ]
  },
  {
   "cell_type": "code",
   "execution_count": 46,
   "metadata": {
    "execution": {
     "iopub.execute_input": "2020-12-09T05:34:34.477738Z",
     "iopub.status.busy": "2020-12-09T05:34:34.476824Z",
     "iopub.status.idle": "2020-12-09T05:34:34.480093Z",
     "shell.execute_reply": "2020-12-09T05:34:34.480833Z"
    },
    "papermill": {
     "duration": 0.047832,
     "end_time": "2020-12-09T05:34:34.481045",
     "exception": false,
     "start_time": "2020-12-09T05:34:34.433213",
     "status": "completed"
    },
    "tags": []
   },
   "outputs": [
    {
     "data": {
      "text/plain": [
       "7"
      ]
     },
     "execution_count": 46,
     "metadata": {},
     "output_type": "execute_result"
    }
   ],
   "source": [
    "telescope_years"
   ]
  },
  {
   "cell_type": "code",
   "execution_count": 47,
   "metadata": {
    "execution": {
     "iopub.execute_input": "2020-12-09T05:34:34.584785Z",
     "iopub.status.busy": "2020-12-09T05:34:34.584181Z",
     "iopub.status.idle": "2020-12-09T05:34:34.586097Z",
     "shell.execute_reply": "2020-12-09T05:34:34.586574Z"
    },
    "papermill": {
     "duration": 0.047561,
     "end_time": "2020-12-09T05:34:34.586742",
     "exception": false,
     "start_time": "2020-12-09T05:34:34.539181",
     "status": "completed"
    },
    "tags": []
   },
   "outputs": [],
   "source": [
    "from s4_design_sim_tool.core import simulations_observing_efficiency"
   ]
  },
  {
   "cell_type": "code",
   "execution_count": 48,
   "metadata": {
    "execution": {
     "iopub.execute_input": "2020-12-09T05:34:34.679006Z",
     "iopub.status.busy": "2020-12-09T05:34:34.678445Z",
     "iopub.status.idle": "2020-12-09T05:34:34.680851Z",
     "shell.execute_reply": "2020-12-09T05:34:34.681349Z"
    },
    "papermill": {
     "duration": 0.049696,
     "end_time": "2020-12-09T05:34:34.681528",
     "exception": false,
     "start_time": "2020-12-09T05:34:34.631832",
     "status": "completed"
    },
    "tags": []
   },
   "outputs": [
    {
     "data": {
      "text/plain": [
       "{'pole': {'SAT': 0.3931149305555555, 'LAT': 0.321544537037037},\n",
       " 'chile': {'SAT': 0.8656164351851852, 'LAT': 0.917306712962963}}"
      ]
     },
     "execution_count": 48,
     "metadata": {},
     "output_type": "execute_result"
    }
   ],
   "source": [
    "simulations_observing_efficiency"
   ]
  },
  {
   "cell_type": "code",
   "execution_count": 49,
   "metadata": {
    "execution": {
     "iopub.execute_input": "2020-12-09T05:34:34.776238Z",
     "iopub.status.busy": "2020-12-09T05:34:34.775554Z",
     "iopub.status.idle": "2020-12-09T05:34:34.778908Z",
     "shell.execute_reply": "2020-12-09T05:34:34.778319Z"
    },
    "papermill": {
     "duration": 0.051437,
     "end_time": "2020-12-09T05:34:34.779030",
     "exception": false,
     "start_time": "2020-12-09T05:34:34.727593",
     "status": "completed"
    },
    "tags": []
   },
   "outputs": [],
   "source": [
    "atmo_cl *= 10 / 365.25\n",
    "atmo_cl *= simulations_observing_efficiency[site.lower()].get(telescope, 1) / config[\"experiment\"][\"observing_efficiency\"]                                                                    \n",
    "atmo_cl /= telescope_years"
   ]
  },
  {
   "cell_type": "markdown",
   "metadata": {
    "papermill": {
     "duration": 0.045569,
     "end_time": "2020-12-09T05:34:34.868731",
     "exception": false,
     "start_time": "2020-12-09T05:34:34.823162",
     "status": "completed"
    },
    "tags": []
   },
   "source": [
    "## Noise"
   ]
  },
  {
   "cell_type": "code",
   "execution_count": 50,
   "metadata": {
    "execution": {
     "iopub.execute_input": "2020-12-09T05:34:34.955506Z",
     "iopub.status.busy": "2020-12-09T05:34:34.954947Z",
     "iopub.status.idle": "2020-12-09T05:34:34.956715Z",
     "shell.execute_reply": "2020-12-09T05:34:34.957135Z"
    },
    "papermill": {
     "duration": 0.0473,
     "end_time": "2020-12-09T05:34:34.957285",
     "exception": false,
     "start_time": "2020-12-09T05:34:34.909985",
     "status": "completed"
    },
    "tags": []
   },
   "outputs": [],
   "source": [
    "noise_filename = Path(base_folder) / \"00000000\" / f\"{site}_noise_{telescope}_{channel}_filtered_telescope_all_time_all_bmap.fits\""
   ]
  },
  {
   "cell_type": "code",
   "execution_count": 51,
   "metadata": {
    "execution": {
     "iopub.execute_input": "2020-12-09T05:34:35.048230Z",
     "iopub.status.busy": "2020-12-09T05:34:35.047676Z",
     "iopub.status.idle": "2020-12-09T05:34:35.050547Z",
     "shell.execute_reply": "2020-12-09T05:34:35.049949Z"
    },
    "papermill": {
     "duration": 0.051373,
     "end_time": "2020-12-09T05:34:35.050664",
     "exception": false,
     "start_time": "2020-12-09T05:34:34.999291",
     "status": "completed"
    },
    "tags": []
   },
   "outputs": [],
   "source": [
    "#input_noise = hp.ma(hp.read_map(noise_filename, (0,1,2)))"
   ]
  },
  {
   "cell_type": "code",
   "execution_count": 52,
   "metadata": {
    "execution": {
     "iopub.execute_input": "2020-12-09T05:34:35.148276Z",
     "iopub.status.busy": "2020-12-09T05:34:35.147731Z",
     "iopub.status.idle": "2020-12-09T05:34:35.149516Z",
     "shell.execute_reply": "2020-12-09T05:34:35.149962Z"
    },
    "papermill": {
     "duration": 0.050288,
     "end_time": "2020-12-09T05:34:35.150104",
     "exception": false,
     "start_time": "2020-12-09T05:34:35.099816",
     "status": "completed"
    },
    "tags": []
   },
   "outputs": [],
   "source": [
    "#noise_cl = hp.anafast(input_noise * sqrt_hitmap, use_pixel_weights=True) / np.mean(hitmap) / sky_fraction"
   ]
  },
  {
   "cell_type": "code",
   "execution_count": 53,
   "metadata": {
    "execution": {
     "iopub.execute_input": "2020-12-09T05:34:35.240207Z",
     "iopub.status.busy": "2020-12-09T05:34:35.239608Z",
     "iopub.status.idle": "2020-12-09T05:34:35.242214Z",
     "shell.execute_reply": "2020-12-09T05:34:35.242701Z"
    },
    "papermill": {
     "duration": 0.051777,
     "end_time": "2020-12-09T05:34:35.242862",
     "exception": false,
     "start_time": "2020-12-09T05:34:35.191085",
     "status": "completed"
    },
    "tags": []
   },
   "outputs": [],
   "source": [
    "del sqrt_hitmap"
   ]
  },
  {
   "cell_type": "code",
   "execution_count": 54,
   "metadata": {
    "execution": {
     "iopub.execute_input": "2020-12-09T05:34:35.328950Z",
     "iopub.status.busy": "2020-12-09T05:34:35.328397Z",
     "iopub.status.idle": "2020-12-09T05:34:35.330538Z",
     "shell.execute_reply": "2020-12-09T05:34:35.330991Z"
    },
    "papermill": {
     "duration": 0.047532,
     "end_time": "2020-12-09T05:34:35.331138",
     "exception": false,
     "start_time": "2020-12-09T05:34:35.283606",
     "status": "completed"
    },
    "tags": []
   },
   "outputs": [],
   "source": [
    "from s4_design_sim_tool.noise import get_thinfp\n",
    "thinfp = get_thinfp(channel)"
   ]
  },
  {
   "cell_type": "code",
   "execution_count": 55,
   "metadata": {
    "execution": {
     "iopub.execute_input": "2020-12-09T05:34:35.421125Z",
     "iopub.status.busy": "2020-12-09T05:34:35.420578Z",
     "iopub.status.idle": "2020-12-09T05:34:35.423861Z",
     "shell.execute_reply": "2020-12-09T05:34:35.423407Z"
    },
    "papermill": {
     "duration": 0.051355,
     "end_time": "2020-12-09T05:34:35.423977",
     "exception": false,
     "start_time": "2020-12-09T05:34:35.372622",
     "status": "completed"
    },
    "tags": []
   },
   "outputs": [
    {
     "data": {
      "text/html": [
       "&lt;Column name=&apos;thinfp&apos; dtype=&apos;int64&apos; length=1&gt;\n",
       "<table>\n",
       "<tr><td>1</td></tr>\n",
       "</table>"
      ],
      "text/plain": [
       "<Column name='thinfp' dtype='int64' length=1>\n",
       "1"
      ]
     },
     "execution_count": 55,
     "metadata": {},
     "output_type": "execute_result"
    }
   ],
   "source": [
    "thinfp"
   ]
  },
  {
   "cell_type": "code",
   "execution_count": 56,
   "metadata": {
    "execution": {
     "iopub.execute_input": "2020-12-09T05:34:35.509615Z",
     "iopub.status.busy": "2020-12-09T05:34:35.509053Z",
     "iopub.status.idle": "2020-12-09T05:34:35.510806Z",
     "shell.execute_reply": "2020-12-09T05:34:35.511250Z"
    },
    "papermill": {
     "duration": 0.046079,
     "end_time": "2020-12-09T05:34:35.511395",
     "exception": false,
     "start_time": "2020-12-09T05:34:35.465316",
     "status": "completed"
    },
    "tags": []
   },
   "outputs": [],
   "source": [
    "#noise_cl *= 10 / 365.25\n",
    "#noise_cl *= simulations_observing_efficiency[site.lower()].get(telescope, 1) / config[\"experiment\"][\"observing_efficiency\"]                                                                    \n",
    "#noise_cl /= tube_years\n",
    "#noise_cl /= thinfp"
   ]
  },
  {
   "cell_type": "code",
   "execution_count": 57,
   "metadata": {
    "execution": {
     "iopub.execute_input": "2020-12-09T05:34:35.601350Z",
     "iopub.status.busy": "2020-12-09T05:34:35.600711Z",
     "iopub.status.idle": "2020-12-09T05:34:35.614070Z",
     "shell.execute_reply": "2020-12-09T05:34:35.613546Z"
    },
    "papermill": {
     "duration": 0.060872,
     "end_time": "2020-12-09T05:34:35.614202",
     "exception": false,
     "start_time": "2020-12-09T05:34:35.553330",
     "status": "completed"
    },
    "tags": []
   },
   "outputs": [],
   "source": [
    "white_noise_Cl = channel_NET**2 \\\n",
    "/ (hitmap.sum() / sampling_frequency[telescope] / (hitmap>0).sum()) * pixarea # / sky_fraction"
   ]
  },
  {
   "cell_type": "code",
   "execution_count": 58,
   "metadata": {
    "execution": {
     "iopub.execute_input": "2020-12-09T05:34:35.711326Z",
     "iopub.status.busy": "2020-12-09T05:34:35.710685Z",
     "iopub.status.idle": "2020-12-09T05:34:35.713678Z",
     "shell.execute_reply": "2020-12-09T05:34:35.714193Z"
    },
    "papermill": {
     "duration": 0.053286,
     "end_time": "2020-12-09T05:34:35.714429",
     "exception": false,
     "start_time": "2020-12-09T05:34:35.661143",
     "status": "completed"
    },
    "tags": []
   },
   "outputs": [
    {
     "data": {
      "text/latex": [
       "$2.1197445 \\times 10^{-17} \\; \\mathrm{K^{2}}$"
      ],
      "text/plain": [
       "<Quantity 2.11974452e-17 K2>"
      ]
     },
     "execution_count": 58,
     "metadata": {},
     "output_type": "execute_result"
    }
   ],
   "source": [
    "white_noise_Cl.decompose()"
   ]
  },
  {
   "cell_type": "code",
   "execution_count": 59,
   "metadata": {
    "execution": {
     "iopub.execute_input": "2020-12-09T05:34:35.806566Z",
     "iopub.status.busy": "2020-12-09T05:34:35.805893Z",
     "iopub.status.idle": "2020-12-09T05:34:36.340724Z",
     "shell.execute_reply": "2020-12-09T05:34:36.341196Z"
    },
    "papermill": {
     "duration": 0.583996,
     "end_time": "2020-12-09T05:34:36.341361",
     "exception": false,
     "start_time": "2020-12-09T05:34:35.757365",
     "status": "completed"
    },
    "tags": []
   },
   "outputs": [],
   "source": [
    "import seaborn as sns"
   ]
  },
  {
   "cell_type": "code",
   "execution_count": 60,
   "metadata": {
    "execution": {
     "iopub.execute_input": "2020-12-09T05:34:36.438032Z",
     "iopub.status.busy": "2020-12-09T05:34:36.437427Z",
     "iopub.status.idle": "2020-12-09T05:34:36.439214Z",
     "shell.execute_reply": "2020-12-09T05:34:36.439695Z"
    },
    "papermill": {
     "duration": 0.055581,
     "end_time": "2020-12-09T05:34:36.439836",
     "exception": false,
     "start_time": "2020-12-09T05:34:36.384255",
     "status": "completed"
    },
    "tags": []
   },
   "outputs": [],
   "source": [
    "sns.set_style(\"whitegrid\")"
   ]
  },
  {
   "cell_type": "code",
   "execution_count": 61,
   "metadata": {
    "execution": {
     "iopub.execute_input": "2020-12-09T05:34:36.551273Z",
     "iopub.status.busy": "2020-12-09T05:34:36.549939Z",
     "iopub.status.idle": "2020-12-09T05:34:38.928170Z",
     "shell.execute_reply": "2020-12-09T05:34:38.928664Z"
    },
    "papermill": {
     "duration": 2.433907,
     "end_time": "2020-12-09T05:34:38.928819",
     "exception": false,
     "start_time": "2020-12-09T05:34:36.494912",
     "status": "completed"
    },
    "tags": []
   },
   "outputs": [
    {
     "data": {
      "image/png": "[encoded data removed]",
      "text/plain": [
       "<Figure size 576x360 with 1 Axes>"
      ]
     },
     "metadata": {},
     "output_type": "display_data"
    }
   ],
   "source": [
    "plt.figure(figsize=(8,5))\n",
    "\n",
    "pols = [\"TT\", \"EE\", \"BB\"]\n",
    "\n",
    "for i, pol in enumerate(pols):\n",
    "    for split in range(1, nsplits+1):\n",
    "        plt.loglog(C_ell[ch][split][i], alpha=.8, label=pol)\n",
    "\n",
    "for i, pol in enumerate(pols):\n",
    "    plt.loglog(atmo_cl[i]*nsplits, alpha=.8, ls=\"--\", label=f\"atmo {pol}\")\n",
    "\n",
    "#for i, pol in enumerate(pols):\n",
    "#    plt.loglog(noise_cl[i], alpha=.8, ls=\"-.\", label=f\"noise {pol}\")\n",
    "\n",
    "plt.axhline(white_noise_Cl.to_value(u.K**2), ls=\":\",\n",
    "           label=\"white noise T\", color=\"black\")\n",
    "plt.axhline(white_noise_Cl.to_value(u.K**2)*2, ls=\":\",\n",
    "           label=\"white noise P\", color=\"grey\")\n",
    "plt.legend()\n",
    "plt.title(f\"Noise + Atmosphere simulations spectra for {ch}\")\n",
    "plt.ylabel(\"$C_\\ell [K^2]$\")\n",
    "plt.xlabel(\"$\\ell$\")\n",
    "plt.xlim((10, 3*nside))\n",
    "plt.grid(True)\n",
    "plt.savefig(f\"plots/C_ell_{dataset}_{ch}_{nsplits}.png\");"
   ]
  },
  {
   "cell_type": "code",
   "execution_count": null,
   "metadata": {
    "papermill": {
     "duration": 0.052908,
     "end_time": "2020-12-09T05:34:39.026694",
     "exception": false,
     "start_time": "2020-12-09T05:34:38.973786",
     "status": "completed"
    },
    "tags": []
   },
   "outputs": [],
   "source": []
  }
 ],
 "metadata": {
  "kernelspec": {
   "display_name": "condajupynersc",
   "language": "python",
   "name": "condajupynersc"
  },
  "language_info": {
   "codemirror_mode": {
    "name": "ipython",
    "version": 3
   },
   "file_extension": ".py",
   "mimetype": "text/x-python",
   "name": "python",
   "nbconvert_exporter": "python",
   "pygments_lexer": "ipython3",
   "version": "3.7.0"
  },
  "papermill": {
   "duration": 19.475186,
   "end_time": "2020-12-09T05:34:40.753812",
   "environment_variables": {},
   "exception": null,
   "input_path": "validation_atmo_noise_dec_2020.ipynb",
   "output_path": "validation_notebooks/SAT-LFS2_chile_1.ipynb",
   "parameters": {
    "ch": "SAT-LFS2_chile",
    "nsplits": 1
   },
   "start_time": "2020-12-09T05:34:21.278626",
   "version": "2.1.2"
  }
 },
 "nbformat": 4,
 "nbformat_minor": 4
}