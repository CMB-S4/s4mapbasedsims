{
 "cells": [
  {
   "cell_type": "code",
   "execution_count": 1,
   "metadata": {
    "execution": {
     "iopub.execute_input": "2020-12-09T06:00:51.283229Z",
     "iopub.status.busy": "2020-12-09T06:00:51.282621Z",
     "iopub.status.idle": "2020-12-09T06:00:52.931314Z",
     "shell.execute_reply": "2020-12-09T06:00:52.930404Z"
    },
    "papermill": {
     "duration": 1.683861,
     "end_time": "2020-12-09T06:00:52.931617",
     "exception": false,
     "start_time": "2020-12-09T06:00:51.247756",
     "status": "completed"
    },
    "tags": []
   },
   "outputs": [],
   "source": [
    "import healpy as hp\n",
    "import numpy as np\n",
    "%matplotlib inline\n",
    "import matplotlib.pyplot as plt\n",
    "from pathlib import Path\n",
    "from astropy.tests.helper import assert_quantity_allclose\n",
    "import pickle\n",
    "import sys\n",
    "import os\n",
    "from astropy import units as u"
   ]
  },
  {
   "cell_type": "code",
   "execution_count": 2,
   "metadata": {
    "execution": {
     "iopub.execute_input": "2020-12-09T06:00:52.991086Z",
     "iopub.status.busy": "2020-12-09T06:00:52.990509Z",
     "iopub.status.idle": "2020-12-09T06:00:53.051510Z",
     "shell.execute_reply": "2020-12-09T06:00:53.051018Z"
    },
    "papermill": {
     "duration": 0.092244,
     "end_time": "2020-12-09T06:00:53.051683",
     "exception": false,
     "start_time": "2020-12-09T06:00:52.959439",
     "status": "completed"
    },
    "tags": []
   },
   "outputs": [],
   "source": [
    "import h5py\n",
    "s4 = h5py.File(\"cmbs4_tophat.h5\", mode=\"r\")"
   ]
  },
  {
   "cell_type": "code",
   "execution_count": 3,
   "metadata": {
    "execution": {
     "iopub.execute_input": "2020-12-09T06:00:53.164064Z",
     "iopub.status.busy": "2020-12-09T06:00:53.163306Z",
     "iopub.status.idle": "2020-12-09T06:00:53.164757Z",
     "shell.execute_reply": "2020-12-09T06:00:53.165334Z"
    },
    "papermill": {
     "duration": 0.079977,
     "end_time": "2020-12-09T06:00:53.165713",
     "exception": false,
     "start_time": "2020-12-09T06:00:53.085736",
     "status": "completed"
    },
    "tags": []
   },
   "outputs": [],
   "source": [
    "dataset = \"s4_reference_design_noise_atmo_7splits\""
   ]
  },
  {
   "cell_type": "code",
   "execution_count": 4,
   "metadata": {
    "execution": {
     "iopub.execute_input": "2020-12-09T06:00:53.269636Z",
     "iopub.status.busy": "2020-12-09T06:00:53.269142Z",
     "iopub.status.idle": "2020-12-09T06:00:53.271380Z",
     "shell.execute_reply": "2020-12-09T06:00:53.271887Z"
    },
    "papermill": {
     "duration": 0.065454,
     "end_time": "2020-12-09T06:00:53.272061",
     "exception": false,
     "start_time": "2020-12-09T06:00:53.206607",
     "status": "completed"
    },
    "tags": [
     "parameters"
    ]
   },
   "outputs": [],
   "source": [
    "ch = f\"SAT-HFS1_chile\"\n",
    "nsplits = 1"
   ]
  },
  {
   "cell_type": "code",
   "execution_count": 5,
   "metadata": {
    "execution": {
     "iopub.execute_input": "2020-12-09T06:00:53.328034Z",
     "iopub.status.busy": "2020-12-09T06:00:53.327418Z",
     "iopub.status.idle": "2020-12-09T06:00:53.329321Z",
     "shell.execute_reply": "2020-12-09T06:00:53.329729Z"
    },
    "papermill": {
     "duration": 0.031519,
     "end_time": "2020-12-09T06:00:53.329861",
     "exception": false,
     "start_time": "2020-12-09T06:00:53.298342",
     "status": "completed"
    },
    "tags": [
     "injected-parameters"
    ]
   },
   "outputs": [],
   "source": [
    "# Parameters\n",
    "ch = \"SAT-HFS2_chile\"\n",
    "nsplits = 7\n"
   ]
  },
  {
   "cell_type": "code",
   "execution_count": 6,
   "metadata": {
    "execution": {
     "iopub.execute_input": "2020-12-09T06:00:53.384171Z",
     "iopub.status.busy": "2020-12-09T06:00:53.383666Z",
     "iopub.status.idle": "2020-12-09T06:00:53.386451Z",
     "shell.execute_reply": "2020-12-09T06:00:53.385951Z"
    },
    "papermill": {
     "duration": 0.031445,
     "end_time": "2020-12-09T06:00:53.386554",
     "exception": false,
     "start_time": "2020-12-09T06:00:53.355109",
     "status": "completed"
    },
    "tags": []
   },
   "outputs": [],
   "source": [
    "if os.path.exists(f\"plots/C_ell_{dataset}_{ch}_{nsplits}.png\"):\n",
    "    sys.exit(0)"
   ]
  },
  {
   "cell_type": "code",
   "execution_count": 7,
   "metadata": {
    "execution": {
     "iopub.execute_input": "2020-12-09T06:00:53.445620Z",
     "iopub.status.busy": "2020-12-09T06:00:53.445105Z",
     "iopub.status.idle": "2020-12-09T06:00:53.447286Z",
     "shell.execute_reply": "2020-12-09T06:00:53.447705Z"
    },
    "papermill": {
     "duration": 0.035147,
     "end_time": "2020-12-09T06:00:53.447848",
     "exception": false,
     "start_time": "2020-12-09T06:00:53.412701",
     "status": "completed"
    },
    "tags": []
   },
   "outputs": [],
   "source": [
    "sampling_frequency = dict(SAT=100*u.Hz, LAT=400*u.Hz)"
   ]
  },
  {
   "cell_type": "code",
   "execution_count": 8,
   "metadata": {
    "execution": {
     "iopub.execute_input": "2020-12-09T06:00:53.503945Z",
     "iopub.status.busy": "2020-12-09T06:00:53.503354Z",
     "iopub.status.idle": "2020-12-09T06:00:53.505040Z",
     "shell.execute_reply": "2020-12-09T06:00:53.505405Z"
    },
    "papermill": {
     "duration": 0.031406,
     "end_time": "2020-12-09T06:00:53.505538",
     "exception": false,
     "start_time": "2020-12-09T06:00:53.474132",
     "status": "completed"
    },
    "tags": []
   },
   "outputs": [],
   "source": [
    "#telescope = \"SAT\"\n",
    "#channel = \"LFS1\"\n",
    "#site = \"pole\""
   ]
  },
  {
   "cell_type": "code",
   "execution_count": 9,
   "metadata": {
    "execution": {
     "iopub.execute_input": "2020-12-09T06:00:53.559313Z",
     "iopub.status.busy": "2020-12-09T06:00:53.558827Z",
     "iopub.status.idle": "2020-12-09T06:00:53.560638Z",
     "shell.execute_reply": "2020-12-09T06:00:53.560996Z"
    },
    "papermill": {
     "duration": 0.030189,
     "end_time": "2020-12-09T06:00:53.561127",
     "exception": false,
     "start_time": "2020-12-09T06:00:53.530938",
     "status": "completed"
    },
    "tags": []
   },
   "outputs": [],
   "source": [
    "telescope = ch.split(\"-\")[0]\n",
    "channel, site= ch.split(\"-\")[1].split(\"_\")"
   ]
  },
  {
   "cell_type": "code",
   "execution_count": 10,
   "metadata": {
    "execution": {
     "iopub.execute_input": "2020-12-09T06:00:53.618586Z",
     "iopub.status.busy": "2020-12-09T06:00:53.618081Z",
     "iopub.status.idle": "2020-12-09T06:00:53.620597Z",
     "shell.execute_reply": "2020-12-09T06:00:53.620976Z"
    },
    "papermill": {
     "duration": 0.034905,
     "end_time": "2020-12-09T06:00:53.621117",
     "exception": false,
     "start_time": "2020-12-09T06:00:53.586212",
     "status": "completed"
    },
    "tags": []
   },
   "outputs": [],
   "source": [
    "local_path = Path(\"output\")\n",
    "project_path = Path(\"/global/project/projectdirs/cmbs4/dm/dstool/output/\")"
   ]
  },
  {
   "cell_type": "code",
   "execution_count": 11,
   "metadata": {
    "execution": {
     "iopub.execute_input": "2020-12-09T06:00:53.678522Z",
     "iopub.status.busy": "2020-12-09T06:00:53.677999Z",
     "iopub.status.idle": "2020-12-09T06:00:53.691695Z",
     "shell.execute_reply": "2020-12-09T06:00:53.692125Z"
    },
    "papermill": {
     "duration": 0.044763,
     "end_time": "2020-12-09T06:00:53.692259",
     "exception": false,
     "start_time": "2020-12-09T06:00:53.647496",
     "status": "completed"
    },
    "tags": []
   },
   "outputs": [],
   "source": [
    "C_ell = pickle.load(open(local_path / dataset / f\"C_ell_{telescope}_{nsplits}.pkl\", \"rb\"))"
   ]
  },
  {
   "cell_type": "code",
   "execution_count": 12,
   "metadata": {
    "execution": {
     "iopub.execute_input": "2020-12-09T06:00:53.749046Z",
     "iopub.status.busy": "2020-12-09T06:00:53.748484Z",
     "iopub.status.idle": "2020-12-09T06:00:53.751347Z",
     "shell.execute_reply": "2020-12-09T06:00:53.751851Z"
    },
    "papermill": {
     "duration": 0.034506,
     "end_time": "2020-12-09T06:00:53.751999",
     "exception": false,
     "start_time": "2020-12-09T06:00:53.717493",
     "status": "completed"
    },
    "tags": []
   },
   "outputs": [
    {
     "data": {
      "text/plain": [
       "('SAT', 'HFS2', 'chile')"
      ]
     },
     "execution_count": 12,
     "metadata": {},
     "output_type": "execute_result"
    }
   ],
   "source": [
    "telescope, channel, site"
   ]
  },
  {
   "cell_type": "code",
   "execution_count": 13,
   "metadata": {
    "execution": {
     "iopub.execute_input": "2020-12-09T06:00:53.810497Z",
     "iopub.status.busy": "2020-12-09T06:00:53.809993Z",
     "iopub.status.idle": "2020-12-09T06:00:53.812432Z",
     "shell.execute_reply": "2020-12-09T06:00:53.812810Z"
    },
    "papermill": {
     "duration": 0.033731,
     "end_time": "2020-12-09T06:00:53.812950",
     "exception": false,
     "start_time": "2020-12-09T06:00:53.779219",
     "status": "completed"
    },
    "tags": []
   },
   "outputs": [
    {
     "data": {
      "text/plain": [
       "dict_keys(['SAT-HFS1_chile', 'SAT-HFS2_chile', 'SAT-LFS1_chile', 'SAT-LFS2_chile', 'SAT-MFHS1_chile', 'SAT-MFHS2_chile', 'SAT-MFLS1_chile', 'SAT-MFLS2_chile'])"
      ]
     },
     "execution_count": 13,
     "metadata": {},
     "output_type": "execute_result"
    }
   ],
   "source": [
    "C_ell.keys()"
   ]
  },
  {
   "cell_type": "code",
   "execution_count": 14,
   "metadata": {
    "execution": {
     "iopub.execute_input": "2020-12-09T06:00:53.873671Z",
     "iopub.status.busy": "2020-12-09T06:00:53.873199Z",
     "iopub.status.idle": "2020-12-09T06:00:53.874803Z",
     "shell.execute_reply": "2020-12-09T06:00:53.875252Z"
    },
    "papermill": {
     "duration": 0.034419,
     "end_time": "2020-12-09T06:00:53.875383",
     "exception": false,
     "start_time": "2020-12-09T06:00:53.840964",
     "status": "completed"
    },
    "tags": []
   },
   "outputs": [],
   "source": [
    "nside = 4096 if telescope == \"LAT\" else 512"
   ]
  },
  {
   "cell_type": "code",
   "execution_count": 15,
   "metadata": {
    "execution": {
     "iopub.execute_input": "2020-12-09T06:00:53.932122Z",
     "iopub.status.busy": "2020-12-09T06:00:53.931594Z",
     "iopub.status.idle": "2020-12-09T06:00:53.934963Z",
     "shell.execute_reply": "2020-12-09T06:00:53.934572Z"
    },
    "papermill": {
     "duration": 0.033087,
     "end_time": "2020-12-09T06:00:53.935065",
     "exception": false,
     "start_time": "2020-12-09T06:00:53.901978",
     "status": "completed"
    },
    "tags": []
   },
   "outputs": [],
   "source": [
    "from s4_design_sim_tool.core import base_folder"
   ]
  },
  {
   "cell_type": "code",
   "execution_count": 16,
   "metadata": {
    "execution": {
     "iopub.execute_input": "2020-12-09T06:00:53.993863Z",
     "iopub.status.busy": "2020-12-09T06:00:53.993374Z",
     "iopub.status.idle": "2020-12-09T06:00:54.005518Z",
     "shell.execute_reply": "2020-12-09T06:00:54.005926Z"
    },
    "papermill": {
     "duration": 0.043181,
     "end_time": "2020-12-09T06:00:54.006081",
     "exception": false,
     "start_time": "2020-12-09T06:00:53.962900",
     "status": "completed"
    },
    "tags": []
   },
   "outputs": [],
   "source": [
    "from s4_design_sim_tool.cli import parse_config\n",
    "if site == \"chile\" and telescope == \"SAT\":\n",
    "    config = parse_config(f\"{dataset}.toml\", \"chile_sat.toml\")\n",
    "else:\n",
    "    config = parse_config(f\"{dataset}.toml\")"
   ]
  },
  {
   "cell_type": "code",
   "execution_count": 17,
   "metadata": {
    "execution": {
     "iopub.execute_input": "2020-12-09T06:00:54.065180Z",
     "iopub.status.busy": "2020-12-09T06:00:54.064660Z",
     "iopub.status.idle": "2020-12-09T06:00:54.177968Z",
     "shell.execute_reply": "2020-12-09T06:00:54.178620Z"
    },
    "papermill": {
     "duration": 0.145782,
     "end_time": "2020-12-09T06:00:54.178848",
     "exception": false,
     "start_time": "2020-12-09T06:00:54.033066",
     "status": "completed"
    },
    "tags": []
   },
   "outputs": [
    {
     "name": "stderr",
     "output_type": "stream",
     "text": [
      "/global/homes/z/zonca/condajupynersc/lib/python3.7/site-packages/healpy/fitsfunc.py:369: UserWarning: If you are not specifying the input dtype and using the default np.float64 dtype of read_map(), please consider that it will change in a future version to None as to keep the same dtype of the input file: please explicitly set the dtype if it is important to you.\n",
      "  \"If you are not specifying the input dtype and using the default \"\n",
      "/global/homes/z/zonca/condajupynersc/lib/python3.7/site-packages/healpy/fitsfunc.py:391: UserWarning: NSIDE = 512\n",
      "  warnings.warn(\"NSIDE = {0:d}\".format(nside))\n",
      "/global/homes/z/zonca/condajupynersc/lib/python3.7/site-packages/healpy/fitsfunc.py:400: UserWarning: ORDERING = RING in fits file\n",
      "  warnings.warn(\"ORDERING = {0:s} in fits file\".format(ordering))\n",
      "/global/homes/z/zonca/condajupynersc/lib/python3.7/site-packages/healpy/fitsfunc.py:428: UserWarning: INDXSCHM = IMPLICIT\n",
      "  warnings.warn(\"INDXSCHM = {0:s}\".format(schm))\n"
     ]
    }
   ],
   "source": [
    "hitmap = hp.read_map(local_path / dataset / ch / f\"cmbs4_hitmap_{ch}_nside{nside}_1_of_{nsplits}.fits\")"
   ]
  },
  {
   "cell_type": "code",
   "execution_count": 18,
   "metadata": {
    "execution": {
     "iopub.execute_input": "2020-12-09T06:00:54.296113Z",
     "iopub.status.busy": "2020-12-09T06:00:54.295547Z",
     "iopub.status.idle": "2020-12-09T06:00:54.298129Z",
     "shell.execute_reply": "2020-12-09T06:00:54.298523Z"
    },
    "papermill": {
     "duration": 0.054166,
     "end_time": "2020-12-09T06:00:54.298672",
     "exception": false,
     "start_time": "2020-12-09T06:00:54.244506",
     "status": "completed"
    },
    "tags": []
   },
   "outputs": [
    {
     "data": {
      "text/plain": [
       "'HFS2'"
      ]
     },
     "execution_count": 18,
     "metadata": {},
     "output_type": "execute_result"
    }
   ],
   "source": [
    "channel"
   ]
  },
  {
   "cell_type": "code",
   "execution_count": 19,
   "metadata": {
    "execution": {
     "iopub.execute_input": "2020-12-09T06:00:54.363816Z",
     "iopub.status.busy": "2020-12-09T06:00:54.363235Z",
     "iopub.status.idle": "2020-12-09T06:00:54.365420Z",
     "shell.execute_reply": "2020-12-09T06:00:54.365858Z"
    },
    "papermill": {
     "duration": 0.038769,
     "end_time": "2020-12-09T06:00:54.366010",
     "exception": false,
     "start_time": "2020-12-09T06:00:54.327241",
     "status": "completed"
    },
    "tags": []
   },
   "outputs": [
    {
     "data": {
      "text/plain": [
       "14"
      ]
     },
     "execution_count": 19,
     "metadata": {},
     "output_type": "execute_result"
    }
   ],
   "source": [
    "from s4_design_sim_tool.noise import get_tube_years\n",
    "tube_years = get_tube_years(config, site, channel)\n",
    "tube_years"
   ]
  },
  {
   "cell_type": "code",
   "execution_count": 20,
   "metadata": {
    "execution": {
     "iopub.execute_input": "2020-12-09T06:00:54.430602Z",
     "iopub.status.busy": "2020-12-09T06:00:54.430098Z",
     "iopub.status.idle": "2020-12-09T06:00:54.438686Z",
     "shell.execute_reply": "2020-12-09T06:00:54.439063Z"
    },
    "papermill": {
     "duration": 0.044315,
     "end_time": "2020-12-09T06:00:54.439203",
     "exception": false,
     "start_time": "2020-12-09T06:00:54.394888",
     "status": "completed"
    },
    "tags": []
   },
   "outputs": [
    {
     "data": {
      "text/plain": [
       "100.16290436782067"
      ]
     },
     "execution_count": 20,
     "metadata": {},
     "output_type": "execute_result"
    }
   ],
   "source": [
    "sampling_rate = hitmap.sum()\n",
    "sampling_rate /= 365.25 * 24 * 3600\n",
    "sampling_rate /= tube_years * config[\"experiment\"][\"observing_efficiency\"]\n",
    "sampling_rate /= s4[channel].attrs[\"detectors_per_tube\"]\n",
    "sampling_rate *= nsplits\n",
    "sampling_rate"
   ]
  },
  {
   "cell_type": "code",
   "execution_count": 21,
   "metadata": {
    "execution": {
     "iopub.execute_input": "2020-12-09T06:00:54.505058Z",
     "iopub.status.busy": "2020-12-09T06:00:54.504566Z",
     "iopub.status.idle": "2020-12-09T06:00:54.507200Z",
     "shell.execute_reply": "2020-12-09T06:00:54.506785Z"
    },
    "papermill": {
     "duration": 0.037847,
     "end_time": "2020-12-09T06:00:54.507309",
     "exception": false,
     "start_time": "2020-12-09T06:00:54.469462",
     "status": "completed"
    },
    "tags": []
   },
   "outputs": [],
   "source": [
    "np.testing.assert_allclose(sampling_rate, sampling_frequency[telescope].value, rtol=1/100)"
   ]
  },
  {
   "cell_type": "code",
   "execution_count": 22,
   "metadata": {
    "execution": {
     "iopub.execute_input": "2020-12-09T06:00:54.568683Z",
     "iopub.status.busy": "2020-12-09T06:00:54.568186Z",
     "iopub.status.idle": "2020-12-09T06:00:55.060796Z",
     "shell.execute_reply": "2020-12-09T06:00:55.061245Z"
    },
    "papermill": {
     "duration": 0.525466,
     "end_time": "2020-12-09T06:00:55.061420",
     "exception": false,
     "start_time": "2020-12-09T06:00:54.535954",
     "status": "completed"
    },
    "tags": []
   },
   "outputs": [
    {
     "name": "stderr",
     "output_type": "stream",
     "text": [
      "/global/homes/z/zonca/condajupynersc/lib/python3.7/site-packages/ipykernel_launcher.py:1: RuntimeWarning: divide by zero encountered in log10\n",
      "  \"\"\"Entry point for launching an IPython kernel.\n",
      "/global/homes/z/zonca/condajupynersc/lib/python3.7/site-packages/healpy/projaxes.py:920: MatplotlibDeprecationWarning: You are modifying the state of a globally registered colormap. In future versions, you will not be able to modify a registered colormap in-place. To remove this warning, you can make a copy of the colormap first. cmap = copy.copy(mpl.cm.get_cmap(\"viridis\"))\n",
      "  newcm.set_over(newcm(1.0))\n",
      "/global/homes/z/zonca/condajupynersc/lib/python3.7/site-packages/healpy/projaxes.py:921: MatplotlibDeprecationWarning: You are modifying the state of a globally registered colormap. In future versions, you will not be able to modify a registered colormap in-place. To remove this warning, you can make a copy of the colormap first. cmap = copy.copy(mpl.cm.get_cmap(\"viridis\"))\n",
      "  newcm.set_under(bgcolor)\n",
      "/global/homes/z/zonca/condajupynersc/lib/python3.7/site-packages/healpy/projaxes.py:922: MatplotlibDeprecationWarning: You are modifying the state of a globally registered colormap. In future versions, you will not be able to modify a registered colormap in-place. To remove this warning, you can make a copy of the colormap first. cmap = copy.copy(mpl.cm.get_cmap(\"viridis\"))\n",
      "  newcm.set_bad(badcolor)\n",
      "/global/homes/z/zonca/condajupynersc/lib/python3.7/site-packages/healpy/projaxes.py:211: MatplotlibDeprecationWarning: Passing parameters norm and vmin/vmax simultaneously is deprecated since 3.3 and will become an error two minor releases later. Please pass vmin/vmax directly to the norm when creating it.\n",
      "  **kwds\n"
     ]
    },
    {
     "data": {
      "image/png": "[encoded data removed]",
      "text/plain": [
       "<Figure size 612x388.8 with 2 Axes>"
      ]
     },
     "metadata": {
      "needs_background": "light"
     },
     "output_type": "display_data"
    }
   ],
   "source": [
    "log_hitmap = np.log10(hitmap)\n",
    "log_hitmap[np.isinf(log_hitmap)] = hp.UNSEEN\n",
    "hp.mollview(log_hitmap, unit=\"log10(samples)\", title=f\"Hitmap {ch}\")\n",
    "plt.savefig(f\"plots/hitmap_{channel}_{site}_1_of_{nsplits}.png\")"
   ]
  },
  {
   "cell_type": "code",
   "execution_count": 23,
   "metadata": {
    "execution": {
     "iopub.execute_input": "2020-12-09T06:00:55.132732Z",
     "iopub.status.busy": "2020-12-09T06:00:55.132208Z",
     "iopub.status.idle": "2020-12-09T06:00:55.258162Z",
     "shell.execute_reply": "2020-12-09T06:00:55.257430Z"
    },
    "papermill": {
     "duration": 0.163745,
     "end_time": "2020-12-09T06:00:55.258350",
     "exception": false,
     "start_time": "2020-12-09T06:00:55.094605",
     "status": "completed"
    },
    "tags": []
   },
   "outputs": [],
   "source": [
    "wcov = hp.read_map(local_path / dataset / ch / f\"cmbs4_wcov_{ch}_nside{nside}_1_of_{nsplits}.fits\", (3))"
   ]
  },
  {
   "cell_type": "code",
   "execution_count": 24,
   "metadata": {
    "execution": {
     "iopub.execute_input": "2020-12-09T06:00:55.331230Z",
     "iopub.status.busy": "2020-12-09T06:00:55.330719Z",
     "iopub.status.idle": "2020-12-09T06:00:55.333690Z",
     "shell.execute_reply": "2020-12-09T06:00:55.333187Z"
    },
    "papermill": {
     "duration": 0.039954,
     "end_time": "2020-12-09T06:00:55.333801",
     "exception": false,
     "start_time": "2020-12-09T06:00:55.293847",
     "status": "completed"
    },
    "tags": []
   },
   "outputs": [
    {
     "data": {
      "text/plain": [
       "(3145728,)"
      ]
     },
     "execution_count": 24,
     "metadata": {},
     "output_type": "execute_result"
    }
   ],
   "source": [
    "wcov.shape"
   ]
  },
  {
   "cell_type": "code",
   "execution_count": 25,
   "metadata": {
    "execution": {
     "iopub.execute_input": "2020-12-09T06:00:55.403121Z",
     "iopub.status.busy": "2020-12-09T06:00:55.402627Z",
     "iopub.status.idle": "2020-12-09T06:00:55.404292Z",
     "shell.execute_reply": "2020-12-09T06:00:55.404706Z"
    },
    "papermill": {
     "duration": 0.038867,
     "end_time": "2020-12-09T06:00:55.404843",
     "exception": false,
     "start_time": "2020-12-09T06:00:55.365976",
     "status": "completed"
    },
    "tags": []
   },
   "outputs": [],
   "source": [
    "import astropy.units as u"
   ]
  },
  {
   "cell_type": "code",
   "execution_count": 26,
   "metadata": {
    "execution": {
     "iopub.execute_input": "2020-12-09T06:00:55.477863Z",
     "iopub.status.busy": "2020-12-09T06:00:55.477337Z",
     "iopub.status.idle": "2020-12-09T06:00:55.478936Z",
     "shell.execute_reply": "2020-12-09T06:00:55.479315Z"
    },
    "papermill": {
     "duration": 0.040368,
     "end_time": "2020-12-09T06:00:55.479476",
     "exception": false,
     "start_time": "2020-12-09T06:00:55.439108",
     "status": "completed"
    },
    "tags": []
   },
   "outputs": [],
   "source": [
    "channel_NET = s4[channel].attrs[\"NET_uKsqrts\"] * u.uK * u.s ** .5"
   ]
  },
  {
   "cell_type": "code",
   "execution_count": 27,
   "metadata": {
    "execution": {
     "iopub.execute_input": "2020-12-09T06:00:55.550862Z",
     "iopub.status.busy": "2020-12-09T06:00:55.550338Z",
     "iopub.status.idle": "2020-12-09T06:00:55.551932Z",
     "shell.execute_reply": "2020-12-09T06:00:55.552358Z"
    },
    "papermill": {
     "duration": 0.038456,
     "end_time": "2020-12-09T06:00:55.552506",
     "exception": false,
     "start_time": "2020-12-09T06:00:55.514050",
     "status": "completed"
    },
    "tags": []
   },
   "outputs": [],
   "source": [
    "if telescope == \"LAT\" and site==\"pole\":\n",
    "    channel_NET = s4[channel].attrs[\"pole_NET_uKsqrts\"] * u.uK * u.s ** .5"
   ]
  },
  {
   "cell_type": "code",
   "execution_count": 28,
   "metadata": {
    "execution": {
     "iopub.execute_input": "2020-12-09T06:00:55.631150Z",
     "iopub.status.busy": "2020-12-09T06:00:55.630592Z",
     "iopub.status.idle": "2020-12-09T06:00:55.686693Z",
     "shell.execute_reply": "2020-12-09T06:00:55.685991Z"
    },
    "papermill": {
     "duration": 0.09775,
     "end_time": "2020-12-09T06:00:55.686882",
     "exception": false,
     "start_time": "2020-12-09T06:00:55.589132",
     "status": "completed"
    },
    "tags": []
   },
   "outputs": [],
   "source": [
    "variance_QQ = wcov * u.K ** 2 * (hitmap / sampling_frequency[telescope]) "
   ]
  },
  {
   "cell_type": "code",
   "execution_count": 29,
   "metadata": {
    "execution": {
     "iopub.execute_input": "2020-12-09T06:00:55.760739Z",
     "iopub.status.busy": "2020-12-09T06:00:55.760219Z",
     "iopub.status.idle": "2020-12-09T06:00:55.768323Z",
     "shell.execute_reply": "2020-12-09T06:00:55.768764Z"
    },
    "papermill": {
     "duration": 0.046479,
     "end_time": "2020-12-09T06:00:55.768930",
     "exception": false,
     "start_time": "2020-12-09T06:00:55.722451",
     "status": "completed"
    },
    "tags": []
   },
   "outputs": [],
   "source": [
    "assert (variance_QQ.value == hp.UNSEEN).sum() == 0"
   ]
  },
  {
   "cell_type": "code",
   "execution_count": 30,
   "metadata": {
    "execution": {
     "iopub.execute_input": "2020-12-09T06:00:55.873782Z",
     "iopub.status.busy": "2020-12-09T06:00:55.873258Z",
     "iopub.status.idle": "2020-12-09T06:00:55.910548Z",
     "shell.execute_reply": "2020-12-09T06:00:55.911195Z"
    },
    "papermill": {
     "duration": 0.07571,
     "end_time": "2020-12-09T06:00:55.911425",
     "exception": false,
     "start_time": "2020-12-09T06:00:55.835715",
     "status": "completed"
    },
    "tags": []
   },
   "outputs": [],
   "source": [
    "full_mission_NET = np.sqrt(np.median(variance_QQ[hitmap != 0]))"
   ]
  },
  {
   "cell_type": "code",
   "execution_count": 31,
   "metadata": {
    "execution": {
     "iopub.execute_input": "2020-12-09T06:00:55.984284Z",
     "iopub.status.busy": "2020-12-09T06:00:55.983783Z",
     "iopub.status.idle": "2020-12-09T06:00:55.986845Z",
     "shell.execute_reply": "2020-12-09T06:00:55.986434Z"
    },
    "papermill": {
     "duration": 0.041817,
     "end_time": "2020-12-09T06:00:55.986952",
     "exception": false,
     "start_time": "2020-12-09T06:00:55.945135",
     "status": "completed"
    },
    "tags": []
   },
   "outputs": [
    {
     "data": {
      "text/latex": [
       "$1737.7119 \\; \\mathrm{\\mu K\\,s^{1/2}}$"
      ],
      "text/plain": [
       "<Quantity 1737.71192309 s(1/2) uK>"
      ]
     },
     "execution_count": 31,
     "metadata": {},
     "output_type": "execute_result"
    }
   ],
   "source": [
    "full_mission_NET.to(channel_NET.unit)"
   ]
  },
  {
   "cell_type": "code",
   "execution_count": 32,
   "metadata": {
    "execution": {
     "iopub.execute_input": "2020-12-09T06:00:56.058724Z",
     "iopub.status.busy": "2020-12-09T06:00:56.058229Z",
     "iopub.status.idle": "2020-12-09T06:00:56.061188Z",
     "shell.execute_reply": "2020-12-09T06:00:56.060756Z"
    },
    "papermill": {
     "duration": 0.04108,
     "end_time": "2020-12-09T06:00:56.061297",
     "exception": false,
     "start_time": "2020-12-09T06:00:56.020217",
     "status": "completed"
    },
    "tags": []
   },
   "outputs": [
    {
     "data": {
      "text/latex": [
       "$1281 \\; \\mathrm{\\mu K\\,s^{1/2}}$"
      ],
      "text/plain": [
       "<Quantity 1281. s(1/2) uK>"
      ]
     },
     "execution_count": 32,
     "metadata": {},
     "output_type": "execute_result"
    }
   ],
   "source": [
    "channel_NET"
   ]
  },
  {
   "cell_type": "code",
   "execution_count": 33,
   "metadata": {
    "execution": {
     "iopub.execute_input": "2020-12-09T06:00:56.148658Z",
     "iopub.status.busy": "2020-12-09T06:00:56.148098Z",
     "iopub.status.idle": "2020-12-09T06:00:56.150048Z",
     "shell.execute_reply": "2020-12-09T06:00:56.150487Z"
    },
    "papermill": {
     "duration": 0.054768,
     "end_time": "2020-12-09T06:00:56.150806",
     "exception": false,
     "start_time": "2020-12-09T06:00:56.096038",
     "status": "completed"
    },
    "tags": []
   },
   "outputs": [
    {
     "data": {
      "text/latex": [
       "$1228.7479 \\; \\mathrm{\\mu K\\,s^{1/2}}$"
      ],
      "text/plain": [
       "<Quantity 1228.74788457 s(1/2) uK>"
      ]
     },
     "execution_count": 33,
     "metadata": {},
     "output_type": "execute_result"
    }
   ],
   "source": [
    "(full_mission_NET/np.sqrt(2)).to(channel_NET.unit)"
   ]
  },
  {
   "cell_type": "code",
   "execution_count": 34,
   "metadata": {
    "execution": {
     "iopub.execute_input": "2020-12-09T06:00:56.269924Z",
     "iopub.status.busy": "2020-12-09T06:00:56.269028Z",
     "iopub.status.idle": "2020-12-09T06:00:56.270735Z",
     "shell.execute_reply": "2020-12-09T06:00:56.271160Z"
    },
    "papermill": {
     "duration": 0.086112,
     "end_time": "2020-12-09T06:00:56.271287",
     "exception": false,
     "start_time": "2020-12-09T06:00:56.185175",
     "status": "completed"
    },
    "tags": []
   },
   "outputs": [],
   "source": [
    "assert_quantity_allclose(full_mission_NET, channel_NET*np.sqrt(2), rtol=10/100) "
   ]
  },
  {
   "cell_type": "code",
   "execution_count": 35,
   "metadata": {
    "execution": {
     "iopub.execute_input": "2020-12-09T06:00:56.350122Z",
     "iopub.status.busy": "2020-12-09T06:00:56.349510Z",
     "iopub.status.idle": "2020-12-09T06:00:56.366395Z",
     "shell.execute_reply": "2020-12-09T06:00:56.365907Z"
    },
    "papermill": {
     "duration": 0.054402,
     "end_time": "2020-12-09T06:00:56.366501",
     "exception": false,
     "start_time": "2020-12-09T06:00:56.312099",
     "status": "completed"
    },
    "tags": []
   },
   "outputs": [],
   "source": [
    "sky_fraction = (hitmap > 0).sum() / len(hitmap)"
   ]
  },
  {
   "cell_type": "code",
   "execution_count": 36,
   "metadata": {
    "execution": {
     "iopub.execute_input": "2020-12-09T06:00:56.442152Z",
     "iopub.status.busy": "2020-12-09T06:00:56.441583Z",
     "iopub.status.idle": "2020-12-09T06:00:56.444105Z",
     "shell.execute_reply": "2020-12-09T06:00:56.444540Z"
    },
    "papermill": {
     "duration": 0.041978,
     "end_time": "2020-12-09T06:00:56.444668",
     "exception": false,
     "start_time": "2020-12-09T06:00:56.402690",
     "status": "completed"
    },
    "tags": []
   },
   "outputs": [
    {
     "data": {
      "text/plain": [
       "0.5469678243001302"
      ]
     },
     "execution_count": 36,
     "metadata": {},
     "output_type": "execute_result"
    }
   ],
   "source": [
    "sky_fraction"
   ]
  },
  {
   "cell_type": "code",
   "execution_count": 37,
   "metadata": {
    "execution": {
     "iopub.execute_input": "2020-12-09T06:00:56.520045Z",
     "iopub.status.busy": "2020-12-09T06:00:56.519480Z",
     "iopub.status.idle": "2020-12-09T06:00:56.521202Z",
     "shell.execute_reply": "2020-12-09T06:00:56.521643Z"
    },
    "papermill": {
     "duration": 0.04207,
     "end_time": "2020-12-09T06:00:56.521774",
     "exception": false,
     "start_time": "2020-12-09T06:00:56.479704",
     "status": "completed"
    },
    "tags": []
   },
   "outputs": [],
   "source": [
    "pixarea = hp.nside2pixarea(nside)"
   ]
  },
  {
   "cell_type": "code",
   "execution_count": 38,
   "metadata": {
    "execution": {
     "iopub.execute_input": "2020-12-09T06:00:56.622346Z",
     "iopub.status.busy": "2020-12-09T06:00:56.621792Z",
     "iopub.status.idle": "2020-12-09T06:00:56.644344Z",
     "shell.execute_reply": "2020-12-09T06:00:56.643738Z"
    },
    "papermill": {
     "duration": 0.075155,
     "end_time": "2020-12-09T06:00:56.644492",
     "exception": false,
     "start_time": "2020-12-09T06:00:56.569337",
     "status": "completed"
    },
    "tags": []
   },
   "outputs": [
    {
     "data": {
      "text/plain": [
       "1.5828555607222617e-14"
      ]
     },
     "execution_count": 38,
     "metadata": {},
     "output_type": "execute_result"
    }
   ],
   "source": [
    "np.mean(wcov[hitmap > 0])* pixarea"
   ]
  },
  {
   "cell_type": "code",
   "execution_count": 39,
   "metadata": {
    "execution": {
     "iopub.execute_input": "2020-12-09T06:00:56.724746Z",
     "iopub.status.busy": "2020-12-09T06:00:56.724226Z",
     "iopub.status.idle": "2020-12-09T06:00:56.733075Z",
     "shell.execute_reply": "2020-12-09T06:00:56.733469Z"
    },
    "papermill": {
     "duration": 0.049006,
     "end_time": "2020-12-09T06:00:56.733592",
     "exception": false,
     "start_time": "2020-12-09T06:00:56.684586",
     "status": "completed"
    },
    "tags": []
   },
   "outputs": [],
   "source": [
    "wcov [ wcov == hp.UNSEEN] = 0"
   ]
  },
  {
   "cell_type": "markdown",
   "metadata": {
    "papermill": {
     "duration": 0.067757,
     "end_time": "2020-12-09T06:00:56.843352",
     "exception": false,
     "start_time": "2020-12-09T06:00:56.775595",
     "status": "completed"
    },
    "tags": []
   },
   "source": [
    "## Atmosphere"
   ]
  },
  {
   "cell_type": "code",
   "execution_count": 40,
   "metadata": {
    "execution": {
     "iopub.execute_input": "2020-12-09T06:00:56.920145Z",
     "iopub.status.busy": "2020-12-09T06:00:56.919506Z",
     "iopub.status.idle": "2020-12-09T06:00:56.921393Z",
     "shell.execute_reply": "2020-12-09T06:00:56.921862Z"
    },
    "papermill": {
     "duration": 0.042094,
     "end_time": "2020-12-09T06:00:56.922011",
     "exception": false,
     "start_time": "2020-12-09T06:00:56.879917",
     "status": "completed"
    },
    "tags": []
   },
   "outputs": [],
   "source": [
    "atmosphere_filename = Path(base_folder) / \"00000000\" / f\"{site}_atmosphere_{telescope}_{channel}_filtered_telescope_all_time_all_bmap.fits\""
   ]
  },
  {
   "cell_type": "code",
   "execution_count": 41,
   "metadata": {
    "execution": {
     "iopub.execute_input": "2020-12-09T06:00:57.004182Z",
     "iopub.status.busy": "2020-12-09T06:00:57.003598Z",
     "iopub.status.idle": "2020-12-09T06:00:57.749569Z",
     "shell.execute_reply": "2020-12-09T06:00:57.749932Z"
    },
    "papermill": {
     "duration": 0.788505,
     "end_time": "2020-12-09T06:00:57.750071",
     "exception": false,
     "start_time": "2020-12-09T06:00:56.961566",
     "status": "completed"
    },
    "tags": []
   },
   "outputs": [
    {
     "name": "stderr",
     "output_type": "stream",
     "text": [
      "/global/homes/z/zonca/condajupynersc/lib/python3.7/site-packages/healpy/fitsfunc.py:400: UserWarning: ORDERING = NESTED in fits file\n",
      "  warnings.warn(\"ORDERING = {0:s} in fits file\".format(ordering))\n",
      "/global/homes/z/zonca/condajupynersc/lib/python3.7/site-packages/healpy/fitsfunc.py:486: UserWarning: Ordering converted to RING\n",
      "  warnings.warn(\"Ordering converted to RING\")\n"
     ]
    }
   ],
   "source": [
    "input_atmophere = hp.ma(hp.read_map(atmosphere_filename, (0,1,2)))"
   ]
  },
  {
   "cell_type": "code",
   "execution_count": 42,
   "metadata": {
    "execution": {
     "iopub.execute_input": "2020-12-09T06:00:57.823209Z",
     "iopub.status.busy": "2020-12-09T06:00:57.822707Z",
     "iopub.status.idle": "2020-12-09T06:00:57.856006Z",
     "shell.execute_reply": "2020-12-09T06:00:57.856592Z"
    },
    "papermill": {
     "duration": 0.073217,
     "end_time": "2020-12-09T06:00:57.856786",
     "exception": false,
     "start_time": "2020-12-09T06:00:57.783569",
     "status": "completed"
    },
    "tags": []
   },
   "outputs": [],
   "source": [
    "sqrt_hitmap = hitmap.copy()\n",
    "sqrt_hitmap[hitmap>0] = np.sqrt(hitmap[hitmap>0])"
   ]
  },
  {
   "cell_type": "code",
   "execution_count": 43,
   "metadata": {
    "execution": {
     "iopub.execute_input": "2020-12-09T06:00:57.935719Z",
     "iopub.status.busy": "2020-12-09T06:00:57.935215Z",
     "iopub.status.idle": "2020-12-09T06:01:00.331029Z",
     "shell.execute_reply": "2020-12-09T06:01:00.331734Z"
    },
    "papermill": {
     "duration": 2.434662,
     "end_time": "2020-12-09T06:01:00.331962",
     "exception": false,
     "start_time": "2020-12-09T06:00:57.897300",
     "status": "completed"
    },
    "tags": []
   },
   "outputs": [],
   "source": [
    "atmo_cl = \\\n",
    "hp.anafast(input_atmophere * sqrt_hitmap, use_pixel_weights=True) / np.mean(hitmap) # / sky_fraction"
   ]
  },
  {
   "cell_type": "code",
   "execution_count": 44,
   "metadata": {
    "execution": {
     "iopub.execute_input": "2020-12-09T06:01:00.409314Z",
     "iopub.status.busy": "2020-12-09T06:01:00.408776Z",
     "iopub.status.idle": "2020-12-09T06:01:00.411004Z",
     "shell.execute_reply": "2020-12-09T06:01:00.410593Z"
    },
    "papermill": {
     "duration": 0.042316,
     "end_time": "2020-12-09T06:01:00.411115",
     "exception": false,
     "start_time": "2020-12-09T06:01:00.368799",
     "status": "completed"
    },
    "tags": []
   },
   "outputs": [],
   "source": [
    "from s4_design_sim_tool.atmosphere import get_telecope_years"
   ]
  },
  {
   "cell_type": "code",
   "execution_count": 45,
   "metadata": {
    "execution": {
     "iopub.execute_input": "2020-12-09T06:01:00.491221Z",
     "iopub.status.busy": "2020-12-09T06:01:00.490692Z",
     "iopub.status.idle": "2020-12-09T06:01:00.492522Z",
     "shell.execute_reply": "2020-12-09T06:01:00.492932Z"
    },
    "papermill": {
     "duration": 0.043432,
     "end_time": "2020-12-09T06:01:00.493066",
     "exception": false,
     "start_time": "2020-12-09T06:01:00.449634",
     "status": "completed"
    },
    "tags": []
   },
   "outputs": [],
   "source": [
    "telescope_years = get_telecope_years(config, site, channel)"
   ]
  },
  {
   "cell_type": "code",
   "execution_count": 46,
   "metadata": {
    "execution": {
     "iopub.execute_input": "2020-12-09T06:01:00.568057Z",
     "iopub.status.busy": "2020-12-09T06:01:00.567454Z",
     "iopub.status.idle": "2020-12-09T06:01:00.570313Z",
     "shell.execute_reply": "2020-12-09T06:01:00.569884Z"
    },
    "papermill": {
     "duration": 0.041382,
     "end_time": "2020-12-09T06:01:00.570431",
     "exception": false,
     "start_time": "2020-12-09T06:01:00.529049",
     "status": "completed"
    },
    "tags": []
   },
   "outputs": [
    {
     "data": {
      "text/plain": [
       "7"
      ]
     },
     "execution_count": 46,
     "metadata": {},
     "output_type": "execute_result"
    }
   ],
   "source": [
    "telescope_years"
   ]
  },
  {
   "cell_type": "code",
   "execution_count": 47,
   "metadata": {
    "execution": {
     "iopub.execute_input": "2020-12-09T06:01:00.649704Z",
     "iopub.status.busy": "2020-12-09T06:01:00.649201Z",
     "iopub.status.idle": "2020-12-09T06:01:00.650990Z",
     "shell.execute_reply": "2020-12-09T06:01:00.651386Z"
    },
    "papermill": {
     "duration": 0.043851,
     "end_time": "2020-12-09T06:01:00.651520",
     "exception": false,
     "start_time": "2020-12-09T06:01:00.607669",
     "status": "completed"
    },
    "tags": []
   },
   "outputs": [],
   "source": [
    "from s4_design_sim_tool.core import simulations_observing_efficiency"
   ]
  },
  {
   "cell_type": "code",
   "execution_count": 48,
   "metadata": {
    "execution": {
     "iopub.execute_input": "2020-12-09T06:01:00.728623Z",
     "iopub.status.busy": "2020-12-09T06:01:00.728174Z",
     "iopub.status.idle": "2020-12-09T06:01:00.731693Z",
     "shell.execute_reply": "2020-12-09T06:01:00.731276Z"
    },
    "papermill": {
     "duration": 0.042453,
     "end_time": "2020-12-09T06:01:00.731798",
     "exception": false,
     "start_time": "2020-12-09T06:01:00.689345",
     "status": "completed"
    },
    "tags": []
   },
   "outputs": [
    {
     "data": {
      "text/plain": [
       "{'pole': {'SAT': 0.3931149305555555, 'LAT': 0.321544537037037},\n",
       " 'chile': {'SAT': 0.8656164351851852, 'LAT': 0.917306712962963}}"
      ]
     },
     "execution_count": 48,
     "metadata": {},
     "output_type": "execute_result"
    }
   ],
   "source": [
    "simulations_observing_efficiency"
   ]
  },
  {
   "cell_type": "code",
   "execution_count": 49,
   "metadata": {
    "execution": {
     "iopub.execute_input": "2020-12-09T06:01:00.807388Z",
     "iopub.status.busy": "2020-12-09T06:01:00.806897Z",
     "iopub.status.idle": "2020-12-09T06:01:00.808809Z",
     "shell.execute_reply": "2020-12-09T06:01:00.809179Z"
    },
    "papermill": {
     "duration": 0.042036,
     "end_time": "2020-12-09T06:01:00.809306",
     "exception": false,
     "start_time": "2020-12-09T06:01:00.767270",
     "status": "completed"
    },
    "tags": []
   },
   "outputs": [],
   "source": [
    "atmo_cl *= 10 / 365.25\n",
    "atmo_cl *= simulations_observing_efficiency[site.lower()].get(telescope, 1) / config[\"experiment\"][\"observing_efficiency\"]                                                                    \n",
    "atmo_cl /= telescope_years"
   ]
  },
  {
   "cell_type": "markdown",
   "metadata": {
    "papermill": {
     "duration": 0.036727,
     "end_time": "2020-12-09T06:01:00.881720",
     "exception": false,
     "start_time": "2020-12-09T06:01:00.844993",
     "status": "completed"
    },
    "tags": []
   },
   "source": [
    "## Noise"
   ]
  },
  {
   "cell_type": "code",
   "execution_count": 50,
   "metadata": {
    "execution": {
     "iopub.execute_input": "2020-12-09T06:01:00.962654Z",
     "iopub.status.busy": "2020-12-09T06:01:00.962162Z",
     "iopub.status.idle": "2020-12-09T06:01:00.964561Z",
     "shell.execute_reply": "2020-12-09T06:01:00.964113Z"
    },
    "papermill": {
     "duration": 0.044113,
     "end_time": "2020-12-09T06:01:00.964671",
     "exception": false,
     "start_time": "2020-12-09T06:01:00.920558",
     "status": "completed"
    },
    "tags": []
   },
   "outputs": [],
   "source": [
    "noise_filename = Path(base_folder) / \"00000000\" / f\"{site}_noise_{telescope}_{channel}_filtered_telescope_all_time_all_bmap.fits\""
   ]
  },
  {
   "cell_type": "code",
   "execution_count": 51,
   "metadata": {
    "execution": {
     "iopub.execute_input": "2020-12-09T06:01:01.044240Z",
     "iopub.status.busy": "2020-12-09T06:01:01.043713Z",
     "iopub.status.idle": "2020-12-09T06:01:01.045403Z",
     "shell.execute_reply": "2020-12-09T06:01:01.045809Z"
    },
    "papermill": {
     "duration": 0.042442,
     "end_time": "2020-12-09T06:01:01.045937",
     "exception": false,
     "start_time": "2020-12-09T06:01:01.003495",
     "status": "completed"
    },
    "tags": []
   },
   "outputs": [],
   "source": [
    "#input_noise = hp.ma(hp.read_map(noise_filename, (0,1,2)))"
   ]
  },
  {
   "cell_type": "code",
   "execution_count": 52,
   "metadata": {
    "execution": {
     "iopub.execute_input": "2020-12-09T06:01:01.128279Z",
     "iopub.status.busy": "2020-12-09T06:01:01.127750Z",
     "iopub.status.idle": "2020-12-09T06:01:01.129616Z",
     "shell.execute_reply": "2020-12-09T06:01:01.130066Z"
    },
    "papermill": {
     "duration": 0.044719,
     "end_time": "2020-12-09T06:01:01.130212",
     "exception": false,
     "start_time": "2020-12-09T06:01:01.085493",
     "status": "completed"
    },
    "tags": []
   },
   "outputs": [],
   "source": [
    "#noise_cl = hp.anafast(input_noise * sqrt_hitmap, use_pixel_weights=True) / np.mean(hitmap) / sky_fraction"
   ]
  },
  {
   "cell_type": "code",
   "execution_count": 53,
   "metadata": {
    "execution": {
     "iopub.execute_input": "2020-12-09T06:01:01.216823Z",
     "iopub.status.busy": "2020-12-09T06:01:01.216271Z",
     "iopub.status.idle": "2020-12-09T06:01:01.218518Z",
     "shell.execute_reply": "2020-12-09T06:01:01.218963Z"
    },
    "papermill": {
     "duration": 0.049828,
     "end_time": "2020-12-09T06:01:01.219102",
     "exception": false,
     "start_time": "2020-12-09T06:01:01.169274",
     "status": "completed"
    },
    "tags": []
   },
   "outputs": [],
   "source": [
    "del sqrt_hitmap"
   ]
  },
  {
   "cell_type": "code",
   "execution_count": 54,
   "metadata": {
    "execution": {
     "iopub.execute_input": "2020-12-09T06:01:01.303995Z",
     "iopub.status.busy": "2020-12-09T06:01:01.303387Z",
     "iopub.status.idle": "2020-12-09T06:01:01.305362Z",
     "shell.execute_reply": "2020-12-09T06:01:01.305790Z"
    },
    "papermill": {
     "duration": 0.045565,
     "end_time": "2020-12-09T06:01:01.305965",
     "exception": false,
     "start_time": "2020-12-09T06:01:01.260400",
     "status": "completed"
    },
    "tags": []
   },
   "outputs": [],
   "source": [
    "from s4_design_sim_tool.noise import get_thinfp\n",
    "thinfp = get_thinfp(channel)"
   ]
  },
  {
   "cell_type": "code",
   "execution_count": 55,
   "metadata": {
    "execution": {
     "iopub.execute_input": "2020-12-09T06:01:01.395291Z",
     "iopub.status.busy": "2020-12-09T06:01:01.394697Z",
     "iopub.status.idle": "2020-12-09T06:01:01.397424Z",
     "shell.execute_reply": "2020-12-09T06:01:01.397856Z"
    },
    "papermill": {
     "duration": 0.050823,
     "end_time": "2020-12-09T06:01:01.398003",
     "exception": false,
     "start_time": "2020-12-09T06:01:01.347180",
     "status": "completed"
    },
    "tags": []
   },
   "outputs": [
    {
     "data": {
      "text/html": [
       "&lt;Column name=&apos;thinfp&apos; dtype=&apos;int64&apos; length=1&gt;\n",
       "<table>\n",
       "<tr><td>8</td></tr>\n",
       "</table>"
      ],
      "text/plain": [
       "<Column name='thinfp' dtype='int64' length=1>\n",
       "8"
      ]
     },
     "execution_count": 55,
     "metadata": {},
     "output_type": "execute_result"
    }
   ],
   "source": [
    "thinfp"
   ]
  },
  {
   "cell_type": "code",
   "execution_count": 56,
   "metadata": {
    "execution": {
     "iopub.execute_input": "2020-12-09T06:01:01.491429Z",
     "iopub.status.busy": "2020-12-09T06:01:01.490839Z",
     "iopub.status.idle": "2020-12-09T06:01:01.492795Z",
     "shell.execute_reply": "2020-12-09T06:01:01.493219Z"
    },
    "papermill": {
     "duration": 0.050648,
     "end_time": "2020-12-09T06:01:01.493371",
     "exception": false,
     "start_time": "2020-12-09T06:01:01.442723",
     "status": "completed"
    },
    "tags": []
   },
   "outputs": [],
   "source": [
    "#noise_cl *= 10 / 365.25\n",
    "#noise_cl *= simulations_observing_efficiency[site.lower()].get(telescope, 1) / config[\"experiment\"][\"observing_efficiency\"]                                                                    \n",
    "#noise_cl /= tube_years\n",
    "#noise_cl /= thinfp"
   ]
  },
  {
   "cell_type": "code",
   "execution_count": 57,
   "metadata": {
    "execution": {
     "iopub.execute_input": "2020-12-09T06:01:01.584951Z",
     "iopub.status.busy": "2020-12-09T06:01:01.584377Z",
     "iopub.status.idle": "2020-12-09T06:01:01.597649Z",
     "shell.execute_reply": "2020-12-09T06:01:01.597144Z"
    },
    "papermill": {
     "duration": 0.061033,
     "end_time": "2020-12-09T06:01:01.597778",
     "exception": false,
     "start_time": "2020-12-09T06:01:01.536745",
     "status": "completed"
    },
    "tags": []
   },
   "outputs": [],
   "source": [
    "white_noise_Cl = channel_NET**2 \\\n",
    "/ (hitmap.sum() / sampling_frequency[telescope] / (hitmap>0).sum()) * pixarea # / sky_fraction"
   ]
  },
  {
   "cell_type": "code",
   "execution_count": 58,
   "metadata": {
    "execution": {
     "iopub.execute_input": "2020-12-09T06:01:01.695097Z",
     "iopub.status.busy": "2020-12-09T06:01:01.694552Z",
     "iopub.status.idle": "2020-12-09T06:01:01.697607Z",
     "shell.execute_reply": "2020-12-09T06:01:01.698042Z"
    },
    "papermill": {
     "duration": 0.054922,
     "end_time": "2020-12-09T06:01:01.698191",
     "exception": false,
     "start_time": "2020-12-09T06:01:01.643269",
     "status": "completed"
    },
    "tags": []
   },
   "outputs": [
    {
     "data": {
      "text/latex": [
       "$1.0380151 \\times 10^{-16} \\; \\mathrm{K^{2}}$"
      ],
      "text/plain": [
       "<Quantity 1.03801514e-16 K2>"
      ]
     },
     "execution_count": 58,
     "metadata": {},
     "output_type": "execute_result"
    }
   ],
   "source": [
    "white_noise_Cl.decompose()"
   ]
  },
  {
   "cell_type": "code",
   "execution_count": 59,
   "metadata": {
    "execution": {
     "iopub.execute_input": "2020-12-09T06:01:01.780431Z",
     "iopub.status.busy": "2020-12-09T06:01:01.779945Z",
     "iopub.status.idle": "2020-12-09T06:01:02.245161Z",
     "shell.execute_reply": "2020-12-09T06:01:02.245795Z"
    },
    "papermill": {
     "duration": 0.508786,
     "end_time": "2020-12-09T06:01:02.245991",
     "exception": false,
     "start_time": "2020-12-09T06:01:01.737205",
     "status": "completed"
    },
    "tags": []
   },
   "outputs": [],
   "source": [
    "import seaborn as sns"
   ]
  },
  {
   "cell_type": "code",
   "execution_count": 60,
   "metadata": {
    "execution": {
     "iopub.execute_input": "2020-12-09T06:01:02.336732Z",
     "iopub.status.busy": "2020-12-09T06:01:02.336253Z",
     "iopub.status.idle": "2020-12-09T06:01:02.338328Z",
     "shell.execute_reply": "2020-12-09T06:01:02.338703Z"
    },
    "papermill": {
     "duration": 0.047615,
     "end_time": "2020-12-09T06:01:02.338845",
     "exception": false,
     "start_time": "2020-12-09T06:01:02.291230",
     "status": "completed"
    },
    "tags": []
   },
   "outputs": [],
   "source": [
    "sns.set_style(\"whitegrid\")"
   ]
  },
  {
   "cell_type": "code",
   "execution_count": 61,
   "metadata": {
    "execution": {
     "iopub.execute_input": "2020-12-09T06:01:02.425800Z",
     "iopub.status.busy": "2020-12-09T06:01:02.424648Z",
     "iopub.status.idle": "2020-12-09T06:01:04.869936Z",
     "shell.execute_reply": "2020-12-09T06:01:04.870391Z"
    },
    "papermill": {
     "duration": 2.492848,
     "end_time": "2020-12-09T06:01:04.870548",
     "exception": false,
     "start_time": "2020-12-09T06:01:02.377700",
     "status": "completed"
    },
    "tags": []
   },
   "outputs": [
    {
     "data": {
      "image/png": "[encoded data removed]",
      "text/plain": [
       "<Figure size 576x360 with 1 Axes>"
      ]
     },
     "metadata": {},
     "output_type": "display_data"
    }
   ],
   "source": [
    "plt.figure(figsize=(8,5))\n",
    "\n",
    "pols = [\"TT\", \"EE\", \"BB\"]\n",
    "\n",
    "for i, pol in enumerate(pols):\n",
    "    for split in range(1, nsplits+1):\n",
    "        plt.loglog(C_ell[ch][split][i], alpha=.8, label=pol)\n",
    "\n",
    "for i, pol in enumerate(pols):\n",
    "    plt.loglog(atmo_cl[i]*nsplits, alpha=.8, ls=\"--\", label=f\"atmo {pol}\")\n",
    "\n",
    "#for i, pol in enumerate(pols):\n",
    "#    plt.loglog(noise_cl[i], alpha=.8, ls=\"-.\", label=f\"noise {pol}\")\n",
    "\n",
    "plt.axhline(white_noise_Cl.to_value(u.K**2), ls=\":\",\n",
    "           label=\"white noise T\", color=\"black\")\n",
    "plt.axhline(white_noise_Cl.to_value(u.K**2)*2, ls=\":\",\n",
    "           label=\"white noise P\", color=\"grey\")\n",
    "plt.legend()\n",
    "plt.title(f\"Noise + Atmosphere simulations spectra for {ch}\")\n",
    "plt.ylabel(\"$C_\\ell [K^2]$\")\n",
    "plt.xlabel(\"$\\ell$\")\n",
    "plt.xlim((10, 3*nside))\n",
    "plt.grid(True)\n",
    "plt.savefig(f\"plots/C_ell_{dataset}_{ch}_{nsplits}.png\");"
   ]
  },
  {
   "cell_type": "code",
   "execution_count": null,
   "metadata": {
    "papermill": {
     "duration": 0.040845,
     "end_time": "2020-12-09T06:01:04.952472",
     "exception": false,
     "start_time": "2020-12-09T06:01:04.911627",
     "status": "completed"
    },
    "tags": []
   },
   "outputs": [],
   "source": []
  }
 ],
 "metadata": {
  "kernelspec": {
   "display_name": "condajupynersc",
   "language": "python",
   "name": "condajupynersc"
  },
  "language_info": {
   "codemirror_mode": {
    "name": "ipython",
    "version": 3
   },
   "file_extension": ".py",
   "mimetype": "text/x-python",
   "name": "python",
   "nbconvert_exporter": "python",
   "pygments_lexer": "ipython3",
   "version": "3.7.0"
  },
  "papermill": {
   "duration": 16.435497,
   "end_time": "2020-12-09T06:01:06.488052",
   "environment_variables": {},
   "exception": null,
   "input_path": "validation_atmo_noise_dec_2020.ipynb",
   "output_path": "validation_notebooks/SAT-HFS2_chile_7.ipynb",
   "parameters": {
    "ch": "SAT-HFS2_chile",
    "nsplits": 7
   },
   "start_time": "2020-12-09T06:00:50.052555",
   "version": "2.1.2"
  }
 },
 "nbformat": 4,
 "nbformat_minor": 4
}