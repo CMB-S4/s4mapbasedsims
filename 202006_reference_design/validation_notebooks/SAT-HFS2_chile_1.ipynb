{
 "cells": [
  {
   "cell_type": "code",
   "execution_count": 1,
   "metadata": {
    "execution": {
     "iopub.execute_input": "2020-12-09T05:33:44.961857Z",
     "iopub.status.busy": "2020-12-09T05:33:44.961213Z",
     "iopub.status.idle": "2020-12-09T05:33:46.675061Z",
     "shell.execute_reply": "2020-12-09T05:33:46.674459Z"
    },
    "papermill": {
     "duration": 1.753875,
     "end_time": "2020-12-09T05:33:46.675218",
     "exception": false,
     "start_time": "2020-12-09T05:33:44.921343",
     "status": "completed"
    },
    "tags": []
   },
   "outputs": [],
   "source": [
    "import healpy as hp\n",
    "import numpy as np\n",
    "%matplotlib inline\n",
    "import matplotlib.pyplot as plt\n",
    "from pathlib import Path\n",
    "from astropy.tests.helper import assert_quantity_allclose\n",
    "import pickle\n",
    "import sys\n",
    "import os\n",
    "from astropy import units as u"
   ]
  },
  {
   "cell_type": "code",
   "execution_count": 2,
   "metadata": {
    "execution": {
     "iopub.execute_input": "2020-12-09T05:33:46.750213Z",
     "iopub.status.busy": "2020-12-09T05:33:46.749656Z",
     "iopub.status.idle": "2020-12-09T05:33:46.818362Z",
     "shell.execute_reply": "2020-12-09T05:33:46.820876Z"
    },
    "papermill": {
     "duration": 0.110444,
     "end_time": "2020-12-09T05:33:46.821519",
     "exception": false,
     "start_time": "2020-12-09T05:33:46.711075",
     "status": "completed"
    },
    "tags": []
   },
   "outputs": [],
   "source": [
    "import h5py\n",
    "s4 = h5py.File(\"cmbs4_tophat.h5\", mode=\"r\")"
   ]
  },
  {
   "cell_type": "code",
   "execution_count": 3,
   "metadata": {
    "execution": {
     "iopub.execute_input": "2020-12-09T05:33:46.890370Z",
     "iopub.status.busy": "2020-12-09T05:33:46.889483Z",
     "iopub.status.idle": "2020-12-09T05:33:46.891084Z",
     "shell.execute_reply": "2020-12-09T05:33:46.891578Z"
    },
    "papermill": {
     "duration": 0.036478,
     "end_time": "2020-12-09T05:33:46.891735",
     "exception": false,
     "start_time": "2020-12-09T05:33:46.855257",
     "status": "completed"
    },
    "tags": []
   },
   "outputs": [],
   "source": [
    "dataset = \"s4_reference_design_noise_atmo_7splits\""
   ]
  },
  {
   "cell_type": "code",
   "execution_count": 4,
   "metadata": {
    "execution": {
     "iopub.execute_input": "2020-12-09T05:33:46.963672Z",
     "iopub.status.busy": "2020-12-09T05:33:46.963111Z",
     "iopub.status.idle": "2020-12-09T05:33:46.965578Z",
     "shell.execute_reply": "2020-12-09T05:33:46.965128Z"
    },
    "papermill": {
     "duration": 0.038276,
     "end_time": "2020-12-09T05:33:46.965689",
     "exception": false,
     "start_time": "2020-12-09T05:33:46.927413",
     "status": "completed"
    },
    "tags": [
     "parameters"
    ]
   },
   "outputs": [],
   "source": [
    "ch = f\"SAT-HFS1_chile\"\n",
    "nsplits = 1"
   ]
  },
  {
   "cell_type": "code",
   "execution_count": 5,
   "metadata": {
    "execution": {
     "iopub.execute_input": "2020-12-09T05:33:47.037037Z",
     "iopub.status.busy": "2020-12-09T05:33:47.036477Z",
     "iopub.status.idle": "2020-12-09T05:33:47.038490Z",
     "shell.execute_reply": "2020-12-09T05:33:47.038899Z"
    },
    "papermill": {
     "duration": 0.042448,
     "end_time": "2020-12-09T05:33:47.039041",
     "exception": false,
     "start_time": "2020-12-09T05:33:46.996593",
     "status": "completed"
    },
    "tags": [
     "injected-parameters"
    ]
   },
   "outputs": [],
   "source": [
    "# Parameters\n",
    "ch = \"SAT-HFS2_chile\"\n",
    "nsplits = 1\n"
   ]
  },
  {
   "cell_type": "code",
   "execution_count": 6,
   "metadata": {
    "execution": {
     "iopub.execute_input": "2020-12-09T05:33:47.111942Z",
     "iopub.status.busy": "2020-12-09T05:33:47.110969Z",
     "iopub.status.idle": "2020-12-09T05:33:47.114085Z",
     "shell.execute_reply": "2020-12-09T05:33:47.113241Z"
    },
    "papermill": {
     "duration": 0.040853,
     "end_time": "2020-12-09T05:33:47.114256",
     "exception": false,
     "start_time": "2020-12-09T05:33:47.073403",
     "status": "completed"
    },
    "tags": []
   },
   "outputs": [],
   "source": [
    "if os.path.exists(f\"plots/C_ell_{dataset}_{ch}_{nsplits}.png\"):\n",
    "    sys.exit(0)"
   ]
  },
  {
   "cell_type": "code",
   "execution_count": 7,
   "metadata": {
    "execution": {
     "iopub.execute_input": "2020-12-09T05:33:47.183496Z",
     "iopub.status.busy": "2020-12-09T05:33:47.182937Z",
     "iopub.status.idle": "2020-12-09T05:33:47.185179Z",
     "shell.execute_reply": "2020-12-09T05:33:47.185602Z"
    },
    "papermill": {
     "duration": 0.04127,
     "end_time": "2020-12-09T05:33:47.185750",
     "exception": false,
     "start_time": "2020-12-09T05:33:47.144480",
     "status": "completed"
    },
    "tags": []
   },
   "outputs": [],
   "source": [
    "sampling_frequency = dict(SAT=100*u.Hz, LAT=400*u.Hz)"
   ]
  },
  {
   "cell_type": "code",
   "execution_count": 8,
   "metadata": {
    "execution": {
     "iopub.execute_input": "2020-12-09T05:33:47.248292Z",
     "iopub.status.busy": "2020-12-09T05:33:47.247747Z",
     "iopub.status.idle": "2020-12-09T05:33:47.249923Z",
     "shell.execute_reply": "2020-12-09T05:33:47.249484Z"
    },
    "papermill": {
     "duration": 0.034867,
     "end_time": "2020-12-09T05:33:47.250032",
     "exception": false,
     "start_time": "2020-12-09T05:33:47.215165",
     "status": "completed"
    },
    "tags": []
   },
   "outputs": [],
   "source": [
    "#telescope = \"SAT\"\n",
    "#channel = \"LFS1\"\n",
    "#site = \"pole\""
   ]
  },
  {
   "cell_type": "code",
   "execution_count": 9,
   "metadata": {
    "execution": {
     "iopub.execute_input": "2020-12-09T05:33:47.313868Z",
     "iopub.status.busy": "2020-12-09T05:33:47.313327Z",
     "iopub.status.idle": "2020-12-09T05:33:47.315635Z",
     "shell.execute_reply": "2020-12-09T05:33:47.316080Z"
    },
    "papermill": {
     "duration": 0.03633,
     "end_time": "2020-12-09T05:33:47.316214",
     "exception": false,
     "start_time": "2020-12-09T05:33:47.279884",
     "status": "completed"
    },
    "tags": []
   },
   "outputs": [],
   "source": [
    "telescope = ch.split(\"-\")[0]\n",
    "channel, site= ch.split(\"-\")[1].split(\"_\")"
   ]
  },
  {
   "cell_type": "code",
   "execution_count": 10,
   "metadata": {
    "execution": {
     "iopub.execute_input": "2020-12-09T05:33:47.380692Z",
     "iopub.status.busy": "2020-12-09T05:33:47.379911Z",
     "iopub.status.idle": "2020-12-09T05:33:47.382020Z",
     "shell.execute_reply": "2020-12-09T05:33:47.382499Z"
    },
    "papermill": {
     "duration": 0.036513,
     "end_time": "2020-12-09T05:33:47.382652",
     "exception": false,
     "start_time": "2020-12-09T05:33:47.346139",
     "status": "completed"
    },
    "tags": []
   },
   "outputs": [],
   "source": [
    "local_path = Path(\"output\")\n",
    "project_path = Path(\"/global/project/projectdirs/cmbs4/dm/dstool/output/\")"
   ]
  },
  {
   "cell_type": "code",
   "execution_count": 11,
   "metadata": {
    "execution": {
     "iopub.execute_input": "2020-12-09T05:33:47.445554Z",
     "iopub.status.busy": "2020-12-09T05:33:47.444970Z",
     "iopub.status.idle": "2020-12-09T05:33:47.494347Z",
     "shell.execute_reply": "2020-12-09T05:33:47.495252Z"
    },
    "papermill": {
     "duration": 0.083157,
     "end_time": "2020-12-09T05:33:47.495504",
     "exception": false,
     "start_time": "2020-12-09T05:33:47.412347",
     "status": "completed"
    },
    "tags": []
   },
   "outputs": [],
   "source": [
    "C_ell = pickle.load(open(local_path / dataset / f\"C_ell_{telescope}_{nsplits}.pkl\", \"rb\"))"
   ]
  },
  {
   "cell_type": "code",
   "execution_count": 12,
   "metadata": {
    "execution": {
     "iopub.execute_input": "2020-12-09T05:33:47.591585Z",
     "iopub.status.busy": "2020-12-09T05:33:47.590375Z",
     "iopub.status.idle": "2020-12-09T05:33:47.595738Z",
     "shell.execute_reply": "2020-12-09T05:33:47.596828Z"
    },
    "papermill": {
     "duration": 0.045115,
     "end_time": "2020-12-09T05:33:47.597177",
     "exception": false,
     "start_time": "2020-12-09T05:33:47.552062",
     "status": "completed"
    },
    "tags": []
   },
   "outputs": [
    {
     "data": {
      "text/plain": [
       "('SAT', 'HFS2', 'chile')"
      ]
     },
     "execution_count": 12,
     "metadata": {},
     "output_type": "execute_result"
    }
   ],
   "source": [
    "telescope, channel, site"
   ]
  },
  {
   "cell_type": "code",
   "execution_count": 13,
   "metadata": {
    "execution": {
     "iopub.execute_input": "2020-12-09T05:33:47.690742Z",
     "iopub.status.busy": "2020-12-09T05:33:47.689335Z",
     "iopub.status.idle": "2020-12-09T05:33:47.695317Z",
     "shell.execute_reply": "2020-12-09T05:33:47.694143Z"
    },
    "papermill": {
     "duration": 0.042344,
     "end_time": "2020-12-09T05:33:47.695587",
     "exception": false,
     "start_time": "2020-12-09T05:33:47.653243",
     "status": "completed"
    },
    "tags": []
   },
   "outputs": [
    {
     "data": {
      "text/plain": [
       "dict_keys(['SAT-HFS1_chile', 'SAT-HFS2_chile', 'SAT-LFS1_chile', 'SAT-LFS2_chile', 'SAT-MFHS1_chile', 'SAT-MFHS2_chile', 'SAT-MFLS1_chile', 'SAT-MFLS2_chile'])"
      ]
     },
     "execution_count": 13,
     "metadata": {},
     "output_type": "execute_result"
    }
   ],
   "source": [
    "C_ell.keys()"
   ]
  },
  {
   "cell_type": "code",
   "execution_count": 14,
   "metadata": {
    "execution": {
     "iopub.execute_input": "2020-12-09T05:33:47.788109Z",
     "iopub.status.busy": "2020-12-09T05:33:47.786729Z",
     "iopub.status.idle": "2020-12-09T05:33:47.789539Z",
     "shell.execute_reply": "2020-12-09T05:33:47.790575Z"
    },
    "papermill": {
     "duration": 0.0385,
     "end_time": "2020-12-09T05:33:47.790910",
     "exception": false,
     "start_time": "2020-12-09T05:33:47.752410",
     "status": "completed"
    },
    "tags": []
   },
   "outputs": [],
   "source": [
    "nside = 4096 if telescope == \"LAT\" else 512"
   ]
  },
  {
   "cell_type": "code",
   "execution_count": 15,
   "metadata": {
    "execution": {
     "iopub.execute_input": "2020-12-09T05:33:47.887125Z",
     "iopub.status.busy": "2020-12-09T05:33:47.885628Z",
     "iopub.status.idle": "2020-12-09T05:33:47.904309Z",
     "shell.execute_reply": "2020-12-09T05:33:47.905415Z"
    },
    "papermill": {
     "duration": 0.054236,
     "end_time": "2020-12-09T05:33:47.905768",
     "exception": false,
     "start_time": "2020-12-09T05:33:47.851532",
     "status": "completed"
    },
    "tags": []
   },
   "outputs": [],
   "source": [
    "from s4_design_sim_tool.core import base_folder"
   ]
  },
  {
   "cell_type": "code",
   "execution_count": 16,
   "metadata": {
    "execution": {
     "iopub.execute_input": "2020-12-09T05:33:47.998639Z",
     "iopub.status.busy": "2020-12-09T05:33:47.997542Z",
     "iopub.status.idle": "2020-12-09T05:33:48.101968Z",
     "shell.execute_reply": "2020-12-09T05:33:48.102862Z"
    },
    "papermill": {
     "duration": 0.146897,
     "end_time": "2020-12-09T05:33:48.103116",
     "exception": false,
     "start_time": "2020-12-09T05:33:47.956219",
     "status": "completed"
    },
    "tags": []
   },
   "outputs": [],
   "source": [
    "from s4_design_sim_tool.cli import parse_config\n",
    "if site == \"chile\" and telescope == \"SAT\":\n",
    "    config = parse_config(f\"{dataset}.toml\", \"chile_sat.toml\")\n",
    "else:\n",
    "    config = parse_config(f\"{dataset}.toml\")"
   ]
  },
  {
   "cell_type": "code",
   "execution_count": 17,
   "metadata": {
    "execution": {
     "iopub.execute_input": "2020-12-09T05:33:48.195516Z",
     "iopub.status.busy": "2020-12-09T05:33:48.194914Z",
     "iopub.status.idle": "2020-12-09T05:33:48.380051Z",
     "shell.execute_reply": "2020-12-09T05:33:48.379597Z"
    },
    "papermill": {
     "duration": 0.220645,
     "end_time": "2020-12-09T05:33:48.380169",
     "exception": false,
     "start_time": "2020-12-09T05:33:48.159524",
     "status": "completed"
    },
    "tags": []
   },
   "outputs": [
    {
     "name": "stderr",
     "output_type": "stream",
     "text": [
      "/global/homes/z/zonca/condajupynersc/lib/python3.7/site-packages/healpy/fitsfunc.py:369: UserWarning: If you are not specifying the input dtype and using the default np.float64 dtype of read_map(), please consider that it will change in a future version to None as to keep the same dtype of the input file: please explicitly set the dtype if it is important to you.\n",
      "  \"If you are not specifying the input dtype and using the default \"\n",
      "/global/homes/z/zonca/condajupynersc/lib/python3.7/site-packages/healpy/fitsfunc.py:391: UserWarning: NSIDE = 512\n",
      "  warnings.warn(\"NSIDE = {0:d}\".format(nside))\n",
      "/global/homes/z/zonca/condajupynersc/lib/python3.7/site-packages/healpy/fitsfunc.py:400: UserWarning: ORDERING = RING in fits file\n",
      "  warnings.warn(\"ORDERING = {0:s} in fits file\".format(ordering))\n",
      "/global/homes/z/zonca/condajupynersc/lib/python3.7/site-packages/healpy/fitsfunc.py:428: UserWarning: INDXSCHM = IMPLICIT\n",
      "  warnings.warn(\"INDXSCHM = {0:s}\".format(schm))\n"
     ]
    }
   ],
   "source": [
    "hitmap = hp.read_map(local_path / dataset / ch / f\"cmbs4_hitmap_{ch}_nside{nside}_1_of_{nsplits}.fits\")"
   ]
  },
  {
   "cell_type": "code",
   "execution_count": 18,
   "metadata": {
    "execution": {
     "iopub.execute_input": "2020-12-09T05:33:48.455206Z",
     "iopub.status.busy": "2020-12-09T05:33:48.454644Z",
     "iopub.status.idle": "2020-12-09T05:33:48.457298Z",
     "shell.execute_reply": "2020-12-09T05:33:48.457777Z"
    },
    "papermill": {
     "duration": 0.04248,
     "end_time": "2020-12-09T05:33:48.457918",
     "exception": false,
     "start_time": "2020-12-09T05:33:48.415438",
     "status": "completed"
    },
    "tags": []
   },
   "outputs": [
    {
     "data": {
      "text/plain": [
       "'HFS2'"
      ]
     },
     "execution_count": 18,
     "metadata": {},
     "output_type": "execute_result"
    }
   ],
   "source": [
    "channel"
   ]
  },
  {
   "cell_type": "code",
   "execution_count": 19,
   "metadata": {
    "execution": {
     "iopub.execute_input": "2020-12-09T05:33:48.543616Z",
     "iopub.status.busy": "2020-12-09T05:33:48.543057Z",
     "iopub.status.idle": "2020-12-09T05:33:48.546095Z",
     "shell.execute_reply": "2020-12-09T05:33:48.546638Z"
    },
    "papermill": {
     "duration": 0.047741,
     "end_time": "2020-12-09T05:33:48.546799",
     "exception": false,
     "start_time": "2020-12-09T05:33:48.499058",
     "status": "completed"
    },
    "tags": []
   },
   "outputs": [
    {
     "data": {
      "text/plain": [
       "14"
      ]
     },
     "execution_count": 19,
     "metadata": {},
     "output_type": "execute_result"
    }
   ],
   "source": [
    "from s4_design_sim_tool.noise import get_tube_years\n",
    "tube_years = get_tube_years(config, site, channel)\n",
    "tube_years"
   ]
  },
  {
   "cell_type": "code",
   "execution_count": 20,
   "metadata": {
    "execution": {
     "iopub.execute_input": "2020-12-09T05:33:48.632996Z",
     "iopub.status.busy": "2020-12-09T05:33:48.632349Z",
     "iopub.status.idle": "2020-12-09T05:33:48.639754Z",
     "shell.execute_reply": "2020-12-09T05:33:48.640207Z"
    },
    "papermill": {
     "duration": 0.052975,
     "end_time": "2020-12-09T05:33:48.640361",
     "exception": false,
     "start_time": "2020-12-09T05:33:48.587386",
     "status": "completed"
    },
    "tags": []
   },
   "outputs": [
    {
     "data": {
      "text/plain": [
       "100.16290435294796"
      ]
     },
     "execution_count": 20,
     "metadata": {},
     "output_type": "execute_result"
    }
   ],
   "source": [
    "sampling_rate = hitmap.sum()\n",
    "sampling_rate /= 365.25 * 24 * 3600\n",
    "sampling_rate /= tube_years * config[\"experiment\"][\"observing_efficiency\"]\n",
    "sampling_rate /= s4[channel].attrs[\"detectors_per_tube\"]\n",
    "sampling_rate *= nsplits\n",
    "sampling_rate"
   ]
  },
  {
   "cell_type": "code",
   "execution_count": 21,
   "metadata": {
    "execution": {
     "iopub.execute_input": "2020-12-09T05:33:48.714116Z",
     "iopub.status.busy": "2020-12-09T05:33:48.713507Z",
     "iopub.status.idle": "2020-12-09T05:33:48.716700Z",
     "shell.execute_reply": "2020-12-09T05:33:48.716184Z"
    },
    "papermill": {
     "duration": 0.04385,
     "end_time": "2020-12-09T05:33:48.716821",
     "exception": false,
     "start_time": "2020-12-09T05:33:48.672971",
     "status": "completed"
    },
    "tags": []
   },
   "outputs": [],
   "source": [
    "np.testing.assert_allclose(sampling_rate, sampling_frequency[telescope].value, rtol=1/100)"
   ]
  },
  {
   "cell_type": "code",
   "execution_count": 22,
   "metadata": {
    "execution": {
     "iopub.execute_input": "2020-12-09T05:33:48.792769Z",
     "iopub.status.busy": "2020-12-09T05:33:48.791683Z",
     "iopub.status.idle": "2020-12-09T05:33:49.533612Z",
     "shell.execute_reply": "2020-12-09T05:33:49.534137Z"
    },
    "papermill": {
     "duration": 0.782146,
     "end_time": "2020-12-09T05:33:49.534308",
     "exception": false,
     "start_time": "2020-12-09T05:33:48.752162",
     "status": "completed"
    },
    "tags": []
   },
   "outputs": [
    {
     "name": "stderr",
     "output_type": "stream",
     "text": [
      "/global/homes/z/zonca/condajupynersc/lib/python3.7/site-packages/ipykernel_launcher.py:1: RuntimeWarning: divide by zero encountered in log10\n",
      "  \"\"\"Entry point for launching an IPython kernel.\n",
      "/global/homes/z/zonca/condajupynersc/lib/python3.7/site-packages/healpy/projaxes.py:920: MatplotlibDeprecationWarning: You are modifying the state of a globally registered colormap. In future versions, you will not be able to modify a registered colormap in-place. To remove this warning, you can make a copy of the colormap first. cmap = copy.copy(mpl.cm.get_cmap(\"viridis\"))\n",
      "  newcm.set_over(newcm(1.0))\n",
      "/global/homes/z/zonca/condajupynersc/lib/python3.7/site-packages/healpy/projaxes.py:921: MatplotlibDeprecationWarning: You are modifying the state of a globally registered colormap. In future versions, you will not be able to modify a registered colormap in-place. To remove this warning, you can make a copy of the colormap first. cmap = copy.copy(mpl.cm.get_cmap(\"viridis\"))\n",
      "  newcm.set_under(bgcolor)\n",
      "/global/homes/z/zonca/condajupynersc/lib/python3.7/site-packages/healpy/projaxes.py:922: MatplotlibDeprecationWarning: You are modifying the state of a globally registered colormap. In future versions, you will not be able to modify a registered colormap in-place. To remove this warning, you can make a copy of the colormap first. cmap = copy.copy(mpl.cm.get_cmap(\"viridis\"))\n",
      "  newcm.set_bad(badcolor)\n",
      "/global/homes/z/zonca/condajupynersc/lib/python3.7/site-packages/healpy/projaxes.py:211: MatplotlibDeprecationWarning: Passing parameters norm and vmin/vmax simultaneously is deprecated since 3.3 and will become an error two minor releases later. Please pass vmin/vmax directly to the norm when creating it.\n",
      "  **kwds\n"
     ]
    },
    {
     "data": {
      "image/png": "[encoded data removed]",
      "text/plain": [
       "<Figure size 612x388.8 with 2 Axes>"
      ]
     },
     "metadata": {
      "needs_background": "light"
     },
     "output_type": "display_data"
    }
   ],
   "source": [
    "log_hitmap = np.log10(hitmap)\n",
    "log_hitmap[np.isinf(log_hitmap)] = hp.UNSEEN\n",
    "hp.mollview(log_hitmap, unit=\"log10(samples)\", title=f\"Hitmap {ch}\")\n",
    "plt.savefig(f\"plots/hitmap_{channel}_{site}_1_of_{nsplits}.png\")"
   ]
  },
  {
   "cell_type": "code",
   "execution_count": 23,
   "metadata": {
    "execution": {
     "iopub.execute_input": "2020-12-09T05:33:49.614416Z",
     "iopub.status.busy": "2020-12-09T05:33:49.613784Z",
     "iopub.status.idle": "2020-12-09T05:33:49.889916Z",
     "shell.execute_reply": "2020-12-09T05:33:49.890329Z"
    },
    "papermill": {
     "duration": 0.319751,
     "end_time": "2020-12-09T05:33:49.890499",
     "exception": false,
     "start_time": "2020-12-09T05:33:49.570748",
     "status": "completed"
    },
    "tags": []
   },
   "outputs": [],
   "source": [
    "wcov = hp.read_map(local_path / dataset / ch / f\"cmbs4_wcov_{ch}_nside{nside}_1_of_{nsplits}.fits\", (3))"
   ]
  },
  {
   "cell_type": "code",
   "execution_count": 24,
   "metadata": {
    "execution": {
     "iopub.execute_input": "2020-12-09T05:33:49.971003Z",
     "iopub.status.busy": "2020-12-09T05:33:49.970465Z",
     "iopub.status.idle": "2020-12-09T05:33:49.973079Z",
     "shell.execute_reply": "2020-12-09T05:33:49.973508Z"
    },
    "papermill": {
     "duration": 0.044849,
     "end_time": "2020-12-09T05:33:49.973640",
     "exception": false,
     "start_time": "2020-12-09T05:33:49.928791",
     "status": "completed"
    },
    "tags": []
   },
   "outputs": [
    {
     "data": {
      "text/plain": [
       "(3145728,)"
      ]
     },
     "execution_count": 24,
     "metadata": {},
     "output_type": "execute_result"
    }
   ],
   "source": [
    "wcov.shape"
   ]
  },
  {
   "cell_type": "code",
   "execution_count": 25,
   "metadata": {
    "execution": {
     "iopub.execute_input": "2020-12-09T05:33:50.057111Z",
     "iopub.status.busy": "2020-12-09T05:33:50.056587Z",
     "iopub.status.idle": "2020-12-09T05:33:50.058267Z",
     "shell.execute_reply": "2020-12-09T05:33:50.058693Z"
    },
    "papermill": {
     "duration": 0.045752,
     "end_time": "2020-12-09T05:33:50.058825",
     "exception": false,
     "start_time": "2020-12-09T05:33:50.013073",
     "status": "completed"
    },
    "tags": []
   },
   "outputs": [],
   "source": [
    "import astropy.units as u"
   ]
  },
  {
   "cell_type": "code",
   "execution_count": 26,
   "metadata": {
    "execution": {
     "iopub.execute_input": "2020-12-09T05:33:50.140400Z",
     "iopub.status.busy": "2020-12-09T05:33:50.139868Z",
     "iopub.status.idle": "2020-12-09T05:33:50.141610Z",
     "shell.execute_reply": "2020-12-09T05:33:50.142010Z"
    },
    "papermill": {
     "duration": 0.045191,
     "end_time": "2020-12-09T05:33:50.142144",
     "exception": false,
     "start_time": "2020-12-09T05:33:50.096953",
     "status": "completed"
    },
    "tags": []
   },
   "outputs": [],
   "source": [
    "channel_NET = s4[channel].attrs[\"NET_uKsqrts\"] * u.uK * u.s ** .5"
   ]
  },
  {
   "cell_type": "code",
   "execution_count": 27,
   "metadata": {
    "execution": {
     "iopub.execute_input": "2020-12-09T05:33:50.224462Z",
     "iopub.status.busy": "2020-12-09T05:33:50.223851Z",
     "iopub.status.idle": "2020-12-09T05:33:50.225713Z",
     "shell.execute_reply": "2020-12-09T05:33:50.226162Z"
    },
    "papermill": {
     "duration": 0.046958,
     "end_time": "2020-12-09T05:33:50.226320",
     "exception": false,
     "start_time": "2020-12-09T05:33:50.179362",
     "status": "completed"
    },
    "tags": []
   },
   "outputs": [],
   "source": [
    "if telescope == \"LAT\" and site==\"pole\":\n",
    "    channel_NET = s4[channel].attrs[\"pole_NET_uKsqrts\"] * u.uK * u.s ** .5"
   ]
  },
  {
   "cell_type": "code",
   "execution_count": 28,
   "metadata": {
    "execution": {
     "iopub.execute_input": "2020-12-09T05:33:50.308245Z",
     "iopub.status.busy": "2020-12-09T05:33:50.307654Z",
     "iopub.status.idle": "2020-12-09T05:33:50.370422Z",
     "shell.execute_reply": "2020-12-09T05:33:50.370872Z"
    },
    "papermill": {
     "duration": 0.105468,
     "end_time": "2020-12-09T05:33:50.371017",
     "exception": false,
     "start_time": "2020-12-09T05:33:50.265549",
     "status": "completed"
    },
    "tags": []
   },
   "outputs": [],
   "source": [
    "variance_QQ = wcov * u.K ** 2 * (hitmap / sampling_frequency[telescope]) "
   ]
  },
  {
   "cell_type": "code",
   "execution_count": 29,
   "metadata": {
    "execution": {
     "iopub.execute_input": "2020-12-09T05:33:50.465211Z",
     "iopub.status.busy": "2020-12-09T05:33:50.464638Z",
     "iopub.status.idle": "2020-12-09T05:33:50.473346Z",
     "shell.execute_reply": "2020-12-09T05:33:50.472823Z"
    },
    "papermill": {
     "duration": 0.053654,
     "end_time": "2020-12-09T05:33:50.473488",
     "exception": false,
     "start_time": "2020-12-09T05:33:50.419834",
     "status": "completed"
    },
    "tags": []
   },
   "outputs": [],
   "source": [
    "assert (variance_QQ.value == hp.UNSEEN).sum() == 0"
   ]
  },
  {
   "cell_type": "code",
   "execution_count": 30,
   "metadata": {
    "execution": {
     "iopub.execute_input": "2020-12-09T05:33:50.590917Z",
     "iopub.status.busy": "2020-12-09T05:33:50.590295Z",
     "iopub.status.idle": "2020-12-09T05:33:50.623277Z",
     "shell.execute_reply": "2020-12-09T05:33:50.623790Z"
    },
    "papermill": {
     "duration": 0.076212,
     "end_time": "2020-12-09T05:33:50.623952",
     "exception": false,
     "start_time": "2020-12-09T05:33:50.547740",
     "status": "completed"
    },
    "tags": []
   },
   "outputs": [],
   "source": [
    "full_mission_NET = np.sqrt(np.median(variance_QQ[hitmap != 0]))"
   ]
  },
  {
   "cell_type": "code",
   "execution_count": 31,
   "metadata": {
    "execution": {
     "iopub.execute_input": "2020-12-09T05:33:50.712265Z",
     "iopub.status.busy": "2020-12-09T05:33:50.711435Z",
     "iopub.status.idle": "2020-12-09T05:33:50.715540Z",
     "shell.execute_reply": "2020-12-09T05:33:50.714944Z"
    },
    "papermill": {
     "duration": 0.051531,
     "end_time": "2020-12-09T05:33:50.715657",
     "exception": false,
     "start_time": "2020-12-09T05:33:50.664126",
     "status": "completed"
    },
    "tags": []
   },
   "outputs": [
    {
     "data": {
      "text/latex": [
       "$1737.7117 \\; \\mathrm{\\mu K\\,s^{1/2}}$"
      ],
      "text/plain": [
       "<Quantity 1737.71165916 s(1/2) uK>"
      ]
     },
     "execution_count": 31,
     "metadata": {},
     "output_type": "execute_result"
    }
   ],
   "source": [
    "full_mission_NET.to(channel_NET.unit)"
   ]
  },
  {
   "cell_type": "code",
   "execution_count": 32,
   "metadata": {
    "execution": {
     "iopub.execute_input": "2020-12-09T05:33:50.802157Z",
     "iopub.status.busy": "2020-12-09T05:33:50.801352Z",
     "iopub.status.idle": "2020-12-09T05:33:50.805560Z",
     "shell.execute_reply": "2020-12-09T05:33:50.805051Z"
    },
    "papermill": {
     "duration": 0.050403,
     "end_time": "2020-12-09T05:33:50.805677",
     "exception": false,
     "start_time": "2020-12-09T05:33:50.755274",
     "status": "completed"
    },
    "tags": []
   },
   "outputs": [
    {
     "data": {
      "text/latex": [
       "$1281 \\; \\mathrm{\\mu K\\,s^{1/2}}$"
      ],
      "text/plain": [
       "<Quantity 1281. s(1/2) uK>"
      ]
     },
     "execution_count": 32,
     "metadata": {},
     "output_type": "execute_result"
    }
   ],
   "source": [
    "channel_NET"
   ]
  },
  {
   "cell_type": "code",
   "execution_count": 33,
   "metadata": {
    "execution": {
     "iopub.execute_input": "2020-12-09T05:33:50.889690Z",
     "iopub.status.busy": "2020-12-09T05:33:50.889152Z",
     "iopub.status.idle": "2020-12-09T05:33:50.892772Z",
     "shell.execute_reply": "2020-12-09T05:33:50.893203Z"
    },
    "papermill": {
     "duration": 0.048821,
     "end_time": "2020-12-09T05:33:50.893337",
     "exception": false,
     "start_time": "2020-12-09T05:33:50.844516",
     "status": "completed"
    },
    "tags": []
   },
   "outputs": [
    {
     "data": {
      "text/latex": [
       "$1228.7477 \\; \\mathrm{\\mu K\\,s^{1/2}}$"
      ],
      "text/plain": [
       "<Quantity 1228.74769794 s(1/2) uK>"
      ]
     },
     "execution_count": 33,
     "metadata": {},
     "output_type": "execute_result"
    }
   ],
   "source": [
    "(full_mission_NET/np.sqrt(2)).to(channel_NET.unit)"
   ]
  },
  {
   "cell_type": "code",
   "execution_count": 34,
   "metadata": {
    "execution": {
     "iopub.execute_input": "2020-12-09T05:33:50.977122Z",
     "iopub.status.busy": "2020-12-09T05:33:50.976593Z",
     "iopub.status.idle": "2020-12-09T05:33:50.979432Z",
     "shell.execute_reply": "2020-12-09T05:33:50.978974Z"
    },
    "papermill": {
     "duration": 0.047469,
     "end_time": "2020-12-09T05:33:50.979538",
     "exception": false,
     "start_time": "2020-12-09T05:33:50.932069",
     "status": "completed"
    },
    "tags": []
   },
   "outputs": [],
   "source": [
    "assert_quantity_allclose(full_mission_NET, channel_NET*np.sqrt(2), rtol=10/100) "
   ]
  },
  {
   "cell_type": "code",
   "execution_count": 35,
   "metadata": {
    "execution": {
     "iopub.execute_input": "2020-12-09T05:33:51.065809Z",
     "iopub.status.busy": "2020-12-09T05:33:51.065266Z",
     "iopub.status.idle": "2020-12-09T05:33:51.073750Z",
     "shell.execute_reply": "2020-12-09T05:33:51.074161Z"
    },
    "papermill": {
     "duration": 0.054313,
     "end_time": "2020-12-09T05:33:51.074305",
     "exception": false,
     "start_time": "2020-12-09T05:33:51.019992",
     "status": "completed"
    },
    "tags": []
   },
   "outputs": [],
   "source": [
    "sky_fraction = (hitmap > 0).sum() / len(hitmap)"
   ]
  },
  {
   "cell_type": "code",
   "execution_count": 36,
   "metadata": {
    "execution": {
     "iopub.execute_input": "2020-12-09T05:33:51.163469Z",
     "iopub.status.busy": "2020-12-09T05:33:51.162795Z",
     "iopub.status.idle": "2020-12-09T05:33:51.165649Z",
     "shell.execute_reply": "2020-12-09T05:33:51.165184Z"
    },
    "papermill": {
     "duration": 0.047628,
     "end_time": "2020-12-09T05:33:51.165761",
     "exception": false,
     "start_time": "2020-12-09T05:33:51.118133",
     "status": "completed"
    },
    "tags": []
   },
   "outputs": [
    {
     "data": {
      "text/plain": [
       "0.5469678243001302"
      ]
     },
     "execution_count": 36,
     "metadata": {},
     "output_type": "execute_result"
    }
   ],
   "source": [
    "sky_fraction"
   ]
  },
  {
   "cell_type": "code",
   "execution_count": 37,
   "metadata": {
    "execution": {
     "iopub.execute_input": "2020-12-09T05:33:51.254724Z",
     "iopub.status.busy": "2020-12-09T05:33:51.254174Z",
     "iopub.status.idle": "2020-12-09T05:33:51.256036Z",
     "shell.execute_reply": "2020-12-09T05:33:51.256467Z"
    },
    "papermill": {
     "duration": 0.048945,
     "end_time": "2020-12-09T05:33:51.256598",
     "exception": false,
     "start_time": "2020-12-09T05:33:51.207653",
     "status": "completed"
    },
    "tags": []
   },
   "outputs": [],
   "source": [
    "pixarea = hp.nside2pixarea(nside)"
   ]
  },
  {
   "cell_type": "code",
   "execution_count": 38,
   "metadata": {
    "execution": {
     "iopub.execute_input": "2020-12-09T05:33:51.351256Z",
     "iopub.status.busy": "2020-12-09T05:33:51.350706Z",
     "iopub.status.idle": "2020-12-09T05:33:51.362921Z",
     "shell.execute_reply": "2020-12-09T05:33:51.363356Z"
    },
    "papermill": {
     "duration": 0.061933,
     "end_time": "2020-12-09T05:33:51.363503",
     "exception": false,
     "start_time": "2020-12-09T05:33:51.301570",
     "status": "completed"
    },
    "tags": []
   },
   "outputs": [
    {
     "data": {
      "text/plain": [
       "2.2612222298794475e-15"
      ]
     },
     "execution_count": 38,
     "metadata": {},
     "output_type": "execute_result"
    }
   ],
   "source": [
    "np.mean(wcov[hitmap > 0])* pixarea"
   ]
  },
  {
   "cell_type": "code",
   "execution_count": 39,
   "metadata": {
    "execution": {
     "iopub.execute_input": "2020-12-09T05:33:51.452803Z",
     "iopub.status.busy": "2020-12-09T05:33:51.451833Z",
     "iopub.status.idle": "2020-12-09T05:33:51.458933Z",
     "shell.execute_reply": "2020-12-09T05:33:51.459379Z"
    },
    "papermill": {
     "duration": 0.053196,
     "end_time": "2020-12-09T05:33:51.459522",
     "exception": false,
     "start_time": "2020-12-09T05:33:51.406326",
     "status": "completed"
    },
    "tags": []
   },
   "outputs": [],
   "source": [
    "wcov [ wcov == hp.UNSEEN] = 0"
   ]
  },
  {
   "cell_type": "markdown",
   "metadata": {
    "papermill": {
     "duration": 0.040443,
     "end_time": "2020-12-09T05:33:51.542485",
     "exception": false,
     "start_time": "2020-12-09T05:33:51.502042",
     "status": "completed"
    },
    "tags": []
   },
   "source": [
    "## Atmosphere"
   ]
  },
  {
   "cell_type": "code",
   "execution_count": 40,
   "metadata": {
    "execution": {
     "iopub.execute_input": "2020-12-09T05:33:51.629702Z",
     "iopub.status.busy": "2020-12-09T05:33:51.628971Z",
     "iopub.status.idle": "2020-12-09T05:33:51.631066Z",
     "shell.execute_reply": "2020-12-09T05:33:51.631499Z"
    },
    "papermill": {
     "duration": 0.046772,
     "end_time": "2020-12-09T05:33:51.631633",
     "exception": false,
     "start_time": "2020-12-09T05:33:51.584861",
     "status": "completed"
    },
    "tags": []
   },
   "outputs": [],
   "source": [
    "atmosphere_filename = Path(base_folder) / \"00000000\" / f\"{site}_atmosphere_{telescope}_{channel}_filtered_telescope_all_time_all_bmap.fits\""
   ]
  },
  {
   "cell_type": "code",
   "execution_count": 41,
   "metadata": {
    "execution": {
     "iopub.execute_input": "2020-12-09T05:33:51.716103Z",
     "iopub.status.busy": "2020-12-09T05:33:51.715527Z",
     "iopub.status.idle": "2020-12-09T05:33:52.533230Z",
     "shell.execute_reply": "2020-12-09T05:33:52.533799Z"
    },
    "papermill": {
     "duration": 0.861827,
     "end_time": "2020-12-09T05:33:52.533956",
     "exception": false,
     "start_time": "2020-12-09T05:33:51.672129",
     "status": "completed"
    },
    "tags": []
   },
   "outputs": [
    {
     "name": "stderr",
     "output_type": "stream",
     "text": [
      "/global/homes/z/zonca/condajupynersc/lib/python3.7/site-packages/healpy/fitsfunc.py:400: UserWarning: ORDERING = NESTED in fits file\n",
      "  warnings.warn(\"ORDERING = {0:s} in fits file\".format(ordering))\n",
      "/global/homes/z/zonca/condajupynersc/lib/python3.7/site-packages/healpy/fitsfunc.py:486: UserWarning: Ordering converted to RING\n",
      "  warnings.warn(\"Ordering converted to RING\")\n"
     ]
    }
   ],
   "source": [
    "input_atmophere = hp.ma(hp.read_map(atmosphere_filename, (0,1,2)))"
   ]
  },
  {
   "cell_type": "code",
   "execution_count": 42,
   "metadata": {
    "execution": {
     "iopub.execute_input": "2020-12-09T05:33:52.648314Z",
     "iopub.status.busy": "2020-12-09T05:33:52.647711Z",
     "iopub.status.idle": "2020-12-09T05:33:52.680229Z",
     "shell.execute_reply": "2020-12-09T05:33:52.680644Z"
    },
    "papermill": {
     "duration": 0.100232,
     "end_time": "2020-12-09T05:33:52.680795",
     "exception": false,
     "start_time": "2020-12-09T05:33:52.580563",
     "status": "completed"
    },
    "tags": []
   },
   "outputs": [],
   "source": [
    "sqrt_hitmap = hitmap.copy()\n",
    "sqrt_hitmap[hitmap>0] = np.sqrt(hitmap[hitmap>0])"
   ]
  },
  {
   "cell_type": "code",
   "execution_count": 43,
   "metadata": {
    "execution": {
     "iopub.execute_input": "2020-12-09T05:33:52.811423Z",
     "iopub.status.busy": "2020-12-09T05:33:52.810793Z",
     "iopub.status.idle": "2020-12-09T05:33:56.319039Z",
     "shell.execute_reply": "2020-12-09T05:33:56.318440Z"
    },
    "papermill": {
     "duration": 3.563862,
     "end_time": "2020-12-09T05:33:56.319195",
     "exception": false,
     "start_time": "2020-12-09T05:33:52.755333",
     "status": "completed"
    },
    "tags": []
   },
   "outputs": [],
   "source": [
    "atmo_cl = \\\n",
    "hp.anafast(input_atmophere * sqrt_hitmap, use_pixel_weights=True) / np.mean(hitmap) # / sky_fraction"
   ]
  },
  {
   "cell_type": "code",
   "execution_count": 44,
   "metadata": {
    "execution": {
     "iopub.execute_input": "2020-12-09T05:33:56.414026Z",
     "iopub.status.busy": "2020-12-09T05:33:56.413344Z",
     "iopub.status.idle": "2020-12-09T05:33:56.415323Z",
     "shell.execute_reply": "2020-12-09T05:33:56.415853Z"
    },
    "papermill": {
     "duration": 0.054023,
     "end_time": "2020-12-09T05:33:56.416006",
     "exception": false,
     "start_time": "2020-12-09T05:33:56.361983",
     "status": "completed"
    },
    "tags": []
   },
   "outputs": [],
   "source": [
    "from s4_design_sim_tool.atmosphere import get_telecope_years"
   ]
  },
  {
   "cell_type": "code",
   "execution_count": 45,
   "metadata": {
    "execution": {
     "iopub.execute_input": "2020-12-09T05:33:56.523530Z",
     "iopub.status.busy": "2020-12-09T05:33:56.522634Z",
     "iopub.status.idle": "2020-12-09T05:33:56.524260Z",
     "shell.execute_reply": "2020-12-09T05:33:56.524705Z"
    },
    "papermill": {
     "duration": 0.057937,
     "end_time": "2020-12-09T05:33:56.524851",
     "exception": false,
     "start_time": "2020-12-09T05:33:56.466914",
     "status": "completed"
    },
    "tags": []
   },
   "outputs": [],
   "source": [
    "telescope_years = get_telecope_years(config, site, channel)"
   ]
  },
  {
   "cell_type": "code",
   "execution_count": 46,
   "metadata": {
    "execution": {
     "iopub.execute_input": "2020-12-09T05:33:56.625606Z",
     "iopub.status.busy": "2020-12-09T05:33:56.625078Z",
     "iopub.status.idle": "2020-12-09T05:33:56.627690Z",
     "shell.execute_reply": "2020-12-09T05:33:56.628102Z"
    },
    "papermill": {
     "duration": 0.05571,
     "end_time": "2020-12-09T05:33:56.628237",
     "exception": false,
     "start_time": "2020-12-09T05:33:56.572527",
     "status": "completed"
    },
    "tags": []
   },
   "outputs": [
    {
     "data": {
      "text/plain": [
       "7"
      ]
     },
     "execution_count": 46,
     "metadata": {},
     "output_type": "execute_result"
    }
   ],
   "source": [
    "telescope_years"
   ]
  },
  {
   "cell_type": "code",
   "execution_count": 47,
   "metadata": {
    "execution": {
     "iopub.execute_input": "2020-12-09T05:33:56.712553Z",
     "iopub.status.busy": "2020-12-09T05:33:56.712027Z",
     "iopub.status.idle": "2020-12-09T05:33:56.713876Z",
     "shell.execute_reply": "2020-12-09T05:33:56.714303Z"
    },
    "papermill": {
     "duration": 0.046042,
     "end_time": "2020-12-09T05:33:56.714446",
     "exception": false,
     "start_time": "2020-12-09T05:33:56.668404",
     "status": "completed"
    },
    "tags": []
   },
   "outputs": [],
   "source": [
    "from s4_design_sim_tool.core import simulations_observing_efficiency"
   ]
  },
  {
   "cell_type": "code",
   "execution_count": 48,
   "metadata": {
    "execution": {
     "iopub.execute_input": "2020-12-09T05:33:56.799311Z",
     "iopub.status.busy": "2020-12-09T05:33:56.798721Z",
     "iopub.status.idle": "2020-12-09T05:33:56.802296Z",
     "shell.execute_reply": "2020-12-09T05:33:56.802757Z"
    },
    "papermill": {
     "duration": 0.048761,
     "end_time": "2020-12-09T05:33:56.802907",
     "exception": false,
     "start_time": "2020-12-09T05:33:56.754146",
     "status": "completed"
    },
    "tags": []
   },
   "outputs": [
    {
     "data": {
      "text/plain": [
       "{'pole': {'SAT': 0.3931149305555555, 'LAT': 0.321544537037037},\n",
       " 'chile': {'SAT': 0.8656164351851852, 'LAT': 0.917306712962963}}"
      ]
     },
     "execution_count": 48,
     "metadata": {},
     "output_type": "execute_result"
    }
   ],
   "source": [
    "simulations_observing_efficiency"
   ]
  },
  {
   "cell_type": "code",
   "execution_count": 49,
   "metadata": {
    "execution": {
     "iopub.execute_input": "2020-12-09T05:33:56.893690Z",
     "iopub.status.busy": "2020-12-09T05:33:56.893099Z",
     "iopub.status.idle": "2020-12-09T05:33:56.895094Z",
     "shell.execute_reply": "2020-12-09T05:33:56.895565Z"
    },
    "papermill": {
     "duration": 0.048631,
     "end_time": "2020-12-09T05:33:56.895717",
     "exception": false,
     "start_time": "2020-12-09T05:33:56.847086",
     "status": "completed"
    },
    "tags": []
   },
   "outputs": [],
   "source": [
    "atmo_cl *= 10 / 365.25\n",
    "atmo_cl *= simulations_observing_efficiency[site.lower()].get(telescope, 1) / config[\"experiment\"][\"observing_efficiency\"]                                                                    \n",
    "atmo_cl /= telescope_years"
   ]
  },
  {
   "cell_type": "markdown",
   "metadata": {
    "papermill": {
     "duration": 0.039993,
     "end_time": "2020-12-09T05:33:56.980278",
     "exception": false,
     "start_time": "2020-12-09T05:33:56.940285",
     "status": "completed"
    },
    "tags": []
   },
   "source": [
    "## Noise"
   ]
  },
  {
   "cell_type": "code",
   "execution_count": 50,
   "metadata": {
    "execution": {
     "iopub.execute_input": "2020-12-09T05:33:57.070691Z",
     "iopub.status.busy": "2020-12-09T05:33:57.070152Z",
     "iopub.status.idle": "2020-12-09T05:33:57.072092Z",
     "shell.execute_reply": "2020-12-09T05:33:57.072522Z"
    },
    "papermill": {
     "duration": 0.048123,
     "end_time": "2020-12-09T05:33:57.072651",
     "exception": false,
     "start_time": "2020-12-09T05:33:57.024528",
     "status": "completed"
    },
    "tags": []
   },
   "outputs": [],
   "source": [
    "noise_filename = Path(base_folder) / \"00000000\" / f\"{site}_noise_{telescope}_{channel}_filtered_telescope_all_time_all_bmap.fits\""
   ]
  },
  {
   "cell_type": "code",
   "execution_count": 51,
   "metadata": {
    "execution": {
     "iopub.execute_input": "2020-12-09T05:33:57.159911Z",
     "iopub.status.busy": "2020-12-09T05:33:57.159369Z",
     "iopub.status.idle": "2020-12-09T05:33:57.161602Z",
     "shell.execute_reply": "2020-12-09T05:33:57.162007Z"
    },
    "papermill": {
     "duration": 0.049086,
     "end_time": "2020-12-09T05:33:57.162149",
     "exception": false,
     "start_time": "2020-12-09T05:33:57.113063",
     "status": "completed"
    },
    "tags": []
   },
   "outputs": [],
   "source": [
    "#input_noise = hp.ma(hp.read_map(noise_filename, (0,1,2)))"
   ]
  },
  {
   "cell_type": "code",
   "execution_count": 52,
   "metadata": {
    "execution": {
     "iopub.execute_input": "2020-12-09T05:33:57.246399Z",
     "iopub.status.busy": "2020-12-09T05:33:57.245850Z",
     "iopub.status.idle": "2020-12-09T05:33:57.247794Z",
     "shell.execute_reply": "2020-12-09T05:33:57.248216Z"
    },
    "papermill": {
     "duration": 0.046294,
     "end_time": "2020-12-09T05:33:57.248366",
     "exception": false,
     "start_time": "2020-12-09T05:33:57.202072",
     "status": "completed"
    },
    "tags": []
   },
   "outputs": [],
   "source": [
    "#noise_cl = hp.anafast(input_noise * sqrt_hitmap, use_pixel_weights=True) / np.mean(hitmap) / sky_fraction"
   ]
  },
  {
   "cell_type": "code",
   "execution_count": 53,
   "metadata": {
    "execution": {
     "iopub.execute_input": "2020-12-09T05:33:57.331759Z",
     "iopub.status.busy": "2020-12-09T05:33:57.331234Z",
     "iopub.status.idle": "2020-12-09T05:33:57.333203Z",
     "shell.execute_reply": "2020-12-09T05:33:57.333605Z"
    },
    "papermill": {
     "duration": 0.045435,
     "end_time": "2020-12-09T05:33:57.333738",
     "exception": false,
     "start_time": "2020-12-09T05:33:57.288303",
     "status": "completed"
    },
    "tags": []
   },
   "outputs": [],
   "source": [
    "del sqrt_hitmap"
   ]
  },
  {
   "cell_type": "code",
   "execution_count": 54,
   "metadata": {
    "execution": {
     "iopub.execute_input": "2020-12-09T05:33:57.419355Z",
     "iopub.status.busy": "2020-12-09T05:33:57.418826Z",
     "iopub.status.idle": "2020-12-09T05:33:57.420728Z",
     "shell.execute_reply": "2020-12-09T05:33:57.421126Z"
    },
    "papermill": {
     "duration": 0.047749,
     "end_time": "2020-12-09T05:33:57.421262",
     "exception": false,
     "start_time": "2020-12-09T05:33:57.373513",
     "status": "completed"
    },
    "tags": []
   },
   "outputs": [],
   "source": [
    "from s4_design_sim_tool.noise import get_thinfp\n",
    "thinfp = get_thinfp(channel)"
   ]
  },
  {
   "cell_type": "code",
   "execution_count": 55,
   "metadata": {
    "execution": {
     "iopub.execute_input": "2020-12-09T05:33:57.509453Z",
     "iopub.status.busy": "2020-12-09T05:33:57.508932Z",
     "iopub.status.idle": "2020-12-09T05:33:57.511857Z",
     "shell.execute_reply": "2020-12-09T05:33:57.512294Z"
    },
    "papermill": {
     "duration": 0.049685,
     "end_time": "2020-12-09T05:33:57.512431",
     "exception": false,
     "start_time": "2020-12-09T05:33:57.462746",
     "status": "completed"
    },
    "tags": []
   },
   "outputs": [
    {
     "data": {
      "text/html": [
       "&lt;Column name=&apos;thinfp&apos; dtype=&apos;int64&apos; length=1&gt;\n",
       "<table>\n",
       "<tr><td>8</td></tr>\n",
       "</table>"
      ],
      "text/plain": [
       "<Column name='thinfp' dtype='int64' length=1>\n",
       "8"
      ]
     },
     "execution_count": 55,
     "metadata": {},
     "output_type": "execute_result"
    }
   ],
   "source": [
    "thinfp"
   ]
  },
  {
   "cell_type": "code",
   "execution_count": 56,
   "metadata": {
    "execution": {
     "iopub.execute_input": "2020-12-09T05:33:57.602519Z",
     "iopub.status.busy": "2020-12-09T05:33:57.601861Z",
     "iopub.status.idle": "2020-12-09T05:33:57.604120Z",
     "shell.execute_reply": "2020-12-09T05:33:57.604591Z"
    },
    "papermill": {
     "duration": 0.049057,
     "end_time": "2020-12-09T05:33:57.604745",
     "exception": false,
     "start_time": "2020-12-09T05:33:57.555688",
     "status": "completed"
    },
    "tags": []
   },
   "outputs": [],
   "source": [
    "#noise_cl *= 10 / 365.25\n",
    "#noise_cl *= simulations_observing_efficiency[site.lower()].get(telescope, 1) / config[\"experiment\"][\"observing_efficiency\"]                                                                    \n",
    "#noise_cl /= tube_years\n",
    "#noise_cl /= thinfp"
   ]
  },
  {
   "cell_type": "code",
   "execution_count": 57,
   "metadata": {
    "execution": {
     "iopub.execute_input": "2020-12-09T05:33:57.717888Z",
     "iopub.status.busy": "2020-12-09T05:33:57.717256Z",
     "iopub.status.idle": "2020-12-09T05:33:57.740241Z",
     "shell.execute_reply": "2020-12-09T05:33:57.739772Z"
    },
    "papermill": {
     "duration": 0.092447,
     "end_time": "2020-12-09T05:33:57.740358",
     "exception": false,
     "start_time": "2020-12-09T05:33:57.647911",
     "status": "completed"
    },
    "tags": []
   },
   "outputs": [],
   "source": [
    "white_noise_Cl = channel_NET**2 \\\n",
    "/ (hitmap.sum() / sampling_frequency[telescope] / (hitmap>0).sum()) * pixarea # / sky_fraction"
   ]
  },
  {
   "cell_type": "code",
   "execution_count": 58,
   "metadata": {
    "execution": {
     "iopub.execute_input": "2020-12-09T05:33:57.835593Z",
     "iopub.status.busy": "2020-12-09T05:33:57.835069Z",
     "iopub.status.idle": "2020-12-09T05:33:57.837739Z",
     "shell.execute_reply": "2020-12-09T05:33:57.838140Z"
    },
    "papermill": {
     "duration": 0.050246,
     "end_time": "2020-12-09T05:33:57.838278",
     "exception": false,
     "start_time": "2020-12-09T05:33:57.788032",
     "status": "completed"
    },
    "tags": []
   },
   "outputs": [
    {
     "data": {
      "text/latex": [
       "$1.4828788 \\times 10^{-17} \\; \\mathrm{K^{2}}$"
      ],
      "text/plain": [
       "<Quantity 1.48287877e-17 K2>"
      ]
     },
     "execution_count": 58,
     "metadata": {},
     "output_type": "execute_result"
    }
   ],
   "source": [
    "white_noise_Cl.decompose()"
   ]
  },
  {
   "cell_type": "code",
   "execution_count": 59,
   "metadata": {
    "execution": {
     "iopub.execute_input": "2020-12-09T05:33:57.929698Z",
     "iopub.status.busy": "2020-12-09T05:33:57.929170Z",
     "iopub.status.idle": "2020-12-09T05:34:00.395606Z",
     "shell.execute_reply": "2020-12-09T05:34:00.396063Z"
    },
    "papermill": {
     "duration": 2.515229,
     "end_time": "2020-12-09T05:34:00.396224",
     "exception": false,
     "start_time": "2020-12-09T05:33:57.880995",
     "status": "completed"
    },
    "tags": []
   },
   "outputs": [],
   "source": [
    "import seaborn as sns"
   ]
  },
  {
   "cell_type": "code",
   "execution_count": 60,
   "metadata": {
    "execution": {
     "iopub.execute_input": "2020-12-09T05:34:00.495381Z",
     "iopub.status.busy": "2020-12-09T05:34:00.494800Z",
     "iopub.status.idle": "2020-12-09T05:34:00.497307Z",
     "shell.execute_reply": "2020-12-09T05:34:00.496828Z"
    },
    "papermill": {
     "duration": 0.049778,
     "end_time": "2020-12-09T05:34:00.497425",
     "exception": false,
     "start_time": "2020-12-09T05:34:00.447647",
     "status": "completed"
    },
    "tags": []
   },
   "outputs": [],
   "source": [
    "sns.set_style(\"whitegrid\")"
   ]
  },
  {
   "cell_type": "code",
   "execution_count": 61,
   "metadata": {
    "execution": {
     "iopub.execute_input": "2020-12-09T05:34:00.599494Z",
     "iopub.status.busy": "2020-12-09T05:34:00.598462Z",
     "iopub.status.idle": "2020-12-09T05:34:02.570733Z",
     "shell.execute_reply": "2020-12-09T05:34:02.571167Z"
    },
    "papermill": {
     "duration": 2.02535,
     "end_time": "2020-12-09T05:34:02.571308",
     "exception": false,
     "start_time": "2020-12-09T05:34:00.545958",
     "status": "completed"
    },
    "tags": []
   },
   "outputs": [
    {
     "data": {
      "image/png": "[encoded data removed]",
      "text/plain": [
       "<Figure size 576x360 with 1 Axes>"
      ]
     },
     "metadata": {},
     "output_type": "display_data"
    }
   ],
   "source": [
    "plt.figure(figsize=(8,5))\n",
    "\n",
    "pols = [\"TT\", \"EE\", \"BB\"]\n",
    "\n",
    "for i, pol in enumerate(pols):\n",
    "    for split in range(1, nsplits+1):\n",
    "        plt.loglog(C_ell[ch][split][i], alpha=.8, label=pol)\n",
    "\n",
    "for i, pol in enumerate(pols):\n",
    "    plt.loglog(atmo_cl[i]*nsplits, alpha=.8, ls=\"--\", label=f\"atmo {pol}\")\n",
    "\n",
    "#for i, pol in enumerate(pols):\n",
    "#    plt.loglog(noise_cl[i], alpha=.8, ls=\"-.\", label=f\"noise {pol}\")\n",
    "\n",
    "plt.axhline(white_noise_Cl.to_value(u.K**2), ls=\":\",\n",
    "           label=\"white noise T\", color=\"black\")\n",
    "plt.axhline(white_noise_Cl.to_value(u.K**2)*2, ls=\":\",\n",
    "           label=\"white noise P\", color=\"grey\")\n",
    "plt.legend()\n",
    "plt.title(f\"Noise + Atmosphere simulations spectra for {ch}\")\n",
    "plt.ylabel(\"$C_\\ell [K^2]$\")\n",
    "plt.xlabel(\"$\\ell$\")\n",
    "plt.xlim((10, 3*nside))\n",
    "plt.grid(True)\n",
    "plt.savefig(f\"plots/C_ell_{dataset}_{ch}_{nsplits}.png\");"
   ]
  },
  {
   "cell_type": "code",
   "execution_count": null,
   "metadata": {
    "papermill": {
     "duration": 0.086814,
     "end_time": "2020-12-09T05:34:02.714704",
     "exception": false,
     "start_time": "2020-12-09T05:34:02.627890",
     "status": "completed"
    },
    "tags": []
   },
   "outputs": [],
   "source": []
  }
 ],
 "metadata": {
  "kernelspec": {
   "display_name": "condajupynersc",
   "language": "python",
   "name": "condajupynersc"
  },
  "language_info": {
   "codemirror_mode": {
    "name": "ipython",
    "version": 3
   },
   "file_extension": ".py",
   "mimetype": "text/x-python",
   "name": "python",
   "nbconvert_exporter": "python",
   "pygments_lexer": "ipython3",
   "version": "3.7.0"
  },
  "papermill": {
   "duration": 20.464303,
   "end_time": "2020-12-09T05:34:04.103972",
   "environment_variables": {},
   "exception": null,
   "input_path": "validation_atmo_noise_dec_2020.ipynb",
   "output_path": "validation_notebooks/SAT-HFS2_chile_1.ipynb",
   "parameters": {
    "ch": "SAT-HFS2_chile",
    "nsplits": 1
   },
   "start_time": "2020-12-09T05:33:43.639669",
   "version": "2.1.2"
  }
 },
 "nbformat": 4,
 "nbformat_minor": 4
}