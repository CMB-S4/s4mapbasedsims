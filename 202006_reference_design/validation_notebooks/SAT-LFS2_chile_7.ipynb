{
 "cells": [
  {
   "cell_type": "code",
   "execution_count": 1,
   "metadata": {
    "execution": {
     "iopub.execute_input": "2020-12-09T06:01:25.944144Z",
     "iopub.status.busy": "2020-12-09T06:01:25.940228Z",
     "iopub.status.idle": "2020-12-09T06:01:27.525777Z",
     "shell.execute_reply": "2020-12-09T06:01:27.526204Z"
    },
    "papermill": {
     "duration": 1.619113,
     "end_time": "2020-12-09T06:01:27.526453",
     "exception": false,
     "start_time": "2020-12-09T06:01:25.907340",
     "status": "completed"
    },
    "tags": []
   },
   "outputs": [],
   "source": [
    "import healpy as hp\n",
    "import numpy as np\n",
    "%matplotlib inline\n",
    "import matplotlib.pyplot as plt\n",
    "from pathlib import Path\n",
    "from astropy.tests.helper import assert_quantity_allclose\n",
    "import pickle\n",
    "import sys\n",
    "import os\n",
    "from astropy import units as u"
   ]
  },
  {
   "cell_type": "code",
   "execution_count": 2,
   "metadata": {
    "execution": {
     "iopub.execute_input": "2020-12-09T06:01:27.584741Z",
     "iopub.status.busy": "2020-12-09T06:01:27.584153Z",
     "iopub.status.idle": "2020-12-09T06:01:27.648036Z",
     "shell.execute_reply": "2020-12-09T06:01:27.647445Z"
    },
    "papermill": {
     "duration": 0.094791,
     "end_time": "2020-12-09T06:01:27.648145",
     "exception": false,
     "start_time": "2020-12-09T06:01:27.553354",
     "status": "completed"
    },
    "tags": []
   },
   "outputs": [],
   "source": [
    "import h5py\n",
    "s4 = h5py.File(\"cmbs4_tophat.h5\", mode=\"r\")"
   ]
  },
  {
   "cell_type": "code",
   "execution_count": 3,
   "metadata": {
    "execution": {
     "iopub.execute_input": "2020-12-09T06:01:27.708377Z",
     "iopub.status.busy": "2020-12-09T06:01:27.707856Z",
     "iopub.status.idle": "2020-12-09T06:01:27.710022Z",
     "shell.execute_reply": "2020-12-09T06:01:27.710520Z"
    },
    "papermill": {
     "duration": 0.034995,
     "end_time": "2020-12-09T06:01:27.710667",
     "exception": false,
     "start_time": "2020-12-09T06:01:27.675672",
     "status": "completed"
    },
    "tags": []
   },
   "outputs": [],
   "source": [
    "dataset = \"s4_reference_design_noise_atmo_7splits\""
   ]
  },
  {
   "cell_type": "code",
   "execution_count": 4,
   "metadata": {
    "execution": {
     "iopub.execute_input": "2020-12-09T06:01:27.771245Z",
     "iopub.status.busy": "2020-12-09T06:01:27.770631Z",
     "iopub.status.idle": "2020-12-09T06:01:27.773481Z",
     "shell.execute_reply": "2020-12-09T06:01:27.772863Z"
    },
    "papermill": {
     "duration": 0.0327,
     "end_time": "2020-12-09T06:01:27.773636",
     "exception": false,
     "start_time": "2020-12-09T06:01:27.740936",
     "status": "completed"
    },
    "tags": [
     "parameters"
    ]
   },
   "outputs": [],
   "source": [
    "ch = f\"SAT-HFS1_chile\"\n",
    "nsplits = 1"
   ]
  },
  {
   "cell_type": "code",
   "execution_count": 5,
   "metadata": {
    "execution": {
     "iopub.execute_input": "2020-12-09T06:01:27.833574Z",
     "iopub.status.busy": "2020-12-09T06:01:27.832953Z",
     "iopub.status.idle": "2020-12-09T06:01:27.835517Z",
     "shell.execute_reply": "2020-12-09T06:01:27.836096Z"
    },
    "papermill": {
     "duration": 0.034877,
     "end_time": "2020-12-09T06:01:27.836242",
     "exception": false,
     "start_time": "2020-12-09T06:01:27.801365",
     "status": "completed"
    },
    "tags": [
     "injected-parameters"
    ]
   },
   "outputs": [],
   "source": [
    "# Parameters\n",
    "ch = \"SAT-LFS2_chile\"\n",
    "nsplits = 7\n"
   ]
  },
  {
   "cell_type": "code",
   "execution_count": 6,
   "metadata": {
    "execution": {
     "iopub.execute_input": "2020-12-09T06:01:27.896081Z",
     "iopub.status.busy": "2020-12-09T06:01:27.895402Z",
     "iopub.status.idle": "2020-12-09T06:01:27.898370Z",
     "shell.execute_reply": "2020-12-09T06:01:27.897848Z"
    },
    "papermill": {
     "duration": 0.034218,
     "end_time": "2020-12-09T06:01:27.898495",
     "exception": false,
     "start_time": "2020-12-09T06:01:27.864277",
     "status": "completed"
    },
    "tags": []
   },
   "outputs": [],
   "source": [
    "if os.path.exists(f\"plots/C_ell_{dataset}_{ch}_{nsplits}.png\"):\n",
    "    sys.exit(0)"
   ]
  },
  {
   "cell_type": "code",
   "execution_count": 7,
   "metadata": {
    "execution": {
     "iopub.execute_input": "2020-12-09T06:01:27.957029Z",
     "iopub.status.busy": "2020-12-09T06:01:27.956459Z",
     "iopub.status.idle": "2020-12-09T06:01:27.958547Z",
     "shell.execute_reply": "2020-12-09T06:01:27.959040Z"
    },
    "papermill": {
     "duration": 0.034012,
     "end_time": "2020-12-09T06:01:27.959182",
     "exception": false,
     "start_time": "2020-12-09T06:01:27.925170",
     "status": "completed"
    },
    "tags": []
   },
   "outputs": [],
   "source": [
    "sampling_frequency = dict(SAT=100*u.Hz, LAT=400*u.Hz)"
   ]
  },
  {
   "cell_type": "code",
   "execution_count": 8,
   "metadata": {
    "execution": {
     "iopub.execute_input": "2020-12-09T06:01:28.018379Z",
     "iopub.status.busy": "2020-12-09T06:01:28.017838Z",
     "iopub.status.idle": "2020-12-09T06:01:28.020161Z",
     "shell.execute_reply": "2020-12-09T06:01:28.020545Z"
    },
    "papermill": {
     "duration": 0.033431,
     "end_time": "2020-12-09T06:01:28.020661",
     "exception": false,
     "start_time": "2020-12-09T06:01:27.987230",
     "status": "completed"
    },
    "tags": []
   },
   "outputs": [],
   "source": [
    "#telescope = \"SAT\"\n",
    "#channel = \"LFS1\"\n",
    "#site = \"pole\""
   ]
  },
  {
   "cell_type": "code",
   "execution_count": 9,
   "metadata": {
    "execution": {
     "iopub.execute_input": "2020-12-09T06:01:28.080323Z",
     "iopub.status.busy": "2020-12-09T06:01:28.079760Z",
     "iopub.status.idle": "2020-12-09T06:01:28.081773Z",
     "shell.execute_reply": "2020-12-09T06:01:28.082218Z"
    },
    "papermill": {
     "duration": 0.034602,
     "end_time": "2020-12-09T06:01:28.082353",
     "exception": false,
     "start_time": "2020-12-09T06:01:28.047751",
     "status": "completed"
    },
    "tags": []
   },
   "outputs": [],
   "source": [
    "telescope = ch.split(\"-\")[0]\n",
    "channel, site= ch.split(\"-\")[1].split(\"_\")"
   ]
  },
  {
   "cell_type": "code",
   "execution_count": 10,
   "metadata": {
    "execution": {
     "iopub.execute_input": "2020-12-09T06:01:28.141271Z",
     "iopub.status.busy": "2020-12-09T06:01:28.140740Z",
     "iopub.status.idle": "2020-12-09T06:01:28.142877Z",
     "shell.execute_reply": "2020-12-09T06:01:28.143335Z"
    },
    "papermill": {
     "duration": 0.032859,
     "end_time": "2020-12-09T06:01:28.143489",
     "exception": false,
     "start_time": "2020-12-09T06:01:28.110630",
     "status": "completed"
    },
    "tags": []
   },
   "outputs": [],
   "source": [
    "local_path = Path(\"output\")\n",
    "project_path = Path(\"/global/project/projectdirs/cmbs4/dm/dstool/output/\")"
   ]
  },
  {
   "cell_type": "code",
   "execution_count": 11,
   "metadata": {
    "execution": {
     "iopub.execute_input": "2020-12-09T06:01:28.218314Z",
     "iopub.status.busy": "2020-12-09T06:01:28.217382Z",
     "iopub.status.idle": "2020-12-09T06:01:28.233505Z",
     "shell.execute_reply": "2020-12-09T06:01:28.232637Z"
    },
    "papermill": {
     "duration": 0.062809,
     "end_time": "2020-12-09T06:01:28.233687",
     "exception": false,
     "start_time": "2020-12-09T06:01:28.170878",
     "status": "completed"
    },
    "tags": []
   },
   "outputs": [],
   "source": [
    "C_ell = pickle.load(open(local_path / dataset / f\"C_ell_{telescope}_{nsplits}.pkl\", \"rb\"))"
   ]
  },
  {
   "cell_type": "code",
   "execution_count": 12,
   "metadata": {
    "execution": {
     "iopub.execute_input": "2020-12-09T06:01:28.315247Z",
     "iopub.status.busy": "2020-12-09T06:01:28.314629Z",
     "iopub.status.idle": "2020-12-09T06:01:28.317345Z",
     "shell.execute_reply": "2020-12-09T06:01:28.317774Z"
    },
    "papermill": {
     "duration": 0.036856,
     "end_time": "2020-12-09T06:01:28.317901",
     "exception": false,
     "start_time": "2020-12-09T06:01:28.281045",
     "status": "completed"
    },
    "tags": []
   },
   "outputs": [
    {
     "data": {
      "text/plain": [
       "('SAT', 'LFS2', 'chile')"
      ]
     },
     "execution_count": 12,
     "metadata": {},
     "output_type": "execute_result"
    }
   ],
   "source": [
    "telescope, channel, site"
   ]
  },
  {
   "cell_type": "code",
   "execution_count": 13,
   "metadata": {
    "execution": {
     "iopub.execute_input": "2020-12-09T06:01:28.376552Z",
     "iopub.status.busy": "2020-12-09T06:01:28.375982Z",
     "iopub.status.idle": "2020-12-09T06:01:28.379227Z",
     "shell.execute_reply": "2020-12-09T06:01:28.379731Z"
    },
    "papermill": {
     "duration": 0.034646,
     "end_time": "2020-12-09T06:01:28.379879",
     "exception": false,
     "start_time": "2020-12-09T06:01:28.345233",
     "status": "completed"
    },
    "tags": []
   },
   "outputs": [
    {
     "data": {
      "text/plain": [
       "dict_keys(['SAT-HFS1_chile', 'SAT-HFS2_chile', 'SAT-LFS1_chile', 'SAT-LFS2_chile', 'SAT-MFHS1_chile', 'SAT-MFHS2_chile', 'SAT-MFLS1_chile', 'SAT-MFLS2_chile'])"
      ]
     },
     "execution_count": 13,
     "metadata": {},
     "output_type": "execute_result"
    }
   ],
   "source": [
    "C_ell.keys()"
   ]
  },
  {
   "cell_type": "code",
   "execution_count": 14,
   "metadata": {
    "execution": {
     "iopub.execute_input": "2020-12-09T06:01:28.440941Z",
     "iopub.status.busy": "2020-12-09T06:01:28.440425Z",
     "iopub.status.idle": "2020-12-09T06:01:28.442840Z",
     "shell.execute_reply": "2020-12-09T06:01:28.443571Z"
    },
    "papermill": {
     "duration": 0.036131,
     "end_time": "2020-12-09T06:01:28.443764",
     "exception": false,
     "start_time": "2020-12-09T06:01:28.407633",
     "status": "completed"
    },
    "tags": []
   },
   "outputs": [],
   "source": [
    "nside = 4096 if telescope == \"LAT\" else 512"
   ]
  },
  {
   "cell_type": "code",
   "execution_count": 15,
   "metadata": {
    "execution": {
     "iopub.execute_input": "2020-12-09T06:01:28.533418Z",
     "iopub.status.busy": "2020-12-09T06:01:28.532934Z",
     "iopub.status.idle": "2020-12-09T06:01:28.536841Z",
     "shell.execute_reply": "2020-12-09T06:01:28.536360Z"
    },
    "papermill": {
     "duration": 0.035832,
     "end_time": "2020-12-09T06:01:28.536950",
     "exception": false,
     "start_time": "2020-12-09T06:01:28.501118",
     "status": "completed"
    },
    "tags": []
   },
   "outputs": [],
   "source": [
    "from s4_design_sim_tool.core import base_folder"
   ]
  },
  {
   "cell_type": "code",
   "execution_count": 16,
   "metadata": {
    "execution": {
     "iopub.execute_input": "2020-12-09T06:01:28.604541Z",
     "iopub.status.busy": "2020-12-09T06:01:28.603480Z",
     "iopub.status.idle": "2020-12-09T06:01:28.618461Z",
     "shell.execute_reply": "2020-12-09T06:01:28.619249Z"
    },
    "papermill": {
     "duration": 0.054798,
     "end_time": "2020-12-09T06:01:28.619474",
     "exception": false,
     "start_time": "2020-12-09T06:01:28.564676",
     "status": "completed"
    },
    "tags": []
   },
   "outputs": [],
   "source": [
    "from s4_design_sim_tool.cli import parse_config\n",
    "if site == \"chile\" and telescope == \"SAT\":\n",
    "    config = parse_config(f\"{dataset}.toml\", \"chile_sat.toml\")\n",
    "else:\n",
    "    config = parse_config(f\"{dataset}.toml\")"
   ]
  },
  {
   "cell_type": "code",
   "execution_count": 17,
   "metadata": {
    "execution": {
     "iopub.execute_input": "2020-12-09T06:01:28.692437Z",
     "iopub.status.busy": "2020-12-09T06:01:28.691883Z",
     "iopub.status.idle": "2020-12-09T06:01:28.807361Z",
     "shell.execute_reply": "2020-12-09T06:01:28.806895Z"
    },
    "papermill": {
     "duration": 0.148525,
     "end_time": "2020-12-09T06:01:28.807468",
     "exception": false,
     "start_time": "2020-12-09T06:01:28.658943",
     "status": "completed"
    },
    "tags": []
   },
   "outputs": [
    {
     "name": "stderr",
     "output_type": "stream",
     "text": [
      "/global/homes/z/zonca/condajupynersc/lib/python3.7/site-packages/healpy/fitsfunc.py:369: UserWarning: If you are not specifying the input dtype and using the default np.float64 dtype of read_map(), please consider that it will change in a future version to None as to keep the same dtype of the input file: please explicitly set the dtype if it is important to you.\n",
      "  \"If you are not specifying the input dtype and using the default \"\n",
      "/global/homes/z/zonca/condajupynersc/lib/python3.7/site-packages/healpy/fitsfunc.py:391: UserWarning: NSIDE = 512\n",
      "  warnings.warn(\"NSIDE = {0:d}\".format(nside))\n",
      "/global/homes/z/zonca/condajupynersc/lib/python3.7/site-packages/healpy/fitsfunc.py:400: UserWarning: ORDERING = RING in fits file\n",
      "  warnings.warn(\"ORDERING = {0:s} in fits file\".format(ordering))\n",
      "/global/homes/z/zonca/condajupynersc/lib/python3.7/site-packages/healpy/fitsfunc.py:428: UserWarning: INDXSCHM = IMPLICIT\n",
      "  warnings.warn(\"INDXSCHM = {0:s}\".format(schm))\n"
     ]
    }
   ],
   "source": [
    "hitmap = hp.read_map(local_path / dataset / ch / f\"cmbs4_hitmap_{ch}_nside{nside}_1_of_{nsplits}.fits\")"
   ]
  },
  {
   "cell_type": "code",
   "execution_count": 18,
   "metadata": {
    "execution": {
     "iopub.execute_input": "2020-12-09T06:01:28.879594Z",
     "iopub.status.busy": "2020-12-09T06:01:28.878872Z",
     "iopub.status.idle": "2020-12-09T06:01:28.883131Z",
     "shell.execute_reply": "2020-12-09T06:01:28.882526Z"
    },
    "papermill": {
     "duration": 0.046384,
     "end_time": "2020-12-09T06:01:28.883232",
     "exception": false,
     "start_time": "2020-12-09T06:01:28.836848",
     "status": "completed"
    },
    "tags": []
   },
   "outputs": [
    {
     "data": {
      "text/plain": [
       "'LFS2'"
      ]
     },
     "execution_count": 18,
     "metadata": {},
     "output_type": "execute_result"
    }
   ],
   "source": [
    "channel"
   ]
  },
  {
   "cell_type": "code",
   "execution_count": 19,
   "metadata": {
    "execution": {
     "iopub.execute_input": "2020-12-09T06:01:28.961499Z",
     "iopub.status.busy": "2020-12-09T06:01:28.960950Z",
     "iopub.status.idle": "2020-12-09T06:01:28.963791Z",
     "shell.execute_reply": "2020-12-09T06:01:28.964241Z"
    },
    "papermill": {
     "duration": 0.045861,
     "end_time": "2020-12-09T06:01:28.964396",
     "exception": false,
     "start_time": "2020-12-09T06:01:28.918535",
     "status": "completed"
    },
    "tags": []
   },
   "outputs": [
    {
     "data": {
      "text/plain": [
       "7"
      ]
     },
     "execution_count": 19,
     "metadata": {},
     "output_type": "execute_result"
    }
   ],
   "source": [
    "from s4_design_sim_tool.noise import get_tube_years\n",
    "tube_years = get_tube_years(config, site, channel)\n",
    "tube_years"
   ]
  },
  {
   "cell_type": "code",
   "execution_count": 20,
   "metadata": {
    "execution": {
     "iopub.execute_input": "2020-12-09T06:01:29.032583Z",
     "iopub.status.busy": "2020-12-09T06:01:29.032026Z",
     "iopub.status.idle": "2020-12-09T06:01:29.040675Z",
     "shell.execute_reply": "2020-12-09T06:01:29.041107Z"
    },
    "papermill": {
     "duration": 0.045512,
     "end_time": "2020-12-09T06:01:29.041247",
     "exception": false,
     "start_time": "2020-12-09T06:01:28.995735",
     "status": "completed"
    },
    "tags": []
   },
   "outputs": [
    {
     "data": {
      "text/plain": [
       "99.99999938176113"
      ]
     },
     "execution_count": 20,
     "metadata": {},
     "output_type": "execute_result"
    }
   ],
   "source": [
    "sampling_rate = hitmap.sum()\n",
    "sampling_rate /= 365.25 * 24 * 3600\n",
    "sampling_rate /= tube_years * config[\"experiment\"][\"observing_efficiency\"]\n",
    "sampling_rate /= s4[channel].attrs[\"detectors_per_tube\"]\n",
    "sampling_rate *= nsplits\n",
    "sampling_rate"
   ]
  },
  {
   "cell_type": "code",
   "execution_count": 21,
   "metadata": {
    "execution": {
     "iopub.execute_input": "2020-12-09T06:01:29.115335Z",
     "iopub.status.busy": "2020-12-09T06:01:29.114777Z",
     "iopub.status.idle": "2020-12-09T06:01:29.117399Z",
     "shell.execute_reply": "2020-12-09T06:01:29.116951Z"
    },
    "papermill": {
     "duration": 0.042308,
     "end_time": "2020-12-09T06:01:29.117504",
     "exception": false,
     "start_time": "2020-12-09T06:01:29.075196",
     "status": "completed"
    },
    "tags": []
   },
   "outputs": [],
   "source": [
    "np.testing.assert_allclose(sampling_rate, sampling_frequency[telescope].value, rtol=1/100)"
   ]
  },
  {
   "cell_type": "code",
   "execution_count": 22,
   "metadata": {
    "execution": {
     "iopub.execute_input": "2020-12-09T06:01:29.184475Z",
     "iopub.status.busy": "2020-12-09T06:01:29.183958Z",
     "iopub.status.idle": "2020-12-09T06:01:29.668277Z",
     "shell.execute_reply": "2020-12-09T06:01:29.668677Z"
    },
    "papermill": {
     "duration": 0.519313,
     "end_time": "2020-12-09T06:01:29.668809",
     "exception": false,
     "start_time": "2020-12-09T06:01:29.149496",
     "status": "completed"
    },
    "tags": []
   },
   "outputs": [
    {
     "name": "stderr",
     "output_type": "stream",
     "text": [
      "/global/homes/z/zonca/condajupynersc/lib/python3.7/site-packages/ipykernel_launcher.py:1: RuntimeWarning: divide by zero encountered in log10\n",
      "  \"\"\"Entry point for launching an IPython kernel.\n",
      "/global/homes/z/zonca/condajupynersc/lib/python3.7/site-packages/healpy/projaxes.py:920: MatplotlibDeprecationWarning: You are modifying the state of a globally registered colormap. In future versions, you will not be able to modify a registered colormap in-place. To remove this warning, you can make a copy of the colormap first. cmap = copy.copy(mpl.cm.get_cmap(\"viridis\"))\n",
      "  newcm.set_over(newcm(1.0))\n",
      "/global/homes/z/zonca/condajupynersc/lib/python3.7/site-packages/healpy/projaxes.py:921: MatplotlibDeprecationWarning: You are modifying the state of a globally registered colormap. In future versions, you will not be able to modify a registered colormap in-place. To remove this warning, you can make a copy of the colormap first. cmap = copy.copy(mpl.cm.get_cmap(\"viridis\"))\n",
      "  newcm.set_under(bgcolor)\n",
      "/global/homes/z/zonca/condajupynersc/lib/python3.7/site-packages/healpy/projaxes.py:922: MatplotlibDeprecationWarning: You are modifying the state of a globally registered colormap. In future versions, you will not be able to modify a registered colormap in-place. To remove this warning, you can make a copy of the colormap first. cmap = copy.copy(mpl.cm.get_cmap(\"viridis\"))\n",
      "  newcm.set_bad(badcolor)\n",
      "/global/homes/z/zonca/condajupynersc/lib/python3.7/site-packages/healpy/projaxes.py:211: MatplotlibDeprecationWarning: Passing parameters norm and vmin/vmax simultaneously is deprecated since 3.3 and will become an error two minor releases later. Please pass vmin/vmax directly to the norm when creating it.\n",
      "  **kwds\n"
     ]
    },
    {
     "data": {
      "image/png": "[encoded data removed]",
      "text/plain": [
       "<Figure size 612x388.8 with 2 Axes>"
      ]
     },
     "metadata": {
      "needs_background": "light"
     },
     "output_type": "display_data"
    }
   ],
   "source": [
    "log_hitmap = np.log10(hitmap)\n",
    "log_hitmap[np.isinf(log_hitmap)] = hp.UNSEEN\n",
    "hp.mollview(log_hitmap, unit=\"log10(samples)\", title=f\"Hitmap {ch}\")\n",
    "plt.savefig(f\"plots/hitmap_{channel}_{site}_1_of_{nsplits}.png\")"
   ]
  },
  {
   "cell_type": "code",
   "execution_count": 23,
   "metadata": {
    "execution": {
     "iopub.execute_input": "2020-12-09T06:01:29.735645Z",
     "iopub.status.busy": "2020-12-09T06:01:29.735112Z",
     "iopub.status.idle": "2020-12-09T06:01:29.849215Z",
     "shell.execute_reply": "2020-12-09T06:01:29.849787Z"
    },
    "papermill": {
     "duration": 0.149195,
     "end_time": "2020-12-09T06:01:29.849974",
     "exception": false,
     "start_time": "2020-12-09T06:01:29.700779",
     "status": "completed"
    },
    "tags": []
   },
   "outputs": [],
   "source": [
    "wcov = hp.read_map(local_path / dataset / ch / f\"cmbs4_wcov_{ch}_nside{nside}_1_of_{nsplits}.fits\", (3))"
   ]
  },
  {
   "cell_type": "code",
   "execution_count": 24,
   "metadata": {
    "execution": {
     "iopub.execute_input": "2020-12-09T06:01:29.917598Z",
     "iopub.status.busy": "2020-12-09T06:01:29.917094Z",
     "iopub.status.idle": "2020-12-09T06:01:29.919659Z",
     "shell.execute_reply": "2020-12-09T06:01:29.920096Z"
    },
    "papermill": {
     "duration": 0.03722,
     "end_time": "2020-12-09T06:01:29.920222",
     "exception": false,
     "start_time": "2020-12-09T06:01:29.883002",
     "status": "completed"
    },
    "tags": []
   },
   "outputs": [
    {
     "data": {
      "text/plain": [
       "(3145728,)"
      ]
     },
     "execution_count": 24,
     "metadata": {},
     "output_type": "execute_result"
    }
   ],
   "source": [
    "wcov.shape"
   ]
  },
  {
   "cell_type": "code",
   "execution_count": 25,
   "metadata": {
    "execution": {
     "iopub.execute_input": "2020-12-09T06:01:29.988464Z",
     "iopub.status.busy": "2020-12-09T06:01:29.987976Z",
     "iopub.status.idle": "2020-12-09T06:01:29.989695Z",
     "shell.execute_reply": "2020-12-09T06:01:29.990089Z"
    },
    "papermill": {
     "duration": 0.037673,
     "end_time": "2020-12-09T06:01:29.990216",
     "exception": false,
     "start_time": "2020-12-09T06:01:29.952543",
     "status": "completed"
    },
    "tags": []
   },
   "outputs": [],
   "source": [
    "import astropy.units as u"
   ]
  },
  {
   "cell_type": "code",
   "execution_count": 26,
   "metadata": {
    "execution": {
     "iopub.execute_input": "2020-12-09T06:01:30.062205Z",
     "iopub.status.busy": "2020-12-09T06:01:30.061699Z",
     "iopub.status.idle": "2020-12-09T06:01:30.064401Z",
     "shell.execute_reply": "2020-12-09T06:01:30.064823Z"
    },
    "papermill": {
     "duration": 0.0413,
     "end_time": "2020-12-09T06:01:30.064958",
     "exception": false,
     "start_time": "2020-12-09T06:01:30.023658",
     "status": "completed"
    },
    "tags": []
   },
   "outputs": [],
   "source": [
    "channel_NET = s4[channel].attrs[\"NET_uKsqrts\"] * u.uK * u.s ** .5"
   ]
  },
  {
   "cell_type": "code",
   "execution_count": 27,
   "metadata": {
    "execution": {
     "iopub.execute_input": "2020-12-09T06:01:30.138557Z",
     "iopub.status.busy": "2020-12-09T06:01:30.138037Z",
     "iopub.status.idle": "2020-12-09T06:01:30.140330Z",
     "shell.execute_reply": "2020-12-09T06:01:30.139917Z"
    },
    "papermill": {
     "duration": 0.040633,
     "end_time": "2020-12-09T06:01:30.140430",
     "exception": false,
     "start_time": "2020-12-09T06:01:30.099797",
     "status": "completed"
    },
    "tags": []
   },
   "outputs": [],
   "source": [
    "if telescope == \"LAT\" and site==\"pole\":\n",
    "    channel_NET = s4[channel].attrs[\"pole_NET_uKsqrts\"] * u.uK * u.s ** .5"
   ]
  },
  {
   "cell_type": "code",
   "execution_count": 28,
   "metadata": {
    "execution": {
     "iopub.execute_input": "2020-12-09T06:01:30.216597Z",
     "iopub.status.busy": "2020-12-09T06:01:30.216042Z",
     "iopub.status.idle": "2020-12-09T06:01:30.279406Z",
     "shell.execute_reply": "2020-12-09T06:01:30.283927Z"
    },
    "papermill": {
     "duration": 0.109579,
     "end_time": "2020-12-09T06:01:30.284080",
     "exception": false,
     "start_time": "2020-12-09T06:01:30.174501",
     "status": "completed"
    },
    "tags": []
   },
   "outputs": [],
   "source": [
    "variance_QQ = wcov * u.K ** 2 * (hitmap / sampling_frequency[telescope]) "
   ]
  },
  {
   "cell_type": "code",
   "execution_count": 29,
   "metadata": {
    "execution": {
     "iopub.execute_input": "2020-12-09T06:01:30.361166Z",
     "iopub.status.busy": "2020-12-09T06:01:30.360624Z",
     "iopub.status.idle": "2020-12-09T06:01:30.369305Z",
     "shell.execute_reply": "2020-12-09T06:01:30.369717Z"
    },
    "papermill": {
     "duration": 0.049168,
     "end_time": "2020-12-09T06:01:30.369852",
     "exception": false,
     "start_time": "2020-12-09T06:01:30.320684",
     "status": "completed"
    },
    "tags": []
   },
   "outputs": [],
   "source": [
    "assert (variance_QQ.value == hp.UNSEEN).sum() == 0"
   ]
  },
  {
   "cell_type": "code",
   "execution_count": 30,
   "metadata": {
    "execution": {
     "iopub.execute_input": "2020-12-09T06:01:30.475168Z",
     "iopub.status.busy": "2020-12-09T06:01:30.474624Z",
     "iopub.status.idle": "2020-12-09T06:01:30.494948Z",
     "shell.execute_reply": "2020-12-09T06:01:30.495358Z"
    },
    "papermill": {
     "duration": 0.061424,
     "end_time": "2020-12-09T06:01:30.495497",
     "exception": false,
     "start_time": "2020-12-09T06:01:30.434073",
     "status": "completed"
    },
    "tags": []
   },
   "outputs": [],
   "source": [
    "full_mission_NET = np.sqrt(np.median(variance_QQ[hitmap != 0]))"
   ]
  },
  {
   "cell_type": "code",
   "execution_count": 31,
   "metadata": {
    "execution": {
     "iopub.execute_input": "2020-12-09T06:01:30.571205Z",
     "iopub.status.busy": "2020-12-09T06:01:30.570659Z",
     "iopub.status.idle": "2020-12-09T06:01:30.573239Z",
     "shell.execute_reply": "2020-12-09T06:01:30.573698Z"
    },
    "papermill": {
     "duration": 0.04276,
     "end_time": "2020-12-09T06:01:30.573855",
     "exception": false,
     "start_time": "2020-12-09T06:01:30.531095",
     "status": "completed"
    },
    "tags": []
   },
   "outputs": [
    {
     "data": {
      "text/latex": [
       "$304.74459 \\; \\mathrm{\\mu K\\,s^{1/2}}$"
      ],
      "text/plain": [
       "<Quantity 304.74458955 s(1/2) uK>"
      ]
     },
     "execution_count": 31,
     "metadata": {},
     "output_type": "execute_result"
    }
   ],
   "source": [
    "full_mission_NET.to(channel_NET.unit)"
   ]
  },
  {
   "cell_type": "code",
   "execution_count": 32,
   "metadata": {
    "execution": {
     "iopub.execute_input": "2020-12-09T06:01:30.654845Z",
     "iopub.status.busy": "2020-12-09T06:01:30.654286Z",
     "iopub.status.idle": "2020-12-09T06:01:30.658043Z",
     "shell.execute_reply": "2020-12-09T06:01:30.657613Z"
    },
    "papermill": {
     "duration": 0.047046,
     "end_time": "2020-12-09T06:01:30.658169",
     "exception": false,
     "start_time": "2020-12-09T06:01:30.611123",
     "status": "completed"
    },
    "tags": []
   },
   "outputs": [
    {
     "data": {
      "text/latex": [
       "$224 \\; \\mathrm{\\mu K\\,s^{1/2}}$"
      ],
      "text/plain": [
       "<Quantity 224. s(1/2) uK>"
      ]
     },
     "execution_count": 32,
     "metadata": {},
     "output_type": "execute_result"
    }
   ],
   "source": [
    "channel_NET"
   ]
  },
  {
   "cell_type": "code",
   "execution_count": 33,
   "metadata": {
    "execution": {
     "iopub.execute_input": "2020-12-09T06:01:30.737043Z",
     "iopub.status.busy": "2020-12-09T06:01:30.736488Z",
     "iopub.status.idle": "2020-12-09T06:01:30.738663Z",
     "shell.execute_reply": "2020-12-09T06:01:30.739059Z"
    },
    "papermill": {
     "duration": 0.045152,
     "end_time": "2020-12-09T06:01:30.739229",
     "exception": false,
     "start_time": "2020-12-09T06:01:30.694077",
     "status": "completed"
    },
    "tags": []
   },
   "outputs": [
    {
     "data": {
      "text/latex": [
       "$215.48697 \\; \\mathrm{\\mu K\\,s^{1/2}}$"
      ],
      "text/plain": [
       "<Quantity 215.4869658 s(1/2) uK>"
      ]
     },
     "execution_count": 33,
     "metadata": {},
     "output_type": "execute_result"
    }
   ],
   "source": [
    "(full_mission_NET/np.sqrt(2)).to(channel_NET.unit)"
   ]
  },
  {
   "cell_type": "code",
   "execution_count": 34,
   "metadata": {
    "execution": {
     "iopub.execute_input": "2020-12-09T06:01:30.814487Z",
     "iopub.status.busy": "2020-12-09T06:01:30.813932Z",
     "iopub.status.idle": "2020-12-09T06:01:30.816375Z",
     "shell.execute_reply": "2020-12-09T06:01:30.815917Z"
    },
    "papermill": {
     "duration": 0.042401,
     "end_time": "2020-12-09T06:01:30.816486",
     "exception": false,
     "start_time": "2020-12-09T06:01:30.774085",
     "status": "completed"
    },
    "tags": []
   },
   "outputs": [],
   "source": [
    "assert_quantity_allclose(full_mission_NET, channel_NET*np.sqrt(2), rtol=10/100) "
   ]
  },
  {
   "cell_type": "code",
   "execution_count": 35,
   "metadata": {
    "execution": {
     "iopub.execute_input": "2020-12-09T06:01:30.896583Z",
     "iopub.status.busy": "2020-12-09T06:01:30.896095Z",
     "iopub.status.idle": "2020-12-09T06:01:30.905350Z",
     "shell.execute_reply": "2020-12-09T06:01:30.905733Z"
    },
    "papermill": {
     "duration": 0.051281,
     "end_time": "2020-12-09T06:01:30.905874",
     "exception": false,
     "start_time": "2020-12-09T06:01:30.854593",
     "status": "completed"
    },
    "tags": []
   },
   "outputs": [],
   "source": [
    "sky_fraction = (hitmap > 0).sum() / len(hitmap)"
   ]
  },
  {
   "cell_type": "code",
   "execution_count": 36,
   "metadata": {
    "execution": {
     "iopub.execute_input": "2020-12-09T06:01:30.984318Z",
     "iopub.status.busy": "2020-12-09T06:01:30.983726Z",
     "iopub.status.idle": "2020-12-09T06:01:30.986938Z",
     "shell.execute_reply": "2020-12-09T06:01:30.986476Z"
    },
    "papermill": {
     "duration": 0.045312,
     "end_time": "2020-12-09T06:01:30.987053",
     "exception": false,
     "start_time": "2020-12-09T06:01:30.941741",
     "status": "completed"
    },
    "tags": []
   },
   "outputs": [
    {
     "data": {
      "text/plain": [
       "0.43964417775472003"
      ]
     },
     "execution_count": 36,
     "metadata": {},
     "output_type": "execute_result"
    }
   ],
   "source": [
    "sky_fraction"
   ]
  },
  {
   "cell_type": "code",
   "execution_count": 37,
   "metadata": {
    "execution": {
     "iopub.execute_input": "2020-12-09T06:01:31.065663Z",
     "iopub.status.busy": "2020-12-09T06:01:31.065140Z",
     "iopub.status.idle": "2020-12-09T06:01:31.066766Z",
     "shell.execute_reply": "2020-12-09T06:01:31.067201Z"
    },
    "papermill": {
     "duration": 0.042622,
     "end_time": "2020-12-09T06:01:31.067339",
     "exception": false,
     "start_time": "2020-12-09T06:01:31.024717",
     "status": "completed"
    },
    "tags": []
   },
   "outputs": [],
   "source": [
    "pixarea = hp.nside2pixarea(nside)"
   ]
  },
  {
   "cell_type": "code",
   "execution_count": 38,
   "metadata": {
    "execution": {
     "iopub.execute_input": "2020-12-09T06:01:31.146005Z",
     "iopub.status.busy": "2020-12-09T06:01:31.145526Z",
     "iopub.status.idle": "2020-12-09T06:01:31.158617Z",
     "shell.execute_reply": "2020-12-09T06:01:31.159034Z"
    },
    "papermill": {
     "duration": 0.054347,
     "end_time": "2020-12-09T06:01:31.159180",
     "exception": false,
     "start_time": "2020-12-09T06:01:31.104833",
     "status": "completed"
    },
    "tags": []
   },
   "outputs": [
    {
     "data": {
      "text/plain": [
       "9.265561283046269e-15"
      ]
     },
     "execution_count": 38,
     "metadata": {},
     "output_type": "execute_result"
    }
   ],
   "source": [
    "np.mean(wcov[hitmap > 0])* pixarea"
   ]
  },
  {
   "cell_type": "code",
   "execution_count": 39,
   "metadata": {
    "execution": {
     "iopub.execute_input": "2020-12-09T06:01:31.240055Z",
     "iopub.status.busy": "2020-12-09T06:01:31.239496Z",
     "iopub.status.idle": "2020-12-09T06:01:31.248350Z",
     "shell.execute_reply": "2020-12-09T06:01:31.248784Z"
    },
    "papermill": {
     "duration": 0.052152,
     "end_time": "2020-12-09T06:01:31.248924",
     "exception": false,
     "start_time": "2020-12-09T06:01:31.196772",
     "status": "completed"
    },
    "tags": []
   },
   "outputs": [],
   "source": [
    "wcov [ wcov == hp.UNSEEN] = 0"
   ]
  },
  {
   "cell_type": "markdown",
   "metadata": {
    "papermill": {
     "duration": 0.037918,
     "end_time": "2020-12-09T06:01:31.324903",
     "exception": false,
     "start_time": "2020-12-09T06:01:31.286985",
     "status": "completed"
    },
    "tags": []
   },
   "source": [
    "## Atmosphere"
   ]
  },
  {
   "cell_type": "code",
   "execution_count": 40,
   "metadata": {
    "execution": {
     "iopub.execute_input": "2020-12-09T06:01:31.403516Z",
     "iopub.status.busy": "2020-12-09T06:01:31.402987Z",
     "iopub.status.idle": "2020-12-09T06:01:31.404822Z",
     "shell.execute_reply": "2020-12-09T06:01:31.405268Z"
    },
    "papermill": {
     "duration": 0.04306,
     "end_time": "2020-12-09T06:01:31.405411",
     "exception": false,
     "start_time": "2020-12-09T06:01:31.362351",
     "status": "completed"
    },
    "tags": []
   },
   "outputs": [],
   "source": [
    "atmosphere_filename = Path(base_folder) / \"00000000\" / f\"{site}_atmosphere_{telescope}_{channel}_filtered_telescope_all_time_all_bmap.fits\""
   ]
  },
  {
   "cell_type": "code",
   "execution_count": 41,
   "metadata": {
    "execution": {
     "iopub.execute_input": "2020-12-09T06:01:31.486271Z",
     "iopub.status.busy": "2020-12-09T06:01:31.485730Z",
     "iopub.status.idle": "2020-12-09T06:01:32.221480Z",
     "shell.execute_reply": "2020-12-09T06:01:32.222144Z"
    },
    "papermill": {
     "duration": 0.778413,
     "end_time": "2020-12-09T06:01:32.222345",
     "exception": false,
     "start_time": "2020-12-09T06:01:31.443932",
     "status": "completed"
    },
    "tags": []
   },
   "outputs": [
    {
     "name": "stderr",
     "output_type": "stream",
     "text": [
      "/global/homes/z/zonca/condajupynersc/lib/python3.7/site-packages/healpy/fitsfunc.py:400: UserWarning: ORDERING = NESTED in fits file\n",
      "  warnings.warn(\"ORDERING = {0:s} in fits file\".format(ordering))\n",
      "/global/homes/z/zonca/condajupynersc/lib/python3.7/site-packages/healpy/fitsfunc.py:486: UserWarning: Ordering converted to RING\n",
      "  warnings.warn(\"Ordering converted to RING\")\n"
     ]
    }
   ],
   "source": [
    "input_atmophere = hp.ma(hp.read_map(atmosphere_filename, (0,1,2)))"
   ]
  },
  {
   "cell_type": "code",
   "execution_count": 42,
   "metadata": {
    "execution": {
     "iopub.execute_input": "2020-12-09T06:01:32.350595Z",
     "iopub.status.busy": "2020-12-09T06:01:32.350047Z",
     "iopub.status.idle": "2020-12-09T06:01:32.380357Z",
     "shell.execute_reply": "2020-12-09T06:01:32.380930Z"
    },
    "papermill": {
     "duration": 0.092161,
     "end_time": "2020-12-09T06:01:32.381109",
     "exception": false,
     "start_time": "2020-12-09T06:01:32.288948",
     "status": "completed"
    },
    "tags": []
   },
   "outputs": [],
   "source": [
    "sqrt_hitmap = hitmap.copy()\n",
    "sqrt_hitmap[hitmap>0] = np.sqrt(hitmap[hitmap>0])"
   ]
  },
  {
   "cell_type": "code",
   "execution_count": 43,
   "metadata": {
    "execution": {
     "iopub.execute_input": "2020-12-09T06:01:32.512696Z",
     "iopub.status.busy": "2020-12-09T06:01:32.512177Z",
     "iopub.status.idle": "2020-12-09T06:01:34.924872Z",
     "shell.execute_reply": "2020-12-09T06:01:34.924424Z"
    },
    "papermill": {
     "duration": 2.476204,
     "end_time": "2020-12-09T06:01:34.924987",
     "exception": false,
     "start_time": "2020-12-09T06:01:32.448783",
     "status": "completed"
    },
    "tags": []
   },
   "outputs": [],
   "source": [
    "atmo_cl = \\\n",
    "hp.anafast(input_atmophere * sqrt_hitmap, use_pixel_weights=True) / np.mean(hitmap) # / sky_fraction"
   ]
  },
  {
   "cell_type": "code",
   "execution_count": 44,
   "metadata": {
    "execution": {
     "iopub.execute_input": "2020-12-09T06:01:35.006232Z",
     "iopub.status.busy": "2020-12-09T06:01:35.005659Z",
     "iopub.status.idle": "2020-12-09T06:01:35.008570Z",
     "shell.execute_reply": "2020-12-09T06:01:35.008148Z"
    },
    "papermill": {
     "duration": 0.046817,
     "end_time": "2020-12-09T06:01:35.008698",
     "exception": false,
     "start_time": "2020-12-09T06:01:34.961881",
     "status": "completed"
    },
    "tags": []
   },
   "outputs": [],
   "source": [
    "from s4_design_sim_tool.atmosphere import get_telecope_years"
   ]
  },
  {
   "cell_type": "code",
   "execution_count": 45,
   "metadata": {
    "execution": {
     "iopub.execute_input": "2020-12-09T06:01:35.089586Z",
     "iopub.status.busy": "2020-12-09T06:01:35.089035Z",
     "iopub.status.idle": "2020-12-09T06:01:35.091855Z",
     "shell.execute_reply": "2020-12-09T06:01:35.091384Z"
    },
    "papermill": {
     "duration": 0.045058,
     "end_time": "2020-12-09T06:01:35.091970",
     "exception": false,
     "start_time": "2020-12-09T06:01:35.046912",
     "status": "completed"
    },
    "tags": []
   },
   "outputs": [],
   "source": [
    "telescope_years = get_telecope_years(config, site, channel)"
   ]
  },
  {
   "cell_type": "code",
   "execution_count": 46,
   "metadata": {
    "execution": {
     "iopub.execute_input": "2020-12-09T06:01:35.175282Z",
     "iopub.status.busy": "2020-12-09T06:01:35.174681Z",
     "iopub.status.idle": "2020-12-09T06:01:35.177363Z",
     "shell.execute_reply": "2020-12-09T06:01:35.177783Z"
    },
    "papermill": {
     "duration": 0.048582,
     "end_time": "2020-12-09T06:01:35.177910",
     "exception": false,
     "start_time": "2020-12-09T06:01:35.129328",
     "status": "completed"
    },
    "tags": []
   },
   "outputs": [
    {
     "data": {
      "text/plain": [
       "7"
      ]
     },
     "execution_count": 46,
     "metadata": {},
     "output_type": "execute_result"
    }
   ],
   "source": [
    "telescope_years"
   ]
  },
  {
   "cell_type": "code",
   "execution_count": 47,
   "metadata": {
    "execution": {
     "iopub.execute_input": "2020-12-09T06:01:35.263057Z",
     "iopub.status.busy": "2020-12-09T06:01:35.262508Z",
     "iopub.status.idle": "2020-12-09T06:01:35.264211Z",
     "shell.execute_reply": "2020-12-09T06:01:35.264637Z"
    },
    "papermill": {
     "duration": 0.045439,
     "end_time": "2020-12-09T06:01:35.264788",
     "exception": false,
     "start_time": "2020-12-09T06:01:35.219349",
     "status": "completed"
    },
    "tags": []
   },
   "outputs": [],
   "source": [
    "from s4_design_sim_tool.core import simulations_observing_efficiency"
   ]
  },
  {
   "cell_type": "code",
   "execution_count": 48,
   "metadata": {
    "execution": {
     "iopub.execute_input": "2020-12-09T06:01:35.346602Z",
     "iopub.status.busy": "2020-12-09T06:01:35.345985Z",
     "iopub.status.idle": "2020-12-09T06:01:35.349712Z",
     "shell.execute_reply": "2020-12-09T06:01:35.349287Z"
    },
    "papermill": {
     "duration": 0.046234,
     "end_time": "2020-12-09T06:01:35.349814",
     "exception": false,
     "start_time": "2020-12-09T06:01:35.303580",
     "status": "completed"
    },
    "tags": []
   },
   "outputs": [
    {
     "data": {
      "text/plain": [
       "{'pole': {'SAT': 0.3931149305555555, 'LAT': 0.321544537037037},\n",
       " 'chile': {'SAT': 0.8656164351851852, 'LAT': 0.917306712962963}}"
      ]
     },
     "execution_count": 48,
     "metadata": {},
     "output_type": "execute_result"
    }
   ],
   "source": [
    "simulations_observing_efficiency"
   ]
  },
  {
   "cell_type": "code",
   "execution_count": 49,
   "metadata": {
    "execution": {
     "iopub.execute_input": "2020-12-09T06:01:35.430126Z",
     "iopub.status.busy": "2020-12-09T06:01:35.429613Z",
     "iopub.status.idle": "2020-12-09T06:01:35.431593Z",
     "shell.execute_reply": "2020-12-09T06:01:35.432036Z"
    },
    "papermill": {
     "duration": 0.04561,
     "end_time": "2020-12-09T06:01:35.432179",
     "exception": false,
     "start_time": "2020-12-09T06:01:35.386569",
     "status": "completed"
    },
    "tags": []
   },
   "outputs": [],
   "source": [
    "atmo_cl *= 10 / 365.25\n",
    "atmo_cl *= simulations_observing_efficiency[site.lower()].get(telescope, 1) / config[\"experiment\"][\"observing_efficiency\"]                                                                    \n",
    "atmo_cl /= telescope_years"
   ]
  },
  {
   "cell_type": "markdown",
   "metadata": {
    "papermill": {
     "duration": 0.038136,
     "end_time": "2020-12-09T06:01:35.509305",
     "exception": false,
     "start_time": "2020-12-09T06:01:35.471169",
     "status": "completed"
    },
    "tags": []
   },
   "source": [
    "## Noise"
   ]
  },
  {
   "cell_type": "code",
   "execution_count": 50,
   "metadata": {
    "execution": {
     "iopub.execute_input": "2020-12-09T06:01:35.587049Z",
     "iopub.status.busy": "2020-12-09T06:01:35.586503Z",
     "iopub.status.idle": "2020-12-09T06:01:35.588840Z",
     "shell.execute_reply": "2020-12-09T06:01:35.588347Z"
    },
    "papermill": {
     "duration": 0.042967,
     "end_time": "2020-12-09T06:01:35.588949",
     "exception": false,
     "start_time": "2020-12-09T06:01:35.545982",
     "status": "completed"
    },
    "tags": []
   },
   "outputs": [],
   "source": [
    "noise_filename = Path(base_folder) / \"00000000\" / f\"{site}_noise_{telescope}_{channel}_filtered_telescope_all_time_all_bmap.fits\""
   ]
  },
  {
   "cell_type": "code",
   "execution_count": 51,
   "metadata": {
    "execution": {
     "iopub.execute_input": "2020-12-09T06:01:35.669677Z",
     "iopub.status.busy": "2020-12-09T06:01:35.669125Z",
     "iopub.status.idle": "2020-12-09T06:01:35.671482Z",
     "shell.execute_reply": "2020-12-09T06:01:35.670997Z"
    },
    "papermill": {
     "duration": 0.044115,
     "end_time": "2020-12-09T06:01:35.671615",
     "exception": false,
     "start_time": "2020-12-09T06:01:35.627500",
     "status": "completed"
    },
    "tags": []
   },
   "outputs": [],
   "source": [
    "#input_noise = hp.ma(hp.read_map(noise_filename, (0,1,2)))"
   ]
  },
  {
   "cell_type": "code",
   "execution_count": 52,
   "metadata": {
    "execution": {
     "iopub.execute_input": "2020-12-09T06:01:35.747891Z",
     "iopub.status.busy": "2020-12-09T06:01:35.747315Z",
     "iopub.status.idle": "2020-12-09T06:01:35.749947Z",
     "shell.execute_reply": "2020-12-09T06:01:35.749535Z"
    },
    "papermill": {
     "duration": 0.041128,
     "end_time": "2020-12-09T06:01:35.750047",
     "exception": false,
     "start_time": "2020-12-09T06:01:35.708919",
     "status": "completed"
    },
    "tags": []
   },
   "outputs": [],
   "source": [
    "#noise_cl = hp.anafast(input_noise * sqrt_hitmap, use_pixel_weights=True) / np.mean(hitmap) / sky_fraction"
   ]
  },
  {
   "cell_type": "code",
   "execution_count": 53,
   "metadata": {
    "execution": {
     "iopub.execute_input": "2020-12-09T06:01:35.825976Z",
     "iopub.status.busy": "2020-12-09T06:01:35.825462Z",
     "iopub.status.idle": "2020-12-09T06:01:35.827721Z",
     "shell.execute_reply": "2020-12-09T06:01:35.827244Z"
    },
    "papermill": {
     "duration": 0.042084,
     "end_time": "2020-12-09T06:01:35.827834",
     "exception": false,
     "start_time": "2020-12-09T06:01:35.785750",
     "status": "completed"
    },
    "tags": []
   },
   "outputs": [],
   "source": [
    "del sqrt_hitmap"
   ]
  },
  {
   "cell_type": "code",
   "execution_count": 54,
   "metadata": {
    "execution": {
     "iopub.execute_input": "2020-12-09T06:01:35.909313Z",
     "iopub.status.busy": "2020-12-09T06:01:35.908807Z",
     "iopub.status.idle": "2020-12-09T06:01:35.911010Z",
     "shell.execute_reply": "2020-12-09T06:01:35.911388Z"
    },
    "papermill": {
     "duration": 0.045102,
     "end_time": "2020-12-09T06:01:35.911512",
     "exception": false,
     "start_time": "2020-12-09T06:01:35.866410",
     "status": "completed"
    },
    "tags": []
   },
   "outputs": [],
   "source": [
    "from s4_design_sim_tool.noise import get_thinfp\n",
    "thinfp = get_thinfp(channel)"
   ]
  },
  {
   "cell_type": "code",
   "execution_count": 55,
   "metadata": {
    "execution": {
     "iopub.execute_input": "2020-12-09T06:01:35.992268Z",
     "iopub.status.busy": "2020-12-09T06:01:35.991701Z",
     "iopub.status.idle": "2020-12-09T06:01:35.994919Z",
     "shell.execute_reply": "2020-12-09T06:01:35.995340Z"
    },
    "papermill": {
     "duration": 0.047508,
     "end_time": "2020-12-09T06:01:35.995475",
     "exception": false,
     "start_time": "2020-12-09T06:01:35.947967",
     "status": "completed"
    },
    "tags": []
   },
   "outputs": [
    {
     "data": {
      "text/html": [
       "&lt;Column name=&apos;thinfp&apos; dtype=&apos;int64&apos; length=1&gt;\n",
       "<table>\n",
       "<tr><td>1</td></tr>\n",
       "</table>"
      ],
      "text/plain": [
       "<Column name='thinfp' dtype='int64' length=1>\n",
       "1"
      ]
     },
     "execution_count": 55,
     "metadata": {},
     "output_type": "execute_result"
    }
   ],
   "source": [
    "thinfp"
   ]
  },
  {
   "cell_type": "code",
   "execution_count": 56,
   "metadata": {
    "execution": {
     "iopub.execute_input": "2020-12-09T06:01:36.082373Z",
     "iopub.status.busy": "2020-12-09T06:01:36.081793Z",
     "iopub.status.idle": "2020-12-09T06:01:36.084160Z",
     "shell.execute_reply": "2020-12-09T06:01:36.083669Z"
    },
    "papermill": {
     "duration": 0.045575,
     "end_time": "2020-12-09T06:01:36.084262",
     "exception": false,
     "start_time": "2020-12-09T06:01:36.038687",
     "status": "completed"
    },
    "tags": []
   },
   "outputs": [],
   "source": [
    "#noise_cl *= 10 / 365.25\n",
    "#noise_cl *= simulations_observing_efficiency[site.lower()].get(telescope, 1) / config[\"experiment\"][\"observing_efficiency\"]                                                                    \n",
    "#noise_cl /= tube_years\n",
    "#noise_cl /= thinfp"
   ]
  },
  {
   "cell_type": "code",
   "execution_count": 57,
   "metadata": {
    "execution": {
     "iopub.execute_input": "2020-12-09T06:01:36.176114Z",
     "iopub.status.busy": "2020-12-09T06:01:36.175435Z",
     "iopub.status.idle": "2020-12-09T06:01:36.190363Z",
     "shell.execute_reply": "2020-12-09T06:01:36.189885Z"
    },
    "papermill": {
     "duration": 0.060908,
     "end_time": "2020-12-09T06:01:36.190485",
     "exception": false,
     "start_time": "2020-12-09T06:01:36.129577",
     "status": "completed"
    },
    "tags": []
   },
   "outputs": [],
   "source": [
    "white_noise_Cl = channel_NET**2 \\\n",
    "/ (hitmap.sum() / sampling_frequency[telescope] / (hitmap>0).sum()) * pixarea # / sky_fraction"
   ]
  },
  {
   "cell_type": "code",
   "execution_count": 58,
   "metadata": {
    "execution": {
     "iopub.execute_input": "2020-12-09T06:01:36.282897Z",
     "iopub.status.busy": "2020-12-09T06:01:36.282344Z",
     "iopub.status.idle": "2020-12-09T06:01:36.284884Z",
     "shell.execute_reply": "2020-12-09T06:01:36.285261Z"
    },
    "papermill": {
     "duration": 0.052101,
     "end_time": "2020-12-09T06:01:36.285397",
     "exception": false,
     "start_time": "2020-12-09T06:01:36.233296",
     "status": "completed"
    },
    "tags": []
   },
   "outputs": [
    {
     "data": {
      "text/latex": [
       "$1.4838211 \\times 10^{-16} \\; \\mathrm{K^{2}}$"
      ],
      "text/plain": [
       "<Quantity 1.48382115e-16 K2>"
      ]
     },
     "execution_count": 58,
     "metadata": {},
     "output_type": "execute_result"
    }
   ],
   "source": [
    "white_noise_Cl.decompose()"
   ]
  },
  {
   "cell_type": "code",
   "execution_count": 59,
   "metadata": {
    "execution": {
     "iopub.execute_input": "2020-12-09T06:01:36.370314Z",
     "iopub.status.busy": "2020-12-09T06:01:36.369799Z",
     "iopub.status.idle": "2020-12-09T06:01:36.926902Z",
     "shell.execute_reply": "2020-12-09T06:01:36.926249Z"
    },
    "papermill": {
     "duration": 0.601486,
     "end_time": "2020-12-09T06:01:36.927047",
     "exception": false,
     "start_time": "2020-12-09T06:01:36.325561",
     "status": "completed"
    },
    "tags": []
   },
   "outputs": [],
   "source": [
    "import seaborn as sns"
   ]
  },
  {
   "cell_type": "code",
   "execution_count": 60,
   "metadata": {
    "execution": {
     "iopub.execute_input": "2020-12-09T06:01:37.014922Z",
     "iopub.status.busy": "2020-12-09T06:01:37.014434Z",
     "iopub.status.idle": "2020-12-09T06:01:37.016340Z",
     "shell.execute_reply": "2020-12-09T06:01:37.016720Z"
    },
    "papermill": {
     "duration": 0.045932,
     "end_time": "2020-12-09T06:01:37.016836",
     "exception": false,
     "start_time": "2020-12-09T06:01:36.970904",
     "status": "completed"
    },
    "tags": []
   },
   "outputs": [],
   "source": [
    "sns.set_style(\"whitegrid\")"
   ]
  },
  {
   "cell_type": "code",
   "execution_count": 61,
   "metadata": {
    "execution": {
     "iopub.execute_input": "2020-12-09T06:01:37.123209Z",
     "iopub.status.busy": "2020-12-09T06:01:37.119658Z",
     "iopub.status.idle": "2020-12-09T06:01:39.715159Z",
     "shell.execute_reply": "2020-12-09T06:01:39.715625Z"
    },
    "papermill": {
     "duration": 2.65813,
     "end_time": "2020-12-09T06:01:39.715767",
     "exception": false,
     "start_time": "2020-12-09T06:01:37.057637",
     "status": "completed"
    },
    "tags": []
   },
   "outputs": [
    {
     "data": {
      "image/png": "[encoded data removed]",
      "text/plain": [
       "<Figure size 576x360 with 1 Axes>"
      ]
     },
     "metadata": {},
     "output_type": "display_data"
    }
   ],
   "source": [
    "plt.figure(figsize=(8,5))\n",
    "\n",
    "pols = [\"TT\", \"EE\", \"BB\"]\n",
    "\n",
    "for i, pol in enumerate(pols):\n",
    "    for split in range(1, nsplits+1):\n",
    "        plt.loglog(C_ell[ch][split][i], alpha=.8, label=pol)\n",
    "\n",
    "for i, pol in enumerate(pols):\n",
    "    plt.loglog(atmo_cl[i]*nsplits, alpha=.8, ls=\"--\", label=f\"atmo {pol}\")\n",
    "\n",
    "#for i, pol in enumerate(pols):\n",
    "#    plt.loglog(noise_cl[i], alpha=.8, ls=\"-.\", label=f\"noise {pol}\")\n",
    "\n",
    "plt.axhline(white_noise_Cl.to_value(u.K**2), ls=\":\",\n",
    "           label=\"white noise T\", color=\"black\")\n",
    "plt.axhline(white_noise_Cl.to_value(u.K**2)*2, ls=\":\",\n",
    "           label=\"white noise P\", color=\"grey\")\n",
    "plt.legend()\n",
    "plt.title(f\"Noise + Atmosphere simulations spectra for {ch}\")\n",
    "plt.ylabel(\"$C_\\ell [K^2]$\")\n",
    "plt.xlabel(\"$\\ell$\")\n",
    "plt.xlim((10, 3*nside))\n",
    "plt.grid(True)\n",
    "plt.savefig(f\"plots/C_ell_{dataset}_{ch}_{nsplits}.png\");"
   ]
  },
  {
   "cell_type": "code",
   "execution_count": null,
   "metadata": {
    "papermill": {
     "duration": 0.04375,
     "end_time": "2020-12-09T06:01:39.803754",
     "exception": false,
     "start_time": "2020-12-09T06:01:39.760004",
     "status": "completed"
    },
    "tags": []
   },
   "outputs": [],
   "source": []
  }
 ],
 "metadata": {
  "kernelspec": {
   "display_name": "condajupynersc",
   "language": "python",
   "name": "condajupynersc"
  },
  "language_info": {
   "codemirror_mode": {
    "name": "ipython",
    "version": 3
   },
   "file_extension": ".py",
   "mimetype": "text/x-python",
   "name": "python",
   "nbconvert_exporter": "python",
   "pygments_lexer": "ipython3",
   "version": "3.7.0"
  },
  "papermill": {
   "duration": 15.768071,
   "end_time": "2020-12-09T06:01:40.358360",
   "environment_variables": {},
   "exception": null,
   "input_path": "validation_atmo_noise_dec_2020.ipynb",
   "output_path": "validation_notebooks/SAT-LFS2_chile_7.ipynb",
   "parameters": {
    "ch": "SAT-LFS2_chile",
    "nsplits": 7
   },
   "start_time": "2020-12-09T06:01:24.590289",
   "version": "2.1.2"
  }
 },
 "nbformat": 4,
 "nbformat_minor": 4
}