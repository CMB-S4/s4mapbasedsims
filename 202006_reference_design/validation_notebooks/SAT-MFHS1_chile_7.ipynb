{
 "cells": [
  {
   "cell_type": "code",
   "execution_count": 1,
   "metadata": {
    "execution": {
     "iopub.execute_input": "2020-12-09T06:01:42.292614Z",
     "iopub.status.busy": "2020-12-09T06:01:42.292004Z",
     "iopub.status.idle": "2020-12-09T06:01:43.966887Z",
     "shell.execute_reply": "2020-12-09T06:01:43.967416Z"
    },
    "papermill": {
     "duration": 1.709232,
     "end_time": "2020-12-09T06:01:43.967740",
     "exception": false,
     "start_time": "2020-12-09T06:01:42.258508",
     "status": "completed"
    },
    "tags": []
   },
   "outputs": [],
   "source": [
    "import healpy as hp\n",
    "import numpy as np\n",
    "%matplotlib inline\n",
    "import matplotlib.pyplot as plt\n",
    "from pathlib import Path\n",
    "from astropy.tests.helper import assert_quantity_allclose\n",
    "import pickle\n",
    "import sys\n",
    "import os\n",
    "from astropy import units as u"
   ]
  },
  {
   "cell_type": "code",
   "execution_count": 2,
   "metadata": {
    "execution": {
     "iopub.execute_input": "2020-12-09T06:01:44.073611Z",
     "iopub.status.busy": "2020-12-09T06:01:44.072616Z",
     "iopub.status.idle": "2020-12-09T06:01:44.134855Z",
     "shell.execute_reply": "2020-12-09T06:01:44.134183Z"
    },
    "papermill": {
     "duration": 0.128133,
     "end_time": "2020-12-09T06:01:44.135013",
     "exception": false,
     "start_time": "2020-12-09T06:01:44.006880",
     "status": "completed"
    },
    "tags": []
   },
   "outputs": [],
   "source": [
    "import h5py\n",
    "s4 = h5py.File(\"cmbs4_tophat.h5\", mode=\"r\")"
   ]
  },
  {
   "cell_type": "code",
   "execution_count": 3,
   "metadata": {
    "execution": {
     "iopub.execute_input": "2020-12-09T06:01:44.217616Z",
     "iopub.status.busy": "2020-12-09T06:01:44.216576Z",
     "iopub.status.idle": "2020-12-09T06:01:44.218715Z",
     "shell.execute_reply": "2020-12-09T06:01:44.219551Z"
    },
    "papermill": {
     "duration": 0.053301,
     "end_time": "2020-12-09T06:01:44.219855",
     "exception": false,
     "start_time": "2020-12-09T06:01:44.166554",
     "status": "completed"
    },
    "tags": []
   },
   "outputs": [],
   "source": [
    "dataset = \"s4_reference_design_noise_atmo_7splits\""
   ]
  },
  {
   "cell_type": "code",
   "execution_count": 4,
   "metadata": {
    "execution": {
     "iopub.execute_input": "2020-12-09T06:01:44.314425Z",
     "iopub.status.busy": "2020-12-09T06:01:44.313847Z",
     "iopub.status.idle": "2020-12-09T06:01:44.315873Z",
     "shell.execute_reply": "2020-12-09T06:01:44.316346Z"
    },
    "papermill": {
     "duration": 0.034551,
     "end_time": "2020-12-09T06:01:44.316479",
     "exception": false,
     "start_time": "2020-12-09T06:01:44.281928",
     "status": "completed"
    },
    "tags": [
     "parameters"
    ]
   },
   "outputs": [],
   "source": [
    "ch = f\"SAT-HFS1_chile\"\n",
    "nsplits = 1"
   ]
  },
  {
   "cell_type": "code",
   "execution_count": 5,
   "metadata": {
    "execution": {
     "iopub.execute_input": "2020-12-09T06:01:44.374385Z",
     "iopub.status.busy": "2020-12-09T06:01:44.373830Z",
     "iopub.status.idle": "2020-12-09T06:01:44.376357Z",
     "shell.execute_reply": "2020-12-09T06:01:44.375861Z"
    },
    "papermill": {
     "duration": 0.032904,
     "end_time": "2020-12-09T06:01:44.376476",
     "exception": false,
     "start_time": "2020-12-09T06:01:44.343572",
     "status": "completed"
    },
    "tags": [
     "injected-parameters"
    ]
   },
   "outputs": [],
   "source": [
    "# Parameters\n",
    "ch = \"SAT-MFHS1_chile\"\n",
    "nsplits = 7\n"
   ]
  },
  {
   "cell_type": "code",
   "execution_count": 6,
   "metadata": {
    "execution": {
     "iopub.execute_input": "2020-12-09T06:01:44.436939Z",
     "iopub.status.busy": "2020-12-09T06:01:44.436359Z",
     "iopub.status.idle": "2020-12-09T06:01:44.438440Z",
     "shell.execute_reply": "2020-12-09T06:01:44.438887Z"
    },
    "papermill": {
     "duration": 0.034339,
     "end_time": "2020-12-09T06:01:44.439021",
     "exception": false,
     "start_time": "2020-12-09T06:01:44.404682",
     "status": "completed"
    },
    "tags": []
   },
   "outputs": [],
   "source": [
    "if os.path.exists(f\"plots/C_ell_{dataset}_{ch}_{nsplits}.png\"):\n",
    "    sys.exit(0)"
   ]
  },
  {
   "cell_type": "code",
   "execution_count": 7,
   "metadata": {
    "execution": {
     "iopub.execute_input": "2020-12-09T06:01:44.499270Z",
     "iopub.status.busy": "2020-12-09T06:01:44.498739Z",
     "iopub.status.idle": "2020-12-09T06:01:44.500886Z",
     "shell.execute_reply": "2020-12-09T06:01:44.501361Z"
    },
    "papermill": {
     "duration": 0.03448,
     "end_time": "2020-12-09T06:01:44.501491",
     "exception": false,
     "start_time": "2020-12-09T06:01:44.467011",
     "status": "completed"
    },
    "tags": []
   },
   "outputs": [],
   "source": [
    "sampling_frequency = dict(SAT=100*u.Hz, LAT=400*u.Hz)"
   ]
  },
  {
   "cell_type": "code",
   "execution_count": 8,
   "metadata": {
    "execution": {
     "iopub.execute_input": "2020-12-09T06:01:44.558837Z",
     "iopub.status.busy": "2020-12-09T06:01:44.558314Z",
     "iopub.status.idle": "2020-12-09T06:01:44.560321Z",
     "shell.execute_reply": "2020-12-09T06:01:44.560725Z"
    },
    "papermill": {
     "duration": 0.030799,
     "end_time": "2020-12-09T06:01:44.560850",
     "exception": false,
     "start_time": "2020-12-09T06:01:44.530051",
     "status": "completed"
    },
    "tags": []
   },
   "outputs": [],
   "source": [
    "#telescope = \"SAT\"\n",
    "#channel = \"LFS1\"\n",
    "#site = \"pole\""
   ]
  },
  {
   "cell_type": "code",
   "execution_count": 9,
   "metadata": {
    "execution": {
     "iopub.execute_input": "2020-12-09T06:01:44.619707Z",
     "iopub.status.busy": "2020-12-09T06:01:44.619109Z",
     "iopub.status.idle": "2020-12-09T06:01:44.621329Z",
     "shell.execute_reply": "2020-12-09T06:01:44.621753Z"
    },
    "papermill": {
     "duration": 0.034496,
     "end_time": "2020-12-09T06:01:44.621907",
     "exception": false,
     "start_time": "2020-12-09T06:01:44.587411",
     "status": "completed"
    },
    "tags": []
   },
   "outputs": [],
   "source": [
    "telescope = ch.split(\"-\")[0]\n",
    "channel, site= ch.split(\"-\")[1].split(\"_\")"
   ]
  },
  {
   "cell_type": "code",
   "execution_count": 10,
   "metadata": {
    "execution": {
     "iopub.execute_input": "2020-12-09T06:01:44.681622Z",
     "iopub.status.busy": "2020-12-09T06:01:44.681081Z",
     "iopub.status.idle": "2020-12-09T06:01:44.683216Z",
     "shell.execute_reply": "2020-12-09T06:01:44.683646Z"
    },
    "papermill": {
     "duration": 0.033684,
     "end_time": "2020-12-09T06:01:44.683784",
     "exception": false,
     "start_time": "2020-12-09T06:01:44.650100",
     "status": "completed"
    },
    "tags": []
   },
   "outputs": [],
   "source": [
    "local_path = Path(\"output\")\n",
    "project_path = Path(\"/global/project/projectdirs/cmbs4/dm/dstool/output/\")"
   ]
  },
  {
   "cell_type": "code",
   "execution_count": 11,
   "metadata": {
    "execution": {
     "iopub.execute_input": "2020-12-09T06:01:44.740739Z",
     "iopub.status.busy": "2020-12-09T06:01:44.740234Z",
     "iopub.status.idle": "2020-12-09T06:01:44.787266Z",
     "shell.execute_reply": "2020-12-09T06:01:44.787707Z"
    },
    "papermill": {
     "duration": 0.076661,
     "end_time": "2020-12-09T06:01:44.787874",
     "exception": false,
     "start_time": "2020-12-09T06:01:44.711213",
     "status": "completed"
    },
    "tags": []
   },
   "outputs": [],
   "source": [
    "C_ell = pickle.load(open(local_path / dataset / f\"C_ell_{telescope}_{nsplits}.pkl\", \"rb\"))"
   ]
  },
  {
   "cell_type": "code",
   "execution_count": 12,
   "metadata": {
    "execution": {
     "iopub.execute_input": "2020-12-09T06:01:44.848572Z",
     "iopub.status.busy": "2020-12-09T06:01:44.848031Z",
     "iopub.status.idle": "2020-12-09T06:01:44.850878Z",
     "shell.execute_reply": "2020-12-09T06:01:44.851326Z"
    },
    "papermill": {
     "duration": 0.035684,
     "end_time": "2020-12-09T06:01:44.851483",
     "exception": false,
     "start_time": "2020-12-09T06:01:44.815799",
     "status": "completed"
    },
    "tags": []
   },
   "outputs": [
    {
     "data": {
      "text/plain": [
       "('SAT', 'MFHS1', 'chile')"
      ]
     },
     "execution_count": 12,
     "metadata": {},
     "output_type": "execute_result"
    }
   ],
   "source": [
    "telescope, channel, site"
   ]
  },
  {
   "cell_type": "code",
   "execution_count": 13,
   "metadata": {
    "execution": {
     "iopub.execute_input": "2020-12-09T06:01:44.911310Z",
     "iopub.status.busy": "2020-12-09T06:01:44.910779Z",
     "iopub.status.idle": "2020-12-09T06:01:44.913676Z",
     "shell.execute_reply": "2020-12-09T06:01:44.914126Z"
    },
    "papermill": {
     "duration": 0.034362,
     "end_time": "2020-12-09T06:01:44.914266",
     "exception": false,
     "start_time": "2020-12-09T06:01:44.879904",
     "status": "completed"
    },
    "tags": []
   },
   "outputs": [
    {
     "data": {
      "text/plain": [
       "dict_keys(['SAT-HFS1_chile', 'SAT-HFS2_chile', 'SAT-LFS1_chile', 'SAT-LFS2_chile', 'SAT-MFHS1_chile', 'SAT-MFHS2_chile', 'SAT-MFLS1_chile', 'SAT-MFLS2_chile'])"
      ]
     },
     "execution_count": 13,
     "metadata": {},
     "output_type": "execute_result"
    }
   ],
   "source": [
    "C_ell.keys()"
   ]
  },
  {
   "cell_type": "code",
   "execution_count": 14,
   "metadata": {
    "execution": {
     "iopub.execute_input": "2020-12-09T06:01:44.975518Z",
     "iopub.status.busy": "2020-12-09T06:01:44.974975Z",
     "iopub.status.idle": "2020-12-09T06:01:44.977074Z",
     "shell.execute_reply": "2020-12-09T06:01:44.977480Z"
    },
    "papermill": {
     "duration": 0.034413,
     "end_time": "2020-12-09T06:01:44.977624",
     "exception": false,
     "start_time": "2020-12-09T06:01:44.943211",
     "status": "completed"
    },
    "tags": []
   },
   "outputs": [],
   "source": [
    "nside = 4096 if telescope == \"LAT\" else 512"
   ]
  },
  {
   "cell_type": "code",
   "execution_count": 15,
   "metadata": {
    "execution": {
     "iopub.execute_input": "2020-12-09T06:01:45.081398Z",
     "iopub.status.busy": "2020-12-09T06:01:45.080856Z",
     "iopub.status.idle": "2020-12-09T06:01:45.084250Z",
     "shell.execute_reply": "2020-12-09T06:01:45.084695Z"
    },
    "papermill": {
     "duration": 0.053051,
     "end_time": "2020-12-09T06:01:45.084828",
     "exception": false,
     "start_time": "2020-12-09T06:01:45.031777",
     "status": "completed"
    },
    "tags": []
   },
   "outputs": [],
   "source": [
    "from s4_design_sim_tool.core import base_folder"
   ]
  },
  {
   "cell_type": "code",
   "execution_count": 16,
   "metadata": {
    "execution": {
     "iopub.execute_input": "2020-12-09T06:01:45.148586Z",
     "iopub.status.busy": "2020-12-09T06:01:45.148039Z",
     "iopub.status.idle": "2020-12-09T06:01:45.161676Z",
     "shell.execute_reply": "2020-12-09T06:01:45.162296Z"
    },
    "papermill": {
     "duration": 0.047378,
     "end_time": "2020-12-09T06:01:45.162481",
     "exception": false,
     "start_time": "2020-12-09T06:01:45.115103",
     "status": "completed"
    },
    "tags": []
   },
   "outputs": [],
   "source": [
    "from s4_design_sim_tool.cli import parse_config\n",
    "if site == \"chile\" and telescope == \"SAT\":\n",
    "    config = parse_config(f\"{dataset}.toml\", \"chile_sat.toml\")\n",
    "else:\n",
    "    config = parse_config(f\"{dataset}.toml\")"
   ]
  },
  {
   "cell_type": "code",
   "execution_count": 17,
   "metadata": {
    "execution": {
     "iopub.execute_input": "2020-12-09T06:01:45.265622Z",
     "iopub.status.busy": "2020-12-09T06:01:45.265045Z",
     "iopub.status.idle": "2020-12-09T06:01:45.369408Z",
     "shell.execute_reply": "2020-12-09T06:01:45.370002Z"
    },
    "papermill": {
     "duration": 0.160633,
     "end_time": "2020-12-09T06:01:45.370201",
     "exception": false,
     "start_time": "2020-12-09T06:01:45.209568",
     "status": "completed"
    },
    "tags": []
   },
   "outputs": [
    {
     "name": "stderr",
     "output_type": "stream",
     "text": [
      "/global/homes/z/zonca/condajupynersc/lib/python3.7/site-packages/healpy/fitsfunc.py:369: UserWarning: If you are not specifying the input dtype and using the default np.float64 dtype of read_map(), please consider that it will change in a future version to None as to keep the same dtype of the input file: please explicitly set the dtype if it is important to you.\n",
      "  \"If you are not specifying the input dtype and using the default \"\n",
      "/global/homes/z/zonca/condajupynersc/lib/python3.7/site-packages/healpy/fitsfunc.py:391: UserWarning: NSIDE = 512\n",
      "  warnings.warn(\"NSIDE = {0:d}\".format(nside))\n",
      "/global/homes/z/zonca/condajupynersc/lib/python3.7/site-packages/healpy/fitsfunc.py:400: UserWarning: ORDERING = RING in fits file\n",
      "  warnings.warn(\"ORDERING = {0:s} in fits file\".format(ordering))\n",
      "/global/homes/z/zonca/condajupynersc/lib/python3.7/site-packages/healpy/fitsfunc.py:428: UserWarning: INDXSCHM = IMPLICIT\n",
      "  warnings.warn(\"INDXSCHM = {0:s}\".format(schm))\n"
     ]
    }
   ],
   "source": [
    "hitmap = hp.read_map(local_path / dataset / ch / f\"cmbs4_hitmap_{ch}_nside{nside}_1_of_{nsplits}.fits\")"
   ]
  },
  {
   "cell_type": "code",
   "execution_count": 18,
   "metadata": {
    "execution": {
     "iopub.execute_input": "2020-12-09T06:01:45.433803Z",
     "iopub.status.busy": "2020-12-09T06:01:45.433247Z",
     "iopub.status.idle": "2020-12-09T06:01:45.435746Z",
     "shell.execute_reply": "2020-12-09T06:01:45.436180Z"
    },
    "papermill": {
     "duration": 0.0363,
     "end_time": "2020-12-09T06:01:45.436327",
     "exception": false,
     "start_time": "2020-12-09T06:01:45.400027",
     "status": "completed"
    },
    "tags": []
   },
   "outputs": [
    {
     "data": {
      "text/plain": [
       "'MFHS1'"
      ]
     },
     "execution_count": 18,
     "metadata": {},
     "output_type": "execute_result"
    }
   ],
   "source": [
    "channel"
   ]
  },
  {
   "cell_type": "code",
   "execution_count": 19,
   "metadata": {
    "execution": {
     "iopub.execute_input": "2020-12-09T06:01:45.501372Z",
     "iopub.status.busy": "2020-12-09T06:01:45.500814Z",
     "iopub.status.idle": "2020-12-09T06:01:45.503348Z",
     "shell.execute_reply": "2020-12-09T06:01:45.503786Z"
    },
    "papermill": {
     "duration": 0.037019,
     "end_time": "2020-12-09T06:01:45.503923",
     "exception": false,
     "start_time": "2020-12-09T06:01:45.466904",
     "status": "completed"
    },
    "tags": []
   },
   "outputs": [
    {
     "data": {
      "text/plain": [
       "21"
      ]
     },
     "execution_count": 19,
     "metadata": {},
     "output_type": "execute_result"
    }
   ],
   "source": [
    "from s4_design_sim_tool.noise import get_tube_years\n",
    "tube_years = get_tube_years(config, site, channel)\n",
    "tube_years"
   ]
  },
  {
   "cell_type": "code",
   "execution_count": 20,
   "metadata": {
    "execution": {
     "iopub.execute_input": "2020-12-09T06:01:45.569423Z",
     "iopub.status.busy": "2020-12-09T06:01:45.568879Z",
     "iopub.status.idle": "2020-12-09T06:01:45.575308Z",
     "shell.execute_reply": "2020-12-09T06:01:45.575769Z"
    },
    "papermill": {
     "duration": 0.041409,
     "end_time": "2020-12-09T06:01:45.575920",
     "exception": false,
     "start_time": "2020-12-09T06:01:45.534511",
     "status": "completed"
    },
    "tags": []
   },
   "outputs": [
    {
     "data": {
      "text/plain": [
       "100.11248600166542"
      ]
     },
     "execution_count": 20,
     "metadata": {},
     "output_type": "execute_result"
    }
   ],
   "source": [
    "sampling_rate = hitmap.sum()\n",
    "sampling_rate /= 365.25 * 24 * 3600\n",
    "sampling_rate /= tube_years * config[\"experiment\"][\"observing_efficiency\"]\n",
    "sampling_rate /= s4[channel].attrs[\"detectors_per_tube\"]\n",
    "sampling_rate *= nsplits\n",
    "sampling_rate"
   ]
  },
  {
   "cell_type": "code",
   "execution_count": 21,
   "metadata": {
    "execution": {
     "iopub.execute_input": "2020-12-09T06:01:45.644132Z",
     "iopub.status.busy": "2020-12-09T06:01:45.643586Z",
     "iopub.status.idle": "2020-12-09T06:01:45.645328Z",
     "shell.execute_reply": "2020-12-09T06:01:45.645743Z"
    },
    "papermill": {
     "duration": 0.038171,
     "end_time": "2020-12-09T06:01:45.645890",
     "exception": false,
     "start_time": "2020-12-09T06:01:45.607719",
     "status": "completed"
    },
    "tags": []
   },
   "outputs": [],
   "source": [
    "np.testing.assert_allclose(sampling_rate, sampling_frequency[telescope].value, rtol=1/100)"
   ]
  },
  {
   "cell_type": "code",
   "execution_count": 22,
   "metadata": {
    "execution": {
     "iopub.execute_input": "2020-12-09T06:01:45.713702Z",
     "iopub.status.busy": "2020-12-09T06:01:45.713179Z",
     "iopub.status.idle": "2020-12-09T06:01:46.206117Z",
     "shell.execute_reply": "2020-12-09T06:01:46.206554Z"
    },
    "papermill": {
     "duration": 0.529876,
     "end_time": "2020-12-09T06:01:46.206702",
     "exception": false,
     "start_time": "2020-12-09T06:01:45.676826",
     "status": "completed"
    },
    "tags": []
   },
   "outputs": [
    {
     "name": "stderr",
     "output_type": "stream",
     "text": [
      "/global/homes/z/zonca/condajupynersc/lib/python3.7/site-packages/ipykernel_launcher.py:1: RuntimeWarning: divide by zero encountered in log10\n",
      "  \"\"\"Entry point for launching an IPython kernel.\n",
      "/global/homes/z/zonca/condajupynersc/lib/python3.7/site-packages/healpy/projaxes.py:920: MatplotlibDeprecationWarning: You are modifying the state of a globally registered colormap. In future versions, you will not be able to modify a registered colormap in-place. To remove this warning, you can make a copy of the colormap first. cmap = copy.copy(mpl.cm.get_cmap(\"viridis\"))\n",
      "  newcm.set_over(newcm(1.0))\n",
      "/global/homes/z/zonca/condajupynersc/lib/python3.7/site-packages/healpy/projaxes.py:921: MatplotlibDeprecationWarning: You are modifying the state of a globally registered colormap. In future versions, you will not be able to modify a registered colormap in-place. To remove this warning, you can make a copy of the colormap first. cmap = copy.copy(mpl.cm.get_cmap(\"viridis\"))\n",
      "  newcm.set_under(bgcolor)\n",
      "/global/homes/z/zonca/condajupynersc/lib/python3.7/site-packages/healpy/projaxes.py:922: MatplotlibDeprecationWarning: You are modifying the state of a globally registered colormap. In future versions, you will not be able to modify a registered colormap in-place. To remove this warning, you can make a copy of the colormap first. cmap = copy.copy(mpl.cm.get_cmap(\"viridis\"))\n",
      "  newcm.set_bad(badcolor)\n",
      "/global/homes/z/zonca/condajupynersc/lib/python3.7/site-packages/healpy/projaxes.py:211: MatplotlibDeprecationWarning: Passing parameters norm and vmin/vmax simultaneously is deprecated since 3.3 and will become an error two minor releases later. Please pass vmin/vmax directly to the norm when creating it.\n",
      "  **kwds\n"
     ]
    },
    {
     "data": {
      "image/png": "[encoded data removed]",
      "text/plain": [
       "<Figure size 612x388.8 with 2 Axes>"
      ]
     },
     "metadata": {
      "needs_background": "light"
     },
     "output_type": "display_data"
    }
   ],
   "source": [
    "log_hitmap = np.log10(hitmap)\n",
    "log_hitmap[np.isinf(log_hitmap)] = hp.UNSEEN\n",
    "hp.mollview(log_hitmap, unit=\"log10(samples)\", title=f\"Hitmap {ch}\")\n",
    "plt.savefig(f\"plots/hitmap_{channel}_{site}_1_of_{nsplits}.png\")"
   ]
  },
  {
   "cell_type": "code",
   "execution_count": 23,
   "metadata": {
    "execution": {
     "iopub.execute_input": "2020-12-09T06:01:46.284312Z",
     "iopub.status.busy": "2020-12-09T06:01:46.283752Z",
     "iopub.status.idle": "2020-12-09T06:01:46.397708Z",
     "shell.execute_reply": "2020-12-09T06:01:46.398290Z"
    },
    "papermill": {
     "duration": 0.155414,
     "end_time": "2020-12-09T06:01:46.398485",
     "exception": false,
     "start_time": "2020-12-09T06:01:46.243071",
     "status": "completed"
    },
    "tags": []
   },
   "outputs": [],
   "source": [
    "wcov = hp.read_map(local_path / dataset / ch / f\"cmbs4_wcov_{ch}_nside{nside}_1_of_{nsplits}.fits\", (3))"
   ]
  },
  {
   "cell_type": "code",
   "execution_count": 24,
   "metadata": {
    "execution": {
     "iopub.execute_input": "2020-12-09T06:01:46.471775Z",
     "iopub.status.busy": "2020-12-09T06:01:46.471117Z",
     "iopub.status.idle": "2020-12-09T06:01:46.473863Z",
     "shell.execute_reply": "2020-12-09T06:01:46.474295Z"
    },
    "papermill": {
     "duration": 0.042077,
     "end_time": "2020-12-09T06:01:46.474459",
     "exception": false,
     "start_time": "2020-12-09T06:01:46.432382",
     "status": "completed"
    },
    "tags": []
   },
   "outputs": [
    {
     "data": {
      "text/plain": [
       "(3145728,)"
      ]
     },
     "execution_count": 24,
     "metadata": {},
     "output_type": "execute_result"
    }
   ],
   "source": [
    "wcov.shape"
   ]
  },
  {
   "cell_type": "code",
   "execution_count": 25,
   "metadata": {
    "execution": {
     "iopub.execute_input": "2020-12-09T06:01:46.551747Z",
     "iopub.status.busy": "2020-12-09T06:01:46.551160Z",
     "iopub.status.idle": "2020-12-09T06:01:46.552748Z",
     "shell.execute_reply": "2020-12-09T06:01:46.553205Z"
    },
    "papermill": {
     "duration": 0.040259,
     "end_time": "2020-12-09T06:01:46.553391",
     "exception": false,
     "start_time": "2020-12-09T06:01:46.513132",
     "status": "completed"
    },
    "tags": []
   },
   "outputs": [],
   "source": [
    "import astropy.units as u"
   ]
  },
  {
   "cell_type": "code",
   "execution_count": 26,
   "metadata": {
    "execution": {
     "iopub.execute_input": "2020-12-09T06:01:46.631891Z",
     "iopub.status.busy": "2020-12-09T06:01:46.631321Z",
     "iopub.status.idle": "2020-12-09T06:01:46.633119Z",
     "shell.execute_reply": "2020-12-09T06:01:46.633566Z"
    },
    "papermill": {
     "duration": 0.04351,
     "end_time": "2020-12-09T06:01:46.633707",
     "exception": false,
     "start_time": "2020-12-09T06:01:46.590197",
     "status": "completed"
    },
    "tags": []
   },
   "outputs": [],
   "source": [
    "channel_NET = s4[channel].attrs[\"NET_uKsqrts\"] * u.uK * u.s ** .5"
   ]
  },
  {
   "cell_type": "code",
   "execution_count": 27,
   "metadata": {
    "execution": {
     "iopub.execute_input": "2020-12-09T06:01:46.708802Z",
     "iopub.status.busy": "2020-12-09T06:01:46.708306Z",
     "iopub.status.idle": "2020-12-09T06:01:46.710132Z",
     "shell.execute_reply": "2020-12-09T06:01:46.710530Z"
    },
    "papermill": {
     "duration": 0.040867,
     "end_time": "2020-12-09T06:01:46.710649",
     "exception": false,
     "start_time": "2020-12-09T06:01:46.669782",
     "status": "completed"
    },
    "tags": []
   },
   "outputs": [],
   "source": [
    "if telescope == \"LAT\" and site==\"pole\":\n",
    "    channel_NET = s4[channel].attrs[\"pole_NET_uKsqrts\"] * u.uK * u.s ** .5"
   ]
  },
  {
   "cell_type": "code",
   "execution_count": 28,
   "metadata": {
    "execution": {
     "iopub.execute_input": "2020-12-09T06:01:46.781779Z",
     "iopub.status.busy": "2020-12-09T06:01:46.781223Z",
     "iopub.status.idle": "2020-12-09T06:01:46.835125Z",
     "shell.execute_reply": "2020-12-09T06:01:46.834626Z"
    },
    "papermill": {
     "duration": 0.091223,
     "end_time": "2020-12-09T06:01:46.835272",
     "exception": false,
     "start_time": "2020-12-09T06:01:46.744049",
     "status": "completed"
    },
    "tags": []
   },
   "outputs": [],
   "source": [
    "variance_QQ = wcov * u.K ** 2 * (hitmap / sampling_frequency[telescope]) "
   ]
  },
  {
   "cell_type": "code",
   "execution_count": 29,
   "metadata": {
    "execution": {
     "iopub.execute_input": "2020-12-09T06:01:46.908898Z",
     "iopub.status.busy": "2020-12-09T06:01:46.908284Z",
     "iopub.status.idle": "2020-12-09T06:01:46.919513Z",
     "shell.execute_reply": "2020-12-09T06:01:46.920024Z"
    },
    "papermill": {
     "duration": 0.049662,
     "end_time": "2020-12-09T06:01:46.920166",
     "exception": false,
     "start_time": "2020-12-09T06:01:46.870504",
     "status": "completed"
    },
    "tags": []
   },
   "outputs": [],
   "source": [
    "assert (variance_QQ.value == hp.UNSEEN).sum() == 0"
   ]
  },
  {
   "cell_type": "code",
   "execution_count": 30,
   "metadata": {
    "execution": {
     "iopub.execute_input": "2020-12-09T06:01:47.020393Z",
     "iopub.status.busy": "2020-12-09T06:01:47.019828Z",
     "iopub.status.idle": "2020-12-09T06:01:47.050157Z",
     "shell.execute_reply": "2020-12-09T06:01:47.050753Z"
    },
    "papermill": {
     "duration": 0.069365,
     "end_time": "2020-12-09T06:01:47.050944",
     "exception": false,
     "start_time": "2020-12-09T06:01:46.981579",
     "status": "completed"
    },
    "tags": []
   },
   "outputs": [],
   "source": [
    "full_mission_NET = np.sqrt(np.median(variance_QQ[hitmap != 0]))"
   ]
  },
  {
   "cell_type": "code",
   "execution_count": 31,
   "metadata": {
    "execution": {
     "iopub.execute_input": "2020-12-09T06:01:47.129551Z",
     "iopub.status.busy": "2020-12-09T06:01:47.128979Z",
     "iopub.status.idle": "2020-12-09T06:01:47.131600Z",
     "shell.execute_reply": "2020-12-09T06:01:47.132063Z"
    },
    "papermill": {
     "duration": 0.042597,
     "end_time": "2020-12-09T06:01:47.132209",
     "exception": false,
     "start_time": "2020-12-09T06:01:47.089612",
     "status": "completed"
    },
    "tags": []
   },
   "outputs": [
    {
     "data": {
      "text/latex": [
       "$330.40458 \\; \\mathrm{\\mu K\\,s^{1/2}}$"
      ],
      "text/plain": [
       "<Quantity 330.4045807 s(1/2) uK>"
      ]
     },
     "execution_count": 31,
     "metadata": {},
     "output_type": "execute_result"
    }
   ],
   "source": [
    "full_mission_NET.to(channel_NET.unit)"
   ]
  },
  {
   "cell_type": "code",
   "execution_count": 32,
   "metadata": {
    "execution": {
     "iopub.execute_input": "2020-12-09T06:01:47.210176Z",
     "iopub.status.busy": "2020-12-09T06:01:47.209636Z",
     "iopub.status.idle": "2020-12-09T06:01:47.213548Z",
     "shell.execute_reply": "2020-12-09T06:01:47.213086Z"
    },
    "papermill": {
     "duration": 0.046087,
     "end_time": "2020-12-09T06:01:47.213664",
     "exception": false,
     "start_time": "2020-12-09T06:01:47.167577",
     "status": "completed"
    },
    "tags": []
   },
   "outputs": [
    {
     "data": {
      "text/latex": [
       "$238 \\; \\mathrm{\\mu K\\,s^{1/2}}$"
      ],
      "text/plain": [
       "<Quantity 238. s(1/2) uK>"
      ]
     },
     "execution_count": 32,
     "metadata": {},
     "output_type": "execute_result"
    }
   ],
   "source": [
    "channel_NET"
   ]
  },
  {
   "cell_type": "code",
   "execution_count": 33,
   "metadata": {
    "execution": {
     "iopub.execute_input": "2020-12-09T06:01:47.291686Z",
     "iopub.status.busy": "2020-12-09T06:01:47.291098Z",
     "iopub.status.idle": "2020-12-09T06:01:47.293686Z",
     "shell.execute_reply": "2020-12-09T06:01:47.294119Z"
    },
    "papermill": {
     "duration": 0.044199,
     "end_time": "2020-12-09T06:01:47.294278",
     "exception": false,
     "start_time": "2020-12-09T06:01:47.250079",
     "status": "completed"
    },
    "tags": []
   },
   "outputs": [
    {
     "data": {
      "text/latex": [
       "$233.63132 \\; \\mathrm{\\mu K\\,s^{1/2}}$"
      ],
      "text/plain": [
       "<Quantity 233.63131955 s(1/2) uK>"
      ]
     },
     "execution_count": 33,
     "metadata": {},
     "output_type": "execute_result"
    }
   ],
   "source": [
    "(full_mission_NET/np.sqrt(2)).to(channel_NET.unit)"
   ]
  },
  {
   "cell_type": "code",
   "execution_count": 34,
   "metadata": {
    "execution": {
     "iopub.execute_input": "2020-12-09T06:01:47.371239Z",
     "iopub.status.busy": "2020-12-09T06:01:47.370696Z",
     "iopub.status.idle": "2020-12-09T06:01:47.372415Z",
     "shell.execute_reply": "2020-12-09T06:01:47.372873Z"
    },
    "papermill": {
     "duration": 0.042279,
     "end_time": "2020-12-09T06:01:47.373032",
     "exception": false,
     "start_time": "2020-12-09T06:01:47.330753",
     "status": "completed"
    },
    "tags": []
   },
   "outputs": [],
   "source": [
    "assert_quantity_allclose(full_mission_NET, channel_NET*np.sqrt(2), rtol=10/100) "
   ]
  },
  {
   "cell_type": "code",
   "execution_count": 35,
   "metadata": {
    "execution": {
     "iopub.execute_input": "2020-12-09T06:01:47.448751Z",
     "iopub.status.busy": "2020-12-09T06:01:47.448165Z",
     "iopub.status.idle": "2020-12-09T06:01:47.456725Z",
     "shell.execute_reply": "2020-12-09T06:01:47.457148Z"
    },
    "papermill": {
     "duration": 0.047297,
     "end_time": "2020-12-09T06:01:47.457311",
     "exception": false,
     "start_time": "2020-12-09T06:01:47.410014",
     "status": "completed"
    },
    "tags": []
   },
   "outputs": [],
   "source": [
    "sky_fraction = (hitmap > 0).sum() / len(hitmap)"
   ]
  },
  {
   "cell_type": "code",
   "execution_count": 36,
   "metadata": {
    "execution": {
     "iopub.execute_input": "2020-12-09T06:01:47.530829Z",
     "iopub.status.busy": "2020-12-09T06:01:47.530212Z",
     "iopub.status.idle": "2020-12-09T06:01:47.532808Z",
     "shell.execute_reply": "2020-12-09T06:01:47.533205Z"
    },
    "papermill": {
     "duration": 0.041783,
     "end_time": "2020-12-09T06:01:47.533345",
     "exception": false,
     "start_time": "2020-12-09T06:01:47.491562",
     "status": "completed"
    },
    "tags": []
   },
   "outputs": [
    {
     "data": {
      "text/plain": [
       "0.44712352752685547"
      ]
     },
     "execution_count": 36,
     "metadata": {},
     "output_type": "execute_result"
    }
   ],
   "source": [
    "sky_fraction"
   ]
  },
  {
   "cell_type": "code",
   "execution_count": 37,
   "metadata": {
    "execution": {
     "iopub.execute_input": "2020-12-09T06:01:47.610417Z",
     "iopub.status.busy": "2020-12-09T06:01:47.609848Z",
     "iopub.status.idle": "2020-12-09T06:01:47.612318Z",
     "shell.execute_reply": "2020-12-09T06:01:47.611881Z"
    },
    "papermill": {
     "duration": 0.04472,
     "end_time": "2020-12-09T06:01:47.612425",
     "exception": false,
     "start_time": "2020-12-09T06:01:47.567705",
     "status": "completed"
    },
    "tags": []
   },
   "outputs": [],
   "source": [
    "pixarea = hp.nside2pixarea(nside)"
   ]
  },
  {
   "cell_type": "code",
   "execution_count": 38,
   "metadata": {
    "execution": {
     "iopub.execute_input": "2020-12-09T06:01:47.693741Z",
     "iopub.status.busy": "2020-12-09T06:01:47.693199Z",
     "iopub.status.idle": "2020-12-09T06:01:47.703622Z",
     "shell.execute_reply": "2020-12-09T06:01:47.704070Z"
    },
    "papermill": {
     "duration": 0.055405,
     "end_time": "2020-12-09T06:01:47.704207",
     "exception": false,
     "start_time": "2020-12-09T06:01:47.648802",
     "status": "completed"
    },
    "tags": []
   },
   "outputs": [
    {
     "data": {
      "text/plain": [
       "5.384209650390281e-16"
      ]
     },
     "execution_count": 38,
     "metadata": {},
     "output_type": "execute_result"
    }
   ],
   "source": [
    "np.mean(wcov[hitmap > 0])* pixarea"
   ]
  },
  {
   "cell_type": "code",
   "execution_count": 39,
   "metadata": {
    "execution": {
     "iopub.execute_input": "2020-12-09T06:01:47.779254Z",
     "iopub.status.busy": "2020-12-09T06:01:47.778699Z",
     "iopub.status.idle": "2020-12-09T06:01:47.786948Z",
     "shell.execute_reply": "2020-12-09T06:01:47.787385Z"
    },
    "papermill": {
     "duration": 0.047816,
     "end_time": "2020-12-09T06:01:47.787566",
     "exception": false,
     "start_time": "2020-12-09T06:01:47.739750",
     "status": "completed"
    },
    "tags": []
   },
   "outputs": [],
   "source": [
    "wcov [ wcov == hp.UNSEEN] = 0"
   ]
  },
  {
   "cell_type": "markdown",
   "metadata": {
    "papermill": {
     "duration": 0.036223,
     "end_time": "2020-12-09T06:01:47.860343",
     "exception": false,
     "start_time": "2020-12-09T06:01:47.824120",
     "status": "completed"
    },
    "tags": []
   },
   "source": [
    "## Atmosphere"
   ]
  },
  {
   "cell_type": "code",
   "execution_count": 40,
   "metadata": {
    "execution": {
     "iopub.execute_input": "2020-12-09T06:01:47.934708Z",
     "iopub.status.busy": "2020-12-09T06:01:47.934151Z",
     "iopub.status.idle": "2020-12-09T06:01:47.936106Z",
     "shell.execute_reply": "2020-12-09T06:01:47.936514Z"
    },
    "papermill": {
     "duration": 0.040931,
     "end_time": "2020-12-09T06:01:47.936653",
     "exception": false,
     "start_time": "2020-12-09T06:01:47.895722",
     "status": "completed"
    },
    "tags": []
   },
   "outputs": [],
   "source": [
    "atmosphere_filename = Path(base_folder) / \"00000000\" / f\"{site}_atmosphere_{telescope}_{channel}_filtered_telescope_all_time_all_bmap.fits\""
   ]
  },
  {
   "cell_type": "code",
   "execution_count": 41,
   "metadata": {
    "execution": {
     "iopub.execute_input": "2020-12-09T06:01:48.013422Z",
     "iopub.status.busy": "2020-12-09T06:01:48.012895Z",
     "iopub.status.idle": "2020-12-09T06:01:48.799750Z",
     "shell.execute_reply": "2020-12-09T06:01:48.800247Z"
    },
    "papermill": {
     "duration": 0.826113,
     "end_time": "2020-12-09T06:01:48.800466",
     "exception": false,
     "start_time": "2020-12-09T06:01:47.974353",
     "status": "completed"
    },
    "tags": []
   },
   "outputs": [
    {
     "name": "stderr",
     "output_type": "stream",
     "text": [
      "/global/homes/z/zonca/condajupynersc/lib/python3.7/site-packages/healpy/fitsfunc.py:400: UserWarning: ORDERING = NESTED in fits file\n",
      "  warnings.warn(\"ORDERING = {0:s} in fits file\".format(ordering))\n",
      "/global/homes/z/zonca/condajupynersc/lib/python3.7/site-packages/healpy/fitsfunc.py:486: UserWarning: Ordering converted to RING\n",
      "  warnings.warn(\"Ordering converted to RING\")\n"
     ]
    }
   ],
   "source": [
    "input_atmophere = hp.ma(hp.read_map(atmosphere_filename, (0,1,2)))"
   ]
  },
  {
   "cell_type": "code",
   "execution_count": 42,
   "metadata": {
    "execution": {
     "iopub.execute_input": "2020-12-09T06:01:48.887059Z",
     "iopub.status.busy": "2020-12-09T06:01:48.886404Z",
     "iopub.status.idle": "2020-12-09T06:01:48.916957Z",
     "shell.execute_reply": "2020-12-09T06:01:48.917361Z"
    },
    "papermill": {
     "duration": 0.075205,
     "end_time": "2020-12-09T06:01:48.917511",
     "exception": false,
     "start_time": "2020-12-09T06:01:48.842306",
     "status": "completed"
    },
    "tags": []
   },
   "outputs": [],
   "source": [
    "sqrt_hitmap = hitmap.copy()\n",
    "sqrt_hitmap[hitmap>0] = np.sqrt(hitmap[hitmap>0])"
   ]
  },
  {
   "cell_type": "code",
   "execution_count": 43,
   "metadata": {
    "execution": {
     "iopub.execute_input": "2020-12-09T06:01:49.060932Z",
     "iopub.status.busy": "2020-12-09T06:01:49.060399Z",
     "iopub.status.idle": "2020-12-09T06:01:51.509295Z",
     "shell.execute_reply": "2020-12-09T06:01:51.508811Z"
    },
    "papermill": {
     "duration": 2.53827,
     "end_time": "2020-12-09T06:01:51.509429",
     "exception": false,
     "start_time": "2020-12-09T06:01:48.971159",
     "status": "completed"
    },
    "tags": []
   },
   "outputs": [],
   "source": [
    "atmo_cl = \\\n",
    "hp.anafast(input_atmophere * sqrt_hitmap, use_pixel_weights=True) / np.mean(hitmap) # / sky_fraction"
   ]
  },
  {
   "cell_type": "code",
   "execution_count": 44,
   "metadata": {
    "execution": {
     "iopub.execute_input": "2020-12-09T06:01:51.587519Z",
     "iopub.status.busy": "2020-12-09T06:01:51.586999Z",
     "iopub.status.idle": "2020-12-09T06:01:51.589388Z",
     "shell.execute_reply": "2020-12-09T06:01:51.588969Z"
    },
    "papermill": {
     "duration": 0.042398,
     "end_time": "2020-12-09T06:01:51.589495",
     "exception": false,
     "start_time": "2020-12-09T06:01:51.547097",
     "status": "completed"
    },
    "tags": []
   },
   "outputs": [],
   "source": [
    "from s4_design_sim_tool.atmosphere import get_telecope_years"
   ]
  },
  {
   "cell_type": "code",
   "execution_count": 45,
   "metadata": {
    "execution": {
     "iopub.execute_input": "2020-12-09T06:01:51.669973Z",
     "iopub.status.busy": "2020-12-09T06:01:51.669433Z",
     "iopub.status.idle": "2020-12-09T06:01:51.671226Z",
     "shell.execute_reply": "2020-12-09T06:01:51.671690Z"
    },
    "papermill": {
     "duration": 0.04431,
     "end_time": "2020-12-09T06:01:51.671821",
     "exception": false,
     "start_time": "2020-12-09T06:01:51.627511",
     "status": "completed"
    },
    "tags": []
   },
   "outputs": [],
   "source": [
    "telescope_years = get_telecope_years(config, site, channel)"
   ]
  },
  {
   "cell_type": "code",
   "execution_count": 46,
   "metadata": {
    "execution": {
     "iopub.execute_input": "2020-12-09T06:01:51.746846Z",
     "iopub.status.busy": "2020-12-09T06:01:51.746359Z",
     "iopub.status.idle": "2020-12-09T06:01:51.748679Z",
     "shell.execute_reply": "2020-12-09T06:01:51.749082Z"
    },
    "papermill": {
     "duration": 0.040936,
     "end_time": "2020-12-09T06:01:51.749216",
     "exception": false,
     "start_time": "2020-12-09T06:01:51.708280",
     "status": "completed"
    },
    "tags": []
   },
   "outputs": [
    {
     "data": {
      "text/plain": [
       "7"
      ]
     },
     "execution_count": 46,
     "metadata": {},
     "output_type": "execute_result"
    }
   ],
   "source": [
    "telescope_years"
   ]
  },
  {
   "cell_type": "code",
   "execution_count": 47,
   "metadata": {
    "execution": {
     "iopub.execute_input": "2020-12-09T06:01:51.867346Z",
     "iopub.status.busy": "2020-12-09T06:01:51.866815Z",
     "iopub.status.idle": "2020-12-09T06:01:51.868618Z",
     "shell.execute_reply": "2020-12-09T06:01:51.869023Z"
    },
    "papermill": {
     "duration": 0.058214,
     "end_time": "2020-12-09T06:01:51.869161",
     "exception": false,
     "start_time": "2020-12-09T06:01:51.810947",
     "status": "completed"
    },
    "tags": []
   },
   "outputs": [],
   "source": [
    "from s4_design_sim_tool.core import simulations_observing_efficiency"
   ]
  },
  {
   "cell_type": "code",
   "execution_count": 48,
   "metadata": {
    "execution": {
     "iopub.execute_input": "2020-12-09T06:01:51.947461Z",
     "iopub.status.busy": "2020-12-09T06:01:51.946925Z",
     "iopub.status.idle": "2020-12-09T06:01:51.949608Z",
     "shell.execute_reply": "2020-12-09T06:01:51.950025Z"
    },
    "papermill": {
     "duration": 0.042497,
     "end_time": "2020-12-09T06:01:51.950168",
     "exception": false,
     "start_time": "2020-12-09T06:01:51.907671",
     "status": "completed"
    },
    "tags": []
   },
   "outputs": [
    {
     "data": {
      "text/plain": [
       "{'pole': {'SAT': 0.3931149305555555, 'LAT': 0.321544537037037},\n",
       " 'chile': {'SAT': 0.8656164351851852, 'LAT': 0.917306712962963}}"
      ]
     },
     "execution_count": 48,
     "metadata": {},
     "output_type": "execute_result"
    }
   ],
   "source": [
    "simulations_observing_efficiency"
   ]
  },
  {
   "cell_type": "code",
   "execution_count": 49,
   "metadata": {
    "execution": {
     "iopub.execute_input": "2020-12-09T06:01:52.027076Z",
     "iopub.status.busy": "2020-12-09T06:01:52.026505Z",
     "iopub.status.idle": "2020-12-09T06:01:52.028919Z",
     "shell.execute_reply": "2020-12-09T06:01:52.028440Z"
    },
    "papermill": {
     "duration": 0.042459,
     "end_time": "2020-12-09T06:01:52.029086",
     "exception": false,
     "start_time": "2020-12-09T06:01:51.986627",
     "status": "completed"
    },
    "tags": []
   },
   "outputs": [],
   "source": [
    "atmo_cl *= 10 / 365.25\n",
    "atmo_cl *= simulations_observing_efficiency[site.lower()].get(telescope, 1) / config[\"experiment\"][\"observing_efficiency\"]                                                                    \n",
    "atmo_cl /= telescope_years"
   ]
  },
  {
   "cell_type": "markdown",
   "metadata": {
    "papermill": {
     "duration": 0.038056,
     "end_time": "2020-12-09T06:01:52.104778",
     "exception": false,
     "start_time": "2020-12-09T06:01:52.066722",
     "status": "completed"
    },
    "tags": []
   },
   "source": [
    "## Noise"
   ]
  },
  {
   "cell_type": "code",
   "execution_count": 50,
   "metadata": {
    "execution": {
     "iopub.execute_input": "2020-12-09T06:01:52.182299Z",
     "iopub.status.busy": "2020-12-09T06:01:52.181792Z",
     "iopub.status.idle": "2020-12-09T06:01:52.183708Z",
     "shell.execute_reply": "2020-12-09T06:01:52.184156Z"
    },
    "papermill": {
     "duration": 0.042444,
     "end_time": "2020-12-09T06:01:52.184317",
     "exception": false,
     "start_time": "2020-12-09T06:01:52.141873",
     "status": "completed"
    },
    "tags": []
   },
   "outputs": [],
   "source": [
    "noise_filename = Path(base_folder) / \"00000000\" / f\"{site}_noise_{telescope}_{channel}_filtered_telescope_all_time_all_bmap.fits\""
   ]
  },
  {
   "cell_type": "code",
   "execution_count": 51,
   "metadata": {
    "execution": {
     "iopub.execute_input": "2020-12-09T06:01:52.305944Z",
     "iopub.status.busy": "2020-12-09T06:01:52.305378Z",
     "iopub.status.idle": "2020-12-09T06:01:52.307263Z",
     "shell.execute_reply": "2020-12-09T06:01:52.307746Z"
    },
    "papermill": {
     "duration": 0.084273,
     "end_time": "2020-12-09T06:01:52.307910",
     "exception": false,
     "start_time": "2020-12-09T06:01:52.223637",
     "status": "completed"
    },
    "tags": []
   },
   "outputs": [],
   "source": [
    "#input_noise = hp.ma(hp.read_map(noise_filename, (0,1,2)))"
   ]
  },
  {
   "cell_type": "code",
   "execution_count": 52,
   "metadata": {
    "execution": {
     "iopub.execute_input": "2020-12-09T06:01:52.388045Z",
     "iopub.status.busy": "2020-12-09T06:01:52.387503Z",
     "iopub.status.idle": "2020-12-09T06:01:52.389757Z",
     "shell.execute_reply": "2020-12-09T06:01:52.389289Z"
    },
    "papermill": {
     "duration": 0.043059,
     "end_time": "2020-12-09T06:01:52.389863",
     "exception": false,
     "start_time": "2020-12-09T06:01:52.346804",
     "status": "completed"
    },
    "tags": []
   },
   "outputs": [],
   "source": [
    "#noise_cl = hp.anafast(input_noise * sqrt_hitmap, use_pixel_weights=True) / np.mean(hitmap) / sky_fraction"
   ]
  },
  {
   "cell_type": "code",
   "execution_count": 53,
   "metadata": {
    "execution": {
     "iopub.execute_input": "2020-12-09T06:01:52.470998Z",
     "iopub.status.busy": "2020-12-09T06:01:52.470465Z",
     "iopub.status.idle": "2020-12-09T06:01:52.472185Z",
     "shell.execute_reply": "2020-12-09T06:01:52.472611Z"
    },
    "papermill": {
     "duration": 0.04358,
     "end_time": "2020-12-09T06:01:52.472751",
     "exception": false,
     "start_time": "2020-12-09T06:01:52.429171",
     "status": "completed"
    },
    "tags": []
   },
   "outputs": [],
   "source": [
    "del sqrt_hitmap"
   ]
  },
  {
   "cell_type": "code",
   "execution_count": 54,
   "metadata": {
    "execution": {
     "iopub.execute_input": "2020-12-09T06:01:52.555940Z",
     "iopub.status.busy": "2020-12-09T06:01:52.555358Z",
     "iopub.status.idle": "2020-12-09T06:01:52.557021Z",
     "shell.execute_reply": "2020-12-09T06:01:52.557438Z"
    },
    "papermill": {
     "duration": 0.045427,
     "end_time": "2020-12-09T06:01:52.557587",
     "exception": false,
     "start_time": "2020-12-09T06:01:52.512160",
     "status": "completed"
    },
    "tags": []
   },
   "outputs": [],
   "source": [
    "from s4_design_sim_tool.noise import get_thinfp\n",
    "thinfp = get_thinfp(channel)"
   ]
  },
  {
   "cell_type": "code",
   "execution_count": 55,
   "metadata": {
    "execution": {
     "iopub.execute_input": "2020-12-09T06:01:52.650561Z",
     "iopub.status.busy": "2020-12-09T06:01:52.649801Z",
     "iopub.status.idle": "2020-12-09T06:01:52.653627Z",
     "shell.execute_reply": "2020-12-09T06:01:52.653171Z"
    },
    "papermill": {
     "duration": 0.055082,
     "end_time": "2020-12-09T06:01:52.653754",
     "exception": false,
     "start_time": "2020-12-09T06:01:52.598672",
     "status": "completed"
    },
    "tags": []
   },
   "outputs": [
    {
     "data": {
      "text/html": [
       "&lt;Column name=&apos;thinfp&apos; dtype=&apos;int64&apos; length=1&gt;\n",
       "<table>\n",
       "<tr><td>4</td></tr>\n",
       "</table>"
      ],
      "text/plain": [
       "<Column name='thinfp' dtype='int64' length=1>\n",
       "4"
      ]
     },
     "execution_count": 55,
     "metadata": {},
     "output_type": "execute_result"
    }
   ],
   "source": [
    "thinfp"
   ]
  },
  {
   "cell_type": "code",
   "execution_count": 56,
   "metadata": {
    "execution": {
     "iopub.execute_input": "2020-12-09T06:01:52.741489Z",
     "iopub.status.busy": "2020-12-09T06:01:52.740864Z",
     "iopub.status.idle": "2020-12-09T06:01:52.743087Z",
     "shell.execute_reply": "2020-12-09T06:01:52.742574Z"
    },
    "papermill": {
     "duration": 0.045565,
     "end_time": "2020-12-09T06:01:52.743209",
     "exception": false,
     "start_time": "2020-12-09T06:01:52.697644",
     "status": "completed"
    },
    "tags": []
   },
   "outputs": [],
   "source": [
    "#noise_cl *= 10 / 365.25\n",
    "#noise_cl *= simulations_observing_efficiency[site.lower()].get(telescope, 1) / config[\"experiment\"][\"observing_efficiency\"]                                                                    \n",
    "#noise_cl /= tube_years\n",
    "#noise_cl /= thinfp"
   ]
  },
  {
   "cell_type": "code",
   "execution_count": 57,
   "metadata": {
    "execution": {
     "iopub.execute_input": "2020-12-09T06:01:52.829309Z",
     "iopub.status.busy": "2020-12-09T06:01:52.828662Z",
     "iopub.status.idle": "2020-12-09T06:01:52.840985Z",
     "shell.execute_reply": "2020-12-09T06:01:52.841422Z"
    },
    "papermill": {
     "duration": 0.05882,
     "end_time": "2020-12-09T06:01:52.841575",
     "exception": false,
     "start_time": "2020-12-09T06:01:52.782755",
     "status": "completed"
    },
    "tags": []
   },
   "outputs": [],
   "source": [
    "white_noise_Cl = channel_NET**2 \\\n",
    "/ (hitmap.sum() / sampling_frequency[telescope] / (hitmap>0).sum()) * pixarea # / sky_fraction"
   ]
  },
  {
   "cell_type": "code",
   "execution_count": 58,
   "metadata": {
    "execution": {
     "iopub.execute_input": "2020-12-09T06:01:52.925887Z",
     "iopub.status.busy": "2020-12-09T06:01:52.925270Z",
     "iopub.status.idle": "2020-12-09T06:01:52.927484Z",
     "shell.execute_reply": "2020-12-09T06:01:52.928034Z"
    },
    "papermill": {
     "duration": 0.044744,
     "end_time": "2020-12-09T06:01:52.928168",
     "exception": false,
     "start_time": "2020-12-09T06:01:52.883424",
     "status": "completed"
    },
    "tags": []
   },
   "outputs": [
    {
     "data": {
      "text/latex": [
       "$4.7215662 \\times 10^{-18} \\; \\mathrm{K^{2}}$"
      ],
      "text/plain": [
       "<Quantity 4.72156622e-18 K2>"
      ]
     },
     "execution_count": 58,
     "metadata": {},
     "output_type": "execute_result"
    }
   ],
   "source": [
    "white_noise_Cl.decompose()"
   ]
  },
  {
   "cell_type": "code",
   "execution_count": 59,
   "metadata": {
    "execution": {
     "iopub.execute_input": "2020-12-09T06:01:53.013122Z",
     "iopub.status.busy": "2020-12-09T06:01:53.012454Z",
     "iopub.status.idle": "2020-12-09T06:01:53.481019Z",
     "shell.execute_reply": "2020-12-09T06:01:53.481630Z"
    },
    "papermill": {
     "duration": 0.513048,
     "end_time": "2020-12-09T06:01:53.481829",
     "exception": false,
     "start_time": "2020-12-09T06:01:52.968781",
     "status": "completed"
    },
    "tags": []
   },
   "outputs": [],
   "source": [
    "import seaborn as sns"
   ]
  },
  {
   "cell_type": "code",
   "execution_count": 60,
   "metadata": {
    "execution": {
     "iopub.execute_input": "2020-12-09T06:01:53.567458Z",
     "iopub.status.busy": "2020-12-09T06:01:53.566815Z",
     "iopub.status.idle": "2020-12-09T06:01:53.568570Z",
     "shell.execute_reply": "2020-12-09T06:01:53.569015Z"
    },
    "papermill": {
     "duration": 0.045019,
     "end_time": "2020-12-09T06:01:53.569141",
     "exception": false,
     "start_time": "2020-12-09T06:01:53.524122",
     "status": "completed"
    },
    "tags": []
   },
   "outputs": [],
   "source": [
    "sns.set_style(\"whitegrid\")"
   ]
  },
  {
   "cell_type": "code",
   "execution_count": 61,
   "metadata": {
    "execution": {
     "iopub.execute_input": "2020-12-09T06:01:53.674278Z",
     "iopub.status.busy": "2020-12-09T06:01:53.667054Z",
     "iopub.status.idle": "2020-12-09T06:01:56.033191Z",
     "shell.execute_reply": "2020-12-09T06:01:56.033901Z"
    },
    "papermill": {
     "duration": 2.422197,
     "end_time": "2020-12-09T06:01:56.034107",
     "exception": false,
     "start_time": "2020-12-09T06:01:53.611910",
     "status": "completed"
    },
    "tags": []
   },
   "outputs": [
    {
     "data": {
      "image/png": "[encoded data removed]",
      "text/plain": [
       "<Figure size 576x360 with 1 Axes>"
      ]
     },
     "metadata": {},
     "output_type": "display_data"
    }
   ],
   "source": [
    "plt.figure(figsize=(8,5))\n",
    "\n",
    "pols = [\"TT\", \"EE\", \"BB\"]\n",
    "\n",
    "for i, pol in enumerate(pols):\n",
    "    for split in range(1, nsplits+1):\n",
    "        plt.loglog(C_ell[ch][split][i], alpha=.8, label=pol)\n",
    "\n",
    "for i, pol in enumerate(pols):\n",
    "    plt.loglog(atmo_cl[i]*nsplits, alpha=.8, ls=\"--\", label=f\"atmo {pol}\")\n",
    "\n",
    "#for i, pol in enumerate(pols):\n",
    "#    plt.loglog(noise_cl[i], alpha=.8, ls=\"-.\", label=f\"noise {pol}\")\n",
    "\n",
    "plt.axhline(white_noise_Cl.to_value(u.K**2), ls=\":\",\n",
    "           label=\"white noise T\", color=\"black\")\n",
    "plt.axhline(white_noise_Cl.to_value(u.K**2)*2, ls=\":\",\n",
    "           label=\"white noise P\", color=\"grey\")\n",
    "plt.legend()\n",
    "plt.title(f\"Noise + Atmosphere simulations spectra for {ch}\")\n",
    "plt.ylabel(\"$C_\\ell [K^2]$\")\n",
    "plt.xlabel(\"$\\ell$\")\n",
    "plt.xlim((10, 3*nside))\n",
    "plt.grid(True)\n",
    "plt.savefig(f\"plots/C_ell_{dataset}_{ch}_{nsplits}.png\");"
   ]
  },
  {
   "cell_type": "code",
   "execution_count": null,
   "metadata": {
    "papermill": {
     "duration": 0.09437,
     "end_time": "2020-12-09T06:01:56.177292",
     "exception": false,
     "start_time": "2020-12-09T06:01:56.082922",
     "status": "completed"
    },
    "tags": []
   },
   "outputs": [],
   "source": []
  }
 ],
 "metadata": {
  "kernelspec": {
   "display_name": "condajupynersc",
   "language": "python",
   "name": "condajupynersc"
  },
  "language_info": {
   "codemirror_mode": {
    "name": "ipython",
    "version": 3
   },
   "file_extension": ".py",
   "mimetype": "text/x-python",
   "name": "python",
   "nbconvert_exporter": "python",
   "pygments_lexer": "ipython3",
   "version": "3.7.0"
  },
  "papermill": {
   "duration": 16.476692,
   "end_time": "2020-12-09T06:01:57.542951",
   "environment_variables": {},
   "exception": null,
   "input_path": "validation_atmo_noise_dec_2020.ipynb",
   "output_path": "validation_notebooks/SAT-MFHS1_chile_7.ipynb",
   "parameters": {
    "ch": "SAT-MFHS1_chile",
    "nsplits": 7
   },
   "start_time": "2020-12-09T06:01:41.066259",
   "version": "2.1.2"
  }
 },
 "nbformat": 4,
 "nbformat_minor": 4
}