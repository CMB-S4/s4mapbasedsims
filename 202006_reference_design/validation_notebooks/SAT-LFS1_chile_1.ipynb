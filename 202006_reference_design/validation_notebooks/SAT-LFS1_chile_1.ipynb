{
 "cells": [
  {
   "cell_type": "code",
   "execution_count": 1,
   "metadata": {
    "execution": {
     "iopub.execute_input": "2020-12-09T05:34:07.046768Z",
     "iopub.status.busy": "2020-12-09T05:34:07.046108Z",
     "iopub.status.idle": "2020-12-09T05:34:08.963913Z",
     "shell.execute_reply": "2020-12-09T05:34:08.964356Z"
    },
    "papermill": {
     "duration": 1.975719,
     "end_time": "2020-12-09T05:34:08.964622",
     "exception": false,
     "start_time": "2020-12-09T05:34:06.988903",
     "status": "completed"
    },
    "tags": []
   },
   "outputs": [],
   "source": [
    "import healpy as hp\n",
    "import numpy as np\n",
    "%matplotlib inline\n",
    "import matplotlib.pyplot as plt\n",
    "from pathlib import Path\n",
    "from astropy.tests.helper import assert_quantity_allclose\n",
    "import pickle\n",
    "import sys\n",
    "import os\n",
    "from astropy import units as u"
   ]
  },
  {
   "cell_type": "code",
   "execution_count": 2,
   "metadata": {
    "execution": {
     "iopub.execute_input": "2020-12-09T05:34:09.028054Z",
     "iopub.status.busy": "2020-12-09T05:34:09.027490Z",
     "iopub.status.idle": "2020-12-09T05:34:09.085316Z",
     "shell.execute_reply": "2020-12-09T05:34:09.085836Z"
    },
    "papermill": {
     "duration": 0.091987,
     "end_time": "2020-12-09T05:34:09.086067",
     "exception": false,
     "start_time": "2020-12-09T05:34:08.994080",
     "status": "completed"
    },
    "tags": []
   },
   "outputs": [],
   "source": [
    "import h5py\n",
    "s4 = h5py.File(\"cmbs4_tophat.h5\", mode=\"r\")"
   ]
  },
  {
   "cell_type": "code",
   "execution_count": 3,
   "metadata": {
    "execution": {
     "iopub.execute_input": "2020-12-09T05:34:09.154161Z",
     "iopub.status.busy": "2020-12-09T05:34:09.153618Z",
     "iopub.status.idle": "2020-12-09T05:34:09.155604Z",
     "shell.execute_reply": "2020-12-09T05:34:09.156116Z"
    },
    "papermill": {
     "duration": 0.037357,
     "end_time": "2020-12-09T05:34:09.156284",
     "exception": false,
     "start_time": "2020-12-09T05:34:09.118927",
     "status": "completed"
    },
    "tags": []
   },
   "outputs": [],
   "source": [
    "dataset = \"s4_reference_design_noise_atmo_7splits\""
   ]
  },
  {
   "cell_type": "code",
   "execution_count": 4,
   "metadata": {
    "execution": {
     "iopub.execute_input": "2020-12-09T05:34:09.219547Z",
     "iopub.status.busy": "2020-12-09T05:34:09.219006Z",
     "iopub.status.idle": "2020-12-09T05:34:09.220937Z",
     "shell.execute_reply": "2020-12-09T05:34:09.221352Z"
    },
    "papermill": {
     "duration": 0.036241,
     "end_time": "2020-12-09T05:34:09.221489",
     "exception": false,
     "start_time": "2020-12-09T05:34:09.185248",
     "status": "completed"
    },
    "tags": [
     "parameters"
    ]
   },
   "outputs": [],
   "source": [
    "ch = f\"SAT-HFS1_chile\"\n",
    "nsplits = 1"
   ]
  },
  {
   "cell_type": "code",
   "execution_count": 5,
   "metadata": {
    "execution": {
     "iopub.execute_input": "2020-12-09T05:34:09.283347Z",
     "iopub.status.busy": "2020-12-09T05:34:09.282749Z",
     "iopub.status.idle": "2020-12-09T05:34:09.285646Z",
     "shell.execute_reply": "2020-12-09T05:34:09.285047Z"
    },
    "papermill": {
     "duration": 0.03549,
     "end_time": "2020-12-09T05:34:09.285767",
     "exception": false,
     "start_time": "2020-12-09T05:34:09.250277",
     "status": "completed"
    },
    "tags": [
     "injected-parameters"
    ]
   },
   "outputs": [],
   "source": [
    "# Parameters\n",
    "ch = \"SAT-LFS1_chile\"\n",
    "nsplits = 1\n"
   ]
  },
  {
   "cell_type": "code",
   "execution_count": 6,
   "metadata": {
    "execution": {
     "iopub.execute_input": "2020-12-09T05:34:09.348905Z",
     "iopub.status.busy": "2020-12-09T05:34:09.348358Z",
     "iopub.status.idle": "2020-12-09T05:34:09.351843Z",
     "shell.execute_reply": "2020-12-09T05:34:09.351375Z"
    },
    "papermill": {
     "duration": 0.036908,
     "end_time": "2020-12-09T05:34:09.351953",
     "exception": false,
     "start_time": "2020-12-09T05:34:09.315045",
     "status": "completed"
    },
    "tags": []
   },
   "outputs": [],
   "source": [
    "if os.path.exists(f\"plots/C_ell_{dataset}_{ch}_{nsplits}.png\"):\n",
    "    sys.exit(0)"
   ]
  },
  {
   "cell_type": "code",
   "execution_count": 7,
   "metadata": {
    "execution": {
     "iopub.execute_input": "2020-12-09T05:34:09.416332Z",
     "iopub.status.busy": "2020-12-09T05:34:09.415801Z",
     "iopub.status.idle": "2020-12-09T05:34:09.417955Z",
     "shell.execute_reply": "2020-12-09T05:34:09.418482Z"
    },
    "papermill": {
     "duration": 0.039045,
     "end_time": "2020-12-09T05:34:09.418617",
     "exception": false,
     "start_time": "2020-12-09T05:34:09.379572",
     "status": "completed"
    },
    "tags": []
   },
   "outputs": [],
   "source": [
    "sampling_frequency = dict(SAT=100*u.Hz, LAT=400*u.Hz)"
   ]
  },
  {
   "cell_type": "code",
   "execution_count": 8,
   "metadata": {
    "execution": {
     "iopub.execute_input": "2020-12-09T05:34:09.480760Z",
     "iopub.status.busy": "2020-12-09T05:34:09.480203Z",
     "iopub.status.idle": "2020-12-09T05:34:09.482936Z",
     "shell.execute_reply": "2020-12-09T05:34:09.482492Z"
    },
    "papermill": {
     "duration": 0.035839,
     "end_time": "2020-12-09T05:34:09.483064",
     "exception": false,
     "start_time": "2020-12-09T05:34:09.447225",
     "status": "completed"
    },
    "tags": []
   },
   "outputs": [],
   "source": [
    "#telescope = \"SAT\"\n",
    "#channel = \"LFS1\"\n",
    "#site = \"pole\""
   ]
  },
  {
   "cell_type": "code",
   "execution_count": 9,
   "metadata": {
    "execution": {
     "iopub.execute_input": "2020-12-09T05:34:09.548984Z",
     "iopub.status.busy": "2020-12-09T05:34:09.548447Z",
     "iopub.status.idle": "2020-12-09T05:34:09.550621Z",
     "shell.execute_reply": "2020-12-09T05:34:09.551018Z"
    },
    "papermill": {
     "duration": 0.035454,
     "end_time": "2020-12-09T05:34:09.551155",
     "exception": false,
     "start_time": "2020-12-09T05:34:09.515701",
     "status": "completed"
    },
    "tags": []
   },
   "outputs": [],
   "source": [
    "telescope = ch.split(\"-\")[0]\n",
    "channel, site= ch.split(\"-\")[1].split(\"_\")"
   ]
  },
  {
   "cell_type": "code",
   "execution_count": 10,
   "metadata": {
    "execution": {
     "iopub.execute_input": "2020-12-09T05:34:09.614173Z",
     "iopub.status.busy": "2020-12-09T05:34:09.613601Z",
     "iopub.status.idle": "2020-12-09T05:34:09.616226Z",
     "shell.execute_reply": "2020-12-09T05:34:09.615796Z"
    },
    "papermill": {
     "duration": 0.036534,
     "end_time": "2020-12-09T05:34:09.616333",
     "exception": false,
     "start_time": "2020-12-09T05:34:09.579799",
     "status": "completed"
    },
    "tags": []
   },
   "outputs": [],
   "source": [
    "local_path = Path(\"output\")\n",
    "project_path = Path(\"/global/project/projectdirs/cmbs4/dm/dstool/output/\")"
   ]
  },
  {
   "cell_type": "code",
   "execution_count": 11,
   "metadata": {
    "execution": {
     "iopub.execute_input": "2020-12-09T05:34:09.678807Z",
     "iopub.status.busy": "2020-12-09T05:34:09.678069Z",
     "iopub.status.idle": "2020-12-09T05:34:09.683282Z",
     "shell.execute_reply": "2020-12-09T05:34:09.682832Z"
    },
    "papermill": {
     "duration": 0.038711,
     "end_time": "2020-12-09T05:34:09.683389",
     "exception": false,
     "start_time": "2020-12-09T05:34:09.644678",
     "status": "completed"
    },
    "tags": []
   },
   "outputs": [],
   "source": [
    "C_ell = pickle.load(open(local_path / dataset / f\"C_ell_{telescope}_{nsplits}.pkl\", \"rb\"))"
   ]
  },
  {
   "cell_type": "code",
   "execution_count": 12,
   "metadata": {
    "execution": {
     "iopub.execute_input": "2020-12-09T05:34:09.750322Z",
     "iopub.status.busy": "2020-12-09T05:34:09.749746Z",
     "iopub.status.idle": "2020-12-09T05:34:09.752951Z",
     "shell.execute_reply": "2020-12-09T05:34:09.752505Z"
    },
    "papermill": {
     "duration": 0.041661,
     "end_time": "2020-12-09T05:34:09.753061",
     "exception": false,
     "start_time": "2020-12-09T05:34:09.711400",
     "status": "completed"
    },
    "tags": []
   },
   "outputs": [
    {
     "data": {
      "text/plain": [
       "('SAT', 'LFS1', 'chile')"
      ]
     },
     "execution_count": 12,
     "metadata": {},
     "output_type": "execute_result"
    }
   ],
   "source": [
    "telescope, channel, site"
   ]
  },
  {
   "cell_type": "code",
   "execution_count": 13,
   "metadata": {
    "execution": {
     "iopub.execute_input": "2020-12-09T05:34:09.817177Z",
     "iopub.status.busy": "2020-12-09T05:34:09.816621Z",
     "iopub.status.idle": "2020-12-09T05:34:09.820478Z",
     "shell.execute_reply": "2020-12-09T05:34:09.819801Z"
    },
    "papermill": {
     "duration": 0.038821,
     "end_time": "2020-12-09T05:34:09.820631",
     "exception": false,
     "start_time": "2020-12-09T05:34:09.781810",
     "status": "completed"
    },
    "tags": []
   },
   "outputs": [
    {
     "data": {
      "text/plain": [
       "dict_keys(['SAT-HFS1_chile', 'SAT-HFS2_chile', 'SAT-LFS1_chile', 'SAT-LFS2_chile', 'SAT-MFHS1_chile', 'SAT-MFHS2_chile', 'SAT-MFLS1_chile', 'SAT-MFLS2_chile'])"
      ]
     },
     "execution_count": 13,
     "metadata": {},
     "output_type": "execute_result"
    }
   ],
   "source": [
    "C_ell.keys()"
   ]
  },
  {
   "cell_type": "code",
   "execution_count": 14,
   "metadata": {
    "execution": {
     "iopub.execute_input": "2020-12-09T05:34:09.901534Z",
     "iopub.status.busy": "2020-12-09T05:34:09.901008Z",
     "iopub.status.idle": "2020-12-09T05:34:09.903448Z",
     "shell.execute_reply": "2020-12-09T05:34:09.902997Z"
    },
    "papermill": {
     "duration": 0.035815,
     "end_time": "2020-12-09T05:34:09.903556",
     "exception": false,
     "start_time": "2020-12-09T05:34:09.867741",
     "status": "completed"
    },
    "tags": []
   },
   "outputs": [],
   "source": [
    "nside = 4096 if telescope == \"LAT\" else 512"
   ]
  },
  {
   "cell_type": "code",
   "execution_count": 15,
   "metadata": {
    "execution": {
     "iopub.execute_input": "2020-12-09T05:34:09.966840Z",
     "iopub.status.busy": "2020-12-09T05:34:09.966305Z",
     "iopub.status.idle": "2020-12-09T05:34:09.970336Z",
     "shell.execute_reply": "2020-12-09T05:34:09.970823Z"
    },
    "papermill": {
     "duration": 0.038039,
     "end_time": "2020-12-09T05:34:09.970966",
     "exception": false,
     "start_time": "2020-12-09T05:34:09.932927",
     "status": "completed"
    },
    "tags": []
   },
   "outputs": [],
   "source": [
    "from s4_design_sim_tool.core import base_folder"
   ]
  },
  {
   "cell_type": "code",
   "execution_count": 16,
   "metadata": {
    "execution": {
     "iopub.execute_input": "2020-12-09T05:34:10.035514Z",
     "iopub.status.busy": "2020-12-09T05:34:10.034989Z",
     "iopub.status.idle": "2020-12-09T05:34:10.051191Z",
     "shell.execute_reply": "2020-12-09T05:34:10.050690Z"
    },
    "papermill": {
     "duration": 0.050444,
     "end_time": "2020-12-09T05:34:10.051302",
     "exception": false,
     "start_time": "2020-12-09T05:34:10.000858",
     "status": "completed"
    },
    "tags": []
   },
   "outputs": [],
   "source": [
    "from s4_design_sim_tool.cli import parse_config\n",
    "if site == \"chile\" and telescope == \"SAT\":\n",
    "    config = parse_config(f\"{dataset}.toml\", \"chile_sat.toml\")\n",
    "else:\n",
    "    config = parse_config(f\"{dataset}.toml\")"
   ]
  },
  {
   "cell_type": "code",
   "execution_count": 17,
   "metadata": {
    "execution": {
     "iopub.execute_input": "2020-12-09T05:34:10.114609Z",
     "iopub.status.busy": "2020-12-09T05:34:10.114058Z",
     "iopub.status.idle": "2020-12-09T05:34:10.249549Z",
     "shell.execute_reply": "2020-12-09T05:34:10.250256Z"
    },
    "papermill": {
     "duration": 0.169452,
     "end_time": "2020-12-09T05:34:10.250483",
     "exception": false,
     "start_time": "2020-12-09T05:34:10.081031",
     "status": "completed"
    },
    "tags": []
   },
   "outputs": [
    {
     "name": "stderr",
     "output_type": "stream",
     "text": [
      "/global/homes/z/zonca/condajupynersc/lib/python3.7/site-packages/healpy/fitsfunc.py:369: UserWarning: If you are not specifying the input dtype and using the default np.float64 dtype of read_map(), please consider that it will change in a future version to None as to keep the same dtype of the input file: please explicitly set the dtype if it is important to you.\n",
      "  \"If you are not specifying the input dtype and using the default \"\n",
      "/global/homes/z/zonca/condajupynersc/lib/python3.7/site-packages/healpy/fitsfunc.py:391: UserWarning: NSIDE = 512\n",
      "  warnings.warn(\"NSIDE = {0:d}\".format(nside))\n",
      "/global/homes/z/zonca/condajupynersc/lib/python3.7/site-packages/healpy/fitsfunc.py:400: UserWarning: ORDERING = RING in fits file\n",
      "  warnings.warn(\"ORDERING = {0:s} in fits file\".format(ordering))\n",
      "/global/homes/z/zonca/condajupynersc/lib/python3.7/site-packages/healpy/fitsfunc.py:428: UserWarning: INDXSCHM = IMPLICIT\n",
      "  warnings.warn(\"INDXSCHM = {0:s}\".format(schm))\n"
     ]
    }
   ],
   "source": [
    "hitmap = hp.read_map(local_path / dataset / ch / f\"cmbs4_hitmap_{ch}_nside{nside}_1_of_{nsplits}.fits\")"
   ]
  },
  {
   "cell_type": "code",
   "execution_count": 18,
   "metadata": {
    "execution": {
     "iopub.execute_input": "2020-12-09T05:34:10.320814Z",
     "iopub.status.busy": "2020-12-09T05:34:10.320295Z",
     "iopub.status.idle": "2020-12-09T05:34:10.323030Z",
     "shell.execute_reply": "2020-12-09T05:34:10.323733Z"
    },
    "papermill": {
     "duration": 0.043442,
     "end_time": "2020-12-09T05:34:10.323868",
     "exception": false,
     "start_time": "2020-12-09T05:34:10.280426",
     "status": "completed"
    },
    "tags": []
   },
   "outputs": [
    {
     "data": {
      "text/plain": [
       "'LFS1'"
      ]
     },
     "execution_count": 18,
     "metadata": {},
     "output_type": "execute_result"
    }
   ],
   "source": [
    "channel"
   ]
  },
  {
   "cell_type": "code",
   "execution_count": 19,
   "metadata": {
    "execution": {
     "iopub.execute_input": "2020-12-09T05:34:10.396463Z",
     "iopub.status.busy": "2020-12-09T05:34:10.395707Z",
     "iopub.status.idle": "2020-12-09T05:34:10.398526Z",
     "shell.execute_reply": "2020-12-09T05:34:10.398953Z"
    },
    "papermill": {
     "duration": 0.04198,
     "end_time": "2020-12-09T05:34:10.399084",
     "exception": false,
     "start_time": "2020-12-09T05:34:10.357104",
     "status": "completed"
    },
    "tags": []
   },
   "outputs": [
    {
     "data": {
      "text/plain": [
       "7"
      ]
     },
     "execution_count": 19,
     "metadata": {},
     "output_type": "execute_result"
    }
   ],
   "source": [
    "from s4_design_sim_tool.noise import get_tube_years\n",
    "tube_years = get_tube_years(config, site, channel)\n",
    "tube_years"
   ]
  },
  {
   "cell_type": "code",
   "execution_count": 20,
   "metadata": {
    "execution": {
     "iopub.execute_input": "2020-12-09T05:34:10.486920Z",
     "iopub.status.busy": "2020-12-09T05:34:10.486174Z",
     "iopub.status.idle": "2020-12-09T05:34:10.492603Z",
     "shell.execute_reply": "2020-12-09T05:34:10.493191Z"
    },
    "papermill": {
     "duration": 0.055863,
     "end_time": "2020-12-09T05:34:10.493372",
     "exception": false,
     "start_time": "2020-12-09T05:34:10.437509",
     "status": "completed"
    },
    "tags": []
   },
   "outputs": [
    {
     "data": {
      "text/plain": [
       "99.99999833301082"
      ]
     },
     "execution_count": 20,
     "metadata": {},
     "output_type": "execute_result"
    }
   ],
   "source": [
    "sampling_rate = hitmap.sum()\n",
    "sampling_rate /= 365.25 * 24 * 3600\n",
    "sampling_rate /= tube_years * config[\"experiment\"][\"observing_efficiency\"]\n",
    "sampling_rate /= s4[channel].attrs[\"detectors_per_tube\"]\n",
    "sampling_rate *= nsplits\n",
    "sampling_rate"
   ]
  },
  {
   "cell_type": "code",
   "execution_count": 21,
   "metadata": {
    "execution": {
     "iopub.execute_input": "2020-12-09T05:34:10.564636Z",
     "iopub.status.busy": "2020-12-09T05:34:10.564077Z",
     "iopub.status.idle": "2020-12-09T05:34:10.565826Z",
     "shell.execute_reply": "2020-12-09T05:34:10.566248Z"
    },
    "papermill": {
     "duration": 0.037532,
     "end_time": "2020-12-09T05:34:10.566376",
     "exception": false,
     "start_time": "2020-12-09T05:34:10.528844",
     "status": "completed"
    },
    "tags": []
   },
   "outputs": [],
   "source": [
    "np.testing.assert_allclose(sampling_rate, sampling_frequency[telescope].value, rtol=1/100)"
   ]
  },
  {
   "cell_type": "code",
   "execution_count": 22,
   "metadata": {
    "execution": {
     "iopub.execute_input": "2020-12-09T05:34:10.635840Z",
     "iopub.status.busy": "2020-12-09T05:34:10.635255Z",
     "iopub.status.idle": "2020-12-09T05:34:11.123303Z",
     "shell.execute_reply": "2020-12-09T05:34:11.123734Z"
    },
    "papermill": {
     "duration": 0.525344,
     "end_time": "2020-12-09T05:34:11.123893",
     "exception": false,
     "start_time": "2020-12-09T05:34:10.598549",
     "status": "completed"
    },
    "tags": []
   },
   "outputs": [
    {
     "name": "stderr",
     "output_type": "stream",
     "text": [
      "/global/homes/z/zonca/condajupynersc/lib/python3.7/site-packages/ipykernel_launcher.py:1: RuntimeWarning: divide by zero encountered in log10\n",
      "  \"\"\"Entry point for launching an IPython kernel.\n",
      "/global/homes/z/zonca/condajupynersc/lib/python3.7/site-packages/healpy/projaxes.py:920: MatplotlibDeprecationWarning: You are modifying the state of a globally registered colormap. In future versions, you will not be able to modify a registered colormap in-place. To remove this warning, you can make a copy of the colormap first. cmap = copy.copy(mpl.cm.get_cmap(\"viridis\"))\n",
      "  newcm.set_over(newcm(1.0))\n",
      "/global/homes/z/zonca/condajupynersc/lib/python3.7/site-packages/healpy/projaxes.py:921: MatplotlibDeprecationWarning: You are modifying the state of a globally registered colormap. In future versions, you will not be able to modify a registered colormap in-place. To remove this warning, you can make a copy of the colormap first. cmap = copy.copy(mpl.cm.get_cmap(\"viridis\"))\n",
      "  newcm.set_under(bgcolor)\n",
      "/global/homes/z/zonca/condajupynersc/lib/python3.7/site-packages/healpy/projaxes.py:922: MatplotlibDeprecationWarning: You are modifying the state of a globally registered colormap. In future versions, you will not be able to modify a registered colormap in-place. To remove this warning, you can make a copy of the colormap first. cmap = copy.copy(mpl.cm.get_cmap(\"viridis\"))\n",
      "  newcm.set_bad(badcolor)\n",
      "/global/homes/z/zonca/condajupynersc/lib/python3.7/site-packages/healpy/projaxes.py:211: MatplotlibDeprecationWarning: Passing parameters norm and vmin/vmax simultaneously is deprecated since 3.3 and will become an error two minor releases later. Please pass vmin/vmax directly to the norm when creating it.\n",
      "  **kwds\n"
     ]
    },
    {
     "data": {
      "image/png": "[encoded data removed]",
      "text/plain": [
       "<Figure size 612x388.8 with 2 Axes>"
      ]
     },
     "metadata": {
      "needs_background": "light"
     },
     "output_type": "display_data"
    }
   ],
   "source": [
    "log_hitmap = np.log10(hitmap)\n",
    "log_hitmap[np.isinf(log_hitmap)] = hp.UNSEEN\n",
    "hp.mollview(log_hitmap, unit=\"log10(samples)\", title=f\"Hitmap {ch}\")\n",
    "plt.savefig(f\"plots/hitmap_{channel}_{site}_1_of_{nsplits}.png\")"
   ]
  },
  {
   "cell_type": "code",
   "execution_count": 23,
   "metadata": {
    "execution": {
     "iopub.execute_input": "2020-12-09T05:34:11.204939Z",
     "iopub.status.busy": "2020-12-09T05:34:11.204384Z",
     "iopub.status.idle": "2020-12-09T05:34:11.460592Z",
     "shell.execute_reply": "2020-12-09T05:34:11.460120Z"
    },
    "papermill": {
     "duration": 0.295873,
     "end_time": "2020-12-09T05:34:11.460704",
     "exception": false,
     "start_time": "2020-12-09T05:34:11.164831",
     "status": "completed"
    },
    "tags": []
   },
   "outputs": [],
   "source": [
    "wcov = hp.read_map(local_path / dataset / ch / f\"cmbs4_wcov_{ch}_nside{nside}_1_of_{nsplits}.fits\", (3))"
   ]
  },
  {
   "cell_type": "code",
   "execution_count": 24,
   "metadata": {
    "execution": {
     "iopub.execute_input": "2020-12-09T05:34:11.542513Z",
     "iopub.status.busy": "2020-12-09T05:34:11.541957Z",
     "iopub.status.idle": "2020-12-09T05:34:11.544463Z",
     "shell.execute_reply": "2020-12-09T05:34:11.544879Z"
    },
    "papermill": {
     "duration": 0.041466,
     "end_time": "2020-12-09T05:34:11.545019",
     "exception": false,
     "start_time": "2020-12-09T05:34:11.503553",
     "status": "completed"
    },
    "tags": []
   },
   "outputs": [
    {
     "data": {
      "text/plain": [
       "(3145728,)"
      ]
     },
     "execution_count": 24,
     "metadata": {},
     "output_type": "execute_result"
    }
   ],
   "source": [
    "wcov.shape"
   ]
  },
  {
   "cell_type": "code",
   "execution_count": 25,
   "metadata": {
    "execution": {
     "iopub.execute_input": "2020-12-09T05:34:11.618258Z",
     "iopub.status.busy": "2020-12-09T05:34:11.617716Z",
     "iopub.status.idle": "2020-12-09T05:34:11.620161Z",
     "shell.execute_reply": "2020-12-09T05:34:11.619615Z"
    },
    "papermill": {
     "duration": 0.040839,
     "end_time": "2020-12-09T05:34:11.620272",
     "exception": false,
     "start_time": "2020-12-09T05:34:11.579433",
     "status": "completed"
    },
    "tags": []
   },
   "outputs": [],
   "source": [
    "import astropy.units as u"
   ]
  },
  {
   "cell_type": "code",
   "execution_count": 26,
   "metadata": {
    "execution": {
     "iopub.execute_input": "2020-12-09T05:34:11.695419Z",
     "iopub.status.busy": "2020-12-09T05:34:11.694869Z",
     "iopub.status.idle": "2020-12-09T05:34:11.696922Z",
     "shell.execute_reply": "2020-12-09T05:34:11.697340Z"
    },
    "papermill": {
     "duration": 0.042214,
     "end_time": "2020-12-09T05:34:11.697499",
     "exception": false,
     "start_time": "2020-12-09T05:34:11.655285",
     "status": "completed"
    },
    "tags": []
   },
   "outputs": [],
   "source": [
    "channel_NET = s4[channel].attrs[\"NET_uKsqrts\"] * u.uK * u.s ** .5"
   ]
  },
  {
   "cell_type": "code",
   "execution_count": 27,
   "metadata": {
    "execution": {
     "iopub.execute_input": "2020-12-09T05:34:11.772670Z",
     "iopub.status.busy": "2020-12-09T05:34:11.772114Z",
     "iopub.status.idle": "2020-12-09T05:34:11.774987Z",
     "shell.execute_reply": "2020-12-09T05:34:11.774510Z"
    },
    "papermill": {
     "duration": 0.042316,
     "end_time": "2020-12-09T05:34:11.775103",
     "exception": false,
     "start_time": "2020-12-09T05:34:11.732787",
     "status": "completed"
    },
    "tags": []
   },
   "outputs": [],
   "source": [
    "if telescope == \"LAT\" and site==\"pole\":\n",
    "    channel_NET = s4[channel].attrs[\"pole_NET_uKsqrts\"] * u.uK * u.s ** .5"
   ]
  },
  {
   "cell_type": "code",
   "execution_count": 28,
   "metadata": {
    "execution": {
     "iopub.execute_input": "2020-12-09T05:34:11.849927Z",
     "iopub.status.busy": "2020-12-09T05:34:11.849365Z",
     "iopub.status.idle": "2020-12-09T05:34:11.910425Z",
     "shell.execute_reply": "2020-12-09T05:34:11.910896Z"
    },
    "papermill": {
     "duration": 0.100624,
     "end_time": "2020-12-09T05:34:11.911054",
     "exception": false,
     "start_time": "2020-12-09T05:34:11.810430",
     "status": "completed"
    },
    "tags": []
   },
   "outputs": [],
   "source": [
    "variance_QQ = wcov * u.K ** 2 * (hitmap / sampling_frequency[telescope]) "
   ]
  },
  {
   "cell_type": "code",
   "execution_count": 29,
   "metadata": {
    "execution": {
     "iopub.execute_input": "2020-12-09T05:34:11.984323Z",
     "iopub.status.busy": "2020-12-09T05:34:11.983773Z",
     "iopub.status.idle": "2020-12-09T05:34:11.992541Z",
     "shell.execute_reply": "2020-12-09T05:34:11.992968Z"
    },
    "papermill": {
     "duration": 0.046866,
     "end_time": "2020-12-09T05:34:11.993124",
     "exception": false,
     "start_time": "2020-12-09T05:34:11.946258",
     "status": "completed"
    },
    "tags": []
   },
   "outputs": [],
   "source": [
    "assert (variance_QQ.value == hp.UNSEEN).sum() == 0"
   ]
  },
  {
   "cell_type": "code",
   "execution_count": 30,
   "metadata": {
    "execution": {
     "iopub.execute_input": "2020-12-09T05:34:12.095945Z",
     "iopub.status.busy": "2020-12-09T05:34:12.095394Z",
     "iopub.status.idle": "2020-12-09T05:34:12.125872Z",
     "shell.execute_reply": "2020-12-09T05:34:12.126455Z"
    },
    "papermill": {
     "duration": 0.070255,
     "end_time": "2020-12-09T05:34:12.126651",
     "exception": false,
     "start_time": "2020-12-09T05:34:12.056396",
     "status": "completed"
    },
    "tags": []
   },
   "outputs": [],
   "source": [
    "full_mission_NET = np.sqrt(np.median(variance_QQ[hitmap != 0]))"
   ]
  },
  {
   "cell_type": "code",
   "execution_count": 31,
   "metadata": {
    "execution": {
     "iopub.execute_input": "2020-12-09T05:34:12.203492Z",
     "iopub.status.busy": "2020-12-09T05:34:12.202949Z",
     "iopub.status.idle": "2020-12-09T05:34:12.205473Z",
     "shell.execute_reply": "2020-12-09T05:34:12.205887Z"
    },
    "papermill": {
     "duration": 0.043199,
     "end_time": "2020-12-09T05:34:12.206026",
     "exception": false,
     "start_time": "2020-12-09T05:34:12.162827",
     "status": "completed"
    },
    "tags": []
   },
   "outputs": [
    {
     "data": {
      "text/latex": [
       "$247.40911 \\; \\mathrm{\\mu K\\,s^{1/2}}$"
      ],
      "text/plain": [
       "<Quantity 247.40911056 s(1/2) uK>"
      ]
     },
     "execution_count": 31,
     "metadata": {},
     "output_type": "execute_result"
    }
   ],
   "source": [
    "full_mission_NET.to(channel_NET.unit)"
   ]
  },
  {
   "cell_type": "code",
   "execution_count": 32,
   "metadata": {
    "execution": {
     "iopub.execute_input": "2020-12-09T05:34:12.286460Z",
     "iopub.status.busy": "2020-12-09T05:34:12.285883Z",
     "iopub.status.idle": "2020-12-09T05:34:12.288160Z",
     "shell.execute_reply": "2020-12-09T05:34:12.288618Z"
    },
    "papermill": {
     "duration": 0.044614,
     "end_time": "2020-12-09T05:34:12.288812",
     "exception": false,
     "start_time": "2020-12-09T05:34:12.244198",
     "status": "completed"
    },
    "tags": []
   },
   "outputs": [
    {
     "data": {
      "text/latex": [
       "$177 \\; \\mathrm{\\mu K\\,s^{1/2}}$"
      ],
      "text/plain": [
       "<Quantity 177. s(1/2) uK>"
      ]
     },
     "execution_count": 32,
     "metadata": {},
     "output_type": "execute_result"
    }
   ],
   "source": [
    "channel_NET"
   ]
  },
  {
   "cell_type": "code",
   "execution_count": 33,
   "metadata": {
    "execution": {
     "iopub.execute_input": "2020-12-09T05:34:12.366885Z",
     "iopub.status.busy": "2020-12-09T05:34:12.366312Z",
     "iopub.status.idle": "2020-12-09T05:34:12.369363Z",
     "shell.execute_reply": "2020-12-09T05:34:12.368899Z"
    },
    "papermill": {
     "duration": 0.044114,
     "end_time": "2020-12-09T05:34:12.369480",
     "exception": false,
     "start_time": "2020-12-09T05:34:12.325366",
     "status": "completed"
    },
    "tags": []
   },
   "outputs": [
    {
     "data": {
      "text/latex": [
       "$174.94466 \\; \\mathrm{\\mu K\\,s^{1/2}}$"
      ],
      "text/plain": [
       "<Quantity 174.9446598 s(1/2) uK>"
      ]
     },
     "execution_count": 33,
     "metadata": {},
     "output_type": "execute_result"
    }
   ],
   "source": [
    "(full_mission_NET/np.sqrt(2)).to(channel_NET.unit)"
   ]
  },
  {
   "cell_type": "code",
   "execution_count": 34,
   "metadata": {
    "execution": {
     "iopub.execute_input": "2020-12-09T05:34:12.447202Z",
     "iopub.status.busy": "2020-12-09T05:34:12.446445Z",
     "iopub.status.idle": "2020-12-09T05:34:12.448267Z",
     "shell.execute_reply": "2020-12-09T05:34:12.448700Z"
    },
    "papermill": {
     "duration": 0.043819,
     "end_time": "2020-12-09T05:34:12.448846",
     "exception": false,
     "start_time": "2020-12-09T05:34:12.405027",
     "status": "completed"
    },
    "tags": []
   },
   "outputs": [],
   "source": [
    "assert_quantity_allclose(full_mission_NET, channel_NET*np.sqrt(2), rtol=10/100) "
   ]
  },
  {
   "cell_type": "code",
   "execution_count": 35,
   "metadata": {
    "execution": {
     "iopub.execute_input": "2020-12-09T05:34:12.528297Z",
     "iopub.status.busy": "2020-12-09T05:34:12.527744Z",
     "iopub.status.idle": "2020-12-09T05:34:12.536686Z",
     "shell.execute_reply": "2020-12-09T05:34:12.537115Z"
    },
    "papermill": {
     "duration": 0.05031,
     "end_time": "2020-12-09T05:34:12.537268",
     "exception": false,
     "start_time": "2020-12-09T05:34:12.486958",
     "status": "completed"
    },
    "tags": []
   },
   "outputs": [],
   "source": [
    "sky_fraction = (hitmap > 0).sum() / len(hitmap)"
   ]
  },
  {
   "cell_type": "code",
   "execution_count": 36,
   "metadata": {
    "execution": {
     "iopub.execute_input": "2020-12-09T05:34:12.616415Z",
     "iopub.status.busy": "2020-12-09T05:34:12.615865Z",
     "iopub.status.idle": "2020-12-09T05:34:12.618318Z",
     "shell.execute_reply": "2020-12-09T05:34:12.618740Z"
    },
    "papermill": {
     "duration": 0.044959,
     "end_time": "2020-12-09T05:34:12.618877",
     "exception": false,
     "start_time": "2020-12-09T05:34:12.573918",
     "status": "completed"
    },
    "tags": []
   },
   "outputs": [
    {
     "data": {
      "text/plain": [
       "0.43964417775472003"
      ]
     },
     "execution_count": 36,
     "metadata": {},
     "output_type": "execute_result"
    }
   ],
   "source": [
    "sky_fraction"
   ]
  },
  {
   "cell_type": "code",
   "execution_count": 37,
   "metadata": {
    "execution": {
     "iopub.execute_input": "2020-12-09T05:34:12.701825Z",
     "iopub.status.busy": "2020-12-09T05:34:12.701283Z",
     "iopub.status.idle": "2020-12-09T05:34:12.703513Z",
     "shell.execute_reply": "2020-12-09T05:34:12.703044Z"
    },
    "papermill": {
     "duration": 0.045718,
     "end_time": "2020-12-09T05:34:12.703621",
     "exception": false,
     "start_time": "2020-12-09T05:34:12.657903",
     "status": "completed"
    },
    "tags": []
   },
   "outputs": [],
   "source": [
    "pixarea = hp.nside2pixarea(nside)"
   ]
  },
  {
   "cell_type": "code",
   "execution_count": 38,
   "metadata": {
    "execution": {
     "iopub.execute_input": "2020-12-09T05:34:12.785600Z",
     "iopub.status.busy": "2020-12-09T05:34:12.785045Z",
     "iopub.status.idle": "2020-12-09T05:34:12.796961Z",
     "shell.execute_reply": "2020-12-09T05:34:12.797380Z"
    },
    "papermill": {
     "duration": 0.0546,
     "end_time": "2020-12-09T05:34:12.797535",
     "exception": false,
     "start_time": "2020-12-09T05:34:12.742935",
     "status": "completed"
    },
    "tags": []
   },
   "outputs": [
    {
     "data": {
      "text/plain": [
       "8.298453884445171e-16"
      ]
     },
     "execution_count": 38,
     "metadata": {},
     "output_type": "execute_result"
    }
   ],
   "source": [
    "np.mean(wcov[hitmap > 0])* pixarea"
   ]
  },
  {
   "cell_type": "code",
   "execution_count": 39,
   "metadata": {
    "execution": {
     "iopub.execute_input": "2020-12-09T05:34:12.881568Z",
     "iopub.status.busy": "2020-12-09T05:34:12.880989Z",
     "iopub.status.idle": "2020-12-09T05:34:12.890794Z",
     "shell.execute_reply": "2020-12-09T05:34:12.889992Z"
    },
    "papermill": {
     "duration": 0.053353,
     "end_time": "2020-12-09T05:34:12.890963",
     "exception": false,
     "start_time": "2020-12-09T05:34:12.837610",
     "status": "completed"
    },
    "tags": []
   },
   "outputs": [],
   "source": [
    "wcov [ wcov == hp.UNSEEN] = 0"
   ]
  },
  {
   "cell_type": "markdown",
   "metadata": {
    "papermill": {
     "duration": 0.038509,
     "end_time": "2020-12-09T05:34:12.970630",
     "exception": false,
     "start_time": "2020-12-09T05:34:12.932121",
     "status": "completed"
    },
    "tags": []
   },
   "source": [
    "## Atmosphere"
   ]
  },
  {
   "cell_type": "code",
   "execution_count": 40,
   "metadata": {
    "execution": {
     "iopub.execute_input": "2020-12-09T05:34:13.055151Z",
     "iopub.status.busy": "2020-12-09T05:34:13.054606Z",
     "iopub.status.idle": "2020-12-09T05:34:13.057205Z",
     "shell.execute_reply": "2020-12-09T05:34:13.057619Z"
    },
    "papermill": {
     "duration": 0.048224,
     "end_time": "2020-12-09T05:34:13.057766",
     "exception": false,
     "start_time": "2020-12-09T05:34:13.009542",
     "status": "completed"
    },
    "tags": []
   },
   "outputs": [],
   "source": [
    "atmosphere_filename = Path(base_folder) / \"00000000\" / f\"{site}_atmosphere_{telescope}_{channel}_filtered_telescope_all_time_all_bmap.fits\""
   ]
  },
  {
   "cell_type": "code",
   "execution_count": 41,
   "metadata": {
    "execution": {
     "iopub.execute_input": "2020-12-09T05:34:13.139445Z",
     "iopub.status.busy": "2020-12-09T05:34:13.138896Z",
     "iopub.status.idle": "2020-12-09T05:34:13.893740Z",
     "shell.execute_reply": "2020-12-09T05:34:13.894354Z"
    },
    "papermill": {
     "duration": 0.797389,
     "end_time": "2020-12-09T05:34:13.894588",
     "exception": false,
     "start_time": "2020-12-09T05:34:13.097199",
     "status": "completed"
    },
    "tags": []
   },
   "outputs": [
    {
     "name": "stderr",
     "output_type": "stream",
     "text": [
      "/global/homes/z/zonca/condajupynersc/lib/python3.7/site-packages/healpy/fitsfunc.py:400: UserWarning: ORDERING = NESTED in fits file\n",
      "  warnings.warn(\"ORDERING = {0:s} in fits file\".format(ordering))\n",
      "/global/homes/z/zonca/condajupynersc/lib/python3.7/site-packages/healpy/fitsfunc.py:486: UserWarning: Ordering converted to RING\n",
      "  warnings.warn(\"Ordering converted to RING\")\n"
     ]
    }
   ],
   "source": [
    "input_atmophere = hp.ma(hp.read_map(atmosphere_filename, (0,1,2)))"
   ]
  },
  {
   "cell_type": "code",
   "execution_count": 42,
   "metadata": {
    "execution": {
     "iopub.execute_input": "2020-12-09T05:34:13.978820Z",
     "iopub.status.busy": "2020-12-09T05:34:13.978255Z",
     "iopub.status.idle": "2020-12-09T05:34:14.017415Z",
     "shell.execute_reply": "2020-12-09T05:34:14.017876Z"
    },
    "papermill": {
     "duration": 0.083954,
     "end_time": "2020-12-09T05:34:14.018028",
     "exception": false,
     "start_time": "2020-12-09T05:34:13.934074",
     "status": "completed"
    },
    "tags": []
   },
   "outputs": [],
   "source": [
    "sqrt_hitmap = hitmap.copy()\n",
    "sqrt_hitmap[hitmap>0] = np.sqrt(hitmap[hitmap>0])"
   ]
  },
  {
   "cell_type": "code",
   "execution_count": 43,
   "metadata": {
    "execution": {
     "iopub.execute_input": "2020-12-09T05:34:14.102935Z",
     "iopub.status.busy": "2020-12-09T05:34:14.102291Z",
     "iopub.status.idle": "2020-12-09T05:34:15.790517Z",
     "shell.execute_reply": "2020-12-09T05:34:15.790950Z"
    },
    "papermill": {
     "duration": 1.732728,
     "end_time": "2020-12-09T05:34:15.791103",
     "exception": false,
     "start_time": "2020-12-09T05:34:14.058375",
     "status": "completed"
    },
    "tags": []
   },
   "outputs": [],
   "source": [
    "atmo_cl = \\\n",
    "hp.anafast(input_atmophere * sqrt_hitmap, use_pixel_weights=True) / np.mean(hitmap) # / sky_fraction"
   ]
  },
  {
   "cell_type": "code",
   "execution_count": 44,
   "metadata": {
    "execution": {
     "iopub.execute_input": "2020-12-09T05:34:15.904211Z",
     "iopub.status.busy": "2020-12-09T05:34:15.903256Z",
     "iopub.status.idle": "2020-12-09T05:34:15.905265Z",
     "shell.execute_reply": "2020-12-09T05:34:15.906086Z"
    },
    "papermill": {
     "duration": 0.073944,
     "end_time": "2020-12-09T05:34:15.906300",
     "exception": false,
     "start_time": "2020-12-09T05:34:15.832356",
     "status": "completed"
    },
    "tags": []
   },
   "outputs": [],
   "source": [
    "from s4_design_sim_tool.atmosphere import get_telecope_years"
   ]
  },
  {
   "cell_type": "code",
   "execution_count": 45,
   "metadata": {
    "execution": {
     "iopub.execute_input": "2020-12-09T05:34:16.006781Z",
     "iopub.status.busy": "2020-12-09T05:34:16.006244Z",
     "iopub.status.idle": "2020-12-09T05:34:16.008089Z",
     "shell.execute_reply": "2020-12-09T05:34:16.008517Z"
    },
    "papermill": {
     "duration": 0.045806,
     "end_time": "2020-12-09T05:34:16.008647",
     "exception": false,
     "start_time": "2020-12-09T05:34:15.962841",
     "status": "completed"
    },
    "tags": []
   },
   "outputs": [],
   "source": [
    "telescope_years = get_telecope_years(config, site, channel)"
   ]
  },
  {
   "cell_type": "code",
   "execution_count": 46,
   "metadata": {
    "execution": {
     "iopub.execute_input": "2020-12-09T05:34:16.091246Z",
     "iopub.status.busy": "2020-12-09T05:34:16.090722Z",
     "iopub.status.idle": "2020-12-09T05:34:16.093627Z",
     "shell.execute_reply": "2020-12-09T05:34:16.093195Z"
    },
    "papermill": {
     "duration": 0.04633,
     "end_time": "2020-12-09T05:34:16.093740",
     "exception": false,
     "start_time": "2020-12-09T05:34:16.047410",
     "status": "completed"
    },
    "tags": []
   },
   "outputs": [
    {
     "data": {
      "text/plain": [
       "7"
      ]
     },
     "execution_count": 46,
     "metadata": {},
     "output_type": "execute_result"
    }
   ],
   "source": [
    "telescope_years"
   ]
  },
  {
   "cell_type": "code",
   "execution_count": 47,
   "metadata": {
    "execution": {
     "iopub.execute_input": "2020-12-09T05:34:16.177351Z",
     "iopub.status.busy": "2020-12-09T05:34:16.176828Z",
     "iopub.status.idle": "2020-12-09T05:34:16.178892Z",
     "shell.execute_reply": "2020-12-09T05:34:16.179289Z"
    },
    "papermill": {
     "duration": 0.046453,
     "end_time": "2020-12-09T05:34:16.179423",
     "exception": false,
     "start_time": "2020-12-09T05:34:16.132970",
     "status": "completed"
    },
    "tags": []
   },
   "outputs": [],
   "source": [
    "from s4_design_sim_tool.core import simulations_observing_efficiency"
   ]
  },
  {
   "cell_type": "code",
   "execution_count": 48,
   "metadata": {
    "execution": {
     "iopub.execute_input": "2020-12-09T05:34:16.263767Z",
     "iopub.status.busy": "2020-12-09T05:34:16.263245Z",
     "iopub.status.idle": "2020-12-09T05:34:16.265871Z",
     "shell.execute_reply": "2020-12-09T05:34:16.266270Z"
    },
    "papermill": {
     "duration": 0.046155,
     "end_time": "2020-12-09T05:34:16.266420",
     "exception": false,
     "start_time": "2020-12-09T05:34:16.220265",
     "status": "completed"
    },
    "tags": []
   },
   "outputs": [
    {
     "data": {
      "text/plain": [
       "{'pole': {'SAT': 0.3931149305555555, 'LAT': 0.321544537037037},\n",
       " 'chile': {'SAT': 0.8656164351851852, 'LAT': 0.917306712962963}}"
      ]
     },
     "execution_count": 48,
     "metadata": {},
     "output_type": "execute_result"
    }
   ],
   "source": [
    "simulations_observing_efficiency"
   ]
  },
  {
   "cell_type": "code",
   "execution_count": 49,
   "metadata": {
    "execution": {
     "iopub.execute_input": "2020-12-09T05:34:16.353795Z",
     "iopub.status.busy": "2020-12-09T05:34:16.353262Z",
     "iopub.status.idle": "2020-12-09T05:34:16.355834Z",
     "shell.execute_reply": "2020-12-09T05:34:16.355400Z"
    },
    "papermill": {
     "duration": 0.048294,
     "end_time": "2020-12-09T05:34:16.355944",
     "exception": false,
     "start_time": "2020-12-09T05:34:16.307650",
     "status": "completed"
    },
    "tags": []
   },
   "outputs": [],
   "source": [
    "atmo_cl *= 10 / 365.25\n",
    "atmo_cl *= simulations_observing_efficiency[site.lower()].get(telescope, 1) / config[\"experiment\"][\"observing_efficiency\"]                                                                    \n",
    "atmo_cl /= telescope_years"
   ]
  },
  {
   "cell_type": "markdown",
   "metadata": {
    "papermill": {
     "duration": 0.040411,
     "end_time": "2020-12-09T05:34:16.436340",
     "exception": false,
     "start_time": "2020-12-09T05:34:16.395929",
     "status": "completed"
    },
    "tags": []
   },
   "source": [
    "## Noise"
   ]
  },
  {
   "cell_type": "code",
   "execution_count": 50,
   "metadata": {
    "execution": {
     "iopub.execute_input": "2020-12-09T05:34:16.521826Z",
     "iopub.status.busy": "2020-12-09T05:34:16.521297Z",
     "iopub.status.idle": "2020-12-09T05:34:16.523516Z",
     "shell.execute_reply": "2020-12-09T05:34:16.523060Z"
    },
    "papermill": {
     "duration": 0.047229,
     "end_time": "2020-12-09T05:34:16.523618",
     "exception": false,
     "start_time": "2020-12-09T05:34:16.476389",
     "status": "completed"
    },
    "tags": []
   },
   "outputs": [],
   "source": [
    "noise_filename = Path(base_folder) / \"00000000\" / f\"{site}_noise_{telescope}_{channel}_filtered_telescope_all_time_all_bmap.fits\""
   ]
  },
  {
   "cell_type": "code",
   "execution_count": 51,
   "metadata": {
    "execution": {
     "iopub.execute_input": "2020-12-09T05:34:16.608642Z",
     "iopub.status.busy": "2020-12-09T05:34:16.608114Z",
     "iopub.status.idle": "2020-12-09T05:34:16.610292Z",
     "shell.execute_reply": "2020-12-09T05:34:16.610703Z"
    },
    "papermill": {
     "duration": 0.047224,
     "end_time": "2020-12-09T05:34:16.610838",
     "exception": false,
     "start_time": "2020-12-09T05:34:16.563614",
     "status": "completed"
    },
    "tags": []
   },
   "outputs": [],
   "source": [
    "#input_noise = hp.ma(hp.read_map(noise_filename, (0,1,2)))"
   ]
  },
  {
   "cell_type": "code",
   "execution_count": 52,
   "metadata": {
    "execution": {
     "iopub.execute_input": "2020-12-09T05:34:16.698682Z",
     "iopub.status.busy": "2020-12-09T05:34:16.698131Z",
     "iopub.status.idle": "2020-12-09T05:34:16.699994Z",
     "shell.execute_reply": "2020-12-09T05:34:16.700399Z"
    },
    "papermill": {
     "duration": 0.046294,
     "end_time": "2020-12-09T05:34:16.700542",
     "exception": false,
     "start_time": "2020-12-09T05:34:16.654248",
     "status": "completed"
    },
    "tags": []
   },
   "outputs": [],
   "source": [
    "#noise_cl = hp.anafast(input_noise * sqrt_hitmap, use_pixel_weights=True) / np.mean(hitmap) / sky_fraction"
   ]
  },
  {
   "cell_type": "code",
   "execution_count": 53,
   "metadata": {
    "execution": {
     "iopub.execute_input": "2020-12-09T05:34:16.785010Z",
     "iopub.status.busy": "2020-12-09T05:34:16.784483Z",
     "iopub.status.idle": "2020-12-09T05:34:16.786164Z",
     "shell.execute_reply": "2020-12-09T05:34:16.786600Z"
    },
    "papermill": {
     "duration": 0.046447,
     "end_time": "2020-12-09T05:34:16.786728",
     "exception": false,
     "start_time": "2020-12-09T05:34:16.740281",
     "status": "completed"
    },
    "tags": []
   },
   "outputs": [],
   "source": [
    "del sqrt_hitmap"
   ]
  },
  {
   "cell_type": "code",
   "execution_count": 54,
   "metadata": {
    "execution": {
     "iopub.execute_input": "2020-12-09T05:34:16.874166Z",
     "iopub.status.busy": "2020-12-09T05:34:16.873609Z",
     "iopub.status.idle": "2020-12-09T05:34:16.876096Z",
     "shell.execute_reply": "2020-12-09T05:34:16.875620Z"
    },
    "papermill": {
     "duration": 0.048155,
     "end_time": "2020-12-09T05:34:16.876207",
     "exception": false,
     "start_time": "2020-12-09T05:34:16.828052",
     "status": "completed"
    },
    "tags": []
   },
   "outputs": [],
   "source": [
    "from s4_design_sim_tool.noise import get_thinfp\n",
    "thinfp = get_thinfp(channel)"
   ]
  },
  {
   "cell_type": "code",
   "execution_count": 55,
   "metadata": {
    "execution": {
     "iopub.execute_input": "2020-12-09T05:34:16.965581Z",
     "iopub.status.busy": "2020-12-09T05:34:16.965026Z",
     "iopub.status.idle": "2020-12-09T05:34:16.967955Z",
     "shell.execute_reply": "2020-12-09T05:34:16.968358Z"
    },
    "papermill": {
     "duration": 0.051051,
     "end_time": "2020-12-09T05:34:16.968504",
     "exception": false,
     "start_time": "2020-12-09T05:34:16.917453",
     "status": "completed"
    },
    "tags": []
   },
   "outputs": [
    {
     "data": {
      "text/html": [
       "&lt;Column name=&apos;thinfp&apos; dtype=&apos;int64&apos; length=1&gt;\n",
       "<table>\n",
       "<tr><td>1</td></tr>\n",
       "</table>"
      ],
      "text/plain": [
       "<Column name='thinfp' dtype='int64' length=1>\n",
       "1"
      ]
     },
     "execution_count": 55,
     "metadata": {},
     "output_type": "execute_result"
    }
   ],
   "source": [
    "thinfp"
   ]
  },
  {
   "cell_type": "code",
   "execution_count": 56,
   "metadata": {
    "execution": {
     "iopub.execute_input": "2020-12-09T05:34:17.056964Z",
     "iopub.status.busy": "2020-12-09T05:34:17.056426Z",
     "iopub.status.idle": "2020-12-09T05:34:17.058064Z",
     "shell.execute_reply": "2020-12-09T05:34:17.058474Z"
    },
    "papermill": {
     "duration": 0.047546,
     "end_time": "2020-12-09T05:34:17.058612",
     "exception": false,
     "start_time": "2020-12-09T05:34:17.011066",
     "status": "completed"
    },
    "tags": []
   },
   "outputs": [],
   "source": [
    "#noise_cl *= 10 / 365.25\n",
    "#noise_cl *= simulations_observing_efficiency[site.lower()].get(telescope, 1) / config[\"experiment\"][\"observing_efficiency\"]                                                                    \n",
    "#noise_cl /= tube_years\n",
    "#noise_cl /= thinfp"
   ]
  },
  {
   "cell_type": "code",
   "execution_count": 57,
   "metadata": {
    "execution": {
     "iopub.execute_input": "2020-12-09T05:34:17.149230Z",
     "iopub.status.busy": "2020-12-09T05:34:17.148698Z",
     "iopub.status.idle": "2020-12-09T05:34:17.160544Z",
     "shell.execute_reply": "2020-12-09T05:34:17.160069Z"
    },
    "papermill": {
     "duration": 0.059624,
     "end_time": "2020-12-09T05:34:17.160662",
     "exception": false,
     "start_time": "2020-12-09T05:34:17.101038",
     "status": "completed"
    },
    "tags": []
   },
   "outputs": [],
   "source": [
    "white_noise_Cl = channel_NET**2 \\\n",
    "/ (hitmap.sum() / sampling_frequency[telescope] / (hitmap>0).sum()) * pixarea # / sky_fraction"
   ]
  },
  {
   "cell_type": "code",
   "execution_count": 58,
   "metadata": {
    "execution": {
     "iopub.execute_input": "2020-12-09T05:34:17.252222Z",
     "iopub.status.busy": "2020-12-09T05:34:17.251560Z",
     "iopub.status.idle": "2020-12-09T05:34:17.254242Z",
     "shell.execute_reply": "2020-12-09T05:34:17.254770Z"
    },
    "papermill": {
     "duration": 0.051362,
     "end_time": "2020-12-09T05:34:17.254972",
     "exception": false,
     "start_time": "2020-12-09T05:34:17.203610",
     "status": "completed"
    },
    "tags": []
   },
   "outputs": [
    {
     "data": {
      "text/latex": [
       "$1.3235307 \\times 10^{-17} \\; \\mathrm{K^{2}}$"
      ],
      "text/plain": [
       "<Quantity 1.32353069e-17 K2>"
      ]
     },
     "execution_count": 58,
     "metadata": {},
     "output_type": "execute_result"
    }
   ],
   "source": [
    "white_noise_Cl.decompose()"
   ]
  },
  {
   "cell_type": "code",
   "execution_count": 59,
   "metadata": {
    "execution": {
     "iopub.execute_input": "2020-12-09T05:34:17.364537Z",
     "iopub.status.busy": "2020-12-09T05:34:17.364007Z",
     "iopub.status.idle": "2020-12-09T05:34:17.881340Z",
     "shell.execute_reply": "2020-12-09T05:34:17.881973Z"
    },
    "papermill": {
     "duration": 0.569187,
     "end_time": "2020-12-09T05:34:17.882157",
     "exception": false,
     "start_time": "2020-12-09T05:34:17.312970",
     "status": "completed"
    },
    "tags": []
   },
   "outputs": [],
   "source": [
    "import seaborn as sns"
   ]
  },
  {
   "cell_type": "code",
   "execution_count": 60,
   "metadata": {
    "execution": {
     "iopub.execute_input": "2020-12-09T05:34:17.991332Z",
     "iopub.status.busy": "2020-12-09T05:34:17.990789Z",
     "iopub.status.idle": "2020-12-09T05:34:17.992589Z",
     "shell.execute_reply": "2020-12-09T05:34:17.993004Z"
    },
    "papermill": {
     "duration": 0.049185,
     "end_time": "2020-12-09T05:34:17.993175",
     "exception": false,
     "start_time": "2020-12-09T05:34:17.943990",
     "status": "completed"
    },
    "tags": []
   },
   "outputs": [],
   "source": [
    "sns.set_style(\"whitegrid\")"
   ]
  },
  {
   "cell_type": "code",
   "execution_count": 61,
   "metadata": {
    "execution": {
     "iopub.execute_input": "2020-12-09T05:34:18.114740Z",
     "iopub.status.busy": "2020-12-09T05:34:18.113323Z",
     "iopub.status.idle": "2020-12-09T05:34:19.870529Z",
     "shell.execute_reply": "2020-12-09T05:34:19.871172Z"
    },
    "papermill": {
     "duration": 1.821745,
     "end_time": "2020-12-09T05:34:19.871395",
     "exception": false,
     "start_time": "2020-12-09T05:34:18.049650",
     "status": "completed"
    },
    "tags": []
   },
   "outputs": [
    {
     "data": {
      "image/png": "[encoded data removed]",
      "text/plain": [
       "<Figure size 576x360 with 1 Axes>"
      ]
     },
     "metadata": {},
     "output_type": "display_data"
    }
   ],
   "source": [
    "plt.figure(figsize=(8,5))\n",
    "\n",
    "pols = [\"TT\", \"EE\", \"BB\"]\n",
    "\n",
    "for i, pol in enumerate(pols):\n",
    "    for split in range(1, nsplits+1):\n",
    "        plt.loglog(C_ell[ch][split][i], alpha=.8, label=pol)\n",
    "\n",
    "for i, pol in enumerate(pols):\n",
    "    plt.loglog(atmo_cl[i]*nsplits, alpha=.8, ls=\"--\", label=f\"atmo {pol}\")\n",
    "\n",
    "#for i, pol in enumerate(pols):\n",
    "#    plt.loglog(noise_cl[i], alpha=.8, ls=\"-.\", label=f\"noise {pol}\")\n",
    "\n",
    "plt.axhline(white_noise_Cl.to_value(u.K**2), ls=\":\",\n",
    "           label=\"white noise T\", color=\"black\")\n",
    "plt.axhline(white_noise_Cl.to_value(u.K**2)*2, ls=\":\",\n",
    "           label=\"white noise P\", color=\"grey\")\n",
    "plt.legend()\n",
    "plt.title(f\"Noise + Atmosphere simulations spectra for {ch}\")\n",
    "plt.ylabel(\"$C_\\ell [K^2]$\")\n",
    "plt.xlabel(\"$\\ell$\")\n",
    "plt.xlim((10, 3*nside))\n",
    "plt.grid(True)\n",
    "plt.savefig(f\"plots/C_ell_{dataset}_{ch}_{nsplits}.png\");"
   ]
  },
  {
   "cell_type": "code",
   "execution_count": null,
   "metadata": {
    "papermill": {
     "duration": 0.044959,
     "end_time": "2020-12-09T05:34:19.964054",
     "exception": false,
     "start_time": "2020-12-09T05:34:19.919095",
     "status": "completed"
    },
    "tags": []
   },
   "outputs": [],
   "source": []
  }
 ],
 "metadata": {
  "kernelspec": {
   "display_name": "condajupynersc",
   "language": "python",
   "name": "condajupynersc"
  },
  "language_info": {
   "codemirror_mode": {
    "name": "ipython",
    "version": 3
   },
   "file_extension": ".py",
   "mimetype": "text/x-python",
   "name": "python",
   "nbconvert_exporter": "python",
   "pygments_lexer": "ipython3",
   "version": "3.7.0"
  },
  "papermill": {
   "duration": 14.824368,
   "end_time": "2020-12-09T05:34:20.529059",
   "environment_variables": {},
   "exception": null,
   "input_path": "validation_atmo_noise_dec_2020.ipynb",
   "output_path": "validation_notebooks/SAT-LFS1_chile_1.ipynb",
   "parameters": {
    "ch": "SAT-LFS1_chile",
    "nsplits": 1
   },
   "start_time": "2020-12-09T05:34:05.704691",
   "version": "2.1.2"
  }
 },
 "nbformat": 4,
 "nbformat_minor": 4
}