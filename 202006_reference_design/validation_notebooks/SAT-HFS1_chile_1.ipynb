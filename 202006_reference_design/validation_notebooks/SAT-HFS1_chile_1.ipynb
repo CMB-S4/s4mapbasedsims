{
 "cells": [
  {
   "cell_type": "code",
   "execution_count": 1,
   "metadata": {
    "execution": {
     "iopub.execute_input": "2020-12-09T05:33:36.116451Z",
     "iopub.status.busy": "2020-12-09T05:33:36.115802Z",
     "iopub.status.idle": "2020-12-09T05:33:40.249109Z",
     "shell.execute_reply": "2020-12-09T05:33:40.249580Z"
    },
    "papermill": {
     "duration": 4.169878,
     "end_time": "2020-12-09T05:33:40.249941",
     "exception": false,
     "start_time": "2020-12-09T05:33:36.080063",
     "status": "completed"
    },
    "tags": []
   },
   "outputs": [],
   "source": [
    "import healpy as hp\n",
    "import numpy as np\n",
    "%matplotlib inline\n",
    "import matplotlib.pyplot as plt\n",
    "from pathlib import Path\n",
    "from astropy.tests.helper import assert_quantity_allclose\n",
    "import pickle\n",
    "import sys\n",
    "import os\n",
    "from astropy import units as u"
   ]
  },
  {
   "cell_type": "code",
   "execution_count": 2,
   "metadata": {
    "execution": {
     "iopub.execute_input": "2020-12-09T05:33:40.311706Z",
     "iopub.status.busy": "2020-12-09T05:33:40.311158Z",
     "iopub.status.idle": "2020-12-09T05:33:40.469799Z",
     "shell.execute_reply": "2020-12-09T05:33:40.470267Z"
    },
    "papermill": {
     "duration": 0.190402,
     "end_time": "2020-12-09T05:33:40.470455",
     "exception": false,
     "start_time": "2020-12-09T05:33:40.280053",
     "status": "completed"
    },
    "tags": []
   },
   "outputs": [],
   "source": [
    "import h5py\n",
    "s4 = h5py.File(\"cmbs4_tophat.h5\", mode=\"r\")"
   ]
  },
  {
   "cell_type": "code",
   "execution_count": 3,
   "metadata": {
    "execution": {
     "iopub.execute_input": "2020-12-09T05:33:40.534327Z",
     "iopub.status.busy": "2020-12-09T05:33:40.533770Z",
     "iopub.status.idle": "2020-12-09T05:33:40.536345Z",
     "shell.execute_reply": "2020-12-09T05:33:40.535760Z"
    },
    "papermill": {
     "duration": 0.036673,
     "end_time": "2020-12-09T05:33:40.536457",
     "exception": false,
     "start_time": "2020-12-09T05:33:40.499784",
     "status": "completed"
    },
    "tags": []
   },
   "outputs": [],
   "source": [
    "dataset = \"s4_reference_design_noise_atmo_7splits\""
   ]
  },
  {
   "cell_type": "code",
   "execution_count": 4,
   "metadata": {
    "execution": {
     "iopub.execute_input": "2020-12-09T05:33:40.599008Z",
     "iopub.status.busy": "2020-12-09T05:33:40.598452Z",
     "iopub.status.idle": "2020-12-09T05:33:40.601158Z",
     "shell.execute_reply": "2020-12-09T05:33:40.600667Z"
    },
    "papermill": {
     "duration": 0.036295,
     "end_time": "2020-12-09T05:33:40.601282",
     "exception": false,
     "start_time": "2020-12-09T05:33:40.564987",
     "status": "completed"
    },
    "tags": [
     "parameters"
    ]
   },
   "outputs": [],
   "source": [
    "ch = f\"SAT-HFS1_chile\"\n",
    "nsplits = 1"
   ]
  },
  {
   "cell_type": "code",
   "execution_count": 5,
   "metadata": {
    "execution": {
     "iopub.execute_input": "2020-12-09T05:33:40.663964Z",
     "iopub.status.busy": "2020-12-09T05:33:40.663391Z",
     "iopub.status.idle": "2020-12-09T05:33:40.665102Z",
     "shell.execute_reply": "2020-12-09T05:33:40.665550Z"
    },
    "papermill": {
     "duration": 0.035818,
     "end_time": "2020-12-09T05:33:40.665701",
     "exception": false,
     "start_time": "2020-12-09T05:33:40.629883",
     "status": "completed"
    },
    "tags": [
     "injected-parameters"
    ]
   },
   "outputs": [],
   "source": [
    "# Parameters\n",
    "ch = \"SAT-HFS1_chile\"\n",
    "nsplits = 1\n"
   ]
  },
  {
   "cell_type": "code",
   "execution_count": 6,
   "metadata": {
    "execution": {
     "iopub.execute_input": "2020-12-09T05:33:40.728651Z",
     "iopub.status.busy": "2020-12-09T05:33:40.728038Z",
     "iopub.status.idle": "2020-12-09T05:33:40.747008Z",
     "shell.execute_reply": "2020-12-09T05:33:40.746251Z"
    },
    "papermill": {
     "duration": 0.052349,
     "end_time": "2020-12-09T05:33:40.747273",
     "exception": true,
     "start_time": "2020-12-09T05:33:40.694924",
     "status": "failed"
    },
    "tags": []
   },
   "outputs": [
    {
     "ename": "SystemExit",
     "evalue": "0",
     "output_type": "error",
     "traceback": [
      "An exception has occurred, use %tb to see the full traceback.\n",
      "\u001b[0;31mSystemExit\u001b[0m\u001b[0;31m:\u001b[0m 0\n"
     ]
    },
    {
     "name": "stderr",
     "output_type": "stream",
     "text": [
      "/global/homes/z/zonca/condajupynersc/lib/python3.7/site-packages/IPython/core/interactiveshell.py:3425: UserWarning: To exit: use 'exit', 'quit', or Ctrl-D.\n",
      "  warn(\"To exit: use 'exit', 'quit', or Ctrl-D.\", stacklevel=1)\n"
     ]
    }
   ],
   "source": [
    "if os.path.exists(f\"plots/C_ell_{dataset}_{ch}_{nsplits}.png\"):\n",
    "    sys.exit(0)"
   ]
  },
  {
   "cell_type": "code",
   "execution_count": null,
   "metadata": {
    "papermill": {
     "duration": null,
     "end_time": null,
     "exception": null,
     "start_time": null,
     "status": "pending"
    },
    "tags": []
   },
   "outputs": [],
   "source": [
    "sampling_frequency = dict(SAT=100*u.Hz, LAT=400*u.Hz)"
   ]
  },
  {
   "cell_type": "code",
   "execution_count": null,
   "metadata": {
    "papermill": {
     "duration": null,
     "end_time": null,
     "exception": null,
     "start_time": null,
     "status": "pending"
    },
    "tags": []
   },
   "outputs": [],
   "source": [
    "#telescope = \"SAT\"\n",
    "#channel = \"LFS1\"\n",
    "#site = \"pole\""
   ]
  },
  {
   "cell_type": "code",
   "execution_count": null,
   "metadata": {
    "papermill": {
     "duration": null,
     "end_time": null,
     "exception": null,
     "start_time": null,
     "status": "pending"
    },
    "tags": []
   },
   "outputs": [],
   "source": [
    "telescope = ch.split(\"-\")[0]\n",
    "channel, site= ch.split(\"-\")[1].split(\"_\")"
   ]
  },
  {
   "cell_type": "code",
   "execution_count": null,
   "metadata": {
    "papermill": {
     "duration": null,
     "end_time": null,
     "exception": null,
     "start_time": null,
     "status": "pending"
    },
    "tags": []
   },
   "outputs": [],
   "source": [
    "local_path = Path(\"output\")\n",
    "project_path = Path(\"/global/project/projectdirs/cmbs4/dm/dstool/output/\")"
   ]
  },
  {
   "cell_type": "code",
   "execution_count": null,
   "metadata": {
    "papermill": {
     "duration": null,
     "end_time": null,
     "exception": null,
     "start_time": null,
     "status": "pending"
    },
    "tags": []
   },
   "outputs": [],
   "source": [
    "C_ell = pickle.load(open(local_path / dataset / f\"C_ell_{telescope}_{nsplits}.pkl\", \"rb\"))"
   ]
  },
  {
   "cell_type": "code",
   "execution_count": null,
   "metadata": {
    "papermill": {
     "duration": null,
     "end_time": null,
     "exception": null,
     "start_time": null,
     "status": "pending"
    },
    "tags": []
   },
   "outputs": [],
   "source": [
    "telescope, channel, site"
   ]
  },
  {
   "cell_type": "code",
   "execution_count": null,
   "metadata": {
    "papermill": {
     "duration": null,
     "end_time": null,
     "exception": null,
     "start_time": null,
     "status": "pending"
    },
    "tags": []
   },
   "outputs": [],
   "source": [
    "C_ell.keys()"
   ]
  },
  {
   "cell_type": "code",
   "execution_count": null,
   "metadata": {
    "papermill": {
     "duration": null,
     "end_time": null,
     "exception": null,
     "start_time": null,
     "status": "pending"
    },
    "tags": []
   },
   "outputs": [],
   "source": [
    "nside = 4096 if telescope == \"LAT\" else 512"
   ]
  },
  {
   "cell_type": "code",
   "execution_count": null,
   "metadata": {
    "papermill": {
     "duration": null,
     "end_time": null,
     "exception": null,
     "start_time": null,
     "status": "pending"
    },
    "tags": []
   },
   "outputs": [],
   "source": [
    "from s4_design_sim_tool.core import base_folder"
   ]
  },
  {
   "cell_type": "code",
   "execution_count": null,
   "metadata": {
    "papermill": {
     "duration": null,
     "end_time": null,
     "exception": null,
     "start_time": null,
     "status": "pending"
    },
    "tags": []
   },
   "outputs": [],
   "source": [
    "from s4_design_sim_tool.cli import parse_config\n",
    "if site == \"chile\" and telescope == \"SAT\":\n",
    "    config = parse_config(f\"{dataset}.toml\", \"chile_sat.toml\")\n",
    "else:\n",
    "    config = parse_config(f\"{dataset}.toml\")"
   ]
  },
  {
   "cell_type": "code",
   "execution_count": null,
   "metadata": {
    "papermill": {
     "duration": null,
     "end_time": null,
     "exception": null,
     "start_time": null,
     "status": "pending"
    },
    "tags": []
   },
   "outputs": [],
   "source": [
    "hitmap = hp.read_map(local_path / dataset / ch / f\"cmbs4_hitmap_{ch}_nside{nside}_1_of_{nsplits}.fits\")"
   ]
  },
  {
   "cell_type": "code",
   "execution_count": null,
   "metadata": {
    "papermill": {
     "duration": null,
     "end_time": null,
     "exception": null,
     "start_time": null,
     "status": "pending"
    },
    "tags": []
   },
   "outputs": [],
   "source": [
    "channel"
   ]
  },
  {
   "cell_type": "code",
   "execution_count": null,
   "metadata": {
    "papermill": {
     "duration": null,
     "end_time": null,
     "exception": null,
     "start_time": null,
     "status": "pending"
    },
    "tags": []
   },
   "outputs": [],
   "source": [
    "from s4_design_sim_tool.noise import get_tube_years\n",
    "tube_years = get_tube_years(config, site, channel)\n",
    "tube_years"
   ]
  },
  {
   "cell_type": "code",
   "execution_count": null,
   "metadata": {
    "papermill": {
     "duration": null,
     "end_time": null,
     "exception": null,
     "start_time": null,
     "status": "pending"
    },
    "tags": []
   },
   "outputs": [],
   "source": [
    "sampling_rate = hitmap.sum()\n",
    "sampling_rate /= 365.25 * 24 * 3600\n",
    "sampling_rate /= tube_years * config[\"experiment\"][\"observing_efficiency\"]\n",
    "sampling_rate /= s4[channel].attrs[\"detectors_per_tube\"]\n",
    "sampling_rate *= nsplits\n",
    "sampling_rate"
   ]
  },
  {
   "cell_type": "code",
   "execution_count": null,
   "metadata": {
    "papermill": {
     "duration": null,
     "end_time": null,
     "exception": null,
     "start_time": null,
     "status": "pending"
    },
    "tags": []
   },
   "outputs": [],
   "source": [
    "np.testing.assert_allclose(sampling_rate, sampling_frequency[telescope].value, rtol=1/100)"
   ]
  },
  {
   "cell_type": "code",
   "execution_count": null,
   "metadata": {
    "papermill": {
     "duration": null,
     "end_time": null,
     "exception": null,
     "start_time": null,
     "status": "pending"
    },
    "tags": []
   },
   "outputs": [],
   "source": [
    "log_hitmap = np.log10(hitmap)\n",
    "log_hitmap[np.isinf(log_hitmap)] = hp.UNSEEN\n",
    "hp.mollview(log_hitmap, unit=\"log10(samples)\", title=f\"Hitmap {ch}\")\n",
    "plt.savefig(f\"plots/hitmap_{channel}_{site}_1_of_{nsplits}.png\")"
   ]
  },
  {
   "cell_type": "code",
   "execution_count": null,
   "metadata": {
    "papermill": {
     "duration": null,
     "end_time": null,
     "exception": null,
     "start_time": null,
     "status": "pending"
    },
    "tags": []
   },
   "outputs": [],
   "source": [
    "wcov = hp.read_map(local_path / dataset / ch / f\"cmbs4_wcov_{ch}_nside{nside}_1_of_{nsplits}.fits\", (3))"
   ]
  },
  {
   "cell_type": "code",
   "execution_count": null,
   "metadata": {
    "papermill": {
     "duration": null,
     "end_time": null,
     "exception": null,
     "start_time": null,
     "status": "pending"
    },
    "tags": []
   },
   "outputs": [],
   "source": [
    "wcov.shape"
   ]
  },
  {
   "cell_type": "code",
   "execution_count": null,
   "metadata": {
    "papermill": {
     "duration": null,
     "end_time": null,
     "exception": null,
     "start_time": null,
     "status": "pending"
    },
    "tags": []
   },
   "outputs": [],
   "source": [
    "import astropy.units as u"
   ]
  },
  {
   "cell_type": "code",
   "execution_count": null,
   "metadata": {
    "papermill": {
     "duration": null,
     "end_time": null,
     "exception": null,
     "start_time": null,
     "status": "pending"
    },
    "tags": []
   },
   "outputs": [],
   "source": [
    "channel_NET = s4[channel].attrs[\"NET_uKsqrts\"] * u.uK * u.s ** .5"
   ]
  },
  {
   "cell_type": "code",
   "execution_count": null,
   "metadata": {
    "papermill": {
     "duration": null,
     "end_time": null,
     "exception": null,
     "start_time": null,
     "status": "pending"
    },
    "tags": []
   },
   "outputs": [],
   "source": [
    "if telescope == \"LAT\" and site==\"pole\":\n",
    "    channel_NET = s4[channel].attrs[\"pole_NET_uKsqrts\"] * u.uK * u.s ** .5"
   ]
  },
  {
   "cell_type": "code",
   "execution_count": null,
   "metadata": {
    "papermill": {
     "duration": null,
     "end_time": null,
     "exception": null,
     "start_time": null,
     "status": "pending"
    },
    "tags": []
   },
   "outputs": [],
   "source": [
    "variance_QQ = wcov * u.K ** 2 * (hitmap / sampling_frequency[telescope]) "
   ]
  },
  {
   "cell_type": "code",
   "execution_count": null,
   "metadata": {
    "papermill": {
     "duration": null,
     "end_time": null,
     "exception": null,
     "start_time": null,
     "status": "pending"
    },
    "tags": []
   },
   "outputs": [],
   "source": [
    "assert (variance_QQ.value == hp.UNSEEN).sum() == 0"
   ]
  },
  {
   "cell_type": "code",
   "execution_count": null,
   "metadata": {
    "papermill": {
     "duration": null,
     "end_time": null,
     "exception": null,
     "start_time": null,
     "status": "pending"
    },
    "tags": []
   },
   "outputs": [],
   "source": [
    "full_mission_NET = np.sqrt(np.median(variance_QQ[hitmap != 0]))"
   ]
  },
  {
   "cell_type": "code",
   "execution_count": null,
   "metadata": {
    "papermill": {
     "duration": null,
     "end_time": null,
     "exception": null,
     "start_time": null,
     "status": "pending"
    },
    "tags": []
   },
   "outputs": [],
   "source": [
    "full_mission_NET.to(channel_NET.unit)"
   ]
  },
  {
   "cell_type": "code",
   "execution_count": null,
   "metadata": {
    "papermill": {
     "duration": null,
     "end_time": null,
     "exception": null,
     "start_time": null,
     "status": "pending"
    },
    "tags": []
   },
   "outputs": [],
   "source": [
    "channel_NET"
   ]
  },
  {
   "cell_type": "code",
   "execution_count": null,
   "metadata": {
    "papermill": {
     "duration": null,
     "end_time": null,
     "exception": null,
     "start_time": null,
     "status": "pending"
    },
    "tags": []
   },
   "outputs": [],
   "source": [
    "(full_mission_NET/np.sqrt(2)).to(channel_NET.unit)"
   ]
  },
  {
   "cell_type": "code",
   "execution_count": null,
   "metadata": {
    "papermill": {
     "duration": null,
     "end_time": null,
     "exception": null,
     "start_time": null,
     "status": "pending"
    },
    "tags": []
   },
   "outputs": [],
   "source": [
    "assert_quantity_allclose(full_mission_NET, channel_NET*np.sqrt(2), rtol=10/100) "
   ]
  },
  {
   "cell_type": "code",
   "execution_count": null,
   "metadata": {
    "papermill": {
     "duration": null,
     "end_time": null,
     "exception": null,
     "start_time": null,
     "status": "pending"
    },
    "tags": []
   },
   "outputs": [],
   "source": [
    "sky_fraction = (hitmap > 0).sum() / len(hitmap)"
   ]
  },
  {
   "cell_type": "code",
   "execution_count": null,
   "metadata": {
    "papermill": {
     "duration": null,
     "end_time": null,
     "exception": null,
     "start_time": null,
     "status": "pending"
    },
    "tags": []
   },
   "outputs": [],
   "source": [
    "sky_fraction"
   ]
  },
  {
   "cell_type": "code",
   "execution_count": null,
   "metadata": {
    "papermill": {
     "duration": null,
     "end_time": null,
     "exception": null,
     "start_time": null,
     "status": "pending"
    },
    "tags": []
   },
   "outputs": [],
   "source": [
    "pixarea = hp.nside2pixarea(nside)"
   ]
  },
  {
   "cell_type": "code",
   "execution_count": null,
   "metadata": {
    "papermill": {
     "duration": null,
     "end_time": null,
     "exception": null,
     "start_time": null,
     "status": "pending"
    },
    "tags": []
   },
   "outputs": [],
   "source": [
    "np.mean(wcov[hitmap > 0])* pixarea"
   ]
  },
  {
   "cell_type": "code",
   "execution_count": null,
   "metadata": {
    "papermill": {
     "duration": null,
     "end_time": null,
     "exception": null,
     "start_time": null,
     "status": "pending"
    },
    "tags": []
   },
   "outputs": [],
   "source": [
    "wcov [ wcov == hp.UNSEEN] = 0"
   ]
  },
  {
   "cell_type": "markdown",
   "metadata": {
    "papermill": {
     "duration": null,
     "end_time": null,
     "exception": null,
     "start_time": null,
     "status": "pending"
    },
    "tags": []
   },
   "source": [
    "## Atmosphere"
   ]
  },
  {
   "cell_type": "code",
   "execution_count": null,
   "metadata": {
    "papermill": {
     "duration": null,
     "end_time": null,
     "exception": null,
     "start_time": null,
     "status": "pending"
    },
    "tags": []
   },
   "outputs": [],
   "source": [
    "atmosphere_filename = Path(base_folder) / \"00000000\" / f\"{site}_atmosphere_{telescope}_{channel}_filtered_telescope_all_time_all_bmap.fits\""
   ]
  },
  {
   "cell_type": "code",
   "execution_count": null,
   "metadata": {
    "papermill": {
     "duration": null,
     "end_time": null,
     "exception": null,
     "start_time": null,
     "status": "pending"
    },
    "tags": []
   },
   "outputs": [],
   "source": [
    "input_atmophere = hp.ma(hp.read_map(atmosphere_filename, (0,1,2)))"
   ]
  },
  {
   "cell_type": "code",
   "execution_count": null,
   "metadata": {
    "papermill": {
     "duration": null,
     "end_time": null,
     "exception": null,
     "start_time": null,
     "status": "pending"
    },
    "tags": []
   },
   "outputs": [],
   "source": [
    "sqrt_hitmap = hitmap.copy()\n",
    "sqrt_hitmap[hitmap>0] = np.sqrt(hitmap[hitmap>0])"
   ]
  },
  {
   "cell_type": "code",
   "execution_count": null,
   "metadata": {
    "papermill": {
     "duration": null,
     "end_time": null,
     "exception": null,
     "start_time": null,
     "status": "pending"
    },
    "tags": []
   },
   "outputs": [],
   "source": [
    "atmo_cl = \\\n",
    "hp.anafast(input_atmophere * sqrt_hitmap, use_pixel_weights=True) / np.mean(hitmap) # / sky_fraction"
   ]
  },
  {
   "cell_type": "code",
   "execution_count": null,
   "metadata": {
    "papermill": {
     "duration": null,
     "end_time": null,
     "exception": null,
     "start_time": null,
     "status": "pending"
    },
    "tags": []
   },
   "outputs": [],
   "source": [
    "from s4_design_sim_tool.atmosphere import get_telecope_years"
   ]
  },
  {
   "cell_type": "code",
   "execution_count": null,
   "metadata": {
    "papermill": {
     "duration": null,
     "end_time": null,
     "exception": null,
     "start_time": null,
     "status": "pending"
    },
    "tags": []
   },
   "outputs": [],
   "source": [
    "telescope_years = get_telecope_years(config, site, channel)"
   ]
  },
  {
   "cell_type": "code",
   "execution_count": null,
   "metadata": {
    "papermill": {
     "duration": null,
     "end_time": null,
     "exception": null,
     "start_time": null,
     "status": "pending"
    },
    "tags": []
   },
   "outputs": [],
   "source": [
    "telescope_years"
   ]
  },
  {
   "cell_type": "code",
   "execution_count": null,
   "metadata": {
    "papermill": {
     "duration": null,
     "end_time": null,
     "exception": null,
     "start_time": null,
     "status": "pending"
    },
    "tags": []
   },
   "outputs": [],
   "source": [
    "from s4_design_sim_tool.core import simulations_observing_efficiency"
   ]
  },
  {
   "cell_type": "code",
   "execution_count": null,
   "metadata": {
    "papermill": {
     "duration": null,
     "end_time": null,
     "exception": null,
     "start_time": null,
     "status": "pending"
    },
    "tags": []
   },
   "outputs": [],
   "source": [
    "simulations_observing_efficiency"
   ]
  },
  {
   "cell_type": "code",
   "execution_count": null,
   "metadata": {
    "papermill": {
     "duration": null,
     "end_time": null,
     "exception": null,
     "start_time": null,
     "status": "pending"
    },
    "tags": []
   },
   "outputs": [],
   "source": [
    "atmo_cl *= 10 / 365.25\n",
    "atmo_cl *= simulations_observing_efficiency[site.lower()].get(telescope, 1) / config[\"experiment\"][\"observing_efficiency\"]                                                                    \n",
    "atmo_cl /= telescope_years"
   ]
  },
  {
   "cell_type": "markdown",
   "metadata": {
    "papermill": {
     "duration": null,
     "end_time": null,
     "exception": null,
     "start_time": null,
     "status": "pending"
    },
    "tags": []
   },
   "source": [
    "## Noise"
   ]
  },
  {
   "cell_type": "code",
   "execution_count": null,
   "metadata": {
    "papermill": {
     "duration": null,
     "end_time": null,
     "exception": null,
     "start_time": null,
     "status": "pending"
    },
    "tags": []
   },
   "outputs": [],
   "source": [
    "noise_filename = Path(base_folder) / \"00000000\" / f\"{site}_noise_{telescope}_{channel}_filtered_telescope_all_time_all_bmap.fits\""
   ]
  },
  {
   "cell_type": "code",
   "execution_count": null,
   "metadata": {
    "papermill": {
     "duration": null,
     "end_time": null,
     "exception": null,
     "start_time": null,
     "status": "pending"
    },
    "tags": []
   },
   "outputs": [],
   "source": [
    "#input_noise = hp.ma(hp.read_map(noise_filename, (0,1,2)))"
   ]
  },
  {
   "cell_type": "code",
   "execution_count": null,
   "metadata": {
    "papermill": {
     "duration": null,
     "end_time": null,
     "exception": null,
     "start_time": null,
     "status": "pending"
    },
    "tags": []
   },
   "outputs": [],
   "source": [
    "#noise_cl = hp.anafast(input_noise * sqrt_hitmap, use_pixel_weights=True) / np.mean(hitmap) / sky_fraction"
   ]
  },
  {
   "cell_type": "code",
   "execution_count": null,
   "metadata": {
    "papermill": {
     "duration": null,
     "end_time": null,
     "exception": null,
     "start_time": null,
     "status": "pending"
    },
    "tags": []
   },
   "outputs": [],
   "source": [
    "del sqrt_hitmap"
   ]
  },
  {
   "cell_type": "code",
   "execution_count": null,
   "metadata": {
    "papermill": {
     "duration": null,
     "end_time": null,
     "exception": null,
     "start_time": null,
     "status": "pending"
    },
    "tags": []
   },
   "outputs": [],
   "source": [
    "from s4_design_sim_tool.noise import get_thinfp\n",
    "thinfp = get_thinfp(channel)"
   ]
  },
  {
   "cell_type": "code",
   "execution_count": null,
   "metadata": {
    "papermill": {
     "duration": null,
     "end_time": null,
     "exception": null,
     "start_time": null,
     "status": "pending"
    },
    "tags": []
   },
   "outputs": [],
   "source": [
    "thinfp"
   ]
  },
  {
   "cell_type": "code",
   "execution_count": null,
   "metadata": {
    "papermill": {
     "duration": null,
     "end_time": null,
     "exception": null,
     "start_time": null,
     "status": "pending"
    },
    "tags": []
   },
   "outputs": [],
   "source": [
    "#noise_cl *= 10 / 365.25\n",
    "#noise_cl *= simulations_observing_efficiency[site.lower()].get(telescope, 1) / config[\"experiment\"][\"observing_efficiency\"]                                                                    \n",
    "#noise_cl /= tube_years\n",
    "#noise_cl /= thinfp"
   ]
  },
  {
   "cell_type": "code",
   "execution_count": null,
   "metadata": {
    "papermill": {
     "duration": null,
     "end_time": null,
     "exception": null,
     "start_time": null,
     "status": "pending"
    },
    "tags": []
   },
   "outputs": [],
   "source": [
    "white_noise_Cl = channel_NET**2 \\\n",
    "/ (hitmap.sum() / sampling_frequency[telescope] / (hitmap>0).sum()) * pixarea # / sky_fraction"
   ]
  },
  {
   "cell_type": "code",
   "execution_count": null,
   "metadata": {
    "papermill": {
     "duration": null,
     "end_time": null,
     "exception": null,
     "start_time": null,
     "status": "pending"
    },
    "tags": []
   },
   "outputs": [],
   "source": [
    "white_noise_Cl.decompose()"
   ]
  },
  {
   "cell_type": "code",
   "execution_count": null,
   "metadata": {
    "papermill": {
     "duration": null,
     "end_time": null,
     "exception": null,
     "start_time": null,
     "status": "pending"
    },
    "tags": []
   },
   "outputs": [],
   "source": [
    "import seaborn as sns"
   ]
  },
  {
   "cell_type": "code",
   "execution_count": null,
   "metadata": {
    "papermill": {
     "duration": null,
     "end_time": null,
     "exception": null,
     "start_time": null,
     "status": "pending"
    },
    "tags": []
   },
   "outputs": [],
   "source": [
    "sns.set_style(\"whitegrid\")"
   ]
  },
  {
   "cell_type": "code",
   "execution_count": null,
   "metadata": {
    "papermill": {
     "duration": null,
     "end_time": null,
     "exception": null,
     "start_time": null,
     "status": "pending"
    },
    "tags": []
   },
   "outputs": [],
   "source": [
    "plt.figure(figsize=(8,5))\n",
    "\n",
    "pols = [\"TT\", \"EE\", \"BB\"]\n",
    "\n",
    "for i, pol in enumerate(pols):\n",
    "    for split in range(1, nsplits+1):\n",
    "        plt.loglog(C_ell[ch][split][i], alpha=.8, label=pol)\n",
    "\n",
    "for i, pol in enumerate(pols):\n",
    "    plt.loglog(atmo_cl[i]*nsplits, alpha=.8, ls=\"--\", label=f\"atmo {pol}\")\n",
    "\n",
    "#for i, pol in enumerate(pols):\n",
    "#    plt.loglog(noise_cl[i], alpha=.8, ls=\"-.\", label=f\"noise {pol}\")\n",
    "\n",
    "plt.axhline(white_noise_Cl.to_value(u.K**2), ls=\":\",\n",
    "           label=\"white noise T\", color=\"black\")\n",
    "plt.axhline(white_noise_Cl.to_value(u.K**2)*2, ls=\":\",\n",
    "           label=\"white noise P\", color=\"grey\")\n",
    "plt.legend()\n",
    "plt.title(f\"Noise + Atmosphere simulations spectra for {ch}\")\n",
    "plt.ylabel(\"$C_\\ell [K^2]$\")\n",
    "plt.xlabel(\"$\\ell$\")\n",
    "plt.xlim((10, 3*nside))\n",
    "plt.grid(True)\n",
    "plt.savefig(f\"plots/C_ell_{dataset}_{ch}_{nsplits}.png\");"
   ]
  },
  {
   "cell_type": "code",
   "execution_count": null,
   "metadata": {
    "papermill": {
     "duration": null,
     "end_time": null,
     "exception": null,
     "start_time": null,
     "status": "pending"
    },
    "tags": []
   },
   "outputs": [],
   "source": []
  }
 ],
 "metadata": {
  "kernelspec": {
   "display_name": "condajupynersc",
   "language": "python",
   "name": "condajupynersc"
  },
  "language_info": {
   "codemirror_mode": {
    "name": "ipython",
    "version": 3
   },
   "file_extension": ".py",
   "mimetype": "text/x-python",
   "name": "python",
   "nbconvert_exporter": "python",
   "pygments_lexer": "ipython3",
   "version": "3.7.0"
  },
  "papermill": {
   "duration": 10.048668,
   "end_time": "2020-12-09T05:33:42.033072",
   "environment_variables": {},
   "exception": true,
   "input_path": "validation_atmo_noise_dec_2020.ipynb",
   "output_path": "validation_notebooks/SAT-HFS1_chile_1.ipynb",
   "parameters": {
    "ch": "SAT-HFS1_chile",
    "nsplits": 1
   },
   "start_time": "2020-12-09T05:33:31.984404",
   "version": "2.1.2"
  }
 },
 "nbformat": 4,
 "nbformat_minor": 4
}