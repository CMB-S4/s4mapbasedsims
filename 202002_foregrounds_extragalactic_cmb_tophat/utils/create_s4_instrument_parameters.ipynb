{
 "cells": [
  {
   "cell_type": "code",
   "execution_count": 1,
   "metadata": {},
   "outputs": [],
   "source": [
    "import s4sim.hardware.config\n",
    "c=s4sim.hardware.config.get_example()"
   ]
  },
  {
   "cell_type": "code",
   "execution_count": 2,
   "metadata": {},
   "outputs": [
    {
     "data": {
      "text/plain": [
       "OrderedDict([('LFS1', 72.8),\n",
       "             ('LFS2', 54.8),\n",
       "             ('MFLS1', 25.5),\n",
       "             ('MFLS2', 15.1),\n",
       "             ('MFHS1', 22.7),\n",
       "             ('MFHS2', 14.2),\n",
       "             ('HFS1', 13.0),\n",
       "             ('HFS2', 10.0)])"
      ]
     },
     "execution_count": 2,
     "metadata": {},
     "output_type": "execute_result"
    }
   ],
   "source": [
    "c.data[\"telescopes\"][\"SAT0\"][\"fwhm\"]"
   ]
  },
  {
   "cell_type": "code",
   "execution_count": 3,
   "metadata": {},
   "outputs": [
    {
     "data": {
      "text/plain": [
       "OrderedDict([('LFS1', 72.8),\n",
       "             ('LFS2', 54.8),\n",
       "             ('MFLS1', 25.5),\n",
       "             ('MFLS2', 15.1),\n",
       "             ('MFHS1', 22.7),\n",
       "             ('MFHS2', 14.2),\n",
       "             ('HFS1', 13.0),\n",
       "             ('HFS2', 10.0)])"
      ]
     },
     "execution_count": 3,
     "metadata": {},
     "output_type": "execute_result"
    }
   ],
   "source": [
    "c.data[\"telescopes\"][\"SAT3\"][\"fwhm\"]"
   ]
  },
  {
   "cell_type": "code",
   "execution_count": 4,
   "metadata": {},
   "outputs": [
    {
     "data": {
      "text/plain": [
       "odict_keys(['ULFL1', 'LFL1', 'LFL2', 'LFS1', 'LFS2', 'MFL1', 'MFL2', 'MFLS1', 'MFLS2', 'MFHS1', 'MFHS2', 'HFL1', 'HFL2', 'HFS1', 'HFS2'])"
      ]
     },
     "execution_count": 4,
     "metadata": {},
     "output_type": "execute_result"
    }
   ],
   "source": [
    "c.data[\"bands\"].keys()"
   ]
  },
  {
   "cell_type": "code",
   "execution_count": 5,
   "metadata": {},
   "outputs": [
    {
     "data": {
      "text/plain": [
       "OrderedDict([('center', 27.0),\n",
       "             ('low', 24.0),\n",
       "             ('high', 30.0),\n",
       "             ('bandpass', ''),\n",
       "             ('NET', 177.0),\n",
       "             ('fknee', 50.0),\n",
       "             ('fmin', 0.01),\n",
       "             ('alpha', 3.5),\n",
       "             ('A', 0.09),\n",
       "             ('C', 0.87)])"
      ]
     },
     "execution_count": 5,
     "metadata": {},
     "output_type": "execute_result"
    }
   ],
   "source": [
    "c.data[\"bands\"][\"LFL1\"]"
   ]
  },
  {
   "cell_type": "code",
   "execution_count": 6,
   "metadata": {},
   "outputs": [],
   "source": [
    "import h5py"
   ]
  },
  {
   "cell_type": "code",
   "execution_count": 7,
   "metadata": {},
   "outputs": [],
   "source": [
    "planck = h5py.File(\"../mapsims/mapsims/data/planck_deltabandpass.h5\")"
   ]
  },
  {
   "cell_type": "code",
   "execution_count": 8,
   "metadata": {},
   "outputs": [],
   "source": [
    "s4 = h5py.File(\"cmbs4_tophat.h5\", \"w\", track_order=True)"
   ]
  },
  {
   "cell_type": "code",
   "execution_count": 9,
   "metadata": {},
   "outputs": [
    {
     "data": {
      "text/plain": [
       "<KeysViewHDF5 ['030', '044', '070', '100', '143', '217', '353', '545', '857']>"
      ]
     },
     "execution_count": 9,
     "metadata": {},
     "output_type": "execute_result"
    }
   ],
   "source": [
    "planck.keys()"
   ]
  },
  {
   "cell_type": "code",
   "execution_count": 10,
   "metadata": {},
   "outputs": [
    {
     "data": {
      "text/plain": [
       "<KeysViewHDF5 ['band', 'center_frequency_GHz', 'fwhm_arcmin']>"
      ]
     },
     "execution_count": 10,
     "metadata": {},
     "output_type": "execute_result"
    }
   ],
   "source": [
    "planck[\"030\"].attrs.keys()"
   ]
  },
  {
   "cell_type": "code",
   "execution_count": 11,
   "metadata": {},
   "outputs": [],
   "source": [
    "import numpy as np"
   ]
  },
  {
   "cell_type": "code",
   "execution_count": 12,
   "metadata": {},
   "outputs": [
    {
     "name": "stdout",
     "output_type": "stream",
     "text": [
      "ULFL1\n",
      "17.5 20.0 22.5\n",
      "[17.5        18.05555556 18.61111111 19.16666667 19.72222222 20.27777778\n",
      " 20.83333333 21.38888889 21.94444444 22.5       ]\n",
      "10.0\n",
      "LFL1\n",
      "24.0 27.0 30.0\n",
      "[24.         24.66666667 25.33333333 26.         26.66666667 27.33333333\n",
      " 28.         28.66666667 29.33333333 30.        ]\n",
      "7.4\n",
      "LFL2\n",
      "30.0 39.0 48.0\n",
      "[30. 32. 34. 36. 38. 40. 42. 44. 46. 48.]\n",
      "5.1\n",
      "LFS1\n",
      "25.5 30.0 34.5\n",
      "[25.5 26.5 27.5 28.5 29.5 30.5 31.5 32.5 33.5 34.5]\n",
      "72.8\n",
      "LFS2\n",
      "34.0 40.0 46.0\n",
      "[34.         35.33333333 36.66666667 38.         39.33333333 40.66666667\n",
      " 42.         43.33333333 44.66666667 46.        ]\n",
      "54.8\n",
      "MFL1\n",
      "75.5 93.0 110.5\n",
      "[ 75.5         79.38888889  83.27777778  87.16666667  91.05555556\n",
      "  94.94444444  98.83333333 102.72222222 106.61111111 110.5       ]\n",
      "2.2\n",
      "MFL2\n",
      "125.0 145.0 165.0\n",
      "[125.         129.44444444 133.88888889 138.33333333 142.77777778\n",
      " 147.22222222 151.66666667 156.11111111 160.55555556 165.        ]\n",
      "1.4\n",
      "MFLS1\n",
      "74.8 85.0 95.2\n",
      "[74.8        77.06666667 79.33333333 81.6        83.86666667 86.13333333\n",
      " 88.4        90.66666667 92.93333333 95.2       ]\n",
      "25.5\n",
      "MFLS2\n",
      "129.1 145.1 161.0\n",
      "[129.1        132.64444444 136.18888889 139.73333333 143.27777778\n",
      " 146.82222222 150.36666667 153.91111111 157.45555556 161.        ]\n",
      "15.1\n",
      "MFHS1\n",
      "83.6 95.0 138.0\n",
      "[ 83.6         89.64444444  95.68888889 101.73333333 107.77777778\n",
      " 113.82222222 119.86666667 125.91111111 131.95555556 138.        ]\n",
      "22.7\n",
      "MFHS2\n",
      "138.0 155.1 172.1\n",
      "[138.         141.78888889 145.57777778 149.36666667 153.15555556\n",
      " 156.94444444 160.73333333 164.52222222 168.31111111 172.1       ]\n",
      "14.2\n",
      "HFL1\n",
      "195.0 225.0 255.0\n",
      "[195.         201.66666667 208.33333333 215.         221.66666667\n",
      " 228.33333333 235.         241.66666667 248.33333333 255.        ]\n",
      "1.0\n",
      "HFL2\n",
      "255.5 278.0 300.5\n",
      "[255.5 260.5 265.5 270.5 275.5 280.5 285.5 290.5 295.5 300.5]\n",
      "0.9\n",
      "HFS1\n",
      "195.8 220.0 244.2\n",
      "[195.8        201.17777778 206.55555556 211.93333333 217.31111111\n",
      " 222.68888889 228.06666667 233.44444444 238.82222222 244.2       ]\n",
      "13.0\n",
      "HFS2\n",
      "240.3 270.0 299.7\n",
      "[240.3 246.9 253.5 260.1 266.7 273.3 279.9 286.5 293.1 299.7]\n",
      "10.0\n"
     ]
    }
   ],
   "source": [
    "for band, v in c.data[\"bands\"].items():\n",
    "    print(band)\n",
    "    print(v[\"low\"], v[\"center\"], v[\"high\"])\n",
    "    print(np.linspace(v[\"low\"], v[\"high\"], 10))\n",
    "    try:\n",
    "        tel = \"SAT\"\n",
    "        fwhm = c.data[\"telescopes\"][tel + \"0\"][\"fwhm\"][band]\n",
    "    except:\n",
    "        tel = \"LAT\"\n",
    "        fwhm = c.data[\"telescopes\"][tel + \"0\"][\"fwhm\"][band]\n",
    "    print(fwhm)\n",
    "    s4.create_group(band)\n",
    "    s4[band].create_dataset('bandpass_frequency_GHz', data=np.linspace(v[\"low\"], v[\"high\"], 10))\n",
    "    s4[band].create_dataset(\"bandpass_weight\", data=np.ones(10, dtype=np.float))\n",
    "    s4[band].attrs[\"fwhm_arcmin\"] = fwhm\n",
    "    s4[band].attrs[\"band\"] = band\n",
    "    s4[band].attrs[\"telescope\"] = tel\n",
    "    s4[band].attrs[\"center_frequency_GHz\"] = v[\"center\"]"
   ]
  },
  {
   "cell_type": "code",
   "execution_count": 13,
   "metadata": {},
   "outputs": [
    {
     "data": {
      "text/plain": [
       "<KeysViewHDF5 ['ULFL1', 'LFL1', 'LFL2', 'LFS1', 'LFS2', 'MFL1', 'MFL2', 'MFLS1', 'MFLS2', 'MFHS1', 'MFHS2', 'HFL1', 'HFL2', 'HFS1', 'HFS2']>"
      ]
     },
     "execution_count": 13,
     "metadata": {},
     "output_type": "execute_result"
    }
   ],
   "source": [
    "s4.keys()"
   ]
  },
  {
   "cell_type": "code",
   "execution_count": 14,
   "metadata": {},
   "outputs": [
    {
     "data": {
      "text/plain": [
       "<HDF5 dataset \"bandpass_frequency_GHz\": shape (10,), type \"<f8\">"
      ]
     },
     "execution_count": 14,
     "metadata": {},
     "output_type": "execute_result"
    }
   ],
   "source": [
    "s4[\"MFL1\"].get(\"bandpass_frequency_GHz\")"
   ]
  },
  {
   "cell_type": "code",
   "execution_count": 15,
   "metadata": {},
   "outputs": [],
   "source": [
    "s4.close()"
   ]
  },
  {
   "cell_type": "code",
   "execution_count": 16,
   "metadata": {},
   "outputs": [
    {
     "data": {
      "text/plain": [
       "'/global/project/projectdirs/planck/software/zonca/software/s4refsimtool'"
      ]
     },
     "execution_count": 16,
     "metadata": {},
     "output_type": "execute_result"
    }
   ],
   "source": [
    "pwd"
   ]
  },
  {
   "cell_type": "code",
   "execution_count": null,
   "metadata": {},
   "outputs": [],
   "source": []
  }
 ],
 "metadata": {
  "kernelspec": {
   "display_name": "condajupynersc",
   "language": "python",
   "name": "condajupynersc"
  },
  "language_info": {
   "codemirror_mode": {
    "name": "ipython",
    "version": 3
   },
   "file_extension": ".py",
   "mimetype": "text/x-python",
   "name": "python",
   "nbconvert_exporter": "python",
   "pygments_lexer": "ipython3",
   "version": "3.6.8"
  }
 },
 "nbformat": 4,
 "nbformat_minor": 4
}
