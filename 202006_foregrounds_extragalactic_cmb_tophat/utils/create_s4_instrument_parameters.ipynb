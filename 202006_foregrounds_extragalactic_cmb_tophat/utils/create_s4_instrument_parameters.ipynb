{
 "cells": [
  {
   "cell_type": "code",
   "execution_count": 1,
   "metadata": {},
   "outputs": [],
   "source": [
    "import s4sim.hardware.config\n",
    "c=s4sim.hardware.config.get_example()"
   ]
  },
  {
   "cell_type": "code",
   "execution_count": 2,
   "metadata": {},
   "outputs": [],
   "source": [
    "import s4sim"
   ]
  },
  {
   "cell_type": "code",
   "execution_count": 3,
   "metadata": {},
   "outputs": [
    {
     "data": {
      "text/plain": [
       "'0+untagged.115.gc57d15d'"
      ]
     },
     "execution_count": 3,
     "metadata": {},
     "output_type": "execute_result"
    }
   ],
   "source": [
    "s4sim.__version__"
   ]
  },
  {
   "cell_type": "code",
   "execution_count": 4,
   "metadata": {},
   "outputs": [
    {
     "data": {
      "text/plain": [
       "OrderedDict([('LFS1', 72.8),\n",
       "             ('LFS2', 72.8),\n",
       "             ('MFLS1', 25.5),\n",
       "             ('MFLS2', 25.5),\n",
       "             ('MFHS1', 22.7),\n",
       "             ('MFHS2', 22.7),\n",
       "             ('HFS1', 13.0),\n",
       "             ('HFS2', 13.0)])"
      ]
     },
     "execution_count": 4,
     "metadata": {},
     "output_type": "execute_result"
    }
   ],
   "source": [
    "c.data[\"telescopes\"][\"SAT0\"][\"fwhm\"]"
   ]
  },
  {
   "cell_type": "code",
   "execution_count": 5,
   "metadata": {},
   "outputs": [
    {
     "data": {
      "text/plain": [
       "odict_keys(['LFS1', 'LFS2', 'MFLS1', 'MFLS2', 'MFHS1', 'MFHS2', 'HFS1', 'HFS2'])"
      ]
     },
     "execution_count": 5,
     "metadata": {},
     "output_type": "execute_result"
    }
   ],
   "source": [
    "c.data[\"telescopes\"][\"SAT3\"][\"fwhm\"].keys()"
   ]
  },
  {
   "cell_type": "code",
   "execution_count": 6,
   "metadata": {},
   "outputs": [
    {
     "data": {
      "text/plain": [
       "odict_keys(['tubes', 'platescale', 'tubespace', 'fwhm'])"
      ]
     },
     "execution_count": 6,
     "metadata": {},
     "output_type": "execute_result"
    }
   ],
   "source": [
    "c.data[\"telescopes\"][\"SAT3\"].keys()"
   ]
  },
  {
   "cell_type": "code",
   "execution_count": 7,
   "metadata": {},
   "outputs": [
    {
     "data": {
      "text/plain": [
       "odict_keys(['ULFL1', 'LFL1', 'LFL2', 'LFS1', 'LFS2', 'MFL1', 'MFL2', 'MFLS1', 'MFLS2', 'MFHS1', 'MFHS2', 'HFL1', 'HFL2', 'HFS1', 'HFS2'])"
      ]
     },
     "execution_count": 7,
     "metadata": {},
     "output_type": "execute_result"
    }
   ],
   "source": [
    "c.data[\"bands\"].keys()"
   ]
  },
  {
   "cell_type": "code",
   "execution_count": 8,
   "metadata": {},
   "outputs": [
    {
     "data": {
      "text/plain": [
       "OrderedDict([('center', 27.0),\n",
       "             ('low', 24.0),\n",
       "             ('high', 30.0),\n",
       "             ('bandpass', ''),\n",
       "             ('NET', 387.0),\n",
       "             ('fknee', 50.0),\n",
       "             ('fmin', 0.01),\n",
       "             ('alpha', 3.5),\n",
       "             ('A', 0.09),\n",
       "             ('C', 0.87)])"
      ]
     },
     "execution_count": 8,
     "metadata": {},
     "output_type": "execute_result"
    }
   ],
   "source": [
    "c.data[\"bands\"][\"LFL1\"]"
   ]
  },
  {
   "cell_type": "code",
   "execution_count": 9,
   "metadata": {},
   "outputs": [],
   "source": [
    "import h5py"
   ]
  },
  {
   "cell_type": "code",
   "execution_count": 10,
   "metadata": {},
   "outputs": [],
   "source": [
    "h5py.get_config().track_order = True"
   ]
  },
  {
   "cell_type": "code",
   "execution_count": 11,
   "metadata": {},
   "outputs": [],
   "source": [
    "s4 = h5py.File(\"../cmbs4_tophat.h5\", \"w\")"
   ]
  },
  {
   "cell_type": "code",
   "execution_count": 12,
   "metadata": {},
   "outputs": [],
   "source": [
    "import numpy as np"
   ]
  },
  {
   "cell_type": "markdown",
   "metadata": {},
   "source": [
    "# NET and number of detectors per tube\n",
    "\n",
    "From the spreadsheet at https://docs.google.com/spreadsheets/d/1X0x8wYhjHdI_WPjhgbtyVlVQrX86tTgxgqEUhan2Hxg/edit?pli=1#gid=1404929524\n",
    "\n",
    "Extracted on July 2nd 2020"
   ]
  },
  {
   "cell_type": "code",
   "execution_count": 13,
   "metadata": {},
   "outputs": [],
   "source": [
    "NUM_DET = {}\n",
    "SAT_NUM_DET_STRING = \"296\t296\t3556\t3556\t3556\t3556\t8594\t8594\"\n",
    "for sat_band, num_det in zip(c.data[\"telescopes\"][\"SAT3\"][\"fwhm\"].keys(), SAT_NUM_DET_STRING.split()):\n",
    "    NUM_DET[sat_band] = int(num_det)"
   ]
  },
  {
   "cell_type": "code",
   "execution_count": 14,
   "metadata": {},
   "outputs": [],
   "source": [
    "NET = {}\n",
    "SAT_NET_STRING = \"177\t224\t270\t309\t238\t331\t747\t1281\"\n",
    "for band, net in zip(c.data[\"telescopes\"][\"SAT3\"][\"fwhm\"].keys(), SAT_NET_STRING.split()):\n",
    "    NET[band] = float(net)"
   ]
  },
  {
   "cell_type": "code",
   "execution_count": 15,
   "metadata": {},
   "outputs": [],
   "source": [
    "LAT_NUM_DET_STRING = \"216\t384\t384\t3456\t3456\t3456\t3456\"\n",
    "for sat_band, num_det in zip(c.data[\"telescopes\"][\"LAT0\"][\"fwhm\"].keys(), LAT_NUM_DET_STRING.split()):\n",
    "    NUM_DET[sat_band] = int(num_det)"
   ]
  },
  {
   "cell_type": "code",
   "execution_count": 16,
   "metadata": {},
   "outputs": [
    {
     "data": {
      "text/plain": [
       "odict_keys(['ULFL1', 'LFL1', 'LFL2', 'MFL1', 'MFL2', 'HFL1', 'HFL2'])"
      ]
     },
     "execution_count": 16,
     "metadata": {},
     "output_type": "execute_result"
    }
   ],
   "source": [
    "c.data[\"telescopes\"][\"LAT0\"][\"fwhm\"].keys()"
   ]
  },
  {
   "cell_type": "code",
   "execution_count": 17,
   "metadata": {},
   "outputs": [],
   "source": [
    "LAT_NET_STRING = \"473.0\t429.0\t261.0\t305.0\t385.0\t792.0\t1990.0\"\n",
    "for band, net in zip(c.data[\"telescopes\"][\"LAT0\"][\"fwhm\"].keys(), LAT_NET_STRING.split()):\n",
    "    NET[band] = float(net)"
   ]
  },
  {
   "cell_type": "code",
   "execution_count": 18,
   "metadata": {},
   "outputs": [
    {
     "name": "stdout",
     "output_type": "stream",
     "text": [
      "## ULFL1\n",
      "Bandpass [GHz] low,center,high:  17.5 20.0 22.5\n",
      "Beam [arcmin]:  10.0\n",
      "Num det per tube 216\n",
      "## LFL1\n",
      "Bandpass [GHz] low,center,high:  24.0 27.0 30.0\n",
      "Beam [arcmin]:  7.4\n",
      "Num det per tube 384\n",
      "## LFL2\n",
      "Bandpass [GHz] low,center,high:  30.0 39.0 48.0\n",
      "Beam [arcmin]:  5.1\n",
      "Num det per tube 384\n",
      "## LFS1\n",
      "Bandpass [GHz] low,center,high:  25.5 30.0 34.5\n",
      "Beam [arcmin]:  72.8\n",
      "Num det per tube 296\n",
      "## LFS2\n",
      "Bandpass [GHz] low,center,high:  34.0 40.0 46.0\n",
      "Beam [arcmin]:  72.8\n",
      "Num det per tube 296\n",
      "## MFL1\n",
      "Bandpass [GHz] low,center,high:  75.5 93.0 110.5\n",
      "Beam [arcmin]:  2.2\n",
      "Num det per tube 3456\n",
      "## MFL2\n",
      "Bandpass [GHz] low,center,high:  125.0 145.0 165.0\n",
      "Beam [arcmin]:  1.4\n",
      "Num det per tube 3456\n",
      "## MFLS1\n",
      "Bandpass [GHz] low,center,high:  74.8 85.0 95.2\n",
      "Beam [arcmin]:  25.5\n",
      "Num det per tube 3556\n",
      "## MFLS2\n",
      "Bandpass [GHz] low,center,high:  129.1 145.1 161.0\n",
      "Beam [arcmin]:  25.5\n",
      "Num det per tube 3556\n",
      "## MFHS1\n",
      "Bandpass [GHz] low,center,high:  83.6 95.0 106.4\n",
      "Beam [arcmin]:  22.7\n",
      "Num det per tube 3556\n",
      "## MFHS2\n",
      "Bandpass [GHz] low,center,high:  138.0 155.1 172.1\n",
      "Beam [arcmin]:  22.7\n",
      "Num det per tube 3556\n",
      "## HFL1\n",
      "Bandpass [GHz] low,center,high:  195.0 225.0 255.0\n",
      "Beam [arcmin]:  1.0\n",
      "Num det per tube 3456\n",
      "## HFL2\n",
      "Bandpass [GHz] low,center,high:  255.5 278.0 300.5\n",
      "Beam [arcmin]:  0.9\n",
      "Num det per tube 3456\n",
      "## HFS1\n",
      "Bandpass [GHz] low,center,high:  195.8 220.0 244.2\n",
      "Beam [arcmin]:  13.0\n",
      "Num det per tube 8594\n",
      "## HFS2\n",
      "Bandpass [GHz] low,center,high:  240.3 270.0 299.7\n",
      "Beam [arcmin]:  13.0\n",
      "Num det per tube 8594\n"
     ]
    }
   ],
   "source": [
    "for i, (band, v) in enumerate(c.data[\"bands\"].items()):\n",
    "    print(\"## \" + band)\n",
    "    print(\"Bandpass [GHz] low,center,high: \", v[\"low\"], v[\"center\"], v[\"high\"])\n",
    "    try:\n",
    "        tel = \"SAT\"\n",
    "        fwhm = c.data[\"telescopes\"][tel + \"0\"][\"fwhm\"][band]\n",
    "    except:\n",
    "        tel = \"LAT\"\n",
    "        fwhm = c.data[\"telescopes\"][tel + \"0\"][\"fwhm\"][band]\n",
    "    print(\"Beam [arcmin]: \", fwhm)\n",
    "    s4.create_group(band)\n",
    "    s4[band].attrs[\"band\"] = band\n",
    "    s4[band].attrs[\"telescope\"] = tel\n",
    "    s4[band].attrs[\"center_frequency_GHz\"] = v[\"center\"]\n",
    "    s4[band].attrs[\"fwhm_arcmin\"] = fwhm\n",
    "    s4[band].attrs[\"detectors_per_tube\"] = NUM_DET[band]\n",
    "    s4[band].attrs[\"NET_uKsqrts\"] = NET[band]\n",
    "    s4[band].attrs[\"index\"] = i\n",
    "    s4[band].create_dataset('bandpass_frequency_GHz', data=np.linspace(v[\"low\"], v[\"high\"], 10))\n",
    "    s4[band].create_dataset(\"bandpass_weight\", data=np.ones(10, dtype=np.float))\n",
    "    print(\"Num det per tube\", s4[band].attrs[\"detectors_per_tube\"])"
   ]
  },
  {
   "cell_type": "code",
   "execution_count": 19,
   "metadata": {},
   "outputs": [
    {
     "data": {
      "text/plain": [
       "<KeysViewHDF5 ['ULFL1', 'LFL1', 'LFL2', 'LFS1', 'LFS2', 'MFL1', 'MFL2', 'MFLS1', 'MFLS2', 'MFHS1', 'MFHS2', 'HFL1', 'HFL2', 'HFS1', 'HFS2']>"
      ]
     },
     "execution_count": 19,
     "metadata": {},
     "output_type": "execute_result"
    }
   ],
   "source": [
    "s4.keys()"
   ]
  },
  {
   "cell_type": "code",
   "execution_count": 20,
   "metadata": {},
   "outputs": [
    {
     "data": {
      "text/plain": [
       "<HDF5 dataset \"bandpass_frequency_GHz\": shape (10,), type \"<f8\">"
      ]
     },
     "execution_count": 20,
     "metadata": {},
     "output_type": "execute_result"
    }
   ],
   "source": [
    "s4[\"MFL1\"].get(\"bandpass_frequency_GHz\")"
   ]
  },
  {
   "cell_type": "code",
   "execution_count": 21,
   "metadata": {},
   "outputs": [],
   "source": [
    "s4.close()"
   ]
  },
  {
   "cell_type": "code",
   "execution_count": 22,
   "metadata": {},
   "outputs": [
    {
     "data": {
      "text/plain": [
       "'/global/project/projectdirs/planck/software/zonca/software/s4mapbasedsims/202006_foregrounds_extragalactic_cmb_tophat/utils'"
      ]
     },
     "execution_count": 22,
     "metadata": {},
     "output_type": "execute_result"
    }
   ],
   "source": [
    "pwd"
   ]
  }
 ],
 "metadata": {
  "kernelspec": {
   "display_name": "condajupynersc",
   "language": "python",
   "name": "condajupynersc"
  },
  "language_info": {
   "codemirror_mode": {
    "name": "ipython",
    "version": 3
   },
   "file_extension": ".py",
   "mimetype": "text/x-python",
   "name": "python",
   "nbconvert_exporter": "python",
   "pygments_lexer": "ipython3",
   "version": "3.7.0"
  }
 },
 "nbformat": 4,
 "nbformat_minor": 4
}
