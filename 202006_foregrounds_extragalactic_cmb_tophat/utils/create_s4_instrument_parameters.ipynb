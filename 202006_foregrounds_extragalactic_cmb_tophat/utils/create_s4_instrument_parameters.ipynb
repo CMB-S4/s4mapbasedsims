{
 "cells": [
  {
   "cell_type": "code",
   "execution_count": 1,
   "metadata": {},
   "outputs": [],
   "source": [
    "import s4sim.hardware.config\n",
    "c=s4sim.hardware.config.get_example()"
   ]
  },
  {
   "cell_type": "code",
   "execution_count": 2,
   "metadata": {},
   "outputs": [],
   "source": [
    "import s4sim"
   ]
  },
  {
   "cell_type": "code",
   "execution_count": 3,
   "metadata": {},
   "outputs": [
    {
     "data": {
      "text/plain": [
       "'0+untagged.115.gc57d15d'"
      ]
     },
     "execution_count": 3,
     "metadata": {},
     "output_type": "execute_result"
    }
   ],
   "source": [
    "s4sim.__version__"
   ]
  },
  {
   "cell_type": "code",
   "execution_count": 4,
   "metadata": {},
   "outputs": [
    {
     "data": {
      "text/plain": [
       "OrderedDict([('LFS1', 72.8),\n",
       "             ('LFS2', 72.8),\n",
       "             ('MFLS1', 25.5),\n",
       "             ('MFLS2', 25.5),\n",
       "             ('MFHS1', 22.7),\n",
       "             ('MFHS2', 22.7),\n",
       "             ('HFS1', 13.0),\n",
       "             ('HFS2', 13.0)])"
      ]
     },
     "execution_count": 4,
     "metadata": {},
     "output_type": "execute_result"
    }
   ],
   "source": [
    "c.data[\"telescopes\"][\"SAT0\"][\"fwhm\"]"
   ]
  },
  {
   "cell_type": "code",
   "execution_count": 5,
   "metadata": {},
   "outputs": [
    {
     "data": {
      "text/plain": [
       "OrderedDict([('LFS1', 72.8),\n",
       "             ('LFS2', 72.8),\n",
       "             ('MFLS1', 25.5),\n",
       "             ('MFLS2', 25.5),\n",
       "             ('MFHS1', 22.7),\n",
       "             ('MFHS2', 22.7),\n",
       "             ('HFS1', 13.0),\n",
       "             ('HFS2', 13.0)])"
      ]
     },
     "execution_count": 5,
     "metadata": {},
     "output_type": "execute_result"
    }
   ],
   "source": [
    "c.data[\"telescopes\"][\"SAT3\"][\"fwhm\"]"
   ]
  },
  {
   "cell_type": "code",
   "execution_count": 6,
   "metadata": {},
   "outputs": [
    {
     "data": {
      "text/plain": [
       "odict_keys(['ULFL1', 'LFL1', 'LFL2', 'LFS1', 'LFS2', 'MFL1', 'MFL2', 'MFLS1', 'MFLS2', 'MFHS1', 'MFHS2', 'HFL1', 'HFL2', 'HFS1', 'HFS2'])"
      ]
     },
     "execution_count": 6,
     "metadata": {},
     "output_type": "execute_result"
    }
   ],
   "source": [
    "c.data[\"bands\"].keys()"
   ]
  },
  {
   "cell_type": "code",
   "execution_count": 7,
   "metadata": {},
   "outputs": [
    {
     "data": {
      "text/plain": [
       "OrderedDict([('center', 27.0),\n",
       "             ('low', 24.0),\n",
       "             ('high', 30.0),\n",
       "             ('bandpass', ''),\n",
       "             ('NET', 387.0),\n",
       "             ('fknee', 50.0),\n",
       "             ('fmin', 0.01),\n",
       "             ('alpha', 3.5),\n",
       "             ('A', 0.09),\n",
       "             ('C', 0.87)])"
      ]
     },
     "execution_count": 7,
     "metadata": {},
     "output_type": "execute_result"
    }
   ],
   "source": [
    "c.data[\"bands\"][\"LFL1\"]"
   ]
  },
  {
   "cell_type": "code",
   "execution_count": 8,
   "metadata": {},
   "outputs": [],
   "source": [
    "import h5py"
   ]
  },
  {
   "cell_type": "code",
   "execution_count": 9,
   "metadata": {},
   "outputs": [],
   "source": [
    "s4 = h5py.File(\"../cmbs4_tophat.h5\", \"w\", track_order=True)"
   ]
  },
  {
   "cell_type": "code",
   "execution_count": 10,
   "metadata": {},
   "outputs": [],
   "source": [
    "import numpy as np"
   ]
  },
  {
   "cell_type": "code",
   "execution_count": 11,
   "metadata": {},
   "outputs": [
    {
     "name": "stdout",
     "output_type": "stream",
     "text": [
      "## ULFL1\n",
      "Bandpass [GHz] low,center,high:  17.5 20.0 22.5\n",
      "Beam [arcmin]:  10.0\n",
      "## LFL1\n",
      "Bandpass [GHz] low,center,high:  24.0 27.0 30.0\n",
      "Beam [arcmin]:  7.4\n",
      "## LFL2\n",
      "Bandpass [GHz] low,center,high:  30.0 39.0 48.0\n",
      "Beam [arcmin]:  5.1\n",
      "## LFS1\n",
      "Bandpass [GHz] low,center,high:  25.5 30.0 34.5\n",
      "Beam [arcmin]:  72.8\n",
      "## LFS2\n",
      "Bandpass [GHz] low,center,high:  34.0 40.0 46.0\n",
      "Beam [arcmin]:  72.8\n",
      "## MFL1\n",
      "Bandpass [GHz] low,center,high:  75.5 93.0 110.5\n",
      "Beam [arcmin]:  2.2\n",
      "## MFL2\n",
      "Bandpass [GHz] low,center,high:  125.0 145.0 165.0\n",
      "Beam [arcmin]:  1.4\n",
      "## MFLS1\n",
      "Bandpass [GHz] low,center,high:  74.8 85.0 95.2\n",
      "Beam [arcmin]:  25.5\n",
      "## MFLS2\n",
      "Bandpass [GHz] low,center,high:  129.1 145.1 161.0\n",
      "Beam [arcmin]:  25.5\n",
      "## MFHS1\n",
      "Bandpass [GHz] low,center,high:  83.6 95.0 106.4\n",
      "Beam [arcmin]:  22.7\n",
      "## MFHS2\n",
      "Bandpass [GHz] low,center,high:  138.0 155.1 172.1\n",
      "Beam [arcmin]:  22.7\n",
      "## HFL1\n",
      "Bandpass [GHz] low,center,high:  195.0 225.0 255.0\n",
      "Beam [arcmin]:  1.0\n",
      "## HFL2\n",
      "Bandpass [GHz] low,center,high:  255.5 278.0 300.5\n",
      "Beam [arcmin]:  0.9\n",
      "## HFS1\n",
      "Bandpass [GHz] low,center,high:  195.8 220.0 244.2\n",
      "Beam [arcmin]:  13.0\n",
      "## HFS2\n",
      "Bandpass [GHz] low,center,high:  240.3 270.0 299.7\n",
      "Beam [arcmin]:  13.0\n"
     ]
    }
   ],
   "source": [
    "for band, v in c.data[\"bands\"].items():\n",
    "    print(\"## \" + band)\n",
    "    print(\"Bandpass [GHz] low,center,high: \", v[\"low\"], v[\"center\"], v[\"high\"])\n",
    "    try:\n",
    "        tel = \"SAT\"\n",
    "        fwhm = c.data[\"telescopes\"][tel + \"0\"][\"fwhm\"][band]\n",
    "    except:\n",
    "        tel = \"LAT\"\n",
    "        fwhm = c.data[\"telescopes\"][tel + \"0\"][\"fwhm\"][band]\n",
    "    print(\"Beam [arcmin]: \", fwhm)\n",
    "    s4.create_group(band)\n",
    "    s4[band].create_dataset('bandpass_frequency_GHz', data=np.linspace(v[\"low\"], v[\"high\"], 10))\n",
    "    s4[band].create_dataset(\"bandpass_weight\", data=np.ones(10, dtype=np.float))\n",
    "    s4[band].attrs[\"fwhm_arcmin\"] = fwhm\n",
    "    s4[band].attrs[\"band\"] = band\n",
    "    s4[band].attrs[\"telescope\"] = tel\n",
    "    s4[band].attrs[\"center_frequency_GHz\"] = v[\"center\"]"
   ]
  },
  {
   "cell_type": "code",
   "execution_count": 12,
   "metadata": {},
   "outputs": [
    {
     "data": {
      "text/plain": [
       "<KeysViewHDF5 ['ULFL1', 'LFL1', 'LFL2', 'LFS1', 'LFS2', 'MFL1', 'MFL2', 'MFLS1', 'MFLS2', 'MFHS1', 'MFHS2', 'HFL1', 'HFL2', 'HFS1', 'HFS2']>"
      ]
     },
     "execution_count": 12,
     "metadata": {},
     "output_type": "execute_result"
    }
   ],
   "source": [
    "s4.keys()"
   ]
  },
  {
   "cell_type": "code",
   "execution_count": 13,
   "metadata": {},
   "outputs": [
    {
     "data": {
      "text/plain": [
       "<HDF5 dataset \"bandpass_frequency_GHz\": shape (10,), type \"<f8\">"
      ]
     },
     "execution_count": 13,
     "metadata": {},
     "output_type": "execute_result"
    }
   ],
   "source": [
    "s4[\"MFL1\"].get(\"bandpass_frequency_GHz\")"
   ]
  },
  {
   "cell_type": "code",
   "execution_count": 14,
   "metadata": {},
   "outputs": [],
   "source": [
    "s4.close()"
   ]
  },
  {
   "cell_type": "code",
   "execution_count": 15,
   "metadata": {},
   "outputs": [
    {
     "data": {
      "text/plain": [
       "'/global/project/projectdirs/planck/software/zonca/software/s4mapbasedsims/202006_foregrounds_extragalactic_cmb_tophat/utils'"
      ]
     },
     "execution_count": 15,
     "metadata": {},
     "output_type": "execute_result"
    }
   ],
   "source": [
    "pwd"
   ]
  }
 ],
 "metadata": {
  "kernelspec": {
   "display_name": "condajupynersc",
   "language": "python",
   "name": "condajupynersc"
  },
  "language_info": {
   "codemirror_mode": {
    "name": "ipython",
    "version": 3
   },
   "file_extension": ".py",
   "mimetype": "text/x-python",
   "name": "python",
   "nbconvert_exporter": "python",
   "pygments_lexer": "ipython3",
   "version": "3.6.8"
  }
 },
 "nbformat": 4,
 "nbformat_minor": 4
}
