{
 "cells": [
  {
   "cell_type": "markdown",
   "metadata": {},
   "source": [
    "# Dump instrument parameters in HDF5 to CSV\n",
    "\n",
    "Cannot use CSV to store instrument parameters because we will need to store large arrays for bandpasses, but for easier inspection on Github, we can duplicate the HDF5 to CSV.\n",
    "The CSV are not used by the code."
   ]
  },
  {
   "cell_type": "code",
   "execution_count": 1,
   "metadata": {},
   "outputs": [],
   "source": [
    "import h5py\n",
    "import pandas as pd"
   ]
  },
  {
   "cell_type": "code",
   "execution_count": 2,
   "metadata": {},
   "outputs": [],
   "source": [
    "h5py.get_config().track_order = True"
   ]
  },
  {
   "cell_type": "code",
   "execution_count": 3,
   "metadata": {},
   "outputs": [],
   "source": [
    "f = h5py.File(\"../cmbs4_tophat.h5\", mode=\"r\", track_order=True)"
   ]
  },
  {
   "cell_type": "code",
   "execution_count": 4,
   "metadata": {},
   "outputs": [
    {
     "data": {
      "text/plain": [
       "<KeysViewHDF5 ['HFL1', 'HFL2', 'HFS1', 'HFS2', 'LFL1', 'LFL2', 'LFS1', 'LFS2', 'MFHS1', 'MFHS2', 'MFL1', 'MFL2', 'MFLS1', 'MFLS2', 'ULFL1']>"
      ]
     },
     "execution_count": 4,
     "metadata": {},
     "output_type": "execute_result"
    }
   ],
   "source": [
    "f.keys()"
   ]
  },
  {
   "cell_type": "code",
   "execution_count": 5,
   "metadata": {},
   "outputs": [
    {
     "data": {
      "text/plain": [
       "'../cmbs4_tophat.h5'"
      ]
     },
     "execution_count": 5,
     "metadata": {},
     "output_type": "execute_result"
    }
   ],
   "source": [
    "f.filename"
   ]
  },
  {
   "cell_type": "code",
   "execution_count": 6,
   "metadata": {},
   "outputs": [
    {
     "name": "stdout",
     "output_type": "stream",
     "text": [
      "HFL1\n",
      "HFL2\n",
      "HFS1\n",
      "HFS2\n",
      "LFL1\n",
      "LFL2\n",
      "LFS1\n",
      "LFS2\n",
      "MFHS1\n",
      "MFHS2\n",
      "MFL1\n",
      "MFL2\n",
      "MFLS1\n",
      "MFLS2\n",
      "ULFL1\n"
     ]
    }
   ],
   "source": [
    "csv = {}\n",
    "for tag in f.keys():\n",
    "    print(tag)\n",
    "    csv[tag] = dict(f[tag].attrs)\n",
    "    if \"bandpass_frequency_GHz\" in f[tag]:\n",
    "        csv[tag][\"bandpass_low\"] = f[tag][\"bandpass_frequency_GHz\"][0]\n",
    "        csv[tag][\"bandpass_high\"] = f[tag][\"bandpass_frequency_GHz\"][-1]"
   ]
  },
  {
   "cell_type": "code",
   "execution_count": 7,
   "metadata": {},
   "outputs": [],
   "source": [
    "out = pd.DataFrame(csv).T"
   ]
  },
  {
   "cell_type": "code",
   "execution_count": 8,
   "metadata": {},
   "outputs": [],
   "source": [
    "out.sort_values(\"index\", inplace=True)"
   ]
  },
  {
   "cell_type": "code",
   "execution_count": 9,
   "metadata": {},
   "outputs": [],
   "source": [
    "del out[\"index\"]"
   ]
  },
  {
   "cell_type": "code",
   "execution_count": 10,
   "metadata": {},
   "outputs": [],
   "source": [
    "out.to_csv(f.filename.replace(\"h5\", \"csv\"))"
   ]
  },
  {
   "cell_type": "code",
   "execution_count": 11,
   "metadata": {},
   "outputs": [
    {
     "data": {
      "text/html": [
       "<div>\n",
       "<style scoped>\n",
       "    .dataframe tbody tr th:only-of-type {\n",
       "        vertical-align: middle;\n",
       "    }\n",
       "\n",
       "    .dataframe tbody tr th {\n",
       "        vertical-align: top;\n",
       "    }\n",
       "\n",
       "    .dataframe thead th {\n",
       "        text-align: right;\n",
       "    }\n",
       "</style>\n",
       "<table border=\"1\" class=\"dataframe\">\n",
       "  <thead>\n",
       "    <tr style=\"text-align: right;\">\n",
       "      <th></th>\n",
       "      <th>band</th>\n",
       "      <th>telescope</th>\n",
       "      <th>center_frequency_GHz</th>\n",
       "      <th>fwhm_arcmin</th>\n",
       "      <th>detectors_per_tube</th>\n",
       "      <th>NET_uKsqrts</th>\n",
       "      <th>bandpass_low</th>\n",
       "      <th>bandpass_high</th>\n",
       "    </tr>\n",
       "  </thead>\n",
       "  <tbody>\n",
       "    <tr>\n",
       "      <th>ULFL1</th>\n",
       "      <td>ULFL1</td>\n",
       "      <td>LAT</td>\n",
       "      <td>20</td>\n",
       "      <td>10</td>\n",
       "      <td>216</td>\n",
       "      <td>325</td>\n",
       "      <td>17.5</td>\n",
       "      <td>22.5</td>\n",
       "    </tr>\n",
       "    <tr>\n",
       "      <th>LFL1</th>\n",
       "      <td>LFL1</td>\n",
       "      <td>LAT</td>\n",
       "      <td>27</td>\n",
       "      <td>7.4</td>\n",
       "      <td>384</td>\n",
       "      <td>387</td>\n",
       "      <td>24</td>\n",
       "      <td>30</td>\n",
       "    </tr>\n",
       "    <tr>\n",
       "      <th>LFL2</th>\n",
       "      <td>LFL2</td>\n",
       "      <td>LAT</td>\n",
       "      <td>39</td>\n",
       "      <td>5.1</td>\n",
       "      <td>384</td>\n",
       "      <td>247</td>\n",
       "      <td>30</td>\n",
       "      <td>48</td>\n",
       "    </tr>\n",
       "    <tr>\n",
       "      <th>LFS1</th>\n",
       "      <td>LFS1</td>\n",
       "      <td>SAT</td>\n",
       "      <td>30</td>\n",
       "      <td>72.8</td>\n",
       "      <td>296</td>\n",
       "      <td>177</td>\n",
       "      <td>25.5</td>\n",
       "      <td>34.5</td>\n",
       "    </tr>\n",
       "    <tr>\n",
       "      <th>LFS2</th>\n",
       "      <td>LFS2</td>\n",
       "      <td>SAT</td>\n",
       "      <td>40</td>\n",
       "      <td>72.8</td>\n",
       "      <td>296</td>\n",
       "      <td>224</td>\n",
       "      <td>34</td>\n",
       "      <td>46</td>\n",
       "    </tr>\n",
       "    <tr>\n",
       "      <th>MFL1</th>\n",
       "      <td>MFL1</td>\n",
       "      <td>LAT</td>\n",
       "      <td>93</td>\n",
       "      <td>2.2</td>\n",
       "      <td>3456</td>\n",
       "      <td>305</td>\n",
       "      <td>75.5</td>\n",
       "      <td>110.5</td>\n",
       "    </tr>\n",
       "    <tr>\n",
       "      <th>MFL2</th>\n",
       "      <td>MFL2</td>\n",
       "      <td>LAT</td>\n",
       "      <td>145</td>\n",
       "      <td>1.4</td>\n",
       "      <td>3456</td>\n",
       "      <td>385</td>\n",
       "      <td>125</td>\n",
       "      <td>165</td>\n",
       "    </tr>\n",
       "    <tr>\n",
       "      <th>MFLS1</th>\n",
       "      <td>MFLS1</td>\n",
       "      <td>SAT</td>\n",
       "      <td>85</td>\n",
       "      <td>25.5</td>\n",
       "      <td>3556</td>\n",
       "      <td>270</td>\n",
       "      <td>74.8</td>\n",
       "      <td>95.2</td>\n",
       "    </tr>\n",
       "    <tr>\n",
       "      <th>MFLS2</th>\n",
       "      <td>MFLS2</td>\n",
       "      <td>SAT</td>\n",
       "      <td>145.1</td>\n",
       "      <td>25.5</td>\n",
       "      <td>3556</td>\n",
       "      <td>309</td>\n",
       "      <td>129.1</td>\n",
       "      <td>161</td>\n",
       "    </tr>\n",
       "    <tr>\n",
       "      <th>MFHS1</th>\n",
       "      <td>MFHS1</td>\n",
       "      <td>SAT</td>\n",
       "      <td>95</td>\n",
       "      <td>22.7</td>\n",
       "      <td>3556</td>\n",
       "      <td>238</td>\n",
       "      <td>83.6</td>\n",
       "      <td>106.4</td>\n",
       "    </tr>\n",
       "    <tr>\n",
       "      <th>MFHS2</th>\n",
       "      <td>MFHS2</td>\n",
       "      <td>SAT</td>\n",
       "      <td>155.1</td>\n",
       "      <td>22.7</td>\n",
       "      <td>3556</td>\n",
       "      <td>331</td>\n",
       "      <td>138</td>\n",
       "      <td>172.1</td>\n",
       "    </tr>\n",
       "    <tr>\n",
       "      <th>HFL1</th>\n",
       "      <td>HFL1</td>\n",
       "      <td>LAT</td>\n",
       "      <td>225</td>\n",
       "      <td>1</td>\n",
       "      <td>3456</td>\n",
       "      <td>854</td>\n",
       "      <td>195</td>\n",
       "      <td>255</td>\n",
       "    </tr>\n",
       "    <tr>\n",
       "      <th>HFL2</th>\n",
       "      <td>HFL2</td>\n",
       "      <td>LAT</td>\n",
       "      <td>278</td>\n",
       "      <td>0.9</td>\n",
       "      <td>3456</td>\n",
       "      <td>2077</td>\n",
       "      <td>255.5</td>\n",
       "      <td>300.5</td>\n",
       "    </tr>\n",
       "    <tr>\n",
       "      <th>HFS1</th>\n",
       "      <td>HFS1</td>\n",
       "      <td>SAT</td>\n",
       "      <td>220</td>\n",
       "      <td>13</td>\n",
       "      <td>8594</td>\n",
       "      <td>747</td>\n",
       "      <td>195.8</td>\n",
       "      <td>244.2</td>\n",
       "    </tr>\n",
       "    <tr>\n",
       "      <th>HFS2</th>\n",
       "      <td>HFS2</td>\n",
       "      <td>SAT</td>\n",
       "      <td>270</td>\n",
       "      <td>13</td>\n",
       "      <td>8594</td>\n",
       "      <td>1281</td>\n",
       "      <td>240.3</td>\n",
       "      <td>299.7</td>\n",
       "    </tr>\n",
       "  </tbody>\n",
       "</table>\n",
       "</div>"
      ],
      "text/plain": [
       "        band telescope center_frequency_GHz fwhm_arcmin detectors_per_tube  \\\n",
       "ULFL1  ULFL1       LAT                   20          10                216   \n",
       "LFL1    LFL1       LAT                   27         7.4                384   \n",
       "LFL2    LFL2       LAT                   39         5.1                384   \n",
       "LFS1    LFS1       SAT                   30        72.8                296   \n",
       "LFS2    LFS2       SAT                   40        72.8                296   \n",
       "MFL1    MFL1       LAT                   93         2.2               3456   \n",
       "MFL2    MFL2       LAT                  145         1.4               3456   \n",
       "MFLS1  MFLS1       SAT                   85        25.5               3556   \n",
       "MFLS2  MFLS2       SAT                145.1        25.5               3556   \n",
       "MFHS1  MFHS1       SAT                   95        22.7               3556   \n",
       "MFHS2  MFHS2       SAT                155.1        22.7               3556   \n",
       "HFL1    HFL1       LAT                  225           1               3456   \n",
       "HFL2    HFL2       LAT                  278         0.9               3456   \n",
       "HFS1    HFS1       SAT                  220          13               8594   \n",
       "HFS2    HFS2       SAT                  270          13               8594   \n",
       "\n",
       "      NET_uKsqrts bandpass_low bandpass_high  \n",
       "ULFL1         325         17.5          22.5  \n",
       "LFL1          387           24            30  \n",
       "LFL2          247           30            48  \n",
       "LFS1          177         25.5          34.5  \n",
       "LFS2          224           34            46  \n",
       "MFL1          305         75.5         110.5  \n",
       "MFL2          385          125           165  \n",
       "MFLS1         270         74.8          95.2  \n",
       "MFLS2         309        129.1           161  \n",
       "MFHS1         238         83.6         106.4  \n",
       "MFHS2         331          138         172.1  \n",
       "HFL1          854          195           255  \n",
       "HFL2         2077        255.5         300.5  \n",
       "HFS1          747        195.8         244.2  \n",
       "HFS2         1281        240.3         299.7  "
      ]
     },
     "execution_count": 11,
     "metadata": {},
     "output_type": "execute_result"
    }
   ],
   "source": [
    "out"
   ]
  },
  {
   "cell_type": "code",
   "execution_count": null,
   "metadata": {},
   "outputs": [],
   "source": []
  }
 ],
 "metadata": {
  "kernelspec": {
   "display_name": "condajupynersc",
   "language": "python",
   "name": "condajupynersc"
  },
  "language_info": {
   "codemirror_mode": {
    "name": "ipython",
    "version": 3
   },
   "file_extension": ".py",
   "mimetype": "text/x-python",
   "name": "python",
   "nbconvert_exporter": "python",
   "pygments_lexer": "ipython3",
   "version": "3.7.0"
  }
 },
 "nbformat": 4,
 "nbformat_minor": 4
}
