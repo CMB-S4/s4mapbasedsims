{
 "cells": [
  {
   "cell_type": "code",
   "execution_count": 2,
   "metadata": {},
   "outputs": [
    {
     "name": "stdout",
     "output_type": "stream",
     "text": [
      "--2024-10-18 09:28:26--  https://github.com/CMB-S4/s4sim/blob/Phase1/chile_optimization_sims/phase1/hardware.toml.gz?raw=true\n",
      "Resolving github.com (github.com)... 140.82.112.4\n",
      "Connecting to github.com (github.com)|140.82.112.4|:443... connected.\n",
      "HTTP request sent, awaiting response... 302 Found\n",
      "Location: https://github.com/CMB-S4/s4sim/raw/refs/tags/Phase1/chile_optimization_sims/phase1/hardware.toml.gz [following]\n",
      "--2024-10-18 09:28:27--  https://github.com/CMB-S4/s4sim/raw/refs/tags/Phase1/chile_optimization_sims/phase1/hardware.toml.gz\n",
      "Reusing existing connection to github.com:443.\n",
      "HTTP request sent, awaiting response... 302 Found\n",
      "Location: https://raw.githubusercontent.com/CMB-S4/s4sim/refs/tags/Phase1/chile_optimization_sims/phase1/hardware.toml.gz [following]\n",
      "--2024-10-18 09:28:27--  https://raw.githubusercontent.com/CMB-S4/s4sim/refs/tags/Phase1/chile_optimization_sims/phase1/hardware.toml.gz\n",
      "Resolving raw.githubusercontent.com (raw.githubusercontent.com)... 185.199.110.133, 185.199.111.133, 185.199.108.133, ...\n",
      "Connecting to raw.githubusercontent.com (raw.githubusercontent.com)|185.199.110.133|:443... connected.\n",
      "HTTP request sent, awaiting response... 200 OK\n",
      "Length: 19869726 (19M) [application/octet-stream]\n",
      "Saving to: ‘hardware.toml.gz’\n",
      "\n",
      "hardware.toml.gz    100%[===================>]  18.95M  --.-KB/s    in 0.1s    \n",
      "\n",
      "2024-10-18 09:28:28 (140 MB/s) - ‘hardware.toml.gz’ saved [19869726/19869726]\n",
      "\n"
     ]
    }
   ],
   "source": [
    "!wget https://github.com/CMB-S4/s4sim/blob/Phase1/chile_optimization_sims/phase1/hardware.toml.gz?raw=true -O hardware.toml.gz"
   ]
  },
  {
   "cell_type": "code",
   "execution_count": 4,
   "metadata": {},
   "outputs": [],
   "source": [
    "!gzip -d hardware.toml.gz"
   ]
  },
  {
   "cell_type": "code",
   "execution_count": 1,
   "metadata": {},
   "outputs": [],
   "source": [
    "import toml"
   ]
  },
  {
   "cell_type": "code",
   "execution_count": 2,
   "metadata": {},
   "outputs": [
    {
     "name": "stdout",
     "output_type": "stream",
     "text": [
      "CPU times: user 1min 43s, sys: 1.46 s, total: 1min 44s\n",
      "Wall time: 1min 49s\n"
     ]
    }
   ],
   "source": [
    "%%time\n",
    "\n",
    "hardware = toml.load('hardware.toml')"
   ]
  },
  {
   "cell_type": "code",
   "execution_count": 4,
   "metadata": {},
   "outputs": [
    {
     "data": {
      "text/plain": [
       "dict_keys(['bands', 'wafers', 'tubes', 'telescopes', 'cards', 'crates', 'detectors'])"
      ]
     },
     "execution_count": 4,
     "metadata": {},
     "output_type": "execute_result"
    }
   ],
   "source": [
    "hardware.keys()"
   ]
  },
  {
   "cell_type": "code",
   "execution_count": 18,
   "metadata": {},
   "outputs": [
    {
     "data": {
      "text/plain": [
       "{'CHLAT_f020': {'center': 20.0,\n",
       "  'low': 17.5,\n",
       "  'high': 22.5,\n",
       "  'bandpass': '',\n",
       "  'NET': 406.0,\n",
       "  'fknee': 50.0,\n",
       "  'fmin': 0.01,\n",
       "  'alpha': 1.0,\n",
       "  'A': 0.071,\n",
       "  'C': 0.90757,\n",
       "  'NET_corr': 1.28,\n",
       "  'pwv_poly': [0.944529, 0.053562, 0.002317]},\n",
       " 'SPLAT_f020': {'center': 20.0,\n",
       "  'low': 17.5,\n",
       "  'high': 22.5,\n",
       "  'bandpass': '',\n",
       "  'NET': 421.0,\n",
       "  'fknee': 50.0,\n",
       "  'fmin': 0.01,\n",
       "  'alpha': 1.0,\n",
       "  'A': 0.05443,\n",
       "  'C': 0.92913,\n",
       "  'NET_corr': 1.23,\n",
       "  'pwv_poly': [0.989486, 0.032389, 0.001136]},\n",
       " 'CHLAT_f030': {'center': 24.75,\n",
       "  'low': 21.5,\n",
       "  'high': 28.0,\n",
       "  'bandpass': '',\n",
       "  'NET': 384.0,\n",
       "  'fknee': 50.0,\n",
       "  'fmin': 0.01,\n",
       "  'alpha': 1.0,\n",
       "  'A': 0.0698,\n",
       "  'C': 0.90909,\n",
       "  'NET_corr': 1.3,\n",
       "  'pwv_poly': [0.956524, 0.042312, 0.00148]},\n",
       " 'CHLAT_f040': {'center': 36.5,\n",
       "  'low': 28.0,\n",
       "  'high': 45.0,\n",
       "  'bandpass': '',\n",
       "  'NET': 230.0,\n",
       "  'fknee': 50.0,\n",
       "  'fmin': 0.01,\n",
       "  'alpha': 1.0,\n",
       "  'A': 0.17386,\n",
       "  'C': 0.77382,\n",
       "  'NET_corr': 1.14,\n",
       "  'pwv_poly': [0.987281, 0.012516, 0.000294]},\n",
       " 'SPLAT_f030': {'center': 24.75,\n",
       "  'low': 21.5,\n",
       "  'high': 28.0,\n",
       "  'bandpass': '',\n",
       "  'NET': 407.0,\n",
       "  'fknee': 50.0,\n",
       "  'fmin': 0.01,\n",
       "  'alpha': 1.0,\n",
       "  'A': 0.06565,\n",
       "  'C': 0.91454,\n",
       "  'NET_corr': 1.27,\n",
       "  'pwv_poly': [0.990859, 0.028229, 0.000774]},\n",
       " 'SPLAT_f040': {'center': 36.5,\n",
       "  'low': 28.0,\n",
       "  'high': 45.0,\n",
       "  'bandpass': '',\n",
       "  'NET': 260.0,\n",
       "  'fknee': 50.0,\n",
       "  'fmin': 0.01,\n",
       "  'alpha': 1.0,\n",
       "  'A': 0.26014,\n",
       "  'C': 0.66203,\n",
       "  'NET_corr': 1.17,\n",
       "  'pwv_poly': [0.995952, 0.012515, 0.000299]},\n",
       " 'SAT_f030': {'center': 24.75,\n",
       "  'low': 21.5,\n",
       "  'high': 28.0,\n",
       "  'bandpass': '',\n",
       "  'NET': 246.0,\n",
       "  'fknee': 50.0,\n",
       "  'fmin': 0.01,\n",
       "  'alpha': 1.0,\n",
       "  'A': 0.11488,\n",
       "  'C': 0.85083,\n",
       "  'NET_corr': 1.02,\n",
       "  'pwv_poly': [0.93368, 0.063919, 0.002889]},\n",
       " 'SAT_f040': {'center': 36.5,\n",
       "  'low': 28.0,\n",
       "  'high': 45.0,\n",
       "  'bandpass': '',\n",
       "  'NET': 155.0,\n",
       "  'fknee': 50.0,\n",
       "  'fmin': 0.01,\n",
       "  'alpha': 1.0,\n",
       "  'A': 0.21849,\n",
       "  'C': 0.71629,\n",
       "  'NET_corr': 1.04,\n",
       "  'pwv_poly': [0.984664, 0.015093, 0.000353]},\n",
       " 'CHLAT_f090': {'center': 91.5,\n",
       "  'low': 77.0,\n",
       "  'high': 106.0,\n",
       "  'bandpass': '',\n",
       "  'NET': 288.0,\n",
       "  'fknee': 50.0,\n",
       "  'fmin': 0.01,\n",
       "  'alpha': 1.0,\n",
       "  'A': 0.17224,\n",
       "  'C': 0.77562,\n",
       "  'NET_corr': 1.18,\n",
       "  'pwv_poly': [0.950153, 0.048503, 0.001707]},\n",
       " 'CHLAT_f150': {'center': 148.5,\n",
       "  'low': 128.0,\n",
       "  'high': 169.0,\n",
       "  'bandpass': '',\n",
       "  'NET': 313.0,\n",
       "  'fknee': 50.0,\n",
       "  'fmin': 0.01,\n",
       "  'alpha': 1.0,\n",
       "  'A': 0.21507,\n",
       "  'C': 0.71969,\n",
       "  'NET_corr': 1.01,\n",
       "  'pwv_poly': [0.804635, 0.188923, 0.007874]},\n",
       " 'SPLAT_f090': {'center': 91.5,\n",
       "  'low': 77.0,\n",
       "  'high': 106.0,\n",
       "  'bandpass': '',\n",
       "  'NET': 324.0,\n",
       "  'fknee': 50.0,\n",
       "  'fmin': 0.01,\n",
       "  'alpha': 1.0,\n",
       "  'A': 0.23242,\n",
       "  'C': 0.6975,\n",
       "  'NET_corr': 1.18,\n",
       "  'pwv_poly': [0.983165, 0.051852, 0.001852]},\n",
       " 'SPLAT_f150': {'center': 148.5,\n",
       "  'low': 128.0,\n",
       "  'high': 169.0,\n",
       "  'bandpass': '',\n",
       "  'NET': 297.0,\n",
       "  'fknee': 50.0,\n",
       "  'fmin': 0.01,\n",
       "  'alpha': 1.0,\n",
       "  'A': 0.19995,\n",
       "  'C': 0.73946,\n",
       "  'NET_corr': 1.01,\n",
       "  'pwv_poly': [0.921211, 0.241889, 0.011086]},\n",
       " 'SAT_f085': {'center': 85.0,\n",
       "  'low': 74.8,\n",
       "  'high': 95.2,\n",
       "  'bandpass': '',\n",
       "  'NET': 259.0,\n",
       "  'fknee': 50.0,\n",
       "  'fmin': 0.01,\n",
       "  'alpha': 1.0,\n",
       "  'A': 0.26241,\n",
       "  'C': 0.65892,\n",
       "  'NET_corr': 1.02,\n",
       "  'pwv_poly': [0.956092, 0.042784, 0.001444]},\n",
       " 'SAT_f145': {'center': 145.0,\n",
       "  'low': 129.1,\n",
       "  'high': 161.0,\n",
       "  'bandpass': '',\n",
       "  'NET': 311.0,\n",
       "  'fknee': 50.0,\n",
       "  'fmin': 0.01,\n",
       "  'alpha': 1.0,\n",
       "  'A': 0.20697,\n",
       "  'C': 0.73043,\n",
       "  'NET_corr': 1.01,\n",
       "  'pwv_poly': [0.84875, 0.146717, 0.005639]},\n",
       " 'SAT_f095': {'center': 95.0,\n",
       "  'low': 83.6,\n",
       "  'high': 106.4,\n",
       "  'bandpass': '',\n",
       "  'NET': 240.0,\n",
       "  'fknee': 50.0,\n",
       "  'fmin': 0.01,\n",
       "  'alpha': 1.0,\n",
       "  'A': 0.21106,\n",
       "  'C': 0.72533,\n",
       "  'NET_corr': 1.02,\n",
       "  'pwv_poly': [0.94145, 0.05699, 0.001986]},\n",
       " 'SAT_f155': {'center': 155.0,\n",
       "  'low': 138.0,\n",
       "  'high': 172.1,\n",
       "  'bandpass': '',\n",
       "  'NET': 365.0,\n",
       "  'fknee': 50.0,\n",
       "  'fmin': 0.01,\n",
       "  'alpha': 1.0,\n",
       "  'A': 0.22432,\n",
       "  'C': 0.70785,\n",
       "  'NET_corr': 1.02,\n",
       "  'pwv_poly': [0.801865, 0.192474, 0.007107]},\n",
       " 'CHLAT_f220': {'center': 227.0,\n",
       "  'low': 198.0,\n",
       "  'high': 256.0,\n",
       "  'bandpass': '',\n",
       "  'NET': 670.0,\n",
       "  'fknee': 50.0,\n",
       "  'fmin': 0.01,\n",
       "  'alpha': 1.0,\n",
       "  'A': 0.32681,\n",
       "  'C': 0.57429,\n",
       "  'NET_corr': 1.02,\n",
       "  'pwv_poly': [0.675399, 0.30736, 0.019666]},\n",
       " 'CHLAT_f280': {'center': 285.5,\n",
       "  'low': 256.0,\n",
       "  'high': 315.0,\n",
       "  'bandpass': '',\n",
       "  'NET': 1615.0,\n",
       "  'fknee': 50.0,\n",
       "  'fmin': 0.01,\n",
       "  'alpha': 1.0,\n",
       "  'A': 0.40724,\n",
       "  'C': 0.46986,\n",
       "  'NET_corr': 1.01,\n",
       "  'pwv_poly': [0.582919, 0.387797, 0.032451]},\n",
       " 'SPLAT_f220': {'center': 227.0,\n",
       "  'low': 198.0,\n",
       "  'high': 256.0,\n",
       "  'bandpass': '',\n",
       "  'NET': 580.0,\n",
       "  'fknee': 50.0,\n",
       "  'fmin': 0.01,\n",
       "  'alpha': 1.0,\n",
       "  'A': 0.2731,\n",
       "  'C': 0.64416,\n",
       "  'NET_corr': 1.02,\n",
       "  'pwv_poly': [0.854996, 0.441083, 0.033158]},\n",
       " 'SPLAT_f280': {'center': 285.5,\n",
       "  'low': 256.0,\n",
       "  'high': 315.0,\n",
       "  'bandpass': '',\n",
       "  'NET': 1327.0,\n",
       "  'fknee': 50.0,\n",
       "  'fmin': 0.01,\n",
       "  'alpha': 1.0,\n",
       "  'A': 0.33182,\n",
       "  'C': 0.56786,\n",
       "  'NET_corr': 1.0,\n",
       "  'pwv_poly': [0.802794, 0.594632, 0.061426]},\n",
       " 'SAT_f220': {'center': 227.0,\n",
       "  'low': 198.0,\n",
       "  'high': 256.0,\n",
       "  'bandpass': '',\n",
       "  'NET': 731.0,\n",
       "  'fknee': 50.0,\n",
       "  'fmin': 0.01,\n",
       "  'alpha': 1.0,\n",
       "  'A': 0.29945,\n",
       "  'C': 0.61031,\n",
       "  'NET_corr': 1.01,\n",
       "  'pwv_poly': [0.731418, 0.255791, 0.014788]},\n",
       " 'SAT_f280': {'center': 285.5,\n",
       "  'low': 256.0,\n",
       "  'high': 315.0,\n",
       "  'bandpass': '',\n",
       "  'NET': 1845.0,\n",
       "  'fknee': 50.0,\n",
       "  'fmin': 0.01,\n",
       "  'alpha': 1.0,\n",
       "  'A': 0.36317,\n",
       "  'C': 0.52786,\n",
       "  'NET_corr': 1.01,\n",
       "  'pwv_poly': [0.662106, 0.316561, 0.023882]}}"
      ]
     },
     "execution_count": 18,
     "metadata": {},
     "output_type": "execute_result"
    }
   ],
   "source": [
    "hardware[\"bands\"]"
   ]
  },
  {
   "cell_type": "markdown",
   "metadata": {},
   "source": [
    "The git commit hash is the last section after the dot of this version id after removing the first character."
   ]
  },
  {
   "cell_type": "code",
   "execution_count": 5,
   "metadata": {},
   "outputs": [
    {
     "data": {
      "text/plain": [
       "{'SAT_f030': 100.9,\n",
       " 'SAT_f040': 74.4,\n",
       " 'SAT_f085': 29.5,\n",
       " 'SAT_f145': 18.1,\n",
       " 'SAT_f095': 26.4,\n",
       " 'SAT_f155': 16.9,\n",
       " 'SAT_f220': 11.3,\n",
       " 'SAT_f280': 10.1}"
      ]
     },
     "execution_count": 5,
     "metadata": {},
     "output_type": "execute_result"
    }
   ],
   "source": [
    "hardware[\"telescopes\"][\"SAT1\"][\"fwhm\"]"
   ]
  },
  {
   "cell_type": "code",
   "execution_count": 6,
   "metadata": {},
   "outputs": [
    {
     "data": {
      "text/plain": [
       "dict_keys(['LAT0', 'LAT1', 'LAT2', 'SAT1', 'SAT2', 'SAT3'])"
      ]
     },
     "execution_count": 6,
     "metadata": {},
     "output_type": "execute_result"
    }
   ],
   "source": [
    "hardware[\"telescopes\"].keys()"
   ]
  },
  {
   "cell_type": "code",
   "execution_count": 7,
   "metadata": {},
   "outputs": [
    {
     "data": {
      "text/plain": [
       "dict_keys(['SAT_f030', 'SAT_f040', 'SAT_f085', 'SAT_f145', 'SAT_f095', 'SAT_f155', 'SAT_f220', 'SAT_f280'])"
      ]
     },
     "execution_count": 7,
     "metadata": {},
     "output_type": "execute_result"
    }
   ],
   "source": [
    "hardware[\"telescopes\"][\"SAT3\"][\"fwhm\"].keys()"
   ]
  },
  {
   "cell_type": "code",
   "execution_count": 8,
   "metadata": {},
   "outputs": [
    {
     "data": {
      "text/plain": [
       "dict_keys(['tubes', 'platescale', 'tubespace', 'fwhm'])"
      ]
     },
     "execution_count": 8,
     "metadata": {},
     "output_type": "execute_result"
    }
   ],
   "source": [
    "hardware[\"telescopes\"][\"SAT3\"].keys()"
   ]
  },
  {
   "cell_type": "code",
   "execution_count": 9,
   "metadata": {},
   "outputs": [
    {
     "data": {
      "text/plain": [
       "dict_keys(['CHLAT_f020', 'SPLAT_f020', 'CHLAT_f030', 'CHLAT_f040', 'SPLAT_f030', 'SPLAT_f040', 'SAT_f030', 'SAT_f040', 'CHLAT_f090', 'CHLAT_f150', 'SPLAT_f090', 'SPLAT_f150', 'SAT_f085', 'SAT_f145', 'SAT_f095', 'SAT_f155', 'CHLAT_f220', 'CHLAT_f280', 'SPLAT_f220', 'SPLAT_f280', 'SAT_f220', 'SAT_f280'])"
      ]
     },
     "execution_count": 9,
     "metadata": {},
     "output_type": "execute_result"
    }
   ],
   "source": [
    "hardware[\"bands\"].keys()"
   ]
  },
  {
   "cell_type": "code",
   "execution_count": 68,
   "metadata": {},
   "outputs": [],
   "source": [
    "import numpy as np"
   ]
  },
  {
   "cell_type": "code",
   "execution_count": 69,
   "metadata": {},
   "outputs": [],
   "source": [
    "from collections import OrderedDict\n",
    "from astropy import units as u\n",
    "from astropy.table import QTable"
   ]
  },
  {
   "cell_type": "code",
   "execution_count": 105,
   "metadata": {},
   "outputs": [],
   "source": [
    "ipac_warning = [\"Text file in IPAC table format, read with astropy\",\n",
    "    \"from astropy.table import QTable\",\n",
    "    \"QTable.read('filename.tbl', format='ascii.ipac')\",\n",
    "    \"Instrument model exported from the file\",\n",
    "    \"chile_optimization_sims/phase1/hardware.toml.gz\",\n",
    "    \"in the Phase1 branch of the repository:\",\n",
    "    \"https://github.com/CMB-S4/s4sim\"]"
   ]
  },
  {
   "cell_type": "code",
   "execution_count": 106,
   "metadata": {},
   "outputs": [
    {
     "data": {
      "text/plain": [
       "{'CHLAT_f020': 9.6,\n",
       " 'SPLAT_f020': 11.2,\n",
       " 'CHLAT_f030': 7.8,\n",
       " 'SPLAT_f030': 9.1,\n",
       " 'CHLAT_f040': 5.3,\n",
       " 'SPLAT_f040': 6.2,\n",
       " 'CHLAT_f090': 2.1,\n",
       " 'SPLAT_f090': 2.5,\n",
       " 'CHLAT_f150': 1.3,\n",
       " 'SPLAT_f150': 1.5,\n",
       " 'CHLAT_f220': 0.95,\n",
       " 'SPLAT_f220': 1.1,\n",
       " 'CHLAT_f280': 0.83,\n",
       " 'SPLAT_f280': 1.0}"
      ]
     },
     "execution_count": 106,
     "metadata": {},
     "output_type": "execute_result"
    }
   ],
   "source": [
    "hardware[\"telescopes\"][\"LAT0\"][\"fwhm\"]"
   ]
  },
  {
   "cell_type": "code",
   "execution_count": 107,
   "metadata": {},
   "outputs": [],
   "source": [
    "!mkdir -p ../instrument_model"
   ]
  },
  {
   "cell_type": "code",
   "execution_count": 108,
   "metadata": {},
   "outputs": [],
   "source": [
    "!rm ../instrument_model/band*"
   ]
  },
  {
   "cell_type": "code",
   "execution_count": 109,
   "metadata": {},
   "outputs": [
    {
     "name": "stdout",
     "output_type": "stream",
     "text": [
      "## CHLAT_f020\n",
      "Bandpass [GHz] low,center,high:  17.5 20.0 22.5\n",
      "Beam [arcmin]:  9.6\n",
      "## CHLAT_f030\n",
      "Bandpass [GHz] low,center,high:  21.5 24.75 28.0\n",
      "Beam [arcmin]:  7.8\n",
      "## CHLAT_f040\n",
      "Bandpass [GHz] low,center,high:  28.0 36.5 45.0\n",
      "Beam [arcmin]:  5.3\n",
      "## SAT_f030\n",
      "Bandpass [GHz] low,center,high:  21.5 24.75 28.0\n",
      "Beam [arcmin]:  100.9\n",
      "## SAT_f040\n",
      "Bandpass [GHz] low,center,high:  28.0 36.5 45.0\n",
      "Beam [arcmin]:  74.4\n",
      "## CHLAT_f090\n",
      "Bandpass [GHz] low,center,high:  77.0 91.5 106.0\n",
      "Beam [arcmin]:  2.1\n",
      "## CHLAT_f150\n",
      "Bandpass [GHz] low,center,high:  128.0 148.5 169.0\n",
      "Beam [arcmin]:  1.3\n",
      "## SAT_f085\n",
      "Bandpass [GHz] low,center,high:  74.8 85.0 95.2\n",
      "Beam [arcmin]:  29.5\n",
      "## SAT_f145\n",
      "Bandpass [GHz] low,center,high:  129.1 145.0 161.0\n",
      "Beam [arcmin]:  18.1\n",
      "## SAT_f095\n",
      "Bandpass [GHz] low,center,high:  83.6 95.0 106.4\n",
      "Beam [arcmin]:  26.4\n",
      "## SAT_f155\n",
      "Bandpass [GHz] low,center,high:  138.0 155.0 172.1\n",
      "Beam [arcmin]:  16.9\n",
      "## CHLAT_f220\n",
      "Bandpass [GHz] low,center,high:  198.0 227.0 256.0\n",
      "Beam [arcmin]:  0.95\n",
      "## CHLAT_f280\n",
      "Bandpass [GHz] low,center,high:  256.0 285.5 315.0\n",
      "Beam [arcmin]:  0.83\n",
      "## SAT_f220\n",
      "Bandpass [GHz] low,center,high:  198.0 227.0 256.0\n",
      "Beam [arcmin]:  11.3\n",
      "## SAT_f280\n",
      "Bandpass [GHz] low,center,high:  256.0 285.5 315.0\n",
      "Beam [arcmin]:  10.1\n"
     ]
    }
   ],
   "source": [
    "s4 = []\n",
    "for i, (band, v) in enumerate(hardware[\"bands\"].items()):\n",
    "    if not band.startswith(\"SP\"):\n",
    "\n",
    "        print(\"## \" + band)\n",
    "        print(\"Bandpass [GHz] low,center,high: \", v[\"low\"], v[\"center\"], v[\"high\"])\n",
    "        tel = band.split(\"_\")[0][-3:]\n",
    "        assert tel in [\"SAT\", \"LAT\"]\n",
    "        fwhm = hardware[\"telescopes\"][tel + \"1\"][\"fwhm\"][band]\n",
    "        print(\"Beam [arcmin]: \", fwhm)\n",
    "        d = OrderedDict(band=band)\n",
    "        d[\"band\"] = band\n",
    "        d[\"telescope\"] = tel\n",
    "        if band.startswith(\"SP\"):\n",
    "            d[\"site\"] = \"Pole\"\n",
    "        elif band.startswith(\"CH\"):\n",
    "            d[\"site\"] = \"Chile\"\n",
    "        else:\n",
    "            d[\"site\"] = \"Chile\"\n",
    "        d[\"center_frequency\"] = v[\"center\"] * u.GHz\n",
    "        d[\"fwhm\"] = fwhm * u.arcmin\n",
    "        # d[\"NET\"] = v[\"NET\"] * u.uK*u.s**.5\n",
    "        d[\"nside\"] = 4096 if tel ==\"LAT\" else 512\n",
    "        bandpass_table = QTable(dict(bandpass_frequency=np.linspace(v[\"low\"], v[\"high\"], 10) * u.GHz,\n",
    "        bandpass_weight=np.ones(10, dtype=float)))\n",
    "        bandpass_table.meta[\"comments\"] = ipac_warning\n",
    "        bandpass_table.write(f\"../instrument_model/bandpass_{band}.tbl\", format=\"ascii.ipac\", overwrite=True)\n",
    "        s4.append(d)"
   ]
  },
  {
   "cell_type": "markdown",
   "metadata": {},
   "source": [
    "## Add reference to bandpasses"
   ]
  },
  {
   "cell_type": "code",
   "execution_count": 110,
   "metadata": {
    "tags": []
   },
   "outputs": [],
   "source": [
    "for ch in s4:\n",
    "    ch[\"bandpass_file\"] = f\"bandpass_{ch['band']}.tbl\""
   ]
  },
  {
   "cell_type": "code",
   "execution_count": 111,
   "metadata": {},
   "outputs": [
    {
     "data": {
      "text/plain": [
       "15"
      ]
     },
     "execution_count": 111,
     "metadata": {},
     "output_type": "execute_result"
    }
   ],
   "source": [
    "len(s4)"
   ]
  },
  {
   "cell_type": "code",
   "execution_count": 112,
   "metadata": {},
   "outputs": [
    {
     "name": "stdout",
     "output_type": "stream",
     "text": [
      "15\n"
     ]
    }
   ],
   "source": [
    "%ls ../instrument_model/band* | wc -l"
   ]
  },
  {
   "cell_type": "markdown",
   "metadata": {},
   "source": [
    "# Create the astropy Table"
   ]
  },
  {
   "cell_type": "code",
   "execution_count": 113,
   "metadata": {},
   "outputs": [],
   "source": [
    "import astropy.units as u"
   ]
  },
  {
   "cell_type": "code",
   "execution_count": 114,
   "metadata": {},
   "outputs": [],
   "source": [
    "from astropy.table import QTable, Table"
   ]
  },
  {
   "cell_type": "code",
   "execution_count": 115,
   "metadata": {},
   "outputs": [],
   "source": [
    "t = QTable(rows=s4, masked=True, names=list(s4[1]))\n",
    "t.add_index(\"band\")"
   ]
  },
  {
   "cell_type": "code",
   "execution_count": 116,
   "metadata": {},
   "outputs": [],
   "source": [
    "t.meta[\"comments\"] = ipac_warning"
   ]
  },
  {
   "cell_type": "code",
   "execution_count": 117,
   "metadata": {},
   "outputs": [],
   "source": [
    "t.sort([\"telescope\", \"center_frequency\"])"
   ]
  },
  {
   "cell_type": "code",
   "execution_count": 118,
   "metadata": {},
   "outputs": [],
   "source": [
    "t.write(\"../instrument_model/cmbs4_instrument_model.tbl\", format=\"ascii.ipac\", overwrite=True)"
   ]
  },
  {
   "cell_type": "code",
   "execution_count": 119,
   "metadata": {},
   "outputs": [],
   "source": [
    "c = QTable.read(\"../instrument_model/cmbs4_instrument_model.tbl\", format=\"ascii.ipac\" )"
   ]
  },
  {
   "cell_type": "code",
   "execution_count": 120,
   "metadata": {},
   "outputs": [],
   "source": [
    "c.add_index(\"band\")"
   ]
  },
  {
   "cell_type": "code",
   "execution_count": 121,
   "metadata": {},
   "outputs": [
    {
     "data": {
      "text/html": [
       "<div><i>QTable length=15</i>\n",
       "<table id=\"table23455363058176\" class=\"table-striped table-bordered table-condensed\">\n",
       "<thead><tr><th>band</th><th>telescope</th><th>site</th><th>center_frequency</th><th>fwhm</th><th>nside</th><th>bandpass_file</th></tr></thead>\n",
       "<thead><tr><th></th><th></th><th></th><th>GHz</th><th>arcmin</th><th></th><th></th></tr></thead>\n",
       "<thead><tr><th>str10</th><th>str3</th><th>str5</th><th>float64</th><th>float64</th><th>int64</th><th>str23</th></tr></thead>\n",
       "<tr><td>CHLAT_f020</td><td>LAT</td><td>Chile</td><td>20.0</td><td>9.6</td><td>4096</td><td>bandpass_CHLAT_f020.tbl</td></tr>\n",
       "<tr><td>CHLAT_f030</td><td>LAT</td><td>Chile</td><td>24.75</td><td>7.8</td><td>4096</td><td>bandpass_CHLAT_f030.tbl</td></tr>\n",
       "<tr><td>CHLAT_f040</td><td>LAT</td><td>Chile</td><td>36.5</td><td>5.3</td><td>4096</td><td>bandpass_CHLAT_f040.tbl</td></tr>\n",
       "<tr><td>CHLAT_f090</td><td>LAT</td><td>Chile</td><td>91.5</td><td>2.1</td><td>4096</td><td>bandpass_CHLAT_f090.tbl</td></tr>\n",
       "<tr><td>CHLAT_f150</td><td>LAT</td><td>Chile</td><td>148.5</td><td>1.3</td><td>4096</td><td>bandpass_CHLAT_f150.tbl</td></tr>\n",
       "<tr><td>CHLAT_f220</td><td>LAT</td><td>Chile</td><td>227.0</td><td>0.95</td><td>4096</td><td>bandpass_CHLAT_f220.tbl</td></tr>\n",
       "<tr><td>CHLAT_f280</td><td>LAT</td><td>Chile</td><td>285.5</td><td>0.83</td><td>4096</td><td>bandpass_CHLAT_f280.tbl</td></tr>\n",
       "<tr><td>SAT_f030</td><td>SAT</td><td>Chile</td><td>24.75</td><td>100.9</td><td>512</td><td>bandpass_SAT_f030.tbl</td></tr>\n",
       "<tr><td>SAT_f040</td><td>SAT</td><td>Chile</td><td>36.5</td><td>74.4</td><td>512</td><td>bandpass_SAT_f040.tbl</td></tr>\n",
       "<tr><td>SAT_f085</td><td>SAT</td><td>Chile</td><td>85.0</td><td>29.5</td><td>512</td><td>bandpass_SAT_f085.tbl</td></tr>\n",
       "<tr><td>SAT_f095</td><td>SAT</td><td>Chile</td><td>95.0</td><td>26.4</td><td>512</td><td>bandpass_SAT_f095.tbl</td></tr>\n",
       "<tr><td>SAT_f145</td><td>SAT</td><td>Chile</td><td>145.0</td><td>18.1</td><td>512</td><td>bandpass_SAT_f145.tbl</td></tr>\n",
       "<tr><td>SAT_f155</td><td>SAT</td><td>Chile</td><td>155.0</td><td>16.9</td><td>512</td><td>bandpass_SAT_f155.tbl</td></tr>\n",
       "<tr><td>SAT_f220</td><td>SAT</td><td>Chile</td><td>227.0</td><td>11.3</td><td>512</td><td>bandpass_SAT_f220.tbl</td></tr>\n",
       "<tr><td>SAT_f280</td><td>SAT</td><td>Chile</td><td>285.5</td><td>10.1</td><td>512</td><td>bandpass_SAT_f280.tbl</td></tr>\n",
       "</table></div>"
      ],
      "text/plain": [
       "<QTable length=15>\n",
       "   band    telescope  site ...   fwhm  nside      bandpass_file     \n",
       "                           ...  arcmin                              \n",
       "  str10       str3    str5 ... float64 int64          str23         \n",
       "---------- --------- ----- ... ------- ----- -----------------------\n",
       "CHLAT_f020       LAT Chile ...     9.6  4096 bandpass_CHLAT_f020.tbl\n",
       "CHLAT_f030       LAT Chile ...     7.8  4096 bandpass_CHLAT_f030.tbl\n",
       "CHLAT_f040       LAT Chile ...     5.3  4096 bandpass_CHLAT_f040.tbl\n",
       "CHLAT_f090       LAT Chile ...     2.1  4096 bandpass_CHLAT_f090.tbl\n",
       "CHLAT_f150       LAT Chile ...     1.3  4096 bandpass_CHLAT_f150.tbl\n",
       "CHLAT_f220       LAT Chile ...    0.95  4096 bandpass_CHLAT_f220.tbl\n",
       "CHLAT_f280       LAT Chile ...    0.83  4096 bandpass_CHLAT_f280.tbl\n",
       "  SAT_f030       SAT Chile ...   100.9   512   bandpass_SAT_f030.tbl\n",
       "  SAT_f040       SAT Chile ...    74.4   512   bandpass_SAT_f040.tbl\n",
       "  SAT_f085       SAT Chile ...    29.5   512   bandpass_SAT_f085.tbl\n",
       "  SAT_f095       SAT Chile ...    26.4   512   bandpass_SAT_f095.tbl\n",
       "  SAT_f145       SAT Chile ...    18.1   512   bandpass_SAT_f145.tbl\n",
       "  SAT_f155       SAT Chile ...    16.9   512   bandpass_SAT_f155.tbl\n",
       "  SAT_f220       SAT Chile ...    11.3   512   bandpass_SAT_f220.tbl\n",
       "  SAT_f280       SAT Chile ...    10.1   512   bandpass_SAT_f280.tbl"
      ]
     },
     "execution_count": 121,
     "metadata": {},
     "output_type": "execute_result"
    }
   ],
   "source": [
    "c"
   ]
  },
  {
   "cell_type": "code",
   "execution_count": 122,
   "metadata": {},
   "outputs": [
    {
     "name": "stdout",
     "output_type": "stream",
     "text": [
      "\\ Text file in IPAC table format, read with astropy\n",
      "\\ from astropy.table import QTable\n",
      "\\ QTable.read('filename.tbl', format='ascii.ipac')\n",
      "\\ Instrument model exported from the file\n",
      "\\ chile_optimization_sims/phase1/hardware.toml.gz\n",
      "\\ in the Phase1 branch of the repository:\n",
      "\\ https://github.com/CMB-S4/s4sim\n",
      "|      band|telescope| site|center_frequency|  fwhm|nside|          bandpass_file|\n",
      "|      char|     char| char|          double|double| long|                   char|\n",
      "|          |         |     |             GHz|arcmin|     |                       |\n",
      "|      null|     null| null|            null|  null| null|                   null|\n",
      " CHLAT_f020       LAT Chile             20.0    9.6  4096 bandpass_CHLAT_f020.tbl \n",
      " CHLAT_f030       LAT Chile            24.75    7.8  4096 bandpass_CHLAT_f030.tbl \n",
      " CHLAT_f040       LAT Chile             36.5    5.3  4096 bandpass_CHLAT_f040.tbl \n",
      " CHLAT_f090       LAT Chile             91.5    2.1  4096 bandpass_CHLAT_f090.tbl \n",
      " CHLAT_f150       LAT Chile            148.5    1.3  4096 bandpass_CHLAT_f150.tbl \n",
      " CHLAT_f220       LAT Chile            227.0   0.95  4096 bandpass_CHLAT_f220.tbl \n",
      " CHLAT_f280       LAT Chile            285.5   0.83  4096 bandpass_CHLAT_f280.tbl \n",
      "   SAT_f030       SAT Chile            24.75  100.9   512   bandpass_SAT_f030.tbl \n",
      "   SAT_f040       SAT Chile             36.5   74.4   512   bandpass_SAT_f040.tbl \n",
      "   SAT_f085       SAT Chile             85.0   29.5   512   bandpass_SAT_f085.tbl \n",
      "   SAT_f095       SAT Chile             95.0   26.4   512   bandpass_SAT_f095.tbl \n",
      "   SAT_f145       SAT Chile            145.0   18.1   512   bandpass_SAT_f145.tbl \n",
      "   SAT_f155       SAT Chile            155.0   16.9   512   bandpass_SAT_f155.tbl \n",
      "   SAT_f220       SAT Chile            227.0   11.3   512   bandpass_SAT_f220.tbl \n",
      "   SAT_f280       SAT Chile            285.5   10.1   512   bandpass_SAT_f280.tbl \n"
     ]
    }
   ],
   "source": [
    "cat ../instrument_model/cmbs4_instrument_model.tbl"
   ]
  },
  {
   "cell_type": "code",
   "execution_count": null,
   "metadata": {},
   "outputs": [],
   "source": []
  }
 ],
 "metadata": {
  "kernelspec": {
   "display_name": "so",
   "language": "python",
   "name": "python3"
  },
  "language_info": {
   "codemirror_mode": {
    "name": "ipython",
    "version": 3
   },
   "file_extension": ".py",
   "mimetype": "text/x-python",
   "name": "python",
   "nbconvert_exporter": "python",
   "pygments_lexer": "ipython3",
   "version": "3.10.11"
  }
 },
 "nbformat": 4,
 "nbformat_minor": 4
}
