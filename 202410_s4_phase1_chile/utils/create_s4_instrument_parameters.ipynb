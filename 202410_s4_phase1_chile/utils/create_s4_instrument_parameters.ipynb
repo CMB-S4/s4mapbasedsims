{
 "cells": [
  {
   "cell_type": "code",
   "execution_count": null,
   "metadata": {},
   "outputs": [],
   "source": [
    "import s4sim.hardware\n",
    "c=s4sim.hardware.get_example()"
   ]
  },
  {
   "cell_type": "code",
   "execution_count": null,
   "metadata": {},
   "outputs": [],
   "source": [
    "import s4sim"
   ]
  },
  {
   "cell_type": "code",
   "execution_count": null,
   "metadata": {},
   "outputs": [],
   "source": [
    "git_hash = s4sim.__version__.split(\".\")[-1][1:]\n",
    "git_hash"
   ]
  },
  {
   "cell_type": "markdown",
   "metadata": {},
   "source": [
    "The git commit hash is the last section after the dot of this version id after removing the first character."
   ]
  },
  {
   "cell_type": "code",
   "execution_count": null,
   "metadata": {},
   "outputs": [],
   "source": [
    "c.data[\"telescopes\"][\"SAT1\"][\"fwhm\"]"
   ]
  },
  {
   "cell_type": "code",
   "execution_count": null,
   "metadata": {},
   "outputs": [],
   "source": [
    "c.data[\"telescopes\"].keys()"
   ]
  },
  {
   "cell_type": "code",
   "execution_count": null,
   "metadata": {},
   "outputs": [],
   "source": [
    "c.data[\"telescopes\"][\"SAT3\"][\"fwhm\"].keys()"
   ]
  },
  {
   "cell_type": "code",
   "execution_count": null,
   "metadata": {},
   "outputs": [],
   "source": [
    "c.data[\"telescopes\"][\"SAT3\"].keys()"
   ]
  },
  {
   "cell_type": "code",
   "execution_count": null,
   "metadata": {},
   "outputs": [],
   "source": [
    "c.data[\"bands\"].keys()"
   ]
  },
  {
   "cell_type": "code",
   "execution_count": null,
   "metadata": {},
   "outputs": [],
   "source": [
    "import numpy as np"
   ]
  },
  {
   "cell_type": "code",
   "execution_count": null,
   "metadata": {},
   "outputs": [],
   "source": [
    "from collections import OrderedDict\n",
    "from astropy import units as u\n",
    "from astropy.table import QTable"
   ]
  },
  {
   "cell_type": "code",
   "execution_count": null,
   "metadata": {},
   "outputs": [],
   "source": [
    "ipac_warning = [\"Text file in IPAC table format, read with astropy\",\n",
    "    \"from astropy.table import QTable\",\n",
    "    \"QTable.read('filename.tbl', format='ascii.ipac')\",\n",
    "    f\"Instrument model exported from `s4sim`, version {git_hash}\"]"
   ]
  },
  {
   "cell_type": "code",
   "execution_count": null,
   "metadata": {},
   "outputs": [],
   "source": [
    "c.data[\"telescopes\"][\"LAT0\"][\"fwhm\"]"
   ]
  },
  {
   "cell_type": "code",
   "execution_count": null,
   "metadata": {},
   "outputs": [],
   "source": [
    "s4 = []\n",
    "for i, (band, v) in enumerate(c.data[\"bands\"].items()):\n",
    "    print(\"## \" + band)\n",
    "    print(\"Bandpass [GHz] low,center,high: \", v[\"low\"], v[\"center\"], v[\"high\"])\n",
    "    tel = band.split(\"_\")[0][-3:]\n",
    "    assert tel in [\"SAT\", \"LAT\"]\n",
    "    fwhm = c.data[\"telescopes\"][tel + \"1\"][\"fwhm\"][band]\n",
    "    print(\"Beam [arcmin]: \", fwhm)\n",
    "    d = OrderedDict(band=band)\n",
    "    d[\"band\"] = band\n",
    "    d[\"telescope\"] = tel\n",
    "    if band.startswith(\"SP\"):\n",
    "        d[\"site\"] = \"Pole\"\n",
    "    elif band.startswith(\"CH\"):\n",
    "        d[\"site\"] = \"Chile\"\n",
    "    else:\n",
    "        d[\"site\"] = \"Both\"\n",
    "    d[\"center_frequency\"] = v[\"center\"] * u.GHz\n",
    "    d[\"fwhm\"] = fwhm * u.arcmin\n",
    "    # d[\"NET\"] = v[\"NET\"] * u.uK*u.s**.5\n",
    "    d[\"nside\"] = 4096 if tel ==\"LAT\" else 512\n",
    "    bandpass_table = QTable(dict(bandpass_frequency=np.linspace(v[\"low\"], v[\"high\"], 10) * u.GHz,\n",
    "    bandpass_weight=np.ones(10, dtype=np.float)))\n",
    "    bandpass_table.meta[\"comments\"] = ipac_warning\n",
    "    bandpass_table.write(f\"../instrument_model/bandpass_{band}.tbl\", format=\"ascii.ipac\", overwrite=True)\n",
    "    s4.append(d)"
   ]
  },
  {
   "cell_type": "markdown",
   "metadata": {},
   "source": [
    "## Add reference to bandpasses"
   ]
  },
  {
   "cell_type": "code",
   "execution_count": null,
   "metadata": {
    "tags": []
   },
   "outputs": [],
   "source": [
    "for ch in s4:\n",
    "    ch[\"bandpass_file\"] = f\"bandpass_{ch['band']}.tbl\""
   ]
  },
  {
   "cell_type": "code",
   "execution_count": null,
   "metadata": {},
   "outputs": [],
   "source": [
    "len(s4)"
   ]
  },
  {
   "cell_type": "code",
   "execution_count": null,
   "metadata": {},
   "outputs": [],
   "source": [
    "%ls ../instrument_model/band* | wc -l"
   ]
  },
  {
   "cell_type": "markdown",
   "metadata": {},
   "source": [
    "# Create the astropy Table"
   ]
  },
  {
   "cell_type": "code",
   "execution_count": null,
   "metadata": {},
   "outputs": [],
   "source": [
    "import astropy.units as u"
   ]
  },
  {
   "cell_type": "code",
   "execution_count": null,
   "metadata": {},
   "outputs": [],
   "source": [
    "from astropy.table import QTable, Table"
   ]
  },
  {
   "cell_type": "code",
   "execution_count": null,
   "metadata": {},
   "outputs": [],
   "source": [
    "t = QTable(rows=s4, masked=True, names=list(s4[1]))\n",
    "t.add_index(\"band\")"
   ]
  },
  {
   "cell_type": "code",
   "execution_count": null,
   "metadata": {},
   "outputs": [],
   "source": [
    "t.meta[\"comments\"] = ipac_warning"
   ]
  },
  {
   "cell_type": "code",
   "execution_count": null,
   "metadata": {},
   "outputs": [],
   "source": [
    "t.sort([\"telescope\", \"center_frequency\"])"
   ]
  },
  {
   "cell_type": "code",
   "execution_count": null,
   "metadata": {},
   "outputs": [],
   "source": [
    "t.write(\"../instrument_model/cmbs4_instrument_model.tbl\", format=\"ascii.ipac\", overwrite=True)"
   ]
  },
  {
   "cell_type": "code",
   "execution_count": null,
   "metadata": {},
   "outputs": [],
   "source": [
    "c = QTable.read(\"../instrument_model/cmbs4_instrument_model.tbl\", format=\"ascii.ipac\" )"
   ]
  },
  {
   "cell_type": "code",
   "execution_count": null,
   "metadata": {},
   "outputs": [],
   "source": [
    "c.add_index(\"band\")"
   ]
  },
  {
   "cell_type": "code",
   "execution_count": null,
   "metadata": {},
   "outputs": [],
   "source": [
    "c"
   ]
  },
  {
   "cell_type": "code",
   "execution_count": null,
   "metadata": {},
   "outputs": [],
   "source": [
    "cat ../instrument_model/cmbs4_instrument_model.tbl"
   ]
  },
  {
   "cell_type": "markdown",
   "metadata": {},
   "source": [
    "## Compare with the instrument model used to run the Chile LAT simulations\n",
    "\n",
    "Check that center frequencies and fwhm are the same"
   ]
  },
  {
   "cell_type": "code",
   "execution_count": null,
   "metadata": {},
   "outputs": [],
   "source": [
    "lat_instrument_model = QTable.read(\"../../202102_design_tool_run/instrument_model/cmbs4_instrument_model.tbl\", format=\"ascii.ipac\" )"
   ]
  },
  {
   "cell_type": "code",
   "execution_count": null,
   "metadata": {},
   "outputs": [],
   "source": [
    "lat_instrument_model.add_index(\"band\")"
   ]
  },
  {
   "cell_type": "code",
   "execution_count": null,
   "metadata": {},
   "outputs": [],
   "source": [
    "lat_instrument_model = lat_instrument_model[lat_instrument_model[\"telescope\"] == \"LAT\"]"
   ]
  },
  {
   "cell_type": "code",
   "execution_count": null,
   "metadata": {},
   "outputs": [],
   "source": [
    "chlat_instrument_model = lat_instrument_model[[\"P\" not in b for b in lat_instrument_model[\"band\"]]]"
   ]
  },
  {
   "cell_type": "code",
   "execution_count": null,
   "metadata": {},
   "outputs": [],
   "source": [
    "chlat_instrument_model"
   ]
  },
  {
   "cell_type": "code",
   "execution_count": null,
   "metadata": {},
   "outputs": [],
   "source": [
    "chlat_new_instrument_model = c[c[\"site\"] == \"Chile\"]"
   ]
  },
  {
   "cell_type": "code",
   "execution_count": null,
   "metadata": {},
   "outputs": [],
   "source": [
    "chlat_new_instrument_model"
   ]
  },
  {
   "cell_type": "code",
   "execution_count": null,
   "metadata": {},
   "outputs": [],
   "source": [
    "chlat_instrument_model[\"fwhm\"] == chlat_new_instrument_model[\"fwhm\"]"
   ]
  },
  {
   "cell_type": "code",
   "execution_count": null,
   "metadata": {},
   "outputs": [],
   "source": [
    "chlat_instrument_model[\"center_frequency\"] == chlat_new_instrument_model[\"center_frequency\"]"
   ]
  },
  {
   "cell_type": "code",
   "execution_count": null,
   "metadata": {},
   "outputs": [],
   "source": []
  }
 ],
 "metadata": {
  "kernelspec": {
   "display_name": "pycmb",
   "language": "python",
   "name": "pycmb"
  },
  "language_info": {
   "codemirror_mode": {
    "name": "ipython",
    "version": 3
   },
   "file_extension": ".py",
   "mimetype": "text/x-python",
   "name": "python",
   "nbconvert_exporter": "python",
   "pygments_lexer": "ipython3",
   "version": "3.10.0"
  }
 },
 "nbformat": 4,
 "nbformat_minor": 4
}
