{
 "cells": [
  {
   "cell_type": "code",
   "execution_count": null,
   "metadata": {},
   "outputs": [],
   "source": [
    "import healpy as hp\n",
    "import numpy as np\n",
    "import pickle\n",
    "import h5py\n",
    "import altair as alt\n",
    "import pandas as pd\n",
    "import warnings\n",
    "warnings.filterwarnings(\"ignore\")"
   ]
  },
  {
   "cell_type": "code",
   "execution_count": null,
   "metadata": {},
   "outputs": [],
   "source": [
    "cd .."
   ]
  },
  {
   "cell_type": "code",
   "execution_count": null,
   "metadata": {},
   "outputs": [],
   "source": [
    "from IPython.display import HTML\n",
    "\n",
    "HTML('''<script>\n",
    "code_show=true; \n",
    "function code_toggle() {\n",
    " if (code_show){\n",
    " $('div.input').hide();\n",
    " } else {\n",
    " $('div.input').show();\n",
    " }\n",
    " code_show = !code_show\n",
    "} \n",
    "$( document ).ready(code_toggle);\n",
    "</script>\n",
    "<form action=\"javascript:code_toggle()\"><input type=\"submit\" value=\"Click here to toggle on/off the raw code.\"></form>''')"
   ]
  },
  {
   "cell_type": "code",
   "execution_count": null,
   "metadata": {},
   "outputs": [],
   "source": [
    "nside=512"
   ]
  },
  {
   "cell_type": "code",
   "execution_count": null,
   "metadata": {},
   "outputs": [],
   "source": [
    "from astropy.table import QTable"
   ]
  },
  {
   "cell_type": "code",
   "execution_count": null,
   "metadata": {},
   "outputs": [],
   "source": [
    "s4 = QTable.read(\"../202102_design_tool_run/instrument_model/cmbs4_instrument_model.tbl\", format=\"ascii.ipac\")"
   ]
  },
  {
   "cell_type": "code",
   "execution_count": null,
   "metadata": {},
   "outputs": [],
   "source": [
    "s4 = s4[s4[\"telescope\"] == \"SAT\"]"
   ]
  },
  {
   "cell_type": "code",
   "execution_count": null,
   "metadata": {},
   "outputs": [],
   "source": [
    "s4.sort(\"center_frequency\")"
   ]
  },
  {
   "cell_type": "code",
   "execution_count": null,
   "metadata": {},
   "outputs": [],
   "source": [
    "s4"
   ]
  },
  {
   "cell_type": "code",
   "execution_count": null,
   "metadata": {},
   "outputs": [],
   "source": [
    "channels = list(s4[\"band\"])"
   ]
  },
  {
   "cell_type": "code",
   "execution_count": null,
   "metadata": {},
   "outputs": [],
   "source": [
    "channels"
   ]
  },
  {
   "cell_type": "code",
   "execution_count": null,
   "metadata": {},
   "outputs": [],
   "source": [
    "alt.data_transformers.enable(\"default\")"
   ]
  },
  {
   "cell_type": "code",
   "execution_count": null,
   "metadata": {},
   "outputs": [],
   "source": [
    "alt.data_transformers.disable_max_rows()"
   ]
  },
  {
   "cell_type": "code",
   "execution_count": null,
   "metadata": {},
   "outputs": [],
   "source": [
    "import pysm3 as pysm\n",
    "import so_pysm_models\n",
    "\n",
    "from pysm3 import units as u"
   ]
  },
  {
   "cell_type": "code",
   "execution_count": null,
   "metadata": {},
   "outputs": [],
   "source": [
    "import mapsims"
   ]
  },
  {
   "cell_type": "code",
   "execution_count": null,
   "metadata": {},
   "outputs": [],
   "source": [
    "selection = {}\n",
    "cl = {}\n",
    "i_pol = 2"
   ]
  },
  {
   "cell_type": "code",
   "execution_count": null,
   "metadata": {},
   "outputs": [],
   "source": [
    "from glob import glob"
   ]
  },
  {
   "cell_type": "code",
   "execution_count": null,
   "metadata": {},
   "outputs": [],
   "source": [
    "toml_files = glob(\"*512.toml\") + glob(\"cmb*.toml\") + [\"cib.toml\", \"ksz.toml\", \"tsz.toml\"]"
   ]
  },
  {
   "cell_type": "code",
   "execution_count": null,
   "metadata": {},
   "outputs": [],
   "source": [
    "toml_files "
   ]
  },
  {
   "cell_type": "code",
   "execution_count": null,
   "metadata": {},
   "outputs": [],
   "source": [
    "for config_file in toml_files: \n",
    "    mapsim = mapsims.from_config([\"common.toml\", config_file])\n",
    "    component = config_file.split(\".\")[0].replace(\"_512\", \"\")\n",
    "    print(component)\n",
    "    filename = f\"output/{nside}/C_ell_{component}.pkl\"\n",
    "    with open(filename, \"rb\") as f:\n",
    "        cl[component] = pickle.load(f)\n",
    "    if mapsim.pysm_components_string is not None:\n",
    "        component_objects = [so_pysm_models.get_so_models(mapsim.pysm_components_string, nside=nside)]\n",
    "    else:\n",
    "        component_objects = list(mapsim.pysm_custom_components.values())\n",
    "    sky = pysm.Sky(nside=nside,\n",
    "                   component_objects=component_objects,\n",
    "                   output_unit=u.uK_CMB\n",
    "                  )\n",
    "    onecl = pd.DataFrame(\n",
    "        {ch:cl[component][ch][i_pol] for ch in channels}\n",
    "    ).reset_index().rename(columns={\"index\":\"ell\"})\n",
    "    pysm_low = hp.anafast(\n",
    "        sky.get_emission(s4[\"center_frequency\"][0]),\n",
    "    lmax=onecl.ell.max())[i_pol]\n",
    "    onecl[\"PySM \" + channels[0]] = pysm_low\n",
    "\n",
    "    pysm_high = hp.anafast(\n",
    "            sky.get_emission(\n",
    "                s4[-1][\"center_frequency\"],\n",
    "            ),\n",
    "    lmax=onecl.ell.max())[i_pol]\n",
    "    onecl[\"PySM \" + channels[-1]] = pysm_high\n",
    "\n",
    "    onecl = onecl[onecl.ell != 0]\n",
    "\n",
    "    onecl_long = onecl.melt(\"ell\", var_name=\"channel\")\n",
    "    onecl_long[onecl_long.value == 0] = np.nan\n",
    "    selection[component] = alt.selection_multi(fields=['channel'], bind=\"legend\")\n",
    "\n",
    "    alt.Chart(onecl_long, title=component).mark_line().encode(\n",
    "        x=alt.X(\"ell\", scale=alt.Scale(type='log', base=10, domain=[1,1e4])),\n",
    "        y=alt.Y(\"value\", scale=alt.Scale(type='log', base=10)),\n",
    "        color=alt.Color('channel', \n",
    "            sort=[\"PySM \" + channels[0]] + list(channels) + [\"PySM \" + channels[-1]]\n",
    "                       ),\n",
    "        opacity=alt.condition(selection[component], alt.value(1), alt.value(0.2))\n",
    "    ).add_selection(selection[component]).interactive().display()"
   ]
  },
  {
   "cell_type": "code",
   "execution_count": null,
   "metadata": {},
   "outputs": [],
   "source": []
  }
 ],
 "metadata": {
  "jupytext": {
   "formats": "ipynb,py"
  },
  "kernelspec": {
   "display_name": "condajupynersc",
   "language": "python",
   "name": "condajupynersc"
  },
  "language_info": {
   "codemirror_mode": {
    "name": "ipython",
    "version": 3
   },
   "file_extension": ".py",
   "mimetype": "text/x-python",
   "name": "python",
   "nbconvert_exporter": "python",
   "pygments_lexer": "ipython3",
   "version": "3.7.0"
  }
 },
 "nbformat": 4,
 "nbformat_minor": 4
}
