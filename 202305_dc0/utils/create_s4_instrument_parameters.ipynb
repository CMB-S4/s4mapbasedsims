{
 "cells": [
  {
   "cell_type": "code",
   "execution_count": 1,
   "metadata": {},
   "outputs": [],
   "source": [
    "import s4sim.hardware\n",
    "c=s4sim.hardware.get_example()"
   ]
  },
  {
   "cell_type": "code",
   "execution_count": 2,
   "metadata": {},
   "outputs": [],
   "source": [
    "import s4sim"
   ]
  },
  {
   "cell_type": "code",
   "execution_count": 3,
   "metadata": {},
   "outputs": [
    {
     "data": {
      "text/plain": [
       "'e20d9ab'"
      ]
     },
     "execution_count": 3,
     "metadata": {},
     "output_type": "execute_result"
    }
   ],
   "source": [
    "git_hash = s4sim.__version__.split(\".\")[-1][1:]\n",
    "git_hash"
   ]
  },
  {
   "cell_type": "markdown",
   "metadata": {},
   "source": [
    "The git commit hash is the last section after the dot of this version id after removing the first character."
   ]
  },
  {
   "cell_type": "code",
   "execution_count": 4,
   "metadata": {},
   "outputs": [
    {
     "data": {
      "text/plain": [
       "OrderedDict([('SAT_f030', 85.2),\n",
       "             ('SAT_f040', 61.6),\n",
       "             ('SAT_f085', 24.6),\n",
       "             ('SAT_f145', 15.8),\n",
       "             ('SAT_f095', 22.4),\n",
       "             ('SAT_f155', 14.3),\n",
       "             ('SAT_f220', 9.4),\n",
       "             ('SAT_f280', 7.7)])"
      ]
     },
     "execution_count": 4,
     "metadata": {},
     "output_type": "execute_result"
    }
   ],
   "source": [
    "c.data[\"telescopes\"][\"SAT1\"][\"fwhm\"]"
   ]
  },
  {
   "cell_type": "code",
   "execution_count": 5,
   "metadata": {},
   "outputs": [
    {
     "data": {
      "text/plain": [
       "odict_keys(['LAT0', 'LAT1', 'LAT2', 'SAT1', 'SAT2', 'SAT3'])"
      ]
     },
     "execution_count": 5,
     "metadata": {},
     "output_type": "execute_result"
    }
   ],
   "source": [
    "c.data[\"telescopes\"].keys()"
   ]
  },
  {
   "cell_type": "code",
   "execution_count": 6,
   "metadata": {},
   "outputs": [
    {
     "data": {
      "text/plain": [
       "odict_keys(['SAT_f030', 'SAT_f040', 'SAT_f085', 'SAT_f145', 'SAT_f095', 'SAT_f155', 'SAT_f220', 'SAT_f280'])"
      ]
     },
     "execution_count": 6,
     "metadata": {},
     "output_type": "execute_result"
    }
   ],
   "source": [
    "c.data[\"telescopes\"][\"SAT3\"][\"fwhm\"].keys()"
   ]
  },
  {
   "cell_type": "code",
   "execution_count": 7,
   "metadata": {},
   "outputs": [
    {
     "data": {
      "text/plain": [
       "odict_keys(['tubes', 'platescale', 'tubespace', 'fwhm'])"
      ]
     },
     "execution_count": 7,
     "metadata": {},
     "output_type": "execute_result"
    }
   ],
   "source": [
    "c.data[\"telescopes\"][\"SAT3\"].keys()"
   ]
  },
  {
   "cell_type": "code",
   "execution_count": 8,
   "metadata": {},
   "outputs": [
    {
     "data": {
      "text/plain": [
       "odict_keys(['SPLAT_f020', 'CHLAT_f030', 'CHLAT_f040', 'SPLAT_f030', 'SPLAT_f040', 'SAT_f030', 'SAT_f040', 'CHLAT_f090', 'CHLAT_f150', 'SPLAT_f090', 'SPLAT_f150', 'SAT_f085', 'SAT_f145', 'SAT_f095', 'SAT_f155', 'CHLAT_f220', 'CHLAT_f280', 'SPLAT_f220', 'SPLAT_f280', 'SAT_f220', 'SAT_f280'])"
      ]
     },
     "execution_count": 8,
     "metadata": {},
     "output_type": "execute_result"
    }
   ],
   "source": [
    "c.data[\"bands\"].keys()"
   ]
  },
  {
   "cell_type": "code",
   "execution_count": 9,
   "metadata": {},
   "outputs": [],
   "source": [
    "import numpy as np"
   ]
  },
  {
   "cell_type": "code",
   "execution_count": 10,
   "metadata": {},
   "outputs": [],
   "source": [
    "from collections import OrderedDict\n",
    "from astropy import units as u\n",
    "from astropy.table import QTable"
   ]
  },
  {
   "cell_type": "code",
   "execution_count": 11,
   "metadata": {},
   "outputs": [],
   "source": [
    "ipac_warning = [\"Text file in IPAC table format, read with astropy\",\n",
    "    \"from astropy.table import QTable\",\n",
    "    \"QTable.read('filename.tbl', format='ascii.ipac')\",\n",
    "    f\"Instrument model exported from `s4sim`, version {git_hash}\"]"
   ]
  },
  {
   "cell_type": "code",
   "execution_count": 12,
   "metadata": {},
   "outputs": [
    {
     "data": {
      "text/plain": [
       "OrderedDict([('SPLAT_f020', 11.2),\n",
       "             ('CHLAT_f030', 7.8),\n",
       "             ('SPLAT_f030', 9.1),\n",
       "             ('CHLAT_f040', 5.3),\n",
       "             ('SPLAT_f040', 6.2),\n",
       "             ('CHLAT_f090', 2.1),\n",
       "             ('SPLAT_f090', 2.5),\n",
       "             ('CHLAT_f150', 1.3),\n",
       "             ('SPLAT_f150', 1.5),\n",
       "             ('CHLAT_f220', 0.95),\n",
       "             ('SPLAT_f220', 1.1),\n",
       "             ('CHLAT_f280', 0.83),\n",
       "             ('SPLAT_f280', 1.0)])"
      ]
     },
     "execution_count": 12,
     "metadata": {},
     "output_type": "execute_result"
    }
   ],
   "source": [
    "c.data[\"telescopes\"][\"LAT0\"][\"fwhm\"]"
   ]
  },
  {
   "cell_type": "code",
   "execution_count": 13,
   "metadata": {},
   "outputs": [
    {
     "name": "stdout",
     "output_type": "stream",
     "text": [
      "## SPLAT_f020\n",
      "Bandpass [GHz] low,center,high:  17.5 20.0 22.5\n",
      "Beam [arcmin]:  11.2\n"
     ]
    },
    {
     "name": "stderr",
     "output_type": "stream",
     "text": [
      "/tmp/ipykernel_185846/3923528699.py:23: DeprecationWarning: `np.float` is a deprecated alias for the builtin `float`. To silence this warning, use `float` by itself. Doing this will not modify any behavior and is safe. If you specifically wanted the numpy scalar type, use `np.float64` here.\n",
      "Deprecated in NumPy 1.20; for more details and guidance: https://numpy.org/devdocs/release/1.20.0-notes.html#deprecations\n",
      "  bandpass_weight=np.ones(10, dtype=np.float)))\n"
     ]
    },
    {
     "name": "stdout",
     "output_type": "stream",
     "text": [
      "## CHLAT_f030\n",
      "Bandpass [GHz] low,center,high:  21.5 24.75 28.0\n",
      "Beam [arcmin]:  7.8\n",
      "## CHLAT_f040\n",
      "Bandpass [GHz] low,center,high:  28.0 36.5 45.0\n",
      "Beam [arcmin]:  5.3\n",
      "## SPLAT_f030\n",
      "Bandpass [GHz] low,center,high:  21.5 24.75 28.0\n",
      "Beam [arcmin]:  9.1\n",
      "## SPLAT_f040\n",
      "Bandpass [GHz] low,center,high:  28.0 36.5 45.0\n",
      "Beam [arcmin]:  6.2\n",
      "## SAT_f030\n",
      "Bandpass [GHz] low,center,high:  21.5 24.75 28.0\n",
      "Beam [arcmin]:  85.2\n",
      "## SAT_f040\n",
      "Bandpass [GHz] low,center,high:  28.0 36.5 45.0\n",
      "Beam [arcmin]:  61.6\n",
      "## CHLAT_f090\n",
      "Bandpass [GHz] low,center,high:  77.0 91.5 106.0\n",
      "Beam [arcmin]:  2.1\n",
      "## CHLAT_f150\n",
      "Bandpass [GHz] low,center,high:  128.0 148.5 169.0\n",
      "Beam [arcmin]:  1.3\n",
      "## SPLAT_f090\n",
      "Bandpass [GHz] low,center,high:  77.0 91.5 106.0\n",
      "Beam [arcmin]:  2.5\n",
      "## SPLAT_f150\n",
      "Bandpass [GHz] low,center,high:  128.0 148.5 169.0\n",
      "Beam [arcmin]:  1.5\n",
      "## SAT_f085\n",
      "Bandpass [GHz] low,center,high:  74.8 85.0 95.2\n",
      "Beam [arcmin]:  24.6\n",
      "## SAT_f145\n",
      "Bandpass [GHz] low,center,high:  129.1 145.0 161.0\n",
      "Beam [arcmin]:  15.8\n",
      "## SAT_f095\n",
      "Bandpass [GHz] low,center,high:  83.6 95.0 106.4\n",
      "Beam [arcmin]:  22.4\n",
      "## SAT_f155\n",
      "Bandpass [GHz] low,center,high:  138.0 155.0 172.1\n",
      "Beam [arcmin]:  14.3\n",
      "## CHLAT_f220\n",
      "Bandpass [GHz] low,center,high:  198.0 227.0 256.0\n",
      "Beam [arcmin]:  0.95\n",
      "## CHLAT_f280\n",
      "Bandpass [GHz] low,center,high:  256.0 285.5 315.0\n",
      "Beam [arcmin]:  0.83\n",
      "## SPLAT_f220\n",
      "Bandpass [GHz] low,center,high:  198.0 227.0 256.0\n",
      "Beam [arcmin]:  1.1\n",
      "## SPLAT_f280\n",
      "Bandpass [GHz] low,center,high:  256.0 285.5 315.0\n",
      "Beam [arcmin]:  1.0\n",
      "## SAT_f220\n",
      "Bandpass [GHz] low,center,high:  198.0 227.0 256.0\n",
      "Beam [arcmin]:  9.4\n",
      "## SAT_f280\n",
      "Bandpass [GHz] low,center,high:  256.0 285.5 315.0\n",
      "Beam [arcmin]:  7.7\n"
     ]
    },
    {
     "name": "stderr",
     "output_type": "stream",
     "text": [
      "/tmp/ipykernel_64022/3923528699.py:23: DeprecationWarning: `np.float` is a deprecated alias for the builtin `float`. To silence this warning, use `float` by itself. Doing this will not modify any behavior and is safe. If you specifically wanted the numpy scalar type, use `np.float64` here.\n",
      "Deprecated in NumPy 1.20; for more details and guidance: https://numpy.org/devdocs/release/1.20.0-notes.html#deprecations\n",
      "  bandpass_weight=np.ones(10, dtype=np.float)))\n"
     ]
    }
   ],
   "source": [
    "s4 = []\n",
    "for i, (band, v) in enumerate(c.data[\"bands\"].items()):\n",
    "    print(\"## \" + band)\n",
    "    print(\"Bandpass [GHz] low,center,high: \", v[\"low\"], v[\"center\"], v[\"high\"])\n",
    "    tel = band.split(\"_\")[0][-3:]\n",
    "    assert tel in [\"SAT\", \"LAT\"]\n",
    "    fwhm = c.data[\"telescopes\"][tel + \"1\"][\"fwhm\"][band]\n",
    "    print(\"Beam [arcmin]: \", fwhm)\n",
    "    d = OrderedDict(band=band)\n",
    "    d[\"band\"] = band\n",
    "    d[\"telescope\"] = tel\n",
    "    if band.startswith(\"SP\"):\n",
    "        d[\"site\"] = \"Pole\"\n",
    "    elif band.startswith(\"CH\"):\n",
    "        d[\"site\"] = \"Chile\"\n",
    "    else:\n",
    "        d[\"site\"] = \"Both\"\n",
    "    d[\"center_frequency\"] = v[\"center\"] * u.GHz\n",
    "    d[\"fwhm\"] = fwhm * u.arcmin\n",
    "    # d[\"NET\"] = v[\"NET\"] * u.uK*u.s**.5\n",
    "    d[\"nside\"] = 4096 if tel ==\"LAT\" else 512\n",
    "    bandpass_table = QTable(dict(bandpass_frequency=np.linspace(v[\"low\"], v[\"high\"], 10) * u.GHz,\n",
    "    bandpass_weight=np.ones(10, dtype=np.float)))\n",
    "    bandpass_table.meta[\"comments\"] = ipac_warning\n",
    "    bandpass_table.write(f\"../instrument_model/bandpass_{band}.tbl\", format=\"ascii.ipac\", overwrite=True)\n",
    "    s4.append(d)"
   ]
  },
  {
   "cell_type": "markdown",
   "metadata": {},
   "source": [
    "## Add reference to bandpasses"
   ]
  },
  {
   "cell_type": "code",
   "execution_count": 14,
   "metadata": {
    "tags": []
   },
   "outputs": [],
   "source": [
    "for ch in s4:\n",
    "    ch[\"bandpass_file\"] = f\"bandpass_{ch['band']}.tbl\""
   ]
  },
  {
   "cell_type": "code",
   "execution_count": 15,
   "metadata": {},
   "outputs": [
    {
     "data": {
      "text/plain": [
       "21"
      ]
     },
     "execution_count": 15,
     "metadata": {},
     "output_type": "execute_result"
    }
   ],
   "source": [
    "len(s4)"
   ]
  },
  {
   "cell_type": "code",
   "execution_count": 16,
   "metadata": {},
   "outputs": [
    {
     "name": "stdout",
     "output_type": "stream",
     "text": [
      "21\n"
     ]
    }
   ],
   "source": [
    "%ls ../instrument_model/band* | wc -l"
   ]
  },
  {
   "cell_type": "markdown",
   "metadata": {},
   "source": [
    "# Create the astropy Table"
   ]
  },
  {
   "cell_type": "code",
   "execution_count": 17,
   "metadata": {},
   "outputs": [],
   "source": [
    "import astropy.units as u"
   ]
  },
  {
   "cell_type": "code",
   "execution_count": 18,
   "metadata": {},
   "outputs": [],
   "source": [
    "from astropy.table import QTable, Table"
   ]
  },
  {
   "cell_type": "code",
   "execution_count": 19,
   "metadata": {},
   "outputs": [],
   "source": [
    "t = QTable(rows=s4, masked=True, names=list(s4[1]))\n",
    "t.add_index(\"band\")"
   ]
  },
  {
   "cell_type": "code",
   "execution_count": 20,
   "metadata": {},
   "outputs": [],
   "source": [
    "t.meta[\"comments\"] = ipac_warning"
   ]
  },
  {
   "cell_type": "code",
   "execution_count": 21,
   "metadata": {},
   "outputs": [],
   "source": [
    "t.sort([\"telescope\", \"center_frequency\"])"
   ]
  },
  {
   "cell_type": "code",
   "execution_count": 22,
   "metadata": {},
   "outputs": [],
   "source": [
    "t.write(\"../instrument_model/cmbs4_instrument_model.tbl\", format=\"ascii.ipac\", overwrite=True)"
   ]
  },
  {
   "cell_type": "code",
   "execution_count": 23,
   "metadata": {},
   "outputs": [],
   "source": [
    "c = QTable.read(\"../instrument_model/cmbs4_instrument_model.tbl\", format=\"ascii.ipac\" )"
   ]
  },
  {
   "cell_type": "code",
   "execution_count": 24,
   "metadata": {},
   "outputs": [],
   "source": [
    "c.add_index(\"band\")"
   ]
  },
  {
   "cell_type": "code",
   "execution_count": 25,
   "metadata": {},
   "outputs": [
    {
     "data": {
      "text/html": [
       "<div><i>QTable length=21</i>\n",
       "<table id=\"table23455548014992\" class=\"table-striped table-bordered table-condensed\">\n",
       "<thead><tr><th>band</th><th>telescope</th><th>site</th><th>center_frequency</th><th>fwhm</th><th>nside</th><th>bandpass_file</th></tr></thead>\n",
       "<thead><tr><th></th><th></th><th></th><th>GHz</th><th>arcmin</th><th></th><th></th></tr></thead>\n",
       "<thead><tr><th>str10</th><th>str3</th><th>str5</th><th>float64</th><th>float64</th><th>int64</th><th>str23</th></tr></thead>\n",
       "<tr><td>SPLAT_f020</td><td>LAT</td><td>Pole</td><td>20.0</td><td>11.2</td><td>4096</td><td>bandpass_SPLAT_f020.tbl</td></tr>\n",
       "<tr><td>CHLAT_f030</td><td>LAT</td><td>Chile</td><td>24.75</td><td>7.8</td><td>4096</td><td>bandpass_CHLAT_f030.tbl</td></tr>\n",
       "<tr><td>SPLAT_f030</td><td>LAT</td><td>Pole</td><td>24.75</td><td>9.1</td><td>4096</td><td>bandpass_SPLAT_f030.tbl</td></tr>\n",
       "<tr><td>CHLAT_f040</td><td>LAT</td><td>Chile</td><td>36.5</td><td>5.3</td><td>4096</td><td>bandpass_CHLAT_f040.tbl</td></tr>\n",
       "<tr><td>SPLAT_f040</td><td>LAT</td><td>Pole</td><td>36.5</td><td>6.2</td><td>4096</td><td>bandpass_SPLAT_f040.tbl</td></tr>\n",
       "<tr><td>SPLAT_f090</td><td>LAT</td><td>Pole</td><td>91.5</td><td>2.5</td><td>4096</td><td>bandpass_SPLAT_f090.tbl</td></tr>\n",
       "<tr><td>CHLAT_f090</td><td>LAT</td><td>Chile</td><td>91.5</td><td>2.1</td><td>4096</td><td>bandpass_CHLAT_f090.tbl</td></tr>\n",
       "<tr><td>CHLAT_f150</td><td>LAT</td><td>Chile</td><td>148.5</td><td>1.3</td><td>4096</td><td>bandpass_CHLAT_f150.tbl</td></tr>\n",
       "<tr><td>SPLAT_f150</td><td>LAT</td><td>Pole</td><td>148.5</td><td>1.5</td><td>4096</td><td>bandpass_SPLAT_f150.tbl</td></tr>\n",
       "<tr><td>CHLAT_f220</td><td>LAT</td><td>Chile</td><td>227.0</td><td>0.95</td><td>4096</td><td>bandpass_CHLAT_f220.tbl</td></tr>\n",
       "<tr><td>SPLAT_f220</td><td>LAT</td><td>Pole</td><td>227.0</td><td>1.1</td><td>4096</td><td>bandpass_SPLAT_f220.tbl</td></tr>\n",
       "<tr><td>CHLAT_f280</td><td>LAT</td><td>Chile</td><td>285.5</td><td>0.83</td><td>4096</td><td>bandpass_CHLAT_f280.tbl</td></tr>\n",
       "<tr><td>SPLAT_f280</td><td>LAT</td><td>Pole</td><td>285.5</td><td>1.0</td><td>4096</td><td>bandpass_SPLAT_f280.tbl</td></tr>\n",
       "<tr><td>SAT_f030</td><td>SAT</td><td>Both</td><td>24.75</td><td>85.2</td><td>512</td><td>bandpass_SAT_f030.tbl</td></tr>\n",
       "<tr><td>SAT_f040</td><td>SAT</td><td>Both</td><td>36.5</td><td>61.6</td><td>512</td><td>bandpass_SAT_f040.tbl</td></tr>\n",
       "<tr><td>SAT_f085</td><td>SAT</td><td>Both</td><td>85.0</td><td>24.6</td><td>512</td><td>bandpass_SAT_f085.tbl</td></tr>\n",
       "<tr><td>SAT_f095</td><td>SAT</td><td>Both</td><td>95.0</td><td>22.4</td><td>512</td><td>bandpass_SAT_f095.tbl</td></tr>\n",
       "<tr><td>SAT_f145</td><td>SAT</td><td>Both</td><td>145.0</td><td>15.8</td><td>512</td><td>bandpass_SAT_f145.tbl</td></tr>\n",
       "<tr><td>SAT_f155</td><td>SAT</td><td>Both</td><td>155.0</td><td>14.3</td><td>512</td><td>bandpass_SAT_f155.tbl</td></tr>\n",
       "<tr><td>SAT_f220</td><td>SAT</td><td>Both</td><td>227.0</td><td>9.4</td><td>512</td><td>bandpass_SAT_f220.tbl</td></tr>\n",
       "<tr><td>SAT_f280</td><td>SAT</td><td>Both</td><td>285.5</td><td>7.7</td><td>512</td><td>bandpass_SAT_f280.tbl</td></tr>\n",
       "</table></div>"
      ],
      "text/plain": [
       "<QTable length=21>\n",
       "   band    telescope  site ...   fwhm  nside      bandpass_file     \n",
       "                           ...  arcmin                              \n",
       "  str10       str3    str5 ... float64 int64          str23         \n",
       "---------- --------- ----- ... ------- ----- -----------------------\n",
       "SPLAT_f020       LAT  Pole ...    11.2  4096 bandpass_SPLAT_f020.tbl\n",
       "CHLAT_f030       LAT Chile ...     7.8  4096 bandpass_CHLAT_f030.tbl\n",
       "SPLAT_f030       LAT  Pole ...     9.1  4096 bandpass_SPLAT_f030.tbl\n",
       "CHLAT_f040       LAT Chile ...     5.3  4096 bandpass_CHLAT_f040.tbl\n",
       "SPLAT_f040       LAT  Pole ...     6.2  4096 bandpass_SPLAT_f040.tbl\n",
       "SPLAT_f090       LAT  Pole ...     2.5  4096 bandpass_SPLAT_f090.tbl\n",
       "CHLAT_f090       LAT Chile ...     2.1  4096 bandpass_CHLAT_f090.tbl\n",
       "CHLAT_f150       LAT Chile ...     1.3  4096 bandpass_CHLAT_f150.tbl\n",
       "SPLAT_f150       LAT  Pole ...     1.5  4096 bandpass_SPLAT_f150.tbl\n",
       "CHLAT_f220       LAT Chile ...    0.95  4096 bandpass_CHLAT_f220.tbl\n",
       "SPLAT_f220       LAT  Pole ...     1.1  4096 bandpass_SPLAT_f220.tbl\n",
       "CHLAT_f280       LAT Chile ...    0.83  4096 bandpass_CHLAT_f280.tbl\n",
       "SPLAT_f280       LAT  Pole ...     1.0  4096 bandpass_SPLAT_f280.tbl\n",
       "  SAT_f030       SAT  Both ...    85.2   512   bandpass_SAT_f030.tbl\n",
       "  SAT_f040       SAT  Both ...    61.6   512   bandpass_SAT_f040.tbl\n",
       "  SAT_f085       SAT  Both ...    24.6   512   bandpass_SAT_f085.tbl\n",
       "  SAT_f095       SAT  Both ...    22.4   512   bandpass_SAT_f095.tbl\n",
       "  SAT_f145       SAT  Both ...    15.8   512   bandpass_SAT_f145.tbl\n",
       "  SAT_f155       SAT  Both ...    14.3   512   bandpass_SAT_f155.tbl\n",
       "  SAT_f220       SAT  Both ...     9.4   512   bandpass_SAT_f220.tbl\n",
       "  SAT_f280       SAT  Both ...     7.7   512   bandpass_SAT_f280.tbl"
      ]
     },
     "execution_count": 25,
     "metadata": {},
     "output_type": "execute_result"
    }
   ],
   "source": [
    "c"
   ]
  },
  {
   "cell_type": "code",
   "execution_count": 26,
   "metadata": {},
   "outputs": [
    {
     "name": "stdout",
     "output_type": "stream",
     "text": [
      "\\ Text file in IPAC table format, read with astropy\n",
      "\\ from astropy.table import QTable\n",
      "\\ QTable.read('filename.tbl', format='ascii.ipac')\n",
      "\\ Instrument model exported from `s4sim`, version e20d9ab\n",
      "|      band|telescope| site|center_frequency|  fwhm|nside|          bandpass_file|\n",
      "|      char|     char| char|          double|double| long|                   char|\n",
      "|          |         |     |             GHz|arcmin|     |                       |\n",
      "|      null|     null| null|            null|  null| null|                   null|\n",
      " SPLAT_f020       LAT  Pole             20.0   11.2  4096 bandpass_SPLAT_f020.tbl \n",
      " CHLAT_f030       LAT Chile            24.75    7.8  4096 bandpass_CHLAT_f030.tbl \n",
      " SPLAT_f030       LAT  Pole            24.75    9.1  4096 bandpass_SPLAT_f030.tbl \n",
      " CHLAT_f040       LAT Chile             36.5    5.3  4096 bandpass_CHLAT_f040.tbl \n",
      " SPLAT_f040       LAT  Pole             36.5    6.2  4096 bandpass_SPLAT_f040.tbl \n",
      " SPLAT_f090       LAT  Pole             91.5    2.5  4096 bandpass_SPLAT_f090.tbl \n",
      " CHLAT_f090       LAT Chile             91.5    2.1  4096 bandpass_CHLAT_f090.tbl \n",
      " CHLAT_f150       LAT Chile            148.5    1.3  4096 bandpass_CHLAT_f150.tbl \n",
      " SPLAT_f150       LAT  Pole            148.5    1.5  4096 bandpass_SPLAT_f150.tbl \n",
      " CHLAT_f220       LAT Chile            227.0   0.95  4096 bandpass_CHLAT_f220.tbl \n",
      " SPLAT_f220       LAT  Pole            227.0    1.1  4096 bandpass_SPLAT_f220.tbl \n",
      " CHLAT_f280       LAT Chile            285.5   0.83  4096 bandpass_CHLAT_f280.tbl \n",
      " SPLAT_f280       LAT  Pole            285.5    1.0  4096 bandpass_SPLAT_f280.tbl \n",
      "   SAT_f030       SAT  Both            24.75   85.2   512   bandpass_SAT_f030.tbl \n",
      "   SAT_f040       SAT  Both             36.5   61.6   512   bandpass_SAT_f040.tbl \n",
      "   SAT_f085       SAT  Both             85.0   24.6   512   bandpass_SAT_f085.tbl \n",
      "   SAT_f095       SAT  Both             95.0   22.4   512   bandpass_SAT_f095.tbl \n",
      "   SAT_f145       SAT  Both            145.0   15.8   512   bandpass_SAT_f145.tbl \n",
      "   SAT_f155       SAT  Both            155.0   14.3   512   bandpass_SAT_f155.tbl \n",
      "   SAT_f220       SAT  Both            227.0    9.4   512   bandpass_SAT_f220.tbl \n",
      "   SAT_f280       SAT  Both            285.5    7.7   512   bandpass_SAT_f280.tbl \n"
     ]
    }
   ],
   "source": [
    "cat ../instrument_model/cmbs4_instrument_model.tbl"
   ]
  },
  {
   "cell_type": "markdown",
   "metadata": {},
   "source": [
    "## Compare with the instrument model used to run the Chile LAT simulations\n",
    "\n",
    "Check that center frequencies and fwhm are the same"
   ]
  },
  {
   "cell_type": "code",
   "execution_count": 27,
   "metadata": {},
   "outputs": [],
   "source": [
    "lat_instrument_model = QTable.read(\"../../202102_design_tool_run/instrument_model/cmbs4_instrument_model.tbl\", format=\"ascii.ipac\" )"
   ]
  },
  {
   "cell_type": "code",
   "execution_count": 28,
   "metadata": {},
   "outputs": [],
   "source": [
    "lat_instrument_model.add_index(\"band\")"
   ]
  },
  {
   "cell_type": "code",
   "execution_count": 29,
   "metadata": {},
   "outputs": [],
   "source": [
    "lat_instrument_model = lat_instrument_model[lat_instrument_model[\"telescope\"] == \"LAT\"]"
   ]
  },
  {
   "cell_type": "code",
   "execution_count": 30,
   "metadata": {},
   "outputs": [],
   "source": [
    "chlat_instrument_model = lat_instrument_model[[\"P\" not in b for b in lat_instrument_model[\"band\"]]]"
   ]
  },
  {
   "cell_type": "code",
   "execution_count": 31,
   "metadata": {},
   "outputs": [
    {
     "data": {
      "text/html": [
       "<div><i>QTable length=6</i>\n",
       "<table id=\"table23455548017872\" class=\"table-striped table-bordered table-condensed\">\n",
       "<thead><tr><th>band</th><th>telescope</th><th>center_frequency</th><th>fwhm</th><th>detectors_per_tube</th><th>NET</th><th>chile_temp_sensitivity_DSR</th><th>chile_pol_sensitivity_DSR</th><th>chile_temp_sensitivity_PDB</th><th>chile_pol_sensitivity_PDB</th><th>pole_pol_sensitivity_DSR</th><th>pole_pol_sensitivity_PDB</th></tr></thead>\n",
       "<thead><tr><th></th><th></th><th>GHz</th><th>arcmin</th><th></th><th>s(1/2) uK</th><th>arcmin uK</th><th>arcmin uK</th><th>arcmin uK</th><th>arcmin uK</th><th>arcmin uK</th><th>arcmin uK</th></tr></thead>\n",
       "<thead><tr><th>str6</th><th>str3</th><th>float64</th><th>float64</th><th>int64</th><th>float64</th><th>float64</th><th>float64</th><th>float64</th><th>float64</th><th>float64</th><th>float64</th></tr></thead>\n",
       "<tr><td>LFL1</td><td>LAT</td><td>25.75</td><td>7.4</td><td>96</td><td>275.0</td><td>21.8</td><td>30.8</td><td>21.34</td><td>30.23</td><td>5.0</td><td>6.5</td></tr>\n",
       "<tr><td>LFL2</td><td>LAT</td><td>38.75</td><td>5.1</td><td>96</td><td>215.0</td><td>12.4</td><td>17.6</td><td>11.67</td><td>16.53</td><td>4.5</td><td>4.15</td></tr>\n",
       "<tr><td>MFL1</td><td>LAT</td><td>91.5</td><td>2.2</td><td>864</td><td>251.0</td><td>2.0</td><td>2.9</td><td>1.89</td><td>2.68</td><td>0.68</td><td>0.63</td></tr>\n",
       "<tr><td>MFL2</td><td>LAT</td><td>148.5</td><td>1.4</td><td>864</td><td>280.0</td><td>2.0</td><td>2.8</td><td>2.09</td><td>2.96</td><td>0.96</td><td>0.59</td></tr>\n",
       "<tr><td>HFL1</td><td>LAT</td><td>227.0</td><td>1.0</td><td>864</td><td>625.0</td><td>6.9</td><td>9.8</td><td>6.9</td><td>9.78</td><td>5.7</td><td>1.83</td></tr>\n",
       "<tr><td>HFL2</td><td>LAT</td><td>285.5</td><td>0.9</td><td>864</td><td>1528.0</td><td>16.7</td><td>23.6</td><td>16.88</td><td>23.93</td><td>9.8</td><td>4.34</td></tr>\n",
       "</table></div>"
      ],
      "text/plain": [
       "<QTable length=6>\n",
       "band telescope ... pole_pol_sensitivity_DSR pole_pol_sensitivity_PDB\n",
       "               ...        arcmin uK                arcmin uK        \n",
       "str6    str3   ...         float64                  float64         \n",
       "---- --------- ... ------------------------ ------------------------\n",
       "LFL1       LAT ...                      5.0                      6.5\n",
       "LFL2       LAT ...                      4.5                     4.15\n",
       "MFL1       LAT ...                     0.68                     0.63\n",
       "MFL2       LAT ...                     0.96                     0.59\n",
       "HFL1       LAT ...                      5.7                     1.83\n",
       "HFL2       LAT ...                      9.8                     4.34"
      ]
     },
     "execution_count": 31,
     "metadata": {},
     "output_type": "execute_result"
    }
   ],
   "source": [
    "chlat_instrument_model"
   ]
  },
  {
   "cell_type": "code",
   "execution_count": 32,
   "metadata": {},
   "outputs": [],
   "source": [
    "chlat_new_instrument_model = c[c[\"site\"] == \"Chile\"]"
   ]
  },
  {
   "cell_type": "code",
   "execution_count": 33,
   "metadata": {},
   "outputs": [
    {
     "data": {
      "text/html": [
       "<div><i>QTable length=6</i>\n",
       "<table id=\"table23455548030064\" class=\"table-striped table-bordered table-condensed\">\n",
       "<thead><tr><th>band</th><th>telescope</th><th>site</th><th>center_frequency</th><th>fwhm</th><th>nside</th><th>bandpass_file</th></tr></thead>\n",
       "<thead><tr><th></th><th></th><th></th><th>GHz</th><th>arcmin</th><th></th><th></th></tr></thead>\n",
       "<thead><tr><th>str10</th><th>str3</th><th>str5</th><th>float64</th><th>float64</th><th>int64</th><th>str23</th></tr></thead>\n",
       "<tr><td>CHLAT_f030</td><td>LAT</td><td>Chile</td><td>24.75</td><td>7.8</td><td>4096</td><td>bandpass_CHLAT_f030.tbl</td></tr>\n",
       "<tr><td>CHLAT_f040</td><td>LAT</td><td>Chile</td><td>36.5</td><td>5.3</td><td>4096</td><td>bandpass_CHLAT_f040.tbl</td></tr>\n",
       "<tr><td>CHLAT_f090</td><td>LAT</td><td>Chile</td><td>91.5</td><td>2.1</td><td>4096</td><td>bandpass_CHLAT_f090.tbl</td></tr>\n",
       "<tr><td>CHLAT_f150</td><td>LAT</td><td>Chile</td><td>148.5</td><td>1.3</td><td>4096</td><td>bandpass_CHLAT_f150.tbl</td></tr>\n",
       "<tr><td>CHLAT_f220</td><td>LAT</td><td>Chile</td><td>227.0</td><td>0.95</td><td>4096</td><td>bandpass_CHLAT_f220.tbl</td></tr>\n",
       "<tr><td>CHLAT_f280</td><td>LAT</td><td>Chile</td><td>285.5</td><td>0.83</td><td>4096</td><td>bandpass_CHLAT_f280.tbl</td></tr>\n",
       "</table></div>"
      ],
      "text/plain": [
       "<QTable length=6>\n",
       "   band    telescope  site ...   fwhm  nside      bandpass_file     \n",
       "                           ...  arcmin                              \n",
       "  str10       str3    str5 ... float64 int64          str23         \n",
       "---------- --------- ----- ... ------- ----- -----------------------\n",
       "CHLAT_f030       LAT Chile ...     7.8  4096 bandpass_CHLAT_f030.tbl\n",
       "CHLAT_f040       LAT Chile ...     5.3  4096 bandpass_CHLAT_f040.tbl\n",
       "CHLAT_f090       LAT Chile ...     2.1  4096 bandpass_CHLAT_f090.tbl\n",
       "CHLAT_f150       LAT Chile ...     1.3  4096 bandpass_CHLAT_f150.tbl\n",
       "CHLAT_f220       LAT Chile ...    0.95  4096 bandpass_CHLAT_f220.tbl\n",
       "CHLAT_f280       LAT Chile ...    0.83  4096 bandpass_CHLAT_f280.tbl"
      ]
     },
     "execution_count": 33,
     "metadata": {},
     "output_type": "execute_result"
    }
   ],
   "source": [
    "chlat_new_instrument_model"
   ]
  },
  {
   "cell_type": "code",
   "execution_count": 34,
   "metadata": {},
   "outputs": [
    {
     "data": {
      "text/plain": [
       "array([False, False, False, False, False, False])"
      ]
     },
     "execution_count": 34,
     "metadata": {},
     "output_type": "execute_result"
    }
   ],
   "source": [
    "chlat_instrument_model[\"fwhm\"] == chlat_new_instrument_model[\"fwhm\"]"
   ]
  },
  {
   "cell_type": "code",
   "execution_count": 35,
   "metadata": {},
   "outputs": [
    {
     "data": {
      "text/plain": [
       "array([False, False,  True,  True,  True,  True])"
      ]
     },
     "execution_count": 35,
     "metadata": {},
     "output_type": "execute_result"
    }
   ],
   "source": [
    "chlat_instrument_model[\"center_frequency\"] == chlat_new_instrument_model[\"center_frequency\"]"
   ]
  },
  {
   "cell_type": "code",
   "execution_count": null,
   "metadata": {},
   "outputs": [],
   "source": []
  }
 ],
 "metadata": {
  "kernelspec": {
   "display_name": "pycmb",
   "language": "python",
   "name": "pycmb"
  },
  "language_info": {
   "codemirror_mode": {
    "name": "ipython",
    "version": 3
   },
   "file_extension": ".py",
   "mimetype": "text/x-python",
   "name": "python",
   "nbconvert_exporter": "python",
   "pygments_lexer": "ipython3",
   "version": "3.10.0"
  }
 },
 "nbformat": 4,
 "nbformat_minor": 4
}
