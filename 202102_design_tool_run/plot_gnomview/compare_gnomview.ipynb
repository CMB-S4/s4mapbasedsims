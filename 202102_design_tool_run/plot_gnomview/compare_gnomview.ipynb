{
 "cells": [
  {
   "cell_type": "code",
   "execution_count": null,
   "metadata": {},
   "outputs": [],
   "source": [
    "import healpy as hp\n",
    "import numpy as np\n",
    "import pickle\n",
    "import h5py\n",
    "import altair as alt\n",
    "import pandas as pd\n",
    "import warnings\n",
    "import matplotlib.pyplot as plt\n",
    "warnings.filterwarnings(\"ignore\")"
   ]
  },
  {
   "cell_type": "code",
   "execution_count": null,
   "metadata": {},
   "outputs": [],
   "source": [
    "cd .."
   ]
  },
  {
   "cell_type": "code",
   "execution_count": null,
   "metadata": {},
   "outputs": [],
   "source": [
    "from IPython.display import HTML\n",
    "\n",
    "HTML('''<script>\n",
    "code_show=true; \n",
    "function code_toggle() {\n",
    " if (code_show){\n",
    " $('div.input').hide();\n",
    " } else {\n",
    " $('div.input').show();\n",
    " }\n",
    " code_show = !code_show\n",
    "} \n",
    "$( document ).ready(code_toggle);\n",
    "</script>\n",
    "<form action=\"javascript:code_toggle()\"><input type=\"submit\" value=\"Click here to toggle on/off the raw code.\"></form>''')"
   ]
  },
  {
   "cell_type": "code",
   "execution_count": null,
   "metadata": {},
   "outputs": [],
   "source": [
    "telescope=\"SAT\"\n",
    "nside=4096 if telescope == \"LAT\" else 512\n"
   ]
  },
  {
   "cell_type": "code",
   "execution_count": null,
   "metadata": {},
   "outputs": [],
   "source": [
    "from astropy.table import QTable"
   ]
  },
  {
   "cell_type": "code",
   "execution_count": null,
   "metadata": {},
   "outputs": [],
   "source": [
    "s4 = QTable.read(\"instrument_model/cmbs4_instrument_model.tbl\", format=\"ascii.ipac\")"
   ]
  },
  {
   "cell_type": "code",
   "execution_count": null,
   "metadata": {},
   "outputs": [],
   "source": [
    "rows = s4[s4[\"telescope\"] == telescope]"
   ]
  },
  {
   "cell_type": "code",
   "execution_count": null,
   "metadata": {},
   "outputs": [],
   "source": [
    "channels = list(rows[\"band\"])"
   ]
  },
  {
   "cell_type": "code",
   "execution_count": null,
   "metadata": {},
   "outputs": [],
   "source": [
    "channels"
   ]
  },
  {
   "cell_type": "code",
   "execution_count": null,
   "metadata": {},
   "outputs": [],
   "source": [
    "freqs = rows[\"center_frequency\"]"
   ]
  },
  {
   "cell_type": "code",
   "execution_count": null,
   "metadata": {},
   "outputs": [],
   "source": [
    "print(freqs)"
   ]
  },
  {
   "cell_type": "code",
   "execution_count": null,
   "metadata": {},
   "outputs": [],
   "source": [
    "component = \"combined_foregrounds\"\n",
    "print(component)\n",
    "for ch in channels:\n",
    "    print(ch)\n",
    "    lat_chile = telescope == \"LAT\" and \"P\" not in ch\n",
    "    site = \"chile\" if lat_chile else \"pole\"\n",
    "    m = hp.read_map(\n",
    "   \"output/foregrounds/\" + \\\n",
    "        f\"{telescope}-{ch}_{site}/cmbs4_KCMB_{telescope}-{ch}_{site}_nside{nside}_1_of_1.fits\")\n",
    "    m[m != hp.UNSEEN] *= 1e6\n",
    "    m_input = hp.read_map(\n",
    "        f\"../in/output/{nside}/combined_foregrounds/0000/cmbs4_combined_foregrounds_uKCMB_{telescope}-{ch}_nside{nside}_0000.fits\")\n",
    "    m_input[m == hp.UNSEEN] = hp.UNSEEN\n",
    "    scale = 3e-1*1e3\n",
    "    if site == \"chile\":\n",
    "        hp.mollview(m_input, xsize=3800, min=0, max=scale, unit=\"muK\", title=f\"{ch} Input\")\n",
    "    else:\n",
    "        hp.gnomview(m_input, rot=(40,-55), xsize=3800, ysize=2400, min=0, max=scale, unit=\"muK\", title=f\"{ch} Input\")\n",
    "    plt.savefig(f\"plot_gnomview/foreground_map_{ch}_input.png\")\n",
    "    if site == \"chile\":\n",
    "        hp.mollview(m, xsize=3800, min=0, max=scale, unit=\"muK\", title=f\"{ch} Output\")\n",
    "    else:\n",
    "        hp.gnomview(m, rot=(40,-55), xsize=3800, ysize=2400, min=0, max=scale, unit=\"muK\", title=f\"{ch} Output\")\n",
    "    plt.savefig(f\"plot_gnomview/foreground_map_{ch}_output.png\")\n",
    "del m, m_input"
   ]
  },
  {
   "cell_type": "code",
   "execution_count": null,
   "metadata": {},
   "outputs": [],
   "source": [
    "len(channels)"
   ]
  },
  {
   "cell_type": "code",
   "execution_count": null,
   "metadata": {},
   "outputs": [],
   "source": [
    "component = \"combined_foregrounds\"\n",
    "print(component)\n",
    "\n",
    "for ch in channels:\n",
    "    print(ch)\n",
    "    lat_chile = telescope == \"LAT\" and \"P\" not in ch\n",
    "    site = \"chile\" if lat_chile else \"pole\"\n",
    "    mm = hp.read_map(\n",
    "   \"output/foregrounds/\" + \\\n",
    "        f\"{telescope}-{ch}_{site}/cmbs4_KCMB_{telescope}-{ch}_{site}_nside{nside}_1_of_1.fits\", (1,2))\n",
    "    mm[mm == hp.UNSEEN] = np.nan\n",
    "    m = np.sqrt(mm[0]**2+mm[1]**2)\n",
    "    del mm\n",
    "    m *= 1e6\n",
    "    m[np.isnan(m)] = hp.UNSEEN\n",
    "    \n",
    "    mm_input = hp.ma(hp.read_map(\n",
    "        f\"../in/output/{nside}/combined_foregrounds/0000/cmbs4_combined_foregrounds_uKCMB_{telescope}-{ch}_nside{nside}_0000.fits\", (1,2)))\n",
    "    m_input = np.sqrt(mm_input[0]**2+mm_input[1]**2)\n",
    "    del mm_input\n",
    "    m_input[m == hp.UNSEEN] = hp.UNSEEN\n",
    "    scale = 1e-2*1e3\n",
    "    if site==\"chile\":\n",
    "        hp.mollview(m_input, xsize=3800, min=0, max=scale, unit=\"muK\", title=f\"{ch} Input\")\n",
    "    else:\n",
    "    \n",
    "        hp.gnomview(m_input, rot=(40,-55), xsize=3800, ysize=2400, min=0, max=scale, unit=\"muK\", title=f\"{ch} Input\")\n",
    "    plt.savefig(f\"plot_gnomview/foreground_map_P_{ch}_input.png\")\n",
    "    if site==\"chile\":\n",
    "        hp.mollview(m, xsize=3800, min=0, max=scale, unit=\"muK\", title=f\"{ch} Output\")\n",
    "    else:\n",
    "        hp.gnomview(m, rot=(40,-55), xsize=3800, ysize=2400, min=0, max=scale, unit=\"muK\", title=f\"{ch} Output\")\n",
    "    plt.savefig(f\"plot_gnomview/foreground_map_P_{ch}_output.png\")"
   ]
  },
  {
   "cell_type": "code",
   "execution_count": null,
   "metadata": {},
   "outputs": [],
   "source": [
    "for ch in channels:\n",
    "    if \"P\" in ch:\n",
    "        print(f\"![](foreground_map_{ch}_input.png) ![](foreground_map_{ch}_output.png)\")"
   ]
  },
  {
   "cell_type": "code",
   "execution_count": null,
   "metadata": {},
   "outputs": [],
   "source": []
  }
 ],
 "metadata": {
  "kernelspec": {
   "display_name": "condajupynersc",
   "language": "python",
   "name": "condajupynersc"
  },
  "language_info": {
   "codemirror_mode": {
    "name": "ipython",
    "version": 3
   },
   "file_extension": ".py",
   "mimetype": "text/x-python",
   "name": "python",
   "nbconvert_exporter": "python",
   "pygments_lexer": "ipython3",
   "version": "3.7.0"
  }
 },
 "nbformat": 4,
 "nbformat_minor": 4
}
