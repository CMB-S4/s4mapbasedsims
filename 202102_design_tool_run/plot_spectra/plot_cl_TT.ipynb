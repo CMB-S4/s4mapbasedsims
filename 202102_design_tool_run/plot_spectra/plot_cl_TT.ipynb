{
 "cells": [
  {
   "cell_type": "code",
   "execution_count": null,
   "metadata": {},
   "outputs": [],
   "source": [
    "import healpy as hp\n",
    "import numpy as np\n",
    "import pickle\n",
    "import h5py\n",
    "import altair as alt\n",
    "import pandas as pd\n",
    "import warnings\n",
    "from pathlib import Path\n",
    "warnings.filterwarnings(\"ignore\")"
   ]
  },
  {
   "cell_type": "code",
   "execution_count": null,
   "metadata": {},
   "outputs": [],
   "source": [
    "cd .."
   ]
  },
  {
   "cell_type": "code",
   "execution_count": null,
   "metadata": {},
   "outputs": [],
   "source": [
    "from IPython.display import HTML\n",
    "\n",
    "HTML('''<script>\n",
    "code_show=true; \n",
    "function code_toggle() {\n",
    " if (code_show){\n",
    " $('div.input').hide();\n",
    " } else {\n",
    " $('div.input').show();\n",
    " }\n",
    " code_show = !code_show\n",
    "} \n",
    "$( document ).ready(code_toggle);\n",
    "</script>\n",
    "<form action=\"javascript:code_toggle()\"><input type=\"submit\" value=\"Click here to toggle on/off the raw code.\"></form>''')"
   ]
  },
  {
   "cell_type": "code",
   "execution_count": null,
   "metadata": {},
   "outputs": [],
   "source": [
    "telescope = \"SAT\"\n",
    "nsplits = 1"
   ]
  },
  {
   "cell_type": "code",
   "execution_count": null,
   "metadata": {},
   "outputs": [],
   "source": [
    "nside=4096 if telescope == \"LAT\" else 512\n",
    "pysm_nside = 512"
   ]
  },
  {
   "cell_type": "code",
   "execution_count": null,
   "metadata": {},
   "outputs": [],
   "source": [
    "from astropy.table import QTable"
   ]
  },
  {
   "cell_type": "code",
   "execution_count": null,
   "metadata": {},
   "outputs": [],
   "source": [
    "s4 = QTable.read(\"instrument_model/cmbs4_instrument_model.tbl\", format=\"ascii.ipac\")"
   ]
  },
  {
   "cell_type": "code",
   "execution_count": null,
   "metadata": {},
   "outputs": [],
   "source": [
    "s4 = s4[s4[\"telescope\"] == telescope]"
   ]
  },
  {
   "cell_type": "code",
   "execution_count": null,
   "metadata": {},
   "outputs": [],
   "source": [
    "s4.sort(\"center_frequency\")"
   ]
  },
  {
   "cell_type": "code",
   "execution_count": null,
   "metadata": {},
   "outputs": [],
   "source": [
    "s4"
   ]
  },
  {
   "cell_type": "code",
   "execution_count": null,
   "metadata": {},
   "outputs": [],
   "source": [
    "dataset = \"cmb_r0\""
   ]
  },
  {
   "cell_type": "code",
   "execution_count": null,
   "metadata": {},
   "outputs": [],
   "source": [
    "local_path = Path(\"output\")\n",
    "project_path = Path(\"output/\")"
   ]
  },
  {
   "cell_type": "code",
   "execution_count": null,
   "metadata": {},
   "outputs": [],
   "source": [
    "channels = list(s4[\"band\"])"
   ]
  },
  {
   "cell_type": "code",
   "execution_count": null,
   "metadata": {},
   "outputs": [],
   "source": [
    "channels"
   ]
  },
  {
   "cell_type": "code",
   "execution_count": null,
   "metadata": {},
   "outputs": [],
   "source": [
    "alt.data_transformers.enable(\"default\")"
   ]
  },
  {
   "cell_type": "code",
   "execution_count": null,
   "metadata": {},
   "outputs": [],
   "source": [
    "alt.data_transformers.disable_max_rows()"
   ]
  },
  {
   "cell_type": "code",
   "execution_count": null,
   "metadata": {},
   "outputs": [],
   "source": [
    "import pysm3 as pysm\n",
    "import so_pysm_models\n",
    "\n",
    "from pysm3 import units as u"
   ]
  },
  {
   "cell_type": "code",
   "execution_count": null,
   "metadata": {},
   "outputs": [],
   "source": [
    "import mapsims"
   ]
  },
  {
   "cell_type": "code",
   "execution_count": null,
   "metadata": {},
   "outputs": [],
   "source": [
    "selection = {}\n",
    "cl = {}\n",
    "i_pol = 0"
   ]
  },
  {
   "cell_type": "code",
   "execution_count": null,
   "metadata": {},
   "outputs": [],
   "source": [
    "from glob import glob"
   ]
  },
  {
   "cell_type": "code",
   "execution_count": null,
   "metadata": {},
   "outputs": [],
   "source": [
    "toml_files = ['../in/cmb.toml', '../in/cmb_tensor.toml']"
   ]
  },
  {
   "cell_type": "code",
   "execution_count": null,
   "metadata": {},
   "outputs": [],
   "source": [
    "channels"
   ]
  },
  {
   "cell_type": "code",
   "execution_count": null,
   "metadata": {},
   "outputs": [],
   "source": [
    "site = \"pole\"\n",
    "telescope"
   ]
  },
  {
   "cell_type": "code",
   "execution_count": null,
   "metadata": {},
   "outputs": [],
   "source": [
    "ls ../202102_design_tool_run/instrument_model"
   ]
  },
  {
   "cell_type": "code",
   "execution_count": null,
   "metadata": {},
   "outputs": [],
   "source": [
    "ls output/"
   ]
  },
  {
   "cell_type": "code",
   "execution_count": null,
   "metadata": {},
   "outputs": [],
   "source": [
    "label = [\"II\", \"EE\", \"BB\"][i_pol]"
   ]
  },
  {
   "cell_type": "code",
   "execution_count": null,
   "metadata": {},
   "outputs": [],
   "source": [
    "for config_file in toml_files: \n",
    "    mapsim = mapsims.from_config([\"../in/common.toml\", config_file])\n",
    "    component = config_file.split(\"/\")[-1].split(\".\")[0].replace(f\"_{nside}\", \"\")\n",
    "    print(component)\n",
    "    dataset = dict(cmb=\"cmb_r0\", cmb_tensor=\"cmb_tensor_only_r3e-3\")[component]\n",
    "    C_ell = pickle.load(open(local_path/ dataset / f\"C_ell_{telescope}_{nsplits}.pkl\", \"rb\"))\n",
    "\n",
    "    if mapsim.pysm_components_string is not None:\n",
    "        component_objects = [so_pysm_models.get_so_models(mapsim.pysm_components_string, nside=pysm_nside)]\n",
    "    else:\n",
    "        component_objects = list(mapsim.pysm_custom_components.values())\n",
    "    sky = pysm.Sky(nside=pysm_nside,\n",
    "                   component_objects=component_objects,\n",
    "                   output_unit=u.uK_CMB\n",
    "                  )\n",
    "    onecl = pd.DataFrame(\n",
    "        {ch:C_ell[f\"{telescope}-{ch}_{site}\"][nsplits][i_pol] for ch in channels}\n",
    "    )\n",
    "    \n",
    "    onecl *= 1e12\n",
    "    \n",
    "    onecl = onecl.reset_index().rename(columns={\"index\":\"ell\"})\n",
    "    \n",
    "\n",
    "    pysm_high = hp.anafast(\n",
    "            sky.get_emission(\n",
    "                s4[-1][\"center_frequency\"],\n",
    "            ),    \n",
    "        lmax=3*pysm_nside-1)[i_pol]\n",
    "    onecl[f\"PySM {channels[-1]} nobeam\"] = 0\n",
    "    onecl[f\"PySM {channels[-1]} nobeam\"][:len(pysm_high)] = pysm_high\n",
    "\n",
    "    onecl = onecl[onecl.ell != 0]\n",
    "    decim = np.concatenate([[0], np.logspace(0, 4, 1000, endpoint=False)])\n",
    "    #onecl = onecl.iloc[decim,:] # decimate in log scale to make plots smaller\n",
    "\n",
    "    onecl_long = onecl.melt(\"ell\", var_name=\"channel\")\n",
    "    onecl_long[onecl_long.value == 0] = np.nan\n",
    "    selection[component] = alt.selection_multi(fields=['channel'], bind=\"legend\")\n",
    "\n",
    "    chart = alt.Chart(onecl_long, title=f\"{component} {label}\").mark_line().encode(\n",
    "        x=alt.X(\"ell\", scale=alt.Scale(type='log', base=10, domain=[1,1e4])),\n",
    "        y=alt.Y(\"value\", title=\"C_ell [uK^2]\", scale=alt.Scale(type='log', base=10)),\n",
    "        color=alt.Color('channel', \n",
    "            sort=[\"PySM \" + channels[0]] + list(channels) + [\"PySM \" + channels[-1]]\n",
    "                       ),\n",
    "        opacity=alt.condition(selection[component], alt.value(1), alt.value(0.2))\n",
    "    ).add_selection(selection[component]).interactive().display()\n",
    "    # chart.save(f\"plot_spectra/{dataset}_{label}_spectra.json\")"
   ]
  },
  {
   "cell_type": "code",
   "execution_count": null,
   "metadata": {},
   "outputs": [],
   "source": []
  }
 ],
 "metadata": {
  "jupytext": {
   "formats": "ipynb,py"
  },
  "kernelspec": {
   "display_name": "condajupynersc",
   "language": "python",
   "name": "condajupynersc"
  },
  "language_info": {
   "codemirror_mode": {
    "name": "ipython",
    "version": 3
   },
   "file_extension": ".py",
   "mimetype": "text/x-python",
   "name": "python",
   "nbconvert_exporter": "python",
   "pygments_lexer": "ipython3",
   "version": "3.7.0"
  }
 },
 "nbformat": 4,
 "nbformat_minor": 4
}
