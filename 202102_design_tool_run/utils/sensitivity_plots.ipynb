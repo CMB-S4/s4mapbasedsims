{
 "cells": [
  {
   "cell_type": "code",
   "execution_count": null,
   "metadata": {},
   "outputs": [],
   "source": [
    "from astropy.table import QTable\n",
    "import numpy as np"
   ]
  },
  {
   "cell_type": "code",
   "execution_count": null,
   "metadata": {},
   "outputs": [],
   "source": [
    "!cat ../sim_sensitivity.txt"
   ]
  },
  {
   "cell_type": "code",
   "execution_count": null,
   "metadata": {},
   "outputs": [],
   "source": [
    "t = QTable.read(\"../sim_sensitivity.txt\", format=\"ascii\", names=[\"band\", \"center_frequency\", \"pol\", \"PDB\", \"sim\"])\n",
    "t_EE = t[t[\"pol\"] == \"EE\"]"
   ]
  },
  {
   "cell_type": "code",
   "execution_count": null,
   "metadata": {},
   "outputs": [],
   "source": [
    "dsr_t = QTable.read(\"baseline_reference_ratio.dat\", format=\"ascii.fixed_width\")"
   ]
  },
  {
   "cell_type": "code",
   "execution_count": null,
   "metadata": {},
   "outputs": [],
   "source": [
    "dsr_t = dsr_t[[\"S\" in each for each in dsr_t[\"band\"]]]"
   ]
  },
  {
   "cell_type": "code",
   "execution_count": null,
   "metadata": {},
   "outputs": [],
   "source": [
    "import matplotlib.pyplot as plt"
   ]
  },
  {
   "cell_type": "code",
   "execution_count": null,
   "metadata": {},
   "outputs": [],
   "source": [
    "from astropy import units as u"
   ]
  },
  {
   "cell_type": "code",
   "execution_count": null,
   "metadata": {},
   "outputs": [],
   "source": [
    "noise = {}\n",
    "for each in [\"PDB\", \"sim\"]:\n",
    "    noise[each] = np.sqrt(t_EE[each] * u.radian ** 2 * u.K**2).to(u.arcmin*u.uK)\n"
   ]
  },
  {
   "cell_type": "code",
   "execution_count": null,
   "metadata": {},
   "outputs": [],
   "source": [
    "ch = [a.split(\"_\")[0].split(\"-\")[1] for a in t_EE[\"band\"]]"
   ]
  },
  {
   "cell_type": "code",
   "execution_count": null,
   "metadata": {},
   "outputs": [],
   "source": [
    "ch = np.round(t_EE[\"center_frequency\"])"
   ]
  },
  {
   "cell_type": "code",
   "execution_count": null,
   "metadata": {},
   "outputs": [],
   "source": [
    "plt.style.use(\"seaborn-poster\")"
   ]
  },
  {
   "cell_type": "code",
   "execution_count": null,
   "metadata": {},
   "outputs": [],
   "source": [
    "for each in [\"PDB\", \"sim\"]:\n",
    "    plt.scatter(x=ch, y=noise[each], label=each, alpha=1)\n",
    "plt.grid()\n",
    "plt.xticks(ch)\n",
    "plt.xlabel(\"Channel frequency [GHz]\")\n",
    "plt.ylabel(\"Sensitivity [uK-arcmin]\")\n",
    "plt.legend()\n",
    "plt.savefig(\"../plots/sensitivity_plot_SAT_pole.png\");"
   ]
  },
  {
   "cell_type": "code",
   "execution_count": null,
   "metadata": {},
   "outputs": [],
   "source": [
    "plt.scatter(x=ch, y=(noise[\"sim\"]-noise[\"PDB\"])/noise[\"PDB\"]*100, alpha=1, label=\"PDB\")\n",
    "# plt.scatter(x=ch, y=np.sqrt(dsr_t[\"cl_ratio\"])*100-100, alpha=1, label=\"DSR scaled\")\n",
    "# plt.legend()\n",
    "plt.grid()\n",
    "plt.xticks(ch)\n",
    "plt.xlabel(\"Channel frequency [GHz]\")\n",
    "plt.axhline(0, color=\"black\", ls=\"--\")\n",
    "plt.ylabel(\"Sensitivity difference sim - PDB [%]\")\n",
    "plt.ylim(-40, +20);\n",
    "plt.savefig(\"../plots/sensitivity_plot_difference_SAT_pole.png\");"
   ]
  },
  {
   "cell_type": "code",
   "execution_count": null,
   "metadata": {},
   "outputs": [],
   "source": []
  }
 ],
 "metadata": {
  "kernelspec": {
   "display_name": "condajupynersc",
   "language": "python",
   "name": "condajupynersc"
  },
  "language_info": {
   "codemirror_mode": {
    "name": "ipython",
    "version": 3
   },
   "file_extension": ".py",
   "mimetype": "text/x-python",
   "name": "python",
   "nbconvert_exporter": "python",
   "pygments_lexer": "ipython3",
   "version": "3.7.0"
  }
 },
 "nbformat": 4,
 "nbformat_minor": 4
}
