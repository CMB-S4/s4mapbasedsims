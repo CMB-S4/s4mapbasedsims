{
 "cells": [
  {
   "cell_type": "code",
   "execution_count": null,
   "id": "d3266794-7afd-4206-a267-4e2c8fbb8f6e",
   "metadata": {},
   "outputs": [],
   "source": [
    "ls instrument_model"
   ]
  },
  {
   "cell_type": "code",
   "execution_count": null,
   "id": "e5d04edd-8ad2-4f33-8753-ab7fc0e72f0f",
   "metadata": {},
   "outputs": [],
   "source": [
    "!head instrument_model/cmbs4_instrument_model.tbl\n"
   ]
  },
  {
   "cell_type": "code",
   "execution_count": null,
   "id": "4d917a28-0bb4-4b5e-ac91-7fa5aa89636a",
   "metadata": {},
   "outputs": [],
   "source": [
    "from astropy.table import QTable, Table\n",
    "import numpy as np"
   ]
  },
  {
   "cell_type": "code",
   "execution_count": null,
   "id": "a496ef8f-f545-46e0-bc49-058b572c4952",
   "metadata": {},
   "outputs": [],
   "source": [
    "baseline_design = QTable.read('instrument_model/cmbs4_instrument_model.tbl',  format='ascii.ipac')\n",
    "baseline_design.add_index(\"band\")"
   ]
  },
  {
   "cell_type": "code",
   "execution_count": null,
   "id": "bb28d07a-146f-484a-ac7c-78d1b821f1cf",
   "metadata": {},
   "outputs": [],
   "source": [
    "reference_design = Table.read(\"../202006_foregrounds_extragalactic_cmb_tophat/cmbs4_tophat.csv\")\n",
    "reference_design.add_index(\"band\")"
   ]
  },
  {
   "cell_type": "code",
   "execution_count": null,
   "id": "687e3f97-c480-4602-bdf2-e74ed7e52799",
   "metadata": {},
   "outputs": [],
   "source": [
    "baseline_design"
   ]
  },
  {
   "cell_type": "code",
   "execution_count": null,
   "id": "4931122b-ecbd-4f08-8c17-f1cfc000e31c",
   "metadata": {},
   "outputs": [],
   "source": [
    "reference_design"
   ]
  },
  {
   "cell_type": "code",
   "execution_count": null,
   "id": "7a9e661c-c415-4536-8d61-3d4006f19c00",
   "metadata": {},
   "outputs": [],
   "source": [
    "baseline_design[\"NET_ratio\"] = np.nan\n",
    "baseline_design[\"num_detectors_ratio\"] = np.nan\n",
    "baseline_design[\"efficiency_ratio\"] = 1 / 0.2 # Reference design efficiency"
   ]
  },
  {
   "cell_type": "code",
   "execution_count": null,
   "id": "35c0575b-f1a5-4bfa-9e4e-890cc9f686c3",
   "metadata": {},
   "outputs": [],
   "source": [
    "for row in baseline_design:\n",
    "    if \"P\" in row[\"band\"]:\n",
    "        row[\"NET_ratio\"] = row[\"NET\"].value / reference_design.loc[row[\"band\"].replace(\"P\",\"\")][\"pole_NET_uKsqrts\"]\n",
    "        row[\"num_detectors_ratio\"] = row[\"detectors_per_tube\"] / reference_design.loc[row[\"band\"].replace(\"P\",\"\")][\"detectors_per_tube\"]\n",
    "    else:\n",
    "        row[\"NET_ratio\"] = row[\"NET\"].value / reference_design.loc[row[\"band\"]][\"NET_uKsqrts\"]\n",
    "        row[\"num_detectors_ratio\"] = row[\"detectors_per_tube\"] / reference_design.loc[row[\"band\"]][\"detectors_per_tube\"]\n",
    "baseline_design[\"num_detectors_ratio\"][baseline_design[\"telescope\"] == \"LAT\"] *= 4 # from 4 wafers to 1 wafer per tube"
   ]
  },
  {
   "cell_type": "code",
   "execution_count": null,
   "id": "618cd3b9-9573-4e1a-b76d-e66ba6f6812d",
   "metadata": {},
   "outputs": [],
   "source": [
    "baseline_design"
   ]
  },
  {
   "cell_type": "code",
   "execution_count": null,
   "id": "d4748c76-bee1-43bb-adf0-727b925403cc",
   "metadata": {},
   "outputs": [],
   "source": [
    "import toml"
   ]
  },
  {
   "cell_type": "code",
   "execution_count": null,
   "id": "e2d0f129-a91d-44c9-a6b8-2312b76663d1",
   "metadata": {},
   "outputs": [],
   "source": [
    "efficiencies = toml.load(\"./s4_baseline_design.toml\")[\"experiment\"]"
   ]
  },
  {
   "cell_type": "code",
   "execution_count": null,
   "id": "55ce3c1a-2d03-4ded-af23-b0cc4aaf6576",
   "metadata": {},
   "outputs": [],
   "source": [
    "efficiencies[\"sensitivity_factor\"]"
   ]
  },
  {
   "cell_type": "code",
   "execution_count": null,
   "id": "9ca51e2a-b859-47ed-a477-4c270305dadd",
   "metadata": {},
   "outputs": [],
   "source": [
    "efficiencies[\"observing_efficiency\"]"
   ]
  },
  {
   "cell_type": "code",
   "execution_count": null,
   "id": "0aadd5a7-70d2-4da1-b1ff-83897b9f5a53",
   "metadata": {},
   "outputs": [],
   "source": [
    "for row in baseline_design:\n",
    "    site = \"Pole\" if (\"P\" in row[\"band\"] or row[\"telescope\"] == \"SAT\") else \"Chile\"\n",
    "    row[\"efficiency_ratio\"] *= efficiencies[\"observing_efficiency\"][site][row[\"telescope\"]][row[\"band\"]]\n",
    "    row[\"efficiency_ratio\"] *= efficiencies[\"sensitivity_factor\"][site][row[\"telescope\"]].get(row[\"band\"], efficiencies[\"sensitivity_factor\"][site][row[\"telescope\"]].get(\"default\", np.nan))"
   ]
  },
  {
   "cell_type": "code",
   "execution_count": null,
   "id": "5cb18f2c-5c05-4d5a-a43e-a25609cda33a",
   "metadata": {},
   "outputs": [],
   "source": [
    "t = baseline_design[[\"band\", \"NET_ratio\", \"num_detectors_ratio\", \"efficiency_ratio\", \"FOV_ratio\"]]"
   ]
  },
  {
   "cell_type": "code",
   "execution_count": null,
   "id": "e02a50ba-0a22-48cb-b4a3-d2c67e7004c7",
   "metadata": {},
   "outputs": [],
   "source": [
    "baseline_design[\"FOV_ratio\"] = 1\n",
    "baseline_design.loc[\"HFS1\"][\"FOV_ratio\"] = 29.32/40.74\n",
    "baseline_design.loc[\"HFS2\"][\"FOV_ratio\"] = baseline_design.loc[\"HFS1\"][\"FOV_ratio\"]"
   ]
  },
  {
   "cell_type": "code",
   "execution_count": null,
   "id": "7ae3e9e8-9962-461d-b6f7-8cf4d94a8bb6",
   "metadata": {},
   "outputs": [],
   "source": [
    "del t.meta[\"comments\"]\n"
   ]
  },
  {
   "cell_type": "code",
   "execution_count": null,
   "id": "0925725c-9d39-4cba-a3ab-a40a3287288f",
   "metadata": {},
   "outputs": [],
   "source": [
    "t.columns"
   ]
  },
  {
   "cell_type": "code",
   "execution_count": null,
   "id": "55ded6b4-7cf3-49ed-80e0-8ead395a24a9",
   "metadata": {},
   "outputs": [],
   "source": [
    "for k in t.columns:\n",
    "    if k != \"band\":\n",
    "        t[k].format = \"{:.3f}\""
   ]
  },
  {
   "cell_type": "markdown",
   "id": "34df5296-7860-4901-876f-a4ae6d852a40",
   "metadata": {},
   "source": [
    "`N_ell_pdb / N_ell_dsr = (NET_pbd / NET_dsr * Eff_dsr / Eff_pdb * FOV_pdb/FOV_dsr) ** 2 * (ndet_dsr / ndet_pbd)`"
   ]
  },
  {
   "cell_type": "code",
   "execution_count": null,
   "id": "55240914-8bcb-4f52-a080-31a2b4ca2500",
   "metadata": {},
   "outputs": [],
   "source": [
    "t[\"cl_ratio\"] = (t[\"NET_ratio\"] / t[\"efficiency_ratio\"] * t[\"FOV_ratio\"]) ** 2 / t[\"num_detectors_ratio\"]"
   ]
  },
  {
   "cell_type": "code",
   "execution_count": null,
   "id": "050fecde-becc-4af4-9bd5-c77f78562ef0",
   "metadata": {},
   "outputs": [],
   "source": [
    "t[[\"band\", \"cl_ratio\"]]"
   ]
  },
  {
   "cell_type": "code",
   "execution_count": null,
   "id": "122276f1-463e-45e8-9f74-7f4376fea0fe",
   "metadata": {},
   "outputs": [],
   "source": [
    "t.write(\"baseline_reference_ratio.dat\", format=\"ascii.fixed_width\")"
   ]
  },
  {
   "cell_type": "code",
   "execution_count": null,
   "id": "5d069a84-f22b-41a8-b49a-ebb316b7dd6b",
   "metadata": {},
   "outputs": [],
   "source": [
    "cat baseline_reference_ratio.dat"
   ]
  },
  {
   "cell_type": "code",
   "execution_count": null,
   "id": "bf466530-89a9-4241-96c5-f6a5251cb811",
   "metadata": {},
   "outputs": [],
   "source": []
  }
 ],
 "metadata": {
  "kernelspec": {
   "display_name": "Python [conda env:so]",
   "language": "python",
   "name": "conda-env-so-py"
  },
  "language_info": {
   "codemirror_mode": {
    "name": "ipython",
    "version": 3
   },
   "file_extension": ".py",
   "mimetype": "text/x-python",
   "name": "python",
   "nbconvert_exporter": "python",
   "pygments_lexer": "ipython3",
   "version": "3.7.0"
  }
 },
 "nbformat": 4,
 "nbformat_minor": 5
}
