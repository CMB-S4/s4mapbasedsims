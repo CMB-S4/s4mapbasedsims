{
 "cells": [
  {
   "cell_type": "code",
   "execution_count": 1,
   "metadata": {},
   "outputs": [],
   "source": [
    "import s4sim.hardware.config\n",
    "c=s4sim.hardware.config.get_example()"
   ]
  },
  {
   "cell_type": "code",
   "execution_count": 2,
   "metadata": {},
   "outputs": [],
   "source": [
    "import s4sim"
   ]
  },
  {
   "cell_type": "code",
   "execution_count": 3,
   "metadata": {},
   "outputs": [
    {
     "data": {
      "text/plain": [
       "'0+untagged.154.gca07638'"
      ]
     },
     "execution_count": 3,
     "metadata": {},
     "output_type": "execute_result"
    }
   ],
   "source": [
    "s4sim.__version__"
   ]
  },
  {
   "cell_type": "markdown",
   "metadata": {},
   "source": [
    "Using commit:\n",
    "\n",
    "```\n",
    "commit ca07638f6781144648938a636a972711321ba166 (HEAD -> 85-tube_LAT, \n",
    "origin/85-tube_LAT)\n",
    "Author: smsimon <smsimon@umich.edu>\n",
    "Date:   Mon Feb 8 09:41:21 2021 -0600\n",
    "\n",
    "    Effective flat band bandpasses and updated noise levels for SPSAT and SPLAT. Calculated at elevation of 50 deg \n",
    "```"
   ]
  },
  {
   "cell_type": "code",
   "execution_count": 4,
   "metadata": {},
   "outputs": [
    {
     "data": {
      "text/plain": [
       "OrderedDict([('LFS1', 72.8),\n",
       "             ('LFS2', 72.8),\n",
       "             ('MFLS1', 25.5),\n",
       "             ('MFLS2', 25.5),\n",
       "             ('MFHS1', 22.7),\n",
       "             ('MFHS2', 22.7),\n",
       "             ('HFS1', 13.0),\n",
       "             ('HFS2', 13.0)])"
      ]
     },
     "execution_count": 4,
     "metadata": {},
     "output_type": "execute_result"
    }
   ],
   "source": [
    "c.data[\"telescopes\"][\"SAT0\"][\"fwhm\"]"
   ]
  },
  {
   "cell_type": "code",
   "execution_count": 5,
   "metadata": {},
   "outputs": [
    {
     "data": {
      "text/plain": [
       "odict_keys(['LFS1', 'LFS2', 'MFLS1', 'MFLS2', 'MFHS1', 'MFHS2', 'HFS1', 'HFS2'])"
      ]
     },
     "execution_count": 5,
     "metadata": {},
     "output_type": "execute_result"
    }
   ],
   "source": [
    "c.data[\"telescopes\"][\"SAT3\"][\"fwhm\"].keys()"
   ]
  },
  {
   "cell_type": "code",
   "execution_count": 6,
   "metadata": {},
   "outputs": [
    {
     "data": {
      "text/plain": [
       "odict_keys(['tubes', 'platescale', 'tubespace', 'fwhm'])"
      ]
     },
     "execution_count": 6,
     "metadata": {},
     "output_type": "execute_result"
    }
   ],
   "source": [
    "c.data[\"telescopes\"][\"SAT3\"].keys()"
   ]
  },
  {
   "cell_type": "code",
   "execution_count": 7,
   "metadata": {},
   "outputs": [
    {
     "data": {
      "text/plain": [
       "odict_keys(['ULFPL1', 'LFL1', 'LFL2', 'LFPL1', 'LFPL2', 'LFS1', 'LFS2', 'MFL1', 'MFL2', 'MFPL1', 'MFPL2', 'MFLS1', 'MFLS2', 'MFHS1', 'MFHS2', 'HFL1', 'HFL2', 'HFPL1', 'HFPL2', 'HFS1', 'HFS2'])"
      ]
     },
     "execution_count": 7,
     "metadata": {},
     "output_type": "execute_result"
    }
   ],
   "source": [
    "c.data[\"bands\"].keys()"
   ]
  },
  {
   "cell_type": "code",
   "execution_count": 8,
   "metadata": {},
   "outputs": [
    {
     "data": {
      "text/plain": [
       "OrderedDict([('center', 25.75),\n",
       "             ('low', 21.5),\n",
       "             ('high', 30.0),\n",
       "             ('bandpass', ''),\n",
       "             ('NET', 287.4),\n",
       "             ('fknee', 50.0),\n",
       "             ('fmin', 0.01),\n",
       "             ('alpha', 3.5),\n",
       "             ('A', 0.09),\n",
       "             ('C', 0.87)])"
      ]
     },
     "execution_count": 8,
     "metadata": {},
     "output_type": "execute_result"
    }
   ],
   "source": [
    "c.data[\"bands\"][\"LFL1\"]"
   ]
  },
  {
   "cell_type": "code",
   "execution_count": 9,
   "metadata": {},
   "outputs": [],
   "source": [
    "import numpy as np"
   ]
  },
  {
   "cell_type": "markdown",
   "metadata": {},
   "source": [
    "# NET and number of detectors per tube\n",
    "\n",
    "Copy-pasted from https://docs.google.com/spreadsheets/d/1X0x8wYhjHdI_WPjhgbtyVlVQrX86tTgxgqEUhan2Hxg/edit?usp=sharing\n",
    "On 10 February 2021"
   ]
  },
  {
   "cell_type": "code",
   "execution_count": 10,
   "metadata": {},
   "outputs": [],
   "source": [
    "NUM_DET = {}\n",
    "SAT_NUM_DET_STRING = \"288\t288\t3528\t3528\t3528\t3528\t8592\t8592\"\n",
    "for sat_band, num_det in zip(c.data[\"telescopes\"][\"SAT3\"][\"fwhm\"].keys(), SAT_NUM_DET_STRING.split()):\n",
    "    NUM_DET[sat_band] = int(num_det)"
   ]
  },
  {
   "cell_type": "markdown",
   "metadata": {},
   "source": [
    "For LAT copy-pasted from line 600-610 of `hardware/config.py` of `s4sim` at the same hash used above, see https://github.com/CMB-S4/s4sim/issues/15#issuecomment-776901802"
   ]
  },
  {
   "cell_type": "code",
   "execution_count": 11,
   "metadata": {},
   "outputs": [],
   "source": [
    "wnp = {\n",
    "    \"ULFPL\": 27,                                                                                                                                         \n",
    "    \"LFL\": 48,\n",
    "    \"LFPL\": 48,\n",
    "    \"LFS\": 12,\n",
    "    \"MFL\": 432,\n",
    "    \"MFPL\": 432,\n",
    "    \"MFLS\": 147,\n",
    "    \"MFHS\": 147,\n",
    "    \"HFL\": 432,\n",
    "    \"HFPL\": 432,\n",
    "    \"HFS\": 469,\n",
    "}"
   ]
  },
  {
   "cell_type": "code",
   "execution_count": 12,
   "metadata": {},
   "outputs": [],
   "source": [
    "for band in c.data[\"telescopes\"][\"LAT0\"][\"fwhm\"].keys():\n",
    "    NUM_DET[band] = wnp[band[:-1]]*2"
   ]
  },
  {
   "cell_type": "code",
   "execution_count": 13,
   "metadata": {},
   "outputs": [
    {
     "data": {
      "text/plain": [
       "odict_keys(['ULFPL1', 'LFL1', 'LFPL1', 'LFL2', 'LFPL2', 'MFL1', 'MFPL1', 'MFL2', 'MFPL2', 'HFL1', 'HFPL1', 'HFL2', 'HFPL2'])"
      ]
     },
     "execution_count": 13,
     "metadata": {},
     "output_type": "execute_result"
    }
   ],
   "source": [
    "c.data[\"telescopes\"][\"LAT0\"][\"fwhm\"].keys()"
   ]
  },
  {
   "cell_type": "code",
   "execution_count": 14,
   "metadata": {},
   "outputs": [],
   "source": [
    "from collections import OrderedDict\n",
    "from astropy import units as u\n",
    "from astropy.table import QTable"
   ]
  },
  {
   "cell_type": "code",
   "execution_count": 15,
   "metadata": {},
   "outputs": [],
   "source": [
    "ipac_warning = [\"Text file in IPAC table format, read with astropy\",\n",
    "    \"from astropy.table import QTable\",\n",
    "    \"QTable.read('filename.tbl', format='ascii.ipac')\"]"
   ]
  },
  {
   "cell_type": "code",
   "execution_count": 16,
   "metadata": {},
   "outputs": [
    {
     "data": {
      "text/plain": [
       "OrderedDict([('ULFPL1', 10.0),\n",
       "             ('LFL1', 7.4),\n",
       "             ('LFPL1', 7.4),\n",
       "             ('LFL2', 5.1),\n",
       "             ('LFPL2', 5.1),\n",
       "             ('MFL1', 2.2),\n",
       "             ('MFPL1', 2.2),\n",
       "             ('MFL2', 1.4),\n",
       "             ('MFPL2', 1.4),\n",
       "             ('HFL1', 1.0),\n",
       "             ('HFPL1', 1.0),\n",
       "             ('HFL2', 0.9),\n",
       "             ('HFPL2', 0.9)])"
      ]
     },
     "execution_count": 16,
     "metadata": {},
     "output_type": "execute_result"
    }
   ],
   "source": [
    "c.data[\"telescopes\"][\"LAT0\"][\"fwhm\"]"
   ]
  },
  {
   "cell_type": "code",
   "execution_count": 17,
   "metadata": {},
   "outputs": [
    {
     "name": "stdout",
     "output_type": "stream",
     "text": [
      "## ULFPL1\n",
      "Bandpass [GHz] low,center,high:  17.5 20.0 22.5\n",
      "Beam [arcmin]:  10.0\n",
      "## LFL1\n",
      "Bandpass [GHz] low,center,high:  21.5 25.75 30.0\n",
      "Beam [arcmin]:  7.4\n",
      "## LFL2\n",
      "Bandpass [GHz] low,center,high:  30.0 38.75 47.5\n",
      "Beam [arcmin]:  5.1\n",
      "## LFPL1\n",
      "Bandpass [GHz] low,center,high:  21.5 25.75 30.0\n",
      "Beam [arcmin]:  7.4\n",
      "## LFPL2\n",
      "Bandpass [GHz] low,center,high:  30.0 38.75 47.5\n",
      "Beam [arcmin]:  5.1\n",
      "## LFS1\n",
      "Bandpass [GHz] low,center,high:  21.5 25.75 30.0\n",
      "Beam [arcmin]:  72.8\n",
      "## LFS2\n",
      "Bandpass [GHz] low,center,high:  30.0 38.75 47.5\n",
      "Beam [arcmin]:  72.8\n",
      "## MFL1\n",
      "Bandpass [GHz] low,center,high:  77.0 91.5 106.0\n",
      "Beam [arcmin]:  2.2\n",
      "## MFL2\n",
      "Bandpass [GHz] low,center,high:  128.0 148.5 169.0\n",
      "Beam [arcmin]:  1.4\n",
      "## MFPL1\n",
      "Bandpass [GHz] low,center,high:  77.0 91.5 106.0\n",
      "Beam [arcmin]:  2.2\n",
      "## MFPL2\n",
      "Bandpass [GHz] low,center,high:  128.0 148.5 169.0\n",
      "Beam [arcmin]:  1.4\n",
      "## MFLS1\n",
      "Bandpass [GHz] low,center,high:  74.8 85.0 95.2\n",
      "Beam [arcmin]:  25.5\n",
      "## MFLS2\n",
      "Bandpass [GHz] low,center,high:  129.1 145.0 161.0\n",
      "Beam [arcmin]:  25.5\n",
      "## MFHS1\n",
      "Bandpass [GHz] low,center,high:  83.6 95.0 106.4\n",
      "Beam [arcmin]:  22.7\n",
      "## MFHS2\n",
      "Bandpass [GHz] low,center,high:  138.0 155.1 172.1\n",
      "Beam [arcmin]:  22.7\n",
      "## HFL1\n",
      "Bandpass [GHz] low,center,high:  198.0 227.0 256.0\n",
      "Beam [arcmin]:  1.0\n",
      "## HFL2\n",
      "Bandpass [GHz] low,center,high:  256.0 285.5 315.0\n",
      "Beam [arcmin]:  0.9\n",
      "## HFPL1\n",
      "Bandpass [GHz] low,center,high:  198.0 227.0 256.0\n",
      "Beam [arcmin]:  1.0\n",
      "## HFPL2\n",
      "Bandpass [GHz] low,center,high:  256.0 285.5 315.0\n",
      "Beam [arcmin]:  0.9\n",
      "## HFS1\n",
      "Bandpass [GHz] low,center,high:  198.0 227.0 256.0\n",
      "Beam [arcmin]:  13.0\n",
      "## HFS2\n",
      "Bandpass [GHz] low,center,high:  256.0 285.5 315.0\n",
      "Beam [arcmin]:  13.0\n"
     ]
    }
   ],
   "source": [
    "s4 = []\n",
    "for i, (band, v) in enumerate(c.data[\"bands\"].items()):\n",
    "    print(\"## \" + band)\n",
    "    print(\"Bandpass [GHz] low,center,high: \", v[\"low\"], v[\"center\"], v[\"high\"])\n",
    "    try:\n",
    "        tel = \"SAT\"\n",
    "        fwhm = c.data[\"telescopes\"][tel + \"0\"][\"fwhm\"][band]\n",
    "    except:\n",
    "        tel = \"LAT\"\n",
    "        fwhm = c.data[\"telescopes\"][tel + \"0\"][\"fwhm\"][band]\n",
    "    print(\"Beam [arcmin]: \", fwhm)\n",
    "    d = OrderedDict(band=band)\n",
    "    d[\"band\"] = band\n",
    "    d[\"telescope\"] = tel\n",
    "    d[\"center_frequency\"] = v[\"center\"] * u.GHz\n",
    "    d[\"fwhm\"] = fwhm * u.arcmin\n",
    "    d[\"detectors_per_tube\"] = NUM_DET[band]\n",
    "    d[\"NET\"] = v[\"NET\"] * u.uK*u.s**.5\n",
    "    bandpass_table = QTable(dict(bandpass_frequency=np.linspace(v[\"low\"], v[\"high\"], 10) * u.GHz,\n",
    "    bandpass_weight=np.ones(10, dtype=np.float)))\n",
    "    bandpass_table.meta[\"comments\"] = ipac_warning\n",
    "    bandpass_table.write(f\"../instrument_model/bandpass_{band}.tbl\", format=\"ascii.ipac\", overwrite=True)\n",
    "    s4.append(d)"
   ]
  },
  {
   "cell_type": "code",
   "execution_count": 18,
   "metadata": {},
   "outputs": [
    {
     "name": "stdout",
     "output_type": "stream",
     "text": [
      "Warning: Python module not loaded, you already have Python loaded via conda init\n",
      "\\ Text file in IPAC table format, read with astropy\n",
      "\\ from astropy.table import QTable\n",
      "\\ QTable.read('filename.tbl', format='ascii.ipac')\n",
      "|bandpass_frequency|bandpass_weight|\n",
      "|            double|         double|\n",
      "|               GHz|               |\n",
      "|              null|           null|\n",
      "              198.0             1.0 \n",
      " 204.44444444444446             1.0 \n",
      " 210.88888888888889             1.0 \n",
      " 217.33333333333334             1.0 \n",
      " 223.77777777777777             1.0 \n",
      " 230.22222222222223             1.0 \n",
      " 236.66666666666669             1.0 \n",
      " 243.11111111111111             1.0 \n",
      " 249.55555555555554             1.0 \n",
      "              256.0             1.0 \n"
     ]
    }
   ],
   "source": [
    "cat ../instrument_model/bandpass_HFL1.tbl"
   ]
  },
  {
   "cell_type": "markdown",
   "metadata": {},
   "source": [
    "# Sensitivity from Decadal Survey Report\n",
    "\n",
    "For verification purposes we want to compare simulation results to the expected performance as detailed in the DSR.\n",
    "The DSR is available in tex format in the private Github repository: https://github.com/CMB-S4/DecadalSurveyReport\n",
    "\n",
    "Numbers extracted on 26 January 2021 from version `83d362e2301b80444ed09c29293998cf5917d899`\n",
    "\n",
    "Changed the frequency labels for LAT"
   ]
  },
  {
   "cell_type": "code",
   "execution_count": 19,
   "metadata": {},
   "outputs": [],
   "source": [
    "from io import StringIO\n",
    "import pandas as pd\n",
    "\n",
    "def parse_table(table_string):\n",
    "    \"\"\"Parse Latex table into a Pandas Dataframe\"\"\"\n",
    "    table = pd.read_csv(StringIO(table_string), sep=\"&\", index_col=0, skipinitialspace=True).T\n",
    "    table.index = pd.to_numeric(table.index.str.strip())\n",
    "    table.columns = table.columns.str.strip()\n",
    "    return table"
   ]
  },
  {
   "cell_type": "markdown",
   "metadata": {},
   "source": [
    "[SAT](https://github.com/CMB-S4/DecadalSurveyReport/blob/83d362e2301b80444ed09c29293998cf5917d899/ScienceMeasurement/sciencemeasurement.tex#L336-L344), Table `2-1`"
   ]
  },
  {
   "cell_type": "code",
   "execution_count": 20,
   "metadata": {},
   "outputs": [],
   "source": [
    "table21 = parse_table(\"\"\"Frequency & 20 & 30 & 40 & 85 & 95 & 145 & 155 & 220 & 270\n",
    "Angular resolution (arcmin) & 11.0 & 72.8 & 72.8 & 25.5 &  22.7 & 25.5 & 22.7 & 13.0 & 13.0\n",
    "Total survey weight / $10^6$ ($\\mu$K$^{-2}$) & 0.12& 0.69 & 0.43 & 11.0 & 14.1& 5.7 & 4.8 & 0.71 & 0.24\n",
    "$Q/U$ rms ($\\mu$K-arcmin)  & 8.4 & 3.5 & 4.5 & 0.88 & 0.78 & 1.2 & 1.3 & 3.5 & 6.0\"\"\")"
   ]
  },
  {
   "cell_type": "markdown",
   "metadata": {},
   "source": [
    "[Delensing survey LAT Pole](https://github.com/CMB-S4/DecadalSurveyReport/blob/master/ScienceMeasurement/sciencemeasurement.tex#L445-L448)"
   ]
  },
  {
   "cell_type": "code",
   "execution_count": 21,
   "metadata": {},
   "outputs": [],
   "source": [
    "table22 = parse_table(\"\"\"Frequency (GHz) & 20 & 27 & 39 & 93 & 145 & 225 & 278\n",
    "Angular resolution (arcmin) & 11.0 & 7.3 & 5.5 & 2.3 & 1.5 & 1.0 & 0.8\n",
    "White noise level $E$/$B$ ($\\mu$K-arcmin) & 8.4 & 5.0 & 4.5 & 0.68 & 0.96 & 5.7 & 9.8\"\"\")"
   ]
  },
  {
   "cell_type": "markdown",
   "metadata": {},
   "source": [
    "[LAT Chile](https://github.com/CMB-S4/DecadalSurveyReport/blob/master/ScienceMeasurement/sciencemeasurement.tex#L523-L530)"
   ]
  },
  {
   "cell_type": "code",
   "execution_count": 22,
   "metadata": {},
   "outputs": [],
   "source": [
    "table23 = parse_table(\"\"\"Frequency (GHz) & 27 & 39 & 93 & 145 & 225 & 278\n",
    "Angular resolution (arcmin) & 7.4 & 5.1 & 2.2 & 1.4 & 1.0 & 0.9 \n",
    "Total survey weight ($TT$)/$10^6$ [$\\mu$K$^{-2}$]  & 0.22 & 0.68 & 26.3 & 26.3 & 2.2 & 0.38 \n",
    "White noise level for $TT$ ($\\mu$K-arcmin) &21.8 &  12.4&   2.0&    2.0&    6.9&    16.7\n",
    "White noise level $E$/$B$ ($\\mu$K-arcmin) & 30.8& 17.6&   2.9&    2.8&    9.8&    23.6\"\"\")"
   ]
  },
  {
   "cell_type": "code",
   "execution_count": 23,
   "metadata": {},
   "outputs": [],
   "source": [
    "def find_nearest(array, value):\n",
    "    array = np.asarray(array)\n",
    "    idx = (np.abs(array - value)).argmin()\n",
    "    return array[idx]"
   ]
  },
  {
   "cell_type": "code",
   "execution_count": 24,
   "metadata": {},
   "outputs": [
    {
     "name": "stdout",
     "output_type": "stream",
     "text": [
      "Using 27 for 25.75 for LFL1\n",
      "Using 27 for 25.75 for LFPL1\n",
      "Using 30 instead of 26 for LFS1\n",
      "Using 40 instead of 39 for LFS2\n",
      "Using 93 for 91.5 for MFL1\n",
      "Using 145 for 148.5 for MFL2\n",
      "Using 93 for 91.5 for MFPL1\n",
      "Using 145 for 148.5 for MFPL2\n",
      "Using 225 for 227.0 for HFL1\n",
      "Using 278 for 285.5 for HFL2\n",
      "Using 225 for 227.0 for HFPL1\n",
      "Using 278 for 285.5 for HFPL2\n",
      "Using 220 instead of 227 for HFS1\n",
      "Using 270 instead of 286 for HFS2\n"
     ]
    }
   ],
   "source": [
    "for d in s4:\n",
    "    freq = int(np.round(d[\"center_frequency\"].value))\n",
    "    if d[\"telescope\"] == \"SAT\":\n",
    "        nearest_freq = find_nearest(table21.index, freq)\n",
    "        if nearest_freq != freq:\n",
    "            print(\"Using {} instead of {} for {}\".format(nearest_freq, freq, d[\"band\"]))\n",
    "            freq = nearest_freq\n",
    "        d[\"pole_pol_sensitivity_DSR\"] = table21.loc[freq][\"$Q/U$ rms ($\\mu$K-arcmin)\"] * u.uK*u.arcmin\n",
    "    else:\n",
    "        nearest_freq = find_nearest(table22.index, freq)\n",
    "        if nearest_freq != freq:\n",
    "            print(\"Using {} for {} for {}\".format(nearest_freq, d[\"center_frequency\"].value, d[\"band\"]))\n",
    "            freq = nearest_freq\n",
    "        if \"ULF\" not in d[\"band\"]: # no 20GHz in Chile\n",
    "            d[\"chile_temp_sensitivity_DSR\"] = table23.loc[freq][\"White noise level for $TT$ ($\\mu$K-arcmin)\"]* u.uK*u.arcmin\n",
    "            d[\"chile_pol_sensitivity_DSR\"] = table23.loc[freq][\"White noise level $E$/$B$ ($\\mu$K-arcmin)\"]* u.uK*u.arcmin\n",
    "        d[\"pole_pol_sensitivity_DSR\"] = table22.loc[freq][\"White noise level $E$/$B$ ($\\mu$K-arcmin)\"]* u.uK*u.arcmin"
   ]
  },
  {
   "cell_type": "markdown",
   "metadata": {},
   "source": [
    "# Create the astropy Table"
   ]
  },
  {
   "cell_type": "code",
   "execution_count": 25,
   "metadata": {},
   "outputs": [],
   "source": [
    "import astropy.units as u"
   ]
  },
  {
   "cell_type": "code",
   "execution_count": 26,
   "metadata": {},
   "outputs": [],
   "source": [
    "from astropy.table import QTable, Table"
   ]
  },
  {
   "cell_type": "code",
   "execution_count": 27,
   "metadata": {},
   "outputs": [
    {
     "data": {
      "text/plain": [
       "OrderedDict([('band', 'ULFPL1'),\n",
       "             ('telescope', 'LAT'),\n",
       "             ('center_frequency', <Quantity 20. GHz>),\n",
       "             ('fwhm', <Quantity 10. arcmin>),\n",
       "             ('detectors_per_tube', 54),\n",
       "             ('NET', <Quantity 329.2 s(1/2) uK>),\n",
       "             ('pole_pol_sensitivity_DSR', <Quantity 8.4 arcmin uK>)])"
      ]
     },
     "execution_count": 27,
     "metadata": {},
     "output_type": "execute_result"
    }
   ],
   "source": [
    "s4[0]"
   ]
  },
  {
   "cell_type": "code",
   "execution_count": 28,
   "metadata": {},
   "outputs": [],
   "source": [
    "t = QTable(rows=s4, masked=True, names=list(s4[1]))\n",
    "t.add_index(\"band\")"
   ]
  },
  {
   "cell_type": "code",
   "execution_count": 29,
   "metadata": {},
   "outputs": [
    {
     "data": {
      "text/html": [
       "<i>QTable masked=True length=21</i>\n",
       "<table id=\"table46913275514776\" class=\"table-striped table-bordered table-condensed\">\n",
       "<thead><tr><th>band</th><th>telescope</th><th>center_frequency</th><th>fwhm</th><th>detectors_per_tube</th><th>NET</th><th>chile_temp_sensitivity_DSR</th><th>chile_pol_sensitivity_DSR</th><th>pole_pol_sensitivity_DSR</th></tr></thead>\n",
       "<thead><tr><th></th><th></th><th>GHz</th><th>arcmin</th><th></th><th>s(1/2) uK</th><th>arcmin uK</th><th>arcmin uK</th><th>arcmin uK</th></tr></thead>\n",
       "<thead><tr><th>str6</th><th>str3</th><th>float64</th><th>float64</th><th>int64</th><th>float64</th><th>float64</th><th>float64</th><th>float64</th></tr></thead>\n",
       "<tr><td>ULFPL1</td><td>LAT</td><td>20.0</td><td>10.0</td><td>54</td><td>329.2</td><td>0.0</td><td>0.0</td><td>8.4</td></tr>\n",
       "<tr><td>LFL1</td><td>LAT</td><td>25.75</td><td>7.4</td><td>96</td><td>287.4</td><td>21.8</td><td>30.8</td><td>5.0</td></tr>\n",
       "<tr><td>LFL2</td><td>LAT</td><td>38.75</td><td>5.1</td><td>96</td><td>241.4</td><td>12.4</td><td>17.6</td><td>4.5</td></tr>\n",
       "<tr><td>LFPL1</td><td>LAT</td><td>25.75</td><td>7.4</td><td>96</td><td>278.6</td><td>21.8</td><td>30.8</td><td>5.0</td></tr>\n",
       "<tr><td>LFPL2</td><td>LAT</td><td>38.75</td><td>5.1</td><td>96</td><td>268.6</td><td>12.4</td><td>17.6</td><td>4.5</td></tr>\n",
       "<tr><td>LFS1</td><td>SAT</td><td>25.75</td><td>72.8</td><td>288</td><td>169.2</td><td>0.0</td><td>0.0</td><td>3.5</td></tr>\n",
       "<tr><td>LFS2</td><td>SAT</td><td>38.75</td><td>72.8</td><td>288</td><td>204.3</td><td>0.0</td><td>0.0</td><td>4.5</td></tr>\n",
       "<tr><td>MFL1</td><td>LAT</td><td>91.5</td><td>2.2</td><td>864</td><td>274.5</td><td>2.0</td><td>2.9</td><td>0.68</td></tr>\n",
       "<tr><td>MFL2</td><td>LAT</td><td>148.5</td><td>1.4</td><td>864</td><td>310.0</td><td>2.0</td><td>2.8</td><td>0.96</td></tr>\n",
       "<tr><td>MFPL1</td><td>LAT</td><td>91.5</td><td>2.2</td><td>864</td><td>285.2</td><td>2.0</td><td>2.9</td><td>0.68</td></tr>\n",
       "<tr><td>MFPL2</td><td>LAT</td><td>148.5</td><td>1.4</td><td>864</td><td>264.6</td><td>2.0</td><td>2.8</td><td>0.96</td></tr>\n",
       "<tr><td>MFLS1</td><td>SAT</td><td>85.0</td><td>25.5</td><td>3528</td><td>290.0</td><td>0.0</td><td>0.0</td><td>0.88</td></tr>\n",
       "<tr><td>MFLS2</td><td>SAT</td><td>145.0</td><td>25.5</td><td>3528</td><td>280.4</td><td>0.0</td><td>0.0</td><td>1.2</td></tr>\n",
       "<tr><td>MFHS1</td><td>SAT</td><td>95.0</td><td>22.7</td><td>3528</td><td>248.2</td><td>0.0</td><td>0.0</td><td>0.78</td></tr>\n",
       "<tr><td>MFHS2</td><td>SAT</td><td>155.1</td><td>22.7</td><td>3528</td><td>297.4</td><td>0.0</td><td>0.0</td><td>1.3</td></tr>\n",
       "<tr><td>HFL1</td><td>LAT</td><td>227.0</td><td>1.0</td><td>864</td><td>723.0</td><td>6.9</td><td>9.8</td><td>5.7</td></tr>\n",
       "<tr><td>HFL2</td><td>LAT</td><td>285.5</td><td>0.9</td><td>864</td><td>1821.5</td><td>16.7</td><td>23.6</td><td>9.8</td></tr>\n",
       "<tr><td>HFPL1</td><td>LAT</td><td>227.0</td><td>1.0</td><td>864</td><td>534.9</td><td>6.9</td><td>9.8</td><td>5.7</td></tr>\n",
       "<tr><td>HFPL2</td><td>LAT</td><td>285.5</td><td>0.9</td><td>864</td><td>1228.3</td><td>16.7</td><td>23.6</td><td>9.8</td></tr>\n",
       "<tr><td>HFS1</td><td>SAT</td><td>227.0</td><td>13.0</td><td>8592</td><td>609.1</td><td>0.0</td><td>0.0</td><td>3.5</td></tr>\n",
       "<tr><td>HFS2</td><td>SAT</td><td>285.5</td><td>13.0</td><td>8592</td><td>1434.9</td><td>0.0</td><td>0.0</td><td>6.0</td></tr>\n",
       "</table>"
      ],
      "text/plain": [
       "<QTable masked=True length=21>\n",
       " band  telescope ... chile_pol_sensitivity_DSR pole_pol_sensitivity_DSR\n",
       "                 ...         arcmin uK                arcmin uK        \n",
       " str6     str3   ...          float64                  float64         \n",
       "------ --------- ... ------------------------- ------------------------\n",
       "ULFPL1       LAT ...                       0.0                      8.4\n",
       "  LFL1       LAT ...                      30.8                      5.0\n",
       "  LFL2       LAT ...                      17.6                      4.5\n",
       " LFPL1       LAT ...                      30.8                      5.0\n",
       " LFPL2       LAT ...                      17.6                      4.5\n",
       "  LFS1       SAT ...                       0.0                      3.5\n",
       "  LFS2       SAT ...                       0.0                      4.5\n",
       "  MFL1       LAT ...                       2.9                     0.68\n",
       "  MFL2       LAT ...                       2.8                     0.96\n",
       " MFPL1       LAT ...                       2.9                     0.68\n",
       " MFPL2       LAT ...                       2.8                     0.96\n",
       " MFLS1       SAT ...                       0.0                     0.88\n",
       " MFLS2       SAT ...                       0.0                      1.2\n",
       " MFHS1       SAT ...                       0.0                     0.78\n",
       " MFHS2       SAT ...                       0.0                      1.3\n",
       "  HFL1       LAT ...                       9.8                      5.7\n",
       "  HFL2       LAT ...                      23.6                      9.8\n",
       " HFPL1       LAT ...                       9.8                      5.7\n",
       " HFPL2       LAT ...                      23.6                      9.8\n",
       "  HFS1       SAT ...                       0.0                      3.5\n",
       "  HFS2       SAT ...                       0.0                      6.0"
      ]
     },
     "execution_count": 29,
     "metadata": {},
     "output_type": "execute_result"
    }
   ],
   "source": [
    "t"
   ]
  },
  {
   "cell_type": "code",
   "execution_count": 30,
   "metadata": {},
   "outputs": [
    {
     "data": {
      "text/latex": [
       "$290 \\; \\mathrm{\\mu K\\,s^{1/2}}$"
      ],
      "text/plain": [
       "<Quantity 290. s(1/2) uK>"
      ]
     },
     "execution_count": 30,
     "metadata": {},
     "output_type": "execute_result"
    }
   ],
   "source": [
    "t.loc[\"MFLS1\"][\"NET\"]"
   ]
  },
  {
   "cell_type": "code",
   "execution_count": 31,
   "metadata": {},
   "outputs": [
    {
     "data": {
      "text/latex": [
       "$290 \\; \\mathrm{\\mu K\\,s^{1/2}}$"
      ],
      "text/plain": [
       "<Quantity 290. s(1/2) uK>"
      ]
     },
     "execution_count": 31,
     "metadata": {},
     "output_type": "execute_result"
    }
   ],
   "source": [
    "t.loc[\"MFLS1\"][\"NET\"]"
   ]
  },
  {
   "cell_type": "code",
   "execution_count": 32,
   "metadata": {},
   "outputs": [],
   "source": [
    "t.meta[\"comments\"] = ipac_warning"
   ]
  },
  {
   "cell_type": "code",
   "execution_count": 33,
   "metadata": {},
   "outputs": [],
   "source": [
    "t.write(\"../instrument_model/cmbs4_instrument_model.tbl\", format=\"ascii.ipac\", overwrite=True)"
   ]
  },
  {
   "cell_type": "code",
   "execution_count": 34,
   "metadata": {},
   "outputs": [],
   "source": [
    "c = QTable.read(\"../instrument_model/cmbs4_instrument_model.tbl\", format=\"ascii.ipac\" )"
   ]
  },
  {
   "cell_type": "code",
   "execution_count": 35,
   "metadata": {},
   "outputs": [],
   "source": [
    "c.add_index(\"band\")"
   ]
  },
  {
   "cell_type": "code",
   "execution_count": 36,
   "metadata": {},
   "outputs": [
    {
     "data": {
      "text/html": [
       "<i>Row index=5</i>\n",
       "<table id=\"table46913275543224\">\n",
       "<thead><tr><th>band</th><th>telescope</th><th>center_frequency</th><th>fwhm</th><th>detectors_per_tube</th><th>NET</th><th>chile_temp_sensitivity_DSR</th><th>chile_pol_sensitivity_DSR</th><th>pole_pol_sensitivity_DSR</th></tr></thead>\n",
       "<thead><tr><th></th><th></th><th>GHz</th><th>arcmin</th><th></th><th>s(1/2) uK</th><th>arcmin uK</th><th>arcmin uK</th><th>arcmin uK</th></tr></thead>\n",
       "<thead><tr><th>str6</th><th>str3</th><th>float64</th><th>float64</th><th>int64</th><th>float64</th><th>float64</th><th>float64</th><th>float64</th></tr></thead>\n",
       "<tr><td>LFS1</td><td>SAT</td><td>25.75</td><td>72.8</td><td>288</td><td>169.2</td><td>0.0</td><td>0.0</td><td>3.5</td></tr>\n",
       "</table>"
      ],
      "text/plain": [
       "<Row index=5>\n",
       "band telescope center_frequency   fwhm  detectors_per_tube    NET    chile_temp_sensitivity_DSR chile_pol_sensitivity_DSR pole_pol_sensitivity_DSR\n",
       "                     GHz         arcmin                    s(1/2) uK         arcmin uK                  arcmin uK                arcmin uK        \n",
       "str6    str3       float64      float64       int64         float64           float64                    float64                  float64         \n",
       "---- --------- ---------------- ------- ------------------ --------- -------------------------- ------------------------- ------------------------\n",
       "LFS1       SAT            25.75    72.8                288     169.2                        0.0                       0.0                      3.5"
      ]
     },
     "execution_count": 36,
     "metadata": {},
     "output_type": "execute_result"
    }
   ],
   "source": [
    "c.loc[\"LFS1\"]"
   ]
  },
  {
   "cell_type": "code",
   "execution_count": 37,
   "metadata": {},
   "outputs": [
    {
     "name": "stdout",
     "output_type": "stream",
     "text": [
      "Warning: Python module not loaded, you already have Python loaded via conda init\n",
      "\\ Text file in IPAC table format, read with astropy\n",
      "\\ from astropy.table import QTable\n",
      "\\ QTable.read('filename.tbl', format='ascii.ipac')\n",
      "|  band|telescope|center_frequency|  fwhm|detectors_per_tube|      NET|chile_temp_sensitivity_DSR|chile_pol_sensitivity_DSR|pole_pol_sensitivity_DSR|\n",
      "|  char|     char|          double|double|              long|   double|                    double|                   double|                  double|\n",
      "|      |         |             GHz|arcmin|                  |s(1/2) uK|                 arcmin uK|                arcmin uK|               arcmin uK|\n",
      "|  null|     null|            null|  null|              null|     null|                      null|                     null|                    null|\n",
      " ULFPL1       LAT             20.0   10.0                 54     329.2                        0.0                       0.0                      8.4 \n",
      "   LFL1       LAT            25.75    7.4                 96     287.4                       21.8                      30.8                      5.0 \n",
      "   LFL2       LAT            38.75    5.1                 96     241.4                       12.4                      17.6                      4.5 \n",
      "  LFPL1       LAT            25.75    7.4                 96     278.6                       21.8                      30.8                      5.0 \n",
      "  LFPL2       LAT            38.75    5.1                 96     268.6                       12.4                      17.6                      4.5 \n",
      "   LFS1       SAT            25.75   72.8                288     169.2                        0.0                       0.0                      3.5 \n",
      "   LFS2       SAT            38.75   72.8                288     204.3                        0.0                       0.0                      4.5 \n",
      "   MFL1       LAT             91.5    2.2                864     274.5                        2.0                       2.9                     0.68 \n",
      "   MFL2       LAT            148.5    1.4                864     310.0                        2.0                       2.8                     0.96 \n",
      "  MFPL1       LAT             91.5    2.2                864     285.2                        2.0                       2.9                     0.68 \n",
      "  MFPL2       LAT            148.5    1.4                864     264.6                        2.0                       2.8                     0.96 \n",
      "  MFLS1       SAT             85.0   25.5               3528     290.0                        0.0                       0.0                     0.88 \n",
      "  MFLS2       SAT            145.0   25.5               3528     280.4                        0.0                       0.0                      1.2 \n",
      "  MFHS1       SAT             95.0   22.7               3528     248.2                        0.0                       0.0                     0.78 \n",
      "  MFHS2       SAT            155.1   22.7               3528     297.4                        0.0                       0.0                      1.3 \n",
      "   HFL1       LAT            227.0    1.0                864     723.0                        6.9                       9.8                      5.7 \n",
      "   HFL2       LAT            285.5    0.9                864    1821.5                       16.7                      23.6                      9.8 \n",
      "  HFPL1       LAT            227.0    1.0                864     534.9                        6.9                       9.8                      5.7 \n",
      "  HFPL2       LAT            285.5    0.9                864    1228.3                       16.7                      23.6                      9.8 \n",
      "   HFS1       SAT            227.0   13.0               8592     609.1                        0.0                       0.0                      3.5 \n",
      "   HFS2       SAT            285.5   13.0               8592    1434.9                        0.0                       0.0                      6.0 \n"
     ]
    }
   ],
   "source": [
    "cat ../instrument_model/cmbs4_instrument_model.tbl"
   ]
  },
  {
   "cell_type": "code",
   "execution_count": null,
   "metadata": {},
   "outputs": [],
   "source": []
  }
 ],
 "metadata": {
  "kernelspec": {
   "display_name": "condajupynersc",
   "language": "python",
   "name": "condajupynersc"
  },
  "language_info": {
   "codemirror_mode": {
    "name": "ipython",
    "version": 3
   },
   "file_extension": ".py",
   "mimetype": "text/x-python",
   "name": "python",
   "nbconvert_exporter": "python",
   "pygments_lexer": "ipython3",
   "version": "3.7.0"
  }
 },
 "nbformat": 4,
 "nbformat_minor": 4
}
