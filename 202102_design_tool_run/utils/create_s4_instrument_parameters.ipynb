{
 "cells": [
  {
   "cell_type": "code",
   "execution_count": null,
   "metadata": {},
   "outputs": [],
   "source": [
    "import s4sim.hardware.config\n",
    "c=s4sim.hardware.config.get_example()"
   ]
  },
  {
   "cell_type": "code",
   "execution_count": null,
   "metadata": {},
   "outputs": [],
   "source": [
    "import s4sim"
   ]
  },
  {
   "cell_type": "code",
   "execution_count": null,
   "metadata": {},
   "outputs": [],
   "source": [
    "s4sim.__version__"
   ]
  },
  {
   "cell_type": "code",
   "execution_count": null,
   "metadata": {},
   "outputs": [],
   "source": [
    "c.data[\"telescopes\"][\"SAT0\"][\"fwhm\"]"
   ]
  },
  {
   "cell_type": "code",
   "execution_count": null,
   "metadata": {},
   "outputs": [],
   "source": [
    "c.data[\"telescopes\"][\"SAT3\"][\"fwhm\"].keys()"
   ]
  },
  {
   "cell_type": "code",
   "execution_count": null,
   "metadata": {},
   "outputs": [],
   "source": [
    "c.data[\"telescopes\"][\"SAT3\"].keys()"
   ]
  },
  {
   "cell_type": "code",
   "execution_count": null,
   "metadata": {},
   "outputs": [],
   "source": [
    "c.data[\"bands\"].keys()"
   ]
  },
  {
   "cell_type": "code",
   "execution_count": null,
   "metadata": {},
   "outputs": [],
   "source": [
    "c.data[\"bands\"][\"LFL1\"]"
   ]
  },
  {
   "cell_type": "code",
   "execution_count": null,
   "metadata": {},
   "outputs": [],
   "source": [
    "import numpy as np"
   ]
  },
  {
   "cell_type": "markdown",
   "metadata": {},
   "source": [
    "# NET and number of detectors per tube\n",
    "\n",
    "From the spreadsheet at https://docs.google.com/spreadsheets/d/1X0x8wYhjHdI_WPjhgbtyVlVQrX86tTgxgqEUhan2Hxg/edit?pli=1#gid=1404929524\n",
    "\n",
    "Extracted on July 2nd 2020"
   ]
  },
  {
   "cell_type": "code",
   "execution_count": null,
   "metadata": {},
   "outputs": [],
   "source": [
    "NUM_DET = {}\n",
    "SAT_NUM_DET_STRING = \"296\t296\t3556\t3556\t3556\t3556\t8594\t8594\"\n",
    "for sat_band, num_det in zip(c.data[\"telescopes\"][\"SAT3\"][\"fwhm\"].keys(), SAT_NUM_DET_STRING.split()):\n",
    "    NUM_DET[sat_band] = int(num_det)"
   ]
  },
  {
   "cell_type": "code",
   "execution_count": null,
   "metadata": {},
   "outputs": [],
   "source": [
    "NET = {}\n",
    "SAT_NET_STRING = \"177\t224\t270\t309\t238\t331\t747\t1281\"\n",
    "for band, net in zip(c.data[\"telescopes\"][\"SAT3\"][\"fwhm\"].keys(), SAT_NET_STRING.split()):\n",
    "    NET[band] = float(net)"
   ]
  },
  {
   "cell_type": "code",
   "execution_count": null,
   "metadata": {},
   "outputs": [],
   "source": [
    "LAT_NUM_DET_STRING = \"216\t384\t384\t3456\t3456\t3456\t3456\"\n",
    "for sat_band, num_det in zip(c.data[\"telescopes\"][\"LAT0\"][\"fwhm\"].keys(), LAT_NUM_DET_STRING.split()):\n",
    "    NUM_DET[sat_band] = int(num_det)"
   ]
  },
  {
   "cell_type": "code",
   "execution_count": null,
   "metadata": {},
   "outputs": [],
   "source": [
    "c.data[\"telescopes\"][\"LAT0\"][\"fwhm\"].keys()"
   ]
  },
  {
   "cell_type": "code",
   "execution_count": null,
   "metadata": {},
   "outputs": [],
   "source": [
    "LAT_NET_STRING = \"473.0\t429.0\t261.0\t305.0\t385.0\t792.0\t1990.0\"\n",
    "for band, net in zip(c.data[\"telescopes\"][\"LAT0\"][\"fwhm\"].keys(), LAT_NET_STRING.split()):\n",
    "    NET[band] = float(net)"
   ]
  },
  {
   "cell_type": "code",
   "execution_count": null,
   "metadata": {},
   "outputs": [],
   "source": [
    "\n",
    "pole_NET = {}\n",
    "pole_LAT_NET_STRING = \"473.0 445.0 320.0   347.0   374.0   664.0   1609.0\"\n",
    "for band, net in zip(list(c.data[\"telescopes\"][\"LAT0\"][\"fwhm\"].keys()), pole_LAT_NET_STRING.split()):\n",
    "    pole_NET[band] = float(net)"
   ]
  },
  {
   "cell_type": "code",
   "execution_count": null,
   "metadata": {},
   "outputs": [],
   "source": [
    "NET"
   ]
  },
  {
   "cell_type": "code",
   "execution_count": null,
   "metadata": {},
   "outputs": [],
   "source": [
    "pole_NET"
   ]
  },
  {
   "cell_type": "code",
   "execution_count": null,
   "metadata": {},
   "outputs": [],
   "source": [
    "from collections import OrderedDict\n",
    "from astropy import units as u\n",
    "from astropy.table import QTable"
   ]
  },
  {
   "cell_type": "code",
   "execution_count": null,
   "metadata": {},
   "outputs": [],
   "source": [
    "ipac_warning = [\"Text file in IPAC table format, read with astropy\",\n",
    "    \"from astropy.table import QTable\",\n",
    "    \"QTable.read('filename.tbl', format='ascii.ipac')\"]"
   ]
  },
  {
   "cell_type": "code",
   "execution_count": null,
   "metadata": {},
   "outputs": [],
   "source": [
    "s4 = []\n",
    "for i, (band, v) in enumerate(c.data[\"bands\"].items()):\n",
    "    print(\"## \" + band)\n",
    "    print(\"Bandpass [GHz] low,center,high: \", v[\"low\"], v[\"center\"], v[\"high\"])\n",
    "    try:\n",
    "        tel = \"SAT\"\n",
    "        fwhm = c.data[\"telescopes\"][tel + \"0\"][\"fwhm\"][band]\n",
    "    except:\n",
    "        tel = \"LAT\"\n",
    "        fwhm = c.data[\"telescopes\"][tel + \"0\"][\"fwhm\"][band]\n",
    "    print(\"Beam [arcmin]: \", fwhm)\n",
    "    d = OrderedDict(band=band)\n",
    "    d[\"band\"] = band\n",
    "    d[\"telescope\"] = tel\n",
    "    d[\"center_frequency\"] = v[\"center\"] * u.GHz\n",
    "    d[\"fwhm\"] = fwhm * u.arcmin\n",
    "    d[\"detectors_per_tube\"] = NUM_DET[band]\n",
    "    d[\"NET\"] = NET[band] * u.uK*u.s**.5\n",
    "    if tel == \"LAT\":\n",
    "        d[\"pole_NET\"] = pole_NET[band]* u.uK* u.s**.5\n",
    "    bandpass_table = QTable(dict(bandpass_frequency=np.linspace(v[\"low\"], v[\"high\"], 10) * u.GHz,\n",
    "    bandpass_weight=np.ones(10, dtype=np.float)))\n",
    "    bandpass_table.meta[\"comments\"] = ipac_warning\n",
    "    bandpass_table.write(f\"../instrument_model/bandpass_{band}.tbl\", format=\"ascii.ipac\", overwrite=True)\n",
    "    s4.append(d)"
   ]
  },
  {
   "cell_type": "code",
   "execution_count": null,
   "metadata": {},
   "outputs": [],
   "source": [
    "cat ../instrument_model/bandpass_HFL1.tbl"
   ]
  },
  {
   "cell_type": "markdown",
   "metadata": {},
   "source": [
    "# Sensitivity from Decadal Survey Report\n",
    "\n",
    "For verification purposes we want to compare simulation results to the expected performance as detailed in the DSR.\n",
    "The DSR is available in tex format in the private Github repository: https://github.com/CMB-S4/DecadalSurveyReport\n",
    "\n",
    "Numbers extracted on 26 January 2021 from version `83d362e2301b80444ed09c29293998cf5917d899`\n",
    "\n",
    "Changed the frequency labels for LAT"
   ]
  },
  {
   "cell_type": "code",
   "execution_count": null,
   "metadata": {},
   "outputs": [],
   "source": [
    "from io import StringIO\n",
    "import pandas as pd\n",
    "\n",
    "def parse_table(table_string):\n",
    "    \"\"\"Parse Latex table into a Pandas Dataframe\"\"\"\n",
    "    table = pd.read_csv(StringIO(table_string), sep=\"&\", index_col=0, skipinitialspace=True).T\n",
    "    table.index = pd.to_numeric(table.index.str.strip())\n",
    "    table.columns = table.columns.str.strip()\n",
    "    return table"
   ]
  },
  {
   "cell_type": "markdown",
   "metadata": {},
   "source": [
    "[SAT](https://github.com/CMB-S4/DecadalSurveyReport/blob/83d362e2301b80444ed09c29293998cf5917d899/ScienceMeasurement/sciencemeasurement.tex#L336-L344), Table `2-1`"
   ]
  },
  {
   "cell_type": "code",
   "execution_count": null,
   "metadata": {},
   "outputs": [],
   "source": [
    "table21 = parse_table(\"\"\"Frequency & 20 & 30 & 40 & 85 & 95 & 145 & 155 & 220 & 270\n",
    "Angular resolution (arcmin) & 11.0 & 72.8 & 72.8 & 25.5 &  22.7 & 25.5 & 22.7 & 13.0 & 13.0\n",
    "Total survey weight / $10^6$ ($\\mu$K$^{-2}$) & 0.12& 0.69 & 0.43 & 11.0 & 14.1& 5.7 & 4.8 & 0.71 & 0.24\n",
    "$Q/U$ rms ($\\mu$K-arcmin)  & 8.4 & 3.5 & 4.5 & 0.88 & 0.78 & 1.2 & 1.3 & 3.5 & 6.0\"\"\")"
   ]
  },
  {
   "cell_type": "markdown",
   "metadata": {},
   "source": [
    "[Delensing survey LAT Pole](https://github.com/CMB-S4/DecadalSurveyReport/blob/master/ScienceMeasurement/sciencemeasurement.tex#L445-L448)"
   ]
  },
  {
   "cell_type": "code",
   "execution_count": null,
   "metadata": {},
   "outputs": [],
   "source": [
    "table22 = parse_table(\"\"\"Frequency (GHz) & 20 & 27 & 39 & 93 & 145 & 225 & 278\n",
    "Angular resolution (arcmin) & 11.0 & 7.3 & 5.5 & 2.3 & 1.5 & 1.0 & 0.8\n",
    "White noise level $E$/$B$ ($\\mu$K-arcmin) & 8.4 & 5.0 & 4.5 & 0.68 & 0.96 & 5.7 & 9.8\"\"\")"
   ]
  },
  {
   "cell_type": "markdown",
   "metadata": {},
   "source": [
    "[LAT Chile](https://github.com/CMB-S4/DecadalSurveyReport/blob/master/ScienceMeasurement/sciencemeasurement.tex#L523-L530)"
   ]
  },
  {
   "cell_type": "code",
   "execution_count": null,
   "metadata": {},
   "outputs": [],
   "source": [
    "table23 = parse_table(\"\"\"Frequency (GHz) & 27 & 39 & 93 & 145 & 225 & 278\n",
    "Angular resolution (arcmin) & 7.4 & 5.1 & 2.2 & 1.4 & 1.0 & 0.9 \n",
    "Total survey weight ($TT$)/$10^6$ [$\\mu$K$^{-2}$]  & 0.22 & 0.68 & 26.3 & 26.3 & 2.2 & 0.38 \n",
    "White noise level for $TT$ ($\\mu$K-arcmin) &21.8 &  12.4&   2.0&    2.0&    6.9&    16.7\n",
    "White noise level $E$/$B$ ($\\mu$K-arcmin) & 30.8& 17.6&   2.9&    2.8&    9.8&    23.6\"\"\")"
   ]
  },
  {
   "cell_type": "code",
   "execution_count": null,
   "metadata": {},
   "outputs": [],
   "source": [
    "for d in s4:\n",
    "    if d[\"telescope\"] == \"SAT\":\n",
    "        d[\"pole_pol_sensitivity_DSR\"] = table21.loc[int(d[\"center_frequency\"].value)][\"$Q/U$ rms ($\\mu$K-arcmin)\"] * u.uK*u.arcmin\n",
    "    else:\n",
    "        if d[\"band\"] != \"ULFL1\": # no 20GHz in Chile\n",
    "            d[\"chile_temp_sensitivity_DSR\"] = table23.loc[int(d[\"center_frequency\"].value)][\"White noise level for $TT$ ($\\mu$K-arcmin)\"]* u.uK*u.arcmin\n",
    "            d[\"chile_pol_sensitivity_DSR\"] = table23.loc[int(d[\"center_frequency\"].value)][\"White noise level $E$/$B$ ($\\mu$K-arcmin)\"]* u.uK*u.arcmin\n",
    "        d[\"pole_pol_sensitivity_DSR\"] = table22.loc[int(d[\"center_frequency\"].value)][\"White noise level $E$/$B$ ($\\mu$K-arcmin)\"]* u.uK*u.arcmin"
   ]
  },
  {
   "cell_type": "markdown",
   "metadata": {},
   "source": [
    "# Create the astropy Table"
   ]
  },
  {
   "cell_type": "code",
   "execution_count": null,
   "metadata": {},
   "outputs": [],
   "source": [
    "import astropy.units as u"
   ]
  },
  {
   "cell_type": "code",
   "execution_count": null,
   "metadata": {},
   "outputs": [],
   "source": [
    "from astropy.table import QTable, Table"
   ]
  },
  {
   "cell_type": "code",
   "execution_count": null,
   "metadata": {},
   "outputs": [],
   "source": [
    "s4[0]"
   ]
  },
  {
   "cell_type": "code",
   "execution_count": null,
   "metadata": {},
   "outputs": [],
   "source": [
    "t = QTable(rows=s4, masked=True, names=list(s4[1]))\n",
    "t.add_index(\"band\")"
   ]
  },
  {
   "cell_type": "code",
   "execution_count": null,
   "metadata": {},
   "outputs": [],
   "source": [
    "t"
   ]
  },
  {
   "cell_type": "code",
   "execution_count": null,
   "metadata": {},
   "outputs": [],
   "source": [
    "t.loc[\"MFLS1\"][\"NET\"]"
   ]
  },
  {
   "cell_type": "code",
   "execution_count": null,
   "metadata": {},
   "outputs": [],
   "source": [
    "t.loc[\"MFLS1\"][\"NET\"]"
   ]
  },
  {
   "cell_type": "code",
   "execution_count": null,
   "metadata": {},
   "outputs": [],
   "source": [
    "t.meta[\"comments\"] = ipac_warning"
   ]
  },
  {
   "cell_type": "code",
   "execution_count": null,
   "metadata": {},
   "outputs": [],
   "source": [
    "t.write(\"../cmbs4_instrument_model.tbl\", format=\"ascii.ipac\", overwrite=True)"
   ]
  },
  {
   "cell_type": "code",
   "execution_count": null,
   "metadata": {},
   "outputs": [],
   "source": [
    "c = QTable.read(\"../cmbs4_instrument_model.tbl\", format=\"ascii.ipac\" )"
   ]
  },
  {
   "cell_type": "code",
   "execution_count": null,
   "metadata": {},
   "outputs": [],
   "source": [
    "c.add_index(\"band\")"
   ]
  },
  {
   "cell_type": "code",
   "execution_count": null,
   "metadata": {},
   "outputs": [],
   "source": [
    "c.loc[\"LFS1\"]"
   ]
  },
  {
   "cell_type": "code",
   "execution_count": null,
   "metadata": {},
   "outputs": [],
   "source": [
    "cat ../cmbs4_instrument_model.tbl"
   ]
  },
  {
   "cell_type": "code",
   "execution_count": null,
   "metadata": {},
   "outputs": [],
   "source": []
  }
 ],
 "metadata": {
  "kernelspec": {
   "display_name": "condajupynersc",
   "language": "python",
   "name": "condajupynersc"
  },
  "language_info": {
   "codemirror_mode": {
    "name": "ipython",
    "version": 3
   },
   "file_extension": ".py",
   "mimetype": "text/x-python",
   "name": "python",
   "nbconvert_exporter": "python",
   "pygments_lexer": "ipython3",
   "version": "3.7.0"
  }
 },
 "nbformat": 4,
 "nbformat_minor": 4
}
