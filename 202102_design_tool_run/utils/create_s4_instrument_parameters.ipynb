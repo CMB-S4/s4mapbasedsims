{
 "cells": [
  {
   "cell_type": "code",
   "execution_count": null,
   "metadata": {},
   "outputs": [],
   "source": [
    "import s4sim.hardware.config\n",
    "c=s4sim.hardware.config.get_example()"
   ]
  },
  {
   "cell_type": "code",
   "execution_count": null,
   "metadata": {},
   "outputs": [],
   "source": [
    "import s4sim"
   ]
  },
  {
   "cell_type": "code",
   "execution_count": null,
   "metadata": {},
   "outputs": [],
   "source": [
    "s4sim.__version__"
   ]
  },
  {
   "cell_type": "code",
   "execution_count": null,
   "metadata": {},
   "outputs": [],
   "source": [
    "c.data[\"telescopes\"][\"SAT0\"][\"fwhm\"]"
   ]
  },
  {
   "cell_type": "code",
   "execution_count": null,
   "metadata": {},
   "outputs": [],
   "source": [
    "c.data[\"telescopes\"][\"SAT3\"][\"fwhm\"].keys()"
   ]
  },
  {
   "cell_type": "code",
   "execution_count": null,
   "metadata": {},
   "outputs": [],
   "source": [
    "c.data[\"telescopes\"][\"SAT3\"].keys()"
   ]
  },
  {
   "cell_type": "code",
   "execution_count": null,
   "metadata": {},
   "outputs": [],
   "source": [
    "c.data[\"bands\"].keys()"
   ]
  },
  {
   "cell_type": "code",
   "execution_count": null,
   "metadata": {},
   "outputs": [],
   "source": [
    "c.data[\"bands\"][\"LFL1\"]"
   ]
  },
  {
   "cell_type": "code",
   "execution_count": null,
   "metadata": {},
   "outputs": [],
   "source": [
    "import h5py"
   ]
  },
  {
   "cell_type": "code",
   "execution_count": null,
   "metadata": {},
   "outputs": [],
   "source": [
    "h5py.get_config().track_order = True"
   ]
  },
  {
   "cell_type": "code",
   "execution_count": null,
   "metadata": {},
   "outputs": [],
   "source": [
    "s4 = h5py.File(\"../cmbs4_tophat.h5\", \"w\")"
   ]
  },
  {
   "cell_type": "code",
   "execution_count": null,
   "metadata": {},
   "outputs": [],
   "source": [
    "import numpy as np"
   ]
  },
  {
   "cell_type": "markdown",
   "metadata": {},
   "source": [
    "# Sensitivity from Decadal Survey Report\n",
    "\n",
    "For verification purposes we want to compare simulation results to the expected performance as detailed in the DSR.\n",
    "The DSR is available in tex format in the private Github repository: https://github.com/CMB-S4/DecadalSurveyReport\n",
    "\n",
    "Numbers extracted on 26 January 2021 from version `83d362e2301b80444ed09c29293998cf5917d899`"
   ]
  },
  {
   "cell_type": "markdown",
   "metadata": {},
   "source": [
    "[LAT Pole polarization](https://github.com/CMB-S4/DecadalSurveyReport/blob/83d362e2301b80444ed09c29293998cf5917d899/ScienceMeasurement/sciencemeasurement.tex#L336-L344)"
   ]
  },
  {
   "cell_type": "code",
   "execution_count": null,
   "metadata": {},
   "outputs": [],
   "source": [
    "\"\"\"Frequency & 20 & 30 & 40 & 85 & 95 & 145 & 155 & 220 & 270\n",
    "$Q/U$ rms ($\\mu$K-arcmin)  & 8.4 & 3.5 & 4.5 & 0.88 & 0.78 & 1.2 & 1.3 & 3.5 & 6.0\"\"\""
   ]
  },
  {
   "cell_type": "markdown",
   "metadata": {},
   "source": [
    "# NET and number of detectors per tube\n",
    "\n",
    "From the spreadsheet at https://docs.google.com/spreadsheets/d/1X0x8wYhjHdI_WPjhgbtyVlVQrX86tTgxgqEUhan2Hxg/edit?pli=1#gid=1404929524\n",
    "\n",
    "Extracted on July 2nd 2020"
   ]
  },
  {
   "cell_type": "code",
   "execution_count": null,
   "metadata": {},
   "outputs": [],
   "source": [
    "NUM_DET = {}\n",
    "SAT_NUM_DET_STRING = \"296\t296\t3556\t3556\t3556\t3556\t8594\t8594\"\n",
    "for sat_band, num_det in zip(c.data[\"telescopes\"][\"SAT3\"][\"fwhm\"].keys(), SAT_NUM_DET_STRING.split()):\n",
    "    NUM_DET[sat_band] = int(num_det)"
   ]
  },
  {
   "cell_type": "code",
   "execution_count": null,
   "metadata": {},
   "outputs": [],
   "source": [
    "NET = {}\n",
    "SAT_NET_STRING = \"177\t224\t270\t309\t238\t331\t747\t1281\"\n",
    "for band, net in zip(c.data[\"telescopes\"][\"SAT3\"][\"fwhm\"].keys(), SAT_NET_STRING.split()):\n",
    "    NET[band] = float(net)"
   ]
  },
  {
   "cell_type": "code",
   "execution_count": null,
   "metadata": {},
   "outputs": [],
   "source": [
    "LAT_NUM_DET_STRING = \"216\t384\t384\t3456\t3456\t3456\t3456\"\n",
    "for sat_band, num_det in zip(c.data[\"telescopes\"][\"LAT0\"][\"fwhm\"].keys(), LAT_NUM_DET_STRING.split()):\n",
    "    NUM_DET[sat_band] = int(num_det)"
   ]
  },
  {
   "cell_type": "code",
   "execution_count": null,
   "metadata": {},
   "outputs": [],
   "source": [
    "c.data[\"telescopes\"][\"LAT0\"][\"fwhm\"].keys()"
   ]
  },
  {
   "cell_type": "code",
   "execution_count": null,
   "metadata": {},
   "outputs": [],
   "source": [
    "LAT_NET_STRING = \"473.0\t429.0\t261.0\t305.0\t385.0\t792.0\t1990.0\"\n",
    "for band, net in zip(c.data[\"telescopes\"][\"LAT0\"][\"fwhm\"].keys(), LAT_NET_STRING.split()):\n",
    "    NET[band] = float(net)"
   ]
  },
  {
   "cell_type": "code",
   "execution_count": null,
   "metadata": {},
   "outputs": [],
   "source": [
    "\n",
    "pole_NET = {}\n",
    "pole_LAT_NET_STRING = \"473.0 445.0 320.0   347.0   374.0   664.0   1609.0\"\n",
    "for band, net in zip(list(c.data[\"telescopes\"][\"LAT0\"][\"fwhm\"].keys()), pole_LAT_NET_STRING.split()):\n",
    "    pole_NET[band] = float(net)"
   ]
  },
  {
   "cell_type": "code",
   "execution_count": null,
   "metadata": {},
   "outputs": [],
   "source": [
    "NET"
   ]
  },
  {
   "cell_type": "code",
   "execution_count": null,
   "metadata": {},
   "outputs": [],
   "source": [
    "pole_NET"
   ]
  },
  {
   "cell_type": "code",
   "execution_count": null,
   "metadata": {},
   "outputs": [],
   "source": [
    "for i, (band, v) in enumerate(c.data[\"bands\"].items()):\n",
    "    print(\"## \" + band)\n",
    "    print(\"Bandpass [GHz] low,center,high: \", v[\"low\"], v[\"center\"], v[\"high\"])\n",
    "    try:\n",
    "        tel = \"SAT\"\n",
    "        fwhm = c.data[\"telescopes\"][tel + \"0\"][\"fwhm\"][band]\n",
    "    except:\n",
    "        tel = \"LAT\"\n",
    "        fwhm = c.data[\"telescopes\"][tel + \"0\"][\"fwhm\"][band]\n",
    "    print(\"Beam [arcmin]: \", fwhm)\n",
    "    s4.create_group(band)\n",
    "    s4[band].attrs[\"band\"] = band\n",
    "    s4[band].attrs[\"telescope\"] = tel\n",
    "    s4[band].attrs[\"center_frequency_GHz\"] = v[\"center\"]\n",
    "    s4[band].attrs[\"fwhm_arcmin\"] = fwhm\n",
    "    s4[band].attrs[\"detectors_per_tube\"] = NUM_DET[band]\n",
    "    s4[band].attrs[\"NET_uKsqrts\"] = NET[band]\n",
    "    if tel == \"LAT\":\n",
    "        s4[band].attrs[\"pole_NET_uKsqrts\"] = pole_NET[band]\n",
    "    s4[band].attrs[\"index\"] = i\n",
    "    s4[band].create_dataset('bandpass_frequency_GHz', data=np.linspace(v[\"low\"], v[\"high\"], 10))\n",
    "    s4[band].create_dataset(\"bandpass_weight\", data=np.ones(10, dtype=np.float))\n",
    "    print(\"Num det per tube\", s4[band].attrs[\"detectors_per_tube\"])"
   ]
  },
  {
   "cell_type": "code",
   "execution_count": null,
   "metadata": {},
   "outputs": [],
   "source": [
    "s4.keys()"
   ]
  },
  {
   "cell_type": "code",
   "execution_count": null,
   "metadata": {},
   "outputs": [],
   "source": [
    "s4[\"MFL1\"].get(\"bandpass_frequency_GHz\")"
   ]
  },
  {
   "cell_type": "code",
   "execution_count": null,
   "metadata": {},
   "outputs": [],
   "source": [
    "s4.close()"
   ]
  },
  {
   "cell_type": "code",
   "execution_count": null,
   "metadata": {},
   "outputs": [],
   "source": [
    "pwd"
   ]
  }
 ],
 "metadata": {
  "kernelspec": {
   "display_name": "condajupynersc",
   "language": "python",
   "name": "condajupynersc"
  },
  "language_info": {
   "codemirror_mode": {
    "name": "ipython",
    "version": 3
   },
   "file_extension": ".py",
   "mimetype": "text/x-python",
   "name": "python",
   "nbconvert_exporter": "python",
   "pygments_lexer": "ipython3",
   "version": "3.7.0"
  }
 },
 "nbformat": 4,
 "nbformat_minor": 4
}
