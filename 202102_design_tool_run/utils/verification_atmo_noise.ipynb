{
 "cells": [
  {
   "cell_type": "code",
   "execution_count": null,
   "metadata": {},
   "outputs": [],
   "source": [
    "import os\n",
    "os.environ[\"OMP_NUM_THREADS\"] = \"64\""
   ]
  },
  {
   "cell_type": "code",
   "execution_count": null,
   "metadata": {},
   "outputs": [],
   "source": [
    "import healpy as hp\n",
    "import numpy as np\n",
    "%matplotlib inline\n",
    "import matplotlib.pyplot as plt\n",
    "from pathlib import Path\n",
    "from astropy.tests.helper import assert_quantity_allclose\n",
    "import pickle\n",
    "import sys\n",
    "import os\n",
    "from astropy import units as u"
   ]
  },
  {
   "cell_type": "code",
   "execution_count": null,
   "metadata": {},
   "outputs": [],
   "source": [
    "from astropy.table import QTable"
   ]
  },
  {
   "cell_type": "code",
   "execution_count": null,
   "metadata": {},
   "outputs": [],
   "source": [
    "instrument_model = QTable.read(\"instrument_model/cmbs4_instrument_model.tbl\", format=\"ascii.ipac\")\n",
    "instrument_model.add_index(\"band\")"
   ]
  },
  {
   "cell_type": "code",
   "execution_count": null,
   "metadata": {},
   "outputs": [],
   "source": [
    "instrument_model.columns"
   ]
  },
  {
   "cell_type": "code",
   "execution_count": null,
   "metadata": {},
   "outputs": [],
   "source": [
    "instrument_model.loc[\"ULFL1\"]"
   ]
  },
  {
   "cell_type": "code",
   "execution_count": null,
   "metadata": {},
   "outputs": [],
   "source": [
    "dataset = \"s4_reference_design_noise_atmo_7splits\""
   ]
  },
  {
   "cell_type": "code",
   "execution_count": null,
   "metadata": {
    "tags": [
     "parameters"
    ]
   },
   "outputs": [],
   "source": [
    "ch = f\"LAT-MFL1_pole\"\n",
    "nsplits = 1"
   ]
  },
  {
   "cell_type": "code",
   "execution_count": null,
   "metadata": {},
   "outputs": [],
   "source": [
    "#if os.path.exists(f\"plots/C_ell_{dataset}_{ch}_{nsplits}.png\"):\n",
    "#    sys.exit(0)"
   ]
  },
  {
   "cell_type": "code",
   "execution_count": null,
   "metadata": {},
   "outputs": [],
   "source": [
    "sampling_frequency = dict(SAT=100*u.Hz, LAT=400*u.Hz)"
   ]
  },
  {
   "cell_type": "code",
   "execution_count": null,
   "metadata": {},
   "outputs": [],
   "source": [
    "telescope = ch.split(\"-\")[0]\n",
    "channel, site= ch.split(\"-\")[1].split(\"_\")"
   ]
  },
  {
   "cell_type": "code",
   "execution_count": null,
   "metadata": {},
   "outputs": [],
   "source": [
    "local_path = Path(\"../202006_reference_design/output\")\n",
    "project_path = Path(\"/global/project/projectdirs/cmbs4/dm/dstool/output/\")"
   ]
  },
  {
   "cell_type": "code",
   "execution_count": null,
   "metadata": {},
   "outputs": [],
   "source": [
    "C_ell = pickle.load(open(local_path/ dataset / f\"C_ell_{telescope}_{nsplits}.pkl\", \"rb\"))"
   ]
  },
  {
   "cell_type": "code",
   "execution_count": null,
   "metadata": {},
   "outputs": [],
   "source": [
    "telescope, channel, site"
   ]
  },
  {
   "cell_type": "code",
   "execution_count": null,
   "metadata": {},
   "outputs": [],
   "source": [
    "C_ell.keys()"
   ]
  },
  {
   "cell_type": "code",
   "execution_count": null,
   "metadata": {},
   "outputs": [],
   "source": [
    "nside = 4096 if telescope == \"LAT\" else 512"
   ]
  },
  {
   "cell_type": "code",
   "execution_count": null,
   "metadata": {},
   "outputs": [],
   "source": [
    "%ls output/s4_reference_design_noise_atmo_7splits"
   ]
  },
  {
   "cell_type": "code",
   "execution_count": null,
   "metadata": {},
   "outputs": [],
   "source": [
    "%ls output/s4_reference_design_noise_atmo_7splits/$ch"
   ]
  },
  {
   "cell_type": "code",
   "execution_count": null,
   "metadata": {},
   "outputs": [],
   "source": [
    "from s4_design_sim_tool.cli import parse_config\n",
    "config = parse_config(f\"../202006_reference_design/{dataset}.toml\")"
   ]
  },
  {
   "cell_type": "code",
   "execution_count": null,
   "metadata": {},
   "outputs": [],
   "source": [
    "hitmap = hp.read_map(project_path / dataset / ch / f\"cmbs4_hitmap_{ch}_nside{nside}_1_of_{nsplits}.fits\")"
   ]
  },
  {
   "cell_type": "code",
   "execution_count": null,
   "metadata": {},
   "outputs": [],
   "source": [
    "from s4_design_sim_tool.noise import get_tube_years\n",
    "tube_years = get_tube_years(config, site, channel)\n",
    "tube_years"
   ]
  },
  {
   "cell_type": "code",
   "execution_count": null,
   "metadata": {},
   "outputs": [],
   "source": [
    "sampling_rate = hitmap.sum()\n",
    "sampling_rate /= 365.25 * 24 * 3600\n",
    "sampling_rate /= tube_years * config[\"experiment\"][\"observing_efficiency\"]\n",
    "sampling_rate /= instrument_model.loc[channel][\"detectors_per_tube\"]\n",
    "sampling_rate *= nsplits\n",
    "sampling_rate"
   ]
  },
  {
   "cell_type": "code",
   "execution_count": null,
   "metadata": {},
   "outputs": [],
   "source": [
    "np.testing.assert_allclose(sampling_rate, sampling_frequency[telescope].value, rtol=1/100)"
   ]
  },
  {
   "cell_type": "code",
   "execution_count": null,
   "metadata": {},
   "outputs": [],
   "source": [
    "log_hitmap = np.log10(hitmap)\n",
    "log_hitmap[np.isinf(log_hitmap)] = hp.UNSEEN\n",
    "hp.mollview(log_hitmap, unit=\"log10(samples)\", title=f\"Hitmap {ch}\")\n",
    "plt.savefig(f\"plots/hitmap_{channel}_{site}_1_of_{nsplits}.png\")"
   ]
  },
  {
   "cell_type": "code",
   "execution_count": null,
   "metadata": {},
   "outputs": [],
   "source": [
    "del hitmap, log_hitmap"
   ]
  },
  {
   "cell_type": "code",
   "execution_count": null,
   "metadata": {},
   "outputs": [],
   "source": [
    "wcov_filename = project_path / dataset / ch / f\"cmbs4_wcov_{ch}_nside{nside}_1_of_{nsplits}.fits\""
   ]
  },
  {
   "cell_type": "code",
   "execution_count": null,
   "metadata": {},
   "outputs": [],
   "source": [
    "import healpy as hp\n",
    "import numpy as np\n",
    "\n",
    "def build_inverse_cov_weights(wcov_filename):\n",
    "    \"\"\"Build inverse variance weights for polarization from covariance matrices\"\"\"\n",
    "    wcov = hp.ma(hp.read_map(wcov_filename, (0, 3, 4, 5)))\n",
    "    pol_weights = 2/(wcov[1] + wcov[3] + 2*wcov[2])\n",
    "    pol_weights = pol_weights.filled(0)\n",
    "    temp_weights = (1/wcov[0]).filled(0)\n",
    "    assert np.all(np.isfinite(pol_weights))\n",
    "    pixarea = hp.nside2pixarea(hp.npix2nside(wcov.shape[1]))\n",
    "    noise_cl = np.average(wcov, weights=pol_weights**2, axis=1) * pixarea\n",
    "    noise_cl[0] = np.average(wcov[0], weights=1/wcov[0]**2) * pixarea\n",
    "    return temp_weights, pol_weights, noise_cl"
   ]
  },
  {
   "cell_type": "code",
   "execution_count": null,
   "metadata": {},
   "outputs": [],
   "source": [
    "temp_weights, pol_weights, noise_cl = build_inverse_cov_weights(wcov_filename)"
   ]
  },
  {
   "cell_type": "code",
   "execution_count": null,
   "metadata": {},
   "outputs": [],
   "source": [
    "noise_cl"
   ]
  },
  {
   "cell_type": "code",
   "execution_count": null,
   "metadata": {},
   "outputs": [],
   "source": [
    "noise_cl = noise_cl[[True,True,False,True]]"
   ]
  },
  {
   "cell_type": "code",
   "execution_count": null,
   "metadata": {},
   "outputs": [],
   "source": [
    "import astropy.units as u"
   ]
  },
  {
   "cell_type": "code",
   "execution_count": null,
   "metadata": {},
   "outputs": [],
   "source": [
    "channel_NET = instrument_model.loc[channel][\"NET\"]"
   ]
  },
  {
   "cell_type": "code",
   "execution_count": null,
   "metadata": {},
   "outputs": [],
   "source": [
    "if telescope == \"LAT\" and site==\"pole\":\n",
    "    channel_NET = instrument_model.loc[channel][\"pole_NET\"]"
   ]
  },
  {
   "cell_type": "markdown",
   "metadata": {},
   "source": [
    "## Atmosphere"
   ]
  },
  {
   "cell_type": "code",
   "execution_count": null,
   "metadata": {},
   "outputs": [],
   "source": [
    "from s4_design_sim_tool.core import base_folder\n",
    "atmosphere_filename = Path(base_folder) / \"00000000\" / f\"{site}_atmosphere_{telescope}_{channel}_filtered_telescope_all_time_all_bmap.fits\""
   ]
  },
  {
   "cell_type": "code",
   "execution_count": null,
   "metadata": {},
   "outputs": [],
   "source": [
    "input_atmophere = hp.ma(hp.read_map(atmosphere_filename, (0,1,2)))"
   ]
  },
  {
   "cell_type": "code",
   "execution_count": null,
   "metadata": {},
   "outputs": [],
   "source": [
    "input_atmophere[1:] *= pol_weights"
   ]
  },
  {
   "cell_type": "code",
   "execution_count": null,
   "metadata": {},
   "outputs": [],
   "source": [
    "input_atmophere[0] *= temp_weights"
   ]
  },
  {
   "cell_type": "code",
   "execution_count": null,
   "metadata": {},
   "outputs": [],
   "source": [
    "atmo_cl = \\\n",
    "hp.anafast(input_atmophere, use_pixel_weights=True) \n",
    "atmo_cl[0] /= np.mean(temp_weights**2)\n",
    "atmo_cl[1:] /= np.mean(pol_weights**2) # anyway we don't use TE TB"
   ]
  },
  {
   "cell_type": "code",
   "execution_count": null,
   "metadata": {},
   "outputs": [],
   "source": [
    "atmo_cl.shape"
   ]
  },
  {
   "cell_type": "code",
   "execution_count": null,
   "metadata": {},
   "outputs": [],
   "source": [
    "from s4_design_sim_tool.atmosphere import get_telecope_years"
   ]
  },
  {
   "cell_type": "code",
   "execution_count": null,
   "metadata": {},
   "outputs": [],
   "source": [
    "telescope_years = get_telecope_years(config, site, channel)"
   ]
  },
  {
   "cell_type": "code",
   "execution_count": null,
   "metadata": {},
   "outputs": [],
   "source": [
    "telescope_years"
   ]
  },
  {
   "cell_type": "code",
   "execution_count": null,
   "metadata": {},
   "outputs": [],
   "source": [
    "from s4_design_sim_tool.core import simulations_observing_efficiency"
   ]
  },
  {
   "cell_type": "code",
   "execution_count": null,
   "metadata": {},
   "outputs": [],
   "source": [
    "simulations_observing_efficiency"
   ]
  },
  {
   "cell_type": "code",
   "execution_count": null,
   "metadata": {},
   "outputs": [],
   "source": [
    "atmo_cl *= 10 / 365.25\n",
    "atmo_cl *= simulations_observing_efficiency[site.lower()].get(telescope, 1) / config[\"experiment\"][\"observing_efficiency\"]                                                                    \n",
    "atmo_cl /= telescope_years"
   ]
  },
  {
   "cell_type": "code",
   "execution_count": null,
   "metadata": {},
   "outputs": [],
   "source": [
    "del input_atmophere"
   ]
  },
  {
   "cell_type": "markdown",
   "metadata": {},
   "source": [
    "## Generate summary plot"
   ]
  },
  {
   "cell_type": "code",
   "execution_count": null,
   "metadata": {},
   "outputs": [],
   "source": [
    "plt.style.use(\"seaborn-poster\")"
   ]
  },
  {
   "cell_type": "code",
   "execution_count": null,
   "metadata": {},
   "outputs": [],
   "source": [
    "noise_cl"
   ]
  },
  {
   "cell_type": "code",
   "execution_count": null,
   "metadata": {},
   "outputs": [],
   "source": [
    "((instrument_model.loc[channel][f\"{site}_{pol}_sensitivity_DSR\"])**2).to_value(\n",
    "    u.K**2 * u.radian**2)\n"
   ]
  },
  {
   "cell_type": "code",
   "execution_count": null,
   "metadata": {},
   "outputs": [],
   "source": [
    "\n",
    "for pols in [[(0, \"TT\")] , [(1, \"EE\"), (2, \"BB\")]]:\n",
    "    label = \"temp\" if pols[0][1] == \"TT\" else \"pol\"\n",
    "    plt.figure()\n",
    "    \n",
    "    try:\n",
    "        noise_dsr = ((instrument_model.loc[channel][f\"{site}_{label}_sensitivity_DSR\"])**2).to_value(u.K**2 * u.radian**2)\n",
    "    except KeyError as e:\n",
    "        print(\"Missing value\", e)\n",
    "        noise_dsr = None\n",
    "    \n",
    "    for i, pol in pols:\n",
    "        for split in range(1, nsplits+1):\n",
    "            high_ell = C_ell[ch][split][i][1000:].mean()\n",
    "            compare_wcov =  high_ell / noise_cl[i] * 100 - 100\n",
    "            compare_dsr = 0 if noise_dsr is None else (high_ell / noise_dsr * 100 - 100)\n",
    "            compare = \"\" if compare_wcov > 100 else f\"({compare_wcov:+.1f}% of wcov, {compare_dsr:+.1f}% of DSR)\"\n",
    "            plt.loglog(C_ell[ch][split][i], alpha=.8, label=pol + compare)\n",
    "\n",
    "    for i, pol in pols:\n",
    "        plt.loglog(atmo_cl[i]*nsplits, alpha=.8, ls=\"--\", label=f\"atmo {pol}\")\n",
    "\n",
    "    for i, pol in pols:\n",
    "        plt.axhline(noise_cl[i], alpha=.8, ls=\"-.\", color=\"gray\", label=f\"noise from wcov {pol}\")\n",
    "\n",
    "    if noise_dsr is not None:\n",
    "        plt.axhline(noise_dsr, ls=\":\",\n",
    "           label=f\"white noise {label} from DSR\", color=\"purple\", alpha=.5)\n",
    "\n",
    "    plt.legend()\n",
    "    plt.title(f\"Noise + Atmosphere simulations spectra for {ch}, {label}\")\n",
    "    plt.ylabel(\"$C_\\ell [K^2]$\")\n",
    "    plt.xlabel(\"$\\ell$\")\n",
    "    plt.xlim((10, 3*nside))\n",
    "    plt.grid(True)\n",
    "    plt.savefig(f\"plots/C_ell_{dataset}_{ch}_{nsplits}_{label}.png\");"
   ]
  },
  {
   "cell_type": "code",
   "execution_count": null,
   "metadata": {},
   "outputs": [],
   "source": []
  }
 ],
 "metadata": {
  "kernelspec": {
   "display_name": "condajupynersc",
   "language": "python",
   "name": "condajupynersc"
  },
  "language_info": {
   "codemirror_mode": {
    "name": "ipython",
    "version": 3
   },
   "file_extension": ".py",
   "mimetype": "text/x-python",
   "name": "python",
   "nbconvert_exporter": "python",
   "pygments_lexer": "ipython3",
   "version": "3.7.0"
  }
 },
 "nbformat": 4,
 "nbformat_minor": 4
}
