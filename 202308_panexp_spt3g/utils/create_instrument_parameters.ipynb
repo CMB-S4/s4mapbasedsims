{
 "cells": [
  {
   "cell_type": "markdown",
   "metadata": {
    "tags": []
   },
   "source": [
    "from https://arxiv.org/pdf/2106.11202.pdf, Table 6"
   ]
  },
  {
   "cell_type": "code",
   "execution_count": null,
   "metadata": {
    "tags": []
   },
   "outputs": [],
   "source": [
    "import pysm3.units as u"
   ]
  },
  {
   "cell_type": "code",
   "execution_count": null,
   "metadata": {
    "tags": []
   },
   "outputs": [],
   "source": [
    "fwhm = [1.57, 1.17, 1.04] * u.arcmin"
   ]
  },
  {
   "cell_type": "code",
   "execution_count": null,
   "metadata": {
    "tags": []
   },
   "outputs": [],
   "source": [
    "freqs = [93.8, 147.0, 219.9] * u.GHz"
   ]
  },
  {
   "cell_type": "code",
   "execution_count": null,
   "metadata": {
    "tags": []
   },
   "outputs": [],
   "source": [
    "bandwidth = [26.4, 32.5, 53.6] * u.GHz"
   ]
  },
  {
   "cell_type": "code",
   "execution_count": null,
   "metadata": {
    "tags": []
   },
   "outputs": [],
   "source": [
    "import numpy as np"
   ]
  },
  {
   "cell_type": "code",
   "execution_count": null,
   "metadata": {
    "tags": []
   },
   "outputs": [],
   "source": [
    "from collections import OrderedDict\n",
    "from astropy import units as u\n",
    "from astropy.table import QTable"
   ]
  },
  {
   "cell_type": "code",
   "execution_count": null,
   "metadata": {
    "tags": []
   },
   "outputs": [],
   "source": [
    "ipac_warning = [\n",
    "    \"Text file in IPAC table format, read with astropy\",\n",
    "    \"from astropy.table import QTable\",\n",
    "    \"QTable.read('filename.tbl', format='ascii.ipac')\",\n",
    "    f\"Instrument model exported from `Arxiv 2106.11202` and from files by Tom Crawford\",\n",
    "]"
   ]
  },
  {
   "cell_type": "code",
   "execution_count": null,
   "metadata": {
    "tags": []
   },
   "outputs": [],
   "source": [
    "bands = [\"95ghz\", \"150ghz\", \"220ghz\"]"
   ]
  },
  {
   "cell_type": "code",
   "execution_count": null,
   "metadata": {
    "tags": []
   },
   "outputs": [],
   "source": [
    "table = QTable(\n",
    "    data=[bands, freqs, fwhm, bandwidth],\n",
    "    names=[\"band\", \"center_frequency\", \"fwhm\", \"bandwidth\"],\n",
    ")"
   ]
  },
  {
   "cell_type": "code",
   "execution_count": null,
   "metadata": {},
   "outputs": [],
   "source": [
    "for key in [\"bandpass\", \"beam\"]:\n",
    "    table[f\"{key}_file\"] = [f\"{key}_{tag}.tbl\" for tag in bands]"
   ]
  },
  {
   "cell_type": "code",
   "execution_count": null,
   "metadata": {
    "tags": []
   },
   "outputs": [],
   "source": [
    "table[\"nside\"] = 0\n",
    "table"
   ]
  },
  {
   "cell_type": "code",
   "execution_count": null,
   "metadata": {
    "tags": []
   },
   "outputs": [],
   "source": [
    "table.add_index(\"band\")"
   ]
  },
  {
   "cell_type": "code",
   "execution_count": null,
   "metadata": {
    "tags": []
   },
   "outputs": [],
   "source": [
    "cd ../../private/202308_panexp_spt3g"
   ]
  },
  {
   "cell_type": "code",
   "execution_count": null,
   "metadata": {
    "tags": []
   },
   "outputs": [],
   "source": [
    "table.meta[\"comments\"] = ipac_warning"
   ]
  },
  {
   "cell_type": "code",
   "execution_count": null,
   "metadata": {
    "tags": []
   },
   "outputs": [],
   "source": [
    "table.write(\n",
    "    \"spt_instrument_model.tbl\",\n",
    "    format=\"ascii.ipac\",\n",
    "    overwrite=True,\n",
    ")"
   ]
  },
  {
   "cell_type": "markdown",
   "metadata": {},
   "source": [
    "## Bandpasses"
   ]
  },
  {
   "cell_type": "code",
   "execution_count": null,
   "metadata": {
    "tags": []
   },
   "outputs": [],
   "source": [
    "%cd ../../private/202308_panexp_spt3g/"
   ]
  },
  {
   "cell_type": "code",
   "execution_count": null,
   "metadata": {
    "tags": []
   },
   "outputs": [],
   "source": [
    "bandpass = {}\n",
    "for freq in bands:\n",
    "    bandpass[freq] = QTable.read(f\"bandpass_{freq.lower()}.txt\", format=\"ascii\")\n",
    "    bandpass[freq].rename_column(\"freq\", \"bandpass_frequency\")\n",
    "    bandpass[freq][\"bandpass_frequency\"].unit = u.GHz\n",
    "    bandpass[freq].rename_column(\"spectrum\", \"bandpass_weight\")\n",
    "    bandpass[freq].meta[\"comments\"] = ipac_warning\n",
    "    bandpass[freq].write(f\"bandpass_{freq}.tbl\", format=\"ascii.ipac\", overwrite=True)"
   ]
  },
  {
   "cell_type": "markdown",
   "metadata": {},
   "source": [
    "## Beams"
   ]
  },
  {
   "cell_type": "code",
   "execution_count": null,
   "metadata": {
    "tags": []
   },
   "outputs": [],
   "source": [
    "beams = QTable.read(\"compiled_2020_beams.txt\", format=\"ascii\", names=[\"ell\"]+bands)"
   ]
  },
  {
   "cell_type": "code",
   "execution_count": null,
   "metadata": {
    "tags": []
   },
   "outputs": [],
   "source": [
    "beam = {}\n",
    "for freq in bands:\n",
    "    beam[freq] = QTable(data=[beams[\"ell\"], beams[str(freq)]], names=[\"ell\", \"B\"])\n",
    "    beam[freq][\"B\"] /= np.max(beam[freq][\"B\"]) \n",
    "    beam[freq].meta[\"comments\"] = ipac_warning\n",
    "    beam[freq].write(f\"beam_{freq}.tbl\", format=\"ascii.ipac\", overwrite=True)"
   ]
  }
 ],
 "metadata": {
  "kernelspec": {
   "display_name": "so",
   "language": "python",
   "name": "python3"
  },
  "language_info": {
   "codemirror_mode": {
    "name": "ipython",
    "version": 3
   },
   "file_extension": ".py",
   "mimetype": "text/x-python",
   "name": "python",
   "nbconvert_exporter": "python",
   "pygments_lexer": "ipython3",
   "version": "3.10.0"
  }
 },
 "nbformat": 4,
 "nbformat_minor": 4
}
