{
 "cells": [
  {
   "cell_type": "markdown",
   "metadata": {
    "tags": []
   },
   "source": [
    "from https://arxiv.org/pdf/2106.11202.pdf, Table 6"
   ]
  },
  {
   "cell_type": "code",
   "execution_count": 1,
   "metadata": {
    "tags": []
   },
   "outputs": [
    {
     "name": "stderr",
     "output_type": "stream",
     "text": [
      "\n",
      "WARNING: version mismatch between CFITSIO header (v3.47) and linked library (v4.02).\n",
      "\n",
      "\n",
      "WARNING: version mismatch between CFITSIO header (v3.47) and linked library (v4.02).\n",
      "\n",
      "\n",
      "WARNING: version mismatch between CFITSIO header (v3.47) and linked library (v4.02).\n",
      "\n"
     ]
    }
   ],
   "source": [
    "import pysm3.units as u"
   ]
  },
  {
   "cell_type": "code",
   "execution_count": 2,
   "metadata": {
    "tags": []
   },
   "outputs": [],
   "source": [
    "fwhm = [1.57, 1.17, 1.04] * u.arcmin"
   ]
  },
  {
   "cell_type": "code",
   "execution_count": 3,
   "metadata": {
    "tags": []
   },
   "outputs": [],
   "source": [
    "freqs = [93.8, 147.0, 219.9] * u.GHz"
   ]
  },
  {
   "cell_type": "code",
   "execution_count": 4,
   "metadata": {
    "tags": []
   },
   "outputs": [],
   "source": [
    "bandwidth = [26.4, 32.5, 53.6] * u.GHz"
   ]
  },
  {
   "cell_type": "code",
   "execution_count": 5,
   "metadata": {
    "tags": []
   },
   "outputs": [],
   "source": [
    "import numpy as np"
   ]
  },
  {
   "cell_type": "code",
   "execution_count": 6,
   "metadata": {
    "tags": []
   },
   "outputs": [],
   "source": [
    "from collections import OrderedDict\n",
    "from astropy import units as u\n",
    "from astropy.table import QTable"
   ]
  },
  {
   "cell_type": "code",
   "execution_count": 7,
   "metadata": {
    "tags": []
   },
   "outputs": [],
   "source": [
    "ipac_warning = [\n",
    "    \"Text file in IPAC table format, read with astropy\",\n",
    "    \"from astropy.table import QTable\",\n",
    "    \"QTable.read('filename.tbl', format='ascii.ipac')\",\n",
    "    f\"Instrument model exported from `Arxiv 2106.11202` and from files by Tom Crawford\",\n",
    "]"
   ]
  },
  {
   "cell_type": "code",
   "execution_count": 8,
   "metadata": {
    "tags": []
   },
   "outputs": [],
   "source": [
    "bands = [\"95ghz\", \"150ghz\", \"220ghz\"]"
   ]
  },
  {
   "cell_type": "code",
   "execution_count": 9,
   "metadata": {
    "tags": []
   },
   "outputs": [],
   "source": [
    "table = QTable(\n",
    "    data=[bands, freqs, fwhm, bandwidth],\n",
    "    names=[\"band\", \"center_frequency\", \"fwhm\", \"bandwidth\"],\n",
    ")"
   ]
  },
  {
   "cell_type": "code",
   "execution_count": 10,
   "metadata": {},
   "outputs": [],
   "source": [
    "for key in [\"bandpass\", \"beam\"]:\n",
    "    table[f\"{key}_file\"] = [f\"{key}_{tag}.tbl\" for tag in bands]"
   ]
  },
  {
   "cell_type": "code",
   "execution_count": 11,
   "metadata": {
    "tags": []
   },
   "outputs": [
    {
     "data": {
      "text/html": [
       "<div><i>QTable length=3</i>\n",
       "<table id=\"table23448752642640\" class=\"table-striped table-bordered table-condensed\">\n",
       "<thead><tr><th>band</th><th>center_frequency</th><th>fwhm</th><th>bandwidth</th><th>bandpass_file</th><th>beam_file</th><th>nside</th></tr></thead>\n",
       "<thead><tr><th></th><th>GHz</th><th>arcmin</th><th>GHz</th><th></th><th></th><th></th></tr></thead>\n",
       "<thead><tr><th>str6</th><th>float64</th><th>float64</th><th>float64</th><th>str19</th><th>str15</th><th>int64</th></tr></thead>\n",
       "<tr><td>95ghz</td><td>93.8</td><td>1.57</td><td>26.4</td><td>bandpass_95ghz.tbl</td><td>beam_95ghz.tbl</td><td>0</td></tr>\n",
       "<tr><td>150ghz</td><td>147.0</td><td>1.17</td><td>32.5</td><td>bandpass_150ghz.tbl</td><td>beam_150ghz.tbl</td><td>0</td></tr>\n",
       "<tr><td>220ghz</td><td>219.9</td><td>1.04</td><td>53.6</td><td>bandpass_220ghz.tbl</td><td>beam_220ghz.tbl</td><td>0</td></tr>\n",
       "</table></div>"
      ],
      "text/plain": [
       "<QTable length=3>\n",
       " band  center_frequency   fwhm  ...    bandpass_file       beam_file    nside\n",
       "             GHz         arcmin ...                                          \n",
       " str6      float64      float64 ...        str19             str15      int64\n",
       "------ ---------------- ------- ... ------------------- --------------- -----\n",
       " 95ghz             93.8    1.57 ...  bandpass_95ghz.tbl  beam_95ghz.tbl     0\n",
       "150ghz            147.0    1.17 ... bandpass_150ghz.tbl beam_150ghz.tbl     0\n",
       "220ghz            219.9    1.04 ... bandpass_220ghz.tbl beam_220ghz.tbl     0"
      ]
     },
     "execution_count": 11,
     "metadata": {},
     "output_type": "execute_result"
    }
   ],
   "source": [
    "table[\"nside\"] = 0\n",
    "table"
   ]
  },
  {
   "cell_type": "code",
   "execution_count": 12,
   "metadata": {
    "tags": []
   },
   "outputs": [],
   "source": [
    "table.add_index(\"band\")"
   ]
  },
  {
   "cell_type": "code",
   "execution_count": 13,
   "metadata": {
    "tags": []
   },
   "outputs": [
    {
     "name": "stdout",
     "output_type": "stream",
     "text": [
      "/mnt/home/azonca/p/software/s4mapbasedsims/private/202308_panexp_spt3g\n"
     ]
    }
   ],
   "source": [
    "cd ../../private/202308_panexp_spt3g"
   ]
  },
  {
   "cell_type": "code",
   "execution_count": 14,
   "metadata": {
    "tags": []
   },
   "outputs": [],
   "source": [
    "table.meta[\"comments\"] = ipac_warning"
   ]
  },
  {
   "cell_type": "code",
   "execution_count": 15,
   "metadata": {
    "tags": []
   },
   "outputs": [
    {
     "name": "stderr",
     "output_type": "stream",
     "text": [
      "WARNING: Comment string > 78 characters was automatically wrapped. [astropy.io.ascii.ipac]\n"
     ]
    }
   ],
   "source": [
    "table.write(\n",
    "    \"spt_instrument_model.tbl\",\n",
    "    format=\"ascii.ipac\",\n",
    "    overwrite=True,\n",
    ")"
   ]
  },
  {
   "cell_type": "markdown",
   "metadata": {},
   "source": [
    "## Bandpasses"
   ]
  },
  {
   "cell_type": "code",
   "execution_count": 16,
   "metadata": {
    "tags": []
   },
   "outputs": [],
   "source": [
    "!cd ../../private/202308_panexp_spt3g/"
   ]
  },
  {
   "cell_type": "code",
   "execution_count": 17,
   "metadata": {
    "tags": []
   },
   "outputs": [],
   "source": [
    "bandpass = {}\n",
    "for freq in bands:\n",
    "    bandpass[freq] = QTable.read(f\"bandpass_{freq.lower()}.txt\", format=\"ascii\")\n",
    "    bandpass[freq].rename_column(\"freq\", \"bandpass_frequency\")\n",
    "    bandpass[freq].rename_column(\"spectrum\", \"bandpass_weight\")\n",
    "    bandpass[freq].meta[\"comments\"] = ipac_warning\n",
    "    bandpass[freq].write(f\"bandpass_{freq}.tbl\", format=\"ascii.ipac\", overwrite=True)"
   ]
  },
  {
   "cell_type": "markdown",
   "metadata": {},
   "source": [
    "## Beams"
   ]
  },
  {
   "cell_type": "code",
   "execution_count": 18,
   "metadata": {
    "tags": []
   },
   "outputs": [],
   "source": [
    "beams = QTable.read(\"compiled_2020_beams.txt\", format=\"ascii\", names=[\"ell\"]+bands)"
   ]
  },
  {
   "cell_type": "code",
   "execution_count": 19,
   "metadata": {
    "tags": []
   },
   "outputs": [],
   "source": [
    "beam = {}\n",
    "for freq in bands:\n",
    "    beam[freq] = QTable(data=[beams[\"ell\"], beams[str(freq)]], names=[\"ell\", \"B\"])\n",
    "    beam[freq].meta[\"comments\"] = ipac_warning\n",
    "    beam[freq].write(f\"beam_{freq}.tbl\", format=\"ascii.ipac\", overwrite=True)"
   ]
  }
 ],
 "metadata": {
  "kernelspec": {
   "display_name": "so",
   "language": "python",
   "name": "so"
  },
  "language_info": {
   "codemirror_mode": {
    "name": "ipython",
    "version": 3
   },
   "file_extension": ".py",
   "mimetype": "text/x-python",
   "name": "python",
   "nbconvert_exporter": "python",
   "pygments_lexer": "ipython3",
   "version": "3.10.0"
  }
 },
 "nbformat": 4,
 "nbformat_minor": 4
}
