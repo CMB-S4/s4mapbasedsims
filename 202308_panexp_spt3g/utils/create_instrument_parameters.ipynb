{
 "cells": [
  {
   "cell_type": "markdown",
   "metadata": {
    "tags": []
   },
   "source": [
    "from https://arxiv.org/pdf/2106.11202.pdf, Table 6"
   ]
  },
  {
   "cell_type": "code",
   "execution_count": 1,
   "metadata": {
    "tags": []
   },
   "outputs": [
    {
     "name": "stderr",
     "output_type": "stream",
     "text": [
      "\n",
      "WARNING: version mismatch between CFITSIO header (v3.47) and linked library (v4.02).\n",
      "\n",
      "\n",
      "WARNING: version mismatch between CFITSIO header (v3.47) and linked library (v4.02).\n",
      "\n",
      "\n",
      "WARNING: version mismatch between CFITSIO header (v3.47) and linked library (v4.02).\n",
      "\n"
     ]
    }
   ],
   "source": [
    "import pysm3.units as u"
   ]
  },
  {
   "cell_type": "code",
   "execution_count": 2,
   "metadata": {
    "tags": []
   },
   "outputs": [],
   "source": [
    "fwhm = [1.57, 1.17, 1.04] * u.arcmin"
   ]
  },
  {
   "cell_type": "code",
   "execution_count": 3,
   "metadata": {
    "tags": []
   },
   "outputs": [],
   "source": [
    "freqs = [93.8, 147.0, 219.9] * u.GHz"
   ]
  },
  {
   "cell_type": "code",
   "execution_count": 4,
   "metadata": {
    "tags": []
   },
   "outputs": [],
   "source": [
    "bandwidth = [26.4, 32.5, 53.6] * u.GHz"
   ]
  },
  {
   "cell_type": "code",
   "execution_count": 5,
   "metadata": {
    "tags": []
   },
   "outputs": [],
   "source": [
    "import numpy as np"
   ]
  },
  {
   "cell_type": "code",
   "execution_count": 6,
   "metadata": {
    "tags": []
   },
   "outputs": [],
   "source": [
    "from collections import OrderedDict\n",
    "from astropy import units as u\n",
    "from astropy.table import QTable"
   ]
  },
  {
   "cell_type": "code",
   "execution_count": 7,
   "metadata": {
    "tags": []
   },
   "outputs": [],
   "source": [
    "ipac_warning = [\n",
    "    \"Text file in IPAC table format, read with astropy\",\n",
    "    \"from astropy.table import QTable\",\n",
    "    \"QTable.read('filename.tbl', format='ascii.ipac')\",\n",
    "    f\"Instrument model exported from `Arxiv 2106.11202`\",\n",
    "]"
   ]
  },
  {
   "cell_type": "code",
   "execution_count": 8,
   "metadata": {
    "tags": []
   },
   "outputs": [],
   "source": [
    "band = [\"95GHz\", \"150GHz\", \"220GHz\"]"
   ]
  },
  {
   "cell_type": "code",
   "execution_count": 9,
   "metadata": {
    "tags": []
   },
   "outputs": [],
   "source": [
    "table = QTable(\n",
    "    data=[band, freqs, fwhm, bandwidth],\n",
    "    names=[\"band\", \"center_frequency\", \"fwhm\", \"bandwidth\"],\n",
    ")"
   ]
  },
  {
   "cell_type": "code",
   "execution_count": 10,
   "metadata": {
    "tags": []
   },
   "outputs": [
    {
     "data": {
      "text/html": [
       "<div><i>QTable length=3</i>\n",
       "<table id=\"table23448752690784\" class=\"table-striped table-bordered table-condensed\">\n",
       "<thead><tr><th>band</th><th>center_frequency</th><th>fwhm</th><th>bandwidth</th><th>nside</th></tr></thead>\n",
       "<thead><tr><th></th><th>GHz</th><th>arcmin</th><th>GHz</th><th></th></tr></thead>\n",
       "<thead><tr><th>str6</th><th>float64</th><th>float64</th><th>float64</th><th>int64</th></tr></thead>\n",
       "<tr><td>95GHz</td><td>93.8</td><td>1.57</td><td>26.4</td><td>0</td></tr>\n",
       "<tr><td>150GHz</td><td>147.0</td><td>1.17</td><td>32.5</td><td>0</td></tr>\n",
       "<tr><td>220GHz</td><td>219.9</td><td>1.04</td><td>53.6</td><td>0</td></tr>\n",
       "</table></div>"
      ],
      "text/plain": [
       "<QTable length=3>\n",
       " band  center_frequency   fwhm  bandwidth nside\n",
       "             GHz         arcmin    GHz         \n",
       " str6      float64      float64  float64  int64\n",
       "------ ---------------- ------- --------- -----\n",
       " 95GHz             93.8    1.57      26.4     0\n",
       "150GHz            147.0    1.17      32.5     0\n",
       "220GHz            219.9    1.04      53.6     0"
      ]
     },
     "execution_count": 10,
     "metadata": {},
     "output_type": "execute_result"
    }
   ],
   "source": [
    "table[\"nside\"] = 0\n",
    "table"
   ]
  },
  {
   "cell_type": "code",
   "execution_count": 11,
   "metadata": {
    "tags": []
   },
   "outputs": [],
   "source": [
    "table.add_index(\"band\")"
   ]
  },
  {
   "cell_type": "code",
   "execution_count": 12,
   "metadata": {
    "tags": []
   },
   "outputs": [
    {
     "name": "stdout",
     "output_type": "stream",
     "text": [
      "/mnt/home/azonca/p/software/s4mapbasedsims/private/202308_panexp_spt3g\n"
     ]
    }
   ],
   "source": [
    "cd ../../private/202308_panexp_spt3g"
   ]
  },
  {
   "cell_type": "code",
   "execution_count": 13,
   "metadata": {
    "tags": []
   },
   "outputs": [],
   "source": [
    "table.write(\"spt_instrument_model.ecsv\", overwrite=True)"
   ]
  },
  {
   "cell_type": "code",
   "execution_count": 14,
   "metadata": {
    "tags": []
   },
   "outputs": [],
   "source": [
    "table.meta[\"comments\"] = ipac_warning"
   ]
  },
  {
   "cell_type": "code",
   "execution_count": 15,
   "metadata": {
    "tags": []
   },
   "outputs": [],
   "source": [
    "table.write(\n",
    "    \"spt_instrument_model.tbl\",\n",
    "    format=\"ascii.ipac\",\n",
    "    overwrite=True,\n",
    ")"
   ]
  }
 ],
 "metadata": {
  "kernelspec": {
   "display_name": "so",
   "language": "python",
   "name": "so"
  },
  "language_info": {
   "codemirror_mode": {
    "name": "ipython",
    "version": 3
   },
   "file_extension": ".py",
   "mimetype": "text/x-python",
   "name": "python",
   "nbconvert_exporter": "python",
   "pygments_lexer": "ipython3",
   "version": "3.10.0"
  }
 },
 "nbformat": 4,
 "nbformat_minor": 4
}
