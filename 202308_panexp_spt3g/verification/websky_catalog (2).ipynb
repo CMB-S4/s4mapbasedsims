{
 "cells": [
  {
   "cell_type": "code",
   "execution_count": null,
   "id": "ae929718-cd8f-4581-9a85-c9a8c11c6bb2",
   "metadata": {
    "tags": []
   },
   "outputs": [],
   "source": [
    "ls /global/cfs/cdirs/sobs/www/users/Radio_WebSky/matched_catalogs_2/catalog_2*"
   ]
  },
  {
   "cell_type": "code",
   "execution_count": null,
   "id": "f1a13034-3923-4512-840e-debb1370a5af",
   "metadata": {},
   "outputs": [],
   "source": [
    "import h5py\n",
    "import numpy as np\n",
    "import healpy as hp\n",
    "from pysm3 import units as u\n",
    "import pysm3"
   ]
  },
  {
   "cell_type": "code",
   "execution_count": null,
   "id": "d8aa5edc-02fe-4773-b592-d63e8b5528d3",
   "metadata": {},
   "outputs": [],
   "source": [
    "c = h5py.File(\"/global/cfs/cdirs/sobs/www/users/Radio_WebSky/matched_catalogs_2/catalog_24.5.h5\")"
   ]
  },
  {
   "cell_type": "code",
   "execution_count": null,
   "id": "30550a71-b2c9-4afe-9421-4590c7b24818",
   "metadata": {},
   "outputs": [],
   "source": [
    "list(c.keys())"
   ]
  },
  {
   "cell_type": "code",
   "execution_count": null,
   "id": "b41150b4-aba6-42aa-966e-527f5f203387",
   "metadata": {},
   "outputs": [],
   "source": [
    "np.array(c[\"flux\"]).max()"
   ]
  },
  {
   "cell_type": "code",
   "execution_count": null,
   "id": "50a79f90-f843-45e9-92eb-e35e51e908f8",
   "metadata": {},
   "outputs": [],
   "source": [
    "np.array(c[\"flux\"]).argmax()"
   ]
  },
  {
   "cell_type": "code",
   "execution_count": null,
   "id": "79b4778c-f38b-47e5-b4b4-c65843370469",
   "metadata": {},
   "outputs": [],
   "source": [
    "idx = _"
   ]
  },
  {
   "cell_type": "code",
   "execution_count": null,
   "id": "f9f21308-64a2-4f5b-8f21-02cffbd79b65",
   "metadata": {},
   "outputs": [],
   "source": [
    "gphi = c[\"phi\"][idx]"
   ]
  },
  {
   "cell_type": "code",
   "execution_count": null,
   "id": "4587e0be-a2e1-4195-a93b-661a117ecd76",
   "metadata": {},
   "outputs": [],
   "source": [
    "gtheta = c[\"theta\"][idx]"
   ]
  },
  {
   "cell_type": "code",
   "execution_count": null,
   "id": "8198917f-5adb-4ab1-b401-24d825c270cf",
   "metadata": {},
   "outputs": [],
   "source": [
    "ctheta, cphi = hp.Rotator(coord=(\"G\", \"C\"))(gtheta, gphi)"
   ]
  },
  {
   "cell_type": "code",
   "execution_count": null,
   "id": "443a9d47-46dc-4f57-9548-426758bf0458",
   "metadata": {},
   "outputs": [],
   "source": [
    "clon, clat = hp.vec2ang(hp.ang2vec(ctheta, cphi), lonlat=True)"
   ]
  },
  {
   "cell_type": "code",
   "execution_count": null,
   "id": "af334642-dc9a-4f65-844c-6f4a4caa68ba",
   "metadata": {},
   "outputs": [],
   "source": [
    "clon = clon[0]\n",
    "clat = clat[0]"
   ]
  },
  {
   "cell_type": "code",
   "execution_count": null,
   "id": "4774e461-6b6a-4ff0-be82-5f8ffa3667ef",
   "metadata": {},
   "outputs": [],
   "source": [
    "m_dc0 = hp.read_map(\n",
    "    \"/global/cfs/cdirs/cmbs4/dc/dc0/sky/4096/raw/radio/0000/cmbs4_radio_uKCMB_LAT-LFL1_nside4096_0000.fits\") * u.uK_CMB"
   ]
  },
  {
   "cell_type": "code",
   "execution_count": null,
   "id": "e27a2e00-16d8-4f3c-9e5b-eaad38f203c2",
   "metadata": {},
   "outputs": [],
   "source": [
    "max_pix = m_dc0.argmax()"
   ]
  },
  {
   "cell_type": "code",
   "execution_count": null,
   "id": "8f4aeb5f-d742-4c22-964c-8ee96d05033e",
   "metadata": {},
   "outputs": [],
   "source": [
    "m_dc0[max_pix]"
   ]
  },
  {
   "cell_type": "code",
   "execution_count": null,
   "id": "4cdf6a6d-73f6-4cf8-a68f-11c74f148580",
   "metadata": {},
   "outputs": [],
   "source": [
    "m_dc0.max()"
   ]
  },
  {
   "cell_type": "code",
   "execution_count": null,
   "id": "f264afe3-1896-4518-b5fe-c0fe58843901",
   "metadata": {},
   "outputs": [],
   "source": [
    "hp.pix2ang(4096, max_pix)"
   ]
  },
  {
   "cell_type": "code",
   "execution_count": null,
   "id": "0f2e96c0-5c42-4324-b8ca-8c7c7b83c6ab",
   "metadata": {},
   "outputs": [],
   "source": [
    "ctheta, cphi"
   ]
  },
  {
   "cell_type": "code",
   "execution_count": null,
   "id": "4b7c6e2a-b188-4fc9-afa5-f873484749c9",
   "metadata": {},
   "outputs": [],
   "source": [
    "hp.pix2ang(4096, max_pix, lonlat=True)"
   ]
  },
  {
   "cell_type": "code",
   "execution_count": null,
   "id": "46829591-0132-48ac-b110-cfff5ebad0a1",
   "metadata": {},
   "outputs": [],
   "source": [
    "clon, clat"
   ]
  },
  {
   "cell_type": "code",
   "execution_count": null,
   "id": "68fa4786-adcc-40ff-b5db-0968d609f669",
   "metadata": {},
   "outputs": [],
   "source": [
    "nside = 4096\n",
    "npix = hp.nside2npix(nside)"
   ]
  },
  {
   "cell_type": "code",
   "execution_count": null,
   "id": "b7e6ca81-f612-47b8-bd19-f84df6a6555e",
   "metadata": {},
   "outputs": [],
   "source": [
    "disc_ipix = hp.query_disc(nside, hp.pix2vec(nside, max_pix), np.radians(.5))"
   ]
  },
  {
   "cell_type": "code",
   "execution_count": null,
   "id": "23a53b0d-128d-4449-8331-4cc83b7a0f3b",
   "metadata": {},
   "outputs": [],
   "source": [
    "mask = np.ones(npix, dtype=bool)\n",
    "mask[disc_ipix] = False"
   ]
  },
  {
   "cell_type": "code",
   "execution_count": null,
   "id": "e6d43aa9-d83b-4cbe-8db4-8a3787fd2a5a",
   "metadata": {},
   "outputs": [],
   "source": [
    "m_dc0.sum()"
   ]
  },
  {
   "cell_type": "code",
   "execution_count": null,
   "id": "87e98991-f480-421c-b9a9-f1359ad43279",
   "metadata": {},
   "outputs": [],
   "source": [
    "m_dc0[mask] = hp.UNSEEN * u.uK_CMB"
   ]
  },
  {
   "cell_type": "code",
   "execution_count": null,
   "id": "53ab874f-65e9-4efe-a5ee-9535d49cf7c5",
   "metadata": {},
   "outputs": [],
   "source": [
    "hp.mollview(m_dc0)"
   ]
  },
  {
   "cell_type": "code",
   "execution_count": null,
   "id": "68b88590-ec83-4562-9f8e-098b69534dd2",
   "metadata": {},
   "outputs": [],
   "source": [
    "hp.gnomview(m_dc0, rot=(clon, clat))"
   ]
  },
  {
   "cell_type": "code",
   "execution_count": null,
   "id": "874857d3-d36c-4088-b86a-941a66a065ee",
   "metadata": {},
   "outputs": [],
   "source": [
    "m_dc0[mask] = 0"
   ]
  },
  {
   "cell_type": "code",
   "execution_count": null,
   "id": "1930061c-6502-4949-ad59-7d1f83d3f3cc",
   "metadata": {},
   "outputs": [],
   "source": [
    "m_dc0.sum()"
   ]
  },
  {
   "cell_type": "code",
   "execution_count": null,
   "id": "3628aafa-426b-4853-a35a-cde2c5b375fb",
   "metadata": {},
   "outputs": [],
   "source": [
    "freq = 25.75 * u.GHz"
   ]
  },
  {
   "cell_type": "code",
   "execution_count": null,
   "id": "ef73e5e8-a0e0-4239-96bd-6648e0746900",
   "metadata": {},
   "outputs": [],
   "source": [
    "flux = m_dc0.sum().to(u.Jy/u.sr, equivalencies=u.cmb_equivalencies(freq)) * (hp.nside2pixarea(nside) * u.radian**2)"
   ]
  },
  {
   "cell_type": "code",
   "execution_count": null,
   "id": "a60b8823-ffed-492b-83eb-82443009635b",
   "metadata": {},
   "outputs": [],
   "source": [
    "flux.to(u.Jy)"
   ]
  }
 ],
 "metadata": {
  "kernelspec": {
   "display_name": "so",
   "language": "python",
   "name": "so"
  },
  "language_info": {
   "codemirror_mode": {
    "name": "ipython",
    "version": 3
   },
   "file_extension": ".py",
   "mimetype": "text/x-python",
   "name": "python",
   "nbconvert_exporter": "python",
   "pygments_lexer": "ipython3",
   "version": "3.10.0"
  }
 },
 "nbformat": 4,
 "nbformat_minor": 5
}
