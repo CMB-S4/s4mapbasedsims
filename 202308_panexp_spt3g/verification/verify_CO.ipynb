{
 "cells": [
  {
   "cell_type": "code",
   "execution_count": null,
   "id": "b0dfc691-69f2-489b-aa77-80e421f62194",
   "metadata": {
    "tags": []
   },
   "outputs": [],
   "source": [
    "import healpy as hp\n",
    "from pysm3 import units as u\n",
    "import pysm3\n",
    "import numpy as np\n",
    "import matplotlib.pyplot as plt\n",
    "import toml\n",
    "from pathlib import Path"
   ]
  },
  {
   "cell_type": "code",
   "execution_count": null,
   "id": "9a98a13d-fee3-4c80-b00a-4e60c719d5d8",
   "metadata": {
    "tags": []
   },
   "outputs": [],
   "source": [
    "from astropy.table import QTable"
   ]
  },
  {
   "cell_type": "code",
   "execution_count": null,
   "id": "6d8555e3-fe25-4d5e-b927-ad49bb7ed9ac",
   "metadata": {
    "tags": []
   },
   "outputs": [],
   "source": [
    "cd .."
   ]
  },
  {
   "cell_type": "code",
   "execution_count": null,
   "id": "88b5a97d-9db7-4df9-b717-d53385357fe7",
   "metadata": {
    "tags": []
   },
   "outputs": [],
   "source": [
    "config = toml.load(\"common.toml\")"
   ]
  },
  {
   "cell_type": "code",
   "execution_count": null,
   "id": "fa5f7ba4-4ce0-4a1d-8a44-0813f526afd7",
   "metadata": {},
   "outputs": [],
   "source": [
    "# chs = chs[chs[\"telescope\"]==\"SAT\"]"
   ]
  },
  {
   "cell_type": "code",
   "execution_count": null,
   "id": "71295e14-b224-44b2-8691-9225613fd6e0",
   "metadata": {
    "tags": []
   },
   "outputs": [],
   "source": [
    "from astropy.io import fits"
   ]
  },
  {
   "cell_type": "code",
   "execution_count": null,
   "id": "dbec6cb2-e306-4ab0-ba9d-0919cc60fb58",
   "metadata": {
    "tags": []
   },
   "outputs": [],
   "source": [
    "gal2eq = hp.Rotator(coord=\"GC\")"
   ]
  },
  {
   "cell_type": "code",
   "execution_count": null,
   "id": "aed6750b-3e47-4b7d-8e86-4f1492aa98a8",
   "metadata": {
    "tags": []
   },
   "outputs": [],
   "source": [
    "lines = [\n",
    "           ( \"10\", 115.271 * u.GHz),\n",
    "           ( \"21\", 230.538 * u.GHz),\n",
    "            (\"32\", 345.796 * u.GHz),\n",
    "]"
   ]
  },
  {
   "cell_type": "code",
   "execution_count": null,
   "id": "6da89ea1-f5e6-4fcc-a6ec-ddf5692a36dd",
   "metadata": {
    "tags": []
   },
   "outputs": [],
   "source": [
    "co_line_230_input ={lines[i][0] : (gal2eq.rotate_map_alms(\n",
    "            hp.smoothing(\n",
    "            hp.ud_grade(hp.read_map(\"/mnt/home/azonca/s/pysm-data/co/HFI_CompMap_CO-Type1_2048_R2.00_ring.fits\", i), 512), fwhm=np.radians(1))) * u.K_CMB).to(u.uK_CMB) for i in range(3)}"
   ]
  },
  {
   "cell_type": "code",
   "execution_count": null,
   "id": "836916ce-55b8-4b40-99d8-e91d9a98f80d",
   "metadata": {},
   "outputs": [],
   "source": [
    "hp.mollview(co_line_230_input[\"21\"], min=0, max=1000, title=\"Input 230 GHz CO line map from Planck\")"
   ]
  },
  {
   "cell_type": "code",
   "execution_count": null,
   "id": "0e04319f-a7cb-4837-b92c-63b3eea35056",
   "metadata": {
    "tags": []
   },
   "outputs": [],
   "source": [
    "import mapsims"
   ]
  },
  {
   "cell_type": "code",
   "execution_count": null,
   "id": "cf3d90b2-f15b-4293-9844-42dec5cb61bd",
   "metadata": {
    "tags": []
   },
   "outputs": [],
   "source": [
    "chs = mapsims.parse_channels(instrument_parameters=config[\"instrument_parameters\"])"
   ]
  },
  {
   "cell_type": "code",
   "execution_count": null,
   "id": "58c35a2f-fd60-42a5-b2e5-0592ccd9ce6a",
   "metadata": {
    "tags": []
   },
   "outputs": [],
   "source": [
    "for ch in chs:\n",
    "    for model in [\"co1\", \"co3\"]:\n",
    "        print(ch, model, end=\" - \")\n",
    "        tag = \"co_\" + model\n",
    "        folder = Path(config[\"output_folder\"].format(tag=tag))\n",
    "        filename = config[\"output_filename_template\"].format(tag=tag, telescope=ch.telescope, nside=2048, band=ch.band)\n",
    "        m = pysm3.read_map(folder / filename, nside=512, field=(0,1,2))\n",
    "\n",
    "        # hp.mollview(m[0].value, min=0, max=10, unit=m.unit, title=\"CO low complexity\")\n",
    "\n",
    "        bandpass_frequency, bandpass_weight = ch.bandpass\n",
    "\n",
    "        has_co = False\n",
    "        for line_tag, line_freq in lines:\n",
    "            if line_freq > bandpass_frequency[0] and line_freq < bandpass_frequency[-1]:\n",
    "                has_co = True\n",
    "                break\n",
    "                \n",
    "        if not has_co:\n",
    "            if u.allclose(m,0 * u.uK_CMB):\n",
    "                print(\"No CO emission\")\n",
    "            else:\n",
    "                print(\"Error: there should be no CO emission, instead std of the map is\", np.std(m[0]))\n",
    "        else:\n",
    "            # plt.axvline(0.022, color=\"black\")\n",
    "            # plt.hist(m[0]/co_line_230_input, 1000, range=[0,.1]);\n",
    "\n",
    "            median_map_scale = np.median(m[0]/co_line_230_input[line_tag])\n",
    "\n",
    "            mean_band_normalization = np.interp(line_freq, bandpass_frequency, pysm3.normalize_weights(bandpass_frequency.value, bandpass_weight))\n",
    "\n",
    "            ratio = median_map_scale/mean_band_normalization - 1\n",
    "            \n",
    "            print(f\"CO {line_tag} Emission at {line_freq} is {median_map_scale:.2g} compared to the Planck map, given the bandpass we expect roughly {mean_band_normalization:.2g}, the error is {ratio:.1%}\")\n",
    "            \n",
    "            if model == \"co1\":\n",
    "                assert u.allclose(m[1:], 0*u.uK_CMB), \"CO1 should be unpolarized\"\n",
    "            else:\n",
    "                median_map_scale_pol = np.median(np.sqrt(m[1]**2+m[2]**2)/m[0])\n",
    "                print(f\"In polarization (expected less than .1% due to depolarization): {median_map_scale_pol:.2%}\")\n",
    "                assert median_map_scale_pol < .1/100 and median_map_scale_pol > .01/100\n",
    "            assert ratio > -.5 and ratio < .5"
   ]
  },
  {
   "cell_type": "code",
   "execution_count": null,
   "id": "3d2fa813",
   "metadata": {},
   "outputs": [],
   "source": []
  }
 ],
 "metadata": {
  "kernelspec": {
   "display_name": "Python 3 (ipykernel)",
   "language": "python",
   "name": "python3"
  },
  "language_info": {
   "codemirror_mode": {
    "name": "ipython",
    "version": 3
   },
   "file_extension": ".py",
   "mimetype": "text/x-python",
   "name": "python",
   "nbconvert_exporter": "python",
   "pygments_lexer": "ipython3",
   "version": "3.10.0"
  }
 },
 "nbformat": 4,
 "nbformat_minor": 5
}
