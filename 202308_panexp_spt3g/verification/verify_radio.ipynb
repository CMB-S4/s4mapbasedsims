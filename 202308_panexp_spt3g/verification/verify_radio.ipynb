{
 "cells": [
  {
   "cell_type": "code",
   "execution_count": null,
   "id": "b0dfc691-69f2-489b-aa77-80e421f62194",
   "metadata": {
    "tags": []
   },
   "outputs": [],
   "source": [
    "import healpy as hp\n",
    "from pysm3 import units as u\n",
    "import pysm3\n",
    "import numpy as np\n",
    "import matplotlib.pyplot as plt\n",
    "import toml\n",
    "from pathlib import Path"
   ]
  },
  {
   "cell_type": "code",
   "execution_count": null,
   "id": "9a98a13d-fee3-4c80-b00a-4e60c719d5d8",
   "metadata": {
    "tags": []
   },
   "outputs": [],
   "source": [
    "from astropy.table import QTable"
   ]
  },
  {
   "cell_type": "code",
   "execution_count": null,
   "id": "6d8555e3-fe25-4d5e-b927-ad49bb7ed9ac",
   "metadata": {
    "tags": []
   },
   "outputs": [],
   "source": [
    "cd .."
   ]
  },
  {
   "cell_type": "code",
   "execution_count": null,
   "id": "88b5a97d-9db7-4df9-b717-d53385357fe7",
   "metadata": {
    "tags": []
   },
   "outputs": [],
   "source": [
    "config = toml.load(\"common.toml\")"
   ]
  },
  {
   "cell_type": "code",
   "execution_count": null,
   "id": "b1d65ed1-7c91-4c21-ab5e-aeea37449c3d",
   "metadata": {},
   "outputs": [],
   "source": [
    "config[\"output_folder\"] = \"output/{tag}\""
   ]
  },
  {
   "cell_type": "code",
   "execution_count": null,
   "id": "fa5f7ba4-4ce0-4a1d-8a44-0813f526afd7",
   "metadata": {},
   "outputs": [],
   "source": [
    "# chs = chs[chs[\"telescope\"]==\"SAT\"]"
   ]
  },
  {
   "cell_type": "code",
   "execution_count": null,
   "id": "71295e14-b224-44b2-8691-9225613fd6e0",
   "metadata": {
    "tags": []
   },
   "outputs": [],
   "source": [
    "from astropy.io import fits"
   ]
  },
  {
   "cell_type": "code",
   "execution_count": null,
   "id": "0e04319f-a7cb-4837-b92c-63b3eea35056",
   "metadata": {
    "tags": []
   },
   "outputs": [],
   "source": [
    "import mapsims"
   ]
  },
  {
   "cell_type": "code",
   "execution_count": null,
   "id": "cf3d90b2-f15b-4293-9844-42dec5cb61bd",
   "metadata": {
    "tags": []
   },
   "outputs": [],
   "source": [
    "chs = mapsims.parse_channels(instrument_parameters=config[\"instrument_parameters\"])"
   ]
  },
  {
   "cell_type": "markdown",
   "id": "cf8bc245-36f1-4ac7-a6fa-e8c67c85377f",
   "metadata": {},
   "source": [
    "## Verify radio galaxies\n",
    "\n",
    "In order to verify the Radio Galaxy maps, we take the brightest source (at the lowest frequencies) and check that the flux in Jy is similar to what is in the catalog.\n",
    "I have separately gone through all the input maps and extracted the flux and saved it in a csv file.\n",
    "Then I do a simple aperture photometry calculation to integrate the flux across the whole beam and compare it with the expected flux."
   ]
  },
  {
   "cell_type": "code",
   "execution_count": null,
   "id": "0e5a2e52-86a9-4655-a431-f91a14bc17c3",
   "metadata": {
    "tags": []
   },
   "outputs": [],
   "source": [
    "clon, clat, glon, glat = (32.86660645897463,\n",
    " -50.554023687565746,\n",
    " 275.28891668590967,\n",
    " -62.06147137885603)"
   ]
  },
  {
   "cell_type": "code",
   "execution_count": null,
   "id": "e8521b71-0999-4fab-80dc-1e2fbe12d538",
   "metadata": {
    "tags": []
   },
   "outputs": [],
   "source": [
    "import pandas as pd"
   ]
  },
  {
   "cell_type": "code",
   "execution_count": null,
   "id": "87568862-972f-40c8-8ee1-334f0cbf4833",
   "metadata": {
    "tags": []
   },
   "outputs": [],
   "source": [
    "ref_flux = pd.read_csv(\"verification/reference_source_flux.csv\", index_col=0)"
   ]
  },
  {
   "cell_type": "code",
   "execution_count": null,
   "id": "58c35a2f-fd60-42a5-b2e5-0592ccd9ce6a",
   "metadata": {
    "tags": []
   },
   "outputs": [],
   "source": [
    "for ch in chs:\n",
    "    for model in [\"radio_rg1\"]:\n",
    "        print(ch, model, end=\" - \")\n",
    "        tag = model\n",
    "        folder = Path(config[\"output_folder\"].format(tag=tag))\n",
    "        filename = config[\"output_filename_template\"].format(tag=tag, telescope=ch.telescope, nside=2048, band=ch.band)\n",
    "        m = hp.read_map(folder / filename) * u.uK_CMB\n",
    "        nside = hp.npix2nside(len(m))\n",
    "        vec = hp.ang2vec(clon, clat, lonlat=True)\n",
    "        disc_ipix = hp.query_disc(nside, vec, ch.beam.to_value(u.radian)*2)\n",
    "        flux = m[disc_ipix].sum().to(u.Jy/u.sr, equivalencies=u.cmb_equivalencies(ch.center_frequency)) * (hp.nside2pixarea(nside) * u.sr)\n",
    "        rflux = np.interp(ch.center_frequency.value, np.array(ref_flux.index), ref_flux.values.flatten())*u.Jy\n",
    "        fractional_error = flux/rflux - 1\n",
    "        print(f\"Flux {flux:.2f} Ref flux {rflux:.2f} Ratio {fractional_error:.2%}\")\n",
    "        assert np.abs(fractional_error) < .3\n",
    "        hp.gnomview(m, rot=(clon, clat), title=ch)"
   ]
  },
  {
   "cell_type": "code",
   "execution_count": null,
   "id": "04be60a1-f6ec-4882-b190-7a5e883dd4e9",
   "metadata": {},
   "outputs": [],
   "source": []
  }
 ],
 "metadata": {
  "kernelspec": {
   "display_name": "Python 3 (ipykernel)",
   "language": "python",
   "name": "python3"
  },
  "language_info": {
   "codemirror_mode": {
    "name": "ipython",
    "version": 3
   },
   "file_extension": ".py",
   "mimetype": "text/x-python",
   "name": "python",
   "nbconvert_exporter": "python",
   "pygments_lexer": "ipython3",
   "version": "3.10.0"
  }
 },
 "nbformat": 4,
 "nbformat_minor": 5
}
