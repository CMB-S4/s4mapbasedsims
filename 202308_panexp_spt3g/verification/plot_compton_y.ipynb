{
 "cells": [
  {
   "cell_type": "code",
   "execution_count": null,
   "id": "38d19e0c-d082-4e36-ae27-bb8a045c217d",
   "metadata": {
    "tags": []
   },
   "outputs": [],
   "source": [
    "import pysm3\n",
    "import numpy as np"
   ]
  },
  {
   "cell_type": "code",
   "execution_count": null,
   "id": "87ffca34-e847-4a88-8634-ca59dfc4734c",
   "metadata": {
    "tags": []
   },
   "outputs": [],
   "source": [
    "y = []"
   ]
  },
  {
   "cell_type": "code",
   "execution_count": null,
   "id": "72a15e04-621e-431b-87d4-dd719ad962e9",
   "metadata": {
    "tags": []
   },
   "outputs": [],
   "source": [
    "freq = np.arange(20, 280, 20)"
   ]
  },
  {
   "cell_type": "code",
   "execution_count": null,
   "id": "0a5af94a-4b6e-44e9-8d5a-069b3cdd33b6",
   "metadata": {
    "tags": []
   },
   "outputs": [],
   "source": [
    "for f in freq:\n",
    "    y.append(pysm3.models.websky.y2uK_CMB(f))"
   ]
  },
  {
   "cell_type": "code",
   "execution_count": null,
   "id": "f25164cb-f318-4b23-bf8b-26374fd68e58",
   "metadata": {},
   "outputs": [],
   "source": []
  },
  {
   "cell_type": "code",
   "execution_count": null,
   "id": "eaff63da-61d9-45bd-a944-1c3c8c1a09ef",
   "metadata": {
    "tags": []
   },
   "outputs": [],
   "source": [
    "import healpy as hp\n",
    "import matplotlib.pyplot as plt"
   ]
  },
  {
   "cell_type": "code",
   "execution_count": null,
   "id": "91c89a0c-09ee-48bd-9ad7-11e5cc14d62e",
   "metadata": {
    "tags": []
   },
   "outputs": [],
   "source": [
    "plt.plot(freq, y)\n",
    "plt.grid()"
   ]
  },
  {
   "cell_type": "code",
   "execution_count": null,
   "id": "05a73b5a-de6b-40b9-bd31-e00375b0c925",
   "metadata": {
    "tags": []
   },
   "outputs": [],
   "source": [
    "%matplotlib inline"
   ]
  },
  {
   "cell_type": "code",
   "execution_count": null,
   "id": "e6fd414c-16e7-4b85-839b-c58c9e0b5e60",
   "metadata": {
    "tags": []
   },
   "outputs": [],
   "source": [
    "pysm3.read_map(\"../../output/ksz_ksz1/cmbs4_ksz_ksz1_uKCMB_SAT-SAT_f030_nside512.fits\", nside=512)"
   ]
  },
  {
   "cell_type": "code",
   "execution_count": null,
   "id": "b8e760e8-fbe1-447a-813e-7fc6f8e6bdad",
   "metadata": {
    "tags": []
   },
   "outputs": [],
   "source": [
    "hp.mollview(_)"
   ]
  },
  {
   "cell_type": "code",
   "execution_count": null,
   "id": "8f62f26f-96c2-4800-9507-3d474d03b626",
   "metadata": {},
   "outputs": [],
   "source": []
  }
 ],
 "metadata": {
  "kernelspec": {
   "display_name": "Python 3 (ipykernel)",
   "language": "python",
   "name": "python3"
  },
  "language_info": {
   "codemirror_mode": {
    "name": "ipython",
    "version": 3
   },
   "file_extension": ".py",
   "mimetype": "text/x-python",
   "name": "python",
   "nbconvert_exporter": "python",
   "pygments_lexer": "ipython3",
   "version": "3.10.0"
  }
 },
 "nbformat": 4,
 "nbformat_minor": 5
}
