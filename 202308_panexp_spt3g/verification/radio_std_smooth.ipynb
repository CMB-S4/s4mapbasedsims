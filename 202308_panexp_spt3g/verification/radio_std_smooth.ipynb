{
 "cells": [
  {
   "cell_type": "code",
   "execution_count": null,
   "id": "aba58897-d120-485f-80e1-891a8abe6928",
   "metadata": {
    "tags": []
   },
   "outputs": [],
   "source": [
    "import healpy as hp\n",
    "import matplotlib.pyplot as plt\n",
    "import numpy as np"
   ]
  },
  {
   "cell_type": "code",
   "execution_count": null,
   "id": "89006f4b-6426-49ce-80ca-fd03ff858200",
   "metadata": {
    "tags": []
   },
   "outputs": [],
   "source": [
    "cd ~/s/pysm-data/websky/0.4/radio"
   ]
  },
  {
   "cell_type": "code",
   "execution_count": null,
   "id": "4f7432e3-91e4-4e73-913f-5fbca350adf2",
   "metadata": {
    "tags": []
   },
   "outputs": [],
   "source": [
    "radio_files = !ls "
   ]
  },
  {
   "cell_type": "code",
   "execution_count": null,
   "id": "c8c3cde7-4460-4e43-ac52-cda993a64987",
   "metadata": {
    "tags": []
   },
   "outputs": [],
   "source": [
    "radio_std = []\n",
    "for filename in radio_files:\n",
    "    print(filename)\n",
    "    radio_std.append((\n",
    "        float(filename.split(\"_\")[1].replace(\".fits\",\"\")), hp.smoothing(hp.read_map(filename), fwhm=np.radians(1/60)).std()))"
   ]
  },
  {
   "cell_type": "code",
   "execution_count": null,
   "id": "003a6e65-a62e-4bf0-be91-8e869b7dadb4",
   "metadata": {
    "tags": []
   },
   "outputs": [],
   "source": [
    "import pandas as pd"
   ]
  },
  {
   "cell_type": "code",
   "execution_count": null,
   "id": "184aa49c-d1c7-46f8-8e05-6010fc5d05fe",
   "metadata": {
    "tags": []
   },
   "outputs": [],
   "source": [
    "rg_std = pd.Series(dict(radio_std))"
   ]
  },
  {
   "cell_type": "code",
   "execution_count": null,
   "id": "286b4bcd-71f8-46fd-8345-5568f26277e6",
   "metadata": {
    "tags": []
   },
   "outputs": [],
   "source": [
    "from pysm3 import units as u"
   ]
  },
  {
   "cell_type": "code",
   "execution_count": null,
   "id": "ffc3f0cb-15b1-4266-85a8-db6420c46b5c",
   "metadata": {
    "tags": []
   },
   "outputs": [],
   "source": [
    "np.array(rg_std.index) * u.GHz"
   ]
  },
  {
   "cell_type": "code",
   "execution_count": null,
   "id": "578a6295-13f2-49cb-beb4-e708d1bfc63f",
   "metadata": {
    "tags": []
   },
   "outputs": [],
   "source": [
    "unit_conv = (1 * u.Jy / u.sr).to(u.uK_CMB, equivalencies=u.cmb_equivalencies(np.array(rg_std.index) * u.GHz)).value"
   ]
  },
  {
   "cell_type": "code",
   "execution_count": null,
   "id": "b1164a04-0de9-4d53-a6b0-72f3dae4260e",
   "metadata": {
    "tags": []
   },
   "outputs": [],
   "source": [
    "rg_std_uK_CMB = rg_std * unit_conv"
   ]
  },
  {
   "cell_type": "code",
   "execution_count": null,
   "id": "d4f317b3-cf84-4a02-90e2-1f615905ef8c",
   "metadata": {
    "tags": []
   },
   "outputs": [],
   "source": [
    "rg_std_uK_CMB.plot()\n",
    "plt.grid()"
   ]
  },
  {
   "cell_type": "code",
   "execution_count": null,
   "id": "6e4d7af5-e0bd-4235-840b-dabed0ceb477",
   "metadata": {
    "tags": []
   },
   "outputs": [],
   "source": [
    "rg_std_uK_CMB"
   ]
  },
  {
   "cell_type": "code",
   "execution_count": null,
   "id": "812b8fc3-2e0e-4622-a412-9c1ba6242a66",
   "metadata": {
    "tags": []
   },
   "outputs": [],
   "source": [
    "radio_std"
   ]
  },
  {
   "cell_type": "code",
   "execution_count": null,
   "id": "96afe6cc",
   "metadata": {
    "tags": []
   },
   "outputs": [],
   "source": [
    "import pandas as pd"
   ]
  }
 ],
 "metadata": {
  "kernelspec": {
   "display_name": "so",
   "language": "python",
   "name": "so"
  },
  "language_info": {
   "codemirror_mode": {
    "name": "ipython",
    "version": 3
   },
   "file_extension": ".py",
   "mimetype": "text/x-python",
   "name": "python",
   "nbconvert_exporter": "python",
   "pygments_lexer": "ipython3",
   "version": "3.10.0"
  }
 },
 "nbformat": 4,
 "nbformat_minor": 5
}
