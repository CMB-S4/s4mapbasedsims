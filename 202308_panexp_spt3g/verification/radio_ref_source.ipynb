{
 "cells": [
  {
   "cell_type": "code",
   "execution_count": null,
   "id": "aba58897-d120-485f-80e1-891a8abe6928",
   "metadata": {
    "tags": []
   },
   "outputs": [],
   "source": [
    "import healpy as hp\n",
    "import matplotlib.pyplot as plt\n",
    "import numpy as np\n",
    "from pathlib import Path"
   ]
  },
  {
   "cell_type": "code",
   "execution_count": null,
   "id": "89006f4b-6426-49ce-80ca-fd03ff858200",
   "metadata": {
    "tags": []
   },
   "outputs": [],
   "source": [
    "folder = Path(\"/mnt/home/azonca/s/pysm-data/websky/0.4/radio/\")"
   ]
  },
  {
   "cell_type": "code",
   "execution_count": null,
   "id": "4f7432e3-91e4-4e73-913f-5fbca350adf2",
   "metadata": {
    "tags": []
   },
   "outputs": [],
   "source": [
    "radio_files = !ls $folder "
   ]
  },
  {
   "cell_type": "code",
   "execution_count": null,
   "id": "96c3fce7-34bd-4e76-a1f2-523ff0504ae9",
   "metadata": {
    "tags": []
   },
   "outputs": [],
   "source": [
    "radio_files"
   ]
  },
  {
   "cell_type": "code",
   "execution_count": null,
   "id": "51d8f56a-47d7-42c2-af59-b40f5514f866",
   "metadata": {
    "tags": []
   },
   "outputs": [],
   "source": [
    "ref_pix = 189596988"
   ]
  },
  {
   "cell_type": "code",
   "execution_count": null,
   "id": "eed38124-e763-4179-aa6b-ed6f7e927425",
   "metadata": {
    "tags": []
   },
   "outputs": [],
   "source": [
    "radio_source = []\n",
    "for filename in radio_files:\n",
    "    print(filename)\n",
    "    radio_source.append((\n",
    "        float(filename.split(\"_\")[1].replace(\".fits\",\"\")), hp.read_map(folder / filename)[ref_pix]))"
   ]
  },
  {
   "cell_type": "code",
   "execution_count": null,
   "id": "c640df70-306d-4608-96d6-912851405b07",
   "metadata": {
    "tags": []
   },
   "outputs": [],
   "source": [
    "clon, clat, glon, glat = (32.86660645897463,\n",
    " -50.554023687565746,\n",
    " 275.28891668590967,\n",
    " -62.06147137885603)"
   ]
  },
  {
   "cell_type": "code",
   "execution_count": null,
   "id": "d9dd3f91-7f91-4a58-ac05-9c763a04c5bd",
   "metadata": {
    "tags": []
   },
   "outputs": [],
   "source": [
    "hp.ang2pix(4096,glon, glat, lonlat=True)"
   ]
  },
  {
   "cell_type": "code",
   "execution_count": null,
   "id": "003a6e65-a62e-4bf0-be91-8e869b7dadb4",
   "metadata": {
    "tags": []
   },
   "outputs": [],
   "source": [
    "import pandas as pd"
   ]
  },
  {
   "cell_type": "code",
   "execution_count": null,
   "id": "286b4bcd-71f8-46fd-8345-5568f26277e6",
   "metadata": {
    "tags": []
   },
   "outputs": [],
   "source": [
    "from pysm3 import units as u"
   ]
  },
  {
   "cell_type": "code",
   "execution_count": null,
   "id": "6cffb871-4428-4778-909a-5a44777300af",
   "metadata": {
    "tags": []
   },
   "outputs": [],
   "source": [
    "source = pd.Series(dict(radio_source))"
   ]
  },
  {
   "cell_type": "code",
   "execution_count": null,
   "id": "407b39ce-28a1-43d6-8338-fcbed89f757a",
   "metadata": {
    "tags": []
   },
   "outputs": [],
   "source": [
    "source *= hp.nside2pixarea(4096)"
   ]
  },
  {
   "cell_type": "code",
   "execution_count": null,
   "id": "0f762785-6cf6-4377-b7ec-0a3badc7c9d9",
   "metadata": {
    "tags": []
   },
   "outputs": [],
   "source": [
    "source.plot()\n",
    "plt.grid()"
   ]
  },
  {
   "cell_type": "code",
   "execution_count": null,
   "id": "4ab47fc4-e769-4296-9854-418620a20584",
   "metadata": {
    "tags": []
   },
   "outputs": [],
   "source": [
    "source.index.name = \"Frequency [GHz]\""
   ]
  },
  {
   "cell_type": "code",
   "execution_count": null,
   "id": "084cee88-b74d-4957-a898-78b67b073472",
   "metadata": {
    "tags": []
   },
   "outputs": [],
   "source": [
    "source.name = \"Flux [Jy]\""
   ]
  },
  {
   "cell_type": "code",
   "execution_count": null,
   "id": "4969caa2-2f7a-401a-8b8c-7551d5875f18",
   "metadata": {},
   "outputs": [],
   "source": [
    "source"
   ]
  },
  {
   "cell_type": "code",
   "execution_count": null,
   "id": "3e157f84-b9b2-42d1-a257-509c6c322950",
   "metadata": {
    "tags": []
   },
   "outputs": [],
   "source": [
    "source.to_csv(\"reference_source_flux.csv\")"
   ]
  },
  {
   "cell_type": "code",
   "execution_count": null,
   "id": "417f3f8e-d38c-45b7-b74c-574a92ce5bd7",
   "metadata": {
    "tags": []
   },
   "outputs": [],
   "source": [
    "!cat reference_source_flux.csv"
   ]
  }
 ],
 "metadata": {
  "kernelspec": {
   "display_name": "so",
   "language": "python",
   "name": "so"
  },
  "language_info": {
   "codemirror_mode": {
    "name": "ipython",
    "version": 3
   },
   "file_extension": ".py",
   "mimetype": "text/x-python",
   "name": "python",
   "nbconvert_exporter": "python",
   "pygments_lexer": "ipython3",
   "version": "3.10.0"
  }
 },
 "nbformat": 4,
 "nbformat_minor": 5
}
